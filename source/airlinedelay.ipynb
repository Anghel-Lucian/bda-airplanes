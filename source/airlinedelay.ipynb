{
 "cells": [
  {
   "cell_type": "code",
   "execution_count": 2,
   "metadata": {},
   "outputs": [],
   "source": [
    "from pyspark.sql import SparkSession\n",
    "from pyspark.sql.types import StructType, StructField\n",
    "from pyspark.sql.types import StringType, IntegerType, DateType, DoubleType\n",
    "from pyspark.sql import functions"
   ]
  },
  {
   "cell_type": "code",
   "execution_count": 3,
   "metadata": {},
   "outputs": [
    {
     "name": "stderr",
     "output_type": "stream",
     "text": [
      "c:\\Users\\andre\\AppData\\Local\\Programs\\Python\\Python36\\lib\\site-packages\\pyspark\\context.py:238: FutureWarning: Python 3.6 support is deprecated in Spark 3.2.\n",
      "  FutureWarning\n"
     ]
    }
   ],
   "source": [
    "spark = SparkSession \\\n",
    "    .builder \\\n",
    "    .appName(\"airlinedelay\") \\\n",
    "    .getOrCreate()\n",
    "\n",
    "context = spark.sparkContext"
   ]
  },
  {
   "cell_type": "code",
   "execution_count": 4,
   "metadata": {},
   "outputs": [],
   "source": [
    "schema = StructType([\n",
    "    StructField(\"FL_DATE\", DateType(), True),\n",
    "    StructField(\"OP_CARRIER\", StringType(), True),\n",
    "    StructField(\"OP_CARRIER_FL_NUM\", IntegerType(), True),\n",
    "    StructField(\"ORIGIN\", StringType(), True),\n",
    "    StructField(\"DEST\", StringType(), True),\n",
    "    StructField(\"CRS_DEP_TIME\", DoubleType(), True),\n",
    "    StructField(\"DEP_TIME\", DoubleType(), True),\n",
    "    StructField(\"DEP_DELAY\", DoubleType(), True),\n",
    "    StructField(\"TAXI_OUT\", DoubleType(), True),\n",
    "    StructField(\"WHEELS_OFF\", DoubleType(), True),\n",
    "    StructField(\"WHEELS_ON\", DoubleType(), True),\n",
    "    StructField(\"TAXI_IN\", DoubleType(), True),\n",
    "    StructField(\"CRS_ARR_TIME\", DoubleType(), True),\n",
    "    StructField(\"ARR_TIME\", DoubleType(), True),\n",
    "    StructField(\"ARR_DELAY\", DoubleType(), True),\n",
    "    StructField(\"CANCELLED\", DoubleType(), True),\n",
    "    StructField(\"CANCELLATION_CODE\", StringType(), True),\n",
    "    StructField(\"DIVERTED\", DoubleType(), True),\n",
    "    StructField(\"CRS_ELAPSED_TIME\", DoubleType(), True),\n",
    "    StructField(\"ACTUAL_ELAPSED_TIME\", DoubleType(), True),\n",
    "    StructField(\"AIR_TIME\", DoubleType(), True),\n",
    "    StructField(\"DISTANCE\", DoubleType(), True),\n",
    "    StructField(\"CARRIER_DELAY\", DoubleType(), True),\n",
    "    StructField(\"WEATHER_DELAY\", DoubleType(), True),\n",
    "    StructField(\"NAS_DELAY\", DoubleType(), True),\n",
    "    StructField(\"SECURITY_DELAY\", DoubleType(), True),\n",
    "    StructField(\"LATE_AIRCRAFT_DELAY\", DoubleType(), True)\n",
    "])\n",
    "\n",
    "df = spark.read.format(\"csv\") \\\n",
    "    .option(\"sep\", \",\") \\\n",
    "    .option(\"header\", True) \\\n",
    "    .schema(schema) \\\n",
    "    .load(\"*.csv\")\n",
    "\n",
    "df.createOrReplaceTempView(\"airlinedelay\")"
   ]
  },
  {
   "cell_type": "code",
   "execution_count": 5,
   "metadata": {},
   "outputs": [
    {
     "name": "stdout",
     "output_type": "stream",
     "text": [
      "+----------+----------+-----------------+------+----+------------+--------+---------+--------+----------+---------+-------+------------+--------+---------+---------+-----------------+--------+----------------+-------------------+--------+--------+-------------+-------------+---------+--------------+-------------------+\n",
      "|   FL_DATE|OP_CARRIER|OP_CARRIER_FL_NUM|ORIGIN|DEST|CRS_DEP_TIME|DEP_TIME|DEP_DELAY|TAXI_OUT|WHEELS_OFF|WHEELS_ON|TAXI_IN|CRS_ARR_TIME|ARR_TIME|ARR_DELAY|CANCELLED|CANCELLATION_CODE|DIVERTED|CRS_ELAPSED_TIME|ACTUAL_ELAPSED_TIME|AIR_TIME|DISTANCE|CARRIER_DELAY|WEATHER_DELAY|NAS_DELAY|SECURITY_DELAY|LATE_AIRCRAFT_DELAY|\n",
      "+----------+----------+-----------------+------+----+------------+--------+---------+--------+----------+---------+-------+------------+--------+---------+---------+-----------------+--------+----------------+-------------------+--------+--------+-------------+-------------+---------+--------------+-------------------+\n",
      "|2016-01-01|        DL|             1248|   DTW| LAX|      1935.0|  1935.0|      0.0|    23.0|    1958.0|   2107.0|   13.0|      2144.0|  2120.0|    -24.0|      0.0|             null|     0.0|           309.0|              285.0|   249.0|  1979.0|         null|         null|     null|          null|               null|\n",
      "|2016-01-01|        DL|             1251|   ATL| GRR|      2125.0|  2130.0|      5.0|    13.0|    2143.0|   2315.0|    4.0|      2321.0|  2319.0|     -2.0|      0.0|             null|     0.0|           116.0|              109.0|    92.0|   640.0|         null|         null|     null|          null|               null|\n",
      "|2016-01-01|        DL|             1254|   LAX| ATL|      2255.0|  2256.0|      1.0|    19.0|    2315.0|    542.0|    5.0|       600.0|   547.0|    -13.0|      0.0|             null|     0.0|           245.0|              231.0|   207.0|  1947.0|         null|         null|     null|          null|               null|\n",
      "|2016-01-01|        DL|             1255|   SLC| ATL|      1656.0|  1700.0|      4.0|    12.0|    1712.0|   2205.0|    8.0|      2229.0|  2213.0|    -16.0|      0.0|             null|     0.0|           213.0|              193.0|   173.0|  1590.0|         null|         null|     null|          null|               null|\n",
      "|2016-01-01|        DL|             1256|   BZN| MSP|       900.0|  1012.0|     72.0|    63.0|    1115.0|   1416.0|    4.0|      1216.0|  1420.0|    124.0|      0.0|             null|     0.0|           136.0|              188.0|   121.0|   874.0|         72.0|          0.0|     52.0|           0.0|                0.0|\n",
      "|2016-01-01|        DL|             1257|   ATL| BNA|      1233.0|  1356.0|     83.0|    22.0|    1418.0|   1356.0|    6.0|      1239.0|  1402.0|     83.0|      0.0|             null|     0.0|            66.0|               66.0|    38.0|   214.0|         43.0|          0.0|      0.0|           0.0|               40.0|\n",
      "|2016-01-01|        DL|             1257|   BNA| ATL|      1320.0|  1446.0|     86.0|    15.0|    1501.0|   1638.0|    6.0|      1530.0|  1644.0|     74.0|      0.0|             null|     0.0|            70.0|               58.0|    37.0|   214.0|          3.0|          0.0|      0.0|           0.0|               71.0|\n",
      "|2016-01-01|        DL|             1258|   ATL| JAX|       945.0|   946.0|      1.0|    19.0|    1005.0|   1050.0|    3.0|      1050.0|  1053.0|      3.0|      0.0|             null|     0.0|            65.0|               67.0|    45.0|   270.0|         null|         null|     null|          null|               null|\n",
      "|2016-01-01|        DL|             1258|   JAX| ATL|      1145.0|  1144.0|     -1.0|    12.0|    1156.0|   1239.0|    8.0|      1302.0|  1247.0|    -15.0|      0.0|             null|     0.0|            77.0|               63.0|    43.0|   270.0|         null|         null|     null|          null|               null|\n",
      "|2016-01-01|        DL|             1259|   ATL| OKC|      2110.0|  2107.0|     -3.0|    16.0|    2123.0|   2219.0|    5.0|      2236.0|  2224.0|    -12.0|      0.0|             null|     0.0|           146.0|              137.0|   116.0|   761.0|         null|         null|     null|          null|               null|\n",
      "|2016-01-01|        DL|             1260|   MSP| SMF|      1115.0|  1113.0|     -2.0|    12.0|    1125.0|   1232.0|    4.0|      1309.0|  1236.0|    -33.0|      0.0|             null|     0.0|           234.0|              203.0|   187.0|  1517.0|         null|         null|     null|          null|               null|\n",
      "|2016-01-01|        DL|             1262|   LAX| JFK|      2255.0|  2248.0|     -7.0|    23.0|    2311.0|    650.0|   11.0|       715.0|   701.0|    -14.0|      0.0|             null|     0.0|           320.0|              313.0|   279.0|  2475.0|         null|         null|     null|          null|               null|\n",
      "|2016-01-01|        DL|             1263|   ATL| MDT|      1510.0|  1509.0|     -1.0|    17.0|    1526.0|   1646.0|    5.0|      1702.0|  1651.0|    -11.0|      0.0|             null|     0.0|           112.0|              102.0|    80.0|   620.0|         null|         null|     null|          null|               null|\n",
      "|2016-01-01|        DL|             1263|   MDT| ATL|      1737.0|  1727.0|    -10.0|    11.0|    1738.0|   1923.0|   11.0|      1949.0|  1934.0|    -15.0|      0.0|             null|     0.0|           132.0|              127.0|   105.0|   620.0|         null|         null|     null|          null|               null|\n",
      "|2016-01-01|        DL|             1264|   SLC| JFK|      2345.0|  2341.0|     -4.0|    25.0|       6.0|    602.0|   11.0|       607.0|   613.0|      6.0|      0.0|             null|     0.0|           262.0|              272.0|   236.0|  1990.0|         null|         null|     null|          null|               null|\n",
      "|2016-01-01|        DL|             1265|   SAV| ATL|      1408.0|  1403.0|     -5.0|    15.0|    1418.0|   1459.0|    6.0|      1523.0|  1505.0|    -18.0|      0.0|             null|     0.0|            75.0|               62.0|    41.0|   214.0|         null|         null|     null|          null|               null|\n",
      "|2016-01-01|        DL|             1266|   BUF| ATL|       615.0|   612.0|     -3.0|    38.0|     650.0|    844.0|    5.0|       843.0|   849.0|      6.0|      0.0|             null|     0.0|           148.0|              157.0|   114.0|   712.0|         null|         null|     null|          null|               null|\n",
      "|2016-01-01|        DL|             1269|   LGA| MIA|      1100.0|  1100.0|      0.0|    15.0|    1115.0|   1402.0|    4.0|      1432.0|  1406.0|    -26.0|      0.0|             null|     0.0|           212.0|              186.0|   167.0|  1096.0|         null|         null|     null|          null|               null|\n",
      "|2016-01-01|        DL|             1270|   ATL| PNS|      1340.0|  1337.0|     -3.0|    11.0|    1348.0|   1339.0|    3.0|      1352.0|  1342.0|    -10.0|      0.0|             null|     0.0|            72.0|               65.0|    51.0|   271.0|         null|         null|     null|          null|               null|\n",
      "|2016-01-01|        DL|             1270|   PNS| ATL|      1435.0|  1431.0|     -4.0|    10.0|    1441.0|   1622.0|    6.0|      1648.0|  1628.0|    -20.0|      0.0|             null|     0.0|            73.0|               57.0|    41.0|   271.0|         null|         null|     null|          null|               null|\n",
      "+----------+----------+-----------------+------+----+------------+--------+---------+--------+----------+---------+-------+------------+--------+---------+---------+-----------------+--------+----------------+-------------------+--------+--------+-------------+-------------+---------+--------------+-------------------+\n",
      "only showing top 20 rows\n",
      "\n"
     ]
    }
   ],
   "source": [
    "df.show()"
   ]
  },
  {
   "cell_type": "markdown",
   "metadata": {},
   "source": [
    "TOTAL RECORDS"
   ]
  },
  {
   "cell_type": "code",
   "execution_count": 6,
   "metadata": {},
   "outputs": [
    {
     "name": "stdout",
     "output_type": "stream",
     "text": [
      "+--------+\n",
      "|count(1)|\n",
      "+--------+\n",
      "|18505725|\n",
      "+--------+\n",
      "\n"
     ]
    }
   ],
   "source": [
    "spark.sql(\"SELECT count(*) FROM airlinedelay\").show()"
   ]
  },
  {
   "cell_type": "markdown",
   "metadata": {},
   "source": [
    "AVERAGE DELAY PER CARRIER"
   ]
  },
  {
   "cell_type": "code",
   "execution_count": 7,
   "metadata": {},
   "outputs": [
    {
     "name": "stdout",
     "output_type": "stream",
     "text": [
      "+----------+----------------------+\n",
      "|OP_CARRIER|AverageDelayPerCarrier|\n",
      "+----------+----------------------+\n",
      "|        UA|    10.278980344114846|\n",
      "|        NK|    10.700513437694813|\n",
      "|        AA|     9.066959081056941|\n",
      "|        EV|    11.148128206783854|\n",
      "|        B6|    15.200864970979463|\n",
      "|        DL|     7.960301749447361|\n",
      "|        OO|     9.429711727536278|\n",
      "|        F9|      15.2304576842065|\n",
      "|        HA|    0.7659547001036925|\n",
      "|        AS|    1.8643307703390406|\n",
      "|        VX|    11.589373221751949|\n",
      "|        WN|    10.171177289646476|\n",
      "|        YV|    11.226540641280463|\n",
      "|        MQ|     7.765102407574455|\n",
      "|        OH|    12.038331703552174|\n",
      "|        G4|    12.922574968839358|\n",
      "|        YX|    7.3396549135325335|\n",
      "|        9E|    10.732733205423273|\n",
      "+----------+----------------------+\n",
      "\n"
     ]
    }
   ],
   "source": [
    "spark.sql(\"SELECT OP_CARRIER, AVG(DEP_DELAY) AS AverageDelayPerCarrier FROM airlinedelay GROUP BY OP_CARRIER\").show()"
   ]
  },
  {
   "cell_type": "markdown",
   "metadata": {},
   "source": [
    "COMPANY WITH THE LARGEST AVERAGE DELAY"
   ]
  },
  {
   "cell_type": "code",
   "execution_count": 16,
   "metadata": {},
   "outputs": [
    {
     "name": "stdout",
     "output_type": "stream",
     "text": [
      "+----------+----------------------+\n",
      "|OP_CARRIER|AverageDelayPerCarrier|\n",
      "+----------+----------------------+\n",
      "|        F9|      15.2304576842065|\n",
      "+----------+----------------------+\n",
      "\n"
     ]
    }
   ],
   "source": [
    "spark.sql(\"SELECT OP_CARRIER, AVG(DEP_DELAY) AS AverageDelayPerCarrier FROM airlinedelay GROUP BY OP_CARRIER ORDER BY AVG(DEP_DELAY) DESC LIMIT 1\").show()"
   ]
  },
  {
   "cell_type": "markdown",
   "metadata": {},
   "source": [
    "AVERAGE DELAY PER DEPARTURE LOCATION"
   ]
  },
  {
   "cell_type": "code",
   "execution_count": 14,
   "metadata": {},
   "outputs": [
    {
     "name": "stdout",
     "output_type": "stream",
     "text": [
      "+------+----------------------+\n",
      "|ORIGIN|AverageDelayPerCarrier|\n",
      "+------+----------------------+\n",
      "|   ENV|                 157.0|\n",
      "|   YNG|                  63.0|\n",
      "|   TKI|                  45.0|\n",
      "|   ART|    36.333333333333336|\n",
      "|   PPG|     35.97506925207756|\n",
      "|   OTH|     28.42184154175589|\n",
      "|   OWB|    27.635514018691588|\n",
      "|   HGR|     26.76086956521739|\n",
      "|   LWB|     25.70921985815603|\n",
      "|   MMH|    25.641196013289036|\n",
      "|   UST|           24.77734375|\n",
      "|   SCK|    24.265856950067477|\n",
      "|   PSM|    24.225589225589225|\n",
      "|   MVY|     23.75155925155925|\n",
      "|   ACK|     22.99314442413163|\n",
      "|   SLN|    22.279411764705884|\n",
      "|   BLV|    21.368941641938676|\n",
      "|   PGV|    20.689987937273823|\n",
      "|   LCK|    19.771668219944083|\n",
      "|   HYA|     19.64569536423841|\n",
      "|   OGD|                19.064|\n",
      "|   MEI|    18.834141610087293|\n",
      "|   HTS|     18.10320284697509|\n",
      "|   SWF|    18.082712765957446|\n",
      "|   BKG|    17.536231884057973|\n",
      "|   CKB|    17.374164810690424|\n",
      "|   EGE|     17.31171101184696|\n",
      "|   USA|    17.065372829417772|\n",
      "|   TTN|     16.26841634357292|\n",
      "|   SHD|    16.204651162790697|\n",
      "|   ORH|    15.946822308690013|\n",
      "|   STC|     15.86111111111111|\n",
      "|   CMX|    15.734624697336562|\n",
      "|   LYH|    15.692232055063913|\n",
      "|   ASE|    15.415834658187599|\n",
      "|   BQN|    15.348264277715565|\n",
      "|   MQT|    14.855240098142307|\n",
      "|   EWR|    14.759067931830062|\n",
      "|   CHO|    14.586294159327867|\n",
      "|   PVU|    14.472222222222221|\n",
      "|   APN|    14.468478260869565|\n",
      "|   HPN|    14.239586487304814|\n",
      "|   OGS|    13.984126984126984|\n",
      "|   CIU|     13.96693386773547|\n",
      "|   STS|    13.883684001587932|\n",
      "|   ACV|    13.877887788778878|\n",
      "|   AVL|    13.586238085298824|\n",
      "|   LGA|    13.352693928726154|\n",
      "|   PIB|     13.24087956021989|\n",
      "|   CHA|    13.177111716621253|\n",
      "+------+----------------------+\n",
      "only showing top 50 rows\n",
      "\n"
     ]
    }
   ],
   "source": [
    "spark.sql(\"SELECT ORIGIN, AVG(DEP_DELAY) AS AverageDelayPerCarrier FROM airlinedelay GROUP BY ORIGIN ORDER BY AVG(DEP_DELAY) DESC\").show(50)"
   ]
  },
  {
   "cell_type": "markdown",
   "metadata": {},
   "source": [
    "DEPARTURE LOCATION WITH THE LARGEST AVERAGE DELAY"
   ]
  },
  {
   "cell_type": "code",
   "execution_count": 11,
   "metadata": {},
   "outputs": [
    {
     "name": "stdout",
     "output_type": "stream",
     "text": [
      "+------+----------------------+\n",
      "|ORIGIN|AverageDelayPerCarrier|\n",
      "+------+----------------------+\n",
      "|   ENV|                 157.0|\n",
      "+------+----------------------+\n",
      "\n"
     ]
    }
   ],
   "source": [
    "spark.sql(\"SELECT ORIGIN, AVG(DEP_DELAY) AS AverageDelayPerCarrier FROM airlinedelay GROUP BY ORIGIN ORDER BY AVG(DEP_DELAY) DESC LIMIT 1\").show()"
   ]
  }
 ],
 "metadata": {
  "kernelspec": {
   "display_name": "Python 3 (ipykernel)",
   "language": "python",
   "name": "python3"
  },
  "language_info": {
   "codemirror_mode": {
    "name": "ipython",
    "version": 3
   },
   "file_extension": ".py",
   "mimetype": "text/x-python",
   "name": "python",
   "nbconvert_exporter": "python",
   "pygments_lexer": "ipython3",
   "version": "3.8.10"
  },
  "vscode": {
   "interpreter": {
    "hash": "bb41c486c9a952ea9ab660fc5492da8d93953408d86caf7fa1d34391fa6c6cf3"
   }
  }
 },
 "nbformat": 4,
 "nbformat_minor": 4
}
