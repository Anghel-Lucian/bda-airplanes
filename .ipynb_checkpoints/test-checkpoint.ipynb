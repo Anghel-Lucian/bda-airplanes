{
 "cells": [
  {
   "cell_type": "code",
   "execution_count": null,
   "id": "ae2089f4-4713-4bda-9724-5e7532803f89",
   "metadata": {},
   "outputs": [],
   "source": [
    "from pyspark.sql import SparkSession\n",
    "spark = SparkSession.builder.appName(\"test\").getOrCreate()"
   ]
  },
  {
   "cell_type": "code",
   "execution_count": null,
   "id": "10c5125a-e9c8-41f1-b83e-0c3db3193d81",
   "metadata": {},
   "outputs": [],
   "source": [
    "df = spark.read.csv(\n",
    "    path=\"*.csv\",\n",
    "    sep=\",\",\n",
    "    header=True,\n",
    "    quote='\"',\n",
    "    schema=\"FL_DATE TIMESTAMP, OP_CARRIER STRING, OP_CARRIER_FL_NUM INTEGER, ORIGIN STRING, DEST STRING, CRS_DEP_TIME DOUBLE, DEP_TIME DOUBLE, DEP_DELAY DOUBLE, TAXI_OUT DOUBLE, WHEELS_OFF DOUBLE, WHEELS_ON DOUBLE, TAXI_IN DOUBLE, CRS_ARR_TIME DOUBLE, ARR_TIME DOUBLE, ARR_DELAY DOUBLE, CANCELLED DOUBLE, CANCELLATION_CODE STRING, DIVERTED DOUBLE, CRS_ELAPSED_TIME DOUBLE, ACTUAL_ELAPSED_TIME DOUBLE, AIR_TIME DOUBLE, DISTANCE DOUBLE, CARRIER_DELAY DOUBLE, WEATHER_DELAY DOUBLE, NAS_DELAY DOUBLE, SECURITY_DELAY DOUBLE, LATE_AIRCRAFT_DELAY DOUBLE\"\n",
    ")"
   ]
  },
  {
   "cell_type": "code",
   "execution_count": null,
   "id": "f0f9304c-666a-45c5-b2d7-96393a46105d",
   "metadata": {
    "tags": []
   },
   "outputs": [],
   "source": [
    "df.show(3)\n",
    "df.printSchema()"
   ]
  },
  {
   "cell_type": "code",
   "execution_count": null,
   "id": "93dbf824-9c12-4c5c-b8e2-33d9eafc1891",
   "metadata": {},
   "outputs": [],
   "source": [
    "df.count()"
   ]
  },
  {
   "cell_type": "code",
   "execution_count": null,
   "id": "9920947f-21a2-4d8e-99e3-597d41f79a42",
   "metadata": {},
   "outputs": [],
   "source": []
  }
 ],
 "metadata": {
  "kernelspec": {
   "display_name": "Python 3 (ipykernel)",
   "language": "python",
   "name": "python3"
  },
  "language_info": {
   "codemirror_mode": {
    "name": "ipython",
    "version": 3
   },
   "file_extension": ".py",
   "mimetype": "text/x-python",
   "name": "python",
   "nbconvert_exporter": "python",
   "pygments_lexer": "ipython3",
   "version": "3.8.10"
  }
 },
 "nbformat": 4,
 "nbformat_minor": 5
}
