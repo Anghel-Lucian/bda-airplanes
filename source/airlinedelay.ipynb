{
 "cells": [
  {
   "cell_type": "code",
   "execution_count": 11,
   "metadata": {},
   "outputs": [],
   "source": [
    "from pyspark.sql import SparkSession\n",
    "from pyspark.sql.types import StructType, StructField\n",
    "from pyspark.sql.types import StringType, IntegerType, DateType, DoubleType\n",
    "from pyspark.sql import functions"
   ]
  },
  {
   "cell_type": "code",
   "execution_count": 12,
   "metadata": {},
   "outputs": [],
   "source": [
    "spark = SparkSession \\\n",
    "    .builder \\\n",
    "    .appName(\"airlinedelay\") \\\n",
    "    .getOrCreate()\n",
    "\n",
    "context = spark.sparkContext"
   ]
  },
  {
   "cell_type": "code",
   "execution_count": 13,
   "metadata": {},
   "outputs": [],
   "source": [
    "schema = StructType([\n",
    "    StructField(\"FL_DATE\", DateType(), True),\n",
    "    StructField(\"OP_CARRIER\", StringType(), True),\n",
    "    StructField(\"OP_CARRIER_FL_NUM\", IntegerType(), True),\n",
    "    StructField(\"ORIGIN\", StringType(), True),\n",
    "    StructField(\"DEST\", StringType(), True),\n",
    "    StructField(\"CRS_DEP_TIME\", DoubleType(), True),\n",
    "    StructField(\"DEP_TIME\", DoubleType(), True),\n",
    "    StructField(\"DEP_DELAY\", DoubleType(), True),\n",
    "    StructField(\"TAXI_OUT\", DoubleType(), True),\n",
    "    StructField(\"WHEELS_OFF\", DoubleType(), True),\n",
    "    StructField(\"WHEELS_ON\", DoubleType(), True),\n",
    "    StructField(\"TAXI_IN\", DoubleType(), True),\n",
    "    StructField(\"CRS_ARR_TIME\", DoubleType(), True),\n",
    "    StructField(\"ARR_TIME\", DoubleType(), True),\n",
    "    StructField(\"ARR_DELAY\", DoubleType(), True),\n",
    "    StructField(\"CANCELLED\", DoubleType(), True),\n",
    "    StructField(\"CANCELLATION_CODE\", StringType(), True),\n",
    "    StructField(\"DIVERTED\", DoubleType(), True),\n",
    "    StructField(\"CRS_ELAPSED_TIME\", DoubleType(), True),\n",
    "    StructField(\"ACTUAL_ELAPSED_TIME\", DoubleType(), True),\n",
    "    StructField(\"AIR_TIME\", DoubleType(), True),\n",
    "    StructField(\"DISTANCE\", DoubleType(), True),\n",
    "    StructField(\"CARRIER_DELAY\", DoubleType(), True),\n",
    "    StructField(\"WEATHER_DELAY\", DoubleType(), True),\n",
    "    StructField(\"NAS_DELAY\", DoubleType(), True),\n",
    "    StructField(\"SECURITY_DELAY\", DoubleType(), True),\n",
    "    StructField(\"LATE_AIRCRAFT_DELAY\", DoubleType(), True)\n",
    "])\n",
    "\n",
    "df = spark.read.format(\"csv\") \\\n",
    "    .option(\"sep\", \",\") \\\n",
    "    .option(\"header\", True) \\\n",
    "    .schema(schema) \\\n",
    "    .load(\"*.csv\")\n",
    "\n",
    "df.createOrReplaceTempView(\"airlinedelay\")"
   ]
  },
  {
   "cell_type": "code",
   "execution_count": 14,
   "metadata": {},
   "outputs": [
    {
     "name": "stdout",
     "output_type": "stream",
     "text": [
      "+----------+----------+-----------------+------+----+------------+--------+---------+--------+----------+---------+-------+------------+--------+---------+---------+-----------------+--------+----------------+-------------------+--------+--------+-------------+-------------+---------+--------------+-------------------+\n",
      "|   FL_DATE|OP_CARRIER|OP_CARRIER_FL_NUM|ORIGIN|DEST|CRS_DEP_TIME|DEP_TIME|DEP_DELAY|TAXI_OUT|WHEELS_OFF|WHEELS_ON|TAXI_IN|CRS_ARR_TIME|ARR_TIME|ARR_DELAY|CANCELLED|CANCELLATION_CODE|DIVERTED|CRS_ELAPSED_TIME|ACTUAL_ELAPSED_TIME|AIR_TIME|DISTANCE|CARRIER_DELAY|WEATHER_DELAY|NAS_DELAY|SECURITY_DELAY|LATE_AIRCRAFT_DELAY|\n",
      "+----------+----------+-----------------+------+----+------------+--------+---------+--------+----------+---------+-------+------------+--------+---------+---------+-----------------+--------+----------------+-------------------+--------+--------+-------------+-------------+---------+--------------+-------------------+\n",
      "|2016-01-01|        DL|             1248|   DTW| LAX|      1935.0|  1935.0|      0.0|    23.0|    1958.0|   2107.0|   13.0|      2144.0|  2120.0|    -24.0|      0.0|             null|     0.0|           309.0|              285.0|   249.0|  1979.0|         null|         null|     null|          null|               null|\n",
      "|2016-01-01|        DL|             1251|   ATL| GRR|      2125.0|  2130.0|      5.0|    13.0|    2143.0|   2315.0|    4.0|      2321.0|  2319.0|     -2.0|      0.0|             null|     0.0|           116.0|              109.0|    92.0|   640.0|         null|         null|     null|          null|               null|\n",
      "|2016-01-01|        DL|             1254|   LAX| ATL|      2255.0|  2256.0|      1.0|    19.0|    2315.0|    542.0|    5.0|       600.0|   547.0|    -13.0|      0.0|             null|     0.0|           245.0|              231.0|   207.0|  1947.0|         null|         null|     null|          null|               null|\n",
      "|2016-01-01|        DL|             1255|   SLC| ATL|      1656.0|  1700.0|      4.0|    12.0|    1712.0|   2205.0|    8.0|      2229.0|  2213.0|    -16.0|      0.0|             null|     0.0|           213.0|              193.0|   173.0|  1590.0|         null|         null|     null|          null|               null|\n",
      "|2016-01-01|        DL|             1256|   BZN| MSP|       900.0|  1012.0|     72.0|    63.0|    1115.0|   1416.0|    4.0|      1216.0|  1420.0|    124.0|      0.0|             null|     0.0|           136.0|              188.0|   121.0|   874.0|         72.0|          0.0|     52.0|           0.0|                0.0|\n",
      "|2016-01-01|        DL|             1257|   ATL| BNA|      1233.0|  1356.0|     83.0|    22.0|    1418.0|   1356.0|    6.0|      1239.0|  1402.0|     83.0|      0.0|             null|     0.0|            66.0|               66.0|    38.0|   214.0|         43.0|          0.0|      0.0|           0.0|               40.0|\n",
      "|2016-01-01|        DL|             1257|   BNA| ATL|      1320.0|  1446.0|     86.0|    15.0|    1501.0|   1638.0|    6.0|      1530.0|  1644.0|     74.0|      0.0|             null|     0.0|            70.0|               58.0|    37.0|   214.0|          3.0|          0.0|      0.0|           0.0|               71.0|\n",
      "|2016-01-01|        DL|             1258|   ATL| JAX|       945.0|   946.0|      1.0|    19.0|    1005.0|   1050.0|    3.0|      1050.0|  1053.0|      3.0|      0.0|             null|     0.0|            65.0|               67.0|    45.0|   270.0|         null|         null|     null|          null|               null|\n",
      "|2016-01-01|        DL|             1258|   JAX| ATL|      1145.0|  1144.0|     -1.0|    12.0|    1156.0|   1239.0|    8.0|      1302.0|  1247.0|    -15.0|      0.0|             null|     0.0|            77.0|               63.0|    43.0|   270.0|         null|         null|     null|          null|               null|\n",
      "|2016-01-01|        DL|             1259|   ATL| OKC|      2110.0|  2107.0|     -3.0|    16.0|    2123.0|   2219.0|    5.0|      2236.0|  2224.0|    -12.0|      0.0|             null|     0.0|           146.0|              137.0|   116.0|   761.0|         null|         null|     null|          null|               null|\n",
      "|2016-01-01|        DL|             1260|   MSP| SMF|      1115.0|  1113.0|     -2.0|    12.0|    1125.0|   1232.0|    4.0|      1309.0|  1236.0|    -33.0|      0.0|             null|     0.0|           234.0|              203.0|   187.0|  1517.0|         null|         null|     null|          null|               null|\n",
      "|2016-01-01|        DL|             1262|   LAX| JFK|      2255.0|  2248.0|     -7.0|    23.0|    2311.0|    650.0|   11.0|       715.0|   701.0|    -14.0|      0.0|             null|     0.0|           320.0|              313.0|   279.0|  2475.0|         null|         null|     null|          null|               null|\n",
      "|2016-01-01|        DL|             1263|   ATL| MDT|      1510.0|  1509.0|     -1.0|    17.0|    1526.0|   1646.0|    5.0|      1702.0|  1651.0|    -11.0|      0.0|             null|     0.0|           112.0|              102.0|    80.0|   620.0|         null|         null|     null|          null|               null|\n",
      "|2016-01-01|        DL|             1263|   MDT| ATL|      1737.0|  1727.0|    -10.0|    11.0|    1738.0|   1923.0|   11.0|      1949.0|  1934.0|    -15.0|      0.0|             null|     0.0|           132.0|              127.0|   105.0|   620.0|         null|         null|     null|          null|               null|\n",
      "|2016-01-01|        DL|             1264|   SLC| JFK|      2345.0|  2341.0|     -4.0|    25.0|       6.0|    602.0|   11.0|       607.0|   613.0|      6.0|      0.0|             null|     0.0|           262.0|              272.0|   236.0|  1990.0|         null|         null|     null|          null|               null|\n",
      "|2016-01-01|        DL|             1265|   SAV| ATL|      1408.0|  1403.0|     -5.0|    15.0|    1418.0|   1459.0|    6.0|      1523.0|  1505.0|    -18.0|      0.0|             null|     0.0|            75.0|               62.0|    41.0|   214.0|         null|         null|     null|          null|               null|\n",
      "|2016-01-01|        DL|             1266|   BUF| ATL|       615.0|   612.0|     -3.0|    38.0|     650.0|    844.0|    5.0|       843.0|   849.0|      6.0|      0.0|             null|     0.0|           148.0|              157.0|   114.0|   712.0|         null|         null|     null|          null|               null|\n",
      "|2016-01-01|        DL|             1269|   LGA| MIA|      1100.0|  1100.0|      0.0|    15.0|    1115.0|   1402.0|    4.0|      1432.0|  1406.0|    -26.0|      0.0|             null|     0.0|           212.0|              186.0|   167.0|  1096.0|         null|         null|     null|          null|               null|\n",
      "|2016-01-01|        DL|             1270|   ATL| PNS|      1340.0|  1337.0|     -3.0|    11.0|    1348.0|   1339.0|    3.0|      1352.0|  1342.0|    -10.0|      0.0|             null|     0.0|            72.0|               65.0|    51.0|   271.0|         null|         null|     null|          null|               null|\n",
      "|2016-01-01|        DL|             1270|   PNS| ATL|      1435.0|  1431.0|     -4.0|    10.0|    1441.0|   1622.0|    6.0|      1648.0|  1628.0|    -20.0|      0.0|             null|     0.0|            73.0|               57.0|    41.0|   271.0|         null|         null|     null|          null|               null|\n",
      "+----------+----------+-----------------+------+----+------------+--------+---------+--------+----------+---------+-------+------------+--------+---------+---------+-----------------+--------+----------------+-------------------+--------+--------+-------------+-------------+---------+--------------+-------------------+\n",
      "only showing top 20 rows\n",
      "\n"
     ]
    }
   ],
   "source": [
    "df.show()"
   ]
  },
  {
   "cell_type": "markdown",
   "metadata": {},
   "source": [
    "TOTAL RECORDS"
   ]
  },
  {
   "cell_type": "code",
   "execution_count": 15,
   "metadata": {},
   "outputs": [
    {
     "name": "stdout",
     "output_type": "stream",
     "text": [
      "+--------+\n",
      "|count(1)|\n",
      "+--------+\n",
      "|18505725|\n",
      "+--------+\n",
      "\n"
     ]
    }
   ],
   "source": [
    "spark.sql(\"SELECT count(*) FROM airlinedelay\").show()"
   ]
  },
  {
   "attachments": {},
   "cell_type": "markdown",
   "metadata": {},
   "source": [
    " AVERAGE DELAY PER TIME OF YEAR"
   ]
  },
  {
   "cell_type": "code",
   "execution_count": 16,
   "metadata": {},
   "outputs": [
    {
     "name": "stdout",
     "output_type": "stream",
     "text": [
      "+---------+--------------------+\n",
      "|    Month|AverageDelayPerMonth|\n",
      "+---------+--------------------+\n",
      "| February|  30.735431890196587|\n",
      "|  January|   32.18828878699574|\n",
      "|    March|  28.878667663204894|\n",
      "|      May|   31.56993455797027|\n",
      "|    April|   31.86281084247858|\n",
      "|     July|  37.292714589718095|\n",
      "|     June|   34.88871055929404|\n",
      "|  October|   27.35363224271801|\n",
      "|   August|   36.20854900123184|\n",
      "|September|  28.909569347281945|\n",
      "| November|   27.16239535928725|\n",
      "| December|   31.40340308209513|\n",
      "+---------+--------------------+\n",
      "\n"
     ]
    }
   ],
   "source": [
    "spark.sql(\"SELECT CASE EXTRACT(month from FL_DATE) WHEN 1 THEN 'January'  WHEN 2 THEN 'February' WHEN 3 THEN 'March' WHEN 4 THEN 'April' WHEN 5 THEN 'May' WHEN 6 THEN 'June' WHEN 7 THEN 'July' WHEN 8 THEN 'August' WHEN 9 THEN 'September' WHEN 10 THEN 'October' WHEN 11 THEN 'November' WHEN 12 THEN 'December' ELSE 'OTHER' END AS Month, AVG(IF(DEP_DELAY >= 0 , DEP_DELAY, NULL)) AS AverageDelayPerMonth FROM airlinedelay GROUP BY Month ORDER BY second(Month)\").show()"
   ]
  },
  {
   "cell_type": "markdown",
   "metadata": {},
   "source": [
    "AVERAGE DELAY PER CARRIER"
   ]
  },
  {
   "cell_type": "code",
   "execution_count": 17,
   "metadata": {},
   "outputs": [
    {
     "name": "stdout",
     "output_type": "stream",
     "text": [
      "+----------+----------------------+\n",
      "|OP_CARRIER|AverageDelayPerCarrier|\n",
      "+----------+----------------------+\n",
      "|        UA|     35.27940895187003|\n",
      "|        NK|    40.004839624648405|\n",
      "|        AA|     32.15946837312331|\n",
      "|        EV|     50.41203436537526|\n",
      "|        B6|     41.84271868513793|\n",
      "|        DL|    28.354805562577056|\n",
      "|        OO|     46.45076746046316|\n",
      "|        F9|     43.52142862418115|\n",
      "|        HA|    15.389813961056571|\n",
      "|        AS|    24.853551713125597|\n",
      "|        VX|    32.075166777615685|\n",
      "|        WN|    21.579956134966892|\n",
      "|        YV|     43.88718991345109|\n",
      "|        MQ|    34.695277302275755|\n",
      "|        OH|     34.92862912682075|\n",
      "|        G4|     38.84540625521069|\n",
      "|        YX|     41.46272772954086|\n",
      "|        9E|     52.29959991640044|\n",
      "+----------+----------------------+\n",
      "\n"
     ]
    }
   ],
   "source": [
    "spark.sql(\"SELECT OP_CARRIER, AVG(IF(DEP_DELAY >= 0 , DEP_DELAY, NULL)) AS AverageDelayPerCarrier FROM airlinedelay GROUP BY OP_CARRIER\").show()"
   ]
  },
  {
   "cell_type": "markdown",
   "metadata": {},
   "source": [
    "COMPANY WITH THE LARGEST AVERAGE DELAY"
   ]
  },
  {
   "cell_type": "code",
   "execution_count": 18,
   "metadata": {},
   "outputs": [
    {
     "name": "stdout",
     "output_type": "stream",
     "text": [
      "+----------+----------------------+\n",
      "|OP_CARRIER|AverageDelayPerCarrier|\n",
      "+----------+----------------------+\n",
      "|        9E|     52.29959991640044|\n",
      "+----------+----------------------+\n",
      "\n"
     ]
    }
   ],
   "source": [
    "spark.sql(\"SELECT OP_CARRIER, AVG(IF(DEP_DELAY >= 0 , DEP_DELAY, NULL)) AS AverageDelayPerCarrier FROM airlinedelay GROUP BY OP_CARRIER ORDER BY AverageDelayPerCarrier DESC LIMIT 1\").show()"
   ]
  },
  {
   "cell_type": "markdown",
   "metadata": {},
   "source": [
    "AVERAGE DELAY PER DEPARTURE LOCATION"
   ]
  },
  {
   "cell_type": "code",
   "execution_count": 19,
   "metadata": {},
   "outputs": [
    {
     "name": "stdout",
     "output_type": "stream",
     "text": [
      "+------+----------------------+\n",
      "|ORIGIN|AverageDelayPerCarrier|\n",
      "+------+----------------------+\n",
      "|   ENV|                 157.0|\n",
      "|   PPG|               121.875|\n",
      "|   SLN|     88.72018348623853|\n",
      "|   LWB|     87.99009900990099|\n",
      "|   SHD|     82.14367816091954|\n",
      "|   CMX|     75.48494983277592|\n",
      "|   MQT|     74.36679536679537|\n",
      "|   LBL|     74.19811320754717|\n",
      "|   MEI|      73.9291553133515|\n",
      "|   PUB|     72.18181818181819|\n",
      "|   DVL|     71.73023255813953|\n",
      "|   RDD|     68.96987253765933|\n",
      "|   EGE|      68.9584552369807|\n",
      "|   BGM|      68.3667711598746|\n",
      "|   MBS|     68.17650834403081|\n",
      "|   CKB|     67.97377049180328|\n",
      "|   LCH|     67.80292942743009|\n",
      "|   RHI|     67.14951456310679|\n",
      "|   OTH|     66.96222222222222|\n",
      "|   PIB|     66.46075085324232|\n",
      "|   CGI|     66.34939759036145|\n",
      "|   ITH|     66.28314917127072|\n",
      "|   SAF|      65.7936210131332|\n",
      "|   ISN|     65.73929471032746|\n",
      "|   JMS|     64.92836257309942|\n",
      "|   LRD|     64.62005856515373|\n",
      "|   SCE|     64.50854700854701|\n",
      "|   UIN|     64.31189710610933|\n",
      "|   CLL|     64.19959473150962|\n",
      "|   MHK|     63.99396681749623|\n",
      "|   BRO|    63.809034907597535|\n",
      "|   DLH|     63.22632674297606|\n",
      "|   HYS|    63.138728323699425|\n",
      "|   YNG|                  63.0|\n",
      "|   AZO|     62.64597544338336|\n",
      "|   ASE|     62.07561156412157|\n",
      "|   PLN|     61.56993006993007|\n",
      "|   PAH|     61.22709163346614|\n",
      "|   MMH|     60.29054054054054|\n",
      "|   HVN|    60.048327137546465|\n",
      "|   MLU|     59.53842482100239|\n",
      "|   FSM|     59.50939457202505|\n",
      "|   EAU|     59.21383647798742|\n",
      "|   BTM|    59.199413489736074|\n",
      "|   ERI|    59.149377593360995|\n",
      "|   BGR|     59.03768996960486|\n",
      "|   RDM|     58.70456092579986|\n",
      "|   SBA|    58.678375634517764|\n",
      "|   ACK|     58.26502463054187|\n",
      "|   RST|    58.193660227835565|\n",
      "+------+----------------------+\n",
      "only showing top 50 rows\n",
      "\n"
     ]
    }
   ],
   "source": [
    "spark.sql(\"SELECT ORIGIN, AVG(IF(DEP_DELAY >= 0 , DEP_DELAY, NULL)) AS AverageDelayPerCarrier FROM airlinedelay GROUP BY ORIGIN ORDER BY AverageDelayPerCarrier DESC\").show(50)"
   ]
  },
  {
   "cell_type": "markdown",
   "metadata": {},
   "source": [
    "DEPARTURE LOCATION WITH THE LARGEST AVERAGE DELAY"
   ]
  },
  {
   "cell_type": "code",
   "execution_count": 25,
   "metadata": {},
   "outputs": [
    {
     "name": "stdout",
     "output_type": "stream",
     "text": [
      "+------+----------------------+----+\n",
      "|ORIGIN|AverageDelayPerCarrier|Year|\n",
      "+------+----------------------+----+\n",
      "|   BUF|     32.75690419365837|2016|\n",
      "|   CLL|     45.86407766990291|2016|\n",
      "|   GSP|    36.842450765864335|2016|\n",
      "|   MLB|     32.50222222222222|2016|\n",
      "|   MLI|    55.489291598023065|2016|\n",
      "|   EVV|     54.53286713286713|2016|\n",
      "|   GUC|     65.82894736842105|2016|\n",
      "|   LIH|      20.0140476968311|2016|\n",
      "|   ABE|     41.85941644562334|2016|\n",
      "|   LBE|     45.79381443298969|2016|\n",
      "|   ADK|    18.627906976744185|2016|\n",
      "|   MSP|    30.962899490504864|2016|\n",
      "|   CVG|     37.61518003273322|2016|\n",
      "|   TYR|     35.96610169491525|2016|\n",
      "|   ORD|      34.5931868719955|2016|\n",
      "|   BNA|    26.882162811100336|2016|\n",
      "|   JNU|    28.637476459510356|2016|\n",
      "|   PNS|     34.76499690785405|2016|\n",
      "|   PIT|    26.614831076960606|2016|\n",
      "|   BHM|      32.7430724355858|2016|\n",
      "+------+----------------------+----+\n",
      "only showing top 20 rows\n",
      "\n"
     ]
    }
   ],
   "source": [
    "spark.sql(\"SELECT ORIGIN, AVG(IF(DEP_DELAY >= 0 , DEP_DELAY, NULL)) AS AverageDelayPerCarrier,EXTRACT(year from FL_DATE) AS Year FROM airlinedelay GROUP BY ORIGIN, Year ORDER BY Year\").show()"
   ]
  }
 ],
 "metadata": {
  "kernelspec": {
   "display_name": "Python 3.6.8 64-bit",
   "language": "python",
   "name": "python3"
  },
  "language_info": {
   "codemirror_mode": {
    "name": "ipython",
    "version": 3
   },
   "file_extension": ".py",
   "mimetype": "text/x-python",
   "name": "python",
   "nbconvert_exporter": "python",
   "pygments_lexer": "ipython3",
   "version": "3.6.8"
  },
  "orig_nbformat": 4,
  "vscode": {
   "interpreter": {
    "hash": "bb41c486c9a952ea9ab660fc5492da8d93953408d86caf7fa1d34391fa6c6cf3"
   }
  }
 },
 "nbformat": 4,
 "nbformat_minor": 2
}
