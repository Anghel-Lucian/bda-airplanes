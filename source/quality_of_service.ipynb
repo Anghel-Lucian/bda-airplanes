{
 "cells": [
  {
   "cell_type": "code",
   "execution_count": 2,
   "id": "8bfa32cf-9c62-440f-ab3b-057afcec5f50",
   "metadata": {},
   "outputs": [],
   "source": [
    "from pyspark.sql import SparkSession\n",
    "from pyspark.sql.types import StructType, StructField\n",
    "from pyspark.sql.types import StringType, IntegerType, DateType, DoubleType\n",
    "from pyspark.sql import functions\n",
    "import math"
   ]
  },
  {
   "cell_type": "code",
   "execution_count": 3,
   "id": "7d973fc3-c36d-48b8-9ac5-da54d4606b78",
   "metadata": {},
   "outputs": [
    {
     "name": "stdout",
     "output_type": "stream",
     "text": [
      "23/01/01 10:48:28 WARN Utils: Your hostname, lucian resolves to a loopback address: 127.0.1.1; using 192.168.100.7 instead (on interface eno1)\n",
      "23/01/01 10:48:28 WARN Utils: Set SPARK_LOCAL_IP if you need to bind to another address\n"
     ]
    },
    {
     "name": "stderr",
     "output_type": "stream",
     "text": [
      "Setting default log level to \"WARN\".\n",
      "To adjust logging level use sc.setLogLevel(newLevel). For SparkR, use setLogLevel(newLevel).\n"
     ]
    },
    {
     "name": "stdout",
     "output_type": "stream",
     "text": [
      "23/01/01 10:48:28 WARN NativeCodeLoader: Unable to load native-hadoop library for your platform... using builtin-java classes where applicable\n"
     ]
    }
   ],
   "source": [
    "spark = SparkSession \\\n",
    "    .builder \\\n",
    "    .appName(\"airlinedelay\") \\\n",
    "    .getOrCreate()\n",
    "\n",
    "context = spark.sparkContext"
   ]
  },
  {
   "cell_type": "code",
   "execution_count": 4,
   "id": "838995b9-9890-461b-a42f-19b0df61f3e4",
   "metadata": {},
   "outputs": [
    {
     "name": "stdout",
     "output_type": "stream",
     "text": [
      "23/01/01 10:48:30 WARN package: Truncated the string representation of a plan since it was too large. This behavior can be adjusted by setting 'spark.sql.debug.maxToStringFields'.\n"
     ]
    }
   ],
   "source": [
    "schema = StructType([\n",
    "    StructField(\"FL_DATE\", DateType(), True),\n",
    "    StructField(\"OP_CARRIER\", StringType(), True),\n",
    "    StructField(\"OP_CARRIER_FL_NUM\", IntegerType(), True),\n",
    "    StructField(\"ORIGIN\", StringType(), True),\n",
    "    StructField(\"DEST\", StringType(), True),\n",
    "    StructField(\"CRS_DEP_TIME\", DoubleType(), True),\n",
    "    StructField(\"DEP_TIME\", DoubleType(), True),\n",
    "    StructField(\"DEP_DELAY\", DoubleType(), True),\n",
    "    StructField(\"TAXI_OUT\", DoubleType(), True),\n",
    "    StructField(\"WHEELS_OFF\", DoubleType(), True),\n",
    "    StructField(\"WHEELS_ON\", DoubleType(), True),\n",
    "    StructField(\"TAXI_IN\", DoubleType(), True),\n",
    "    StructField(\"CRS_ARR_TIME\", DoubleType(), True),\n",
    "    StructField(\"ARR_TIME\", DoubleType(), True),\n",
    "    StructField(\"ARR_DELAY\", DoubleType(), True),\n",
    "    StructField(\"CANCELLED\", DoubleType(), True),\n",
    "    StructField(\"CANCELLATION_CODE\", StringType(), True),\n",
    "    StructField(\"DIVERTED\", DoubleType(), True),\n",
    "    StructField(\"CRS_ELAPSED_TIME\", DoubleType(), True),\n",
    "    StructField(\"ACTUAL_ELAPSED_TIME\", DoubleType(), True),\n",
    "    StructField(\"AIR_TIME\", DoubleType(), True),\n",
    "    StructField(\"DISTANCE\", DoubleType(), True),\n",
    "    StructField(\"CARRIER_DELAY\", DoubleType(), True),\n",
    "    StructField(\"WEATHER_DELAY\", DoubleType(), True),\n",
    "    StructField(\"NAS_DELAY\", DoubleType(), True),\n",
    "    StructField(\"SECURITY_DELAY\", DoubleType(), True),\n",
    "    StructField(\"LATE_AIRCRAFT_DELAY\", DoubleType(), True)\n",
    "])\n",
    "\n",
    "df = spark.read.format(\"csv\") \\\n",
    "    .option(\"sep\", \",\") \\\n",
    "    .option(\"header\", True) \\\n",
    "    .schema(schema) \\\n",
    "    .load(\"*.csv\")\n",
    "\n",
    "df.createOrReplaceTempView(\"airlinedelay\")"
   ]
  },
  {
   "cell_type": "markdown",
   "id": "58c625eb-e4e5-4f06-bb51-4dccc564be42",
   "metadata": {},
   "source": [
    "CORRELATION BETWEEN DEPARTURE DELAY AND ARRIVAL DELAY"
   ]
  },
  {
   "cell_type": "code",
   "execution_count": 11,
   "id": "fdde7455-fc2c-428c-b960-4846f4c818cc",
   "metadata": {},
   "outputs": [
    {
     "name": "stderr",
     "output_type": "stream",
     "text": [
      "                                                                                \r"
     ]
    },
    {
     "data": {
      "text/plain": [
       "0.9382029931731353"
      ]
     },
     "execution_count": 11,
     "metadata": {},
     "output_type": "execute_result"
    }
   ],
   "source": [
    "df.stat.corr('DEP_DELAY', 'ARR_DELAY')"
   ]
  },
  {
   "cell_type": "markdown",
   "id": "6bd8f540-eaa7-41bd-ab27-318baa408112",
   "metadata": {
    "tags": []
   },
   "source": [
    "GENERAL EVOLUTION OF DELAYS/IMMEDIACIES FOR DEPARTURES AND ARRIVALS"
   ]
  },
  {
   "cell_type": "code",
   "execution_count": 24,
   "id": "83be783c-6bb1-4595-89d2-73ed30f74a9e",
   "metadata": {},
   "outputs": [
    {
     "name": "stderr",
     "output_type": "stream",
     "text": [
      "[Stage 77:====================================================>   (17 + 1) / 18]\r"
     ]
    },
    {
     "name": "stdout",
     "output_type": "stream",
     "text": [
      "+----+----------------------------+--------------------------------+--------------------------+------------------------------+\n",
      "|Year|AverageDepartureDelayPerYear|AverageDepartureImmediacyPerYear|AverageArrivalDelayPerYear|AverageArrivalImmediacyPerYear|\n",
      "+----+----------------------------+--------------------------------+--------------------------+------------------------------+\n",
      "|2012|          29.308491558603826|              -4.775003687415096|         30.01057264950832|           -12.005357641941504|\n",
      "|2013|          31.401555361002433|              -4.904385394290586|        31.827785050297418|           -11.702265936434728|\n",
      "|2014|           32.49641736820618|              -4.833083676692695|        32.533315365395346|           -11.405155103231625|\n",
      "+----+----------------------------+--------------------------------+--------------------------+------------------------------+\n",
      "\n"
     ]
    },
    {
     "name": "stderr",
     "output_type": "stream",
     "text": [
      "                                                                                \r"
     ]
    }
   ],
   "source": [
    "evolutionAverageDelaysPerYear = spark.sql(\"SELECT EXTRACT(year from FL_DATE) AS Year, AVG(IF(DEP_DELAY > 0, DEP_DELAY, NULL)) AS AverageDepartureDelayPerYear, AVG(IF(DEP_DELAY < 0, DEP_DELAY, NULL)) AS AverageDepartureImmediacyPerYear, AVG(IF(ARR_DELAY > 0, ARR_DELAY, NULL)) AS AverageArrivalDelayPerYear, AVG(IF(ARR_DELAY < 0, ARR_DELAY, NULL)) AS AverageArrivalImmediacyPerYear \\\n",
    "    FROM airlinedelay \\\n",
    "    GROUP BY Year\") \\\n",
    "    \n",
    "evolutionAverageDelaysPerYear.show()"
   ]
  },
  {
   "cell_type": "markdown",
   "id": "c605fd7e-1440-4eef-b33a-9dc2c85e51d0",
   "metadata": {},
   "source": [
    "GENERAL EVOLUTION OF DELAYS/IMMEDIACIES FOR DEPARTURES AND ARRIVALS \\[GRAPHS\\]"
   ]
  },
  {
   "cell_type": "code",
   "execution_count": 59,
   "id": "475aa372-6fb9-42fe-b90c-516bef8431e9",
   "metadata": {},
   "outputs": [
    {
     "data": {
      "application/vnd.plotly.v1+json": {
       "config": {
        "linkText": "Export to plot.ly",
        "plotlyServerURL": "https://plot.ly",
        "showLink": false
       },
       "data": [
        {
         "marker": {
          "color": "red"
         },
         "mode": "lines+markers",
         "name": "Average Departure Delay",
         "text": [
          2012,
          2013,
          2014
         ],
         "type": "scatter",
         "x": [
          2012,
          2013,
          2014
         ],
         "y": [
          29.308491558603826,
          31.401555361002433,
          32.49641736820618
         ]
        },
        {
         "marker": {
          "color": "yellow"
         },
         "mode": "lines+markers",
         "name": "Average Arrival Delay",
         "text": [
          2012,
          2013,
          2014
         ],
         "type": "scatter",
         "x": [
          2012,
          2013,
          2014
         ],
         "y": [
          30.01057264950832,
          31.827785050297418,
          32.533315365395346
         ]
        }
       ],
       "layout": {
        "autosize": true,
        "template": {
         "data": {
          "bar": [
           {
            "error_x": {
             "color": "#2a3f5f"
            },
            "error_y": {
             "color": "#2a3f5f"
            },
            "marker": {
             "line": {
              "color": "#E5ECF6",
              "width": 0.5
             },
             "pattern": {
              "fillmode": "overlay",
              "size": 10,
              "solidity": 0.2
             }
            },
            "type": "bar"
           }
          ],
          "barpolar": [
           {
            "marker": {
             "line": {
              "color": "#E5ECF6",
              "width": 0.5
             },
             "pattern": {
              "fillmode": "overlay",
              "size": 10,
              "solidity": 0.2
             }
            },
            "type": "barpolar"
           }
          ],
          "carpet": [
           {
            "aaxis": {
             "endlinecolor": "#2a3f5f",
             "gridcolor": "white",
             "linecolor": "white",
             "minorgridcolor": "white",
             "startlinecolor": "#2a3f5f"
            },
            "baxis": {
             "endlinecolor": "#2a3f5f",
             "gridcolor": "white",
             "linecolor": "white",
             "minorgridcolor": "white",
             "startlinecolor": "#2a3f5f"
            },
            "type": "carpet"
           }
          ],
          "choropleth": [
           {
            "colorbar": {
             "outlinewidth": 0,
             "ticks": ""
            },
            "type": "choropleth"
           }
          ],
          "contour": [
           {
            "colorbar": {
             "outlinewidth": 0,
             "ticks": ""
            },
            "colorscale": [
             [
              0,
              "#0d0887"
             ],
             [
              0.1111111111111111,
              "#46039f"
             ],
             [
              0.2222222222222222,
              "#7201a8"
             ],
             [
              0.3333333333333333,
              "#9c179e"
             ],
             [
              0.4444444444444444,
              "#bd3786"
             ],
             [
              0.5555555555555556,
              "#d8576b"
             ],
             [
              0.6666666666666666,
              "#ed7953"
             ],
             [
              0.7777777777777778,
              "#fb9f3a"
             ],
             [
              0.8888888888888888,
              "#fdca26"
             ],
             [
              1,
              "#f0f921"
             ]
            ],
            "type": "contour"
           }
          ],
          "contourcarpet": [
           {
            "colorbar": {
             "outlinewidth": 0,
             "ticks": ""
            },
            "type": "contourcarpet"
           }
          ],
          "heatmap": [
           {
            "colorbar": {
             "outlinewidth": 0,
             "ticks": ""
            },
            "colorscale": [
             [
              0,
              "#0d0887"
             ],
             [
              0.1111111111111111,
              "#46039f"
             ],
             [
              0.2222222222222222,
              "#7201a8"
             ],
             [
              0.3333333333333333,
              "#9c179e"
             ],
             [
              0.4444444444444444,
              "#bd3786"
             ],
             [
              0.5555555555555556,
              "#d8576b"
             ],
             [
              0.6666666666666666,
              "#ed7953"
             ],
             [
              0.7777777777777778,
              "#fb9f3a"
             ],
             [
              0.8888888888888888,
              "#fdca26"
             ],
             [
              1,
              "#f0f921"
             ]
            ],
            "type": "heatmap"
           }
          ],
          "heatmapgl": [
           {
            "colorbar": {
             "outlinewidth": 0,
             "ticks": ""
            },
            "colorscale": [
             [
              0,
              "#0d0887"
             ],
             [
              0.1111111111111111,
              "#46039f"
             ],
             [
              0.2222222222222222,
              "#7201a8"
             ],
             [
              0.3333333333333333,
              "#9c179e"
             ],
             [
              0.4444444444444444,
              "#bd3786"
             ],
             [
              0.5555555555555556,
              "#d8576b"
             ],
             [
              0.6666666666666666,
              "#ed7953"
             ],
             [
              0.7777777777777778,
              "#fb9f3a"
             ],
             [
              0.8888888888888888,
              "#fdca26"
             ],
             [
              1,
              "#f0f921"
             ]
            ],
            "type": "heatmapgl"
           }
          ],
          "histogram": [
           {
            "marker": {
             "pattern": {
              "fillmode": "overlay",
              "size": 10,
              "solidity": 0.2
             }
            },
            "type": "histogram"
           }
          ],
          "histogram2d": [
           {
            "colorbar": {
             "outlinewidth": 0,
             "ticks": ""
            },
            "colorscale": [
             [
              0,
              "#0d0887"
             ],
             [
              0.1111111111111111,
              "#46039f"
             ],
             [
              0.2222222222222222,
              "#7201a8"
             ],
             [
              0.3333333333333333,
              "#9c179e"
             ],
             [
              0.4444444444444444,
              "#bd3786"
             ],
             [
              0.5555555555555556,
              "#d8576b"
             ],
             [
              0.6666666666666666,
              "#ed7953"
             ],
             [
              0.7777777777777778,
              "#fb9f3a"
             ],
             [
              0.8888888888888888,
              "#fdca26"
             ],
             [
              1,
              "#f0f921"
             ]
            ],
            "type": "histogram2d"
           }
          ],
          "histogram2dcontour": [
           {
            "colorbar": {
             "outlinewidth": 0,
             "ticks": ""
            },
            "colorscale": [
             [
              0,
              "#0d0887"
             ],
             [
              0.1111111111111111,
              "#46039f"
             ],
             [
              0.2222222222222222,
              "#7201a8"
             ],
             [
              0.3333333333333333,
              "#9c179e"
             ],
             [
              0.4444444444444444,
              "#bd3786"
             ],
             [
              0.5555555555555556,
              "#d8576b"
             ],
             [
              0.6666666666666666,
              "#ed7953"
             ],
             [
              0.7777777777777778,
              "#fb9f3a"
             ],
             [
              0.8888888888888888,
              "#fdca26"
             ],
             [
              1,
              "#f0f921"
             ]
            ],
            "type": "histogram2dcontour"
           }
          ],
          "mesh3d": [
           {
            "colorbar": {
             "outlinewidth": 0,
             "ticks": ""
            },
            "type": "mesh3d"
           }
          ],
          "parcoords": [
           {
            "line": {
             "colorbar": {
              "outlinewidth": 0,
              "ticks": ""
             }
            },
            "type": "parcoords"
           }
          ],
          "pie": [
           {
            "automargin": true,
            "type": "pie"
           }
          ],
          "scatter": [
           {
            "fillpattern": {
             "fillmode": "overlay",
             "size": 10,
             "solidity": 0.2
            },
            "type": "scatter"
           }
          ],
          "scatter3d": [
           {
            "line": {
             "colorbar": {
              "outlinewidth": 0,
              "ticks": ""
             }
            },
            "marker": {
             "colorbar": {
              "outlinewidth": 0,
              "ticks": ""
             }
            },
            "type": "scatter3d"
           }
          ],
          "scattercarpet": [
           {
            "marker": {
             "colorbar": {
              "outlinewidth": 0,
              "ticks": ""
             }
            },
            "type": "scattercarpet"
           }
          ],
          "scattergeo": [
           {
            "marker": {
             "colorbar": {
              "outlinewidth": 0,
              "ticks": ""
             }
            },
            "type": "scattergeo"
           }
          ],
          "scattergl": [
           {
            "marker": {
             "colorbar": {
              "outlinewidth": 0,
              "ticks": ""
             }
            },
            "type": "scattergl"
           }
          ],
          "scattermapbox": [
           {
            "marker": {
             "colorbar": {
              "outlinewidth": 0,
              "ticks": ""
             }
            },
            "type": "scattermapbox"
           }
          ],
          "scatterpolar": [
           {
            "marker": {
             "colorbar": {
              "outlinewidth": 0,
              "ticks": ""
             }
            },
            "type": "scatterpolar"
           }
          ],
          "scatterpolargl": [
           {
            "marker": {
             "colorbar": {
              "outlinewidth": 0,
              "ticks": ""
             }
            },
            "type": "scatterpolargl"
           }
          ],
          "scatterternary": [
           {
            "marker": {
             "colorbar": {
              "outlinewidth": 0,
              "ticks": ""
             }
            },
            "type": "scatterternary"
           }
          ],
          "surface": [
           {
            "colorbar": {
             "outlinewidth": 0,
             "ticks": ""
            },
            "colorscale": [
             [
              0,
              "#0d0887"
             ],
             [
              0.1111111111111111,
              "#46039f"
             ],
             [
              0.2222222222222222,
              "#7201a8"
             ],
             [
              0.3333333333333333,
              "#9c179e"
             ],
             [
              0.4444444444444444,
              "#bd3786"
             ],
             [
              0.5555555555555556,
              "#d8576b"
             ],
             [
              0.6666666666666666,
              "#ed7953"
             ],
             [
              0.7777777777777778,
              "#fb9f3a"
             ],
             [
              0.8888888888888888,
              "#fdca26"
             ],
             [
              1,
              "#f0f921"
             ]
            ],
            "type": "surface"
           }
          ],
          "table": [
           {
            "cells": {
             "fill": {
              "color": "#EBF0F8"
             },
             "line": {
              "color": "white"
             }
            },
            "header": {
             "fill": {
              "color": "#C8D4E3"
             },
             "line": {
              "color": "white"
             }
            },
            "type": "table"
           }
          ]
         },
         "layout": {
          "annotationdefaults": {
           "arrowcolor": "#2a3f5f",
           "arrowhead": 0,
           "arrowwidth": 1
          },
          "autotypenumbers": "strict",
          "coloraxis": {
           "colorbar": {
            "outlinewidth": 0,
            "ticks": ""
           }
          },
          "colorscale": {
           "diverging": [
            [
             0,
             "#8e0152"
            ],
            [
             0.1,
             "#c51b7d"
            ],
            [
             0.2,
             "#de77ae"
            ],
            [
             0.3,
             "#f1b6da"
            ],
            [
             0.4,
             "#fde0ef"
            ],
            [
             0.5,
             "#f7f7f7"
            ],
            [
             0.6,
             "#e6f5d0"
            ],
            [
             0.7,
             "#b8e186"
            ],
            [
             0.8,
             "#7fbc41"
            ],
            [
             0.9,
             "#4d9221"
            ],
            [
             1,
             "#276419"
            ]
           ],
           "sequential": [
            [
             0,
             "#0d0887"
            ],
            [
             0.1111111111111111,
             "#46039f"
            ],
            [
             0.2222222222222222,
             "#7201a8"
            ],
            [
             0.3333333333333333,
             "#9c179e"
            ],
            [
             0.4444444444444444,
             "#bd3786"
            ],
            [
             0.5555555555555556,
             "#d8576b"
            ],
            [
             0.6666666666666666,
             "#ed7953"
            ],
            [
             0.7777777777777778,
             "#fb9f3a"
            ],
            [
             0.8888888888888888,
             "#fdca26"
            ],
            [
             1,
             "#f0f921"
            ]
           ],
           "sequentialminus": [
            [
             0,
             "#0d0887"
            ],
            [
             0.1111111111111111,
             "#46039f"
            ],
            [
             0.2222222222222222,
             "#7201a8"
            ],
            [
             0.3333333333333333,
             "#9c179e"
            ],
            [
             0.4444444444444444,
             "#bd3786"
            ],
            [
             0.5555555555555556,
             "#d8576b"
            ],
            [
             0.6666666666666666,
             "#ed7953"
            ],
            [
             0.7777777777777778,
             "#fb9f3a"
            ],
            [
             0.8888888888888888,
             "#fdca26"
            ],
            [
             1,
             "#f0f921"
            ]
           ]
          },
          "colorway": [
           "#636efa",
           "#EF553B",
           "#00cc96",
           "#ab63fa",
           "#FFA15A",
           "#19d3f3",
           "#FF6692",
           "#B6E880",
           "#FF97FF",
           "#FECB52"
          ],
          "font": {
           "color": "#2a3f5f"
          },
          "geo": {
           "bgcolor": "white",
           "lakecolor": "white",
           "landcolor": "#E5ECF6",
           "showlakes": true,
           "showland": true,
           "subunitcolor": "white"
          },
          "hoverlabel": {
           "align": "left"
          },
          "hovermode": "closest",
          "mapbox": {
           "style": "light"
          },
          "paper_bgcolor": "white",
          "plot_bgcolor": "#E5ECF6",
          "polar": {
           "angularaxis": {
            "gridcolor": "white",
            "linecolor": "white",
            "ticks": ""
           },
           "bgcolor": "#E5ECF6",
           "radialaxis": {
            "gridcolor": "white",
            "linecolor": "white",
            "ticks": ""
           }
          },
          "scene": {
           "xaxis": {
            "backgroundcolor": "#E5ECF6",
            "gridcolor": "white",
            "gridwidth": 2,
            "linecolor": "white",
            "showbackground": true,
            "ticks": "",
            "zerolinecolor": "white"
           },
           "yaxis": {
            "backgroundcolor": "#E5ECF6",
            "gridcolor": "white",
            "gridwidth": 2,
            "linecolor": "white",
            "showbackground": true,
            "ticks": "",
            "zerolinecolor": "white"
           },
           "zaxis": {
            "backgroundcolor": "#E5ECF6",
            "gridcolor": "white",
            "gridwidth": 2,
            "linecolor": "white",
            "showbackground": true,
            "ticks": "",
            "zerolinecolor": "white"
           }
          },
          "shapedefaults": {
           "line": {
            "color": "#2a3f5f"
           }
          },
          "ternary": {
           "aaxis": {
            "gridcolor": "white",
            "linecolor": "white",
            "ticks": ""
           },
           "baxis": {
            "gridcolor": "white",
            "linecolor": "white",
            "ticks": ""
           },
           "bgcolor": "#E5ECF6",
           "caxis": {
            "gridcolor": "white",
            "linecolor": "white",
            "ticks": ""
           }
          },
          "title": {
           "x": 0.05
          },
          "xaxis": {
           "automargin": true,
           "gridcolor": "white",
           "linecolor": "white",
           "ticks": "",
           "title": {
            "standoff": 15
           },
           "zerolinecolor": "white",
           "zerolinewidth": 2
          },
          "yaxis": {
           "automargin": true,
           "gridcolor": "white",
           "linecolor": "white",
           "ticks": "",
           "title": {
            "standoff": 15
           },
           "zerolinecolor": "white",
           "zerolinewidth": 2
          }
         }
        },
        "title": {
         "text": "Evolution Of Average Delay Year-over-Year"
        },
        "xaxis": {
         "autorange": true,
         "range": [
          2011.8832245785752,
          2014.1167754214248
         ],
         "tickformat": "d",
         "ticklen": 5,
         "title": {
          "text": "Years"
         },
         "type": "linear",
         "zeroline": false
        },
        "yaxis": {
         "autorange": true,
         "range": [
          29.042365322121032,
          32.799441601878144
         ],
         "title": {
          "text": "Average Delay (Minutes)"
         },
         "type": "linear"
        }
       }
      },
      "image/png": "[encoded data removed]",
      "text/html": [
       "<div>                            <div id=\"cb77a3aa-7ead-4343-90d4-e39446af3be3\" class=\"plotly-graph-div\" style=\"height:525px; width:100%;\"></div>            <script type=\"text/javascript\">                require([\"plotly\"], function(Plotly) {                    window.PLOTLYENV=window.PLOTLYENV || {};                                    if (document.getElementById(\"cb77a3aa-7ead-4343-90d4-e39446af3be3\")) {                    Plotly.newPlot(                        \"cb77a3aa-7ead-4343-90d4-e39446af3be3\",                        [{\"marker\":{\"color\":\"red\"},\"mode\":\"lines+markers\",\"name\":\"Average Departure Delay\",\"text\":[2012.0,2013.0,2014.0],\"x\":[2012,2013,2014],\"y\":[29.308491558603826,31.401555361002433,32.49641736820618],\"type\":\"scatter\"},{\"marker\":{\"color\":\"yellow\"},\"mode\":\"lines+markers\",\"name\":\"Average Arrival Delay\",\"text\":[2012.0,2013.0,2014.0],\"x\":[2012,2013,2014],\"y\":[30.01057264950832,31.827785050297418,32.533315365395346],\"type\":\"scatter\"}],                        {\"template\":{\"data\":{\"barpolar\":[{\"marker\":{\"line\":{\"color\":\"#E5ECF6\",\"width\":0.5},\"pattern\":{\"fillmode\":\"overlay\",\"size\":10,\"solidity\":0.2}},\"type\":\"barpolar\"}],\"bar\":[{\"error_x\":{\"color\":\"#2a3f5f\"},\"error_y\":{\"color\":\"#2a3f5f\"},\"marker\":{\"line\":{\"color\":\"#E5ECF6\",\"width\":0.5},\"pattern\":{\"fillmode\":\"overlay\",\"size\":10,\"solidity\":0.2}},\"type\":\"bar\"}],\"carpet\":[{\"aaxis\":{\"endlinecolor\":\"#2a3f5f\",\"gridcolor\":\"white\",\"linecolor\":\"white\",\"minorgridcolor\":\"white\",\"startlinecolor\":\"#2a3f5f\"},\"baxis\":{\"endlinecolor\":\"#2a3f5f\",\"gridcolor\":\"white\",\"linecolor\":\"white\",\"minorgridcolor\":\"white\",\"startlinecolor\":\"#2a3f5f\"},\"type\":\"carpet\"}],\"choropleth\":[{\"colorbar\":{\"outlinewidth\":0,\"ticks\":\"\"},\"type\":\"choropleth\"}],\"contourcarpet\":[{\"colorbar\":{\"outlinewidth\":0,\"ticks\":\"\"},\"type\":\"contourcarpet\"}],\"contour\":[{\"colorbar\":{\"outlinewidth\":0,\"ticks\":\"\"},\"colorscale\":[[0.0,\"#0d0887\"],[0.1111111111111111,\"#46039f\"],[0.2222222222222222,\"#7201a8\"],[0.3333333333333333,\"#9c179e\"],[0.4444444444444444,\"#bd3786\"],[0.5555555555555556,\"#d8576b\"],[0.6666666666666666,\"#ed7953\"],[0.7777777777777778,\"#fb9f3a\"],[0.8888888888888888,\"#fdca26\"],[1.0,\"#f0f921\"]],\"type\":\"contour\"}],\"heatmapgl\":[{\"colorbar\":{\"outlinewidth\":0,\"ticks\":\"\"},\"colorscale\":[[0.0,\"#0d0887\"],[0.1111111111111111,\"#46039f\"],[0.2222222222222222,\"#7201a8\"],[0.3333333333333333,\"#9c179e\"],[0.4444444444444444,\"#bd3786\"],[0.5555555555555556,\"#d8576b\"],[0.6666666666666666,\"#ed7953\"],[0.7777777777777778,\"#fb9f3a\"],[0.8888888888888888,\"#fdca26\"],[1.0,\"#f0f921\"]],\"type\":\"heatmapgl\"}],\"heatmap\":[{\"colorbar\":{\"outlinewidth\":0,\"ticks\":\"\"},\"colorscale\":[[0.0,\"#0d0887\"],[0.1111111111111111,\"#46039f\"],[0.2222222222222222,\"#7201a8\"],[0.3333333333333333,\"#9c179e\"],[0.4444444444444444,\"#bd3786\"],[0.5555555555555556,\"#d8576b\"],[0.6666666666666666,\"#ed7953\"],[0.7777777777777778,\"#fb9f3a\"],[0.8888888888888888,\"#fdca26\"],[1.0,\"#f0f921\"]],\"type\":\"heatmap\"}],\"histogram2dcontour\":[{\"colorbar\":{\"outlinewidth\":0,\"ticks\":\"\"},\"colorscale\":[[0.0,\"#0d0887\"],[0.1111111111111111,\"#46039f\"],[0.2222222222222222,\"#7201a8\"],[0.3333333333333333,\"#9c179e\"],[0.4444444444444444,\"#bd3786\"],[0.5555555555555556,\"#d8576b\"],[0.6666666666666666,\"#ed7953\"],[0.7777777777777778,\"#fb9f3a\"],[0.8888888888888888,\"#fdca26\"],[1.0,\"#f0f921\"]],\"type\":\"histogram2dcontour\"}],\"histogram2d\":[{\"colorbar\":{\"outlinewidth\":0,\"ticks\":\"\"},\"colorscale\":[[0.0,\"#0d0887\"],[0.1111111111111111,\"#46039f\"],[0.2222222222222222,\"#7201a8\"],[0.3333333333333333,\"#9c179e\"],[0.4444444444444444,\"#bd3786\"],[0.5555555555555556,\"#d8576b\"],[0.6666666666666666,\"#ed7953\"],[0.7777777777777778,\"#fb9f3a\"],[0.8888888888888888,\"#fdca26\"],[1.0,\"#f0f921\"]],\"type\":\"histogram2d\"}],\"histogram\":[{\"marker\":{\"pattern\":{\"fillmode\":\"overlay\",\"size\":10,\"solidity\":0.2}},\"type\":\"histogram\"}],\"mesh3d\":[{\"colorbar\":{\"outlinewidth\":0,\"ticks\":\"\"},\"type\":\"mesh3d\"}],\"parcoords\":[{\"line\":{\"colorbar\":{\"outlinewidth\":0,\"ticks\":\"\"}},\"type\":\"parcoords\"}],\"pie\":[{\"automargin\":true,\"type\":\"pie\"}],\"scatter3d\":[{\"line\":{\"colorbar\":{\"outlinewidth\":0,\"ticks\":\"\"}},\"marker\":{\"colorbar\":{\"outlinewidth\":0,\"ticks\":\"\"}},\"type\":\"scatter3d\"}],\"scattercarpet\":[{\"marker\":{\"colorbar\":{\"outlinewidth\":0,\"ticks\":\"\"}},\"type\":\"scattercarpet\"}],\"scattergeo\":[{\"marker\":{\"colorbar\":{\"outlinewidth\":0,\"ticks\":\"\"}},\"type\":\"scattergeo\"}],\"scattergl\":[{\"marker\":{\"colorbar\":{\"outlinewidth\":0,\"ticks\":\"\"}},\"type\":\"scattergl\"}],\"scattermapbox\":[{\"marker\":{\"colorbar\":{\"outlinewidth\":0,\"ticks\":\"\"}},\"type\":\"scattermapbox\"}],\"scatterpolargl\":[{\"marker\":{\"colorbar\":{\"outlinewidth\":0,\"ticks\":\"\"}},\"type\":\"scatterpolargl\"}],\"scatterpolar\":[{\"marker\":{\"colorbar\":{\"outlinewidth\":0,\"ticks\":\"\"}},\"type\":\"scatterpolar\"}],\"scatter\":[{\"fillpattern\":{\"fillmode\":\"overlay\",\"size\":10,\"solidity\":0.2},\"type\":\"scatter\"}],\"scatterternary\":[{\"marker\":{\"colorbar\":{\"outlinewidth\":0,\"ticks\":\"\"}},\"type\":\"scatterternary\"}],\"surface\":[{\"colorbar\":{\"outlinewidth\":0,\"ticks\":\"\"},\"colorscale\":[[0.0,\"#0d0887\"],[0.1111111111111111,\"#46039f\"],[0.2222222222222222,\"#7201a8\"],[0.3333333333333333,\"#9c179e\"],[0.4444444444444444,\"#bd3786\"],[0.5555555555555556,\"#d8576b\"],[0.6666666666666666,\"#ed7953\"],[0.7777777777777778,\"#fb9f3a\"],[0.8888888888888888,\"#fdca26\"],[1.0,\"#f0f921\"]],\"type\":\"surface\"}],\"table\":[{\"cells\":{\"fill\":{\"color\":\"#EBF0F8\"},\"line\":{\"color\":\"white\"}},\"header\":{\"fill\":{\"color\":\"#C8D4E3\"},\"line\":{\"color\":\"white\"}},\"type\":\"table\"}]},\"layout\":{\"annotationdefaults\":{\"arrowcolor\":\"#2a3f5f\",\"arrowhead\":0,\"arrowwidth\":1},\"autotypenumbers\":\"strict\",\"coloraxis\":{\"colorbar\":{\"outlinewidth\":0,\"ticks\":\"\"}},\"colorscale\":{\"diverging\":[[0,\"#8e0152\"],[0.1,\"#c51b7d\"],[0.2,\"#de77ae\"],[0.3,\"#f1b6da\"],[0.4,\"#fde0ef\"],[0.5,\"#f7f7f7\"],[0.6,\"#e6f5d0\"],[0.7,\"#b8e186\"],[0.8,\"#7fbc41\"],[0.9,\"#4d9221\"],[1,\"#276419\"]],\"sequential\":[[0.0,\"#0d0887\"],[0.1111111111111111,\"#46039f\"],[0.2222222222222222,\"#7201a8\"],[0.3333333333333333,\"#9c179e\"],[0.4444444444444444,\"#bd3786\"],[0.5555555555555556,\"#d8576b\"],[0.6666666666666666,\"#ed7953\"],[0.7777777777777778,\"#fb9f3a\"],[0.8888888888888888,\"#fdca26\"],[1.0,\"#f0f921\"]],\"sequentialminus\":[[0.0,\"#0d0887\"],[0.1111111111111111,\"#46039f\"],[0.2222222222222222,\"#7201a8\"],[0.3333333333333333,\"#9c179e\"],[0.4444444444444444,\"#bd3786\"],[0.5555555555555556,\"#d8576b\"],[0.6666666666666666,\"#ed7953\"],[0.7777777777777778,\"#fb9f3a\"],[0.8888888888888888,\"#fdca26\"],[1.0,\"#f0f921\"]]},\"colorway\":[\"#636efa\",\"#EF553B\",\"#00cc96\",\"#ab63fa\",\"#FFA15A\",\"#19d3f3\",\"#FF6692\",\"#B6E880\",\"#FF97FF\",\"#FECB52\"],\"font\":{\"color\":\"#2a3f5f\"},\"geo\":{\"bgcolor\":\"white\",\"lakecolor\":\"white\",\"landcolor\":\"#E5ECF6\",\"showlakes\":true,\"showland\":true,\"subunitcolor\":\"white\"},\"hoverlabel\":{\"align\":\"left\"},\"hovermode\":\"closest\",\"mapbox\":{\"style\":\"light\"},\"paper_bgcolor\":\"white\",\"plot_bgcolor\":\"#E5ECF6\",\"polar\":{\"angularaxis\":{\"gridcolor\":\"white\",\"linecolor\":\"white\",\"ticks\":\"\"},\"bgcolor\":\"#E5ECF6\",\"radialaxis\":{\"gridcolor\":\"white\",\"linecolor\":\"white\",\"ticks\":\"\"}},\"scene\":{\"xaxis\":{\"backgroundcolor\":\"#E5ECF6\",\"gridcolor\":\"white\",\"gridwidth\":2,\"linecolor\":\"white\",\"showbackground\":true,\"ticks\":\"\",\"zerolinecolor\":\"white\"},\"yaxis\":{\"backgroundcolor\":\"#E5ECF6\",\"gridcolor\":\"white\",\"gridwidth\":2,\"linecolor\":\"white\",\"showbackground\":true,\"ticks\":\"\",\"zerolinecolor\":\"white\"},\"zaxis\":{\"backgroundcolor\":\"#E5ECF6\",\"gridcolor\":\"white\",\"gridwidth\":2,\"linecolor\":\"white\",\"showbackground\":true,\"ticks\":\"\",\"zerolinecolor\":\"white\"}},\"shapedefaults\":{\"line\":{\"color\":\"#2a3f5f\"}},\"ternary\":{\"aaxis\":{\"gridcolor\":\"white\",\"linecolor\":\"white\",\"ticks\":\"\"},\"baxis\":{\"gridcolor\":\"white\",\"linecolor\":\"white\",\"ticks\":\"\"},\"bgcolor\":\"#E5ECF6\",\"caxis\":{\"gridcolor\":\"white\",\"linecolor\":\"white\",\"ticks\":\"\"}},\"title\":{\"x\":0.05},\"xaxis\":{\"automargin\":true,\"gridcolor\":\"white\",\"linecolor\":\"white\",\"ticks\":\"\",\"title\":{\"standoff\":15},\"zerolinecolor\":\"white\",\"zerolinewidth\":2},\"yaxis\":{\"automargin\":true,\"gridcolor\":\"white\",\"linecolor\":\"white\",\"ticks\":\"\",\"title\":{\"standoff\":15},\"zerolinecolor\":\"white\",\"zerolinewidth\":2}}},\"title\":{\"text\":\"Evolution Of Average Delay Year-over-Year\"},\"xaxis\":{\"tickformat\":\"d\",\"ticklen\":5,\"title\":{\"text\":\"Years\"},\"zeroline\":false},\"yaxis\":{\"title\":{\"text\":\"Average Delay (Minutes)\"}}},                        {\"responsive\": true}                    ).then(function(){\n",
       "                            \n",
       "var gd = document.getElementById('cb77a3aa-7ead-4343-90d4-e39446af3be3');\n",
       "var x = new MutationObserver(function (mutations, observer) {{\n",
       "        var display = window.getComputedStyle(gd).display;\n",
       "        if (!display || display === 'none') {{\n",
       "            console.log([gd, 'removed!']);\n",
       "            Plotly.purge(gd);\n",
       "            observer.disconnect();\n",
       "        }}\n",
       "}});\n",
       "\n",
       "// Listen for the removal of the full notebook cells\n",
       "var notebookContainer = gd.closest('#notebook-container');\n",
       "if (notebookContainer) {{\n",
       "    x.observe(notebookContainer, {childList: true});\n",
       "}}\n",
       "\n",
       "// Listen for the clearing of the current output cell\n",
       "var outputEl = gd.closest('.output');\n",
       "if (outputEl) {{\n",
       "    x.observe(outputEl, {childList: true});\n",
       "}}\n",
       "\n",
       "                        })                };                });            </script>        </div>"
      ]
     },
     "metadata": {},
     "output_type": "display_data"
    }
   ],
   "source": [
    "averageDepartureDelayPerYearTrace = go.Scatter(\n",
    "    y = evolutionAverageDelaysPerYear.toPandas()['AverageDepartureDelayPerYear'],\n",
    "    x = evolutionAverageDelaysPerYear.toPandas()['Year'],\n",
    "    mode = 'lines+markers',\n",
    "    name = 'Average Departure Delay',\n",
    "    marker = dict(color='red'),\n",
    "    text = evolutionAverageDelaysPerYear.toPandas()['Year'])\n",
    "\n",
    "averageArrivalDelayPerYearTrace = go.Scatter(\n",
    "    y = evolutionAverageDelaysPerYear.toPandas()['AverageArrivalDelayPerYear'],\n",
    "    x = evolutionAverageDelaysPerYear.toPandas()['Year'],\n",
    "    mode = 'lines+markers',\n",
    "    name = 'Average Arrival Delay',\n",
    "    marker = dict(color='yellow'),\n",
    "    text = evolutionAverageDelaysPerYear.toPandas()['Year'])\n",
    "\n",
    "data = [averageDepartureDelayPerYearTrace, averageArrivalDelayPerYearTrace]\n",
    "\n",
    "layout = dict(title = 'Evolution Of Average Delay Year-over-Year',\n",
    "              xaxis= dict(title= 'Years',ticklen= 5,zeroline= False,tickformat='d'),\n",
    "              yaxis= dict(title= 'Average Delay (Minutes)')\n",
    "             )\n",
    "fig = dict(data = data, layout = layout)\n",
    "\n",
    "pyo.iplot(fig)"
   ]
  },
  {
   "cell_type": "code",
   "execution_count": 60,
   "id": "28d9b851-fe5f-4c03-9874-6aa1a4706dc2",
   "metadata": {},
   "outputs": [
    {
     "data": {
      "application/vnd.plotly.v1+json": {
       "config": {
        "linkText": "Export to plot.ly",
        "plotlyServerURL": "https://plot.ly",
        "showLink": false
       },
       "data": [
        {
         "marker": {
          "color": "blue"
         },
         "mode": "lines+markers",
         "name": "Average Departure Haste",
         "text": [
          2012,
          2013,
          2014
         ],
         "type": "scatter",
         "x": [
          2012,
          2013,
          2014
         ],
         "y": [
          -4.775003687415096,
          -4.904385394290586,
          -4.833083676692695
         ]
        },
        {
         "marker": {
          "color": "green"
         },
         "mode": "lines+markers",
         "name": "Average Arrival Haste",
         "text": [
          2012,
          2013,
          2014
         ],
         "type": "scatter",
         "x": [
          2012,
          2013,
          2014
         ],
         "y": [
          -12.005357641941504,
          -11.702265936434728,
          -11.405155103231625
         ]
        }
       ],
       "layout": {
        "autosize": true,
        "template": {
         "data": {
          "bar": [
           {
            "error_x": {
             "color": "#2a3f5f"
            },
            "error_y": {
             "color": "#2a3f5f"
            },
            "marker": {
             "line": {
              "color": "#E5ECF6",
              "width": 0.5
             },
             "pattern": {
              "fillmode": "overlay",
              "size": 10,
              "solidity": 0.2
             }
            },
            "type": "bar"
           }
          ],
          "barpolar": [
           {
            "marker": {
             "line": {
              "color": "#E5ECF6",
              "width": 0.5
             },
             "pattern": {
              "fillmode": "overlay",
              "size": 10,
              "solidity": 0.2
             }
            },
            "type": "barpolar"
           }
          ],
          "carpet": [
           {
            "aaxis": {
             "endlinecolor": "#2a3f5f",
             "gridcolor": "white",
             "linecolor": "white",
             "minorgridcolor": "white",
             "startlinecolor": "#2a3f5f"
            },
            "baxis": {
             "endlinecolor": "#2a3f5f",
             "gridcolor": "white",
             "linecolor": "white",
             "minorgridcolor": "white",
             "startlinecolor": "#2a3f5f"
            },
            "type": "carpet"
           }
          ],
          "choropleth": [
           {
            "colorbar": {
             "outlinewidth": 0,
             "ticks": ""
            },
            "type": "choropleth"
           }
          ],
          "contour": [
           {
            "colorbar": {
             "outlinewidth": 0,
             "ticks": ""
            },
            "colorscale": [
             [
              0,
              "#0d0887"
             ],
             [
              0.1111111111111111,
              "#46039f"
             ],
             [
              0.2222222222222222,
              "#7201a8"
             ],
             [
              0.3333333333333333,
              "#9c179e"
             ],
             [
              0.4444444444444444,
              "#bd3786"
             ],
             [
              0.5555555555555556,
              "#d8576b"
             ],
             [
              0.6666666666666666,
              "#ed7953"
             ],
             [
              0.7777777777777778,
              "#fb9f3a"
             ],
             [
              0.8888888888888888,
              "#fdca26"
             ],
             [
              1,
              "#f0f921"
             ]
            ],
            "type": "contour"
           }
          ],
          "contourcarpet": [
           {
            "colorbar": {
             "outlinewidth": 0,
             "ticks": ""
            },
            "type": "contourcarpet"
           }
          ],
          "heatmap": [
           {
            "colorbar": {
             "outlinewidth": 0,
             "ticks": ""
            },
            "colorscale": [
             [
              0,
              "#0d0887"
             ],
             [
              0.1111111111111111,
              "#46039f"
             ],
             [
              0.2222222222222222,
              "#7201a8"
             ],
             [
              0.3333333333333333,
              "#9c179e"
             ],
             [
              0.4444444444444444,
              "#bd3786"
             ],
             [
              0.5555555555555556,
              "#d8576b"
             ],
             [
              0.6666666666666666,
              "#ed7953"
             ],
             [
              0.7777777777777778,
              "#fb9f3a"
             ],
             [
              0.8888888888888888,
              "#fdca26"
             ],
             [
              1,
              "#f0f921"
             ]
            ],
            "type": "heatmap"
           }
          ],
          "heatmapgl": [
           {
            "colorbar": {
             "outlinewidth": 0,
             "ticks": ""
            },
            "colorscale": [
             [
              0,
              "#0d0887"
             ],
             [
              0.1111111111111111,
              "#46039f"
             ],
             [
              0.2222222222222222,
              "#7201a8"
             ],
             [
              0.3333333333333333,
              "#9c179e"
             ],
             [
              0.4444444444444444,
              "#bd3786"
             ],
             [
              0.5555555555555556,
              "#d8576b"
             ],
             [
              0.6666666666666666,
              "#ed7953"
             ],
             [
              0.7777777777777778,
              "#fb9f3a"
             ],
             [
              0.8888888888888888,
              "#fdca26"
             ],
             [
              1,
              "#f0f921"
             ]
            ],
            "type": "heatmapgl"
           }
          ],
          "histogram": [
           {
            "marker": {
             "pattern": {
              "fillmode": "overlay",
              "size": 10,
              "solidity": 0.2
             }
            },
            "type": "histogram"
           }
          ],
          "histogram2d": [
           {
            "colorbar": {
             "outlinewidth": 0,
             "ticks": ""
            },
            "colorscale": [
             [
              0,
              "#0d0887"
             ],
             [
              0.1111111111111111,
              "#46039f"
             ],
             [
              0.2222222222222222,
              "#7201a8"
             ],
             [
              0.3333333333333333,
              "#9c179e"
             ],
             [
              0.4444444444444444,
              "#bd3786"
             ],
             [
              0.5555555555555556,
              "#d8576b"
             ],
             [
              0.6666666666666666,
              "#ed7953"
             ],
             [
              0.7777777777777778,
              "#fb9f3a"
             ],
             [
              0.8888888888888888,
              "#fdca26"
             ],
             [
              1,
              "#f0f921"
             ]
            ],
            "type": "histogram2d"
           }
          ],
          "histogram2dcontour": [
           {
            "colorbar": {
             "outlinewidth": 0,
             "ticks": ""
            },
            "colorscale": [
             [
              0,
              "#0d0887"
             ],
             [
              0.1111111111111111,
              "#46039f"
             ],
             [
              0.2222222222222222,
              "#7201a8"
             ],
             [
              0.3333333333333333,
              "#9c179e"
             ],
             [
              0.4444444444444444,
              "#bd3786"
             ],
             [
              0.5555555555555556,
              "#d8576b"
             ],
             [
              0.6666666666666666,
              "#ed7953"
             ],
             [
              0.7777777777777778,
              "#fb9f3a"
             ],
             [
              0.8888888888888888,
              "#fdca26"
             ],
             [
              1,
              "#f0f921"
             ]
            ],
            "type": "histogram2dcontour"
           }
          ],
          "mesh3d": [
           {
            "colorbar": {
             "outlinewidth": 0,
             "ticks": ""
            },
            "type": "mesh3d"
           }
          ],
          "parcoords": [
           {
            "line": {
             "colorbar": {
              "outlinewidth": 0,
              "ticks": ""
             }
            },
            "type": "parcoords"
           }
          ],
          "pie": [
           {
            "automargin": true,
            "type": "pie"
           }
          ],
          "scatter": [
           {
            "fillpattern": {
             "fillmode": "overlay",
             "size": 10,
             "solidity": 0.2
            },
            "type": "scatter"
           }
          ],
          "scatter3d": [
           {
            "line": {
             "colorbar": {
              "outlinewidth": 0,
              "ticks": ""
             }
            },
            "marker": {
             "colorbar": {
              "outlinewidth": 0,
              "ticks": ""
             }
            },
            "type": "scatter3d"
           }
          ],
          "scattercarpet": [
           {
            "marker": {
             "colorbar": {
              "outlinewidth": 0,
              "ticks": ""
             }
            },
            "type": "scattercarpet"
           }
          ],
          "scattergeo": [
           {
            "marker": {
             "colorbar": {
              "outlinewidth": 0,
              "ticks": ""
             }
            },
            "type": "scattergeo"
           }
          ],
          "scattergl": [
           {
            "marker": {
             "colorbar": {
              "outlinewidth": 0,
              "ticks": ""
             }
            },
            "type": "scattergl"
           }
          ],
          "scattermapbox": [
           {
            "marker": {
             "colorbar": {
              "outlinewidth": 0,
              "ticks": ""
             }
            },
            "type": "scattermapbox"
           }
          ],
          "scatterpolar": [
           {
            "marker": {
             "colorbar": {
              "outlinewidth": 0,
              "ticks": ""
             }
            },
            "type": "scatterpolar"
           }
          ],
          "scatterpolargl": [
           {
            "marker": {
             "colorbar": {
              "outlinewidth": 0,
              "ticks": ""
             }
            },
            "type": "scatterpolargl"
           }
          ],
          "scatterternary": [
           {
            "marker": {
             "colorbar": {
              "outlinewidth": 0,
              "ticks": ""
             }
            },
            "type": "scatterternary"
           }
          ],
          "surface": [
           {
            "colorbar": {
             "outlinewidth": 0,
             "ticks": ""
            },
            "colorscale": [
             [
              0,
              "#0d0887"
             ],
             [
              0.1111111111111111,
              "#46039f"
             ],
             [
              0.2222222222222222,
              "#7201a8"
             ],
             [
              0.3333333333333333,
              "#9c179e"
             ],
             [
              0.4444444444444444,
              "#bd3786"
             ],
             [
              0.5555555555555556,
              "#d8576b"
             ],
             [
              0.6666666666666666,
              "#ed7953"
             ],
             [
              0.7777777777777778,
              "#fb9f3a"
             ],
             [
              0.8888888888888888,
              "#fdca26"
             ],
             [
              1,
              "#f0f921"
             ]
            ],
            "type": "surface"
           }
          ],
          "table": [
           {
            "cells": {
             "fill": {
              "color": "#EBF0F8"
             },
             "line": {
              "color": "white"
             }
            },
            "header": {
             "fill": {
              "color": "#C8D4E3"
             },
             "line": {
              "color": "white"
             }
            },
            "type": "table"
           }
          ]
         },
         "layout": {
          "annotationdefaults": {
           "arrowcolor": "#2a3f5f",
           "arrowhead": 0,
           "arrowwidth": 1
          },
          "autotypenumbers": "strict",
          "coloraxis": {
           "colorbar": {
            "outlinewidth": 0,
            "ticks": ""
           }
          },
          "colorscale": {
           "diverging": [
            [
             0,
             "#8e0152"
            ],
            [
             0.1,
             "#c51b7d"
            ],
            [
             0.2,
             "#de77ae"
            ],
            [
             0.3,
             "#f1b6da"
            ],
            [
             0.4,
             "#fde0ef"
            ],
            [
             0.5,
             "#f7f7f7"
            ],
            [
             0.6,
             "#e6f5d0"
            ],
            [
             0.7,
             "#b8e186"
            ],
            [
             0.8,
             "#7fbc41"
            ],
            [
             0.9,
             "#4d9221"
            ],
            [
             1,
             "#276419"
            ]
           ],
           "sequential": [
            [
             0,
             "#0d0887"
            ],
            [
             0.1111111111111111,
             "#46039f"
            ],
            [
             0.2222222222222222,
             "#7201a8"
            ],
            [
             0.3333333333333333,
             "#9c179e"
            ],
            [
             0.4444444444444444,
             "#bd3786"
            ],
            [
             0.5555555555555556,
             "#d8576b"
            ],
            [
             0.6666666666666666,
             "#ed7953"
            ],
            [
             0.7777777777777778,
             "#fb9f3a"
            ],
            [
             0.8888888888888888,
             "#fdca26"
            ],
            [
             1,
             "#f0f921"
            ]
           ],
           "sequentialminus": [
            [
             0,
             "#0d0887"
            ],
            [
             0.1111111111111111,
             "#46039f"
            ],
            [
             0.2222222222222222,
             "#7201a8"
            ],
            [
             0.3333333333333333,
             "#9c179e"
            ],
            [
             0.4444444444444444,
             "#bd3786"
            ],
            [
             0.5555555555555556,
             "#d8576b"
            ],
            [
             0.6666666666666666,
             "#ed7953"
            ],
            [
             0.7777777777777778,
             "#fb9f3a"
            ],
            [
             0.8888888888888888,
             "#fdca26"
            ],
            [
             1,
             "#f0f921"
            ]
           ]
          },
          "colorway": [
           "#636efa",
           "#EF553B",
           "#00cc96",
           "#ab63fa",
           "#FFA15A",
           "#19d3f3",
           "#FF6692",
           "#B6E880",
           "#FF97FF",
           "#FECB52"
          ],
          "font": {
           "color": "#2a3f5f"
          },
          "geo": {
           "bgcolor": "white",
           "lakecolor": "white",
           "landcolor": "#E5ECF6",
           "showlakes": true,
           "showland": true,
           "subunitcolor": "white"
          },
          "hoverlabel": {
           "align": "left"
          },
          "hovermode": "closest",
          "mapbox": {
           "style": "light"
          },
          "paper_bgcolor": "white",
          "plot_bgcolor": "#E5ECF6",
          "polar": {
           "angularaxis": {
            "gridcolor": "white",
            "linecolor": "white",
            "ticks": ""
           },
           "bgcolor": "#E5ECF6",
           "radialaxis": {
            "gridcolor": "white",
            "linecolor": "white",
            "ticks": ""
           }
          },
          "scene": {
           "xaxis": {
            "backgroundcolor": "#E5ECF6",
            "gridcolor": "white",
            "gridwidth": 2,
            "linecolor": "white",
            "showbackground": true,
            "ticks": "",
            "zerolinecolor": "white"
           },
           "yaxis": {
            "backgroundcolor": "#E5ECF6",
            "gridcolor": "white",
            "gridwidth": 2,
            "linecolor": "white",
            "showbackground": true,
            "ticks": "",
            "zerolinecolor": "white"
           },
           "zaxis": {
            "backgroundcolor": "#E5ECF6",
            "gridcolor": "white",
            "gridwidth": 2,
            "linecolor": "white",
            "showbackground": true,
            "ticks": "",
            "zerolinecolor": "white"
           }
          },
          "shapedefaults": {
           "line": {
            "color": "#2a3f5f"
           }
          },
          "ternary": {
           "aaxis": {
            "gridcolor": "white",
            "linecolor": "white",
            "ticks": ""
           },
           "baxis": {
            "gridcolor": "white",
            "linecolor": "white",
            "ticks": ""
           },
           "bgcolor": "#E5ECF6",
           "caxis": {
            "gridcolor": "white",
            "linecolor": "white",
            "ticks": ""
           }
          },
          "title": {
           "x": 0.05
          },
          "xaxis": {
           "automargin": true,
           "gridcolor": "white",
           "linecolor": "white",
           "ticks": "",
           "title": {
            "standoff": 15
           },
           "zerolinecolor": "white",
           "zerolinewidth": 2
          },
          "yaxis": {
           "automargin": true,
           "gridcolor": "white",
           "linecolor": "white",
           "ticks": "",
           "title": {
            "standoff": 15
           },
           "zerolinecolor": "white",
           "zerolinewidth": 2
          }
         }
        },
        "title": {
         "text": "Evolution Of Average Haste Year-over-Year"
        },
        "xaxis": {
         "autorange": true,
         "range": [
          2011.8832245785752,
          2014.1167754214248
         ],
         "tickformat": "d",
         "ticklen": 5,
         "title": {
          "text": "Year"
         },
         "type": "linear",
         "zeroline": false
        },
        "yaxis": {
         "autorange": true,
         "range": [
          -12.602037337217956,
          -4.178323992138645
         ],
         "title": {
          "text": "Average Haste (Minutes)"
         },
         "type": "linear"
        }
       }
      },
      "image/png": "[encoded data removed]",
      "text/html": [
       "<div>                            <div id=\"87f8303d-8639-4eaf-b10f-d41ed2d8abcf\" class=\"plotly-graph-div\" style=\"height:525px; width:100%;\"></div>            <script type=\"text/javascript\">                require([\"plotly\"], function(Plotly) {                    window.PLOTLYENV=window.PLOTLYENV || {};                                    if (document.getElementById(\"87f8303d-8639-4eaf-b10f-d41ed2d8abcf\")) {                    Plotly.newPlot(                        \"87f8303d-8639-4eaf-b10f-d41ed2d8abcf\",                        [{\"marker\":{\"color\":\"blue\"},\"mode\":\"lines+markers\",\"name\":\"Average Departure Haste\",\"text\":[2012.0,2013.0,2014.0],\"x\":[2012,2013,2014],\"y\":[-4.775003687415096,-4.904385394290586,-4.833083676692695],\"type\":\"scatter\"},{\"marker\":{\"color\":\"green\"},\"mode\":\"lines+markers\",\"name\":\"Average Arrival Haste\",\"text\":[2012.0,2013.0,2014.0],\"x\":[2012,2013,2014],\"y\":[-12.005357641941504,-11.702265936434728,-11.405155103231625],\"type\":\"scatter\"}],                        {\"template\":{\"data\":{\"barpolar\":[{\"marker\":{\"line\":{\"color\":\"#E5ECF6\",\"width\":0.5},\"pattern\":{\"fillmode\":\"overlay\",\"size\":10,\"solidity\":0.2}},\"type\":\"barpolar\"}],\"bar\":[{\"error_x\":{\"color\":\"#2a3f5f\"},\"error_y\":{\"color\":\"#2a3f5f\"},\"marker\":{\"line\":{\"color\":\"#E5ECF6\",\"width\":0.5},\"pattern\":{\"fillmode\":\"overlay\",\"size\":10,\"solidity\":0.2}},\"type\":\"bar\"}],\"carpet\":[{\"aaxis\":{\"endlinecolor\":\"#2a3f5f\",\"gridcolor\":\"white\",\"linecolor\":\"white\",\"minorgridcolor\":\"white\",\"startlinecolor\":\"#2a3f5f\"},\"baxis\":{\"endlinecolor\":\"#2a3f5f\",\"gridcolor\":\"white\",\"linecolor\":\"white\",\"minorgridcolor\":\"white\",\"startlinecolor\":\"#2a3f5f\"},\"type\":\"carpet\"}],\"choropleth\":[{\"colorbar\":{\"outlinewidth\":0,\"ticks\":\"\"},\"type\":\"choropleth\"}],\"contourcarpet\":[{\"colorbar\":{\"outlinewidth\":0,\"ticks\":\"\"},\"type\":\"contourcarpet\"}],\"contour\":[{\"colorbar\":{\"outlinewidth\":0,\"ticks\":\"\"},\"colorscale\":[[0.0,\"#0d0887\"],[0.1111111111111111,\"#46039f\"],[0.2222222222222222,\"#7201a8\"],[0.3333333333333333,\"#9c179e\"],[0.4444444444444444,\"#bd3786\"],[0.5555555555555556,\"#d8576b\"],[0.6666666666666666,\"#ed7953\"],[0.7777777777777778,\"#fb9f3a\"],[0.8888888888888888,\"#fdca26\"],[1.0,\"#f0f921\"]],\"type\":\"contour\"}],\"heatmapgl\":[{\"colorbar\":{\"outlinewidth\":0,\"ticks\":\"\"},\"colorscale\":[[0.0,\"#0d0887\"],[0.1111111111111111,\"#46039f\"],[0.2222222222222222,\"#7201a8\"],[0.3333333333333333,\"#9c179e\"],[0.4444444444444444,\"#bd3786\"],[0.5555555555555556,\"#d8576b\"],[0.6666666666666666,\"#ed7953\"],[0.7777777777777778,\"#fb9f3a\"],[0.8888888888888888,\"#fdca26\"],[1.0,\"#f0f921\"]],\"type\":\"heatmapgl\"}],\"heatmap\":[{\"colorbar\":{\"outlinewidth\":0,\"ticks\":\"\"},\"colorscale\":[[0.0,\"#0d0887\"],[0.1111111111111111,\"#46039f\"],[0.2222222222222222,\"#7201a8\"],[0.3333333333333333,\"#9c179e\"],[0.4444444444444444,\"#bd3786\"],[0.5555555555555556,\"#d8576b\"],[0.6666666666666666,\"#ed7953\"],[0.7777777777777778,\"#fb9f3a\"],[0.8888888888888888,\"#fdca26\"],[1.0,\"#f0f921\"]],\"type\":\"heatmap\"}],\"histogram2dcontour\":[{\"colorbar\":{\"outlinewidth\":0,\"ticks\":\"\"},\"colorscale\":[[0.0,\"#0d0887\"],[0.1111111111111111,\"#46039f\"],[0.2222222222222222,\"#7201a8\"],[0.3333333333333333,\"#9c179e\"],[0.4444444444444444,\"#bd3786\"],[0.5555555555555556,\"#d8576b\"],[0.6666666666666666,\"#ed7953\"],[0.7777777777777778,\"#fb9f3a\"],[0.8888888888888888,\"#fdca26\"],[1.0,\"#f0f921\"]],\"type\":\"histogram2dcontour\"}],\"histogram2d\":[{\"colorbar\":{\"outlinewidth\":0,\"ticks\":\"\"},\"colorscale\":[[0.0,\"#0d0887\"],[0.1111111111111111,\"#46039f\"],[0.2222222222222222,\"#7201a8\"],[0.3333333333333333,\"#9c179e\"],[0.4444444444444444,\"#bd3786\"],[0.5555555555555556,\"#d8576b\"],[0.6666666666666666,\"#ed7953\"],[0.7777777777777778,\"#fb9f3a\"],[0.8888888888888888,\"#fdca26\"],[1.0,\"#f0f921\"]],\"type\":\"histogram2d\"}],\"histogram\":[{\"marker\":{\"pattern\":{\"fillmode\":\"overlay\",\"size\":10,\"solidity\":0.2}},\"type\":\"histogram\"}],\"mesh3d\":[{\"colorbar\":{\"outlinewidth\":0,\"ticks\":\"\"},\"type\":\"mesh3d\"}],\"parcoords\":[{\"line\":{\"colorbar\":{\"outlinewidth\":0,\"ticks\":\"\"}},\"type\":\"parcoords\"}],\"pie\":[{\"automargin\":true,\"type\":\"pie\"}],\"scatter3d\":[{\"line\":{\"colorbar\":{\"outlinewidth\":0,\"ticks\":\"\"}},\"marker\":{\"colorbar\":{\"outlinewidth\":0,\"ticks\":\"\"}},\"type\":\"scatter3d\"}],\"scattercarpet\":[{\"marker\":{\"colorbar\":{\"outlinewidth\":0,\"ticks\":\"\"}},\"type\":\"scattercarpet\"}],\"scattergeo\":[{\"marker\":{\"colorbar\":{\"outlinewidth\":0,\"ticks\":\"\"}},\"type\":\"scattergeo\"}],\"scattergl\":[{\"marker\":{\"colorbar\":{\"outlinewidth\":0,\"ticks\":\"\"}},\"type\":\"scattergl\"}],\"scattermapbox\":[{\"marker\":{\"colorbar\":{\"outlinewidth\":0,\"ticks\":\"\"}},\"type\":\"scattermapbox\"}],\"scatterpolargl\":[{\"marker\":{\"colorbar\":{\"outlinewidth\":0,\"ticks\":\"\"}},\"type\":\"scatterpolargl\"}],\"scatterpolar\":[{\"marker\":{\"colorbar\":{\"outlinewidth\":0,\"ticks\":\"\"}},\"type\":\"scatterpolar\"}],\"scatter\":[{\"fillpattern\":{\"fillmode\":\"overlay\",\"size\":10,\"solidity\":0.2},\"type\":\"scatter\"}],\"scatterternary\":[{\"marker\":{\"colorbar\":{\"outlinewidth\":0,\"ticks\":\"\"}},\"type\":\"scatterternary\"}],\"surface\":[{\"colorbar\":{\"outlinewidth\":0,\"ticks\":\"\"},\"colorscale\":[[0.0,\"#0d0887\"],[0.1111111111111111,\"#46039f\"],[0.2222222222222222,\"#7201a8\"],[0.3333333333333333,\"#9c179e\"],[0.4444444444444444,\"#bd3786\"],[0.5555555555555556,\"#d8576b\"],[0.6666666666666666,\"#ed7953\"],[0.7777777777777778,\"#fb9f3a\"],[0.8888888888888888,\"#fdca26\"],[1.0,\"#f0f921\"]],\"type\":\"surface\"}],\"table\":[{\"cells\":{\"fill\":{\"color\":\"#EBF0F8\"},\"line\":{\"color\":\"white\"}},\"header\":{\"fill\":{\"color\":\"#C8D4E3\"},\"line\":{\"color\":\"white\"}},\"type\":\"table\"}]},\"layout\":{\"annotationdefaults\":{\"arrowcolor\":\"#2a3f5f\",\"arrowhead\":0,\"arrowwidth\":1},\"autotypenumbers\":\"strict\",\"coloraxis\":{\"colorbar\":{\"outlinewidth\":0,\"ticks\":\"\"}},\"colorscale\":{\"diverging\":[[0,\"#8e0152\"],[0.1,\"#c51b7d\"],[0.2,\"#de77ae\"],[0.3,\"#f1b6da\"],[0.4,\"#fde0ef\"],[0.5,\"#f7f7f7\"],[0.6,\"#e6f5d0\"],[0.7,\"#b8e186\"],[0.8,\"#7fbc41\"],[0.9,\"#4d9221\"],[1,\"#276419\"]],\"sequential\":[[0.0,\"#0d0887\"],[0.1111111111111111,\"#46039f\"],[0.2222222222222222,\"#7201a8\"],[0.3333333333333333,\"#9c179e\"],[0.4444444444444444,\"#bd3786\"],[0.5555555555555556,\"#d8576b\"],[0.6666666666666666,\"#ed7953\"],[0.7777777777777778,\"#fb9f3a\"],[0.8888888888888888,\"#fdca26\"],[1.0,\"#f0f921\"]],\"sequentialminus\":[[0.0,\"#0d0887\"],[0.1111111111111111,\"#46039f\"],[0.2222222222222222,\"#7201a8\"],[0.3333333333333333,\"#9c179e\"],[0.4444444444444444,\"#bd3786\"],[0.5555555555555556,\"#d8576b\"],[0.6666666666666666,\"#ed7953\"],[0.7777777777777778,\"#fb9f3a\"],[0.8888888888888888,\"#fdca26\"],[1.0,\"#f0f921\"]]},\"colorway\":[\"#636efa\",\"#EF553B\",\"#00cc96\",\"#ab63fa\",\"#FFA15A\",\"#19d3f3\",\"#FF6692\",\"#B6E880\",\"#FF97FF\",\"#FECB52\"],\"font\":{\"color\":\"#2a3f5f\"},\"geo\":{\"bgcolor\":\"white\",\"lakecolor\":\"white\",\"landcolor\":\"#E5ECF6\",\"showlakes\":true,\"showland\":true,\"subunitcolor\":\"white\"},\"hoverlabel\":{\"align\":\"left\"},\"hovermode\":\"closest\",\"mapbox\":{\"style\":\"light\"},\"paper_bgcolor\":\"white\",\"plot_bgcolor\":\"#E5ECF6\",\"polar\":{\"angularaxis\":{\"gridcolor\":\"white\",\"linecolor\":\"white\",\"ticks\":\"\"},\"bgcolor\":\"#E5ECF6\",\"radialaxis\":{\"gridcolor\":\"white\",\"linecolor\":\"white\",\"ticks\":\"\"}},\"scene\":{\"xaxis\":{\"backgroundcolor\":\"#E5ECF6\",\"gridcolor\":\"white\",\"gridwidth\":2,\"linecolor\":\"white\",\"showbackground\":true,\"ticks\":\"\",\"zerolinecolor\":\"white\"},\"yaxis\":{\"backgroundcolor\":\"#E5ECF6\",\"gridcolor\":\"white\",\"gridwidth\":2,\"linecolor\":\"white\",\"showbackground\":true,\"ticks\":\"\",\"zerolinecolor\":\"white\"},\"zaxis\":{\"backgroundcolor\":\"#E5ECF6\",\"gridcolor\":\"white\",\"gridwidth\":2,\"linecolor\":\"white\",\"showbackground\":true,\"ticks\":\"\",\"zerolinecolor\":\"white\"}},\"shapedefaults\":{\"line\":{\"color\":\"#2a3f5f\"}},\"ternary\":{\"aaxis\":{\"gridcolor\":\"white\",\"linecolor\":\"white\",\"ticks\":\"\"},\"baxis\":{\"gridcolor\":\"white\",\"linecolor\":\"white\",\"ticks\":\"\"},\"bgcolor\":\"#E5ECF6\",\"caxis\":{\"gridcolor\":\"white\",\"linecolor\":\"white\",\"ticks\":\"\"}},\"title\":{\"x\":0.05},\"xaxis\":{\"automargin\":true,\"gridcolor\":\"white\",\"linecolor\":\"white\",\"ticks\":\"\",\"title\":{\"standoff\":15},\"zerolinecolor\":\"white\",\"zerolinewidth\":2},\"yaxis\":{\"automargin\":true,\"gridcolor\":\"white\",\"linecolor\":\"white\",\"ticks\":\"\",\"title\":{\"standoff\":15},\"zerolinecolor\":\"white\",\"zerolinewidth\":2}}},\"title\":{\"text\":\"Evolution Of Average Haste Year-over-Year\"},\"xaxis\":{\"tickformat\":\"d\",\"ticklen\":5,\"title\":{\"text\":\"Year\"},\"zeroline\":false},\"yaxis\":{\"title\":{\"text\":\"Average Haste (Minutes)\"}}},                        {\"responsive\": true}                    ).then(function(){\n",
       "                            \n",
       "var gd = document.getElementById('87f8303d-8639-4eaf-b10f-d41ed2d8abcf');\n",
       "var x = new MutationObserver(function (mutations, observer) {{\n",
       "        var display = window.getComputedStyle(gd).display;\n",
       "        if (!display || display === 'none') {{\n",
       "            console.log([gd, 'removed!']);\n",
       "            Plotly.purge(gd);\n",
       "            observer.disconnect();\n",
       "        }}\n",
       "}});\n",
       "\n",
       "// Listen for the removal of the full notebook cells\n",
       "var notebookContainer = gd.closest('#notebook-container');\n",
       "if (notebookContainer) {{\n",
       "    x.observe(notebookContainer, {childList: true});\n",
       "}}\n",
       "\n",
       "// Listen for the clearing of the current output cell\n",
       "var outputEl = gd.closest('.output');\n",
       "if (outputEl) {{\n",
       "    x.observe(outputEl, {childList: true});\n",
       "}}\n",
       "\n",
       "                        })                };                });            </script>        </div>"
      ]
     },
     "metadata": {},
     "output_type": "display_data"
    }
   ],
   "source": [
    "averageDepartureImmediacyPerYearTrace = go.Scatter(\n",
    "    y= evolutionAverageDelaysPerYear.toPandas()['AverageDepartureImmediacyPerYear'],\n",
    "    x = evolutionAverageDelaysPerYear.toPandas()['Year'],\n",
    "    mode = 'lines+markers',\n",
    "    name = 'Average Departure Haste',\n",
    "    marker = dict(color='blue'),\n",
    "    text = evolutionAverageDelaysPerYear.toPandas()['Year'])\n",
    "\n",
    "averageArrivalImmediacyPerYearTrace = go.Scatter(\n",
    "    y = evolutionAverageDelaysPerYear.toPandas()['AverageArrivalImmediacyPerYear'],\n",
    "    x = evolutionAverageDelaysPerYear.toPandas()['Year'],\n",
    "    mode = 'lines+markers',\n",
    "    name = 'Average Arrival Haste',\n",
    "    marker = dict(color='green'),\n",
    "    text = evolutionAverageDelaysPerYear.toPandas()['Year'])\n",
    "\n",
    "data = [averageDepartureImmediacyPerYearTrace, averageArrivalImmediacyPerYearTrace]\n",
    "\n",
    "layout = dict(title = 'Evolution Of Average Haste Year-over-Year',\n",
    "              xaxis= dict(title= 'Year',ticklen= 5,zeroline= False,tickformat='d'),\n",
    "              yaxis= dict(title= 'Average Haste (Minutes)')\n",
    "             )\n",
    "fig = dict(data = data, layout = layout)\n",
    "\n",
    "pyo.iplot(fig)"
   ]
  },
  {
   "cell_type": "markdown",
   "id": "0b866f42-e0a4-4cb6-af10-116aac56421d",
   "metadata": {},
   "source": [
    "AVERAGE DEPARTURE/ARRIVAL DELAYS AND IMMEDIACIES FOR EACH CARRIER"
   ]
  },
  {
   "cell_type": "code",
   "execution_count": 6,
   "id": "704f4ef8-3641-4ded-9240-99a016d7bf53",
   "metadata": {},
   "outputs": [
    {
     "name": "stderr",
     "output_type": "stream",
     "text": [
      "                                                                                \r"
     ]
    },
    {
     "name": "stdout",
     "output_type": "stream",
     "text": [
      "+-------+----------------------------+--------------------------------+--------------------------+------------------------------+\n",
      "|Carrier|AverageDepartureDelayPerYear|AverageDepartureImmediacyPerYear|AverageArrivalDelayPerYear|AverageArrivalImmediacyPerYear|\n",
      "+-------+----------------------------+--------------------------------+--------------------------+------------------------------+\n",
      "|     9E|            41.1994042994043|              -5.564889633425305|         35.87002260292782|           -13.436900873769936|\n",
      "|     AA|           32.54444204760743|              -4.700877399716953|        33.255888586969014|           -12.431163678020225|\n",
      "|     AS|          25.501613592356573|              -6.637907372005587|         21.63877411823345|            -12.85842735530121|\n",
      "|     B6|          38.235298232523434|              -5.639004307460789|         37.05889731902625|           -13.144293274691284|\n",
      "|     DL|          29.328027779297397|              -4.020968669531213|         29.34248583546835|           -12.348174917909663|\n",
      "|     EV|           43.56866417921721|              -5.448998556463123|         41.61820136117948|            -12.27658039461425|\n",
      "|     F9|           30.43687578829355|              -5.644616496506808|        29.569596403127857|            -8.997076131269715|\n",
      "|     FL|          26.881852415566694|              -5.123646181590465|        26.632331391617114|           -11.377479195621511|\n",
      "|     HA|           16.85204686060287|              -5.377219951531812|        13.699081100471867|            -6.832853299111147|\n",
      "|     MQ|           37.70671422605953|              -5.547490971768387|        35.154946836224696|           -11.419539287733183|\n",
      "|     OO|           35.26593509716727|              -5.683508519198818|          30.4951227877527|            -10.70557629378142|\n",
      "|     UA|          29.072918172450425|              -4.317180445216506|        34.694970044467624|           -14.192229972779081|\n",
      "|     US|          25.681472483059192|               -4.93821045794089|        24.695787813815244|           -12.036087642183674|\n",
      "|     VX|           34.97147340601256|              -4.345797309529011|         36.41132309966074|            -12.93895484893928|\n",
      "|     WN|           24.35856657117614|              -3.067454431394141|        27.253741975736382|             -9.77646058522212|\n",
      "|     YV|           37.17987324965438|               -5.92668624921075|        29.824539537460186|            -10.78582938803043|\n",
      "+-------+----------------------------+--------------------------------+--------------------------+------------------------------+\n",
      "\n"
     ]
    }
   ],
   "source": [
    "spark.sql(\"SELECT OP_CARRIER AS Carrier, AVG(IF(DEP_DELAY > 0, DEP_DELAY, NULL)) AS AverageDepartureDelayPerYear, AVG(IF(DEP_DELAY < 0, DEP_DELAY, NULL)) AS AverageDepartureImmediacyPerYear, AVG(IF(ARR_DELAY > 0, ARR_DELAY, NULL)) AS AverageArrivalDelayPerYear, AVG(IF(ARR_DELAY < 0, ARR_DELAY, NULL)) AS AverageArrivalImmediacyPerYear \\\n",
    "    FROM airlinedelay \\\n",
    "    GROUP BY OP_CARRIER \\\n",
    "    ORDER BY OP_CARRIER\") \\\n",
    "    .show(1000)"
   ]
  },
  {
   "cell_type": "markdown",
   "id": "5033a9ef-d8cd-4a81-ad39-b8cc4c2b3a69",
   "metadata": {},
   "source": [
    "EVOLUTION OF DELAYS/IMMEDIACIES FOR DEPARTURES AND ARRIVALS PER CARRIER FOR EACH YEAR"
   ]
  },
  {
   "cell_type": "code",
   "execution_count": 8,
   "id": "bf0d72cd-b926-49de-a500-ee99e9b98b28",
   "metadata": {},
   "outputs": [
    {
     "name": "stderr",
     "output_type": "stream",
     "text": [
      "[Stage 9:===============================================>         (15 + 3) / 18]\r"
     ]
    },
    {
     "name": "stdout",
     "output_type": "stream",
     "text": [
      "+-------+----+----------------------------+--------------------------------+--------------------------+------------------------------+\n",
      "|Carrier|Year|AverageDepartureDelayPerYear|AverageDepartureImmediacyPerYear|AverageArrivalDelayPerYear|AverageArrivalImmediacyPerYear|\n",
      "+-------+----+----------------------------+--------------------------------+--------------------------+------------------------------+\n",
      "|     9E|2013|            41.1994042994043|              -5.564889633425305|         35.87002260292782|           -13.436900873769936|\n",
      "|     AA|2012|            31.9744497812039|              -4.552307015030712|        31.822441532976004|            -12.59330599656538|\n",
      "|     AA|2013|           30.80871770776232|              -4.624880325958691|         33.37034777594022|           -12.778652352657465|\n",
      "|     AA|2014|          35.007743983428355|              -4.912890145205526|        34.518669487146646|           -11.904497881883877|\n",
      "|     AS|2012|          27.879336977186313|              -6.545036549090261|        24.246269888037713|           -13.028705652360387|\n",
      "|     AS|2013|          23.795181743722992|               -6.64855767943075|        19.882907183665825|            -12.73828441874493|\n",
      "|     AS|2014|          25.022183133001075|              -6.715974420836435|        21.340791981365143|           -12.802217945192925|\n",
      "|     B6|2012|           37.77673907421774|              -5.522459584295612|         36.77162532413523|           -13.625548711286857|\n",
      "|     B6|2013|           39.23814312593265|              -5.636668673548804|          38.0538329659564|           -12.861876823975928|\n",
      "|     B6|2014|           37.58069898740543|              -5.752401677558862|         36.25216995949409|           -12.931696867289297|\n",
      "|     DL|2012|          28.185010990751927|              -4.137410065895643|        27.693688722889522|           -13.055169692186267|\n",
      "|     DL|2013|           30.87539669720926|              -4.082958653471191|        30.374229306314596|           -12.229476435072542|\n",
      "|     DL|2014|          28.859070919859914|             -3.8419289610104523|         29.70703169374077|           -11.777005478619662|\n",
      "|     EV|2012|           42.65081145676728|              -5.346213167957328|         41.36854134109287|           -12.691033807837169|\n",
      "|     EV|2013|            43.8381827896493|             -5.5464265723894774|         41.86608018555334|           -12.130974118476383|\n",
      "|     EV|2014|          44.210311092091345|              -5.459799986139765|        41.586408640864086|           -11.927714503927438|\n",
      "|     F9|2012|          23.497100068073518|              -5.149581534196919|         23.49190994988906|            -8.819876801231988|\n",
      "|     F9|2013|           31.13592475445314|              -5.360202437162487|        30.679076712194643|            -8.900127364791402|\n",
      "|     F9|2014|          37.138992646200535|               -6.24752579490419|         34.21748091245492|             -9.23701176529614|\n",
      "|     FL|2012|          28.042007626507267|              -5.330544987276071|        24.489068177619018|           -11.284197329569977|\n",
      "|     FL|2013|          27.188400292595094|              -4.894654343008486|         28.19164486524646|           -10.964598536335828|\n",
      "|     FL|2014|          24.503274942878903|              -4.838947471197032|         27.58211411196566|           -12.480324434210798|\n",
      "|     HA|2012|           16.38968839944938|              -4.999248630124434|         13.53497393117831|            -6.541825920778319|\n",
      "|     HA|2013|          17.216791458679978|              -5.454759514465638|        13.879850582289606|            -6.848321826062335|\n",
      "|     HA|2014|           16.99229045861887|              -5.666920219352556|        13.692131427683703|            -7.113739984949759|\n",
      "|     MQ|2012|          36.102855114756686|             -5.6072560031107175|        32.525780706475366|           -12.135391868318049|\n",
      "|     MQ|2013|          40.280996298387606|              -5.554361798684951|         38.07931932254341|           -11.209629769866464|\n",
      "|     MQ|2014|           36.25411820855296|              -5.450647928194478|         34.35198788169055|           -10.505852198974765|\n",
      "|     OO|2012|          31.932293797231253|              -5.513967224877318|        28.333251159767823|            -10.70558916399427|\n",
      "|     OO|2013|           36.18564134502327|             -5.7823355534030645|        30.974364221611136|           -10.753266570497052|\n",
      "|     OO|2014|           37.56522497742015|              -5.754899520685973|         31.96983722626864|           -10.652929321435474|\n",
      "|     UA|2012|          28.203038149876107|              -4.145415018161686|         34.02179667047542|           -14.425387555570138|\n",
      "|     UA|2013|            29.1156059936218|              -4.444042247443326|         34.79780292979094|            -14.64934353950983|\n",
      "|     UA|2014|          29.960297137239667|              -4.355269326502501|         35.29902186306083|           -13.424135925858623|\n",
      "|     US|2012|          23.297090700526088|              -5.029653766078202|        22.444664622159316|           -12.717672912768387|\n",
      "|     US|2013|           26.18748442820364|              -4.939457939963635|         25.19516970038711|           -11.721731190954648|\n",
      "|     US|2014|            27.1132282363411|              -4.839561148757664|         26.02786089457936|            -11.60515168813548|\n",
      "|     VX|2012|              34.93707264408|              -4.256121794871794|        36.512587038028926|           -13.439487298726966|\n",
      "|     VX|2013|           35.58277182607009|              -4.328941234966904|        37.483202073571924|           -12.933374773960217|\n",
      "|     VX|2014|           34.38782991202346|              -4.447828211863889|        35.287121576165305|           -12.451096145579596|\n",
      "|     WN|2012|          21.144626965146823|             -2.8815203641976788|         25.02297244972479|           -10.076667458556173|\n",
      "|     WN|2013|          22.943475906049997|              -2.888472798341851|        25.580671845090496|            -9.330167506796556|\n",
      "|     WN|2014|           28.55409783682392|             -3.4186154518000604|        30.439219882821906|            -9.855738949300946|\n",
      "|     YV|2012|           33.55842391304348|              -6.015638815796482|        26.301508700481303|           -11.342036122860138|\n",
      "|     YV|2013|          39.836089690354726|              -5.832087100355743|          32.4550952002488|           -10.158290021135466|\n",
      "+-------+----+----------------------------+--------------------------------+--------------------------+------------------------------+\n",
      "\n"
     ]
    },
    {
     "name": "stderr",
     "output_type": "stream",
     "text": [
      "                                                                                \r"
     ]
    }
   ],
   "source": [
    "carrierDelayEvolution = spark.sql(\"SELECT OP_CARRIER AS Carrier, EXTRACT(year from FL_DATE) AS Year, AVG(IF(DEP_DELAY > 0, DEP_DELAY, NULL)) AS AverageDepartureDelayPerYear, AVG(IF(DEP_DELAY < 0, DEP_DELAY, NULL)) AS AverageDepartureImmediacyPerYear, AVG(IF(ARR_DELAY > 0, ARR_DELAY, NULL)) AS AverageArrivalDelayPerYear, AVG(IF(ARR_DELAY < 0, ARR_DELAY, NULL)) AS AverageArrivalImmediacyPerYear \\\n",
    "    FROM airlinedelay \\\n",
    "    GROUP BY OP_CARRIER, Year  \\\n",
    "    ORDER BY OP_CARRIER, Year\")\n",
    "\n",
    "carrierDelayEvolution.show(1000)"
   ]
  },
  {
   "cell_type": "code",
   "execution_count": 9,
   "id": "ffd94168-b732-478c-98da-e372730112d4",
   "metadata": {},
   "outputs": [],
   "source": [
    "carrierDelayEvolution.createOrReplaceTempView(\"carrierDelayEvolution\")"
   ]
  },
  {
   "cell_type": "markdown",
   "id": "39b709fe-6fac-4c7a-b081-5467548c5997",
   "metadata": {},
   "source": [
    "EVOLUTION OF DELAYS/IMMEDIACIES FOR DEPARTURES AND ARRIVALS PER CARRIER FOR EACH YEAR: absolute change YoY of average departure/arrival delays/immediacies \n",
    "\n",
    "*Note: negative => immediacy decreases, plane leaves on time; positive => immediacy increases, plane does not leave on time.*"
   ]
  },
  {
   "cell_type": "code",
   "execution_count": 10,
   "id": "259610ce-8978-4f0b-a603-0c5460a4aa13",
   "metadata": {},
   "outputs": [
    {
     "name": "stdout",
     "output_type": "stream",
     "text": [
      "23/01/01 10:48:49 WARN WindowExec: No Partition Defined for Window operation! Moving all data to a single partition, this can cause serious performance degradation.\n",
      "23/01/01 10:48:49 WARN WindowExec: No Partition Defined for Window operation! Moving all data to a single partition, this can cause serious performance degradation.\n",
      "23/01/01 10:48:49 WARN WindowExec: No Partition Defined for Window operation! Moving all data to a single partition, this can cause serious performance degradation.\n"
     ]
    },
    {
     "name": "stderr",
     "output_type": "stream",
     "text": [
      "[Stage 12:====================================================>   (17 + 1) / 18]\r"
     ]
    },
    {
     "name": "stdout",
     "output_type": "stream",
     "text": [
      "23/01/01 10:48:53 WARN WindowExec: No Partition Defined for Window operation! Moving all data to a single partition, this can cause serious performance degradation.\n",
      "23/01/01 10:48:53 WARN WindowExec: No Partition Defined for Window operation! Moving all data to a single partition, this can cause serious performance degradation.\n",
      "23/01/01 10:48:53 WARN WindowExec: No Partition Defined for Window operation! Moving all data to a single partition, this can cause serious performance degradation.\n",
      "23/01/01 10:48:53 WARN WindowExec: No Partition Defined for Window operation! Moving all data to a single partition, this can cause serious performance degradation.\n",
      "23/01/01 10:48:53 WARN WindowExec: No Partition Defined for Window operation! Moving all data to a single partition, this can cause serious performance degradation.\n",
      "23/01/01 10:48:53 WARN WindowExec: No Partition Defined for Window operation! Moving all data to a single partition, this can cause serious performance degradation.\n",
      "+-------+----+-------------------------------------------+-----------------------------------------------+-----------------------------------------+---------------------------------------------+\n",
      "|Carrier|Year|AverageDepartureDelayYearOverYearDifference|AverageDepartureImmediacyYearOverYearDifference|AverageArrivalDelayYearOverYearDifference|AverageArrivalImmediacyYearOverYearDifference|\n",
      "+-------+----+-------------------------------------------+-----------------------------------------------+-----------------------------------------+---------------------------------------------+\n",
      "|     AA|2013|                         -1.165732073441582|                            0.07257331092797958|                       1.5479062429642134|                          0.18534635609208472|\n",
      "|     AA|2014|                          4.199026275666036|                            0.28800981924683455|                       1.1483217112064281|                           -0.874154470773588|\n",
      "|     AS|2013|                         -4.084155233463321|                            0.10352113034048926|                      -4.3633627043718874|                         -0.29042123361545613|\n",
      "|     AS|2014|                          1.227001389278083|                            0.06741674140568499|                       1.4578847976993181|                          0.06393352644799499|\n",
      "|     B6|2013|                          1.461404051714915|                            0.11420908925319129|                       1.2822076418211736|                          -0.7636718873109292|\n",
      "|     B6|2014|                        -1.6574441385272252|                             0.1157330040100586|                       -1.801663006462313|                          0.06982004331336888|\n",
      "|     DL|2013|                         2.6903857064573344|                           -0.05445141242445217|                        2.680540583425074|                          -0.8256932571137252|\n",
      "|     DL|2014|                        -2.0163257773493477|                           -0.24102969246073824|                      -0.6671976125738261|                          -0.4524709564528795|\n",
      "|     EV|2013|                          1.187371332882023|                            0.20021340443214974|                       0.4975388444604718|                          -0.5600596893607861|\n",
      "|     EV|2014|                          0.372128302442043|                           -0.08662658624971264|                      -0.2796715446892577|                         -0.20325961454894426|\n",
      "|     F9|2013|                          7.638824686379621|                            0.21062090296556768|                       7.1871667623055835|                          0.08025056355941373|\n",
      "|     F9|2014|                          6.003067891747396|                             0.8873233577417032|                        3.538404200260274|                           0.3368844005047382|\n",
      "|     FL|2013|                        -0.8536073339121728|                            -0.4358906442675856|                       3.7025766876274417|                          -0.3195987932341495|\n",
      "|     FL|2014|                        -2.6851253497161913|                           -0.05570687181145395|                      -0.6095307532808008|                           1.5157258978749706|\n",
      "|     HA|2013|                         0.8271030592305983|                             0.4555108843412041|                      0.34487665111129573|                           0.3064959052840166|\n",
      "|     HA|2014|                       -0.22450100006110674|                            0.21216070488691763|                     -0.18771915460590272|                           0.2654181588874236|\n",
      "|     MQ|2013|                           4.17814118363092|                           -0.05289420442576631|                        5.553538616068046|                          -0.9257620984515853|\n",
      "|     MQ|2014|                         -4.026878089834646|                           -0.10371387049047343|                       -3.727331440852865|                          -0.7037775708916989|\n",
      "|     OO|2013|                          4.253347547792018|                            0.26836832852574677|                       2.6411130618433134|                          0.04767740650278185|\n",
      "|     OO|2014|                           1.37958363239688|                           -0.02743603271709...|                       0.9954730046575051|                         -0.10033724906157815|\n",
      "|     UA|2013|                         0.9125678437456912|                            0.29862722928163965|                       0.7760062593155226|                          0.22395598393969252|\n",
      "|     UA|2014|                         0.8446911436178688|                           -0.08877292094082456|                       0.5012189332698895|                          -1.2252076136512073|\n",
      "|     US|2013|                         2.8903937276775515|                           -0.09019582611456745|                       2.7505050782277927|                          -0.9959417218137396|\n",
      "|     US|2014|                         0.9257438081374616|                           -0.09989679120597117|                       0.8326911941922504|                          -0.1165795028191674|\n",
      "|     VX|2013|                         0.6456991819900963|                            0.07281944009510966|                       0.9706150355429983|                          -0.5061125247667491|\n",
      "|     VX|2014|                        -1.1949419140466304|                            0.11888697689698535|                      -2.1960804974066193|                          -0.4822786283806213|\n",
      "|     WN|2013|                         1.7988489409031736|                           0.006952434144172237|                       0.5576993953657059|                          -0.7464999517596169|\n",
      "|     WN|2014|                          5.610621930773924|                             0.5301426534582094|                         4.85854803773141|                           0.5255714425043898|\n",
      "|     YV|2013|                          6.277665777311249|                           -0.18355171544073912|                        6.153586499767496|                          -1.1837461017246724|\n",
      "+-------+----+-------------------------------------------+-----------------------------------------------+-----------------------------------------+---------------------------------------------+\n",
      "\n"
     ]
    },
    {
     "name": "stderr",
     "output_type": "stream",
     "text": [
      "                                                                                \r"
     ]
    }
   ],
   "source": [
    "spark.sql(\" \\\n",
    "    SELECT Carrier, Year, \\\n",
    "    IF(Carrier = LAG(Carrier) OVER (ORDER BY Carrier, Year), AverageDepartureDelayPerYear - LAG(AverageDepartureDelayPerYear) OVER (ORDER BY Carrier, Year), NULL) AS AverageDepartureDelayYearOverYearDifference, \\\n",
    "    IF(Carrier = LAG(Carrier) OVER (ORDER BY Carrier, Year), - AverageDepartureImmediacyPerYear + LAG(AverageDepartureImmediacyPerYear) OVER (ORDER BY Carrier, Year), NULL) AS AverageDepartureImmediacyYearOverYearDifference, \\\n",
    "    IF(Carrier = LAG(Carrier) OVER (ORDER BY Carrier, Year), AverageArrivalDelayPerYear - LAG(AverageArrivalDelayPerYear) OVER (ORDER BY Carrier, Year), NULL) AS AverageArrivalDelayYearOverYearDifference, \\\n",
    "    IF(Carrier = LAG(Carrier) OVER (ORDER BY Carrier, Year), - AverageArrivalImmediacyPerYear + LAG(AverageArrivalImmediacyPerYear) OVER (ORDER BY Carrier, Year), NULL) AS AverageArrivalImmediacyYearOverYearDifference \\\n",
    "    FROM carrierDelayEvolution\") \\\n",
    "    .na.drop('any') \\\n",
    "    .show(1000)"
   ]
  },
  {
   "cell_type": "markdown",
   "id": "644d6bf2-1e27-4d20-b682-e0b75fd93a09",
   "metadata": {},
   "source": [
    "PERCENTAGE OF DELAYS/IMMEDIACIES ON DELAYS/ARRIVALS PER CARRIER FOR ENTIRE PERIOD RELATIVE TO ALL FLIGHTS FOR CURRENT CARRIER"
   ]
  },
  {
   "cell_type": "code",
   "execution_count": 66,
   "id": "30c6a43b-ab8d-4a33-b4b7-a9197e9a8941",
   "metadata": {},
   "outputs": [
    {
     "name": "stderr",
     "output_type": "stream",
     "text": [
      "[Stage 545:==========================================>            (14 + 4) / 18]\r"
     ]
    },
    {
     "name": "stdout",
     "output_type": "stream",
     "text": [
      "+-------+-------------------+-------------------+-------------------------+-----------------------+\n",
      "|Carrier|DepartureDelayCount|  ArrivalDelayCount|DepartureImmediaciesCount|ArrivalImmediaciesCount|\n",
      "+-------+-------------------+-------------------+-------------------------+-----------------------+\n",
      "|     UA|0.49265078196307127|0.38583117019726626|      0.43628488975682933|     0.5794033729895575|\n",
      "|     AA|0.39963068650331585| 0.4076010364765793|       0.5327690766163088|     0.5491283152008236|\n",
      "|     EV| 0.3651398344895044|0.38786443289396993|       0.5648748926719043|      0.557476378625943|\n",
      "|     B6| 0.3571224355540258|0.38944743145979466|       0.5828644629062657|      0.574316540971457|\n",
      "|     DL|0.30440014654300496|0.31626688706547634|       0.6240685491716639|     0.6540809422224404|\n",
      "|     OO| 0.3052583400865307| 0.3814990213472831|       0.6264621233129346|     0.5658852701323807|\n",
      "|     F9|0.44534640365147854| 0.5145314365838538|       0.5008591958925027|     0.4511007277160368|\n",
      "|     YV| 0.2657603911268907|0.36775094762420973|       0.6625548385219245|     0.5824196611106665|\n",
      "|     US|0.28212922754062575| 0.3579506554449318|       0.6601602695035577|     0.6051119913002588|\n",
      "|     MQ| 0.3282951904946443|0.39688107430003383|        0.588299356823052|     0.5419290406875668|\n",
      "|     HA|0.20613493603223487| 0.3277663966860673|       0.7501661940875606|     0.6202001564711681|\n",
      "|     AS| 0.2378088458154351| 0.3296329844844769|       0.7135648951832051|     0.6369038997425249|\n",
      "|     FL| 0.3232084205348074|0.35017567518855663|       0.6196425428691988|     0.6148377151411445|\n",
      "|     VX|0.35741063258257816|0.35151872952150426|       0.5674469404020427|     0.6180771614960002|\n",
      "|     WN| 0.5419673162555081|0.43303784934553574|       0.3668398013623257|      0.528691721572943|\n",
      "|     9E|0.26026201462077986|0.31910239601484325|        0.684055665467929|     0.6356837354778042|\n",
      "+-------+-------------------+-------------------+-------------------------+-----------------------+\n",
      "\n"
     ]
    },
    {
     "name": "stderr",
     "output_type": "stream",
     "text": [
      "                                                                                \r"
     ]
    }
   ],
   "source": [
    "numberOfDelaysPerCarrier = spark.sql(\" \\\n",
    "    SELECT OP_CARRIER AS Carrier, \\\n",
    "    SUM( \\\n",
    "          CASE WHEN DEP_DELAY > 0 THEN 1 \\\n",
    "          ELSE 0 END \\\n",
    "    ) / COUNT(*) AS DepartureDelayCount, \\\n",
    "    SUM( \\\n",
    "          CASE WHEN ARR_DELAY > 0 THEN 1 \\\n",
    "          ELSE 0 END \\\n",
    "    ) / COUNT(*) AS ArrivalDelayCount, \\\n",
    "    SUM( \\\n",
    "          CASE WHEN DEP_DELAY < 0 THEN 1 \\\n",
    "          ELSE 0 END \\\n",
    "    ) / COUNT(*) AS DepartureImmediaciesCount, \\\n",
    "    SUM( \\\n",
    "          CASE WHEN ARR_DELAY < 0 THEN 1 \\\n",
    "          ELSE 0 END \\\n",
    "    ) / COUNT(*) AS ArrivalImmediaciesCount \\\n",
    "    FROM airlinedelay \\\n",
    "    GROUP BY Carrier\")\n",
    "\n",
    "numberOfDelaysPerCarrier.show(1000)"
   ]
  },
  {
   "cell_type": "markdown",
   "id": "52cd67ba-ac66-47b0-8082-1fc4ee38ea2d",
   "metadata": {
    "tags": []
   },
   "source": [
    "PERCENTAGE OF DELAYS/IMMEDIACIES ON DELAYS/ARRIVALS PER CARRIER FOR ENTIRE PERIOD RELATIVE TO ALL FLIGHTS FOR CURRENT CARRIER \\[GRAPHS\\]"
   ]
  },
  {
   "cell_type": "code",
   "execution_count": 88,
   "id": "3162f407-7210-4f62-ade6-76d596b90931",
   "metadata": {},
   "outputs": [
    {
     "data": {
      "application/vnd.plotly.v1+json": {
       "config": {
        "linkText": "Export to plot.ly",
        "plotlyServerURL": "https://plot.ly",
        "showLink": false
       },
       "data": [
        {
         "marker": {
          "color": "red"
         },
         "name": "Departure Delay Percentage",
         "text": [
          49,
          40,
          37,
          36,
          30,
          31,
          45,
          27,
          28,
          33,
          21,
          24,
          32,
          36,
          54,
          26
         ],
         "type": "bar",
         "x": [
          "UA",
          "AA",
          "EV",
          "B6",
          "DL",
          "OO",
          "F9",
          "YV",
          "US",
          "MQ",
          "HA",
          "AS",
          "FL",
          "VX",
          "WN",
          "9E"
         ],
         "y": [
          0.49265078196307127,
          0.39963068650331585,
          0.3651398344895044,
          0.3571224355540258,
          0.30440014654300496,
          0.3052583400865307,
          0.44534640365147854,
          0.2657603911268907,
          0.28212922754062575,
          0.3282951904946443,
          0.20613493603223487,
          0.2378088458154351,
          0.3232084205348074,
          0.35741063258257816,
          0.5419673162555081,
          0.26026201462077986
         ]
        },
        {
         "marker": {
          "color": "yellow"
         },
         "name": "Arrival Delay Percentage",
         "text": [
          39,
          41,
          39,
          39,
          32,
          38,
          51,
          37,
          36,
          40,
          33,
          33,
          35,
          35,
          43,
          32
         ],
         "type": "bar",
         "x": [
          "UA",
          "AA",
          "EV",
          "B6",
          "DL",
          "OO",
          "F9",
          "YV",
          "US",
          "MQ",
          "HA",
          "AS",
          "FL",
          "VX",
          "WN",
          "9E"
         ],
         "y": [
          0.38583117019726626,
          0.4076010364765793,
          0.38786443289396993,
          0.38944743145979466,
          0.31626688706547634,
          0.3814990213472831,
          0.5145314365838538,
          0.36775094762420973,
          0.3579506554449318,
          0.39688107430003383,
          0.3277663966860673,
          0.3296329844844769,
          0.35017567518855663,
          0.35151872952150426,
          0.43303784934553574,
          0.31910239601484325
         ]
        },
        {
         "marker": {
          "color": "blue"
         },
         "name": "Departure Haste Percentage",
         "text": [
          44,
          53,
          56,
          58,
          62,
          63,
          50,
          66,
          66,
          59,
          75,
          71,
          62,
          57,
          37,
          68
         ],
         "type": "bar",
         "x": [
          "UA",
          "AA",
          "EV",
          "B6",
          "DL",
          "OO",
          "F9",
          "YV",
          "US",
          "MQ",
          "HA",
          "AS",
          "FL",
          "VX",
          "WN",
          "9E"
         ],
         "y": [
          0.43628488975682933,
          0.5327690766163088,
          0.5648748926719043,
          0.5828644629062657,
          0.6240685491716639,
          0.6264621233129346,
          0.5008591958925027,
          0.6625548385219245,
          0.6601602695035577,
          0.588299356823052,
          0.7501661940875606,
          0.7135648951832051,
          0.6196425428691988,
          0.5674469404020427,
          0.3668398013623257,
          0.684055665467929
         ]
        },
        {
         "marker": {
          "color": "green"
         },
         "name": "Arrival Immediacies Percentage",
         "text": [
          58,
          55,
          56,
          57,
          65,
          57,
          45,
          58,
          61,
          54,
          62,
          64,
          61,
          62,
          53,
          64
         ],
         "type": "bar",
         "x": [
          "UA",
          "AA",
          "EV",
          "B6",
          "DL",
          "OO",
          "F9",
          "YV",
          "US",
          "MQ",
          "HA",
          "AS",
          "FL",
          "VX",
          "WN",
          "9E"
         ],
         "y": [
          0.5794033729895575,
          0.5491283152008236,
          0.557476378625943,
          0.574316540971457,
          0.6540809422224404,
          0.5658852701323807,
          0.4511007277160368,
          0.5824196611106665,
          0.6051119913002588,
          0.5419290406875668,
          0.6202001564711681,
          0.6369038997425249,
          0.6148377151411445,
          0.6180771614960002,
          0.528691721572943,
          0.6356837354778042
         ]
        }
       ],
       "layout": {
        "autosize": true,
        "template": {
         "data": {
          "bar": [
           {
            "error_x": {
             "color": "#2a3f5f"
            },
            "error_y": {
             "color": "#2a3f5f"
            },
            "marker": {
             "line": {
              "color": "#E5ECF6",
              "width": 0.5
             },
             "pattern": {
              "fillmode": "overlay",
              "size": 10,
              "solidity": 0.2
             }
            },
            "type": "bar"
           }
          ],
          "barpolar": [
           {
            "marker": {
             "line": {
              "color": "#E5ECF6",
              "width": 0.5
             },
             "pattern": {
              "fillmode": "overlay",
              "size": 10,
              "solidity": 0.2
             }
            },
            "type": "barpolar"
           }
          ],
          "carpet": [
           {
            "aaxis": {
             "endlinecolor": "#2a3f5f",
             "gridcolor": "white",
             "linecolor": "white",
             "minorgridcolor": "white",
             "startlinecolor": "#2a3f5f"
            },
            "baxis": {
             "endlinecolor": "#2a3f5f",
             "gridcolor": "white",
             "linecolor": "white",
             "minorgridcolor": "white",
             "startlinecolor": "#2a3f5f"
            },
            "type": "carpet"
           }
          ],
          "choropleth": [
           {
            "colorbar": {
             "outlinewidth": 0,
             "ticks": ""
            },
            "type": "choropleth"
           }
          ],
          "contour": [
           {
            "colorbar": {
             "outlinewidth": 0,
             "ticks": ""
            },
            "colorscale": [
             [
              0,
              "#0d0887"
             ],
             [
              0.1111111111111111,
              "#46039f"
             ],
             [
              0.2222222222222222,
              "#7201a8"
             ],
             [
              0.3333333333333333,
              "#9c179e"
             ],
             [
              0.4444444444444444,
              "#bd3786"
             ],
             [
              0.5555555555555556,
              "#d8576b"
             ],
             [
              0.6666666666666666,
              "#ed7953"
             ],
             [
              0.7777777777777778,
              "#fb9f3a"
             ],
             [
              0.8888888888888888,
              "#fdca26"
             ],
             [
              1,
              "#f0f921"
             ]
            ],
            "type": "contour"
           }
          ],
          "contourcarpet": [
           {
            "colorbar": {
             "outlinewidth": 0,
             "ticks": ""
            },
            "type": "contourcarpet"
           }
          ],
          "heatmap": [
           {
            "colorbar": {
             "outlinewidth": 0,
             "ticks": ""
            },
            "colorscale": [
             [
              0,
              "#0d0887"
             ],
             [
              0.1111111111111111,
              "#46039f"
             ],
             [
              0.2222222222222222,
              "#7201a8"
             ],
             [
              0.3333333333333333,
              "#9c179e"
             ],
             [
              0.4444444444444444,
              "#bd3786"
             ],
             [
              0.5555555555555556,
              "#d8576b"
             ],
             [
              0.6666666666666666,
              "#ed7953"
             ],
             [
              0.7777777777777778,
              "#fb9f3a"
             ],
             [
              0.8888888888888888,
              "#fdca26"
             ],
             [
              1,
              "#f0f921"
             ]
            ],
            "type": "heatmap"
           }
          ],
          "heatmapgl": [
           {
            "colorbar": {
             "outlinewidth": 0,
             "ticks": ""
            },
            "colorscale": [
             [
              0,
              "#0d0887"
             ],
             [
              0.1111111111111111,
              "#46039f"
             ],
             [
              0.2222222222222222,
              "#7201a8"
             ],
             [
              0.3333333333333333,
              "#9c179e"
             ],
             [
              0.4444444444444444,
              "#bd3786"
             ],
             [
              0.5555555555555556,
              "#d8576b"
             ],
             [
              0.6666666666666666,
              "#ed7953"
             ],
             [
              0.7777777777777778,
              "#fb9f3a"
             ],
             [
              0.8888888888888888,
              "#fdca26"
             ],
             [
              1,
              "#f0f921"
             ]
            ],
            "type": "heatmapgl"
           }
          ],
          "histogram": [
           {
            "marker": {
             "pattern": {
              "fillmode": "overlay",
              "size": 10,
              "solidity": 0.2
             }
            },
            "type": "histogram"
           }
          ],
          "histogram2d": [
           {
            "colorbar": {
             "outlinewidth": 0,
             "ticks": ""
            },
            "colorscale": [
             [
              0,
              "#0d0887"
             ],
             [
              0.1111111111111111,
              "#46039f"
             ],
             [
              0.2222222222222222,
              "#7201a8"
             ],
             [
              0.3333333333333333,
              "#9c179e"
             ],
             [
              0.4444444444444444,
              "#bd3786"
             ],
             [
              0.5555555555555556,
              "#d8576b"
             ],
             [
              0.6666666666666666,
              "#ed7953"
             ],
             [
              0.7777777777777778,
              "#fb9f3a"
             ],
             [
              0.8888888888888888,
              "#fdca26"
             ],
             [
              1,
              "#f0f921"
             ]
            ],
            "type": "histogram2d"
           }
          ],
          "histogram2dcontour": [
           {
            "colorbar": {
             "outlinewidth": 0,
             "ticks": ""
            },
            "colorscale": [
             [
              0,
              "#0d0887"
             ],
             [
              0.1111111111111111,
              "#46039f"
             ],
             [
              0.2222222222222222,
              "#7201a8"
             ],
             [
              0.3333333333333333,
              "#9c179e"
             ],
             [
              0.4444444444444444,
              "#bd3786"
             ],
             [
              0.5555555555555556,
              "#d8576b"
             ],
             [
              0.6666666666666666,
              "#ed7953"
             ],
             [
              0.7777777777777778,
              "#fb9f3a"
             ],
             [
              0.8888888888888888,
              "#fdca26"
             ],
             [
              1,
              "#f0f921"
             ]
            ],
            "type": "histogram2dcontour"
           }
          ],
          "mesh3d": [
           {
            "colorbar": {
             "outlinewidth": 0,
             "ticks": ""
            },
            "type": "mesh3d"
           }
          ],
          "parcoords": [
           {
            "line": {
             "colorbar": {
              "outlinewidth": 0,
              "ticks": ""
             }
            },
            "type": "parcoords"
           }
          ],
          "pie": [
           {
            "automargin": true,
            "type": "pie"
           }
          ],
          "scatter": [
           {
            "fillpattern": {
             "fillmode": "overlay",
             "size": 10,
             "solidity": 0.2
            },
            "type": "scatter"
           }
          ],
          "scatter3d": [
           {
            "line": {
             "colorbar": {
              "outlinewidth": 0,
              "ticks": ""
             }
            },
            "marker": {
             "colorbar": {
              "outlinewidth": 0,
              "ticks": ""
             }
            },
            "type": "scatter3d"
           }
          ],
          "scattercarpet": [
           {
            "marker": {
             "colorbar": {
              "outlinewidth": 0,
              "ticks": ""
             }
            },
            "type": "scattercarpet"
           }
          ],
          "scattergeo": [
           {
            "marker": {
             "colorbar": {
              "outlinewidth": 0,
              "ticks": ""
             }
            },
            "type": "scattergeo"
           }
          ],
          "scattergl": [
           {
            "marker": {
             "colorbar": {
              "outlinewidth": 0,
              "ticks": ""
             }
            },
            "type": "scattergl"
           }
          ],
          "scattermapbox": [
           {
            "marker": {
             "colorbar": {
              "outlinewidth": 0,
              "ticks": ""
             }
            },
            "type": "scattermapbox"
           }
          ],
          "scatterpolar": [
           {
            "marker": {
             "colorbar": {
              "outlinewidth": 0,
              "ticks": ""
             }
            },
            "type": "scatterpolar"
           }
          ],
          "scatterpolargl": [
           {
            "marker": {
             "colorbar": {
              "outlinewidth": 0,
              "ticks": ""
             }
            },
            "type": "scatterpolargl"
           }
          ],
          "scatterternary": [
           {
            "marker": {
             "colorbar": {
              "outlinewidth": 0,
              "ticks": ""
             }
            },
            "type": "scatterternary"
           }
          ],
          "surface": [
           {
            "colorbar": {
             "outlinewidth": 0,
             "ticks": ""
            },
            "colorscale": [
             [
              0,
              "#0d0887"
             ],
             [
              0.1111111111111111,
              "#46039f"
             ],
             [
              0.2222222222222222,
              "#7201a8"
             ],
             [
              0.3333333333333333,
              "#9c179e"
             ],
             [
              0.4444444444444444,
              "#bd3786"
             ],
             [
              0.5555555555555556,
              "#d8576b"
             ],
             [
              0.6666666666666666,
              "#ed7953"
             ],
             [
              0.7777777777777778,
              "#fb9f3a"
             ],
             [
              0.8888888888888888,
              "#fdca26"
             ],
             [
              1,
              "#f0f921"
             ]
            ],
            "type": "surface"
           }
          ],
          "table": [
           {
            "cells": {
             "fill": {
              "color": "#EBF0F8"
             },
             "line": {
              "color": "white"
             }
            },
            "header": {
             "fill": {
              "color": "#C8D4E3"
             },
             "line": {
              "color": "white"
             }
            },
            "type": "table"
           }
          ]
         },
         "layout": {
          "annotationdefaults": {
           "arrowcolor": "#2a3f5f",
           "arrowhead": 0,
           "arrowwidth": 1
          },
          "autotypenumbers": "strict",
          "coloraxis": {
           "colorbar": {
            "outlinewidth": 0,
            "ticks": ""
           }
          },
          "colorscale": {
           "diverging": [
            [
             0,
             "#8e0152"
            ],
            [
             0.1,
             "#c51b7d"
            ],
            [
             0.2,
             "#de77ae"
            ],
            [
             0.3,
             "#f1b6da"
            ],
            [
             0.4,
             "#fde0ef"
            ],
            [
             0.5,
             "#f7f7f7"
            ],
            [
             0.6,
             "#e6f5d0"
            ],
            [
             0.7,
             "#b8e186"
            ],
            [
             0.8,
             "#7fbc41"
            ],
            [
             0.9,
             "#4d9221"
            ],
            [
             1,
             "#276419"
            ]
           ],
           "sequential": [
            [
             0,
             "#0d0887"
            ],
            [
             0.1111111111111111,
             "#46039f"
            ],
            [
             0.2222222222222222,
             "#7201a8"
            ],
            [
             0.3333333333333333,
             "#9c179e"
            ],
            [
             0.4444444444444444,
             "#bd3786"
            ],
            [
             0.5555555555555556,
             "#d8576b"
            ],
            [
             0.6666666666666666,
             "#ed7953"
            ],
            [
             0.7777777777777778,
             "#fb9f3a"
            ],
            [
             0.8888888888888888,
             "#fdca26"
            ],
            [
             1,
             "#f0f921"
            ]
           ],
           "sequentialminus": [
            [
             0,
             "#0d0887"
            ],
            [
             0.1111111111111111,
             "#46039f"
            ],
            [
             0.2222222222222222,
             "#7201a8"
            ],
            [
             0.3333333333333333,
             "#9c179e"
            ],
            [
             0.4444444444444444,
             "#bd3786"
            ],
            [
             0.5555555555555556,
             "#d8576b"
            ],
            [
             0.6666666666666666,
             "#ed7953"
            ],
            [
             0.7777777777777778,
             "#fb9f3a"
            ],
            [
             0.8888888888888888,
             "#fdca26"
            ],
            [
             1,
             "#f0f921"
            ]
           ]
          },
          "colorway": [
           "#636efa",
           "#EF553B",
           "#00cc96",
           "#ab63fa",
           "#FFA15A",
           "#19d3f3",
           "#FF6692",
           "#B6E880",
           "#FF97FF",
           "#FECB52"
          ],
          "font": {
           "color": "#2a3f5f"
          },
          "geo": {
           "bgcolor": "white",
           "lakecolor": "white",
           "landcolor": "#E5ECF6",
           "showlakes": true,
           "showland": true,
           "subunitcolor": "white"
          },
          "hoverlabel": {
           "align": "left"
          },
          "hovermode": "closest",
          "mapbox": {
           "style": "light"
          },
          "paper_bgcolor": "white",
          "plot_bgcolor": "#E5ECF6",
          "polar": {
           "angularaxis": {
            "gridcolor": "white",
            "linecolor": "white",
            "ticks": ""
           },
           "bgcolor": "#E5ECF6",
           "radialaxis": {
            "gridcolor": "white",
            "linecolor": "white",
            "ticks": ""
           }
          },
          "scene": {
           "xaxis": {
            "backgroundcolor": "#E5ECF6",
            "gridcolor": "white",
            "gridwidth": 2,
            "linecolor": "white",
            "showbackground": true,
            "ticks": "",
            "zerolinecolor": "white"
           },
           "yaxis": {
            "backgroundcolor": "#E5ECF6",
            "gridcolor": "white",
            "gridwidth": 2,
            "linecolor": "white",
            "showbackground": true,
            "ticks": "",
            "zerolinecolor": "white"
           },
           "zaxis": {
            "backgroundcolor": "#E5ECF6",
            "gridcolor": "white",
            "gridwidth": 2,
            "linecolor": "white",
            "showbackground": true,
            "ticks": "",
            "zerolinecolor": "white"
           }
          },
          "shapedefaults": {
           "line": {
            "color": "#2a3f5f"
           }
          },
          "ternary": {
           "aaxis": {
            "gridcolor": "white",
            "linecolor": "white",
            "ticks": ""
           },
           "baxis": {
            "gridcolor": "white",
            "linecolor": "white",
            "ticks": ""
           },
           "bgcolor": "#E5ECF6",
           "caxis": {
            "gridcolor": "white",
            "linecolor": "white",
            "ticks": ""
           }
          },
          "title": {
           "x": 0.05
          },
          "xaxis": {
           "automargin": true,
           "gridcolor": "white",
           "linecolor": "white",
           "ticks": "",
           "title": {
            "standoff": 15
           },
           "zerolinecolor": "white",
           "zerolinewidth": 2
          },
          "yaxis": {
           "automargin": true,
           "gridcolor": "white",
           "linecolor": "white",
           "ticks": "",
           "title": {
            "standoff": 15
           },
           "zerolinecolor": "white",
           "zerolinewidth": 2
          }
         }
        },
        "title": {
         "text": "Departure and Arrival Delay or Haste Percentage Relative to Flight Count per Carrier for Entire Period"
        },
        "xaxis": {
         "autorange": true,
         "range": [
          -0.5,
          15.5
         ],
         "tickformat": "d",
         "ticklen": 5,
         "title": {
          "text": "Carrier"
         },
         "type": "category",
         "zeroline": false
        },
        "yaxis": {
         "autorange": true,
         "range": [
          0,
          0.7896486253553269
         ],
         "tickformat": ",.0%",
         "title": {
          "text": "Percentage of Flights"
         },
         "type": "linear"
        }
       }
      },
      "image/png": "[encoded data removed]",
      "text/html": [
       "<div>                            <div id=\"12a29d5b-2772-48db-869a-4d4db5de33d4\" class=\"plotly-graph-div\" style=\"height:525px; width:100%;\"></div>            <script type=\"text/javascript\">                require([\"plotly\"], function(Plotly) {                    window.PLOTLYENV=window.PLOTLYENV || {};                                    if (document.getElementById(\"12a29d5b-2772-48db-869a-4d4db5de33d4\")) {                    Plotly.newPlot(                        \"12a29d5b-2772-48db-869a-4d4db5de33d4\",                        [{\"marker\":{\"color\":\"red\"},\"name\":\"Departure Delay Percentage\",\"text\":[49.0,40.0,37.0,36.0,30.0,31.0,45.0,27.0,28.0,33.0,21.0,24.0,32.0,36.0,54.0,26.0],\"x\":[\"UA\",\"AA\",\"EV\",\"B6\",\"DL\",\"OO\",\"F9\",\"YV\",\"US\",\"MQ\",\"HA\",\"AS\",\"FL\",\"VX\",\"WN\",\"9E\"],\"y\":[0.49265078196307127,0.39963068650331585,0.3651398344895044,0.3571224355540258,0.30440014654300496,0.3052583400865307,0.44534640365147854,0.2657603911268907,0.28212922754062575,0.3282951904946443,0.20613493603223487,0.2378088458154351,0.3232084205348074,0.35741063258257816,0.5419673162555081,0.26026201462077986],\"type\":\"bar\"},{\"marker\":{\"color\":\"yellow\"},\"name\":\"Arrival Delay Percentage\",\"text\":[39.0,41.0,39.0,39.0,32.0,38.0,51.0,37.0,36.0,40.0,33.0,33.0,35.0,35.0,43.0,32.0],\"x\":[\"UA\",\"AA\",\"EV\",\"B6\",\"DL\",\"OO\",\"F9\",\"YV\",\"US\",\"MQ\",\"HA\",\"AS\",\"FL\",\"VX\",\"WN\",\"9E\"],\"y\":[0.38583117019726626,0.4076010364765793,0.38786443289396993,0.38944743145979466,0.31626688706547634,0.3814990213472831,0.5145314365838538,0.36775094762420973,0.3579506554449318,0.39688107430003383,0.3277663966860673,0.3296329844844769,0.35017567518855663,0.35151872952150426,0.43303784934553574,0.31910239601484325],\"type\":\"bar\"},{\"marker\":{\"color\":\"blue\"},\"name\":\"Departure Haste Percentage\",\"text\":[44.0,53.0,56.0,58.0,62.0,63.0,50.0,66.0,66.0,59.0,75.0,71.0,62.0,57.0,37.0,68.0],\"x\":[\"UA\",\"AA\",\"EV\",\"B6\",\"DL\",\"OO\",\"F9\",\"YV\",\"US\",\"MQ\",\"HA\",\"AS\",\"FL\",\"VX\",\"WN\",\"9E\"],\"y\":[0.43628488975682933,0.5327690766163088,0.5648748926719043,0.5828644629062657,0.6240685491716639,0.6264621233129346,0.5008591958925027,0.6625548385219245,0.6601602695035577,0.588299356823052,0.7501661940875606,0.7135648951832051,0.6196425428691988,0.5674469404020427,0.3668398013623257,0.684055665467929],\"type\":\"bar\"},{\"marker\":{\"color\":\"green\"},\"name\":\"Arrival Immediacies Percentage\",\"text\":[58.0,55.0,56.0,57.0,65.0,57.0,45.0,58.0,61.0,54.0,62.0,64.0,61.0,62.0,53.0,64.0],\"x\":[\"UA\",\"AA\",\"EV\",\"B6\",\"DL\",\"OO\",\"F9\",\"YV\",\"US\",\"MQ\",\"HA\",\"AS\",\"FL\",\"VX\",\"WN\",\"9E\"],\"y\":[0.5794033729895575,0.5491283152008236,0.557476378625943,0.574316540971457,0.6540809422224404,0.5658852701323807,0.4511007277160368,0.5824196611106665,0.6051119913002588,0.5419290406875668,0.6202001564711681,0.6369038997425249,0.6148377151411445,0.6180771614960002,0.528691721572943,0.6356837354778042],\"type\":\"bar\"}],                        {\"template\":{\"data\":{\"barpolar\":[{\"marker\":{\"line\":{\"color\":\"#E5ECF6\",\"width\":0.5},\"pattern\":{\"fillmode\":\"overlay\",\"size\":10,\"solidity\":0.2}},\"type\":\"barpolar\"}],\"bar\":[{\"error_x\":{\"color\":\"#2a3f5f\"},\"error_y\":{\"color\":\"#2a3f5f\"},\"marker\":{\"line\":{\"color\":\"#E5ECF6\",\"width\":0.5},\"pattern\":{\"fillmode\":\"overlay\",\"size\":10,\"solidity\":0.2}},\"type\":\"bar\"}],\"carpet\":[{\"aaxis\":{\"endlinecolor\":\"#2a3f5f\",\"gridcolor\":\"white\",\"linecolor\":\"white\",\"minorgridcolor\":\"white\",\"startlinecolor\":\"#2a3f5f\"},\"baxis\":{\"endlinecolor\":\"#2a3f5f\",\"gridcolor\":\"white\",\"linecolor\":\"white\",\"minorgridcolor\":\"white\",\"startlinecolor\":\"#2a3f5f\"},\"type\":\"carpet\"}],\"choropleth\":[{\"colorbar\":{\"outlinewidth\":0,\"ticks\":\"\"},\"type\":\"choropleth\"}],\"contourcarpet\":[{\"colorbar\":{\"outlinewidth\":0,\"ticks\":\"\"},\"type\":\"contourcarpet\"}],\"contour\":[{\"colorbar\":{\"outlinewidth\":0,\"ticks\":\"\"},\"colorscale\":[[0.0,\"#0d0887\"],[0.1111111111111111,\"#46039f\"],[0.2222222222222222,\"#7201a8\"],[0.3333333333333333,\"#9c179e\"],[0.4444444444444444,\"#bd3786\"],[0.5555555555555556,\"#d8576b\"],[0.6666666666666666,\"#ed7953\"],[0.7777777777777778,\"#fb9f3a\"],[0.8888888888888888,\"#fdca26\"],[1.0,\"#f0f921\"]],\"type\":\"contour\"}],\"heatmapgl\":[{\"colorbar\":{\"outlinewidth\":0,\"ticks\":\"\"},\"colorscale\":[[0.0,\"#0d0887\"],[0.1111111111111111,\"#46039f\"],[0.2222222222222222,\"#7201a8\"],[0.3333333333333333,\"#9c179e\"],[0.4444444444444444,\"#bd3786\"],[0.5555555555555556,\"#d8576b\"],[0.6666666666666666,\"#ed7953\"],[0.7777777777777778,\"#fb9f3a\"],[0.8888888888888888,\"#fdca26\"],[1.0,\"#f0f921\"]],\"type\":\"heatmapgl\"}],\"heatmap\":[{\"colorbar\":{\"outlinewidth\":0,\"ticks\":\"\"},\"colorscale\":[[0.0,\"#0d0887\"],[0.1111111111111111,\"#46039f\"],[0.2222222222222222,\"#7201a8\"],[0.3333333333333333,\"#9c179e\"],[0.4444444444444444,\"#bd3786\"],[0.5555555555555556,\"#d8576b\"],[0.6666666666666666,\"#ed7953\"],[0.7777777777777778,\"#fb9f3a\"],[0.8888888888888888,\"#fdca26\"],[1.0,\"#f0f921\"]],\"type\":\"heatmap\"}],\"histogram2dcontour\":[{\"colorbar\":{\"outlinewidth\":0,\"ticks\":\"\"},\"colorscale\":[[0.0,\"#0d0887\"],[0.1111111111111111,\"#46039f\"],[0.2222222222222222,\"#7201a8\"],[0.3333333333333333,\"#9c179e\"],[0.4444444444444444,\"#bd3786\"],[0.5555555555555556,\"#d8576b\"],[0.6666666666666666,\"#ed7953\"],[0.7777777777777778,\"#fb9f3a\"],[0.8888888888888888,\"#fdca26\"],[1.0,\"#f0f921\"]],\"type\":\"histogram2dcontour\"}],\"histogram2d\":[{\"colorbar\":{\"outlinewidth\":0,\"ticks\":\"\"},\"colorscale\":[[0.0,\"#0d0887\"],[0.1111111111111111,\"#46039f\"],[0.2222222222222222,\"#7201a8\"],[0.3333333333333333,\"#9c179e\"],[0.4444444444444444,\"#bd3786\"],[0.5555555555555556,\"#d8576b\"],[0.6666666666666666,\"#ed7953\"],[0.7777777777777778,\"#fb9f3a\"],[0.8888888888888888,\"#fdca26\"],[1.0,\"#f0f921\"]],\"type\":\"histogram2d\"}],\"histogram\":[{\"marker\":{\"pattern\":{\"fillmode\":\"overlay\",\"size\":10,\"solidity\":0.2}},\"type\":\"histogram\"}],\"mesh3d\":[{\"colorbar\":{\"outlinewidth\":0,\"ticks\":\"\"},\"type\":\"mesh3d\"}],\"parcoords\":[{\"line\":{\"colorbar\":{\"outlinewidth\":0,\"ticks\":\"\"}},\"type\":\"parcoords\"}],\"pie\":[{\"automargin\":true,\"type\":\"pie\"}],\"scatter3d\":[{\"line\":{\"colorbar\":{\"outlinewidth\":0,\"ticks\":\"\"}},\"marker\":{\"colorbar\":{\"outlinewidth\":0,\"ticks\":\"\"}},\"type\":\"scatter3d\"}],\"scattercarpet\":[{\"marker\":{\"colorbar\":{\"outlinewidth\":0,\"ticks\":\"\"}},\"type\":\"scattercarpet\"}],\"scattergeo\":[{\"marker\":{\"colorbar\":{\"outlinewidth\":0,\"ticks\":\"\"}},\"type\":\"scattergeo\"}],\"scattergl\":[{\"marker\":{\"colorbar\":{\"outlinewidth\":0,\"ticks\":\"\"}},\"type\":\"scattergl\"}],\"scattermapbox\":[{\"marker\":{\"colorbar\":{\"outlinewidth\":0,\"ticks\":\"\"}},\"type\":\"scattermapbox\"}],\"scatterpolargl\":[{\"marker\":{\"colorbar\":{\"outlinewidth\":0,\"ticks\":\"\"}},\"type\":\"scatterpolargl\"}],\"scatterpolar\":[{\"marker\":{\"colorbar\":{\"outlinewidth\":0,\"ticks\":\"\"}},\"type\":\"scatterpolar\"}],\"scatter\":[{\"fillpattern\":{\"fillmode\":\"overlay\",\"size\":10,\"solidity\":0.2},\"type\":\"scatter\"}],\"scatterternary\":[{\"marker\":{\"colorbar\":{\"outlinewidth\":0,\"ticks\":\"\"}},\"type\":\"scatterternary\"}],\"surface\":[{\"colorbar\":{\"outlinewidth\":0,\"ticks\":\"\"},\"colorscale\":[[0.0,\"#0d0887\"],[0.1111111111111111,\"#46039f\"],[0.2222222222222222,\"#7201a8\"],[0.3333333333333333,\"#9c179e\"],[0.4444444444444444,\"#bd3786\"],[0.5555555555555556,\"#d8576b\"],[0.6666666666666666,\"#ed7953\"],[0.7777777777777778,\"#fb9f3a\"],[0.8888888888888888,\"#fdca26\"],[1.0,\"#f0f921\"]],\"type\":\"surface\"}],\"table\":[{\"cells\":{\"fill\":{\"color\":\"#EBF0F8\"},\"line\":{\"color\":\"white\"}},\"header\":{\"fill\":{\"color\":\"#C8D4E3\"},\"line\":{\"color\":\"white\"}},\"type\":\"table\"}]},\"layout\":{\"annotationdefaults\":{\"arrowcolor\":\"#2a3f5f\",\"arrowhead\":0,\"arrowwidth\":1},\"autotypenumbers\":\"strict\",\"coloraxis\":{\"colorbar\":{\"outlinewidth\":0,\"ticks\":\"\"}},\"colorscale\":{\"diverging\":[[0,\"#8e0152\"],[0.1,\"#c51b7d\"],[0.2,\"#de77ae\"],[0.3,\"#f1b6da\"],[0.4,\"#fde0ef\"],[0.5,\"#f7f7f7\"],[0.6,\"#e6f5d0\"],[0.7,\"#b8e186\"],[0.8,\"#7fbc41\"],[0.9,\"#4d9221\"],[1,\"#276419\"]],\"sequential\":[[0.0,\"#0d0887\"],[0.1111111111111111,\"#46039f\"],[0.2222222222222222,\"#7201a8\"],[0.3333333333333333,\"#9c179e\"],[0.4444444444444444,\"#bd3786\"],[0.5555555555555556,\"#d8576b\"],[0.6666666666666666,\"#ed7953\"],[0.7777777777777778,\"#fb9f3a\"],[0.8888888888888888,\"#fdca26\"],[1.0,\"#f0f921\"]],\"sequentialminus\":[[0.0,\"#0d0887\"],[0.1111111111111111,\"#46039f\"],[0.2222222222222222,\"#7201a8\"],[0.3333333333333333,\"#9c179e\"],[0.4444444444444444,\"#bd3786\"],[0.5555555555555556,\"#d8576b\"],[0.6666666666666666,\"#ed7953\"],[0.7777777777777778,\"#fb9f3a\"],[0.8888888888888888,\"#fdca26\"],[1.0,\"#f0f921\"]]},\"colorway\":[\"#636efa\",\"#EF553B\",\"#00cc96\",\"#ab63fa\",\"#FFA15A\",\"#19d3f3\",\"#FF6692\",\"#B6E880\",\"#FF97FF\",\"#FECB52\"],\"font\":{\"color\":\"#2a3f5f\"},\"geo\":{\"bgcolor\":\"white\",\"lakecolor\":\"white\",\"landcolor\":\"#E5ECF6\",\"showlakes\":true,\"showland\":true,\"subunitcolor\":\"white\"},\"hoverlabel\":{\"align\":\"left\"},\"hovermode\":\"closest\",\"mapbox\":{\"style\":\"light\"},\"paper_bgcolor\":\"white\",\"plot_bgcolor\":\"#E5ECF6\",\"polar\":{\"angularaxis\":{\"gridcolor\":\"white\",\"linecolor\":\"white\",\"ticks\":\"\"},\"bgcolor\":\"#E5ECF6\",\"radialaxis\":{\"gridcolor\":\"white\",\"linecolor\":\"white\",\"ticks\":\"\"}},\"scene\":{\"xaxis\":{\"backgroundcolor\":\"#E5ECF6\",\"gridcolor\":\"white\",\"gridwidth\":2,\"linecolor\":\"white\",\"showbackground\":true,\"ticks\":\"\",\"zerolinecolor\":\"white\"},\"yaxis\":{\"backgroundcolor\":\"#E5ECF6\",\"gridcolor\":\"white\",\"gridwidth\":2,\"linecolor\":\"white\",\"showbackground\":true,\"ticks\":\"\",\"zerolinecolor\":\"white\"},\"zaxis\":{\"backgroundcolor\":\"#E5ECF6\",\"gridcolor\":\"white\",\"gridwidth\":2,\"linecolor\":\"white\",\"showbackground\":true,\"ticks\":\"\",\"zerolinecolor\":\"white\"}},\"shapedefaults\":{\"line\":{\"color\":\"#2a3f5f\"}},\"ternary\":{\"aaxis\":{\"gridcolor\":\"white\",\"linecolor\":\"white\",\"ticks\":\"\"},\"baxis\":{\"gridcolor\":\"white\",\"linecolor\":\"white\",\"ticks\":\"\"},\"bgcolor\":\"#E5ECF6\",\"caxis\":{\"gridcolor\":\"white\",\"linecolor\":\"white\",\"ticks\":\"\"}},\"title\":{\"x\":0.05},\"xaxis\":{\"automargin\":true,\"gridcolor\":\"white\",\"linecolor\":\"white\",\"ticks\":\"\",\"title\":{\"standoff\":15},\"zerolinecolor\":\"white\",\"zerolinewidth\":2},\"yaxis\":{\"automargin\":true,\"gridcolor\":\"white\",\"linecolor\":\"white\",\"ticks\":\"\",\"title\":{\"standoff\":15},\"zerolinecolor\":\"white\",\"zerolinewidth\":2}}},\"title\":{\"text\":\"Departure and Arrival Delay or Haste Percentage Relative to Flight Count per Carrier for Entire Period\"},\"xaxis\":{\"tickformat\":\"d\",\"ticklen\":5,\"title\":{\"text\":\"Carrier\"},\"zeroline\":false},\"yaxis\":{\"tickformat\":\",.0%\",\"title\":{\"text\":\"Percentage of Flights\"}}},                        {\"responsive\": true}                    ).then(function(){\n",
       "                            \n",
       "var gd = document.getElementById('12a29d5b-2772-48db-869a-4d4db5de33d4');\n",
       "var x = new MutationObserver(function (mutations, observer) {{\n",
       "        var display = window.getComputedStyle(gd).display;\n",
       "        if (!display || display === 'none') {{\n",
       "            console.log([gd, 'removed!']);\n",
       "            Plotly.purge(gd);\n",
       "            observer.disconnect();\n",
       "        }}\n",
       "}});\n",
       "\n",
       "// Listen for the removal of the full notebook cells\n",
       "var notebookContainer = gd.closest('#notebook-container');\n",
       "if (notebookContainer) {{\n",
       "    x.observe(notebookContainer, {childList: true});\n",
       "}}\n",
       "\n",
       "// Listen for the clearing of the current output cell\n",
       "var outputEl = gd.closest('.output');\n",
       "if (outputEl) {{\n",
       "    x.observe(outputEl, {childList: true});\n",
       "}}\n",
       "\n",
       "                        })                };                });            </script>        </div>"
      ]
     },
     "metadata": {},
     "output_type": "display_data"
    }
   ],
   "source": [
    "departureDelayCountBar = go.Bar(\n",
    "    x = numberOfDelaysPerCarrier.toPandas()['Carrier'],\n",
    "    y = numberOfDelaysPerCarrier.toPandas()['DepartureDelayCount'],\n",
    "    name = 'Departure Delay Percentage',\n",
    "    marker = dict(color='red'),\n",
    "    text = round(numberOfDelaysPerCarrier.toPandas()['DepartureDelayCount'] * 100))\n",
    "\n",
    "arrivalDelayCountBar = go.Bar(\n",
    "    x = numberOfDelaysPerCarrier.toPandas()['Carrier'],\n",
    "    y = numberOfDelaysPerCarrier.toPandas()['ArrivalDelayCount'],\n",
    "    name = 'Arrival Delay Percentage',\n",
    "    marker = dict(color='yellow'),\n",
    "    text = round(numberOfDelaysPerCarrier.toPandas()['ArrivalDelayCount'] * 100))\n",
    "\n",
    "departureImmediaciesCountBar = go.Bar(\n",
    "    x = numberOfDelaysPerCarrier.toPandas()['Carrier'],\n",
    "    y = numberOfDelaysPerCarrier.toPandas()['DepartureImmediaciesCount'],\n",
    "    name = 'Departure Haste Percentage',\n",
    "    marker = dict(color='blue'),\n",
    "    text = round(numberOfDelaysPerCarrier.toPandas()['DepartureImmediaciesCount'] * 100))\n",
    "\n",
    "arrivalImmediaciesCountBar = go.Bar(\n",
    "    x = numberOfDelaysPerCarrier.toPandas()['Carrier'],\n",
    "    y = numberOfDelaysPerCarrier.toPandas()['ArrivalImmediaciesCount'],\n",
    "    name = 'Arrival Immediacies Percentage',\n",
    "    marker = dict(color='green'),\n",
    "    text = round(numberOfDelaysPerCarrier.toPandas()['ArrivalImmediaciesCount'] * 100))\n",
    "\n",
    "\n",
    "data = [departureDelayCountBar, arrivalDelayCountBar, departureImmediaciesCountBar, arrivalImmediaciesCountBar]\n",
    "\n",
    "layout = dict(title = 'Departure and Arrival Delay or Haste Percentage Relative to Flight Count per Carrier for Entire Period',\n",
    "              xaxis= dict(title= 'Carrier',ticklen= 5,zeroline= False,tickformat='d'),\n",
    "              yaxis= dict(title= 'Percentage of Flights',tickformat=',.0%')\n",
    "             )\n",
    "fig = dict(data = data, layout = layout)\n",
    "\n",
    "pyo.iplot(fig)"
   ]
  },
  {
   "cell_type": "markdown",
   "id": "e550f292-b6bf-4a16-865f-cc410bb9286b",
   "metadata": {
    "tags": []
   },
   "source": [
    "DELAY CORRECTIONS COUNT PER CARRIER ACROSS THE ENTIRE PERIOD"
   ]
  },
  {
   "cell_type": "code",
   "execution_count": 12,
   "id": "ccde693d-2263-4ea1-97aa-c1b4607036ba",
   "metadata": {},
   "outputs": [
    {
     "name": "stderr",
     "output_type": "stream",
     "text": [
      "[Stage 26:========================================>               (13 + 5) / 18]\r"
     ]
    },
    {
     "name": "stdout",
     "output_type": "stream",
     "text": [
      "+-------+----------------------+------------------------+---------------------------+---------------------+\n",
      "|Carrier|NoDelayCorrectionCount|FullDelayCorrectionCount|PartialDelayCorrectionCount|DelayAggravationCount|\n",
      "+-------+----------------------+------------------------+---------------------------+---------------------+\n",
      "|     UA|                 34476|                   22189|                     698433|               686956|\n",
      "|     AA|                 49519|                   24718|                     675036|               764743|\n",
      "|     EV|                 67734|                   25855|                     845345|              1105402|\n",
      "|     B6|                 20909|                    9127|                     292921|               362491|\n",
      "|     DL|                 65363|                   34966|                     841308|              1212324|\n",
      "|     OO|                 75483|                   29307|                     759293|               893194|\n",
      "|     F9|                 11396|                    4425|                     114010|               102223|\n",
      "|     YV|                 10756|                    4269|                     112610|               131891|\n",
      "|     US|                 40407|                   19821|                     486068|               632853|\n",
      "|     MQ|                 49826|                   17831|                     489230|               655549|\n",
      "|     HA|                 24212|                    5229|                     109908|                78150|\n",
      "|     AS|                 17833|                    7537|                     197282|               224281|\n",
      "|     FL|                 16132|                    7397|                     190996|               237364|\n",
      "|     VX|                  5298|                    2802|                      66718|                84753|\n",
      "|     WN|                117784|                   63300|                    1647223|              1370240|\n",
      "|     9E|                  8652|                    3455|                     103688|               167066|\n",
      "+-------+----------------------+------------------------+---------------------------+---------------------+\n",
      "\n"
     ]
    },
    {
     "name": "stderr",
     "output_type": "stream",
     "text": [
      "                                                                                \r"
     ]
    }
   ],
   "source": [
    "totalDelayCorrectionsCount = spark.sql(\" \\\n",
    "    SELECT OP_CARRIER AS Carrier, \\\n",
    "    SUM( \\\n",
    "          CASE WHEN DEP_DELAY = ARR_DELAY THEN 1 \\\n",
    "          ELSE 0 END \\\n",
    "    ) AS NoDelayCorrectionCount, \\\n",
    "    SUM( \\\n",
    "          CASE WHEN ARR_DELAY = (DEP_DELAY * -1) THEN 1 \\\n",
    "          ELSE 0 END \\\n",
    "    ) AS FullDelayCorrectionCount, \\\n",
    "    SUM( \\\n",
    "          CASE WHEN (DEP_DELAY > 0 AND ARR_DELAY < DEP_DELAY) OR (DEP_DELAY < 0 AND ARR_DELAY > DEP_DELAY) THEN 1 \\\n",
    "          ELSE 0 END \\\n",
    "    ) AS PartialDelayCorrectionCount, \\\n",
    "    SUM( \\\n",
    "          CASE WHEN (DEP_DELAY > 0 AND ARR_DELAY > DEP_DELAY) OR (DEP_DELAY < 0 AND ARR_DELAY < 0 AND ABS(DEP_DELAY) < ABS(ARR_DELAY)) THEN 1 \\\n",
    "          ELSE 0 END \\\n",
    "    ) AS DelayAggravationCount \\\n",
    "    FROM airlinedelay \\\n",
    "    GROUP BY Carrier\")\n",
    "    \n",
    "totalDelayCorrectionsCount.show(1000)"
   ]
  },
  {
   "cell_type": "markdown",
   "id": "8d76ecc9-0661-4046-b7f7-cb39e1b803ee",
   "metadata": {},
   "source": [
    "EVOLUTION OF DELAY CORRECTIONS COUNT PER CARRIER ACROSS INDIVIDUAL YEARS"
   ]
  },
  {
   "cell_type": "code",
   "execution_count": 14,
   "id": "95ab2ebd-a8e9-43a4-bfe2-cbd91b2b1559",
   "metadata": {},
   "outputs": [
    {
     "name": "stderr",
     "output_type": "stream",
     "text": [
      "[Stage 32:==============================================>         (15 + 3) / 18]\r"
     ]
    },
    {
     "name": "stdout",
     "output_type": "stream",
     "text": [
      "+-------+----+----------------------+------------------------+---------------------------+---------------------+\n",
      "|Carrier|Year|NoDelayCorrectionCount|FullDelayCorrectionCount|PartialDelayCorrectionCount|DelayAggravationCount|\n",
      "+-------+----+----------------------+------------------------+---------------------------+---------------------+\n",
      "|     9E|2013|                  8652|                    3455|                     103688|               167066|\n",
      "|     AA|2012|                 16846|                    8497|                     213715|               256040|\n",
      "|     AA|2013|                 14734|                    8102|                     235310|               248273|\n",
      "|     AA|2014|                 17939|                    8119|                     226011|               260430|\n",
      "|     AS|2012|                  5428|                    2072|                      56717|                77788|\n",
      "|     AS|2013|                  6137|                    2696|                      68682|                72453|\n",
      "|     AS|2014|                  6268|                    2769|                      71883|                74040|\n",
      "|     B6|2012|                  6486|                    2906|                      90548|               118659|\n",
      "|     B6|2013|                  7116|                    3053|                     101929|               119285|\n",
      "|     B6|2014|                  7307|                    3168|                     100444|               124547|\n",
      "|     DL|2012|                 19832|                   10576|                     257448|               400497|\n",
      "|     DL|2013|                 21952|                   11639|                     280961|               400662|\n",
      "|     DL|2014|                 23579|                   12751|                     302899|               411165|\n",
      "|     EV|2012|                 21815|                    8727|                     280054|               392100|\n",
      "|     EV|2013|                 23648|                    8907|                     298278|               376923|\n",
      "|     EV|2014|                 22271|                    8221|                     267013|               336379|\n",
      "|     F9|2012|                  3668|                    1566|                      37857|                32832|\n",
      "|     F9|2013|                  3567|                    1343|                      35718|                32209|\n",
      "|     F9|2014|                  4161|                    1516|                      40435|                37182|\n",
      "|     FL|2012|                  8295|                    3367|                      79696|               119197|\n",
      "|     FL|2013|                  5707|                    2857|                      77367|                80493|\n",
      "|     FL|2014|                  2130|                    1173|                      33933|                37674|\n",
      "|     HA|2012|                  8468|                    1930|                      35220|                27212|\n",
      "|     HA|2013|                  8268|                    1659|                      36009|                25223|\n",
      "|     HA|2014|                  7476|                    1640|                      38679|                25715|\n",
      "|     MQ|2012|                 17979|                    6137|                     166315|               255604|\n",
      "|     MQ|2013|                 16612|                    6005|                     169648|               215980|\n",
      "|     MQ|2014|                 15235|                    5689|                     153267|               183965|\n",
      "|     OO|2012|                 25588|                   10141|                     246815|               303351|\n",
      "|     OO|2013|                 25413|                    9627|                     256566|               302904|\n",
      "|     OO|2014|                 24482|                    9539|                     255912|               286939|\n",
      "|     UA|2012|                 12026|                    7793|                     244607|               233746|\n",
      "|     UA|2013|                 10982|                    6982|                     222523|               237512|\n",
      "|     UA|2014|                 11468|                    7414|                     231303|               215698|\n",
      "|     US|2012|                 12744|                    6360|                     151919|               216815|\n",
      "|     US|2013|                 13935|                    6936|                     167911|               207257|\n",
      "|     US|2014|                 13728|                    6525|                     166238|               208781|\n",
      "|     VX|2012|                  1671|                     945|                      21564|                27483|\n",
      "|     VX|2013|                  1765|                     930|                      22643|                28435|\n",
      "|     VX|2014|                  1862|                     927|                      22511|                28835|\n",
      "|     WN|2012|                 35502|                   22036|                     514657|               472162|\n",
      "|     WN|2013|                 39634|                   21944|                     566456|               422853|\n",
      "|     WN|2014|                 42648|                   19320|                     566110|               475225|\n",
      "|     YV|2012|                  5055|                    1982|                      53016|                66767|\n",
      "|     YV|2013|                  5701|                    2287|                      59594|                65124|\n",
      "+-------+----+----------------------+------------------------+---------------------------+---------------------+\n",
      "\n"
     ]
    },
    {
     "name": "stderr",
     "output_type": "stream",
     "text": [
      "                                                                                \r"
     ]
    }
   ],
   "source": [
    "carrierDelayCountEvolution = spark.sql(\" \\\n",
    "    SELECT OP_CARRIER AS Carrier, EXTRACT(year from FL_DATE) AS Year, \\\n",
    "    SUM( \\\n",
    "          CASE WHEN DEP_DELAY = ARR_DELAY THEN 1 \\\n",
    "          ELSE 0 END \\\n",
    "    ) AS NoDelayCorrectionCount, \\\n",
    "    SUM( \\\n",
    "          CASE WHEN ARR_DELAY = (DEP_DELAY * -1) THEN 1 \\\n",
    "          ELSE 0 END \\\n",
    "    ) AS FullDelayCorrectionCount, \\\n",
    "    SUM( \\\n",
    "          CASE WHEN (DEP_DELAY > 0 AND ARR_DELAY < DEP_DELAY) OR (DEP_DELAY < 0 AND ARR_DELAY > DEP_DELAY) THEN 1 \\\n",
    "          ELSE 0 END \\\n",
    "    ) AS PartialDelayCorrectionCount, \\\n",
    "    SUM( \\\n",
    "          CASE WHEN (DEP_DELAY > 0 AND ARR_DELAY > DEP_DELAY) OR (DEP_DELAY < 0 AND ARR_DELAY < 0 AND ABS(DEP_DELAY) < ABS(ARR_DELAY)) THEN 1 \\\n",
    "          ELSE 0 END \\\n",
    "    ) AS DelayAggravationCount \\\n",
    "    FROM airlinedelay \\\n",
    "    GROUP BY Carrier, Year \\\n",
    "    ORDER BY Carrier, Year\")\n",
    "    \n",
    "carrierDelayCountEvolution.createOrReplaceTempView(\"carrierDelayCountEvolution\")\n",
    "carrierDelayCountEvolution.show(1000)"
   ]
  },
  {
   "cell_type": "markdown",
   "id": "4472cce4-4871-45aa-90a9-1a94bac4eb90",
   "metadata": {
    "tags": []
   },
   "source": [
    "EVOLUTION OF DELAY CORRECTIONS COUNT PER CARRIER ACROSS INDIVIDUAL YEARS: YoY absolute change for each carrier per year"
   ]
  },
  {
   "cell_type": "code",
   "execution_count": 15,
   "id": "cc7f02ae-029a-4a67-b243-2d8b612b74d3",
   "metadata": {},
   "outputs": [
    {
     "name": "stdout",
     "output_type": "stream",
     "text": [
      "23/01/01 10:49:08 WARN WindowExec: No Partition Defined for Window operation! Moving all data to a single partition, this can cause serious performance degradation.\n",
      "23/01/01 10:49:08 WARN WindowExec: No Partition Defined for Window operation! Moving all data to a single partition, this can cause serious performance degradation.\n",
      "23/01/01 10:49:08 WARN WindowExec: No Partition Defined for Window operation! Moving all data to a single partition, this can cause serious performance degradation.\n"
     ]
    },
    {
     "name": "stderr",
     "output_type": "stream",
     "text": [
      "[Stage 35:=================================================>      (16 + 2) / 18]\r"
     ]
    },
    {
     "name": "stdout",
     "output_type": "stream",
     "text": [
      "23/01/01 10:49:12 WARN WindowExec: No Partition Defined for Window operation! Moving all data to a single partition, this can cause serious performance degradation.\n",
      "23/01/01 10:49:12 WARN WindowExec: No Partition Defined for Window operation! Moving all data to a single partition, this can cause serious performance degradation.\n",
      "23/01/01 10:49:13 WARN WindowExec: No Partition Defined for Window operation! Moving all data to a single partition, this can cause serious performance degradation.\n",
      "23/01/01 10:49:13 WARN WindowExec: No Partition Defined for Window operation! Moving all data to a single partition, this can cause serious performance degradation.\n",
      "23/01/01 10:49:13 WARN WindowExec: No Partition Defined for Window operation! Moving all data to a single partition, this can cause serious performance degradation.\n",
      "23/01/01 10:49:13 WARN WindowExec: No Partition Defined for Window operation! Moving all data to a single partition, this can cause serious performance degradation.\n",
      "+-------+----+-------------------------+---------------------------+------------------------------+------------------------+\n",
      "|Carrier|Year|NoDelayCorrectionCountYoY|FullDelayCorrectionCountYoY|PartialDelayCorrectionCountYoY|DelayAggravationCountYoY|\n",
      "+-------+----+-------------------------+---------------------------+------------------------------+------------------------+\n",
      "|     AA|2013|                    -2112|                       -395|                         21595|                   -7767|\n",
      "|     AA|2014|                     3205|                         17|                         -9299|                   12157|\n",
      "|     AS|2013|                      709|                        624|                         11965|                   -5335|\n",
      "|     AS|2014|                      131|                         73|                          3201|                    1587|\n",
      "|     B6|2013|                      630|                        147|                         11381|                     626|\n",
      "|     B6|2014|                      191|                        115|                         -1485|                    5262|\n",
      "|     DL|2013|                     2120|                       1063|                         23513|                     165|\n",
      "|     DL|2014|                     1627|                       1112|                         21938|                   10503|\n",
      "|     EV|2013|                     1833|                        180|                         18224|                  -15177|\n",
      "|     EV|2014|                    -1377|                       -686|                        -31265|                  -40544|\n",
      "|     F9|2013|                     -101|                       -223|                         -2139|                    -623|\n",
      "|     F9|2014|                      594|                        173|                          4717|                    4973|\n",
      "|     FL|2013|                    -2588|                       -510|                         -2329|                  -38704|\n",
      "|     FL|2014|                    -3577|                      -1684|                        -43434|                  -42819|\n",
      "|     HA|2013|                     -200|                       -271|                           789|                   -1989|\n",
      "|     HA|2014|                     -792|                        -19|                          2670|                     492|\n",
      "|     MQ|2013|                    -1367|                       -132|                          3333|                  -39624|\n",
      "|     MQ|2014|                    -1377|                       -316|                        -16381|                  -32015|\n",
      "|     OO|2013|                     -175|                       -514|                          9751|                    -447|\n",
      "|     OO|2014|                     -931|                        -88|                          -654|                  -15965|\n",
      "|     UA|2013|                    -1044|                       -811|                        -22084|                    3766|\n",
      "|     UA|2014|                      486|                        432|                          8780|                  -21814|\n",
      "|     US|2013|                     1191|                        576|                         15992|                   -9558|\n",
      "|     US|2014|                     -207|                       -411|                         -1673|                    1524|\n",
      "|     VX|2013|                       94|                        -15|                          1079|                     952|\n",
      "|     VX|2014|                       97|                         -3|                          -132|                     400|\n",
      "|     WN|2013|                     4132|                        -92|                         51799|                  -49309|\n",
      "|     WN|2014|                     3014|                      -2624|                          -346|                   52372|\n",
      "|     YV|2013|                      646|                        305|                          6578|                   -1643|\n",
      "+-------+----+-------------------------+---------------------------+------------------------------+------------------------+\n",
      "\n"
     ]
    },
    {
     "name": "stderr",
     "output_type": "stream",
     "text": [
      "                                                                                \r"
     ]
    }
   ],
   "source": [
    "spark.sql(\" \\\n",
    "    SELECT Carrier, Year, \\\n",
    "    IF(Carrier = LAG(Carrier) OVER (ORDER BY Carrier, Year), NoDelayCorrectionCount - LAG(NoDelayCorrectionCount) OVER (ORDER BY Carrier, Year), NULL) AS NoDelayCorrectionCountYoY, \\\n",
    "    IF(Carrier = LAG(Carrier) OVER (ORDER BY Carrier, Year), FullDelayCorrectionCount - LAG(FullDelayCorrectionCount) OVER (ORDER BY Carrier, Year), NULL) AS FullDelayCorrectionCountYoY, \\\n",
    "    IF(Carrier = LAG(Carrier) OVER (ORDER BY Carrier, Year), PartialDelayCorrectionCount - LAG(PartialDelayCorrectionCount) OVER (ORDER BY Carrier, Year), NULL) AS PartialDelayCorrectionCountYoY, \\\n",
    "    IF(Carrier = LAG(Carrier) OVER (ORDER BY Carrier, Year), DelayAggravationCount - LAG(DelayAggravationCount) OVER (ORDER BY Carrier, Year), NULL) AS DelayAggravationCountYoY \\\n",
    "    FROM carrierDelayCountEvolution\") \\\n",
    "    .na.drop('any') \\\n",
    "    .show(1000)"
   ]
  },
  {
   "cell_type": "code",
   "execution_count": null,
   "id": "a656b41a-de7b-4faf-8b19-c8f6a364b4c2",
   "metadata": {},
   "outputs": [],
   "source": []
  }
 ],
 "metadata": {
  "kernelspec": {
   "display_name": "Python 3 (ipykernel)",
   "language": "python",
   "name": "python3"
  },
  "language_info": {
   "codemirror_mode": {
    "name": "ipython",
    "version": 3
   },
   "file_extension": ".py",
   "mimetype": "text/x-python",
   "name": "python",
   "nbconvert_exporter": "python",
   "pygments_lexer": "ipython3",
   "version": "3.8.10"
  }
 },
 "nbformat": 4,
 "nbformat_minor": 5
}
