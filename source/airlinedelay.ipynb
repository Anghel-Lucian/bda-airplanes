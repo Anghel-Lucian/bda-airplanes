{
 "cells": [
  {
   "cell_type": "code",
   "execution_count": 1,
   "metadata": {},
   "outputs": [],
   "source": [
    "from pyspark.sql import SparkSession\n",
    "from pyspark.sql.types import StructType, StructField\n",
    "from pyspark.sql.types import StringType, IntegerType, DateType, DoubleType\n",
    "from pyspark.sql import functions\n",
    "import math\n",
    "import plotly.offline as pyo\n",
    "import plotly.graph_objs as go\n",
    "from calendar import month\n",
    "from pandas import to_datetime\n",
    "from pyspark.sql.functions import unix_timestamp\n",
    "from pyspark.sql.functions import col\n",
    "import pandas as pd"
   ]
  },
  {
   "cell_type": "code",
   "execution_count": 2,
   "metadata": {},
   "outputs": [
    {
     "name": "stderr",
     "output_type": "stream",
     "text": [
      "c:\\Users\\andre\\AppData\\Local\\Programs\\Python\\Python36\\lib\\site-packages\\pyspark\\context.py:238: FutureWarning:\n",
      "\n",
      "Python 3.6 support is deprecated in Spark 3.2.\n",
      "\n"
     ]
    }
   ],
   "source": [
    "spark = SparkSession \\\n",
    "    .builder \\\n",
    "    .appName(\"airlinedelay\") \\\n",
    "    .getOrCreate()\n",
    "\n",
    "context = spark.sparkContext"
   ]
  },
  {
   "cell_type": "code",
   "execution_count": 3,
   "metadata": {},
   "outputs": [],
   "source": [
    "schema = StructType([\n",
    "    StructField(\"FL_DATE\", DateType(), True),\n",
    "    StructField(\"OP_CARRIER\", StringType(), True),\n",
    "    StructField(\"OP_CARRIER_FL_NUM\", IntegerType(), True),\n",
    "    StructField(\"ORIGIN\", StringType(), True),\n",
    "    StructField(\"DEST\", StringType(), True),\n",
    "    StructField(\"CRS_DEP_TIME\", DoubleType(), True),\n",
    "    StructField(\"DEP_TIME\", DoubleType(), True),\n",
    "    StructField(\"DEP_DELAY\", DoubleType(), True),\n",
    "    StructField(\"TAXI_OUT\", DoubleType(), True),\n",
    "    StructField(\"WHEELS_OFF\", DoubleType(), True),\n",
    "    StructField(\"WHEELS_ON\", DoubleType(), True),\n",
    "    StructField(\"TAXI_IN\", DoubleType(), True),\n",
    "    StructField(\"CRS_ARR_TIME\", DoubleType(), True),\n",
    "    StructField(\"ARR_TIME\", DoubleType(), True),\n",
    "    StructField(\"ARR_DELAY\", DoubleType(), True),\n",
    "    StructField(\"CANCELLED\", DoubleType(), True),\n",
    "    StructField(\"CANCELLATION_CODE\", StringType(), True),\n",
    "    StructField(\"DIVERTED\", DoubleType(), True),\n",
    "    StructField(\"CRS_ELAPSED_TIME\", DoubleType(), True),\n",
    "    StructField(\"ACTUAL_ELAPSED_TIME\", DoubleType(), True),\n",
    "    StructField(\"AIR_TIME\", DoubleType(), True),\n",
    "    StructField(\"DISTANCE\", DoubleType(), True),\n",
    "    StructField(\"CARRIER_DELAY\", DoubleType(), True),\n",
    "    StructField(\"WEATHER_DELAY\", DoubleType(), True),\n",
    "    StructField(\"NAS_DELAY\", DoubleType(), True),\n",
    "    StructField(\"SECURITY_DELAY\", DoubleType(), True),\n",
    "    StructField(\"LATE_AIRCRAFT_DELAY\", DoubleType(), True)\n",
    "])\n",
    "\n",
    "df = spark.read.format(\"csv\") \\\n",
    "    .option(\"sep\", \",\") \\\n",
    "    .option(\"header\", True) \\\n",
    "    .schema(schema) \\\n",
    "    .load(\"*.csv\")\n",
    "\n",
    "df.createOrReplaceTempView(\"airlinedelay\")"
   ]
  },
  {
   "cell_type": "code",
   "execution_count": 4,
   "metadata": {},
   "outputs": [
    {
     "name": "stdout",
     "output_type": "stream",
     "text": [
      "+----------+----------+-----------------+------+----+------------+--------+---------+--------+----------+---------+-------+------------+--------+---------+---------+-----------------+--------+----------------+-------------------+--------+--------+-------------+-------------+---------+--------------+-------------------+\n",
      "|   FL_DATE|OP_CARRIER|OP_CARRIER_FL_NUM|ORIGIN|DEST|CRS_DEP_TIME|DEP_TIME|DEP_DELAY|TAXI_OUT|WHEELS_OFF|WHEELS_ON|TAXI_IN|CRS_ARR_TIME|ARR_TIME|ARR_DELAY|CANCELLED|CANCELLATION_CODE|DIVERTED|CRS_ELAPSED_TIME|ACTUAL_ELAPSED_TIME|AIR_TIME|DISTANCE|CARRIER_DELAY|WEATHER_DELAY|NAS_DELAY|SECURITY_DELAY|LATE_AIRCRAFT_DELAY|\n",
      "+----------+----------+-----------------+------+----+------------+--------+---------+--------+----------+---------+-------+------------+--------+---------+---------+-----------------+--------+----------------+-------------------+--------+--------+-------------+-------------+---------+--------------+-------------------+\n",
      "|2016-01-01|        DL|             1248|   DTW| LAX|      1935.0|  1935.0|      0.0|    23.0|    1958.0|   2107.0|   13.0|      2144.0|  2120.0|    -24.0|      0.0|             null|     0.0|           309.0|              285.0|   249.0|  1979.0|         null|         null|     null|          null|               null|\n",
      "|2016-01-01|        DL|             1251|   ATL| GRR|      2125.0|  2130.0|      5.0|    13.0|    2143.0|   2315.0|    4.0|      2321.0|  2319.0|     -2.0|      0.0|             null|     0.0|           116.0|              109.0|    92.0|   640.0|         null|         null|     null|          null|               null|\n",
      "|2016-01-01|        DL|             1254|   LAX| ATL|      2255.0|  2256.0|      1.0|    19.0|    2315.0|    542.0|    5.0|       600.0|   547.0|    -13.0|      0.0|             null|     0.0|           245.0|              231.0|   207.0|  1947.0|         null|         null|     null|          null|               null|\n",
      "|2016-01-01|        DL|             1255|   SLC| ATL|      1656.0|  1700.0|      4.0|    12.0|    1712.0|   2205.0|    8.0|      2229.0|  2213.0|    -16.0|      0.0|             null|     0.0|           213.0|              193.0|   173.0|  1590.0|         null|         null|     null|          null|               null|\n",
      "|2016-01-01|        DL|             1256|   BZN| MSP|       900.0|  1012.0|     72.0|    63.0|    1115.0|   1416.0|    4.0|      1216.0|  1420.0|    124.0|      0.0|             null|     0.0|           136.0|              188.0|   121.0|   874.0|         72.0|          0.0|     52.0|           0.0|                0.0|\n",
      "|2016-01-01|        DL|             1257|   ATL| BNA|      1233.0|  1356.0|     83.0|    22.0|    1418.0|   1356.0|    6.0|      1239.0|  1402.0|     83.0|      0.0|             null|     0.0|            66.0|               66.0|    38.0|   214.0|         43.0|          0.0|      0.0|           0.0|               40.0|\n",
      "|2016-01-01|        DL|             1257|   BNA| ATL|      1320.0|  1446.0|     86.0|    15.0|    1501.0|   1638.0|    6.0|      1530.0|  1644.0|     74.0|      0.0|             null|     0.0|            70.0|               58.0|    37.0|   214.0|          3.0|          0.0|      0.0|           0.0|               71.0|\n",
      "|2016-01-01|        DL|             1258|   ATL| JAX|       945.0|   946.0|      1.0|    19.0|    1005.0|   1050.0|    3.0|      1050.0|  1053.0|      3.0|      0.0|             null|     0.0|            65.0|               67.0|    45.0|   270.0|         null|         null|     null|          null|               null|\n",
      "|2016-01-01|        DL|             1258|   JAX| ATL|      1145.0|  1144.0|     -1.0|    12.0|    1156.0|   1239.0|    8.0|      1302.0|  1247.0|    -15.0|      0.0|             null|     0.0|            77.0|               63.0|    43.0|   270.0|         null|         null|     null|          null|               null|\n",
      "|2016-01-01|        DL|             1259|   ATL| OKC|      2110.0|  2107.0|     -3.0|    16.0|    2123.0|   2219.0|    5.0|      2236.0|  2224.0|    -12.0|      0.0|             null|     0.0|           146.0|              137.0|   116.0|   761.0|         null|         null|     null|          null|               null|\n",
      "|2016-01-01|        DL|             1260|   MSP| SMF|      1115.0|  1113.0|     -2.0|    12.0|    1125.0|   1232.0|    4.0|      1309.0|  1236.0|    -33.0|      0.0|             null|     0.0|           234.0|              203.0|   187.0|  1517.0|         null|         null|     null|          null|               null|\n",
      "|2016-01-01|        DL|             1262|   LAX| JFK|      2255.0|  2248.0|     -7.0|    23.0|    2311.0|    650.0|   11.0|       715.0|   701.0|    -14.0|      0.0|             null|     0.0|           320.0|              313.0|   279.0|  2475.0|         null|         null|     null|          null|               null|\n",
      "|2016-01-01|        DL|             1263|   ATL| MDT|      1510.0|  1509.0|     -1.0|    17.0|    1526.0|   1646.0|    5.0|      1702.0|  1651.0|    -11.0|      0.0|             null|     0.0|           112.0|              102.0|    80.0|   620.0|         null|         null|     null|          null|               null|\n",
      "|2016-01-01|        DL|             1263|   MDT| ATL|      1737.0|  1727.0|    -10.0|    11.0|    1738.0|   1923.0|   11.0|      1949.0|  1934.0|    -15.0|      0.0|             null|     0.0|           132.0|              127.0|   105.0|   620.0|         null|         null|     null|          null|               null|\n",
      "|2016-01-01|        DL|             1264|   SLC| JFK|      2345.0|  2341.0|     -4.0|    25.0|       6.0|    602.0|   11.0|       607.0|   613.0|      6.0|      0.0|             null|     0.0|           262.0|              272.0|   236.0|  1990.0|         null|         null|     null|          null|               null|\n",
      "|2016-01-01|        DL|             1265|   SAV| ATL|      1408.0|  1403.0|     -5.0|    15.0|    1418.0|   1459.0|    6.0|      1523.0|  1505.0|    -18.0|      0.0|             null|     0.0|            75.0|               62.0|    41.0|   214.0|         null|         null|     null|          null|               null|\n",
      "|2016-01-01|        DL|             1266|   BUF| ATL|       615.0|   612.0|     -3.0|    38.0|     650.0|    844.0|    5.0|       843.0|   849.0|      6.0|      0.0|             null|     0.0|           148.0|              157.0|   114.0|   712.0|         null|         null|     null|          null|               null|\n",
      "|2016-01-01|        DL|             1269|   LGA| MIA|      1100.0|  1100.0|      0.0|    15.0|    1115.0|   1402.0|    4.0|      1432.0|  1406.0|    -26.0|      0.0|             null|     0.0|           212.0|              186.0|   167.0|  1096.0|         null|         null|     null|          null|               null|\n",
      "|2016-01-01|        DL|             1270|   ATL| PNS|      1340.0|  1337.0|     -3.0|    11.0|    1348.0|   1339.0|    3.0|      1352.0|  1342.0|    -10.0|      0.0|             null|     0.0|            72.0|               65.0|    51.0|   271.0|         null|         null|     null|          null|               null|\n",
      "|2016-01-01|        DL|             1270|   PNS| ATL|      1435.0|  1431.0|     -4.0|    10.0|    1441.0|   1622.0|    6.0|      1648.0|  1628.0|    -20.0|      0.0|             null|     0.0|            73.0|               57.0|    41.0|   271.0|         null|         null|     null|          null|               null|\n",
      "+----------+----------+-----------------+------+----+------------+--------+---------+--------+----------+---------+-------+------------+--------+---------+---------+-----------------+--------+----------------+-------------------+--------+--------+-------------+-------------+---------+--------------+-------------------+\n",
      "only showing top 20 rows\n",
      "\n"
     ]
    }
   ],
   "source": [
    "df.show()"
   ]
  },
  {
   "cell_type": "markdown",
   "metadata": {},
   "source": [
    "TOTAL RECORDS"
   ]
  },
  {
   "cell_type": "code",
   "execution_count": 5,
   "metadata": {},
   "outputs": [
    {
     "name": "stdout",
     "output_type": "stream",
     "text": [
      "+--------+\n",
      "|count(1)|\n",
      "+--------+\n",
      "|18505725|\n",
      "+--------+\n",
      "\n"
     ]
    }
   ],
   "source": [
    "spark.sql(\"SELECT count(*) FROM airlinedelay\").show()"
   ]
  },
  {
   "attachments": {},
   "cell_type": "markdown",
   "metadata": {},
   "source": [
    " AVERAGE DEPARTURE DELAY PER MONTH IN ALL YEARS"
   ]
  },
  {
   "cell_type": "code",
   "execution_count": 6,
   "metadata": {},
   "outputs": [
    {
     "name": "stdout",
     "output_type": "stream",
     "text": [
      "+---------+-----------------------------+---------------------------+\n",
      "|    Month|AverageDepartureDelayPerMonth|AverageArrivalDelayPerMonth|\n",
      "+---------+-----------------------------+---------------------------+\n",
      "| February|           30.735431890196587|          33.71100564562122|\n",
      "|  January|            32.18828878699574|          35.25426456636053|\n",
      "|    March|           28.878667663204894|         30.986196824550824|\n",
      "|      May|            31.56993455797027|          34.25158585502806|\n",
      "|    April|            31.86281084247858|          34.09016641899735|\n",
      "|     July|           37.292714589718095|          40.61094899363225|\n",
      "|     June|            34.88871055929404|          38.14195843797705|\n",
      "|  October|            27.35363224271801|           29.2535701323158|\n",
      "|   August|            36.20854900123184|         38.999591241859285|\n",
      "|September|           28.909569347281945|          31.14594036226316|\n",
      "| November|            27.16239535928725|         30.007738214623405|\n",
      "| December|            31.40340308209513|          34.63536989043135|\n",
      "+---------+-----------------------------+---------------------------+\n",
      "\n"
     ]
    }
   ],
   "source": [
    "\n",
    "averageDepartureDelayPerMonth = spark.sql(\"SELECT CASE EXTRACT(month from FL_DATE) WHEN 1 THEN 'January'  WHEN 2 THEN 'February' WHEN 3 THEN 'March' WHEN 4 THEN 'April' WHEN 5 THEN 'May' \\\n",
    "WHEN 6 THEN 'June' WHEN 7 THEN 'July' WHEN 8 THEN 'August' WHEN 9 THEN 'September' \\\n",
    "WHEN 10 THEN 'October' WHEN 11 THEN 'November' ELSE 'December' END AS Month, \\\n",
    "AVG(IF(DEP_DELAY >= 0 , DEP_DELAY, NULL)) AS AverageDepartureDelayPerMonth, AVG(IF(ARR_DELAY >= 0 , ARR_DELAY, NULL)) AS AverageArrivalDelayPerMonth FROM airlinedelay GROUP BY Month\")\n",
    "averageDepartureDelayPerMonth.show()\n"
   ]
  },
  {
   "cell_type": "code",
   "execution_count": 7,
   "metadata": {},
   "outputs": [
    {
     "data": {
      "application/vnd.plotly.v1+json": {
       "config": {
        "linkText": "Export to plot.ly",
        "plotlyServerURL": "https://plot.ly",
        "showLink": false
       },
       "data": [
        {
         "marker": {
          "color": "red"
         },
         "mode": "lines+markers",
         "name": "Average Departure Delay",
         "text": [
          "January",
          "February",
          "March",
          "April",
          "May",
          "June",
          "July",
          "August",
          "September",
          "October",
          "November",
          "December"
         ],
         "type": "scatter",
         "x": [
          "January",
          "February",
          "March",
          "April",
          "May",
          "June",
          "July",
          "August",
          "September",
          "October",
          "November",
          "December"
         ],
         "y": [
          32.18828878699574,
          30.735431890196587,
          28.878667663204894,
          31.86281084247858,
          31.56993455797027,
          34.88871055929404,
          37.292714589718095,
          36.20854900123184,
          28.909569347281945,
          27.35363224271801,
          27.16239535928725,
          31.40340308209513
         ]
        },
        {
         "marker": {
          "color": "yellow"
         },
         "mode": "lines+markers",
         "name": "Average Arrival Delay",
         "text": [
          "January",
          "February",
          "March",
          "April",
          "May",
          "June",
          "July",
          "August",
          "September",
          "October",
          "November",
          "December"
         ],
         "type": "scatter",
         "x": [
          "January",
          "February",
          "March",
          "April",
          "May",
          "June",
          "July",
          "August",
          "September",
          "October",
          "November",
          "December"
         ],
         "y": [
          35.25426456636053,
          33.71100564562122,
          30.986196824550824,
          34.09016641899735,
          34.25158585502806,
          38.14195843797705,
          40.61094899363225,
          38.999591241859285,
          31.14594036226316,
          29.2535701323158,
          30.007738214623405,
          34.63536989043135
         ]
        }
       ],
       "layout": {
        "height": 600,
        "template": {
         "data": {
          "bar": [
           {
            "error_x": {
             "color": "#2a3f5f"
            },
            "error_y": {
             "color": "#2a3f5f"
            },
            "marker": {
             "line": {
              "color": "#E5ECF6",
              "width": 0.5
             }
            },
            "type": "bar"
           }
          ],
          "barpolar": [
           {
            "marker": {
             "line": {
              "color": "#E5ECF6",
              "width": 0.5
             }
            },
            "type": "barpolar"
           }
          ],
          "carpet": [
           {
            "aaxis": {
             "endlinecolor": "#2a3f5f",
             "gridcolor": "white",
             "linecolor": "white",
             "minorgridcolor": "white",
             "startlinecolor": "#2a3f5f"
            },
            "baxis": {
             "endlinecolor": "#2a3f5f",
             "gridcolor": "white",
             "linecolor": "white",
             "minorgridcolor": "white",
             "startlinecolor": "#2a3f5f"
            },
            "type": "carpet"
           }
          ],
          "choropleth": [
           {
            "colorbar": {
             "outlinewidth": 0,
             "ticks": ""
            },
            "type": "choropleth"
           }
          ],
          "contour": [
           {
            "colorbar": {
             "outlinewidth": 0,
             "ticks": ""
            },
            "colorscale": [
             [
              0,
              "#0d0887"
             ],
             [
              0.1111111111111111,
              "#46039f"
             ],
             [
              0.2222222222222222,
              "#7201a8"
             ],
             [
              0.3333333333333333,
              "#9c179e"
             ],
             [
              0.4444444444444444,
              "#bd3786"
             ],
             [
              0.5555555555555556,
              "#d8576b"
             ],
             [
              0.6666666666666666,
              "#ed7953"
             ],
             [
              0.7777777777777778,
              "#fb9f3a"
             ],
             [
              0.8888888888888888,
              "#fdca26"
             ],
             [
              1,
              "#f0f921"
             ]
            ],
            "type": "contour"
           }
          ],
          "contourcarpet": [
           {
            "colorbar": {
             "outlinewidth": 0,
             "ticks": ""
            },
            "type": "contourcarpet"
           }
          ],
          "heatmap": [
           {
            "colorbar": {
             "outlinewidth": 0,
             "ticks": ""
            },
            "colorscale": [
             [
              0,
              "#0d0887"
             ],
             [
              0.1111111111111111,
              "#46039f"
             ],
             [
              0.2222222222222222,
              "#7201a8"
             ],
             [
              0.3333333333333333,
              "#9c179e"
             ],
             [
              0.4444444444444444,
              "#bd3786"
             ],
             [
              0.5555555555555556,
              "#d8576b"
             ],
             [
              0.6666666666666666,
              "#ed7953"
             ],
             [
              0.7777777777777778,
              "#fb9f3a"
             ],
             [
              0.8888888888888888,
              "#fdca26"
             ],
             [
              1,
              "#f0f921"
             ]
            ],
            "type": "heatmap"
           }
          ],
          "heatmapgl": [
           {
            "colorbar": {
             "outlinewidth": 0,
             "ticks": ""
            },
            "colorscale": [
             [
              0,
              "#0d0887"
             ],
             [
              0.1111111111111111,
              "#46039f"
             ],
             [
              0.2222222222222222,
              "#7201a8"
             ],
             [
              0.3333333333333333,
              "#9c179e"
             ],
             [
              0.4444444444444444,
              "#bd3786"
             ],
             [
              0.5555555555555556,
              "#d8576b"
             ],
             [
              0.6666666666666666,
              "#ed7953"
             ],
             [
              0.7777777777777778,
              "#fb9f3a"
             ],
             [
              0.8888888888888888,
              "#fdca26"
             ],
             [
              1,
              "#f0f921"
             ]
            ],
            "type": "heatmapgl"
           }
          ],
          "histogram": [
           {
            "marker": {
             "colorbar": {
              "outlinewidth": 0,
              "ticks": ""
             }
            },
            "type": "histogram"
           }
          ],
          "histogram2d": [
           {
            "colorbar": {
             "outlinewidth": 0,
             "ticks": ""
            },
            "colorscale": [
             [
              0,
              "#0d0887"
             ],
             [
              0.1111111111111111,
              "#46039f"
             ],
             [
              0.2222222222222222,
              "#7201a8"
             ],
             [
              0.3333333333333333,
              "#9c179e"
             ],
             [
              0.4444444444444444,
              "#bd3786"
             ],
             [
              0.5555555555555556,
              "#d8576b"
             ],
             [
              0.6666666666666666,
              "#ed7953"
             ],
             [
              0.7777777777777778,
              "#fb9f3a"
             ],
             [
              0.8888888888888888,
              "#fdca26"
             ],
             [
              1,
              "#f0f921"
             ]
            ],
            "type": "histogram2d"
           }
          ],
          "histogram2dcontour": [
           {
            "colorbar": {
             "outlinewidth": 0,
             "ticks": ""
            },
            "colorscale": [
             [
              0,
              "#0d0887"
             ],
             [
              0.1111111111111111,
              "#46039f"
             ],
             [
              0.2222222222222222,
              "#7201a8"
             ],
             [
              0.3333333333333333,
              "#9c179e"
             ],
             [
              0.4444444444444444,
              "#bd3786"
             ],
             [
              0.5555555555555556,
              "#d8576b"
             ],
             [
              0.6666666666666666,
              "#ed7953"
             ],
             [
              0.7777777777777778,
              "#fb9f3a"
             ],
             [
              0.8888888888888888,
              "#fdca26"
             ],
             [
              1,
              "#f0f921"
             ]
            ],
            "type": "histogram2dcontour"
           }
          ],
          "mesh3d": [
           {
            "colorbar": {
             "outlinewidth": 0,
             "ticks": ""
            },
            "type": "mesh3d"
           }
          ],
          "parcoords": [
           {
            "line": {
             "colorbar": {
              "outlinewidth": 0,
              "ticks": ""
             }
            },
            "type": "parcoords"
           }
          ],
          "pie": [
           {
            "automargin": true,
            "type": "pie"
           }
          ],
          "scatter": [
           {
            "marker": {
             "colorbar": {
              "outlinewidth": 0,
              "ticks": ""
             }
            },
            "type": "scatter"
           }
          ],
          "scatter3d": [
           {
            "line": {
             "colorbar": {
              "outlinewidth": 0,
              "ticks": ""
             }
            },
            "marker": {
             "colorbar": {
              "outlinewidth": 0,
              "ticks": ""
             }
            },
            "type": "scatter3d"
           }
          ],
          "scattercarpet": [
           {
            "marker": {
             "colorbar": {
              "outlinewidth": 0,
              "ticks": ""
             }
            },
            "type": "scattercarpet"
           }
          ],
          "scattergeo": [
           {
            "marker": {
             "colorbar": {
              "outlinewidth": 0,
              "ticks": ""
             }
            },
            "type": "scattergeo"
           }
          ],
          "scattergl": [
           {
            "marker": {
             "colorbar": {
              "outlinewidth": 0,
              "ticks": ""
             }
            },
            "type": "scattergl"
           }
          ],
          "scattermapbox": [
           {
            "marker": {
             "colorbar": {
              "outlinewidth": 0,
              "ticks": ""
             }
            },
            "type": "scattermapbox"
           }
          ],
          "scatterpolar": [
           {
            "marker": {
             "colorbar": {
              "outlinewidth": 0,
              "ticks": ""
             }
            },
            "type": "scatterpolar"
           }
          ],
          "scatterpolargl": [
           {
            "marker": {
             "colorbar": {
              "outlinewidth": 0,
              "ticks": ""
             }
            },
            "type": "scatterpolargl"
           }
          ],
          "scatterternary": [
           {
            "marker": {
             "colorbar": {
              "outlinewidth": 0,
              "ticks": ""
             }
            },
            "type": "scatterternary"
           }
          ],
          "surface": [
           {
            "colorbar": {
             "outlinewidth": 0,
             "ticks": ""
            },
            "colorscale": [
             [
              0,
              "#0d0887"
             ],
             [
              0.1111111111111111,
              "#46039f"
             ],
             [
              0.2222222222222222,
              "#7201a8"
             ],
             [
              0.3333333333333333,
              "#9c179e"
             ],
             [
              0.4444444444444444,
              "#bd3786"
             ],
             [
              0.5555555555555556,
              "#d8576b"
             ],
             [
              0.6666666666666666,
              "#ed7953"
             ],
             [
              0.7777777777777778,
              "#fb9f3a"
             ],
             [
              0.8888888888888888,
              "#fdca26"
             ],
             [
              1,
              "#f0f921"
             ]
            ],
            "type": "surface"
           }
          ],
          "table": [
           {
            "cells": {
             "fill": {
              "color": "#EBF0F8"
             },
             "line": {
              "color": "white"
             }
            },
            "header": {
             "fill": {
              "color": "#C8D4E3"
             },
             "line": {
              "color": "white"
             }
            },
            "type": "table"
           }
          ]
         },
         "layout": {
          "annotationdefaults": {
           "arrowcolor": "#2a3f5f",
           "arrowhead": 0,
           "arrowwidth": 1
          },
          "autotypenumbers": "strict",
          "coloraxis": {
           "colorbar": {
            "outlinewidth": 0,
            "ticks": ""
           }
          },
          "colorscale": {
           "diverging": [
            [
             0,
             "#8e0152"
            ],
            [
             0.1,
             "#c51b7d"
            ],
            [
             0.2,
             "#de77ae"
            ],
            [
             0.3,
             "#f1b6da"
            ],
            [
             0.4,
             "#fde0ef"
            ],
            [
             0.5,
             "#f7f7f7"
            ],
            [
             0.6,
             "#e6f5d0"
            ],
            [
             0.7,
             "#b8e186"
            ],
            [
             0.8,
             "#7fbc41"
            ],
            [
             0.9,
             "#4d9221"
            ],
            [
             1,
             "#276419"
            ]
           ],
           "sequential": [
            [
             0,
             "#0d0887"
            ],
            [
             0.1111111111111111,
             "#46039f"
            ],
            [
             0.2222222222222222,
             "#7201a8"
            ],
            [
             0.3333333333333333,
             "#9c179e"
            ],
            [
             0.4444444444444444,
             "#bd3786"
            ],
            [
             0.5555555555555556,
             "#d8576b"
            ],
            [
             0.6666666666666666,
             "#ed7953"
            ],
            [
             0.7777777777777778,
             "#fb9f3a"
            ],
            [
             0.8888888888888888,
             "#fdca26"
            ],
            [
             1,
             "#f0f921"
            ]
           ],
           "sequentialminus": [
            [
             0,
             "#0d0887"
            ],
            [
             0.1111111111111111,
             "#46039f"
            ],
            [
             0.2222222222222222,
             "#7201a8"
            ],
            [
             0.3333333333333333,
             "#9c179e"
            ],
            [
             0.4444444444444444,
             "#bd3786"
            ],
            [
             0.5555555555555556,
             "#d8576b"
            ],
            [
             0.6666666666666666,
             "#ed7953"
            ],
            [
             0.7777777777777778,
             "#fb9f3a"
            ],
            [
             0.8888888888888888,
             "#fdca26"
            ],
            [
             1,
             "#f0f921"
            ]
           ]
          },
          "colorway": [
           "#636efa",
           "#EF553B",
           "#00cc96",
           "#ab63fa",
           "#FFA15A",
           "#19d3f3",
           "#FF6692",
           "#B6E880",
           "#FF97FF",
           "#FECB52"
          ],
          "font": {
           "color": "#2a3f5f"
          },
          "geo": {
           "bgcolor": "white",
           "lakecolor": "white",
           "landcolor": "#E5ECF6",
           "showlakes": true,
           "showland": true,
           "subunitcolor": "white"
          },
          "hoverlabel": {
           "align": "left"
          },
          "hovermode": "closest",
          "mapbox": {
           "style": "light"
          },
          "paper_bgcolor": "white",
          "plot_bgcolor": "#E5ECF6",
          "polar": {
           "angularaxis": {
            "gridcolor": "white",
            "linecolor": "white",
            "ticks": ""
           },
           "bgcolor": "#E5ECF6",
           "radialaxis": {
            "gridcolor": "white",
            "linecolor": "white",
            "ticks": ""
           }
          },
          "scene": {
           "xaxis": {
            "backgroundcolor": "#E5ECF6",
            "gridcolor": "white",
            "gridwidth": 2,
            "linecolor": "white",
            "showbackground": true,
            "ticks": "",
            "zerolinecolor": "white"
           },
           "yaxis": {
            "backgroundcolor": "#E5ECF6",
            "gridcolor": "white",
            "gridwidth": 2,
            "linecolor": "white",
            "showbackground": true,
            "ticks": "",
            "zerolinecolor": "white"
           },
           "zaxis": {
            "backgroundcolor": "#E5ECF6",
            "gridcolor": "white",
            "gridwidth": 2,
            "linecolor": "white",
            "showbackground": true,
            "ticks": "",
            "zerolinecolor": "white"
           }
          },
          "shapedefaults": {
           "line": {
            "color": "#2a3f5f"
           }
          },
          "ternary": {
           "aaxis": {
            "gridcolor": "white",
            "linecolor": "white",
            "ticks": ""
           },
           "baxis": {
            "gridcolor": "white",
            "linecolor": "white",
            "ticks": ""
           },
           "bgcolor": "#E5ECF6",
           "caxis": {
            "gridcolor": "white",
            "linecolor": "white",
            "ticks": ""
           }
          },
          "title": {
           "x": 0.05
          },
          "xaxis": {
           "automargin": true,
           "gridcolor": "white",
           "linecolor": "white",
           "ticks": "",
           "title": {
            "standoff": 15
           },
           "zerolinecolor": "white",
           "zerolinewidth": 2
          },
          "yaxis": {
           "automargin": true,
           "gridcolor": "white",
           "linecolor": "white",
           "ticks": "",
           "title": {
            "standoff": 15
           },
           "zerolinecolor": "white",
           "zerolinewidth": 2
          }
         }
        },
        "title": {
         "text": "Evolution Of AVERAGE DEPARTURE/ARRIVAL DELAY PER MONTH IN ALL YEARS"
        },
        "width": 900,
        "xaxis": {
         "tickformat": "d",
         "ticklen": 5,
         "title": {
          "text": "Month"
         },
         "zeroline": false
        },
        "yaxis": {
         "title": {
          "text": "Average Delay (Minutes)"
         }
        }
       }
      }
     },
     "metadata": {},
     "output_type": "display_data"
    }
   ],
   "source": [
    "dfpandas = averageDepartureDelayPerMonth.toPandas()\n",
    "months = [\"January\", \"February\", \"March\", \"April\", \"May\", \"June\", \n",
    "          \"July\", \"August\", \"September\", \"October\", \"November\", \"December\"]\n",
    "dfpandasaverageDepartureDelayPerMonth = dfpandas.sort_values('Month', key = lambda x : pd.Categorical(x, categories=months, ordered=True))\n",
    "\n",
    "averageDepartureDelayPerMonthGraph = go.Scatter(\n",
    "    y = dfpandasaverageDepartureDelayPerMonth['AverageDepartureDelayPerMonth'],\n",
    "    x = dfpandasaverageDepartureDelayPerMonth['Month'],\n",
    "    mode = 'lines+markers',\n",
    "    name = 'Average Departure Delay',\n",
    "    marker = dict(color='red'),\n",
    "    text = dfpandasaverageDepartureDelayPerMonth['Month'])\n",
    "\n",
    "averageArrivalDelayPerMonthGraph = go.Scatter(\n",
    "    y = dfpandasaverageDepartureDelayPerMonth['AverageArrivalDelayPerMonth'],\n",
    "    x = dfpandasaverageDepartureDelayPerMonth['Month'],\n",
    "    mode = 'lines+markers',\n",
    "    name = 'Average Arrival Delay',\n",
    "    marker = dict(color='yellow'),\n",
    "    text = dfpandasaverageDepartureDelayPerMonth['Month'])\n",
    "\n",
    "data = [averageDepartureDelayPerMonthGraph, averageArrivalDelayPerMonthGraph]\n",
    "\n",
    "layout = dict(title = 'Evolution Of AVERAGE DEPARTURE/ARRIVAL DELAY PER MONTH IN ALL YEARS',\n",
    "              xaxis= dict(title= 'Month',ticklen= 5,zeroline= False,tickformat='d'),\n",
    "              yaxis= dict(title= 'Average Delay (Minutes)'),\n",
    "              height= 600,\n",
    "              width= 900\n",
    "             )\n",
    "fig = dict(data = data, layout = layout)\n",
    "\n",
    "pyo.iplot(fig)"
   ]
  },
  {
   "attachments": {},
   "cell_type": "markdown",
   "metadata": {},
   "source": []
  },
  {
   "attachments": {},
   "cell_type": "markdown",
   "metadata": {},
   "source": [
    "AVERAGE DEPARTURE DELAY PER CARRIER FOR EACH YEAR"
   ]
  },
  {
   "cell_type": "code",
   "execution_count": 8,
   "metadata": {},
   "outputs": [
    {
     "name": "stdout",
     "output_type": "stream",
     "text": [
      "+----------+----------------------+----+\n",
      "|OP_CARRIER|AverageDelayPerCarrier|Year|\n",
      "+----------+----------------------+----+\n",
      "|        EV|     56.60643408878703|2018|\n",
      "|        EV|     54.49749016415683|2017|\n",
      "|        9E|     52.29959991640044|2018|\n",
      "|        OO|    49.596884774419706|2017|\n",
      "|        OO|     49.00604120365471|2018|\n",
      "|        F9|     47.33786048460303|2018|\n",
      "|        B6|     45.86273824773883|2017|\n",
      "|        EV|    45.038134348244974|2016|\n",
      "|        YV|     43.88718991345109|2018|\n",
      "|        B6|     43.72999099548286|2018|\n",
      "|        F9|     43.09401987941991|2016|\n",
      "|        NK|    42.209263382238206|2017|\n",
      "|        YX|     41.46272772954086|2018|\n",
      "|        NK|     40.66915626492054|2018|\n",
      "|        UA|    39.863071110562636|2018|\n",
      "|        OO|    39.496158502777874|2016|\n",
      "|        G4|     38.84540625521069|2018|\n",
      "|        F9|     38.60866406760782|2017|\n",
      "|        NK|    37.337342546482176|2016|\n",
      "|        VX|     36.26525064795499|2017|\n",
      "+----------+----------------------+----+\n",
      "only showing top 20 rows\n",
      "\n"
     ]
    }
   ],
   "source": [
    "averageDelayPerCarrier = spark.sql(\"SELECT OP_CARRIER, AVG(IF(DEP_DELAY >= 0 , DEP_DELAY, NULL)) AS AverageDelayPerCarrier, EXTRACT(year from FL_DATE) AS Year FROM airlinedelay GROUP BY OP_CARRIER, YEAR ORDER BY AverageDelayPerCarrier DESC\" )\n",
    "\n",
    "averageDelayPerCarrier.show()"
   ]
  },
  {
   "cell_type": "code",
   "execution_count": 9,
   "metadata": {},
   "outputs": [
    {
     "data": {
      "application/vnd.plotly.v1+json": {
       "config": {
        "linkText": "Export to plot.ly",
        "plotlyServerURL": "https://plot.ly",
        "showLink": false
       },
       "data": [
        {
         "name": "EV",
         "type": "bar",
         "x": [
          2016,
          2017,
          2018
         ],
         "y": [
          56.60643408878703,
          54.49749016415683,
          45.038134348244974
         ]
        },
        {
         "name": "9E",
         "type": "bar",
         "x": [
          2016,
          2017,
          2018
         ],
         "y": [
          52.29959991640044
         ]
        },
        {
         "name": "OO",
         "type": "bar",
         "x": [
          2016,
          2017,
          2018
         ],
         "y": [
          49.596884774419706,
          49.00604120365471,
          39.496158502777874
         ]
        },
        {
         "name": "F9",
         "type": "bar",
         "x": [
          2016,
          2017,
          2018
         ],
         "y": [
          47.33786048460303,
          43.09401987941991,
          38.60866406760782
         ]
        },
        {
         "name": "B6",
         "type": "bar",
         "x": [
          2016,
          2017,
          2018
         ],
         "y": [
          45.86273824773883,
          43.72999099548286,
          35.79490556718489
         ]
        },
        {
         "name": "YV",
         "type": "bar",
         "x": [
          2016,
          2017,
          2018
         ],
         "y": [
          43.88718991345109
         ]
        },
        {
         "name": "NK",
         "type": "bar",
         "x": [
          2016,
          2017,
          2018
         ],
         "y": [
          42.209263382238206,
          40.66915626492054,
          37.337342546482176
         ]
        },
        {
         "name": "YX",
         "type": "bar",
         "x": [
          2016,
          2017,
          2018
         ],
         "y": [
          41.46272772954086
         ]
        },
        {
         "name": "UA",
         "type": "bar",
         "x": [
          2016,
          2017,
          2018
         ],
         "y": [
          39.863071110562636,
          35.697285124125,
          30.965913419594255
         ]
        },
        {
         "name": "G4",
         "type": "bar",
         "x": [
          2016,
          2017,
          2018
         ],
         "y": [
          38.84540625521069
         ]
        },
        {
         "name": "VX",
         "type": "bar",
         "x": [
          2016,
          2017,
          2018
         ],
         "y": [
          36.26525064795499,
          31.77971259509721,
          28.11697428139183
         ]
        },
        {
         "name": "OH",
         "type": "bar",
         "x": [
          2016,
          2017,
          2018
         ],
         "y": [
          34.92862912682075
         ]
        },
        {
         "name": "MQ",
         "type": "bar",
         "x": [
          2016,
          2017,
          2018
         ],
         "y": [
          34.695277302275755
         ]
        },
        {
         "name": "AA",
         "type": "bar",
         "x": [
          2016,
          2017,
          2018
         ],
         "y": [
          33.104038099407575,
          32.083106782345574,
          31.191470074234218
         ]
        },
        {
         "name": "DL",
         "type": "bar",
         "x": [
          2016,
          2017,
          2018
         ],
         "y": [
          29.959391775236142,
          27.67449819095246,
          27.463280200008672
         ]
        },
        {
         "name": "AS",
         "type": "bar",
         "x": [
          2016,
          2017,
          2018
         ],
         "y": [
          25.775519848771268,
          25.650165550996906,
          22.391819772528432
         ]
        },
        {
         "name": "WN",
         "type": "bar",
         "x": [
          2016,
          2017,
          2018
         ],
         "y": [
          21.83388636148171,
          21.6551461723405,
          21.199081530924285
         ]
        },
        {
         "name": "HA",
         "type": "bar",
         "x": [
          2016,
          2017,
          2018
         ],
         "y": [
          16.691242768801118,
          15.612729683652207,
          13.662239770279971
         ]
        }
       ],
       "layout": {
        "height": 650,
        "template": {
         "data": {
          "bar": [
           {
            "error_x": {
             "color": "#2a3f5f"
            },
            "error_y": {
             "color": "#2a3f5f"
            },
            "marker": {
             "line": {
              "color": "#E5ECF6",
              "width": 0.5
             }
            },
            "type": "bar"
           }
          ],
          "barpolar": [
           {
            "marker": {
             "line": {
              "color": "#E5ECF6",
              "width": 0.5
             }
            },
            "type": "barpolar"
           }
          ],
          "carpet": [
           {
            "aaxis": {
             "endlinecolor": "#2a3f5f",
             "gridcolor": "white",
             "linecolor": "white",
             "minorgridcolor": "white",
             "startlinecolor": "#2a3f5f"
            },
            "baxis": {
             "endlinecolor": "#2a3f5f",
             "gridcolor": "white",
             "linecolor": "white",
             "minorgridcolor": "white",
             "startlinecolor": "#2a3f5f"
            },
            "type": "carpet"
           }
          ],
          "choropleth": [
           {
            "colorbar": {
             "outlinewidth": 0,
             "ticks": ""
            },
            "type": "choropleth"
           }
          ],
          "contour": [
           {
            "colorbar": {
             "outlinewidth": 0,
             "ticks": ""
            },
            "colorscale": [
             [
              0,
              "#0d0887"
             ],
             [
              0.1111111111111111,
              "#46039f"
             ],
             [
              0.2222222222222222,
              "#7201a8"
             ],
             [
              0.3333333333333333,
              "#9c179e"
             ],
             [
              0.4444444444444444,
              "#bd3786"
             ],
             [
              0.5555555555555556,
              "#d8576b"
             ],
             [
              0.6666666666666666,
              "#ed7953"
             ],
             [
              0.7777777777777778,
              "#fb9f3a"
             ],
             [
              0.8888888888888888,
              "#fdca26"
             ],
             [
              1,
              "#f0f921"
             ]
            ],
            "type": "contour"
           }
          ],
          "contourcarpet": [
           {
            "colorbar": {
             "outlinewidth": 0,
             "ticks": ""
            },
            "type": "contourcarpet"
           }
          ],
          "heatmap": [
           {
            "colorbar": {
             "outlinewidth": 0,
             "ticks": ""
            },
            "colorscale": [
             [
              0,
              "#0d0887"
             ],
             [
              0.1111111111111111,
              "#46039f"
             ],
             [
              0.2222222222222222,
              "#7201a8"
             ],
             [
              0.3333333333333333,
              "#9c179e"
             ],
             [
              0.4444444444444444,
              "#bd3786"
             ],
             [
              0.5555555555555556,
              "#d8576b"
             ],
             [
              0.6666666666666666,
              "#ed7953"
             ],
             [
              0.7777777777777778,
              "#fb9f3a"
             ],
             [
              0.8888888888888888,
              "#fdca26"
             ],
             [
              1,
              "#f0f921"
             ]
            ],
            "type": "heatmap"
           }
          ],
          "heatmapgl": [
           {
            "colorbar": {
             "outlinewidth": 0,
             "ticks": ""
            },
            "colorscale": [
             [
              0,
              "#0d0887"
             ],
             [
              0.1111111111111111,
              "#46039f"
             ],
             [
              0.2222222222222222,
              "#7201a8"
             ],
             [
              0.3333333333333333,
              "#9c179e"
             ],
             [
              0.4444444444444444,
              "#bd3786"
             ],
             [
              0.5555555555555556,
              "#d8576b"
             ],
             [
              0.6666666666666666,
              "#ed7953"
             ],
             [
              0.7777777777777778,
              "#fb9f3a"
             ],
             [
              0.8888888888888888,
              "#fdca26"
             ],
             [
              1,
              "#f0f921"
             ]
            ],
            "type": "heatmapgl"
           }
          ],
          "histogram": [
           {
            "marker": {
             "colorbar": {
              "outlinewidth": 0,
              "ticks": ""
             }
            },
            "type": "histogram"
           }
          ],
          "histogram2d": [
           {
            "colorbar": {
             "outlinewidth": 0,
             "ticks": ""
            },
            "colorscale": [
             [
              0,
              "#0d0887"
             ],
             [
              0.1111111111111111,
              "#46039f"
             ],
             [
              0.2222222222222222,
              "#7201a8"
             ],
             [
              0.3333333333333333,
              "#9c179e"
             ],
             [
              0.4444444444444444,
              "#bd3786"
             ],
             [
              0.5555555555555556,
              "#d8576b"
             ],
             [
              0.6666666666666666,
              "#ed7953"
             ],
             [
              0.7777777777777778,
              "#fb9f3a"
             ],
             [
              0.8888888888888888,
              "#fdca26"
             ],
             [
              1,
              "#f0f921"
             ]
            ],
            "type": "histogram2d"
           }
          ],
          "histogram2dcontour": [
           {
            "colorbar": {
             "outlinewidth": 0,
             "ticks": ""
            },
            "colorscale": [
             [
              0,
              "#0d0887"
             ],
             [
              0.1111111111111111,
              "#46039f"
             ],
             [
              0.2222222222222222,
              "#7201a8"
             ],
             [
              0.3333333333333333,
              "#9c179e"
             ],
             [
              0.4444444444444444,
              "#bd3786"
             ],
             [
              0.5555555555555556,
              "#d8576b"
             ],
             [
              0.6666666666666666,
              "#ed7953"
             ],
             [
              0.7777777777777778,
              "#fb9f3a"
             ],
             [
              0.8888888888888888,
              "#fdca26"
             ],
             [
              1,
              "#f0f921"
             ]
            ],
            "type": "histogram2dcontour"
           }
          ],
          "mesh3d": [
           {
            "colorbar": {
             "outlinewidth": 0,
             "ticks": ""
            },
            "type": "mesh3d"
           }
          ],
          "parcoords": [
           {
            "line": {
             "colorbar": {
              "outlinewidth": 0,
              "ticks": ""
             }
            },
            "type": "parcoords"
           }
          ],
          "pie": [
           {
            "automargin": true,
            "type": "pie"
           }
          ],
          "scatter": [
           {
            "marker": {
             "colorbar": {
              "outlinewidth": 0,
              "ticks": ""
             }
            },
            "type": "scatter"
           }
          ],
          "scatter3d": [
           {
            "line": {
             "colorbar": {
              "outlinewidth": 0,
              "ticks": ""
             }
            },
            "marker": {
             "colorbar": {
              "outlinewidth": 0,
              "ticks": ""
             }
            },
            "type": "scatter3d"
           }
          ],
          "scattercarpet": [
           {
            "marker": {
             "colorbar": {
              "outlinewidth": 0,
              "ticks": ""
             }
            },
            "type": "scattercarpet"
           }
          ],
          "scattergeo": [
           {
            "marker": {
             "colorbar": {
              "outlinewidth": 0,
              "ticks": ""
             }
            },
            "type": "scattergeo"
           }
          ],
          "scattergl": [
           {
            "marker": {
             "colorbar": {
              "outlinewidth": 0,
              "ticks": ""
             }
            },
            "type": "scattergl"
           }
          ],
          "scattermapbox": [
           {
            "marker": {
             "colorbar": {
              "outlinewidth": 0,
              "ticks": ""
             }
            },
            "type": "scattermapbox"
           }
          ],
          "scatterpolar": [
           {
            "marker": {
             "colorbar": {
              "outlinewidth": 0,
              "ticks": ""
             }
            },
            "type": "scatterpolar"
           }
          ],
          "scatterpolargl": [
           {
            "marker": {
             "colorbar": {
              "outlinewidth": 0,
              "ticks": ""
             }
            },
            "type": "scatterpolargl"
           }
          ],
          "scatterternary": [
           {
            "marker": {
             "colorbar": {
              "outlinewidth": 0,
              "ticks": ""
             }
            },
            "type": "scatterternary"
           }
          ],
          "surface": [
           {
            "colorbar": {
             "outlinewidth": 0,
             "ticks": ""
            },
            "colorscale": [
             [
              0,
              "#0d0887"
             ],
             [
              0.1111111111111111,
              "#46039f"
             ],
             [
              0.2222222222222222,
              "#7201a8"
             ],
             [
              0.3333333333333333,
              "#9c179e"
             ],
             [
              0.4444444444444444,
              "#bd3786"
             ],
             [
              0.5555555555555556,
              "#d8576b"
             ],
             [
              0.6666666666666666,
              "#ed7953"
             ],
             [
              0.7777777777777778,
              "#fb9f3a"
             ],
             [
              0.8888888888888888,
              "#fdca26"
             ],
             [
              1,
              "#f0f921"
             ]
            ],
            "type": "surface"
           }
          ],
          "table": [
           {
            "cells": {
             "fill": {
              "color": "#EBF0F8"
             },
             "line": {
              "color": "white"
             }
            },
            "header": {
             "fill": {
              "color": "#C8D4E3"
             },
             "line": {
              "color": "white"
             }
            },
            "type": "table"
           }
          ]
         },
         "layout": {
          "annotationdefaults": {
           "arrowcolor": "#2a3f5f",
           "arrowhead": 0,
           "arrowwidth": 1
          },
          "autotypenumbers": "strict",
          "coloraxis": {
           "colorbar": {
            "outlinewidth": 0,
            "ticks": ""
           }
          },
          "colorscale": {
           "diverging": [
            [
             0,
             "#8e0152"
            ],
            [
             0.1,
             "#c51b7d"
            ],
            [
             0.2,
             "#de77ae"
            ],
            [
             0.3,
             "#f1b6da"
            ],
            [
             0.4,
             "#fde0ef"
            ],
            [
             0.5,
             "#f7f7f7"
            ],
            [
             0.6,
             "#e6f5d0"
            ],
            [
             0.7,
             "#b8e186"
            ],
            [
             0.8,
             "#7fbc41"
            ],
            [
             0.9,
             "#4d9221"
            ],
            [
             1,
             "#276419"
            ]
           ],
           "sequential": [
            [
             0,
             "#0d0887"
            ],
            [
             0.1111111111111111,
             "#46039f"
            ],
            [
             0.2222222222222222,
             "#7201a8"
            ],
            [
             0.3333333333333333,
             "#9c179e"
            ],
            [
             0.4444444444444444,
             "#bd3786"
            ],
            [
             0.5555555555555556,
             "#d8576b"
            ],
            [
             0.6666666666666666,
             "#ed7953"
            ],
            [
             0.7777777777777778,
             "#fb9f3a"
            ],
            [
             0.8888888888888888,
             "#fdca26"
            ],
            [
             1,
             "#f0f921"
            ]
           ],
           "sequentialminus": [
            [
             0,
             "#0d0887"
            ],
            [
             0.1111111111111111,
             "#46039f"
            ],
            [
             0.2222222222222222,
             "#7201a8"
            ],
            [
             0.3333333333333333,
             "#9c179e"
            ],
            [
             0.4444444444444444,
             "#bd3786"
            ],
            [
             0.5555555555555556,
             "#d8576b"
            ],
            [
             0.6666666666666666,
             "#ed7953"
            ],
            [
             0.7777777777777778,
             "#fb9f3a"
            ],
            [
             0.8888888888888888,
             "#fdca26"
            ],
            [
             1,
             "#f0f921"
            ]
           ]
          },
          "colorway": [
           "#636efa",
           "#EF553B",
           "#00cc96",
           "#ab63fa",
           "#FFA15A",
           "#19d3f3",
           "#FF6692",
           "#B6E880",
           "#FF97FF",
           "#FECB52"
          ],
          "font": {
           "color": "#2a3f5f"
          },
          "geo": {
           "bgcolor": "white",
           "lakecolor": "white",
           "landcolor": "#E5ECF6",
           "showlakes": true,
           "showland": true,
           "subunitcolor": "white"
          },
          "hoverlabel": {
           "align": "left"
          },
          "hovermode": "closest",
          "mapbox": {
           "style": "light"
          },
          "paper_bgcolor": "white",
          "plot_bgcolor": "#E5ECF6",
          "polar": {
           "angularaxis": {
            "gridcolor": "white",
            "linecolor": "white",
            "ticks": ""
           },
           "bgcolor": "#E5ECF6",
           "radialaxis": {
            "gridcolor": "white",
            "linecolor": "white",
            "ticks": ""
           }
          },
          "scene": {
           "xaxis": {
            "backgroundcolor": "#E5ECF6",
            "gridcolor": "white",
            "gridwidth": 2,
            "linecolor": "white",
            "showbackground": true,
            "ticks": "",
            "zerolinecolor": "white"
           },
           "yaxis": {
            "backgroundcolor": "#E5ECF6",
            "gridcolor": "white",
            "gridwidth": 2,
            "linecolor": "white",
            "showbackground": true,
            "ticks": "",
            "zerolinecolor": "white"
           },
           "zaxis": {
            "backgroundcolor": "#E5ECF6",
            "gridcolor": "white",
            "gridwidth": 2,
            "linecolor": "white",
            "showbackground": true,
            "ticks": "",
            "zerolinecolor": "white"
           }
          },
          "shapedefaults": {
           "line": {
            "color": "#2a3f5f"
           }
          },
          "ternary": {
           "aaxis": {
            "gridcolor": "white",
            "linecolor": "white",
            "ticks": ""
           },
           "baxis": {
            "gridcolor": "white",
            "linecolor": "white",
            "ticks": ""
           },
           "bgcolor": "#E5ECF6",
           "caxis": {
            "gridcolor": "white",
            "linecolor": "white",
            "ticks": ""
           }
          },
          "title": {
           "x": 0.05
          },
          "xaxis": {
           "automargin": true,
           "gridcolor": "white",
           "linecolor": "white",
           "ticks": "",
           "title": {
            "standoff": 15
           },
           "zerolinecolor": "white",
           "zerolinewidth": 2
          },
          "yaxis": {
           "automargin": true,
           "gridcolor": "white",
           "linecolor": "white",
           "ticks": "",
           "title": {
            "standoff": 15
           },
           "zerolinecolor": "white",
           "zerolinewidth": 2
          }
         }
        },
        "title": {
         "text": "AVERAGE DEPARTURE DELAY PER CARRIER FOR EACH YEAR"
        },
        "width": 900,
        "xaxis": {
         "tickformat": "d",
         "title": {
          "text": "Year"
         },
         "zeroline": false
        },
        "yaxis": {
         "tickformat": "d",
         "title": {
          "text": "Flight Delay (Minutes)"
         }
        }
       }
      }
     },
     "metadata": {},
     "output_type": "display_data"
    }
   ],
   "source": [
    "traces = []\n",
    "changePerCarrierMap = dict()\n",
    "years = []\n",
    "\n",
    "for i in range(len(averageDelayPerCarrier.toPandas()['Year'])):\n",
    "    if not averageDelayPerCarrier.toPandas()['Year'][i] in years:\n",
    "        years.append(averageDelayPerCarrier.toPandas()['Year'][i])\n",
    "\n",
    "years.sort()\n",
    "        \n",
    "for i in range(len(averageDelayPerCarrier.toPandas()['OP_CARRIER'])):\n",
    "    if not averageDelayPerCarrier.toPandas()['OP_CARRIER'][i] in changePerCarrierMap:\n",
    "        changePerCarrierMap[averageDelayPerCarrier.toPandas()['OP_CARRIER'][i]] = []\n",
    "        \n",
    "    changePerCarrierMap[averageDelayPerCarrier.toPandas()['OP_CARRIER'][i]].append(averageDelayPerCarrier.toPandas()['AverageDelayPerCarrier'][i])\n",
    "    \n",
    "for key in changePerCarrierMap:\n",
    "    traces.append(go.Bar(\n",
    "        y = changePerCarrierMap[key],\n",
    "        x = years,\n",
    "        name = key))\n",
    "                  \n",
    "layout = dict(title = 'AVERAGE DEPARTURE DELAY PER CARRIER FOR EACH YEAR',\n",
    "              xaxis= dict(title= 'Year',zeroline= False,tickformat='d'),\n",
    "              yaxis= dict(title= 'Flight Delay (Minutes)',tickformat='d'),\n",
    "              height= 650,\n",
    "              width= 900\n",
    "             )\n",
    "\n",
    "fig = dict(data = traces, layout = layout)\n",
    "\n",
    "pyo.iplot(fig)"
   ]
  },
  {
   "cell_type": "markdown",
   "metadata": {},
   "source": [
    "COMPANY WITH THE LARGEST AVERAGE DELAY"
   ]
  },
  {
   "cell_type": "code",
   "execution_count": 10,
   "metadata": {},
   "outputs": [
    {
     "name": "stdout",
     "output_type": "stream",
     "text": [
      "+----------+----------------------+\n",
      "|OP_CARRIER|AverageDelayPerCarrier|\n",
      "+----------+----------------------+\n",
      "|        9E|     52.29959991640044|\n",
      "+----------+----------------------+\n",
      "\n"
     ]
    }
   ],
   "source": [
    "companyWithLargetstAverageDelayForALLYears = spark.sql(\"SELECT OP_CARRIER, AVG(IF(DEP_DELAY >= 0 , DEP_DELAY, NULL)) AS AverageDelayPerCarrier FROM airlinedelay GROUP BY OP_CARRIER ORDER BY AverageDelayPerCarrier DESC LIMIT 1\")\n",
    "\n",
    "companyWithLargetstAverageDelayForALLYears.show()"
   ]
  },
  {
   "cell_type": "code",
   "execution_count": 11,
   "metadata": {},
   "outputs": [
    {
     "data": {
      "application/vnd.plotly.v1+json": {
       "config": {
        "linkText": "Export to plot.ly",
        "plotlyServerURL": "https://plot.ly",
        "showLink": false
       },
       "data": [
        {
         "text": [
          "9E"
         ],
         "type": "pie",
         "values": [
          52.29959991640044
         ]
        }
       ],
       "layout": {
        "height": 600,
        "template": {
         "data": {
          "bar": [
           {
            "error_x": {
             "color": "#2a3f5f"
            },
            "error_y": {
             "color": "#2a3f5f"
            },
            "marker": {
             "line": {
              "color": "#E5ECF6",
              "width": 0.5
             }
            },
            "type": "bar"
           }
          ],
          "barpolar": [
           {
            "marker": {
             "line": {
              "color": "#E5ECF6",
              "width": 0.5
             }
            },
            "type": "barpolar"
           }
          ],
          "carpet": [
           {
            "aaxis": {
             "endlinecolor": "#2a3f5f",
             "gridcolor": "white",
             "linecolor": "white",
             "minorgridcolor": "white",
             "startlinecolor": "#2a3f5f"
            },
            "baxis": {
             "endlinecolor": "#2a3f5f",
             "gridcolor": "white",
             "linecolor": "white",
             "minorgridcolor": "white",
             "startlinecolor": "#2a3f5f"
            },
            "type": "carpet"
           }
          ],
          "choropleth": [
           {
            "colorbar": {
             "outlinewidth": 0,
             "ticks": ""
            },
            "type": "choropleth"
           }
          ],
          "contour": [
           {
            "colorbar": {
             "outlinewidth": 0,
             "ticks": ""
            },
            "colorscale": [
             [
              0,
              "#0d0887"
             ],
             [
              0.1111111111111111,
              "#46039f"
             ],
             [
              0.2222222222222222,
              "#7201a8"
             ],
             [
              0.3333333333333333,
              "#9c179e"
             ],
             [
              0.4444444444444444,
              "#bd3786"
             ],
             [
              0.5555555555555556,
              "#d8576b"
             ],
             [
              0.6666666666666666,
              "#ed7953"
             ],
             [
              0.7777777777777778,
              "#fb9f3a"
             ],
             [
              0.8888888888888888,
              "#fdca26"
             ],
             [
              1,
              "#f0f921"
             ]
            ],
            "type": "contour"
           }
          ],
          "contourcarpet": [
           {
            "colorbar": {
             "outlinewidth": 0,
             "ticks": ""
            },
            "type": "contourcarpet"
           }
          ],
          "heatmap": [
           {
            "colorbar": {
             "outlinewidth": 0,
             "ticks": ""
            },
            "colorscale": [
             [
              0,
              "#0d0887"
             ],
             [
              0.1111111111111111,
              "#46039f"
             ],
             [
              0.2222222222222222,
              "#7201a8"
             ],
             [
              0.3333333333333333,
              "#9c179e"
             ],
             [
              0.4444444444444444,
              "#bd3786"
             ],
             [
              0.5555555555555556,
              "#d8576b"
             ],
             [
              0.6666666666666666,
              "#ed7953"
             ],
             [
              0.7777777777777778,
              "#fb9f3a"
             ],
             [
              0.8888888888888888,
              "#fdca26"
             ],
             [
              1,
              "#f0f921"
             ]
            ],
            "type": "heatmap"
           }
          ],
          "heatmapgl": [
           {
            "colorbar": {
             "outlinewidth": 0,
             "ticks": ""
            },
            "colorscale": [
             [
              0,
              "#0d0887"
             ],
             [
              0.1111111111111111,
              "#46039f"
             ],
             [
              0.2222222222222222,
              "#7201a8"
             ],
             [
              0.3333333333333333,
              "#9c179e"
             ],
             [
              0.4444444444444444,
              "#bd3786"
             ],
             [
              0.5555555555555556,
              "#d8576b"
             ],
             [
              0.6666666666666666,
              "#ed7953"
             ],
             [
              0.7777777777777778,
              "#fb9f3a"
             ],
             [
              0.8888888888888888,
              "#fdca26"
             ],
             [
              1,
              "#f0f921"
             ]
            ],
            "type": "heatmapgl"
           }
          ],
          "histogram": [
           {
            "marker": {
             "colorbar": {
              "outlinewidth": 0,
              "ticks": ""
             }
            },
            "type": "histogram"
           }
          ],
          "histogram2d": [
           {
            "colorbar": {
             "outlinewidth": 0,
             "ticks": ""
            },
            "colorscale": [
             [
              0,
              "#0d0887"
             ],
             [
              0.1111111111111111,
              "#46039f"
             ],
             [
              0.2222222222222222,
              "#7201a8"
             ],
             [
              0.3333333333333333,
              "#9c179e"
             ],
             [
              0.4444444444444444,
              "#bd3786"
             ],
             [
              0.5555555555555556,
              "#d8576b"
             ],
             [
              0.6666666666666666,
              "#ed7953"
             ],
             [
              0.7777777777777778,
              "#fb9f3a"
             ],
             [
              0.8888888888888888,
              "#fdca26"
             ],
             [
              1,
              "#f0f921"
             ]
            ],
            "type": "histogram2d"
           }
          ],
          "histogram2dcontour": [
           {
            "colorbar": {
             "outlinewidth": 0,
             "ticks": ""
            },
            "colorscale": [
             [
              0,
              "#0d0887"
             ],
             [
              0.1111111111111111,
              "#46039f"
             ],
             [
              0.2222222222222222,
              "#7201a8"
             ],
             [
              0.3333333333333333,
              "#9c179e"
             ],
             [
              0.4444444444444444,
              "#bd3786"
             ],
             [
              0.5555555555555556,
              "#d8576b"
             ],
             [
              0.6666666666666666,
              "#ed7953"
             ],
             [
              0.7777777777777778,
              "#fb9f3a"
             ],
             [
              0.8888888888888888,
              "#fdca26"
             ],
             [
              1,
              "#f0f921"
             ]
            ],
            "type": "histogram2dcontour"
           }
          ],
          "mesh3d": [
           {
            "colorbar": {
             "outlinewidth": 0,
             "ticks": ""
            },
            "type": "mesh3d"
           }
          ],
          "parcoords": [
           {
            "line": {
             "colorbar": {
              "outlinewidth": 0,
              "ticks": ""
             }
            },
            "type": "parcoords"
           }
          ],
          "pie": [
           {
            "automargin": true,
            "type": "pie"
           }
          ],
          "scatter": [
           {
            "marker": {
             "colorbar": {
              "outlinewidth": 0,
              "ticks": ""
             }
            },
            "type": "scatter"
           }
          ],
          "scatter3d": [
           {
            "line": {
             "colorbar": {
              "outlinewidth": 0,
              "ticks": ""
             }
            },
            "marker": {
             "colorbar": {
              "outlinewidth": 0,
              "ticks": ""
             }
            },
            "type": "scatter3d"
           }
          ],
          "scattercarpet": [
           {
            "marker": {
             "colorbar": {
              "outlinewidth": 0,
              "ticks": ""
             }
            },
            "type": "scattercarpet"
           }
          ],
          "scattergeo": [
           {
            "marker": {
             "colorbar": {
              "outlinewidth": 0,
              "ticks": ""
             }
            },
            "type": "scattergeo"
           }
          ],
          "scattergl": [
           {
            "marker": {
             "colorbar": {
              "outlinewidth": 0,
              "ticks": ""
             }
            },
            "type": "scattergl"
           }
          ],
          "scattermapbox": [
           {
            "marker": {
             "colorbar": {
              "outlinewidth": 0,
              "ticks": ""
             }
            },
            "type": "scattermapbox"
           }
          ],
          "scatterpolar": [
           {
            "marker": {
             "colorbar": {
              "outlinewidth": 0,
              "ticks": ""
             }
            },
            "type": "scatterpolar"
           }
          ],
          "scatterpolargl": [
           {
            "marker": {
             "colorbar": {
              "outlinewidth": 0,
              "ticks": ""
             }
            },
            "type": "scatterpolargl"
           }
          ],
          "scatterternary": [
           {
            "marker": {
             "colorbar": {
              "outlinewidth": 0,
              "ticks": ""
             }
            },
            "type": "scatterternary"
           }
          ],
          "surface": [
           {
            "colorbar": {
             "outlinewidth": 0,
             "ticks": ""
            },
            "colorscale": [
             [
              0,
              "#0d0887"
             ],
             [
              0.1111111111111111,
              "#46039f"
             ],
             [
              0.2222222222222222,
              "#7201a8"
             ],
             [
              0.3333333333333333,
              "#9c179e"
             ],
             [
              0.4444444444444444,
              "#bd3786"
             ],
             [
              0.5555555555555556,
              "#d8576b"
             ],
             [
              0.6666666666666666,
              "#ed7953"
             ],
             [
              0.7777777777777778,
              "#fb9f3a"
             ],
             [
              0.8888888888888888,
              "#fdca26"
             ],
             [
              1,
              "#f0f921"
             ]
            ],
            "type": "surface"
           }
          ],
          "table": [
           {
            "cells": {
             "fill": {
              "color": "#EBF0F8"
             },
             "line": {
              "color": "white"
             }
            },
            "header": {
             "fill": {
              "color": "#C8D4E3"
             },
             "line": {
              "color": "white"
             }
            },
            "type": "table"
           }
          ]
         },
         "layout": {
          "annotationdefaults": {
           "arrowcolor": "#2a3f5f",
           "arrowhead": 0,
           "arrowwidth": 1
          },
          "autotypenumbers": "strict",
          "coloraxis": {
           "colorbar": {
            "outlinewidth": 0,
            "ticks": ""
           }
          },
          "colorscale": {
           "diverging": [
            [
             0,
             "#8e0152"
            ],
            [
             0.1,
             "#c51b7d"
            ],
            [
             0.2,
             "#de77ae"
            ],
            [
             0.3,
             "#f1b6da"
            ],
            [
             0.4,
             "#fde0ef"
            ],
            [
             0.5,
             "#f7f7f7"
            ],
            [
             0.6,
             "#e6f5d0"
            ],
            [
             0.7,
             "#b8e186"
            ],
            [
             0.8,
             "#7fbc41"
            ],
            [
             0.9,
             "#4d9221"
            ],
            [
             1,
             "#276419"
            ]
           ],
           "sequential": [
            [
             0,
             "#0d0887"
            ],
            [
             0.1111111111111111,
             "#46039f"
            ],
            [
             0.2222222222222222,
             "#7201a8"
            ],
            [
             0.3333333333333333,
             "#9c179e"
            ],
            [
             0.4444444444444444,
             "#bd3786"
            ],
            [
             0.5555555555555556,
             "#d8576b"
            ],
            [
             0.6666666666666666,
             "#ed7953"
            ],
            [
             0.7777777777777778,
             "#fb9f3a"
            ],
            [
             0.8888888888888888,
             "#fdca26"
            ],
            [
             1,
             "#f0f921"
            ]
           ],
           "sequentialminus": [
            [
             0,
             "#0d0887"
            ],
            [
             0.1111111111111111,
             "#46039f"
            ],
            [
             0.2222222222222222,
             "#7201a8"
            ],
            [
             0.3333333333333333,
             "#9c179e"
            ],
            [
             0.4444444444444444,
             "#bd3786"
            ],
            [
             0.5555555555555556,
             "#d8576b"
            ],
            [
             0.6666666666666666,
             "#ed7953"
            ],
            [
             0.7777777777777778,
             "#fb9f3a"
            ],
            [
             0.8888888888888888,
             "#fdca26"
            ],
            [
             1,
             "#f0f921"
            ]
           ]
          },
          "colorway": [
           "#636efa",
           "#EF553B",
           "#00cc96",
           "#ab63fa",
           "#FFA15A",
           "#19d3f3",
           "#FF6692",
           "#B6E880",
           "#FF97FF",
           "#FECB52"
          ],
          "font": {
           "color": "#2a3f5f"
          },
          "geo": {
           "bgcolor": "white",
           "lakecolor": "white",
           "landcolor": "#E5ECF6",
           "showlakes": true,
           "showland": true,
           "subunitcolor": "white"
          },
          "hoverlabel": {
           "align": "left"
          },
          "hovermode": "closest",
          "mapbox": {
           "style": "light"
          },
          "paper_bgcolor": "white",
          "plot_bgcolor": "#E5ECF6",
          "polar": {
           "angularaxis": {
            "gridcolor": "white",
            "linecolor": "white",
            "ticks": ""
           },
           "bgcolor": "#E5ECF6",
           "radialaxis": {
            "gridcolor": "white",
            "linecolor": "white",
            "ticks": ""
           }
          },
          "scene": {
           "xaxis": {
            "backgroundcolor": "#E5ECF6",
            "gridcolor": "white",
            "gridwidth": 2,
            "linecolor": "white",
            "showbackground": true,
            "ticks": "",
            "zerolinecolor": "white"
           },
           "yaxis": {
            "backgroundcolor": "#E5ECF6",
            "gridcolor": "white",
            "gridwidth": 2,
            "linecolor": "white",
            "showbackground": true,
            "ticks": "",
            "zerolinecolor": "white"
           },
           "zaxis": {
            "backgroundcolor": "#E5ECF6",
            "gridcolor": "white",
            "gridwidth": 2,
            "linecolor": "white",
            "showbackground": true,
            "ticks": "",
            "zerolinecolor": "white"
           }
          },
          "shapedefaults": {
           "line": {
            "color": "#2a3f5f"
           }
          },
          "ternary": {
           "aaxis": {
            "gridcolor": "white",
            "linecolor": "white",
            "ticks": ""
           },
           "baxis": {
            "gridcolor": "white",
            "linecolor": "white",
            "ticks": ""
           },
           "bgcolor": "#E5ECF6",
           "caxis": {
            "gridcolor": "white",
            "linecolor": "white",
            "ticks": ""
           }
          },
          "title": {
           "x": 0.05
          },
          "xaxis": {
           "automargin": true,
           "gridcolor": "white",
           "linecolor": "white",
           "ticks": "",
           "title": {
            "standoff": 15
           },
           "zerolinecolor": "white",
           "zerolinewidth": 2
          },
          "yaxis": {
           "automargin": true,
           "gridcolor": "white",
           "linecolor": "white",
           "ticks": "",
           "title": {
            "standoff": 15
           },
           "zerolinecolor": "white",
           "zerolinewidth": 2
          }
         }
        },
        "title": {
         "text": "Evolution Of Average Delay Year-over-Year"
        },
        "width": 900,
        "xaxis": {
         "tickformat": "d",
         "ticklen": 5,
         "title": {
          "text": "Years"
         },
         "zeroline": false
        },
        "yaxis": {
         "title": {
          "text": "Average Delay (Minutes)"
         }
        }
       }
      }
     },
     "metadata": {},
     "output_type": "display_data"
    }
   ],
   "source": [
    "averageDepartureDelayPerYearTrace = go.Pie(\n",
    "    values = companyWithLargetstAverageDelayForALLYears.toPandas()['AverageDelayPerCarrier'],\n",
    "    text = companyWithLargetstAverageDelayForALLYears.toPandas()['OP_CARRIER'])\n",
    "\n",
    "\n",
    "data = [averageDepartureDelayPerYearTrace]\n",
    "\n",
    "layout = dict(title = 'Evolution Of Average Delay Year-over-Year',\n",
    "              xaxis= dict(title= 'Years',ticklen= 5,zeroline= False,tickformat='d'),\n",
    "              yaxis= dict(title= 'Average Delay (Minutes)'),\n",
    "              height= 600,\n",
    "              width= 900\n",
    "             )\n",
    "fig = dict(data = data, layout = layout)\n",
    "\n",
    "pyo.iplot(fig)"
   ]
  },
  {
   "attachments": {},
   "cell_type": "markdown",
   "metadata": {},
   "source": [
    "AVERAGE DEPARTURE DELAY PER DEPARTURE LOCATION IN ALL YEARS"
   ]
  },
  {
   "cell_type": "code",
   "execution_count": 35,
   "metadata": {},
   "outputs": [
    {
     "name": "stdout",
     "output_type": "stream",
     "text": [
      "+------+---------------------+\n",
      "|ORIGIN|AverageDelayPerOrigin|\n",
      "+------+---------------------+\n",
      "|   ENV|                157.0|\n",
      "|   PPG|              121.875|\n",
      "|   SLN|    88.72018348623853|\n",
      "|   LWB|    87.99009900990099|\n",
      "|   SHD|    82.14367816091954|\n",
      "|   CMX|    75.48494983277592|\n",
      "|   MQT|    74.36679536679537|\n",
      "|   LBL|    74.19811320754717|\n",
      "|   MEI|     73.9291553133515|\n",
      "|   PUB|    72.18181818181819|\n",
      "|   DVL|    71.73023255813953|\n",
      "|   RDD|    68.96987253765933|\n",
      "|   EGE|     68.9584552369807|\n",
      "|   BGM|     68.3667711598746|\n",
      "|   MBS|    68.17650834403081|\n",
      "|   CKB|    67.97377049180328|\n",
      "|   LCH|    67.80292942743009|\n",
      "|   RHI|    67.14951456310679|\n",
      "|   OTH|    66.96222222222222|\n",
      "|   PIB|    66.46075085324232|\n",
      "|   CGI|    66.34939759036145|\n",
      "|   ITH|    66.28314917127072|\n",
      "|   SAF|     65.7936210131332|\n",
      "|   ISN|    65.73929471032746|\n",
      "|   JMS|    64.92836257309942|\n",
      "|   LRD|    64.62005856515373|\n",
      "|   SCE|    64.50854700854701|\n",
      "|   UIN|    64.31189710610933|\n",
      "|   CLL|    64.19959473150962|\n",
      "|   MHK|    63.99396681749623|\n",
      "|   BRO|   63.809034907597535|\n",
      "|   DLH|    63.22632674297606|\n",
      "|   HYS|   63.138728323699425|\n",
      "|   YNG|                 63.0|\n",
      "|   AZO|    62.64597544338336|\n",
      "|   ASE|    62.07561156412157|\n",
      "|   PLN|    61.56993006993007|\n",
      "|   PAH|    61.22709163346614|\n",
      "|   MMH|    60.29054054054054|\n",
      "|   HVN|   60.048327137546465|\n",
      "|   MLU|    59.53842482100239|\n",
      "|   FSM|    59.50939457202505|\n",
      "|   EAU|    59.21383647798742|\n",
      "|   BTM|   59.199413489736074|\n",
      "|   ERI|   59.149377593360995|\n",
      "|   BGR|    59.03768996960486|\n",
      "|   RDM|    58.70456092579986|\n",
      "|   SBA|   58.678375634517764|\n",
      "|   ACK|    58.26502463054187|\n",
      "|   RST|   58.193660227835565|\n",
      "+------+---------------------+\n",
      "only showing top 50 rows\n",
      "\n"
     ]
    }
   ],
   "source": [
    "averageDelayPerDepartureLocationInAllYears = spark.sql(\"SELECT ORIGIN, AVG(IF(DEP_DELAY >= 0 , DEP_DELAY, NULL)) AS AverageDelayPerOrigin FROM airlinedelay  \\\n",
    "GROUP BY ORIGIN ORDER BY AverageDelayPerOrigin DESC\")\n",
    "\n",
    "averageDelayPerDepartureLocationInAllYears.show(50);"
   ]
  },
  {
   "cell_type": "code",
   "execution_count": 42,
   "metadata": {},
   "outputs": [
    {
     "data": {
      "application/vnd.plotly.v1+json": {
       "config": {
        "linkText": "Export to plot.ly",
        "plotlyServerURL": "https://plot.ly",
        "showLink": false
       },
       "data": [
        {
         "text": [
          "ENV",
          "PPG",
          "SLN",
          "LWB",
          "SHD",
          "CMX",
          "MQT",
          "LBL",
          "MEI",
          "PUB",
          "DVL",
          "RDD",
          "EGE",
          "BGM",
          "MBS",
          "CKB",
          "LCH",
          "RHI",
          "OTH",
          "PIB",
          "CGI",
          "ITH",
          "SAF",
          "ISN",
          "JMS",
          "LRD",
          "SCE",
          "UIN",
          "CLL",
          "MHK",
          "BRO",
          "DLH",
          "HYS",
          "YNG",
          "AZO",
          "ASE",
          "PLN",
          "PAH",
          "MMH",
          "HVN",
          "MLU",
          "FSM",
          "EAU",
          "BTM",
          "ERI",
          "BGR",
          "RDM",
          "SBA",
          "ACK",
          "RST",
          "MOT",
          "GCC",
          "MKG",
          "UST",
          "HDN",
          "GCK",
          "AEX",
          "GUC",
          "BFF",
          "VEL",
          "BIS",
          "BTR",
          "SBP",
          "LAW",
          "MFE",
          "LAR",
          "CWA",
          "MRY",
          "CIU",
          "ACV",
          "TRI",
          "DHN",
          "FWA",
          "SUN",
          "ABY",
          "INL",
          "PIA",
          "GFK",
          "SWF",
          "HIB",
          "CHO",
          "ESC",
          "EVV",
          "MTJ",
          "LBF",
          "SPI",
          "OWB",
          "JLN",
          "ROW",
          "COU",
          "SMX",
          "BMI",
          "STS",
          "ELM",
          "XNA",
          "RKS",
          "ORH",
          "GTR",
          "CPR",
          "LAN",
          "AVL",
          "HHH",
          "BFL",
          "TTN",
          "PGV",
          "LNK",
          "AVP",
          "LSE",
          "BTV",
          "HOB",
          "JAC",
          "COS",
          "PSC",
          "CHA",
          "GRB",
          "CAK",
          "IMT",
          "TVC",
          "FAT",
          "TXK",
          "GTF",
          "LWS",
          "LBE",
          "STC",
          "MLI",
          "BPT",
          "TYS",
          "APN",
          "BQK",
          "LYH",
          "SYR",
          "LEX",
          "FSD",
          "EAR",
          "MGM",
          "SBN",
          "LFT",
          "EUG",
          "LCK",
          "PWM",
          "FAR",
          "GRK",
          "DRO",
          "MSN",
          "PSM",
          "MOB",
          "OAJ",
          "EWN",
          "CRW",
          "COD",
          "MFR",
          "SHV",
          "PSP",
          "ATW",
          "SJT",
          "USA",
          "GSO",
          "MYR",
          "VLD",
          "ABE",
          "FCA",
          "HPN",
          "DAY",
          "BKG",
          "BRD",
          "MVY",
          "PVU",
          "AGS",
          "GNV",
          "TKI",
          "ACY",
          "SPS",
          "RAP",
          "CNY",
          "BIL",
          "SWO",
          "PIE",
          "CAE",
          "HLN",
          "BLV",
          "ALO",
          "CSG",
          "PRC",
          "CID",
          "GPT",
          "EKO",
          "EYW",
          "RFD",
          "GRI",
          "STT",
          "ICT",
          "PBG",
          "ILM",
          "LGA",
          "RIC",
          "TOL",
          "GJT",
          "BJI",
          "MDT",
          "CMI",
          "PSE",
          "BZN",
          "EWR",
          "ART",
          "JAN",
          "FNT",
          "FAY",
          "ACT",
          "ROC",
          "GSP",
          "IDA",
          "OGS",
          "HSV",
          "HGR",
          "SAV",
          "IAG",
          "ROA",
          "ORF",
          "GRR",
          "PHF",
          "DSM",
          "PBI",
          "SGF",
          "SRQ",
          "IAD",
          "ABR",
          "JFK",
          "CHS",
          "SIT",
          "HYA",
          "PGD",
          "TWF",
          "MSO",
          "BQN",
          "GGG",
          "CVG",
          "STX",
          "TYR",
          "ABI",
          "DBQ",
          "DAB",
          "CYS",
          "RSW",
          "VPS",
          "JAX",
          "CLE",
          "ORD",
          "BUF",
          "CRP",
          "BLI",
          "TLH",
          "DRT",
          "PNS",
          "WRG",
          "BOI",
          "MIA",
          "SDF",
          "SFO",
          "DTW",
          "ECP",
          "SUX",
          "LBB",
          "MAF",
          "MLB",
          "DCA",
          "SPN",
          "BOS",
          "BHM",
          "FLL",
          "SJU",
          "HTS",
          "DFW",
          "PIH",
          "SCK",
          "MEM",
          "FLG",
          "LGB",
          "PHL",
          "MCO",
          "OMA",
          "IAH",
          "AMA",
          "PSG",
          "RDU",
          "TUS",
          "CMH",
          "MHT",
          "MKE",
          "SCC",
          "FAI",
          "IND",
          "OKC",
          "MSP",
          "TUL",
          "YUM",
          "SFB",
          "PIT",
          "TPA",
          "HRL",
          "YAK",
          "LIT",
          "ALB",
          "KTN",
          "ISP",
          "JNU",
          "BDL",
          "PVD",
          "FLO",
          "MSY",
          "ELP",
          "LAX",
          "IFP",
          "OGD",
          "CLT",
          "RNO",
          "CDV",
          "DEN",
          "BNA",
          "SGU",
          "SAT",
          "GEG",
          "AUS",
          "BRW",
          "ADQ",
          "SLC",
          "MCI",
          "ATL",
          "LAS",
          "GUM",
          "ABQ",
          "CDC",
          "SAN",
          "ONT",
          "ADK",
          "BUR",
          "BWI",
          "ANC",
          "PDX",
          "STL",
          "AZA",
          "GST",
          "SEA",
          "PHX",
          "SNA",
          "LIH",
          "SJC",
          "SMF",
          "KOA",
          "OTZ",
          "MDW",
          "DAL",
          "HOU",
          "BET",
          "OGG",
          "WYS",
          "OME",
          "OAK",
          "DLG",
          "HNL",
          "AKN",
          "ITO",
          "EFD"
         ],
         "type": "pie",
         "values": [
          157,
          121.875,
          88.72018348623853,
          87.99009900990099,
          82.14367816091954,
          75.48494983277592,
          74.36679536679537,
          74.19811320754717,
          73.9291553133515,
          72.18181818181819,
          71.73023255813953,
          68.96987253765933,
          68.9584552369807,
          68.3667711598746,
          68.17650834403081,
          67.97377049180328,
          67.80292942743009,
          67.14951456310679,
          66.96222222222222,
          66.46075085324232,
          66.34939759036145,
          66.28314917127072,
          65.7936210131332,
          65.73929471032746,
          64.92836257309942,
          64.62005856515373,
          64.50854700854701,
          64.31189710610933,
          64.19959473150962,
          63.99396681749623,
          63.809034907597535,
          63.22632674297606,
          63.138728323699425,
          63,
          62.64597544338336,
          62.07561156412157,
          61.56993006993007,
          61.22709163346614,
          60.29054054054054,
          60.048327137546465,
          59.53842482100239,
          59.50939457202505,
          59.21383647798742,
          59.199413489736074,
          59.149377593360995,
          59.03768996960486,
          58.70456092579986,
          58.678375634517764,
          58.26502463054187,
          58.193660227835565,
          58.11572052401747,
          58.019646365422396,
          57.96993987975952,
          57.96825396825397,
          57.67873831775701,
          57.57681940700809,
          57.549676025917925,
          57.19597989949749,
          56.922222222222224,
          56.903225806451616,
          56.82034073309241,
          56.77821201758671,
          56.53770491803279,
          56.4052812858783,
          56.35030645921735,
          56.16985645933014,
          55.92151431209603,
          55.70119194410193,
          55.412403100775194,
          55.324907063197024,
          55.28314844162705,
          55.13125,
          55.047091970215334,
          55.02978235967927,
          54.86883116883117,
          54.84722222222222,
          54.829874213836476,
          54.82086406743941,
          54.787207093096896,
          54.7314629258517,
          54.08203799654577,
          53.978003384094755,
          53.926936973103174,
          53.73189189189189,
          53.69642857142857,
          53.650950570342204,
          53.564516129032256,
          53.35427135678392,
          53.23034734917733,
          53.16399506781751,
          53,
          52.89502762430939,
          52.67109634551495,
          52.66947723440135,
          52.58109950022717,
          52.49438202247191,
          52.443496801705756,
          52.43211678832117,
          52.39737991266376,
          52.389271653543304,
          52.19906466043107,
          52.18888888888889,
          52.178617992177315,
          52.153614457831324,
          51.925925925925924,
          51.86870401810979,
          51.79419256240448,
          51.70176916596461,
          51.58837638376384,
          51.359756097560975,
          50.9898013955985,
          50.945202143205066,
          50.941301573798384,
          50.85696692470091,
          50.77056124249912,
          50.70446735395189,
          50.65261382799326,
          50.60658520027155,
          50.22021384928717,
          50.03697183098591,
          49.94578313253012,
          49.818897637795274,
          49.68093385214008,
          49.6551724137931,
          49.62755102040816,
          49.62264150943396,
          49.576685045572184,
          49.52840909090909,
          49.48623853211009,
          49.43872549019608,
          49.424059949150276,
          49.33250166333999,
          49.170111287758345,
          49,
          48.85382916053019,
          48.819774949271356,
          48.8,
          48.74503941288393,
          48.57627118644068,
          48.36602038279891,
          48.213733650416174,
          47.76890756302521,
          47.742525930445396,
          47.65424836601307,
          47.5632183908046,
          47.50516454479942,
          47.432563791008505,
          47.33262486716259,
          47.08213486736977,
          46.98205546492659,
          46.880653266331656,
          46.69369187221998,
          46.6569844789357,
          46.59880952380952,
          46.5769669327252,
          46.36784140969163,
          46.30834454912517,
          46.13599337291178,
          46.10511756569848,
          46.02283907238229,
          45.91620111731844,
          45.78789519272412,
          45.634463771743214,
          45.60606060606061,
          45.45295404814004,
          45.338078291814945,
          45.210762331838566,
          45.114443084455324,
          45.07772406098921,
          45,
          44.91511318242343,
          44.87388987566607,
          44.80550774526678,
          44.79,
          44.53925417075564,
          44.49367088607595,
          44.4331355545413,
          44.37744186046512,
          44.259756097560974,
          44.153982300884955,
          44.146005509641874,
          43.98067632850242,
          43.822784810126585,
          43.713944359105646,
          43.690268987341774,
          43.620588235294115,
          43.52263023057216,
          43.509803921568626,
          43.154093097913325,
          43.15140551071528,
          43.143488468443586,
          43.09318497913769,
          43.05989750160154,
          42.98213798242572,
          42.952296100193465,
          42.90100250626566,
          42.88768606224628,
          42.650582362728784,
          42.50761014686248,
          42.46422893481717,
          42.259602649006624,
          42.1887104393009,
          41.869603756254534,
          41.857142857142854,
          41.83005733005733,
          41.768512944009636,
          41.5977537437604,
          41.54860335195531,
          41.53472448646886,
          41.527557243125074,
          41.352121595946805,
          41.24561403508772,
          41.20905678085406,
          41.197916666666664,
          41.14803149606299,
          41.02013422818792,
          40.88666666666666,
          40.87363228132313,
          40.68617206548241,
          40.566584463625155,
          40.48981960122376,
          40.33002946691669,
          40.30669224211424,
          39.98624067164179,
          39.854414644342256,
          39.83308494783905,
          39.80586006172599,
          39.25069428373062,
          39.203870967741935,
          39.04651162790697,
          38.99244213509684,
          38.83530961791831,
          38.79602200592467,
          38.52877831414779,
          38.528645833333336,
          38.43227706610837,
          38.139754485363554,
          38.109689213893965,
          38.09795918367347,
          37.89655172413793,
          37.78260869565217,
          37.705882352941174,
          37.47059005922297,
          37.389173060528556,
          37.37766852688458,
          37.334082952135134,
          37.08597283716931,
          36.94519441011503,
          36.62267904509284,
          36.41619797525309,
          35.9490245437382,
          35.94444444444444,
          35.85115697310819,
          35.648106904231625,
          35.613824820569995,
          35.57072354211663,
          35.560217809096734,
          35.54845116253704,
          35.50405179149459,
          35.487127371273715,
          35.46642468239565,
          35.43368557256847,
          35.43068903730249,
          35.28385772913817,
          35.26465904880174,
          35.215053763440864,
          35.18274933617887,
          34.70184678522572,
          34.5689921316345,
          34.47296325356349,
          34.39685658153242,
          34.3255846631778,
          34.31965811965812,
          34.26086956521739,
          34.18742463393626,
          34.152737752161386,
          34.06529766146272,
          33.969505429182846,
          33.86103320471459,
          33.78263311041911,
          33.671828663332406,
          33.499686912961806,
          33.26027397260274,
          33.13563376708108,
          33.04489154733853,
          32.96714999097527,
          32.878681519914544,
          32.84980201311852,
          32.76349614395887,
          32.60664682539682,
          32.30356463620062,
          31.765868769360743,
          31.711643855690046,
          31.54794912105188,
          31.281620553359684,
          31.266604521090656,
          31.216794390034618,
          31.16835048295355,
          31.091202062520143,
          30.70843989769821,
          30.689250131095964,
          30.36481970096746,
          30.347130242825607,
          30.314585178624153,
          30.134709931170107,
          30.101349981757004,
          29.744086021505375,
          29.476744186046513,
          29.392064670461107,
          29.2455773254708,
          29.025146635670236,
          28.958620689655174,
          28.820224719101123,
          28.724560697518445,
          28.571163769350232,
          28.508583690987123,
          28.294850890954805,
          28.069965017491253,
          27.987964416535846,
          27.881389615616825,
          27.867404387497572,
          27.61571623385193,
          27.59753593429158,
          27.5025,
          27.427317968700784,
          27.270240454732434,
          26.88856461920437,
          26.74645940649878,
          26.68860353130016,
          26.407510538732257,
          26.06743737957611,
          25.97178728693524,
          25.94846279518788,
          25.885496183206108,
          25.871163939487495,
          25.48153932742367,
          25.47995332166375,
          25.17905834468196,
          25.082516301543368,
          24.811498973305955,
          24.714285714285715,
          24.46364585640604,
          24.42977790017345,
          24.226837981101635,
          23.82089266940648,
          23.763160834250883,
          23.309157046246327,
          23.062030237580995,
          22.746376811594203,
          22.410957087833044,
          22.254393932150997,
          21.716172204710393,
          21.561643835616437,
          21.478767930431957,
          21.22,
          20.522935779816514,
          20.42083490506727,
          19.55263157894737,
          19.017622037674702,
          17.015873015873016,
          14.179847685998828,
          7
         ]
        }
       ],
       "layout": {
        "height": 600,
        "template": {
         "data": {
          "bar": [
           {
            "error_x": {
             "color": "#2a3f5f"
            },
            "error_y": {
             "color": "#2a3f5f"
            },
            "marker": {
             "line": {
              "color": "#E5ECF6",
              "width": 0.5
             }
            },
            "type": "bar"
           }
          ],
          "barpolar": [
           {
            "marker": {
             "line": {
              "color": "#E5ECF6",
              "width": 0.5
             }
            },
            "type": "barpolar"
           }
          ],
          "carpet": [
           {
            "aaxis": {
             "endlinecolor": "#2a3f5f",
             "gridcolor": "white",
             "linecolor": "white",
             "minorgridcolor": "white",
             "startlinecolor": "#2a3f5f"
            },
            "baxis": {
             "endlinecolor": "#2a3f5f",
             "gridcolor": "white",
             "linecolor": "white",
             "minorgridcolor": "white",
             "startlinecolor": "#2a3f5f"
            },
            "type": "carpet"
           }
          ],
          "choropleth": [
           {
            "colorbar": {
             "outlinewidth": 0,
             "ticks": ""
            },
            "type": "choropleth"
           }
          ],
          "contour": [
           {
            "colorbar": {
             "outlinewidth": 0,
             "ticks": ""
            },
            "colorscale": [
             [
              0,
              "#0d0887"
             ],
             [
              0.1111111111111111,
              "#46039f"
             ],
             [
              0.2222222222222222,
              "#7201a8"
             ],
             [
              0.3333333333333333,
              "#9c179e"
             ],
             [
              0.4444444444444444,
              "#bd3786"
             ],
             [
              0.5555555555555556,
              "#d8576b"
             ],
             [
              0.6666666666666666,
              "#ed7953"
             ],
             [
              0.7777777777777778,
              "#fb9f3a"
             ],
             [
              0.8888888888888888,
              "#fdca26"
             ],
             [
              1,
              "#f0f921"
             ]
            ],
            "type": "contour"
           }
          ],
          "contourcarpet": [
           {
            "colorbar": {
             "outlinewidth": 0,
             "ticks": ""
            },
            "type": "contourcarpet"
           }
          ],
          "heatmap": [
           {
            "colorbar": {
             "outlinewidth": 0,
             "ticks": ""
            },
            "colorscale": [
             [
              0,
              "#0d0887"
             ],
             [
              0.1111111111111111,
              "#46039f"
             ],
             [
              0.2222222222222222,
              "#7201a8"
             ],
             [
              0.3333333333333333,
              "#9c179e"
             ],
             [
              0.4444444444444444,
              "#bd3786"
             ],
             [
              0.5555555555555556,
              "#d8576b"
             ],
             [
              0.6666666666666666,
              "#ed7953"
             ],
             [
              0.7777777777777778,
              "#fb9f3a"
             ],
             [
              0.8888888888888888,
              "#fdca26"
             ],
             [
              1,
              "#f0f921"
             ]
            ],
            "type": "heatmap"
           }
          ],
          "heatmapgl": [
           {
            "colorbar": {
             "outlinewidth": 0,
             "ticks": ""
            },
            "colorscale": [
             [
              0,
              "#0d0887"
             ],
             [
              0.1111111111111111,
              "#46039f"
             ],
             [
              0.2222222222222222,
              "#7201a8"
             ],
             [
              0.3333333333333333,
              "#9c179e"
             ],
             [
              0.4444444444444444,
              "#bd3786"
             ],
             [
              0.5555555555555556,
              "#d8576b"
             ],
             [
              0.6666666666666666,
              "#ed7953"
             ],
             [
              0.7777777777777778,
              "#fb9f3a"
             ],
             [
              0.8888888888888888,
              "#fdca26"
             ],
             [
              1,
              "#f0f921"
             ]
            ],
            "type": "heatmapgl"
           }
          ],
          "histogram": [
           {
            "marker": {
             "colorbar": {
              "outlinewidth": 0,
              "ticks": ""
             }
            },
            "type": "histogram"
           }
          ],
          "histogram2d": [
           {
            "colorbar": {
             "outlinewidth": 0,
             "ticks": ""
            },
            "colorscale": [
             [
              0,
              "#0d0887"
             ],
             [
              0.1111111111111111,
              "#46039f"
             ],
             [
              0.2222222222222222,
              "#7201a8"
             ],
             [
              0.3333333333333333,
              "#9c179e"
             ],
             [
              0.4444444444444444,
              "#bd3786"
             ],
             [
              0.5555555555555556,
              "#d8576b"
             ],
             [
              0.6666666666666666,
              "#ed7953"
             ],
             [
              0.7777777777777778,
              "#fb9f3a"
             ],
             [
              0.8888888888888888,
              "#fdca26"
             ],
             [
              1,
              "#f0f921"
             ]
            ],
            "type": "histogram2d"
           }
          ],
          "histogram2dcontour": [
           {
            "colorbar": {
             "outlinewidth": 0,
             "ticks": ""
            },
            "colorscale": [
             [
              0,
              "#0d0887"
             ],
             [
              0.1111111111111111,
              "#46039f"
             ],
             [
              0.2222222222222222,
              "#7201a8"
             ],
             [
              0.3333333333333333,
              "#9c179e"
             ],
             [
              0.4444444444444444,
              "#bd3786"
             ],
             [
              0.5555555555555556,
              "#d8576b"
             ],
             [
              0.6666666666666666,
              "#ed7953"
             ],
             [
              0.7777777777777778,
              "#fb9f3a"
             ],
             [
              0.8888888888888888,
              "#fdca26"
             ],
             [
              1,
              "#f0f921"
             ]
            ],
            "type": "histogram2dcontour"
           }
          ],
          "mesh3d": [
           {
            "colorbar": {
             "outlinewidth": 0,
             "ticks": ""
            },
            "type": "mesh3d"
           }
          ],
          "parcoords": [
           {
            "line": {
             "colorbar": {
              "outlinewidth": 0,
              "ticks": ""
             }
            },
            "type": "parcoords"
           }
          ],
          "pie": [
           {
            "automargin": true,
            "type": "pie"
           }
          ],
          "scatter": [
           {
            "marker": {
             "colorbar": {
              "outlinewidth": 0,
              "ticks": ""
             }
            },
            "type": "scatter"
           }
          ],
          "scatter3d": [
           {
            "line": {
             "colorbar": {
              "outlinewidth": 0,
              "ticks": ""
             }
            },
            "marker": {
             "colorbar": {
              "outlinewidth": 0,
              "ticks": ""
             }
            },
            "type": "scatter3d"
           }
          ],
          "scattercarpet": [
           {
            "marker": {
             "colorbar": {
              "outlinewidth": 0,
              "ticks": ""
             }
            },
            "type": "scattercarpet"
           }
          ],
          "scattergeo": [
           {
            "marker": {
             "colorbar": {
              "outlinewidth": 0,
              "ticks": ""
             }
            },
            "type": "scattergeo"
           }
          ],
          "scattergl": [
           {
            "marker": {
             "colorbar": {
              "outlinewidth": 0,
              "ticks": ""
             }
            },
            "type": "scattergl"
           }
          ],
          "scattermapbox": [
           {
            "marker": {
             "colorbar": {
              "outlinewidth": 0,
              "ticks": ""
             }
            },
            "type": "scattermapbox"
           }
          ],
          "scatterpolar": [
           {
            "marker": {
             "colorbar": {
              "outlinewidth": 0,
              "ticks": ""
             }
            },
            "type": "scatterpolar"
           }
          ],
          "scatterpolargl": [
           {
            "marker": {
             "colorbar": {
              "outlinewidth": 0,
              "ticks": ""
             }
            },
            "type": "scatterpolargl"
           }
          ],
          "scatterternary": [
           {
            "marker": {
             "colorbar": {
              "outlinewidth": 0,
              "ticks": ""
             }
            },
            "type": "scatterternary"
           }
          ],
          "surface": [
           {
            "colorbar": {
             "outlinewidth": 0,
             "ticks": ""
            },
            "colorscale": [
             [
              0,
              "#0d0887"
             ],
             [
              0.1111111111111111,
              "#46039f"
             ],
             [
              0.2222222222222222,
              "#7201a8"
             ],
             [
              0.3333333333333333,
              "#9c179e"
             ],
             [
              0.4444444444444444,
              "#bd3786"
             ],
             [
              0.5555555555555556,
              "#d8576b"
             ],
             [
              0.6666666666666666,
              "#ed7953"
             ],
             [
              0.7777777777777778,
              "#fb9f3a"
             ],
             [
              0.8888888888888888,
              "#fdca26"
             ],
             [
              1,
              "#f0f921"
             ]
            ],
            "type": "surface"
           }
          ],
          "table": [
           {
            "cells": {
             "fill": {
              "color": "#EBF0F8"
             },
             "line": {
              "color": "white"
             }
            },
            "header": {
             "fill": {
              "color": "#C8D4E3"
             },
             "line": {
              "color": "white"
             }
            },
            "type": "table"
           }
          ]
         },
         "layout": {
          "annotationdefaults": {
           "arrowcolor": "#2a3f5f",
           "arrowhead": 0,
           "arrowwidth": 1
          },
          "autotypenumbers": "strict",
          "coloraxis": {
           "colorbar": {
            "outlinewidth": 0,
            "ticks": ""
           }
          },
          "colorscale": {
           "diverging": [
            [
             0,
             "#8e0152"
            ],
            [
             0.1,
             "#c51b7d"
            ],
            [
             0.2,
             "#de77ae"
            ],
            [
             0.3,
             "#f1b6da"
            ],
            [
             0.4,
             "#fde0ef"
            ],
            [
             0.5,
             "#f7f7f7"
            ],
            [
             0.6,
             "#e6f5d0"
            ],
            [
             0.7,
             "#b8e186"
            ],
            [
             0.8,
             "#7fbc41"
            ],
            [
             0.9,
             "#4d9221"
            ],
            [
             1,
             "#276419"
            ]
           ],
           "sequential": [
            [
             0,
             "#0d0887"
            ],
            [
             0.1111111111111111,
             "#46039f"
            ],
            [
             0.2222222222222222,
             "#7201a8"
            ],
            [
             0.3333333333333333,
             "#9c179e"
            ],
            [
             0.4444444444444444,
             "#bd3786"
            ],
            [
             0.5555555555555556,
             "#d8576b"
            ],
            [
             0.6666666666666666,
             "#ed7953"
            ],
            [
             0.7777777777777778,
             "#fb9f3a"
            ],
            [
             0.8888888888888888,
             "#fdca26"
            ],
            [
             1,
             "#f0f921"
            ]
           ],
           "sequentialminus": [
            [
             0,
             "#0d0887"
            ],
            [
             0.1111111111111111,
             "#46039f"
            ],
            [
             0.2222222222222222,
             "#7201a8"
            ],
            [
             0.3333333333333333,
             "#9c179e"
            ],
            [
             0.4444444444444444,
             "#bd3786"
            ],
            [
             0.5555555555555556,
             "#d8576b"
            ],
            [
             0.6666666666666666,
             "#ed7953"
            ],
            [
             0.7777777777777778,
             "#fb9f3a"
            ],
            [
             0.8888888888888888,
             "#fdca26"
            ],
            [
             1,
             "#f0f921"
            ]
           ]
          },
          "colorway": [
           "#636efa",
           "#EF553B",
           "#00cc96",
           "#ab63fa",
           "#FFA15A",
           "#19d3f3",
           "#FF6692",
           "#B6E880",
           "#FF97FF",
           "#FECB52"
          ],
          "font": {
           "color": "#2a3f5f"
          },
          "geo": {
           "bgcolor": "white",
           "lakecolor": "white",
           "landcolor": "#E5ECF6",
           "showlakes": true,
           "showland": true,
           "subunitcolor": "white"
          },
          "hoverlabel": {
           "align": "left"
          },
          "hovermode": "closest",
          "mapbox": {
           "style": "light"
          },
          "paper_bgcolor": "white",
          "plot_bgcolor": "#E5ECF6",
          "polar": {
           "angularaxis": {
            "gridcolor": "white",
            "linecolor": "white",
            "ticks": ""
           },
           "bgcolor": "#E5ECF6",
           "radialaxis": {
            "gridcolor": "white",
            "linecolor": "white",
            "ticks": ""
           }
          },
          "scene": {
           "xaxis": {
            "backgroundcolor": "#E5ECF6",
            "gridcolor": "white",
            "gridwidth": 2,
            "linecolor": "white",
            "showbackground": true,
            "ticks": "",
            "zerolinecolor": "white"
           },
           "yaxis": {
            "backgroundcolor": "#E5ECF6",
            "gridcolor": "white",
            "gridwidth": 2,
            "linecolor": "white",
            "showbackground": true,
            "ticks": "",
            "zerolinecolor": "white"
           },
           "zaxis": {
            "backgroundcolor": "#E5ECF6",
            "gridcolor": "white",
            "gridwidth": 2,
            "linecolor": "white",
            "showbackground": true,
            "ticks": "",
            "zerolinecolor": "white"
           }
          },
          "shapedefaults": {
           "line": {
            "color": "#2a3f5f"
           }
          },
          "ternary": {
           "aaxis": {
            "gridcolor": "white",
            "linecolor": "white",
            "ticks": ""
           },
           "baxis": {
            "gridcolor": "white",
            "linecolor": "white",
            "ticks": ""
           },
           "bgcolor": "#E5ECF6",
           "caxis": {
            "gridcolor": "white",
            "linecolor": "white",
            "ticks": ""
           }
          },
          "title": {
           "x": 0.05
          },
          "xaxis": {
           "automargin": true,
           "gridcolor": "white",
           "linecolor": "white",
           "ticks": "",
           "title": {
            "standoff": 15
           },
           "zerolinecolor": "white",
           "zerolinewidth": 2
          },
          "yaxis": {
           "automargin": true,
           "gridcolor": "white",
           "linecolor": "white",
           "ticks": "",
           "title": {
            "standoff": 15
           },
           "zerolinecolor": "white",
           "zerolinewidth": 2
          }
         }
        },
        "title": {
         "text": "AVERAGE DEPARTURE DELAY PER DEPARTURE LOCATION IN ALL YEARS"
        },
        "width": 900
       }
      }
     },
     "metadata": {},
     "output_type": "display_data"
    }
   ],
   "source": [
    "averageDelayPerDepartureLocationInAllYearsGraph = go.Pie(\n",
    "    values = averageDelayPerDepartureLocationInAllYears.toPandas()['AverageDelayPerOrigin'],\n",
    "    text = averageDelayPerDepartureLocationInAllYears.toPandas()['ORIGIN'])\n",
    "\n",
    "\n",
    "data = [averageDelayPerDepartureLocationInAllYearsGraph]\n",
    "\n",
    "layout = dict(title = 'AVERAGE DEPARTURE DELAY PER DEPARTURE LOCATION IN ALL YEARS',\n",
    "              height= 600,\n",
    "              width= 900\n",
    "             )\n",
    "fig = dict(data = data, layout = layout)\n",
    "\n",
    "pyo.iplot(fig)"
   ]
  },
  {
   "attachments": {},
   "cell_type": "markdown",
   "metadata": {},
   "source": [
    "AVERAGE DEPARTURE DELAY PER DEPARTURE LOCATION EACH YEAR"
   ]
  },
  {
   "cell_type": "code",
   "execution_count": 28,
   "metadata": {},
   "outputs": [
    {
     "name": "stdout",
     "output_type": "stream",
     "text": [
      "+------+---------------------+----+\n",
      "|ORIGIN|AverageDelayPerOrigin|Year|\n",
      "+------+---------------------+----+\n",
      "|   PPG|   201.55555555555554|2016|\n",
      "|   ENV|                157.0|2016|\n",
      "|   DVL|    122.1344537815126|2018|\n",
      "|   PPG|    99.58064516129032|2018|\n",
      "|   GCK|    99.08108108108108|2016|\n",
      "|   JMS|    97.18536585365854|2018|\n",
      "|   CMX|    96.56744186046511|2018|\n",
      "|   UST|    95.85714285714286|2017|\n",
      "|   GCK|    92.89655172413794|2017|\n",
      "|   RHI|    92.57462686567165|2017|\n",
      "|   SLN|    88.72018348623853|2018|\n",
      "|   LWB|    87.99009900990099|2018|\n",
      "|   LCH|    86.76878612716763|2017|\n",
      "|   MQT|    84.84939759036145|2016|\n",
      "|   SAF|    82.25088339222614|2018|\n",
      "|   SHD|    82.14367816091954|2018|\n",
      "|   MEI|    81.23869346733669|2017|\n",
      "|   RHI|    80.50381679389314|2018|\n",
      "|   FSM|     80.1043956043956|2017|\n",
      "|   HYS|    80.08812260536398|2018|\n",
      "|   ITH|    79.99586776859505|2018|\n",
      "|   MHK|    79.28909952606635|2017|\n",
      "|   BGR|    79.12786885245902|2017|\n",
      "|   EGE|      78.440329218107|2018|\n",
      "|   MBS|    78.38323353293413|2017|\n",
      "|   MMH|                 78.2|2018|\n",
      "|   LCH|    78.13186813186813|2016|\n",
      "|   RDD|    78.07777777777778|2017|\n",
      "|   PIB|    77.61714285714285|2018|\n",
      "|   ERI|    77.15962441314554|2018|\n",
      "|   OTH|    76.14285714285714|2017|\n",
      "|   BTM|    75.61206896551724|2017|\n",
      "|   LAW|            75.515625|2017|\n",
      "|   LAR|    75.33870967741936|2018|\n",
      "|   MQT|     74.9423076923077|2017|\n",
      "|   EGE|     74.6752688172043|2017|\n",
      "|   DLH|    74.46409807355516|2017|\n",
      "|   RDD|    74.42724458204334|2018|\n",
      "|   BGM|    74.33644859813084|2018|\n",
      "|   LBL|    74.19811320754717|2018|\n",
      "|   EAU|    73.74705882352941|2018|\n",
      "|   PUB|    73.49748743718592|2018|\n",
      "|   SUX|    73.46153846153847|2017|\n",
      "|   OTH|    73.36585365853658|2018|\n",
      "|   MEI|    73.16949152542372|2016|\n",
      "|   ELM|    72.66666666666667|2017|\n",
      "|   PPG|    72.33333333333333|2017|\n",
      "|   ACK|    72.23287671232876|2018|\n",
      "|   LWS|    71.48648648648648|2017|\n",
      "|   CLL|    71.29906542056075|2018|\n",
      "+------+---------------------+----+\n",
      "only showing top 50 rows\n",
      "\n"
     ]
    }
   ],
   "source": [
    "averageDelayPerDepartureLocationEachYear = spark.sql(\"SELECT ORIGIN, AVG(IF(DEP_DELAY >= 0 , DEP_DELAY, NULL)) AS AverageDelayPerOrigin,\\\n",
    " EXTRACT(year from FL_DATE) AS Year FROM airlinedelay GROUP BY ORIGIN, Year \\\n",
    " ORDER BY AverageDelayPerOrigin DESC\")\n",
    "\n",
    "averageDelayPerDepartureLocationEachYear.show(50)"
   ]
  },
  {
   "cell_type": "code",
   "execution_count": 33,
   "metadata": {},
   "outputs": [
    {
     "data": {
      "application/vnd.plotly.v1+json": {
       "config": {
        "linkText": "Export to plot.ly",
        "plotlyServerURL": "https://plot.ly",
        "showLink": false
       },
       "data": [
        {
         "mode": "lines+markers",
         "name": "PPG",
         "type": "scatter",
         "x": [
          2016,
          2017,
          2018
         ],
         "y": [
          201.55555555555554,
          99.58064516129032,
          72.33333333333333
         ]
        },
        {
         "mode": "lines+markers",
         "name": "ENV",
         "type": "scatter",
         "x": [
          2016,
          2017,
          2018
         ],
         "y": [
          157
         ]
        },
        {
         "mode": "lines+markers",
         "name": "DVL",
         "type": "scatter",
         "x": [
          2016,
          2017,
          2018
         ],
         "y": [
          122.1344537815126,
          58.19867549668874,
          47.0125
         ]
        },
        {
         "mode": "lines+markers",
         "name": "GCK",
         "type": "scatter",
         "x": [
          2016,
          2017,
          2018
         ],
         "y": [
          99.08108108108108,
          92.89655172413794,
          33.1991341991342
         ]
        },
        {
         "mode": "lines+markers",
         "name": "JMS",
         "type": "scatter",
         "x": [
          2016,
          2017,
          2018
         ],
         "y": [
          97.18536585365854,
          52.19028340080972,
          49.98706896551724
         ]
        },
        {
         "mode": "lines+markers",
         "name": "CMX",
         "type": "scatter",
         "x": [
          2016,
          2017,
          2018
         ],
         "y": [
          96.56744186046511,
          65.17647058823529,
          62.63478260869565
         ]
        },
        {
         "mode": "lines+markers",
         "name": "UST",
         "type": "scatter",
         "x": [
          2016,
          2017,
          2018
         ],
         "y": [
          95.85714285714286,
          39.023809523809526
         ]
        },
        {
         "mode": "lines+markers",
         "name": "RHI",
         "type": "scatter",
         "x": [
          2016,
          2017,
          2018
         ],
         "y": [
          92.57462686567165,
          80.50381679389314,
          46.524
         ]
        },
        {
         "mode": "lines+markers",
         "name": "SLN",
         "type": "scatter",
         "x": [
          2016,
          2017,
          2018
         ],
         "y": [
          88.72018348623853
         ]
        },
        {
         "mode": "lines+markers",
         "name": "LWB",
         "type": "scatter",
         "x": [
          2016,
          2017,
          2018
         ],
         "y": [
          87.99009900990099
         ]
        },
        {
         "mode": "lines+markers",
         "name": "LCH",
         "type": "scatter",
         "x": [
          2016,
          2017,
          2018
         ],
         "y": [
          86.76878612716763,
          78.13186813186813,
          54.77020202020202
         ]
        },
        {
         "mode": "lines+markers",
         "name": "MQT",
         "type": "scatter",
         "x": [
          2016,
          2017,
          2018
         ],
         "y": [
          84.84939759036145,
          74.9423076923077,
          69.75186104218362
         ]
        },
        {
         "mode": "lines+markers",
         "name": "SAF",
         "type": "scatter",
         "x": [
          2016,
          2017,
          2018
         ],
         "y": [
          82.25088339222614,
          60.674351585014406,
          59.18577981651376
         ]
        },
        {
         "mode": "lines+markers",
         "name": "SHD",
         "type": "scatter",
         "x": [
          2016,
          2017,
          2018
         ],
         "y": [
          82.14367816091954
         ]
        },
        {
         "mode": "lines+markers",
         "name": "MEI",
         "type": "scatter",
         "x": [
          2016,
          2017,
          2018
         ],
         "y": [
          81.23869346733669,
          73.16949152542372,
          67.34803921568627
         ]
        },
        {
         "mode": "lines+markers",
         "name": "FSM",
         "type": "scatter",
         "x": [
          2016,
          2017,
          2018
         ],
         "y": [
          80.1043956043956,
          56.065843621399175,
          54.046904315197
         ]
        },
        {
         "mode": "lines+markers",
         "name": "HYS",
         "type": "scatter",
         "x": [
          2016,
          2017,
          2018
         ],
         "y": [
          80.08812260536398,
          51.77235772357724,
          40.72592592592593
         ]
        },
        {
         "mode": "lines+markers",
         "name": "ITH",
         "type": "scatter",
         "x": [
          2016,
          2017,
          2018
         ],
         "y": [
          79.99586776859505,
          65.52654867256638,
          53.98828125
         ]
        },
        {
         "mode": "lines+markers",
         "name": "MHK",
         "type": "scatter",
         "x": [
          2016,
          2017,
          2018
         ],
         "y": [
          79.28909952606635,
          56.85398230088496,
          null
         ]
        },
        {
         "mode": "lines+markers",
         "name": "BGR",
         "type": "scatter",
         "x": [
          2016,
          2017,
          2018
         ],
         "y": [
          79.12786885245902,
          55.12575366063738,
          50.17877094972067
         ]
        },
        {
         "mode": "lines+markers",
         "name": "EGE",
         "type": "scatter",
         "x": [
          2016,
          2017,
          2018
         ],
         "y": [
          78.440329218107,
          74.6752688172043,
          50.3747572815534
         ]
        },
        {
         "mode": "lines+markers",
         "name": "MBS",
         "type": "scatter",
         "x": [
          2016,
          2017,
          2018
         ],
         "y": [
          78.38323353293413,
          70.93178036605657,
          53.33114035087719
         ]
        },
        {
         "mode": "lines+markers",
         "name": "MMH",
         "type": "scatter",
         "x": [
          2016,
          2017,
          2018
         ],
         "y": [
          78.2,
          48.53061224489796,
          43
         ]
        },
        {
         "mode": "lines+markers",
         "name": "RDD",
         "type": "scatter",
         "x": [
          2016,
          2017,
          2018
         ],
         "y": [
          78.07777777777778,
          74.42724458204334,
          53.333333333333336
         ]
        },
        {
         "mode": "lines+markers",
         "name": "PIB",
         "type": "scatter",
         "x": [
          2016,
          2017,
          2018
         ],
         "y": [
          77.61714285714285,
          66.18614718614718,
          55.96666666666667
         ]
        },
        {
         "mode": "lines+markers",
         "name": "ERI",
         "type": "scatter",
         "x": [
          2016,
          2017,
          2018
         ],
         "y": [
          77.15962441314554,
          57.543010752688176,
          48.23148148148148
         ]
        },
        {
         "mode": "lines+markers",
         "name": "OTH",
         "type": "scatter",
         "x": [
          2016,
          2017,
          2018
         ],
         "y": [
          76.14285714285714,
          73.36585365853658,
          49.697841726618705
         ]
        },
        {
         "mode": "lines+markers",
         "name": "BTM",
         "type": "scatter",
         "x": [
          2016,
          2017,
          2018
         ],
         "y": [
          75.61206896551724,
          50.91596638655462,
          50.5377358490566
         ]
        },
        {
         "mode": "lines+markers",
         "name": "LAW",
         "type": "scatter",
         "x": [
          2016,
          2017,
          2018
         ],
         "y": [
          75.515625,
          55.407534246575345,
          47.67700258397933
         ]
        },
        {
         "mode": "lines+markers",
         "name": "LAR",
         "type": "scatter",
         "x": [
          2016,
          2017,
          2018
         ],
         "y": [
          75.33870967741936,
          66.72321428571429,
          36.61538461538461
         ]
        },
        {
         "mode": "lines+markers",
         "name": "DLH",
         "type": "scatter",
         "x": [
          2016,
          2017,
          2018
         ],
         "y": [
          74.46409807355516,
          63.6066763425254,
          53.137462235649544
         ]
        },
        {
         "mode": "lines+markers",
         "name": "BGM",
         "type": "scatter",
         "x": [
          2016,
          2017,
          2018
         ],
         "y": [
          74.33644859813084,
          70.45370370370371,
          60.05769230769231
         ]
        },
        {
         "mode": "lines+markers",
         "name": "LBL",
         "type": "scatter",
         "x": [
          2016,
          2017,
          2018
         ],
         "y": [
          74.19811320754717
         ]
        },
        {
         "mode": "lines+markers",
         "name": "EAU",
         "type": "scatter",
         "x": [
          2016,
          2017,
          2018
         ],
         "y": [
          73.74705882352941,
          53.45,
          49.25149700598802
         ]
        },
        {
         "mode": "lines+markers",
         "name": "PUB",
         "type": "scatter",
         "x": [
          2016,
          2017,
          2018
         ],
         "y": [
          73.49748743718592,
          46
         ]
        },
        {
         "mode": "lines+markers",
         "name": "SUX",
         "type": "scatter",
         "x": [
          2016,
          2017,
          2018
         ],
         "y": [
          73.46153846153847,
          34.548327137546465
         ]
        },
        {
         "mode": "lines+markers",
         "name": "ELM",
         "type": "scatter",
         "x": [
          2016,
          2017,
          2018
         ],
         "y": [
          72.66666666666667,
          49.65428571428571,
          46.25
         ]
        },
        {
         "mode": "lines+markers",
         "name": "ACK",
         "type": "scatter",
         "x": [
          2016,
          2017,
          2018
         ],
         "y": [
          72.23287671232876,
          56.54111405835544,
          41.97069597069597
         ]
        },
        {
         "mode": "lines+markers",
         "name": "LWS",
         "type": "scatter",
         "x": [
          2016,
          2017,
          2018
         ],
         "y": [
          71.48648648648648,
          44.278481012658226,
          38.277227722772274
         ]
        },
        {
         "mode": "lines+markers",
         "name": "CLL",
         "type": "scatter",
         "x": [
          2016,
          2017,
          2018
         ],
         "y": [
          71.29906542056075,
          64.11382113821138,
          45.86407766990291
         ]
        },
        {
         "mode": "lines+markers",
         "name": "CKB",
         "type": "scatter",
         "x": [
          2016,
          2017,
          2018
         ],
         "y": [
          71.19557195571956,
          42.294117647058826
         ]
        },
        {
         "mode": "lines+markers",
         "name": "LRD",
         "type": "scatter",
         "x": [
          2016,
          2017,
          2018
         ],
         "y": [
          70.99168975069252,
          64.16707021791767,
          61.05067567567568
         ]
        },
        {
         "mode": "lines+markers",
         "name": "CGI",
         "type": "scatter",
         "x": [
          2016,
          2017,
          2018
         ],
         "y": [
          70.8972602739726,
          33.15
         ]
        },
        {
         "mode": "lines+markers",
         "name": "SCE",
         "type": "scatter",
         "x": [
          2016,
          2017,
          2018
         ],
         "y": [
          70.4820143884892,
          67.4968944099379,
          46.97969543147208
         ]
        },
        {
         "mode": "lines+markers",
         "name": "MGM",
         "type": "scatter",
         "x": [
          2016,
          2017,
          2018
         ],
         "y": [
          70.47013487475915,
          48.97010869565217,
          41.116358658453116
         ]
        },
        {
         "mode": "lines+markers",
         "name": "MOT",
         "type": "scatter",
         "x": [
          2016,
          2017,
          2018
         ],
         "y": [
          70.3698224852071,
          54.2183734939759,
          53.93817204301075
         ]
        },
        {
         "mode": "lines+markers",
         "name": "ASE",
         "type": "scatter",
         "x": [
          2016,
          2017,
          2018
         ],
         "y": [
          69.60698027314112,
          66.1317747077577,
          47.42160052049447
         ]
        },
        {
         "mode": "lines+markers",
         "name": "MLU",
         "type": "scatter",
         "x": [
          2016,
          2017,
          2018
         ],
         "y": [
          69.37614678899082,
          56.38461538461539,
          55.72562674094708
         ]
        },
        {
         "mode": "lines+markers",
         "name": "CWA",
         "type": "scatter",
         "x": [
          2016,
          2017,
          2018
         ],
         "y": [
          69.11379310344827,
          51.6517571884984,
          49.01796407185629
         ]
        },
        {
         "mode": "lines+markers",
         "name": "TRI",
         "type": "scatter",
         "x": [
          2016,
          2017,
          2018
         ],
         "y": [
          68.79069767441861,
          56.12022900763359,
          48.63045793397231
         ]
        },
        {
         "mode": "lines+markers",
         "name": "BRO",
         "type": "scatter",
         "x": [
          2016,
          2017,
          2018
         ],
         "y": [
          68.78625954198473,
          64.04008016032064,
          61.57848837209303
         ]
        },
        {
         "mode": "lines+markers",
         "name": "ISN",
         "type": "scatter",
         "x": [
          2016,
          2017,
          2018
         ],
         "y": [
          68.30496453900709,
          64.74204946996467,
          63.81222707423581
         ]
        },
        {
         "mode": "lines+markers",
         "name": "SPI",
         "type": "scatter",
         "x": [
          2016,
          2017,
          2018
         ],
         "y": [
          67.8875968992248,
          53.57678571428571,
          46.34406438631791
         ]
        },
        {
         "mode": "lines+markers",
         "name": "TXK",
         "type": "scatter",
         "x": [
          2016,
          2017,
          2018
         ],
         "y": [
          67.76923076923077,
          61.1359649122807,
          41.59327217125382
         ]
        },
        {
         "mode": "lines+markers",
         "name": "PLN",
         "type": "scatter",
         "x": [
          2016,
          2017,
          2018
         ],
         "y": [
          67.6328125,
          59.09219858156028,
          58.903125
         ]
        },
        {
         "mode": "lines+markers",
         "name": "TOL",
         "type": "scatter",
         "x": [
          2016,
          2017,
          2018
         ],
         "y": [
          67.62162162162163,
          40.3743093922652
         ]
        },
        {
         "mode": "lines+markers",
         "name": "XNA",
         "type": "scatter",
         "x": [
          2016,
          2017,
          2018
         ],
         "y": [
          67.5969517358171,
          56.75438596491228,
          46.65649236927696
         ]
        },
        {
         "mode": "lines+markers",
         "name": "TYR",
         "type": "scatter",
         "x": [
          2016,
          2017,
          2018
         ],
         "y": [
          67.36842105263158,
          35.96610169491525,
          35.92
         ]
        },
        {
         "mode": "lines+markers",
         "name": "AZO",
         "type": "scatter",
         "x": [
          2016,
          2017,
          2018
         ],
         "y": [
          67.33590733590734,
          66.75561797752809,
          56.070945945945944
         ]
        },
        {
         "mode": "lines+markers",
         "name": "AEX",
         "type": "scatter",
         "x": [
          2016,
          2017,
          2018
         ],
         "y": [
          67.10880829015544,
          55.219548872180454,
          54.87765293383271
         ]
        },
        {
         "mode": "lines+markers",
         "name": "PIA",
         "type": "scatter",
         "x": [
          2016,
          2017,
          2018
         ],
         "y": [
          66.85394736842105,
          52.756979695431475,
          47.87322274881517
         ]
        },
        {
         "mode": "lines+markers",
         "name": "PAH",
         "type": "scatter",
         "x": [
          2016,
          2017,
          2018
         ],
         "y": [
          66.71337579617834,
          62.04216867469879,
          55.659217877094974
         ]
        },
        {
         "mode": "lines+markers",
         "name": "CIU",
         "type": "scatter",
         "x": [
          2016,
          2017,
          2018
         ],
         "y": [
          66.5952380952381,
          58.24844720496895,
          45.175182481751825
         ]
        },
        {
         "mode": "lines+markers",
         "name": "GUC",
         "type": "scatter",
         "x": [
          2016,
          2017,
          2018
         ],
         "y": [
          65.82894736842105,
          54.940298507462686,
          48.17857142857143
         ]
        },
        {
         "mode": "lines+markers",
         "name": "ABI",
         "type": "scatter",
         "x": [
          2016,
          2017,
          2018
         ],
         "y": [
          65.75,
          37.72366412213741,
          35.015625
         ]
        },
        {
         "mode": "lines+markers",
         "name": "FWA",
         "type": "scatter",
         "x": [
          2016,
          2017,
          2018
         ],
         "y": [
          65.60076287349014,
          52.58615948670944,
          45.795716639209225
         ]
        },
        {
         "mode": "lines+markers",
         "name": "SPS",
         "type": "scatter",
         "x": [
          2016,
          2017,
          2018
         ],
         "y": [
          65.18571428571428,
          56.453658536585365,
          31.694444444444443
         ]
        },
        {
         "mode": "lines+markers",
         "name": "UIN",
         "type": "scatter",
         "x": [
          2016,
          2017,
          2018
         ],
         "y": [
          65.13074204946996,
          56.035714285714285
         ]
        },
        {
         "mode": "lines+markers",
         "name": "EVV",
         "type": "scatter",
         "x": [
          2016,
          2017,
          2018
         ],
         "y": [
          65.00217391304348,
          54.53286713286713,
          49.72644376899696
         ]
        },
        {
         "mode": "lines+markers",
         "name": "STS",
         "type": "scatter",
         "x": [
          2016,
          2017,
          2018
         ],
         "y": [
          64.34541062801932,
          42.787321063394685
         ]
        },
        {
         "mode": "lines+markers",
         "name": "AVP",
         "type": "scatter",
         "x": [
          2016,
          2017,
          2018
         ],
         "y": [
          64.2294776119403,
          49.83316378433367,
          41.123873873873876
         ]
        },
        {
         "mode": "lines+markers",
         "name": "MKG",
         "type": "scatter",
         "x": [
          2016,
          2017,
          2018
         ],
         "y": [
          63.958333333333336,
          63.43046357615894,
          49.700980392156865
         ]
        },
        {
         "mode": "lines+markers",
         "name": "ESC",
         "type": "scatter",
         "x": [
          2016,
          2017,
          2018
         ],
         "y": [
          63.91219512195122,
          57.354285714285716,
          41.5260663507109
         ]
        },
        {
         "mode": "lines+markers",
         "name": "GRK",
         "type": "scatter",
         "x": [
          2016,
          2017,
          2018
         ],
         "y": [
          63.315649867374006,
          45.456344586728754,
          38.75813953488372
         ]
        },
        {
         "mode": "lines+markers",
         "name": "ABY",
         "type": "scatter",
         "x": [
          2016,
          2017,
          2018
         ],
         "y": [
          63.24595469255664,
          57.130208333333336,
          43.63197026022305
         ]
        },
        {
         "mode": "lines+markers",
         "name": "SBP",
         "type": "scatter",
         "x": [
          2016,
          2017,
          2018
         ],
         "y": [
          63.22012578616352,
          56.821144098479365,
          47.444831591173056
         ]
        },
        {
         "mode": "lines+markers",
         "name": "CHO",
         "type": "scatter",
         "x": [
          2016,
          2017,
          2018
         ],
         "y": [
          63.212239583333336,
          52.83944374209861,
          50.933681462140996
         ]
        },
        {
         "mode": "lines+markers",
         "name": "RST",
         "type": "scatter",
         "x": [
          2016,
          2017,
          2018
         ],
         "y": [
          63.04381443298969,
          57.927536231884055,
          54.377456049638056
         ]
        },
        {
         "mode": "lines+markers",
         "name": "YNG",
         "type": "scatter",
         "x": [
          2016,
          2017,
          2018
         ],
         "y": [
          63
         ]
        },
        {
         "mode": "lines+markers",
         "name": "GCC",
         "type": "scatter",
         "x": [
          2016,
          2017,
          2018
         ],
         "y": [
          62.70984455958549,
          59.125,
          51.083333333333336
         ]
        },
        {
         "mode": "lines+markers",
         "name": "CHA",
         "type": "scatter",
         "x": [
          2016,
          2017,
          2018
         ],
         "y": [
          62.47852298417483,
          47.49719887955182,
          46.97534976682212
         ]
        },
        {
         "mode": "lines+markers",
         "name": "ORH",
         "type": "scatter",
         "x": [
          2016,
          2017,
          2018
         ],
         "y": [
          62.38805970149254,
          47.939516129032256,
          42.44097222222222
         ]
        },
        {
         "mode": "lines+markers",
         "name": "ROW",
         "type": "scatter",
         "x": [
          2016,
          2017,
          2018
         ],
         "y": [
          62.371517027863774,
          57.95348837209303,
          28.891304347826086
         ]
        },
        {
         "mode": "lines+markers",
         "name": "HDN",
         "type": "scatter",
         "x": [
          2016,
          2017,
          2018
         ],
         "y": [
          62.19230769230769,
          61.530249110320284,
          48.20912547528517
         ]
        },
        {
         "mode": "lines+markers",
         "name": "LEX",
         "type": "scatter",
         "x": [
          2016,
          2017,
          2018
         ],
         "y": [
          62.07387508394896,
          45.748455730954014,
          44.03231821006837
         ]
        },
        {
         "mode": "lines+markers",
         "name": "BTR",
         "type": "scatter",
         "x": [
          2016,
          2017,
          2018
         ],
         "y": [
          61.65662337662338,
          57.949782713664895,
          51.26899766899767
         ]
        },
        {
         "mode": "lines+markers",
         "name": "BMI",
         "type": "scatter",
         "x": [
          2016,
          2017,
          2018
         ],
         "y": [
          61.501157407407405,
          54.53024193548387,
          34.568888888888885
         ]
        },
        {
         "mode": "lines+markers",
         "name": "HLN",
         "type": "scatter",
         "x": [
          2016,
          2017,
          2018
         ],
         "y": [
          61.3014705882353,
          40.0472972972973,
          30.813492063492063
         ]
        },
        {
         "mode": "lines+markers",
         "name": "RDM",
         "type": "scatter",
         "x": [
          2016,
          2017,
          2018
         ],
         "y": [
          61.01891891891892,
          59.43632958801498,
          54.296052631578945
         ]
        },
        {
         "mode": "lines+markers",
         "name": "SWO",
         "type": "scatter",
         "x": [
          2016,
          2017,
          2018
         ],
         "y": [
          61,
          44.388535031847134
         ]
        },
        {
         "mode": "lines+markers",
         "name": "AVL",
         "type": "scatter",
         "x": [
          2016,
          2017,
          2018
         ],
         "y": [
          60.95887281035796,
          50.36748688987495,
          46.01687388987567
         ]
        },
        {
         "mode": "lines+markers",
         "name": "EWN",
         "type": "scatter",
         "x": [
          2016,
          2017,
          2018
         ],
         "y": [
          60.81372549019608,
          55.68674698795181,
          43.22882615156018
         ]
        },
        {
         "mode": "lines+markers",
         "name": "APN",
         "type": "scatter",
         "x": [
          2016,
          2017,
          2018
         ],
         "y": [
          60.67027027027027,
          49.334600760456276,
          41.67578125
         ]
        },
        {
         "mode": "lines+markers",
         "name": "ACV",
         "type": "scatter",
         "x": [
          2016,
          2017,
          2018
         ],
         "y": [
          60.62210796915167,
          59.778021978021975,
          47.16766467065868
         ]
        },
        {
         "mode": "lines+markers",
         "name": "SBA",
         "type": "scatter",
         "x": [
          2016,
          2017,
          2018
         ],
         "y": [
          60.58410138248848,
          60.4218009478673,
          55.24182242990654
         ]
        },
        {
         "mode": "lines+markers",
         "name": "CPR",
         "type": "scatter",
         "x": [
          2016,
          2017,
          2018
         ],
         "y": [
          60.32520325203252,
          52.874439461883405,
          42.74107142857143
         ]
        },
        {
         "mode": "lines+markers",
         "name": "BIS",
         "type": "scatter",
         "x": [
          2016,
          2017,
          2018
         ],
         "y": [
          60.26470588235294,
          57.35787321063395,
          54.66737739872068
         ]
        },
        {
         "mode": "lines+markers",
         "name": "HVN",
         "type": "scatter",
         "x": [
          2016,
          2017,
          2018
         ],
         "y": [
          60.048327137546465
         ]
        },
        {
         "mode": "lines+markers",
         "name": "OAJ",
         "type": "scatter",
         "x": [
          2016,
          2017,
          2018
         ],
         "y": [
          59.93617021276596,
          46.721354166666664,
          44.83739045764362
         ]
        },
        {
         "mode": "lines+markers",
         "name": "SMX",
         "type": "scatter",
         "x": [
          2016,
          2017,
          2018
         ],
         "y": [
          59.81437125748503,
          37.82666666666667
         ]
        },
        {
         "mode": "lines+markers",
         "name": "MRY",
         "type": "scatter",
         "x": [
          2016,
          2017,
          2018
         ],
         "y": [
          59.7574931880109,
          59.754502369668245,
          44.43788819875776
         ]
        },
        {
         "mode": "lines+markers",
         "name": "SJT",
         "type": "scatter",
         "x": [
          2016,
          2017,
          2018
         ],
         "y": [
          59.34193548387097,
          50.579268292682926,
          38.223350253807105
         ]
        },
        {
         "mode": "lines+markers",
         "name": "MFE",
         "type": "scatter",
         "x": [
          2016,
          2017,
          2018
         ],
         "y": [
          59.27232142857143,
          56.69718309859155,
          51.913924050632914
         ]
        },
        {
         "mode": "lines+markers",
         "name": "INL",
         "type": "scatter",
         "x": [
          2016,
          2017,
          2018
         ],
         "y": [
          59.02439024390244,
          57.16326530612245,
          51.33649289099526
         ]
        },
        {
         "mode": "lines+markers",
         "name": "BRD",
         "type": "scatter",
         "x": [
          2016,
          2017,
          2018
         ],
         "y": [
          59,
          42.98639455782313,
          37.32203389830509
         ]
        },
        {
         "mode": "lines+markers",
         "name": "MTJ",
         "type": "scatter",
         "x": [
          2016,
          2017,
          2018
         ],
         "y": [
          58.94202898550725,
          53.95636363636363,
          51.15801354401806
         ]
        },
        {
         "mode": "lines+markers",
         "name": "GGG",
         "type": "scatter",
         "x": [
          2016,
          2017,
          2018
         ],
         "y": [
          58.833333333333336,
          45.74496644295302,
          33.301310043668124
         ]
        },
        {
         "mode": "lines+markers",
         "name": "DHN",
         "type": "scatter",
         "x": [
          2016,
          2017,
          2018
         ],
         "y": [
          58.44871794871795,
          56.22751322751323,
          50.27840909090909
         ]
        },
        {
         "mode": "lines+markers",
         "name": "SWF",
         "type": "scatter",
         "x": [
          2016,
          2017,
          2018
         ],
         "y": [
          58.19672131147541,
          57.5131926121372,
          40.30882352941177
         ]
        },
        {
         "mode": "lines+markers",
         "name": "GFK",
         "type": "scatter",
         "x": [
          2016,
          2017,
          2018
         ],
         "y": [
          57.87188612099644,
          56.66228070175438,
          51.91818181818182
         ]
        },
        {
         "mode": "lines+markers",
         "name": "RKS",
         "type": "scatter",
         "x": [
          2016,
          2017,
          2018
         ],
         "y": [
          57.772413793103446,
          51.72839506172839,
          47.08461538461538
         ]
        },
        {
         "mode": "lines+markers",
         "name": "TTN",
         "type": "scatter",
         "x": [
          2016,
          2017,
          2018
         ],
         "y": [
          57.615627466456196,
          49.32108626198083,
          45.40760157273919
         ]
        },
        {
         "mode": "lines+markers",
         "name": "BTV",
         "type": "scatter",
         "x": [
          2016,
          2017,
          2018
         ],
         "y": [
          57.499139414802066,
          50.624588002636784,
          48.36601307189542
         ]
        },
        {
         "mode": "lines+markers",
         "name": "COS",
         "type": "scatter",
         "x": [
          2016,
          2017,
          2018
         ],
         "y": [
          57.41571568307793,
          50.39962264150943,
          43.57074148296593
         ]
        },
        {
         "mode": "lines+markers",
         "name": "ILM",
         "type": "scatter",
         "x": [
          2016,
          2017,
          2018
         ],
         "y": [
          57.40787119856887,
          49.78350515463917,
          37.63089509143407
         ]
        },
        {
         "mode": "lines+markers",
         "name": "PSC",
         "type": "scatter",
         "x": [
          2016,
          2017,
          2018
         ],
         "y": [
          57.3957783641161,
          48.6353591160221,
          47.232451093210585
         ]
        },
        {
         "mode": "lines+markers",
         "name": "LAN",
         "type": "scatter",
         "x": [
          2016,
          2017,
          2018
         ],
         "y": [
          57.34375,
          54.394213381555154,
          48.00110741971207
         ]
        },
        {
         "mode": "lines+markers",
         "name": "LFT",
         "type": "scatter",
         "x": [
          2016,
          2017,
          2018
         ],
         "y": [
          57.16556291390729,
          46.40230832646331,
          46.3006993006993
         ]
        },
        {
         "mode": "lines+markers",
         "name": "BFF",
         "type": "scatter",
         "x": [
          2016,
          2017,
          2018
         ],
         "y": [
          57.1123595505618,
          40
         ]
        },
        {
         "mode": "lines+markers",
         "name": "TVC",
         "type": "scatter",
         "x": [
          2016,
          2017,
          2018
         ],
         "y": [
          57.099530516431926,
          51.251736111111114,
          40.10150891632373
         ]
        },
        {
         "mode": "lines+markers",
         "name": "HIB",
         "type": "scatter",
         "x": [
          2016,
          2017,
          2018
         ],
         "y": [
          56.95744680851064,
          55.2695652173913,
          53.796551724137935
         ]
        },
        {
         "mode": "lines+markers",
         "name": "COD",
         "type": "scatter",
         "x": [
          2016,
          2017,
          2018
         ],
         "y": [
          56.94387755102041,
          43.57303370786517,
          41.35146443514645
         ]
        },
        {
         "mode": "lines+markers",
         "name": "VEL",
         "type": "scatter",
         "x": [
          2016,
          2017,
          2018
         ],
         "y": [
          56.903225806451616
         ]
        },
        {
         "mode": "lines+markers",
         "name": "MOB",
         "type": "scatter",
         "x": [
          2016,
          2017,
          2018
         ],
         "y": [
          56.85885167464115,
          45.30198739699467,
          44.914556962025316
         ]
        },
        {
         "mode": "lines+markers",
         "name": "SUN",
         "type": "scatter",
         "x": [
          2016,
          2017,
          2018
         ],
         "y": [
          56.85664335664335,
          56.59136212624585,
          51.55944055944056
         ]
        },
        {
         "mode": "lines+markers",
         "name": "GTR",
         "type": "scatter",
         "x": [
          2016,
          2017,
          2018
         ],
         "y": [
          56.756198347107436,
          52.16438356164384,
          48.02232142857143
         ]
        },
        {
         "mode": "lines+markers",
         "name": "GNV",
         "type": "scatter",
         "x": [
          2016,
          2017,
          2018
         ],
         "y": [
          56.74034334763949,
          46.14349112426036,
          41.0989010989011
         ]
        },
        {
         "mode": "lines+markers",
         "name": "LSE",
         "type": "scatter",
         "x": [
          2016,
          2017,
          2018
         ],
         "y": [
          56.44989775051125,
          51.61721611721612,
          36.73026315789474
         ]
        },
        {
         "mode": "lines+markers",
         "name": "HOB",
         "type": "scatter",
         "x": [
          2016,
          2017,
          2018
         ],
         "y": [
          56.3728813559322,
          49.97520661157025,
          46.59550561797753
         ]
        },
        {
         "mode": "lines+markers",
         "name": "DRO",
         "type": "scatter",
         "x": [
          2016,
          2017,
          2018
         ],
         "y": [
          56.21097046413502,
          51.23329425556858,
          38.66302367941712
         ]
        },
        {
         "mode": "lines+markers",
         "name": "FAR",
         "type": "scatter",
         "x": [
          2016,
          2017,
          2018
         ],
         "y": [
          56.088235294117645,
          47.110127826941984,
          45.8830099941211
         ]
        },
        {
         "mode": "lines+markers",
         "name": "JLN",
         "type": "scatter",
         "x": [
          2016,
          2017,
          2018
         ],
         "y": [
          55.892116182572614,
          52.23809523809524,
          43.84615384615385
         ]
        },
        {
         "mode": "lines+markers",
         "name": "ACY",
         "type": "scatter",
         "x": [
          2016,
          2017,
          2018
         ],
         "y": [
          55.830555555555556,
          44.21232876712329,
          39.77059659090909
         ]
        },
        {
         "mode": "lines+markers",
         "name": "IMT",
         "type": "scatter",
         "x": [
          2016,
          2017,
          2018
         ],
         "y": [
          55.67727272727273,
          50.09659090909091,
          45.53807106598985
         ]
        },
        {
         "mode": "lines+markers",
         "name": "SBN",
         "type": "scatter",
         "x": [
          2016,
          2017,
          2018
         ],
         "y": [
          55.59208731241473,
          49.77831219938784,
          41.553357314148684
         ]
        },
        {
         "mode": "lines+markers",
         "name": "LNK",
         "type": "scatter",
         "x": [
          2016,
          2017,
          2018
         ],
         "y": [
          55.53648068669528,
          53.100628930817614,
          48.1203007518797
         ]
        },
        {
         "mode": "lines+markers",
         "name": "MLI",
         "type": "scatter",
         "x": [
          2016,
          2017,
          2018
         ],
         "y": [
          55.489291598023065,
          53.32763157894737,
          45.57787666878576
         ]
        },
        {
         "mode": "lines+markers",
         "name": "BPT",
         "type": "scatter",
         "x": [
          2016,
          2017,
          2018
         ],
         "y": [
          55.333333333333336,
          52.32258064516129,
          46.666666666666664
         ]
        },
        {
         "mode": "lines+markers",
         "name": "GTF",
         "type": "scatter",
         "x": [
          2016,
          2017,
          2018
         ],
         "y": [
          54.66490765171504,
          48.79228486646884,
          44.94642857142857
         ]
        },
        {
         "mode": "lines+markers",
         "name": "TYS",
         "type": "scatter",
         "x": [
          2016,
          2017,
          2018
         ],
         "y": [
          54.61766207248596,
          50.70745896530231,
          42.334278959810874
         ]
        },
        {
         "mode": "lines+markers",
         "name": "JAC",
         "type": "scatter",
         "x": [
          2016,
          2017,
          2018
         ],
         "y": [
          54.41077738515901,
          49.84580838323353,
          49.12639109697933
         ]
        },
        {
         "mode": "lines+markers",
         "name": "HYA",
         "type": "scatter",
         "x": [
          2016,
          2017,
          2018
         ],
         "y": [
          54,
          35.07843137254902,
          28.080645161290324
         ]
        },
        {
         "mode": "lines+markers",
         "name": "CAK",
         "type": "scatter",
         "x": [
          2016,
          2017,
          2018
         ],
         "y": [
          53.99638118214717,
          53.720180528691166,
          42.07645875251509
         ]
        },
        {
         "mode": "lines+markers",
         "name": "BFL",
         "type": "scatter",
         "x": [
          2016,
          2017,
          2018
         ],
         "y": [
          53.862144420131294,
          52.27238805970149,
          50.66358595194085
         ]
        },
        {
         "mode": "lines+markers",
         "name": "FAT",
         "type": "scatter",
         "x": [
          2016,
          2017,
          2018
         ],
         "y": [
          53.85978358881876,
          50.514050091631034,
          46.398477157360404
         ]
        },
        {
         "mode": "lines+markers",
         "name": "BQK",
         "type": "scatter",
         "x": [
          2016,
          2017,
          2018
         ],
         "y": [
          53.78109452736319,
          51.19047619047619,
          43.0547263681592
         ]
        },
        {
         "mode": "lines+markers",
         "name": "PBG",
         "type": "scatter",
         "x": [
          2016,
          2017,
          2018
         ],
         "y": [
          53.712574850299404,
          47.63129973474801,
          23.18285714285714
         ]
        },
        {
         "mode": "lines+markers",
         "name": "LBF",
         "type": "scatter",
         "x": [
          2016,
          2017,
          2018
         ],
         "y": [
          53.69642857142857
         ]
        },
        {
         "mode": "lines+markers",
         "name": "COU",
         "type": "scatter",
         "x": [
          2016,
          2017,
          2018
         ],
         "y": [
          53.57039187227866,
          50.868852459016395
         ]
        },
        {
         "mode": "lines+markers",
         "name": "OWB",
         "type": "scatter",
         "x": [
          2016,
          2017,
          2018
         ],
         "y": [
          53.564516129032256
         ]
        },
        {
         "mode": "lines+markers",
         "name": "LBE",
         "type": "scatter",
         "x": [
          2016,
          2017,
          2018
         ],
         "y": [
          53.53526970954357,
          50.52719665271967,
          45.79381443298969
         ]
        },
        {
         "mode": "lines+markers",
         "name": "GRI",
         "type": "scatter",
         "x": [
          2016,
          2017,
          2018
         ],
         "y": [
          53.52127659574468,
          43.565320665083135,
          32.52777777777778
         ]
        },
        {
         "mode": "lines+markers",
         "name": "MYR",
         "type": "scatter",
         "x": [
          2016,
          2017,
          2018
         ],
         "y": [
          53.40746934225195,
          45.42419948994049,
          40.65
         ]
        },
        {
         "mode": "lines+markers",
         "name": "ABE",
         "type": "scatter",
         "x": [
          2016,
          2017,
          2018
         ],
         "y": [
          53.40506329113924,
          44.977397260273975,
          41.85941644562334
         ]
        },
        {
         "mode": "lines+markers",
         "name": "FSD",
         "type": "scatter",
         "x": [
          2016,
          2017,
          2018
         ],
         "y": [
          53.288428324697755,
          49.46622889305816,
          44.318059299191376
         ]
        },
        {
         "mode": "lines+markers",
         "name": "GRB",
         "type": "scatter",
         "x": [
          2016,
          2017,
          2018
         ],
         "y": [
          53.02813852813853,
          50.89820359281437,
          47.75
         ]
        },
        {
         "mode": "lines+markers",
         "name": "BIL",
         "type": "scatter",
         "x": [
          2016,
          2017,
          2018
         ],
         "y": [
          52.76642335766423,
          44.75974025974026,
          36.21378091872791
         ]
        },
        {
         "mode": "lines+markers",
         "name": "HHH",
         "type": "scatter",
         "x": [
          2016,
          2017,
          2018
         ],
         "y": [
          52.18888888888889
         ]
        },
        {
         "mode": "lines+markers",
         "name": "IAG",
         "type": "scatter",
         "x": [
          2016,
          2017,
          2018
         ],
         "y": [
          52.14903846153846,
          41.37845303867403,
          27.05142857142857
         ]
        },
        {
         "mode": "lines+markers",
         "name": "AGS",
         "type": "scatter",
         "x": [
          2016,
          2017,
          2018
         ],
         "y": [
          52.02059202059202,
          43.51015531660693,
          42.6819830713422
         ]
        },
        {
         "mode": "lines+markers",
         "name": "BJI",
         "type": "scatter",
         "x": [
          2016,
          2017,
          2018
         ],
         "y": [
          51.98136645962733,
          43.69230769230769,
          34.73972602739726
         ]
        },
        {
         "mode": "lines+markers",
         "name": "CID",
         "type": "scatter",
         "x": [
          2016,
          2017,
          2018
         ],
         "y": [
          51.97349709114415,
          41.102906520031425,
          40.603158933859824
         ]
        },
        {
         "mode": "lines+markers",
         "name": "PGV",
         "type": "scatter",
         "x": [
          2016,
          2017,
          2018
         ],
         "y": [
          51.925925925925924
         ]
        },
        {
         "mode": "lines+markers",
         "name": "EUG",
         "type": "scatter",
         "x": [
          2016,
          2017,
          2018
         ],
         "y": [
          51.892822966507175,
          51.62521150592217,
          44.13498622589532
         ]
        },
        {
         "mode": "lines+markers",
         "name": "ABR",
         "type": "scatter",
         "x": [
          2016,
          2017,
          2018
         ],
         "y": [
          51.84293193717277,
          40.1,
          30.008333333333333
         ]
        },
        {
         "mode": "lines+markers",
         "name": "ALO",
         "type": "scatter",
         "x": [
          2016,
          2017,
          2018
         ],
         "y": [
          51.77707006369427,
          38.33009708737864
         ]
        },
        {
         "mode": "lines+markers",
         "name": "MVY",
         "type": "scatter",
         "x": [
          2016,
          2017,
          2018
         ],
         "y": [
          51.7289156626506,
          44.857142857142854,
          39.09271523178808
         ]
        },
        {
         "mode": "lines+markers",
         "name": "PWM",
         "type": "scatter",
         "x": [
          2016,
          2017,
          2018
         ],
         "y": [
          51.68353265869365,
          49.40250587314017,
          42.88682018618324
         ]
        },
        {
         "mode": "lines+markers",
         "name": "MSN",
         "type": "scatter",
         "x": [
          2016,
          2017,
          2018
         ],
         "y": [
          51.62240135765804,
          46.5559265442404,
          44.47263095938788
         ]
        },
        {
         "mode": "lines+markers",
         "name": "SHV",
         "type": "scatter",
         "x": [
          2016,
          2017,
          2018
         ],
         "y": [
          51.39244410177332,
          49.73724983860555,
          41.54666666666667
         ]
        },
        {
         "mode": "lines+markers",
         "name": "ATW",
         "type": "scatter",
         "x": [
          2016,
          2017,
          2018
         ],
         "y": [
          51.155145929339476,
          48.026761819803745,
          40.49331550802139
         ]
        },
        {
         "mode": "lines+markers",
         "name": "CSG",
         "type": "scatter",
         "x": [
          2016,
          2017,
          2018
         ],
         "y": [
          50.89620253164557,
          45.80898876404494,
          35.3485254691689
         ]
        },
        {
         "mode": "lines+markers",
         "name": "CRW",
         "type": "scatter",
         "x": [
          2016,
          2017,
          2018
         ],
         "y": [
          50.61057692307692,
          48.07016434892541,
          43.00325027085591
         ]
        },
        {
         "mode": "lines+markers",
         "name": "RAP",
         "type": "scatter",
         "x": [
          2016,
          2017,
          2018
         ],
         "y": [
          50.516417910447764,
          44.32432432432432,
          42.48428093645485
         ]
        },
        {
         "mode": "lines+markers",
         "name": "VLD",
         "type": "scatter",
         "x": [
          2016,
          2017,
          2018
         ],
         "y": [
          50.27683615819209,
          46.256410256410255,
          43.24908424908425
         ]
        },
        {
         "mode": "lines+markers",
         "name": "SYR",
         "type": "scatter",
         "x": [
          2016,
          2017,
          2018
         ],
         "y": [
          50.24129290904535,
          50.138843868179364,
          46.6131207847946
         ]
        },
        {
         "mode": "lines+markers",
         "name": "HPN",
         "type": "scatter",
         "x": [
          2016,
          2017,
          2018
         ],
         "y": [
          50.03885804916733,
          48.039520958083834,
          38.4196065128901
         ]
        },
        {
         "mode": "lines+markers",
         "name": "STC",
         "type": "scatter",
         "x": [
          2016,
          2017,
          2018
         ],
         "y": [
          49.6551724137931
         ]
        },
        {
         "mode": "lines+markers",
         "name": "PGD",
         "type": "scatter",
         "x": [
          2016,
          2017,
          2018
         ],
         "y": [
          49.4390243902439,
          44.42307692307692,
          38.495769039323044
         ]
        },
        {
         "mode": "lines+markers",
         "name": "LYH",
         "type": "scatter",
         "x": [
          2016,
          2017,
          2018
         ],
         "y": [
          49.43872549019608
         ]
        },
        {
         "mode": "lines+markers",
         "name": "PSP",
         "type": "scatter",
         "x": [
          2016,
          2017,
          2018
         ],
         "y": [
          49.23177175061642,
          48.14243997404283,
          42.820909970958375
         ]
        },
        {
         "mode": "lines+markers",
         "name": "FCA",
         "type": "scatter",
         "x": [
          2016,
          2017,
          2018
         ],
         "y": [
          49.208771929824564,
          48.74731182795699,
          38.75983436853002
         ]
        },
        {
         "mode": "lines+markers",
         "name": "EAR",
         "type": "scatter",
         "x": [
          2016,
          2017,
          2018
         ],
         "y": [
          49
         ]
        },
        {
         "mode": "lines+markers",
         "name": "EKO",
         "type": "scatter",
         "x": [
          2016,
          2017,
          2018
         ],
         "y": [
          48.794520547945204,
          41.265957446808514,
          38.28
         ]
        },
        {
         "mode": "lines+markers",
         "name": "LCK",
         "type": "scatter",
         "x": [
          2016,
          2017,
          2018
         ],
         "y": [
          48.57627118644068
         ]
        },
        {
         "mode": "lines+markers",
         "name": "MFR",
         "type": "scatter",
         "x": [
          2016,
          2017,
          2018
         ],
         "y": [
          48.24027657735523,
          46.670411985018724,
          45.64360587002096
         ]
        },
        {
         "mode": "lines+markers",
         "name": "FAY",
         "type": "scatter",
         "x": [
          2016,
          2017,
          2018
         ],
         "y": [
          47.97862232779097,
          42.41290322580645,
          35.095238095238095
         ]
        },
        {
         "mode": "lines+markers",
         "name": "DAY",
         "type": "scatter",
         "x": [
          2016,
          2017,
          2018
         ],
         "y": [
          47.73012367491166,
          47.641629535327816,
          38.95243128964059
         ]
        },
        {
         "mode": "lines+markers",
         "name": "GSO",
         "type": "scatter",
         "x": [
          2016,
          2017,
          2018
         ],
         "y": [
          47.60365135453475,
          46.27125808055694,
          45.1093567251462
         ]
        },
        {
         "mode": "lines+markers",
         "name": "FNT",
         "type": "scatter",
         "x": [
          2016,
          2017,
          2018
         ],
         "y": [
          47.602739726027394,
          44.98298217179903,
          30.05
         ]
        },
        {
         "mode": "lines+markers",
         "name": "FLG",
         "type": "scatter",
         "x": [
          2016,
          2017,
          2018
         ],
         "y": [
          47.56976744186046,
          30.352941176470587,
          29.401174168297455
         ]
        },
        {
         "mode": "lines+markers",
         "name": "PSM",
         "type": "scatter",
         "x": [
          2016,
          2017,
          2018
         ],
         "y": [
          47.5632183908046
         ]
        },
        {
         "mode": "lines+markers",
         "name": "CAE",
         "type": "scatter",
         "x": [
          2016,
          2017,
          2018
         ],
         "y": [
          47.42367833209233,
          46.79896907216495,
          41.13638651233015
         ]
        },
        {
         "mode": "lines+markers",
         "name": "ACT",
         "type": "scatter",
         "x": [
          2016,
          2017,
          2018
         ],
         "y": [
          47.16711590296496,
          46.03370786516854,
          35.839080459770116
         ]
        },
        {
         "mode": "lines+markers",
         "name": "MDT",
         "type": "scatter",
         "x": [
          2016,
          2017,
          2018
         ],
         "y": [
          47.03286978508218,
          44.74004914004914,
          33.669205658324266
         ]
        },
        {
         "mode": "lines+markers",
         "name": "ROA",
         "type": "scatter",
         "x": [
          2016,
          2017,
          2018
         ],
         "y": [
          46.789568345323744,
          43.15604186489058,
          33.740226986128626
         ]
        },
        {
         "mode": "lines+markers",
         "name": "TWF",
         "type": "scatter",
         "x": [
          2016,
          2017,
          2018
         ],
         "y": [
          46.65338645418327,
          38.534188034188034,
          31.93065693430657
         ]
        },
        {
         "mode": "lines+markers",
         "name": "BLI",
         "type": "scatter",
         "x": [
          2016,
          2017,
          2018
         ],
         "y": [
          46.59708737864078,
          34.59310344827586,
          33.0092936802974
         ]
        },
        {
         "mode": "lines+markers",
         "name": "EWR",
         "type": "scatter",
         "x": [
          2016,
          2017,
          2018
         ],
         "y": [
          46.56077665650833,
          44.497087419327805,
          34.67553231510044
         ]
        },
        {
         "mode": "lines+markers",
         "name": "GJT",
         "type": "scatter",
         "x": [
          2016,
          2017,
          2018
         ],
         "y": [
          46.514367816091955,
          43.09579100145138,
          39.70068027210884
         ]
        },
        {
         "mode": "lines+markers",
         "name": "USA",
         "type": "scatter",
         "x": [
          2016,
          2017,
          2018
         ],
         "y": [
          46.36784140969163
         ]
        },
        {
         "mode": "lines+markers",
         "name": "EYW",
         "type": "scatter",
         "x": [
          2016,
          2017,
          2018
         ],
         "y": [
          46.20084566596194,
          43.73305954825462,
          42.53183791606367
         ]
        },
        {
         "mode": "lines+markers",
         "name": "BZN",
         "type": "scatter",
         "x": [
          2016,
          2017,
          2018
         ],
         "y": [
          46.014043300175544,
          43.54109090909091,
          34.88695652173913
         ]
        },
        {
         "mode": "lines+markers",
         "name": "VPS",
         "type": "scatter",
         "x": [
          2016,
          2017,
          2018
         ],
         "y": [
          45.78073089700997,
          38.04694048616932,
          34.16795069337442
         ]
        },
        {
         "mode": "lines+markers",
         "name": "PSE",
         "type": "scatter",
         "x": [
          2016,
          2017,
          2018
         ],
         "y": [
          45.73359073359073,
          41.39928057553957,
          39.22935779816514
         ]
        },
        {
         "mode": "lines+markers",
         "name": "BKG",
         "type": "scatter",
         "x": [
          2016,
          2017,
          2018
         ],
         "y": [
          45.60606060606061
         ]
        },
        {
         "mode": "lines+markers",
         "name": "STT",
         "type": "scatter",
         "x": [
          2016,
          2017,
          2018
         ],
         "y": [
          45.45753205128205,
          42.85838343353373,
          40.2747641509434
         ]
        },
        {
         "mode": "lines+markers",
         "name": "PVU",
         "type": "scatter",
         "x": [
          2016,
          2017,
          2018
         ],
         "y": [
          45.210762331838566
         ]
        },
        {
         "mode": "lines+markers",
         "name": "ORF",
         "type": "scatter",
         "x": [
          2016,
          2017,
          2018
         ],
         "y": [
          45.103017295795986,
          37.91547091051396,
          35.410894749815135
         ]
        },
        {
         "mode": "lines+markers",
         "name": "TKI",
         "type": "scatter",
         "x": [
          2016,
          2017,
          2018
         ],
         "y": [
          45
         ]
        },
        {
         "mode": "lines+markers",
         "name": "IAD",
         "type": "scatter",
         "x": [
          2016,
          2017,
          2018
         ],
         "y": [
          44.997440355452525,
          39.11334277856488,
          32.19715989329986
         ]
        },
        {
         "mode": "lines+markers",
         "name": "JAN",
         "type": "scatter",
         "x": [
          2016,
          2017,
          2018
         ],
         "y": [
          44.90087929656275,
          41.41160220994475,
          40.50019630938359
         ]
        },
        {
         "mode": "lines+markers",
         "name": "ICT",
         "type": "scatter",
         "x": [
          2016,
          2017,
          2018
         ],
         "y": [
          44.81992717643165,
          42.63604593110335,
          41.317546233649075
         ]
        },
        {
         "mode": "lines+markers",
         "name": "CNY",
         "type": "scatter",
         "x": [
          2016,
          2017,
          2018
         ],
         "y": [
          44.79
         ]
        },
        {
         "mode": "lines+markers",
         "name": "LGA",
         "type": "scatter",
         "x": [
          2016,
          2017,
          2018
         ],
         "y": [
          44.689709326353494,
          43.505819775745735,
          40.53306723017923
         ]
        },
        {
         "mode": "lines+markers",
         "name": "ROC",
         "type": "scatter",
         "x": [
          2016,
          2017,
          2018
         ],
         "y": [
          44.686121919584956,
          43.127288578901485,
          35.18869565217391
         ]
        },
        {
         "mode": "lines+markers",
         "name": "GRR",
         "type": "scatter",
         "x": [
          2016,
          2017,
          2018
         ],
         "y": [
          44.58627387504047,
          40.12410133515919,
          37.253427340383865
         ]
        },
        {
         "mode": "lines+markers",
         "name": "MSO",
         "type": "scatter",
         "x": [
          2016,
          2017,
          2018
         ],
         "y": [
          44.5046875,
          37.1606463878327,
          35.9150521609538
         ]
        },
        {
         "mode": "lines+markers",
         "name": "PIE",
         "type": "scatter",
         "x": [
          2016,
          2017,
          2018
         ],
         "y": [
          44.4331355545413
         ]
        },
        {
         "mode": "lines+markers",
         "name": "BLV",
         "type": "scatter",
         "x": [
          2016,
          2017,
          2018
         ],
         "y": [
          44.153982300884955
         ]
        },
        {
         "mode": "lines+markers",
         "name": "GPT",
         "type": "scatter",
         "x": [
          2016,
          2017,
          2018
         ],
         "y": [
          44.14867256637168,
          43.71900826446281,
          43.015132408575035
         ]
        },
        {
         "mode": "lines+markers",
         "name": "GSP",
         "type": "scatter",
         "x": [
          2016,
          2017,
          2018
         ],
         "y": [
          44.1407960199005,
          42.76797088262057,
          36.842450765864335
         ]
        },
        {
         "mode": "lines+markers",
         "name": "SAV",
         "type": "scatter",
         "x": [
          2016,
          2017,
          2018
         ],
         "y": [
          44.09659613615455,
          41.770718232044196,
          34.918966737438076
         ]
        },
        {
         "mode": "lines+markers",
         "name": "DSM",
         "type": "scatter",
         "x": [
          2016,
          2017,
          2018
         ],
         "y": [
          44.05128205128205,
          40.6589558573854,
          36.72764730119489
         ]
        },
        {
         "mode": "lines+markers",
         "name": "PRC",
         "type": "scatter",
         "x": [
          2016,
          2017,
          2018
         ],
         "y": [
          43.822784810126585
         ]
        },
        {
         "mode": "lines+markers",
         "name": "PHF",
         "type": "scatter",
         "x": [
          2016,
          2017,
          2018
         ],
         "y": [
          43.79654120040692,
          38.25830258302583,
          33.63858695652174
         ]
        },
        {
         "mode": "lines+markers",
         "name": "RIC",
         "type": "scatter",
         "x": [
          2016,
          2017,
          2018
         ],
         "y": [
          43.77333103329308,
          43.69645848289064,
          40.95133952979771
         ]
        },
        {
         "mode": "lines+markers",
         "name": "IDA",
         "type": "scatter",
         "x": [
          2016,
          2017,
          2018
         ],
         "y": [
          43.74193548387097,
          40.47304347826087,
          40.22820037105751
         ]
        },
        {
         "mode": "lines+markers",
         "name": "RFD",
         "type": "scatter",
         "x": [
          2016,
          2017,
          2018
         ],
         "y": [
          43.509803921568626
         ]
        },
        {
         "mode": "lines+markers",
         "name": "HSV",
         "type": "scatter",
         "x": [
          2016,
          2017,
          2018
         ],
         "y": [
          43.450450450450454,
          41.72395184723952,
          37.861139896373054
         ]
        },
        {
         "mode": "lines+markers",
         "name": "JFK",
         "type": "scatter",
         "x": [
          2016,
          2017,
          2018
         ],
         "y": [
          43.29630680352814,
          40.86391797085807,
          35.50718183090053
         ]
        },
        {
         "mode": "lines+markers",
         "name": "GST",
         "type": "scatter",
         "x": [
          2016,
          2017,
          2018
         ],
         "y": [
          43.266666666666666,
          23.178571428571427,
          16
         ]
        },
        {
         "mode": "lines+markers",
         "name": "PBI",
         "type": "scatter",
         "x": [
          2016,
          2017,
          2018
         ],
         "y": [
          42.835305818001,
          41.66796037176999,
          36.50788580555001
         ]
        },
        {
         "mode": "lines+markers",
         "name": "SIT",
         "type": "scatter",
         "x": [
          2016,
          2017,
          2018
         ],
         "y": [
          42.71814671814672,
          37.45967741935484,
          37.42164179104478
         ]
        },
        {
         "mode": "lines+markers",
         "name": "CHS",
         "type": "scatter",
         "x": [
          2016,
          2017,
          2018
         ],
         "y": [
          42.70261508536849,
          38.86436987704918,
          36.5788822437616
         ]
        },
        {
         "mode": "lines+markers",
         "name": "SRQ",
         "type": "scatter",
         "x": [
          2016,
          2017,
          2018
         ],
         "y": [
          42.630434782608695,
          40.31981981981982,
          37.370892018779344
         ]
        },
        {
         "mode": "lines+markers",
         "name": "CMI",
         "type": "scatter",
         "x": [
          2016,
          2017,
          2018
         ],
         "y": [
          42.46422893481717
         ]
        },
        {
         "mode": "lines+markers",
         "name": "SGF",
         "type": "scatter",
         "x": [
          2016,
          2017,
          2018
         ],
         "y": [
          41.926412614980286,
          38.97317073170732,
          35.67270531400966
         ]
        },
        {
         "mode": "lines+markers",
         "name": "ART",
         "type": "scatter",
         "x": [
          2016,
          2017,
          2018
         ],
         "y": [
          41.857142857142854
         ]
        },
        {
         "mode": "lines+markers",
         "name": "BQN",
         "type": "scatter",
         "x": [
          2016,
          2017,
          2018
         ],
         "y": [
          41.75217391304348,
          39.94129763130793,
          33.12094763092269
         ]
        },
        {
         "mode": "lines+markers",
         "name": "STX",
         "type": "scatter",
         "x": [
          2016,
          2017,
          2018
         ],
         "y": [
          41.56842105263158,
          36.68358208955224,
          35.770348837209305
         ]
        },
        {
         "mode": "lines+markers",
         "name": "OGS",
         "type": "scatter",
         "x": [
          2016,
          2017,
          2018
         ],
         "y": [
          41.24561403508772
         ]
        },
        {
         "mode": "lines+markers",
         "name": "HGR",
         "type": "scatter",
         "x": [
          2016,
          2017,
          2018
         ],
         "y": [
          41.197916666666664
         ]
        },
        {
         "mode": "lines+markers",
         "name": "PIH",
         "type": "scatter",
         "x": [
          2016,
          2017,
          2018
         ],
         "y": [
          41.07692307692308,
          37.006410256410255,
          26.897435897435898
         ]
        },
        {
         "mode": "lines+markers",
         "name": "PSG",
         "type": "scatter",
         "x": [
          2016,
          2017,
          2018
         ],
         "y": [
          40.73376623376623,
          29.50657894736842,
          28.863636363636363
         ]
        },
        {
         "mode": "lines+markers",
         "name": "BUF",
         "type": "scatter",
         "x": [
          2016,
          2017,
          2018
         ],
         "y": [
          40.68781902552204,
          35.77106227106227,
          32.75690419365837
         ]
        },
        {
         "mode": "lines+markers",
         "name": "DAB",
         "type": "scatter",
         "x": [
          2016,
          2017,
          2018
         ],
         "y": [
          40.00164744645799,
          38.21516754850088,
          36.4240614334471
         ]
        },
        {
         "mode": "lines+markers",
         "name": "ECP",
         "type": "scatter",
         "x": [
          2016,
          2017,
          2018
         ],
         "y": [
          39.78517316017316,
          33.1769340974212,
          31.502533783783782
         ]
        },
        {
         "mode": "lines+markers",
         "name": "JAX",
         "type": "scatter",
         "x": [
          2016,
          2017,
          2018
         ],
         "y": [
          39.549293254607264,
          38.34637982464069,
          33.521093486331424
         ]
        },
        {
         "mode": "lines+markers",
         "name": "TLH",
         "type": "scatter",
         "x": [
          2016,
          2017,
          2018
         ],
         "y": [
          39.54612546125461,
          36.73071528751753,
          34.645345813832556
         ]
        },
        {
         "mode": "lines+markers",
         "name": "CRP",
         "type": "scatter",
         "x": [
          2016,
          2017,
          2018
         ],
         "y": [
          39.3765903307888,
          35.783892617449666,
          31.32331902718169
         ]
        },
        {
         "mode": "lines+markers",
         "name": "CVG",
         "type": "scatter",
         "x": [
          2016,
          2017,
          2018
         ],
         "y": [
          39.14096734187681,
          37.61518003273322,
          37.173427672955974
         ]
        },
        {
         "mode": "lines+markers",
         "name": "WRG",
         "type": "scatter",
         "x": [
          2016,
          2017,
          2018
         ],
         "y": [
          39.052287581699346,
          39.01315789473684,
          28.479166666666668
         ]
        },
        {
         "mode": "lines+markers",
         "name": "ORD",
         "type": "scatter",
         "x": [
          2016,
          2017,
          2018
         ],
         "y": [
          38.92224728993562,
          37.45406781878756,
          34.5931868719955
         ]
        },
        {
         "mode": "lines+markers",
         "name": "YAK",
         "type": "scatter",
         "x": [
          2016,
          2017,
          2018
         ],
         "y": [
          38.72027972027972,
          27.37864077669903,
          25.17241379310345
         ]
        },
        {
         "mode": "lines+markers",
         "name": "CLE",
         "type": "scatter",
         "x": [
          2016,
          2017,
          2018
         ],
         "y": [
          38.711197388158475,
          37.953277458093574,
          35.174343776460624
         ]
        },
        {
         "mode": "lines+markers",
         "name": "RSW",
         "type": "scatter",
         "x": [
          2016,
          2017,
          2018
         ],
         "y": [
          38.58842905405405,
          37.55885758394442,
          36.06220762416642
         ]
        },
        {
         "mode": "lines+markers",
         "name": "SFO",
         "type": "scatter",
         "x": [
          2016,
          2017,
          2018
         ],
         "y": [
          37.97253673493768,
          35.805024862601414,
          32.910578100920695
         ]
        },
        {
         "mode": "lines+markers",
         "name": "DCA",
         "type": "scatter",
         "x": [
          2016,
          2017,
          2018
         ],
         "y": [
          37.936653504861376,
          34.68681770160817,
          31.178631849944832
         ]
        },
        {
         "mode": "lines+markers",
         "name": "YUM",
         "type": "scatter",
         "x": [
          2016,
          2017,
          2018
         ],
         "y": [
          37.92675159235669,
          30.746305418719214,
          24.88013698630137
         ]
        },
        {
         "mode": "lines+markers",
         "name": "MLB",
         "type": "scatter",
         "x": [
          2016,
          2017,
          2018
         ],
         "y": [
          37.90816326530612,
          35.64354838709677,
          32.50222222222222
         ]
        },
        {
         "mode": "lines+markers",
         "name": "DBQ",
         "type": "scatter",
         "x": [
          2016,
          2017,
          2018
         ],
         "y": [
          37.89655172413793
         ]
        },
        {
         "mode": "lines+markers",
         "name": "BOS",
         "type": "scatter",
         "x": [
          2016,
          2017,
          2018
         ],
         "y": [
          37.88333268323127,
          37.645495884227294,
          29.40593660638769
         ]
        },
        {
         "mode": "lines+markers",
         "name": "SDF",
         "type": "scatter",
         "x": [
          2016,
          2017,
          2018
         ],
         "y": [
          37.86349509921109,
          34.79994364609749,
          31.07550744248985
         ]
        },
        {
         "mode": "lines+markers",
         "name": "RDU",
         "type": "scatter",
         "x": [
          2016,
          2017,
          2018
         ],
         "y": [
          37.85504093659772,
          30.77379146606872,
          27.467146348085798
         ]
        },
        {
         "mode": "lines+markers",
         "name": "LBB",
         "type": "scatter",
         "x": [
          2016,
          2017,
          2018
         ],
         "y": [
          37.725890736342045,
          34.51365187713311,
          32.678676470588236
         ]
        },
        {
         "mode": "lines+markers",
         "name": "CYS",
         "type": "scatter",
         "x": [
          2016,
          2017,
          2018
         ],
         "y": [
          37.705882352941174
         ]
        },
        {
         "mode": "lines+markers",
         "name": "SJU",
         "type": "scatter",
         "x": [
          2016,
          2017,
          2018
         ],
         "y": [
          37.33400537634409,
          35.41141171684296,
          30.698549323017406
         ]
        },
        {
         "mode": "lines+markers",
         "name": "PNS",
         "type": "scatter",
         "x": [
          2016,
          2017,
          2018
         ],
         "y": [
          37.30748258103605,
          34.76499690785405,
          33.78687415426252
         ]
        },
        {
         "mode": "lines+markers",
         "name": "ADK",
         "type": "scatter",
         "x": [
          2016,
          2017,
          2018
         ],
         "y": [
          37.20454545454545,
          21.65909090909091,
          18.627906976744185
         ]
        },
        {
         "mode": "lines+markers",
         "name": "AMA",
         "type": "scatter",
         "x": [
          2016,
          2017,
          2018
         ],
         "y": [
          37.1181592039801,
          31.337871287128714,
          28.26606683804627
         ]
        },
        {
         "mode": "lines+markers",
         "name": "MAF",
         "type": "scatter",
         "x": [
          2016,
          2017,
          2018
         ],
         "y": [
          37.10960713106636,
          36.4340859431901,
          31.70984455958549
         ]
        },
        {
         "mode": "lines+markers",
         "name": "LGB",
         "type": "scatter",
         "x": [
          2016,
          2017,
          2018
         ],
         "y": [
          37.022036609205614,
          34.098471561012275,
          31.18336483931947
         ]
        },
        {
         "mode": "lines+markers",
         "name": "BOI",
         "type": "scatter",
         "x": [
          2016,
          2017,
          2018
         ],
         "y": [
          36.789625360230545,
          36.45491509208323,
          34.05513341579785
         ]
        },
        {
         "mode": "lines+markers",
         "name": "SCC",
         "type": "scatter",
         "x": [
          2016,
          2017,
          2018
         ],
         "y": [
          36.778625954198475,
          36.065693430656935,
          24.677685950413224
         ]
        },
        {
         "mode": "lines+markers",
         "name": "PHL",
         "type": "scatter",
         "x": [
          2016,
          2017,
          2018
         ],
         "y": [
          36.573087923844454,
          32.49182816195418,
          31.082630754308738
         ]
        },
        {
         "mode": "lines+markers",
         "name": "MIA",
         "type": "scatter",
         "x": [
          2016,
          2017,
          2018
         ],
         "y": [
          36.53792617390538,
          35.697647358277884,
          34.39741029440186
         ]
        },
        {
         "mode": "lines+markers",
         "name": "FLL",
         "type": "scatter",
         "x": [
          2016,
          2017,
          2018
         ],
         "y": [
          36.53322616545072,
          34.669553380741156,
          32.294486862484035
         ]
        },
        {
         "mode": "lines+markers",
         "name": "IAH",
         "type": "scatter",
         "x": [
          2016,
          2017,
          2018
         ],
         "y": [
          36.515665892587265,
          33.74603596635406,
          30.62960815016722
         ]
        },
        {
         "mode": "lines+markers",
         "name": "DTW",
         "type": "scatter",
         "x": [
          2016,
          2017,
          2018
         ],
         "y": [
          36.50134682500644,
          35.73258958755916,
          34.19820798918031
         ]
        },
        {
         "mode": "lines+markers",
         "name": "BHM",
         "type": "scatter",
         "x": [
          2016,
          2017,
          2018
         ],
         "y": [
          36.12688729601952,
          34.37629779691061,
          32.7430724355858
         ]
        },
        {
         "mode": "lines+markers",
         "name": "DFW",
         "type": "scatter",
         "x": [
          2016,
          2017,
          2018
         ],
         "y": [
          36.06211340665609,
          33.69339998734417,
          32.31613985936395
         ]
        },
        {
         "mode": "lines+markers",
         "name": "MCO",
         "type": "scatter",
         "x": [
          2016,
          2017,
          2018
         ],
         "y": [
          35.982470784641066,
          33.85761451310211,
          31.379034577987458
         ]
        },
        {
         "mode": "lines+markers",
         "name": "DRT",
         "type": "scatter",
         "x": [
          2016,
          2017,
          2018
         ],
         "y": [
          35.94444444444444
         ]
        },
        {
         "mode": "lines+markers",
         "name": "CMH",
         "type": "scatter",
         "x": [
          2016,
          2017,
          2018
         ],
         "y": [
          35.8811377245509,
          31.46984270680095,
          28.36859182349124
         ]
        },
        {
         "mode": "lines+markers",
         "name": "IND",
         "type": "scatter",
         "x": [
          2016,
          2017,
          2018
         ],
         "y": [
          35.54084101382489,
          29.51935941617677,
          29.304592901878916
         ]
        },
        {
         "mode": "lines+markers",
         "name": "MEM",
         "type": "scatter",
         "x": [
          2016,
          2017,
          2018
         ],
         "y": [
          35.51968503937008,
          34.41915195780077,
          31.665221162185603
         ]
        },
        {
         "mode": "lines+markers",
         "name": "SPN",
         "type": "scatter",
         "x": [
          2016,
          2017,
          2018
         ],
         "y": [
          35.33695652173913,
          24
         ]
        },
        {
         "mode": "lines+markers",
         "name": "PIT",
         "type": "scatter",
         "x": [
          2016,
          2017,
          2018
         ],
         "y": [
          35.13589088870897,
          28.575830625720574,
          26.614831076960606
         ]
        },
        {
         "mode": "lines+markers",
         "name": "ISP",
         "type": "scatter",
         "x": [
          2016,
          2017,
          2018
         ],
         "y": [
          35.07890961262554,
          29.71762013729977,
          23.6635202665186
         ]
        },
        {
         "mode": "lines+markers",
         "name": "OKC",
         "type": "scatter",
         "x": [
          2016,
          2017,
          2018
         ],
         "y": [
          34.91787130612767,
          29.701747257212514,
          28.879186602870814
         ]
        },
        {
         "mode": "lines+markers",
         "name": "CDV",
         "type": "scatter",
         "x": [
          2016,
          2017,
          2018
         ],
         "y": [
          34.57232704402516,
          27.574626865671643,
          23.658959537572255
         ]
        },
        {
         "mode": "lines+markers",
         "name": "OMA",
         "type": "scatter",
         "x": [
          2016,
          2017,
          2018
         ],
         "y": [
          34.46911032892341,
          33.72289984538739,
          32.822571893651656
         ]
        },
        {
         "mode": "lines+markers",
         "name": "HTS",
         "type": "scatter",
         "x": [
          2016,
          2017,
          2018
         ],
         "y": [
          34.39685658153242
         ]
        },
        {
         "mode": "lines+markers",
         "name": "SCK",
         "type": "scatter",
         "x": [
          2016,
          2017,
          2018
         ],
         "y": [
          34.26086956521739
         ]
        },
        {
         "mode": "lines+markers",
         "name": "PVD",
         "type": "scatter",
         "x": [
          2016,
          2017,
          2018
         ],
         "y": [
          34.21448087431694,
          28.046200840015274,
          25.123398516520567
         ]
        },
        {
         "mode": "lines+markers",
         "name": "MHT",
         "type": "scatter",
         "x": [
          2016,
          2017,
          2018
         ],
         "y": [
          34.20191246781905,
          32.44408774745853,
          31.461068702290078
         ]
        },
        {
         "mode": "lines+markers",
         "name": "FAI",
         "type": "scatter",
         "x": [
          2016,
          2017,
          2018
         ],
         "y": [
          34.07295597484277,
          34.030959752321984,
          28.979130434782608
         ]
        },
        {
         "mode": "lines+markers",
         "name": "HRL",
         "type": "scatter",
         "x": [
          2016,
          2017,
          2018
         ],
         "y": [
          33.922716627634664,
          30.458117890382628,
          27.564912280701755
         ]
        },
        {
         "mode": "lines+markers",
         "name": "MKE",
         "type": "scatter",
         "x": [
          2016,
          2017,
          2018
         ],
         "y": [
          33.820881133712525,
          32.88721618953603,
          31.852283494409704
         ]
        },
        {
         "mode": "lines+markers",
         "name": "BDL",
         "type": "scatter",
         "x": [
          2016,
          2017,
          2018
         ],
         "y": [
          33.78166649710042,
          28.87763769077638,
          26.410653156237164
         ]
        },
        {
         "mode": "lines+markers",
         "name": "ALB",
         "type": "scatter",
         "x": [
          2016,
          2017,
          2018
         ],
         "y": [
          33.51567944250871,
          30.58784893267652,
          26.1492231017297
         ]
        },
        {
         "mode": "lines+markers",
         "name": "TUS",
         "type": "scatter",
         "x": [
          2016,
          2017,
          2018
         ],
         "y": [
          33.41928680981595,
          33.010179967278674,
          32.74288652725403
         ]
        },
        {
         "mode": "lines+markers",
         "name": "TUL",
         "type": "scatter",
         "x": [
          2016,
          2017,
          2018
         ],
         "y": [
          33.406390328151986,
          30.23868215216876,
          30.23387703889586
         ]
        },
        {
         "mode": "lines+markers",
         "name": "KTN",
         "type": "scatter",
         "x": [
          2016,
          2017,
          2018
         ],
         "y": [
          33.36380255941499,
          29.303482587064675,
          28.805135951661633
         ]
        },
        {
         "mode": "lines+markers",
         "name": "JNU",
         "type": "scatter",
         "x": [
          2016,
          2017,
          2018
         ],
         "y": [
          32.8727948003714,
          28.644736842105264,
          28.637476459510356
         ]
        },
        {
         "mode": "lines+markers",
         "name": "ADQ",
         "type": "scatter",
         "x": [
          2016,
          2017,
          2018
         ],
         "y": [
          32.86029411764706,
          24.864077669902912,
          24.664596273291924
         ]
        },
        {
         "mode": "lines+markers",
         "name": "WYS",
         "type": "scatter",
         "x": [
          2016,
          2017,
          2018
         ],
         "y": [
          32.660714285714285,
          15.876106194690266,
          12.186666666666667
         ]
        },
        {
         "mode": "lines+markers",
         "name": "MSP",
         "type": "scatter",
         "x": [
          2016,
          2017,
          2018
         ],
         "y": [
          32.38405441963498,
          31.665074598633343,
          30.962899490504864
         ]
        },
        {
         "mode": "lines+markers",
         "name": "TPA",
         "type": "scatter",
         "x": [
          2016,
          2017,
          2018
         ],
         "y": [
          32.33321762181267,
          31.03683927611539,
          29.891070467993544
         ]
        },
        {
         "mode": "lines+markers",
         "name": "ELP",
         "type": "scatter",
         "x": [
          2016,
          2017,
          2018
         ],
         "y": [
          32.18329938900204,
          27.617946345975948,
          26.368685764268534
         ]
        },
        {
         "mode": "lines+markers",
         "name": "LIT",
         "type": "scatter",
         "x": [
          2016,
          2017,
          2018
         ],
         "y": [
          31.326390478370335,
          30.751223184042153,
          29.51414906337186
         ]
        },
        {
         "mode": "lines+markers",
         "name": "SFB",
         "type": "scatter",
         "x": [
          2016,
          2017,
          2018
         ],
         "y": [
          31.266604521090656
         ]
        },
        {
         "mode": "lines+markers",
         "name": "IFP",
         "type": "scatter",
         "x": [
          2016,
          2017,
          2018
         ],
         "y": [
          31.03875968992248,
          12.1875
         ]
        },
        {
         "mode": "lines+markers",
         "name": "LAX",
         "type": "scatter",
         "x": [
          2016,
          2017,
          2018
         ],
         "y": [
          31.00778440163571,
          28.203415658298717,
          27.84112787223841
         ]
        },
        {
         "mode": "lines+markers",
         "name": "SGU",
         "type": "scatter",
         "x": [
          2016,
          2017,
          2018
         ],
         "y": [
          30.988636363636363,
          27.9428208386277,
          24.419291338582678
         ]
        },
        {
         "mode": "lines+markers",
         "name": "BRW",
         "type": "scatter",
         "x": [
          2016,
          2017,
          2018
         ],
         "y": [
          30.884615384615383,
          27.30327868852459,
          24.524590163934427
         ]
        },
        {
         "mode": "lines+markers",
         "name": "GUM",
         "type": "scatter",
         "x": [
          2016,
          2017,
          2018
         ],
         "y": [
          30.856410256410257,
          27.899159663865547,
          20.894736842105264
         ]
        },
        {
         "mode": "lines+markers",
         "name": "MSY",
         "type": "scatter",
         "x": [
          2016,
          2017,
          2018
         ],
         "y": [
          30.230075250488504,
          30.022986177915044,
          27.45178752007614
         ]
        },
        {
         "mode": "lines+markers",
         "name": "DEN",
         "type": "scatter",
         "x": [
          2016,
          2017,
          2018
         ],
         "y": [
          30.055630896226415,
          27.373932242264452,
          27.332204684580525
         ]
        },
        {
         "mode": "lines+markers",
         "name": "SAT",
         "type": "scatter",
         "x": [
          2016,
          2017,
          2018
         ],
         "y": [
          29.821596244131456,
          26.652657503773735,
          26.555818644216433
         ]
        },
        {
         "mode": "lines+markers",
         "name": "CLT",
         "type": "scatter",
         "x": [
          2016,
          2017,
          2018
         ],
         "y": [
          29.762357717105786,
          27.71525359486414,
          27.311374776673233
         ]
        },
        {
         "mode": "lines+markers",
         "name": "SLC",
         "type": "scatter",
         "x": [
          2016,
          2017,
          2018
         ],
         "y": [
          29.743352917065174,
          26.435980551053486,
          26.12004299700764
         ]
        },
        {
         "mode": "lines+markers",
         "name": "RNO",
         "type": "scatter",
         "x": [
          2016,
          2017,
          2018
         ],
         "y": [
          29.711672942442174,
          28.41093238010128,
          27.296850800206506
         ]
        },
        {
         "mode": "lines+markers",
         "name": "FLO",
         "type": "scatter",
         "x": [
          2016,
          2017,
          2018
         ],
         "y": [
          29.476744186046513
         ]
        },
        {
         "mode": "lines+markers",
         "name": "AUS",
         "type": "scatter",
         "x": [
          2016,
          2017,
          2018
         ],
         "y": [
          29.402776724072528,
          27.31667264895908,
          25.54658003785747
         ]
        },
        {
         "mode": "lines+markers",
         "name": "BNA",
         "type": "scatter",
         "x": [
          2016,
          2017,
          2018
         ],
         "y": [
          29.3034774684735,
          27.403464127401083,
          26.882162811100336
         ]
        },
        {
         "mode": "lines+markers",
         "name": "OGD",
         "type": "scatter",
         "x": [
          2016,
          2017,
          2018
         ],
         "y": [
          28.820224719101123
         ]
        },
        {
         "mode": "lines+markers",
         "name": "GEG",
         "type": "scatter",
         "x": [
          2016,
          2017,
          2018
         ],
         "y": [
          28.810367627611743,
          27.469760900140646,
          27.205330432417732
         ]
        },
        {
         "mode": "lines+markers",
         "name": "ATL",
         "type": "scatter",
         "x": [
          2016,
          2017,
          2018
         ],
         "y": [
          28.36187959529132,
          27.00750498144635,
          25.335904676630623
         ]
        },
        {
         "mode": "lines+markers",
         "name": "MCI",
         "type": "scatter",
         "x": [
          2016,
          2017,
          2018
         ],
         "y": [
          28.046013601504846,
          26.946310872208358,
          26.626503913094265
         ]
        },
        {
         "mode": "lines+markers",
         "name": "ONT",
         "type": "scatter",
         "x": [
          2016,
          2017,
          2018
         ],
         "y": [
          27.94785407725322,
          25.425014889815365,
          24.40349354453727
         ]
        },
        {
         "mode": "lines+markers",
         "name": "CDC",
         "type": "scatter",
         "x": [
          2016,
          2017,
          2018
         ],
         "y": [
          27.86,
          25.639423076923077,
          24.950310559006212
         ]
        },
        {
         "mode": "lines+markers",
         "name": "ABQ",
         "type": "scatter",
         "x": [
          2016,
          2017,
          2018
         ],
         "y": [
          27.760127401214294,
          25.91356771163853,
          25.18471819442693
         ]
        },
        {
         "mode": "lines+markers",
         "name": "ANC",
         "type": "scatter",
         "x": [
          2016,
          2017,
          2018
         ],
         "y": [
          27.363659210856998,
          25.997506234413965,
          23.09206586826347
         ]
        },
        {
         "mode": "lines+markers",
         "name": "LAS",
         "type": "scatter",
         "x": [
          2016,
          2017,
          2018
         ],
         "y": [
          27.17937835647671,
          26.812431555197847,
          26.234628806884277
         ]
        },
        {
         "mode": "lines+markers",
         "name": "BWI",
         "type": "scatter",
         "x": [
          2016,
          2017,
          2018
         ],
         "y": [
          27.175572224686167,
          25.07532343492229,
          23.917806979847555
         ]
        },
        {
         "mode": "lines+markers",
         "name": "SAN",
         "type": "scatter",
         "x": [
          2016,
          2017,
          2018
         ],
         "y": [
          27.06318024953544,
          26.262485175912506,
          24.467731329262566
         ]
        },
        {
         "mode": "lines+markers",
         "name": "PDX",
         "type": "scatter",
         "x": [
          2016,
          2017,
          2018
         ],
         "y": [
          26.81361568078404,
          24.380614104781046,
          24.218151658767773
         ]
        },
        {
         "mode": "lines+markers",
         "name": "BUR",
         "type": "scatter",
         "x": [
          2016,
          2017,
          2018
         ],
         "y": [
          26.014129995962858,
          25.93287647162186,
          25.584367389539604
         ]
        },
        {
         "mode": "lines+markers",
         "name": "PHX",
         "type": "scatter",
         "x": [
          2016,
          2017,
          2018
         ],
         "y": [
          25.966855483686988,
          23.902916615872243,
          23.121433466234738
         ]
        },
        {
         "mode": "lines+markers",
         "name": "LIH",
         "type": "scatter",
         "x": [
          2016,
          2017,
          2018
         ],
         "y": [
          25.81690914081801,
          24.986432561851558,
          20.0140476968311
         ]
        },
        {
         "mode": "lines+markers",
         "name": "SEA",
         "type": "scatter",
         "x": [
          2016,
          2017,
          2018
         ],
         "y": [
          25.61968492179042,
          24.918554136343385,
          22.754631551891176
         ]
        },
        {
         "mode": "lines+markers",
         "name": "SNA",
         "type": "scatter",
         "x": [
          2016,
          2017,
          2018
         ],
         "y": [
          25.541799963783426,
          25.504203142211143,
          21.826101249178173
         ]
        },
        {
         "mode": "lines+markers",
         "name": "OTZ",
         "type": "scatter",
         "x": [
          2016,
          2017,
          2018
         ],
         "y": [
          25.505102040816325,
          21.95212765957447,
          20.416666666666668
         ]
        },
        {
         "mode": "lines+markers",
         "name": "AKN",
         "type": "scatter",
         "x": [
          2016,
          2017,
          2018
         ],
         "y": [
          25.38888888888889,
          15.689655172413794,
          10
         ]
        },
        {
         "mode": "lines+markers",
         "name": "STL",
         "type": "scatter",
         "x": [
          2016,
          2017,
          2018
         ],
         "y": [
          25.157951002227172,
          25.138163403644484,
          24.934072565437127
         ]
        },
        {
         "mode": "lines+markers",
         "name": "AZA",
         "type": "scatter",
         "x": [
          2016,
          2017,
          2018
         ],
         "y": [
          24.811498973305955
         ]
        },
        {
         "mode": "lines+markers",
         "name": "KOA",
         "type": "scatter",
         "x": [
          2016,
          2017,
          2018
         ],
         "y": [
          24.689379310344826,
          24.26331288343558,
          20.276387096774194
         ]
        },
        {
         "mode": "lines+markers",
         "name": "BET",
         "type": "scatter",
         "x": [
          2016,
          2017,
          2018
         ],
         "y": [
          24.547486033519554,
          21.698979591836736,
          17.433823529411764
         ]
        },
        {
         "mode": "lines+markers",
         "name": "SMF",
         "type": "scatter",
         "x": [
          2016,
          2017,
          2018
         ],
         "y": [
          24.522745411013567,
          23.007613408057523,
          22.35852812085332
         ]
        },
        {
         "mode": "lines+markers",
         "name": "SJC",
         "type": "scatter",
         "x": [
          2016,
          2017,
          2018
         ],
         "y": [
          24.51992110453649,
          23.943160878809355,
          22.635361481243645
         ]
        },
        {
         "mode": "lines+markers",
         "name": "DAL",
         "type": "scatter",
         "x": [
          2016,
          2017,
          2018
         ],
         "y": [
          23.7510584435424,
          21.49907083383613,
          21.279844211516846
         ]
        },
        {
         "mode": "lines+markers",
         "name": "MDW",
         "type": "scatter",
         "x": [
          2016,
          2017,
          2018
         ],
         "y": [
          23.707029889221765,
          22.670938741375707,
          20.50650205039363
         ]
        },
        {
         "mode": "lines+markers",
         "name": "DLG",
         "type": "scatter",
         "x": [
          2016,
          2017,
          2018
         ],
         "y": [
          23.565217391304348,
          19.1875,
          15.714285714285714
         ]
        },
        {
         "mode": "lines+markers",
         "name": "OGG",
         "type": "scatter",
         "x": [
          2016,
          2017,
          2018
         ],
         "y": [
          22.630266343825667,
          20.9343518739556,
          20.85773428678961
         ]
        },
        {
         "mode": "lines+markers",
         "name": "HOU",
         "type": "scatter",
         "x": [
          2016,
          2017,
          2018
         ],
         "y": [
          22.476722326661505,
          21.421410971339643,
          21.069323968393327
         ]
        },
        {
         "mode": "lines+markers",
         "name": "OME",
         "type": "scatter",
         "x": [
          2016,
          2017,
          2018
         ],
         "y": [
          22.11891891891892,
          20.036082474226806,
          19.313253012048193
         ]
        },
        {
         "mode": "lines+markers",
         "name": "OAK",
         "type": "scatter",
         "x": [
          2016,
          2017,
          2018
         ],
         "y": [
          20.938353906450313,
          20.572761542193856,
          19.70533888976254
         ]
        },
        {
         "mode": "lines+markers",
         "name": "HNL",
         "type": "scatter",
         "x": [
          2016,
          2017,
          2018
         ],
         "y": [
          19.950304584802822,
          19.924059718633362,
          17.194619616261907
         ]
        },
        {
         "mode": "lines+markers",
         "name": "ITO",
         "type": "scatter",
         "x": [
          2016,
          2017,
          2018
         ],
         "y": [
          15.237196765498652,
          14.058174523570711,
          13.372489348752282
         ]
        },
        {
         "mode": "lines+markers",
         "name": "EFD",
         "type": "scatter",
         "x": [
          2016,
          2017,
          2018
         ],
         "y": [
          7
         ]
        }
       ],
       "layout": {
        "height": 650,
        "template": {
         "data": {
          "bar": [
           {
            "error_x": {
             "color": "#2a3f5f"
            },
            "error_y": {
             "color": "#2a3f5f"
            },
            "marker": {
             "line": {
              "color": "#E5ECF6",
              "width": 0.5
             }
            },
            "type": "bar"
           }
          ],
          "barpolar": [
           {
            "marker": {
             "line": {
              "color": "#E5ECF6",
              "width": 0.5
             }
            },
            "type": "barpolar"
           }
          ],
          "carpet": [
           {
            "aaxis": {
             "endlinecolor": "#2a3f5f",
             "gridcolor": "white",
             "linecolor": "white",
             "minorgridcolor": "white",
             "startlinecolor": "#2a3f5f"
            },
            "baxis": {
             "endlinecolor": "#2a3f5f",
             "gridcolor": "white",
             "linecolor": "white",
             "minorgridcolor": "white",
             "startlinecolor": "#2a3f5f"
            },
            "type": "carpet"
           }
          ],
          "choropleth": [
           {
            "colorbar": {
             "outlinewidth": 0,
             "ticks": ""
            },
            "type": "choropleth"
           }
          ],
          "contour": [
           {
            "colorbar": {
             "outlinewidth": 0,
             "ticks": ""
            },
            "colorscale": [
             [
              0,
              "#0d0887"
             ],
             [
              0.1111111111111111,
              "#46039f"
             ],
             [
              0.2222222222222222,
              "#7201a8"
             ],
             [
              0.3333333333333333,
              "#9c179e"
             ],
             [
              0.4444444444444444,
              "#bd3786"
             ],
             [
              0.5555555555555556,
              "#d8576b"
             ],
             [
              0.6666666666666666,
              "#ed7953"
             ],
             [
              0.7777777777777778,
              "#fb9f3a"
             ],
             [
              0.8888888888888888,
              "#fdca26"
             ],
             [
              1,
              "#f0f921"
             ]
            ],
            "type": "contour"
           }
          ],
          "contourcarpet": [
           {
            "colorbar": {
             "outlinewidth": 0,
             "ticks": ""
            },
            "type": "contourcarpet"
           }
          ],
          "heatmap": [
           {
            "colorbar": {
             "outlinewidth": 0,
             "ticks": ""
            },
            "colorscale": [
             [
              0,
              "#0d0887"
             ],
             [
              0.1111111111111111,
              "#46039f"
             ],
             [
              0.2222222222222222,
              "#7201a8"
             ],
             [
              0.3333333333333333,
              "#9c179e"
             ],
             [
              0.4444444444444444,
              "#bd3786"
             ],
             [
              0.5555555555555556,
              "#d8576b"
             ],
             [
              0.6666666666666666,
              "#ed7953"
             ],
             [
              0.7777777777777778,
              "#fb9f3a"
             ],
             [
              0.8888888888888888,
              "#fdca26"
             ],
             [
              1,
              "#f0f921"
             ]
            ],
            "type": "heatmap"
           }
          ],
          "heatmapgl": [
           {
            "colorbar": {
             "outlinewidth": 0,
             "ticks": ""
            },
            "colorscale": [
             [
              0,
              "#0d0887"
             ],
             [
              0.1111111111111111,
              "#46039f"
             ],
             [
              0.2222222222222222,
              "#7201a8"
             ],
             [
              0.3333333333333333,
              "#9c179e"
             ],
             [
              0.4444444444444444,
              "#bd3786"
             ],
             [
              0.5555555555555556,
              "#d8576b"
             ],
             [
              0.6666666666666666,
              "#ed7953"
             ],
             [
              0.7777777777777778,
              "#fb9f3a"
             ],
             [
              0.8888888888888888,
              "#fdca26"
             ],
             [
              1,
              "#f0f921"
             ]
            ],
            "type": "heatmapgl"
           }
          ],
          "histogram": [
           {
            "marker": {
             "colorbar": {
              "outlinewidth": 0,
              "ticks": ""
             }
            },
            "type": "histogram"
           }
          ],
          "histogram2d": [
           {
            "colorbar": {
             "outlinewidth": 0,
             "ticks": ""
            },
            "colorscale": [
             [
              0,
              "#0d0887"
             ],
             [
              0.1111111111111111,
              "#46039f"
             ],
             [
              0.2222222222222222,
              "#7201a8"
             ],
             [
              0.3333333333333333,
              "#9c179e"
             ],
             [
              0.4444444444444444,
              "#bd3786"
             ],
             [
              0.5555555555555556,
              "#d8576b"
             ],
             [
              0.6666666666666666,
              "#ed7953"
             ],
             [
              0.7777777777777778,
              "#fb9f3a"
             ],
             [
              0.8888888888888888,
              "#fdca26"
             ],
             [
              1,
              "#f0f921"
             ]
            ],
            "type": "histogram2d"
           }
          ],
          "histogram2dcontour": [
           {
            "colorbar": {
             "outlinewidth": 0,
             "ticks": ""
            },
            "colorscale": [
             [
              0,
              "#0d0887"
             ],
             [
              0.1111111111111111,
              "#46039f"
             ],
             [
              0.2222222222222222,
              "#7201a8"
             ],
             [
              0.3333333333333333,
              "#9c179e"
             ],
             [
              0.4444444444444444,
              "#bd3786"
             ],
             [
              0.5555555555555556,
              "#d8576b"
             ],
             [
              0.6666666666666666,
              "#ed7953"
             ],
             [
              0.7777777777777778,
              "#fb9f3a"
             ],
             [
              0.8888888888888888,
              "#fdca26"
             ],
             [
              1,
              "#f0f921"
             ]
            ],
            "type": "histogram2dcontour"
           }
          ],
          "mesh3d": [
           {
            "colorbar": {
             "outlinewidth": 0,
             "ticks": ""
            },
            "type": "mesh3d"
           }
          ],
          "parcoords": [
           {
            "line": {
             "colorbar": {
              "outlinewidth": 0,
              "ticks": ""
             }
            },
            "type": "parcoords"
           }
          ],
          "pie": [
           {
            "automargin": true,
            "type": "pie"
           }
          ],
          "scatter": [
           {
            "marker": {
             "colorbar": {
              "outlinewidth": 0,
              "ticks": ""
             }
            },
            "type": "scatter"
           }
          ],
          "scatter3d": [
           {
            "line": {
             "colorbar": {
              "outlinewidth": 0,
              "ticks": ""
             }
            },
            "marker": {
             "colorbar": {
              "outlinewidth": 0,
              "ticks": ""
             }
            },
            "type": "scatter3d"
           }
          ],
          "scattercarpet": [
           {
            "marker": {
             "colorbar": {
              "outlinewidth": 0,
              "ticks": ""
             }
            },
            "type": "scattercarpet"
           }
          ],
          "scattergeo": [
           {
            "marker": {
             "colorbar": {
              "outlinewidth": 0,
              "ticks": ""
             }
            },
            "type": "scattergeo"
           }
          ],
          "scattergl": [
           {
            "marker": {
             "colorbar": {
              "outlinewidth": 0,
              "ticks": ""
             }
            },
            "type": "scattergl"
           }
          ],
          "scattermapbox": [
           {
            "marker": {
             "colorbar": {
              "outlinewidth": 0,
              "ticks": ""
             }
            },
            "type": "scattermapbox"
           }
          ],
          "scatterpolar": [
           {
            "marker": {
             "colorbar": {
              "outlinewidth": 0,
              "ticks": ""
             }
            },
            "type": "scatterpolar"
           }
          ],
          "scatterpolargl": [
           {
            "marker": {
             "colorbar": {
              "outlinewidth": 0,
              "ticks": ""
             }
            },
            "type": "scatterpolargl"
           }
          ],
          "scatterternary": [
           {
            "marker": {
             "colorbar": {
              "outlinewidth": 0,
              "ticks": ""
             }
            },
            "type": "scatterternary"
           }
          ],
          "surface": [
           {
            "colorbar": {
             "outlinewidth": 0,
             "ticks": ""
            },
            "colorscale": [
             [
              0,
              "#0d0887"
             ],
             [
              0.1111111111111111,
              "#46039f"
             ],
             [
              0.2222222222222222,
              "#7201a8"
             ],
             [
              0.3333333333333333,
              "#9c179e"
             ],
             [
              0.4444444444444444,
              "#bd3786"
             ],
             [
              0.5555555555555556,
              "#d8576b"
             ],
             [
              0.6666666666666666,
              "#ed7953"
             ],
             [
              0.7777777777777778,
              "#fb9f3a"
             ],
             [
              0.8888888888888888,
              "#fdca26"
             ],
             [
              1,
              "#f0f921"
             ]
            ],
            "type": "surface"
           }
          ],
          "table": [
           {
            "cells": {
             "fill": {
              "color": "#EBF0F8"
             },
             "line": {
              "color": "white"
             }
            },
            "header": {
             "fill": {
              "color": "#C8D4E3"
             },
             "line": {
              "color": "white"
             }
            },
            "type": "table"
           }
          ]
         },
         "layout": {
          "annotationdefaults": {
           "arrowcolor": "#2a3f5f",
           "arrowhead": 0,
           "arrowwidth": 1
          },
          "autotypenumbers": "strict",
          "coloraxis": {
           "colorbar": {
            "outlinewidth": 0,
            "ticks": ""
           }
          },
          "colorscale": {
           "diverging": [
            [
             0,
             "#8e0152"
            ],
            [
             0.1,
             "#c51b7d"
            ],
            [
             0.2,
             "#de77ae"
            ],
            [
             0.3,
             "#f1b6da"
            ],
            [
             0.4,
             "#fde0ef"
            ],
            [
             0.5,
             "#f7f7f7"
            ],
            [
             0.6,
             "#e6f5d0"
            ],
            [
             0.7,
             "#b8e186"
            ],
            [
             0.8,
             "#7fbc41"
            ],
            [
             0.9,
             "#4d9221"
            ],
            [
             1,
             "#276419"
            ]
           ],
           "sequential": [
            [
             0,
             "#0d0887"
            ],
            [
             0.1111111111111111,
             "#46039f"
            ],
            [
             0.2222222222222222,
             "#7201a8"
            ],
            [
             0.3333333333333333,
             "#9c179e"
            ],
            [
             0.4444444444444444,
             "#bd3786"
            ],
            [
             0.5555555555555556,
             "#d8576b"
            ],
            [
             0.6666666666666666,
             "#ed7953"
            ],
            [
             0.7777777777777778,
             "#fb9f3a"
            ],
            [
             0.8888888888888888,
             "#fdca26"
            ],
            [
             1,
             "#f0f921"
            ]
           ],
           "sequentialminus": [
            [
             0,
             "#0d0887"
            ],
            [
             0.1111111111111111,
             "#46039f"
            ],
            [
             0.2222222222222222,
             "#7201a8"
            ],
            [
             0.3333333333333333,
             "#9c179e"
            ],
            [
             0.4444444444444444,
             "#bd3786"
            ],
            [
             0.5555555555555556,
             "#d8576b"
            ],
            [
             0.6666666666666666,
             "#ed7953"
            ],
            [
             0.7777777777777778,
             "#fb9f3a"
            ],
            [
             0.8888888888888888,
             "#fdca26"
            ],
            [
             1,
             "#f0f921"
            ]
           ]
          },
          "colorway": [
           "#636efa",
           "#EF553B",
           "#00cc96",
           "#ab63fa",
           "#FFA15A",
           "#19d3f3",
           "#FF6692",
           "#B6E880",
           "#FF97FF",
           "#FECB52"
          ],
          "font": {
           "color": "#2a3f5f"
          },
          "geo": {
           "bgcolor": "white",
           "lakecolor": "white",
           "landcolor": "#E5ECF6",
           "showlakes": true,
           "showland": true,
           "subunitcolor": "white"
          },
          "hoverlabel": {
           "align": "left"
          },
          "hovermode": "closest",
          "mapbox": {
           "style": "light"
          },
          "paper_bgcolor": "white",
          "plot_bgcolor": "#E5ECF6",
          "polar": {
           "angularaxis": {
            "gridcolor": "white",
            "linecolor": "white",
            "ticks": ""
           },
           "bgcolor": "#E5ECF6",
           "radialaxis": {
            "gridcolor": "white",
            "linecolor": "white",
            "ticks": ""
           }
          },
          "scene": {
           "xaxis": {
            "backgroundcolor": "#E5ECF6",
            "gridcolor": "white",
            "gridwidth": 2,
            "linecolor": "white",
            "showbackground": true,
            "ticks": "",
            "zerolinecolor": "white"
           },
           "yaxis": {
            "backgroundcolor": "#E5ECF6",
            "gridcolor": "white",
            "gridwidth": 2,
            "linecolor": "white",
            "showbackground": true,
            "ticks": "",
            "zerolinecolor": "white"
           },
           "zaxis": {
            "backgroundcolor": "#E5ECF6",
            "gridcolor": "white",
            "gridwidth": 2,
            "linecolor": "white",
            "showbackground": true,
            "ticks": "",
            "zerolinecolor": "white"
           }
          },
          "shapedefaults": {
           "line": {
            "color": "#2a3f5f"
           }
          },
          "ternary": {
           "aaxis": {
            "gridcolor": "white",
            "linecolor": "white",
            "ticks": ""
           },
           "baxis": {
            "gridcolor": "white",
            "linecolor": "white",
            "ticks": ""
           },
           "bgcolor": "#E5ECF6",
           "caxis": {
            "gridcolor": "white",
            "linecolor": "white",
            "ticks": ""
           }
          },
          "title": {
           "x": 0.05
          },
          "xaxis": {
           "automargin": true,
           "gridcolor": "white",
           "linecolor": "white",
           "ticks": "",
           "title": {
            "standoff": 15
           },
           "zerolinecolor": "white",
           "zerolinewidth": 2
          },
          "yaxis": {
           "automargin": true,
           "gridcolor": "white",
           "linecolor": "white",
           "ticks": "",
           "title": {
            "standoff": 15
           },
           "zerolinecolor": "white",
           "zerolinewidth": 2
          }
         }
        },
        "title": {
         "text": "Evolution of AVERAGE DEPARTURE DELAY PER DEPARTURE LOCATION IN EACH YEAR"
        },
        "width": 900,
        "xaxis": {
         "tickformat": "d",
         "title": {
          "text": "Year"
         },
         "zeroline": false
        },
        "yaxis": {
         "tickformat": "d",
         "title": {
          "text": "Flight Delay (Minutes)"
         }
        }
       }
      }
     },
     "metadata": {},
     "output_type": "display_data"
    }
   ],
   "source": [
    "traces = []\n",
    "changePerCarrierMap = dict()\n",
    "years = []\n",
    "\n",
    "for i in range(len(averageDelayPerDepartureLocationEachYear.toPandas()['Year'])):\n",
    "    if not averageDelayPerDepartureLocationEachYear.toPandas()['Year'][i] in years:\n",
    "        years.append(averageDelayPerDepartureLocationEachYear.toPandas()['Year'][i])\n",
    "\n",
    "years.sort()\n",
    "        \n",
    "for i in range(len(averageDelayPerDepartureLocationEachYear.toPandas()['ORIGIN'])):\n",
    "    if not averageDelayPerDepartureLocationEachYear.toPandas()['ORIGIN'][i] in changePerCarrierMap:\n",
    "        changePerCarrierMap[averageDelayPerDepartureLocationEachYear.toPandas()['ORIGIN'][i]] = []\n",
    "        \n",
    "    changePerCarrierMap[averageDelayPerDepartureLocationEachYear.toPandas()['ORIGIN'][i]].append(averageDelayPerDepartureLocationEachYear.toPandas()['AverageDelayPerOrigin'][i])\n",
    "    \n",
    "for key in changePerCarrierMap:\n",
    "    traces.append(go.Scatter(\n",
    "        y = changePerCarrierMap[key],\n",
    "        x = years,\n",
    "        mode = 'lines+markers',\n",
    "        name = key))\n",
    "                  \n",
    "layout = dict(title = 'Evolution of AVERAGE DEPARTURE DELAY PER DEPARTURE LOCATION IN EACH YEAR',\n",
    "              xaxis= dict(title= 'Year',zeroline= False,tickformat='d'),\n",
    "              yaxis= dict(title= 'Flight Delay (Minutes)',tickformat='d'),\n",
    "              height= 650,\n",
    "              width= 900\n",
    "             )\n",
    "\n",
    "fig = dict(data = traces, layout = layout)\n",
    "\n",
    "pyo.iplot(fig)"
   ]
  },
  {
   "cell_type": "markdown",
   "metadata": {},
   "source": [
    "DEPARTURE LOCATION WITH THE LARGEST AVERAGE DELAY"
   ]
  },
  {
   "cell_type": "code",
   "execution_count": 14,
   "metadata": {},
   "outputs": [
    {
     "name": "stdout",
     "output_type": "stream",
     "text": [
      "+------+------------------+----+\n",
      "|ORIGIN|      AverageDelay|Year|\n",
      "+------+------------------+----+\n",
      "|   PPG|201.55555555555554|2016|\n",
      "|   ENV|             157.0|2016|\n",
      "|   DVL| 122.1344537815126|2018|\n",
      "|   PPG| 99.58064516129032|2018|\n",
      "|   GCK| 99.08108108108108|2016|\n",
      "|   JMS| 97.18536585365854|2018|\n",
      "|   CMX| 96.56744186046511|2018|\n",
      "|   UST| 95.85714285714286|2017|\n",
      "|   GCK| 92.89655172413794|2017|\n",
      "|   RHI| 92.57462686567165|2017|\n",
      "|   SLN| 88.72018348623853|2018|\n",
      "|   LWB| 87.99009900990099|2018|\n",
      "|   LCH| 86.76878612716763|2017|\n",
      "|   MQT| 84.84939759036145|2016|\n",
      "|   SAF| 82.25088339222614|2018|\n",
      "|   SHD| 82.14367816091954|2018|\n",
      "|   MEI| 81.23869346733669|2017|\n",
      "|   RHI| 80.50381679389314|2018|\n",
      "|   FSM|  80.1043956043956|2017|\n",
      "|   HYS| 80.08812260536398|2018|\n",
      "+------+------------------+----+\n",
      "only showing top 20 rows\n",
      "\n"
     ]
    }
   ],
   "source": [
    "spark.sql(\"SELECT ORIGIN, AVG(IF(DEP_DELAY >= 0 , DEP_DELAY, NULL)) AS AverageDelay,EXTRACT(year from FL_DATE) AS Year \\\n",
    "FROM airlinedelay GROUP BY ORIGIN, Year ORDER BY AverageDelay DESC\").show()"
   ]
  },
  {
   "attachments": {},
   "cell_type": "markdown",
   "metadata": {},
   "source": [
    "TOTAL NUMBER OF DEPARTURE/ARRIVAL DELAYS PER YEAR"
   ]
  },
  {
   "cell_type": "code",
   "execution_count": 21,
   "metadata": {},
   "outputs": [
    {
     "name": "stdout",
     "output_type": "stream",
     "text": [
      "+---------------------+-------------------+----+\n",
      "|AverageDepartureDelay|AverageArrivalDelay|Year|\n",
      "+---------------------+-------------------+----+\n",
      "|              2800909|            2655267|2018|\n",
      "|              2233030|            2056193|2017|\n",
      "|              2230108|            2000648|2016|\n",
      "+---------------------+-------------------+----+\n",
      "\n"
     ]
    }
   ],
   "source": [
    "totalNumberOfDepartureArrivalDelaysPerYear = spark.sql(\"SELECT SUM(IF(DEP_DELAY >= 0 , 1, 0)) AS AverageDepartureDelay, SUM(IF(ARR_DELAY >= 0 , 1, 0)) AS AverageArrivalDelay, \\\n",
    "EXTRACT(year from FL_DATE) AS Year \\\n",
    "FROM airlinedelay GROUP BY Year ORDER BY AverageDepartureDelay DESC\")\n",
    "\n",
    "totalNumberOfDepartureArrivalDelaysPerYear.show()"
   ]
  },
  {
   "cell_type": "code",
   "execution_count": 27,
   "metadata": {},
   "outputs": [
    {
     "data": {
      "application/vnd.plotly.v1+json": {
       "config": {
        "linkText": "Export to plot.ly",
        "plotlyServerURL": "https://plot.ly",
        "showLink": false
       },
       "data": [
        {
         "text": [
          2018,
          2017,
          2016
         ],
         "type": "pie",
         "values": [
          2800909,
          2233030,
          2230108
         ]
        }
       ],
       "layout": {
        "height": 600,
        "template": {
         "data": {
          "bar": [
           {
            "error_x": {
             "color": "#2a3f5f"
            },
            "error_y": {
             "color": "#2a3f5f"
            },
            "marker": {
             "line": {
              "color": "#E5ECF6",
              "width": 0.5
             }
            },
            "type": "bar"
           }
          ],
          "barpolar": [
           {
            "marker": {
             "line": {
              "color": "#E5ECF6",
              "width": 0.5
             }
            },
            "type": "barpolar"
           }
          ],
          "carpet": [
           {
            "aaxis": {
             "endlinecolor": "#2a3f5f",
             "gridcolor": "white",
             "linecolor": "white",
             "minorgridcolor": "white",
             "startlinecolor": "#2a3f5f"
            },
            "baxis": {
             "endlinecolor": "#2a3f5f",
             "gridcolor": "white",
             "linecolor": "white",
             "minorgridcolor": "white",
             "startlinecolor": "#2a3f5f"
            },
            "type": "carpet"
           }
          ],
          "choropleth": [
           {
            "colorbar": {
             "outlinewidth": 0,
             "ticks": ""
            },
            "type": "choropleth"
           }
          ],
          "contour": [
           {
            "colorbar": {
             "outlinewidth": 0,
             "ticks": ""
            },
            "colorscale": [
             [
              0,
              "#0d0887"
             ],
             [
              0.1111111111111111,
              "#46039f"
             ],
             [
              0.2222222222222222,
              "#7201a8"
             ],
             [
              0.3333333333333333,
              "#9c179e"
             ],
             [
              0.4444444444444444,
              "#bd3786"
             ],
             [
              0.5555555555555556,
              "#d8576b"
             ],
             [
              0.6666666666666666,
              "#ed7953"
             ],
             [
              0.7777777777777778,
              "#fb9f3a"
             ],
             [
              0.8888888888888888,
              "#fdca26"
             ],
             [
              1,
              "#f0f921"
             ]
            ],
            "type": "contour"
           }
          ],
          "contourcarpet": [
           {
            "colorbar": {
             "outlinewidth": 0,
             "ticks": ""
            },
            "type": "contourcarpet"
           }
          ],
          "heatmap": [
           {
            "colorbar": {
             "outlinewidth": 0,
             "ticks": ""
            },
            "colorscale": [
             [
              0,
              "#0d0887"
             ],
             [
              0.1111111111111111,
              "#46039f"
             ],
             [
              0.2222222222222222,
              "#7201a8"
             ],
             [
              0.3333333333333333,
              "#9c179e"
             ],
             [
              0.4444444444444444,
              "#bd3786"
             ],
             [
              0.5555555555555556,
              "#d8576b"
             ],
             [
              0.6666666666666666,
              "#ed7953"
             ],
             [
              0.7777777777777778,
              "#fb9f3a"
             ],
             [
              0.8888888888888888,
              "#fdca26"
             ],
             [
              1,
              "#f0f921"
             ]
            ],
            "type": "heatmap"
           }
          ],
          "heatmapgl": [
           {
            "colorbar": {
             "outlinewidth": 0,
             "ticks": ""
            },
            "colorscale": [
             [
              0,
              "#0d0887"
             ],
             [
              0.1111111111111111,
              "#46039f"
             ],
             [
              0.2222222222222222,
              "#7201a8"
             ],
             [
              0.3333333333333333,
              "#9c179e"
             ],
             [
              0.4444444444444444,
              "#bd3786"
             ],
             [
              0.5555555555555556,
              "#d8576b"
             ],
             [
              0.6666666666666666,
              "#ed7953"
             ],
             [
              0.7777777777777778,
              "#fb9f3a"
             ],
             [
              0.8888888888888888,
              "#fdca26"
             ],
             [
              1,
              "#f0f921"
             ]
            ],
            "type": "heatmapgl"
           }
          ],
          "histogram": [
           {
            "marker": {
             "colorbar": {
              "outlinewidth": 0,
              "ticks": ""
             }
            },
            "type": "histogram"
           }
          ],
          "histogram2d": [
           {
            "colorbar": {
             "outlinewidth": 0,
             "ticks": ""
            },
            "colorscale": [
             [
              0,
              "#0d0887"
             ],
             [
              0.1111111111111111,
              "#46039f"
             ],
             [
              0.2222222222222222,
              "#7201a8"
             ],
             [
              0.3333333333333333,
              "#9c179e"
             ],
             [
              0.4444444444444444,
              "#bd3786"
             ],
             [
              0.5555555555555556,
              "#d8576b"
             ],
             [
              0.6666666666666666,
              "#ed7953"
             ],
             [
              0.7777777777777778,
              "#fb9f3a"
             ],
             [
              0.8888888888888888,
              "#fdca26"
             ],
             [
              1,
              "#f0f921"
             ]
            ],
            "type": "histogram2d"
           }
          ],
          "histogram2dcontour": [
           {
            "colorbar": {
             "outlinewidth": 0,
             "ticks": ""
            },
            "colorscale": [
             [
              0,
              "#0d0887"
             ],
             [
              0.1111111111111111,
              "#46039f"
             ],
             [
              0.2222222222222222,
              "#7201a8"
             ],
             [
              0.3333333333333333,
              "#9c179e"
             ],
             [
              0.4444444444444444,
              "#bd3786"
             ],
             [
              0.5555555555555556,
              "#d8576b"
             ],
             [
              0.6666666666666666,
              "#ed7953"
             ],
             [
              0.7777777777777778,
              "#fb9f3a"
             ],
             [
              0.8888888888888888,
              "#fdca26"
             ],
             [
              1,
              "#f0f921"
             ]
            ],
            "type": "histogram2dcontour"
           }
          ],
          "mesh3d": [
           {
            "colorbar": {
             "outlinewidth": 0,
             "ticks": ""
            },
            "type": "mesh3d"
           }
          ],
          "parcoords": [
           {
            "line": {
             "colorbar": {
              "outlinewidth": 0,
              "ticks": ""
             }
            },
            "type": "parcoords"
           }
          ],
          "pie": [
           {
            "automargin": true,
            "type": "pie"
           }
          ],
          "scatter": [
           {
            "marker": {
             "colorbar": {
              "outlinewidth": 0,
              "ticks": ""
             }
            },
            "type": "scatter"
           }
          ],
          "scatter3d": [
           {
            "line": {
             "colorbar": {
              "outlinewidth": 0,
              "ticks": ""
             }
            },
            "marker": {
             "colorbar": {
              "outlinewidth": 0,
              "ticks": ""
             }
            },
            "type": "scatter3d"
           }
          ],
          "scattercarpet": [
           {
            "marker": {
             "colorbar": {
              "outlinewidth": 0,
              "ticks": ""
             }
            },
            "type": "scattercarpet"
           }
          ],
          "scattergeo": [
           {
            "marker": {
             "colorbar": {
              "outlinewidth": 0,
              "ticks": ""
             }
            },
            "type": "scattergeo"
           }
          ],
          "scattergl": [
           {
            "marker": {
             "colorbar": {
              "outlinewidth": 0,
              "ticks": ""
             }
            },
            "type": "scattergl"
           }
          ],
          "scattermapbox": [
           {
            "marker": {
             "colorbar": {
              "outlinewidth": 0,
              "ticks": ""
             }
            },
            "type": "scattermapbox"
           }
          ],
          "scatterpolar": [
           {
            "marker": {
             "colorbar": {
              "outlinewidth": 0,
              "ticks": ""
             }
            },
            "type": "scatterpolar"
           }
          ],
          "scatterpolargl": [
           {
            "marker": {
             "colorbar": {
              "outlinewidth": 0,
              "ticks": ""
             }
            },
            "type": "scatterpolargl"
           }
          ],
          "scatterternary": [
           {
            "marker": {
             "colorbar": {
              "outlinewidth": 0,
              "ticks": ""
             }
            },
            "type": "scatterternary"
           }
          ],
          "surface": [
           {
            "colorbar": {
             "outlinewidth": 0,
             "ticks": ""
            },
            "colorscale": [
             [
              0,
              "#0d0887"
             ],
             [
              0.1111111111111111,
              "#46039f"
             ],
             [
              0.2222222222222222,
              "#7201a8"
             ],
             [
              0.3333333333333333,
              "#9c179e"
             ],
             [
              0.4444444444444444,
              "#bd3786"
             ],
             [
              0.5555555555555556,
              "#d8576b"
             ],
             [
              0.6666666666666666,
              "#ed7953"
             ],
             [
              0.7777777777777778,
              "#fb9f3a"
             ],
             [
              0.8888888888888888,
              "#fdca26"
             ],
             [
              1,
              "#f0f921"
             ]
            ],
            "type": "surface"
           }
          ],
          "table": [
           {
            "cells": {
             "fill": {
              "color": "#EBF0F8"
             },
             "line": {
              "color": "white"
             }
            },
            "header": {
             "fill": {
              "color": "#C8D4E3"
             },
             "line": {
              "color": "white"
             }
            },
            "type": "table"
           }
          ]
         },
         "layout": {
          "annotationdefaults": {
           "arrowcolor": "#2a3f5f",
           "arrowhead": 0,
           "arrowwidth": 1
          },
          "autotypenumbers": "strict",
          "coloraxis": {
           "colorbar": {
            "outlinewidth": 0,
            "ticks": ""
           }
          },
          "colorscale": {
           "diverging": [
            [
             0,
             "#8e0152"
            ],
            [
             0.1,
             "#c51b7d"
            ],
            [
             0.2,
             "#de77ae"
            ],
            [
             0.3,
             "#f1b6da"
            ],
            [
             0.4,
             "#fde0ef"
            ],
            [
             0.5,
             "#f7f7f7"
            ],
            [
             0.6,
             "#e6f5d0"
            ],
            [
             0.7,
             "#b8e186"
            ],
            [
             0.8,
             "#7fbc41"
            ],
            [
             0.9,
             "#4d9221"
            ],
            [
             1,
             "#276419"
            ]
           ],
           "sequential": [
            [
             0,
             "#0d0887"
            ],
            [
             0.1111111111111111,
             "#46039f"
            ],
            [
             0.2222222222222222,
             "#7201a8"
            ],
            [
             0.3333333333333333,
             "#9c179e"
            ],
            [
             0.4444444444444444,
             "#bd3786"
            ],
            [
             0.5555555555555556,
             "#d8576b"
            ],
            [
             0.6666666666666666,
             "#ed7953"
            ],
            [
             0.7777777777777778,
             "#fb9f3a"
            ],
            [
             0.8888888888888888,
             "#fdca26"
            ],
            [
             1,
             "#f0f921"
            ]
           ],
           "sequentialminus": [
            [
             0,
             "#0d0887"
            ],
            [
             0.1111111111111111,
             "#46039f"
            ],
            [
             0.2222222222222222,
             "#7201a8"
            ],
            [
             0.3333333333333333,
             "#9c179e"
            ],
            [
             0.4444444444444444,
             "#bd3786"
            ],
            [
             0.5555555555555556,
             "#d8576b"
            ],
            [
             0.6666666666666666,
             "#ed7953"
            ],
            [
             0.7777777777777778,
             "#fb9f3a"
            ],
            [
             0.8888888888888888,
             "#fdca26"
            ],
            [
             1,
             "#f0f921"
            ]
           ]
          },
          "colorway": [
           "#636efa",
           "#EF553B",
           "#00cc96",
           "#ab63fa",
           "#FFA15A",
           "#19d3f3",
           "#FF6692",
           "#B6E880",
           "#FF97FF",
           "#FECB52"
          ],
          "font": {
           "color": "#2a3f5f"
          },
          "geo": {
           "bgcolor": "white",
           "lakecolor": "white",
           "landcolor": "#E5ECF6",
           "showlakes": true,
           "showland": true,
           "subunitcolor": "white"
          },
          "hoverlabel": {
           "align": "left"
          },
          "hovermode": "closest",
          "mapbox": {
           "style": "light"
          },
          "paper_bgcolor": "white",
          "plot_bgcolor": "#E5ECF6",
          "polar": {
           "angularaxis": {
            "gridcolor": "white",
            "linecolor": "white",
            "ticks": ""
           },
           "bgcolor": "#E5ECF6",
           "radialaxis": {
            "gridcolor": "white",
            "linecolor": "white",
            "ticks": ""
           }
          },
          "scene": {
           "xaxis": {
            "backgroundcolor": "#E5ECF6",
            "gridcolor": "white",
            "gridwidth": 2,
            "linecolor": "white",
            "showbackground": true,
            "ticks": "",
            "zerolinecolor": "white"
           },
           "yaxis": {
            "backgroundcolor": "#E5ECF6",
            "gridcolor": "white",
            "gridwidth": 2,
            "linecolor": "white",
            "showbackground": true,
            "ticks": "",
            "zerolinecolor": "white"
           },
           "zaxis": {
            "backgroundcolor": "#E5ECF6",
            "gridcolor": "white",
            "gridwidth": 2,
            "linecolor": "white",
            "showbackground": true,
            "ticks": "",
            "zerolinecolor": "white"
           }
          },
          "shapedefaults": {
           "line": {
            "color": "#2a3f5f"
           }
          },
          "ternary": {
           "aaxis": {
            "gridcolor": "white",
            "linecolor": "white",
            "ticks": ""
           },
           "baxis": {
            "gridcolor": "white",
            "linecolor": "white",
            "ticks": ""
           },
           "bgcolor": "#E5ECF6",
           "caxis": {
            "gridcolor": "white",
            "linecolor": "white",
            "ticks": ""
           }
          },
          "title": {
           "x": 0.05
          },
          "xaxis": {
           "automargin": true,
           "gridcolor": "white",
           "linecolor": "white",
           "ticks": "",
           "title": {
            "standoff": 15
           },
           "zerolinecolor": "white",
           "zerolinewidth": 2
          },
          "yaxis": {
           "automargin": true,
           "gridcolor": "white",
           "linecolor": "white",
           "ticks": "",
           "title": {
            "standoff": 15
           },
           "zerolinecolor": "white",
           "zerolinewidth": 2
          }
         }
        },
        "title": {
         "text": "Total Number of Departure Delays Per Year"
        },
        "width": 900
       }
      }
     },
     "metadata": {},
     "output_type": "display_data"
    }
   ],
   "source": [
    "totalNumberOfDeparturelDelaysPerYearTrace = go.Pie(\n",
    "    values = totalNumberOfDepartureArrivalDelaysPerYear.toPandas()['AverageDepartureDelay'],\n",
    "    text = totalNumberOfDepartureArrivalDelaysPerYear.toPandas()['Year'])\n",
    "\n",
    "\n",
    "data = [totalNumberOfDeparturelDelaysPerYearTrace]\n",
    "\n",
    "layout = dict(title = 'Total Number of Departure Delays Per Year',\n",
    "              height= 600,\n",
    "              width= 900\n",
    "             )\n",
    "fig = dict(data = data, layout = layout)\n",
    "\n",
    "pyo.iplot(fig)"
   ]
  },
  {
   "cell_type": "code",
   "execution_count": 25,
   "metadata": {},
   "outputs": [
    {
     "data": {
      "application/vnd.plotly.v1+json": {
       "config": {
        "linkText": "Export to plot.ly",
        "plotlyServerURL": "https://plot.ly",
        "showLink": false
       },
       "data": [
        {
         "text": [
          2018,
          2017,
          2016
         ],
         "type": "pie",
         "values": [
          2655267,
          2056193,
          2000648
         ]
        }
       ],
       "layout": {
        "height": 600,
        "template": {
         "data": {
          "bar": [
           {
            "error_x": {
             "color": "#2a3f5f"
            },
            "error_y": {
             "color": "#2a3f5f"
            },
            "marker": {
             "line": {
              "color": "#E5ECF6",
              "width": 0.5
             }
            },
            "type": "bar"
           }
          ],
          "barpolar": [
           {
            "marker": {
             "line": {
              "color": "#E5ECF6",
              "width": 0.5
             }
            },
            "type": "barpolar"
           }
          ],
          "carpet": [
           {
            "aaxis": {
             "endlinecolor": "#2a3f5f",
             "gridcolor": "white",
             "linecolor": "white",
             "minorgridcolor": "white",
             "startlinecolor": "#2a3f5f"
            },
            "baxis": {
             "endlinecolor": "#2a3f5f",
             "gridcolor": "white",
             "linecolor": "white",
             "minorgridcolor": "white",
             "startlinecolor": "#2a3f5f"
            },
            "type": "carpet"
           }
          ],
          "choropleth": [
           {
            "colorbar": {
             "outlinewidth": 0,
             "ticks": ""
            },
            "type": "choropleth"
           }
          ],
          "contour": [
           {
            "colorbar": {
             "outlinewidth": 0,
             "ticks": ""
            },
            "colorscale": [
             [
              0,
              "#0d0887"
             ],
             [
              0.1111111111111111,
              "#46039f"
             ],
             [
              0.2222222222222222,
              "#7201a8"
             ],
             [
              0.3333333333333333,
              "#9c179e"
             ],
             [
              0.4444444444444444,
              "#bd3786"
             ],
             [
              0.5555555555555556,
              "#d8576b"
             ],
             [
              0.6666666666666666,
              "#ed7953"
             ],
             [
              0.7777777777777778,
              "#fb9f3a"
             ],
             [
              0.8888888888888888,
              "#fdca26"
             ],
             [
              1,
              "#f0f921"
             ]
            ],
            "type": "contour"
           }
          ],
          "contourcarpet": [
           {
            "colorbar": {
             "outlinewidth": 0,
             "ticks": ""
            },
            "type": "contourcarpet"
           }
          ],
          "heatmap": [
           {
            "colorbar": {
             "outlinewidth": 0,
             "ticks": ""
            },
            "colorscale": [
             [
              0,
              "#0d0887"
             ],
             [
              0.1111111111111111,
              "#46039f"
             ],
             [
              0.2222222222222222,
              "#7201a8"
             ],
             [
              0.3333333333333333,
              "#9c179e"
             ],
             [
              0.4444444444444444,
              "#bd3786"
             ],
             [
              0.5555555555555556,
              "#d8576b"
             ],
             [
              0.6666666666666666,
              "#ed7953"
             ],
             [
              0.7777777777777778,
              "#fb9f3a"
             ],
             [
              0.8888888888888888,
              "#fdca26"
             ],
             [
              1,
              "#f0f921"
             ]
            ],
            "type": "heatmap"
           }
          ],
          "heatmapgl": [
           {
            "colorbar": {
             "outlinewidth": 0,
             "ticks": ""
            },
            "colorscale": [
             [
              0,
              "#0d0887"
             ],
             [
              0.1111111111111111,
              "#46039f"
             ],
             [
              0.2222222222222222,
              "#7201a8"
             ],
             [
              0.3333333333333333,
              "#9c179e"
             ],
             [
              0.4444444444444444,
              "#bd3786"
             ],
             [
              0.5555555555555556,
              "#d8576b"
             ],
             [
              0.6666666666666666,
              "#ed7953"
             ],
             [
              0.7777777777777778,
              "#fb9f3a"
             ],
             [
              0.8888888888888888,
              "#fdca26"
             ],
             [
              1,
              "#f0f921"
             ]
            ],
            "type": "heatmapgl"
           }
          ],
          "histogram": [
           {
            "marker": {
             "colorbar": {
              "outlinewidth": 0,
              "ticks": ""
             }
            },
            "type": "histogram"
           }
          ],
          "histogram2d": [
           {
            "colorbar": {
             "outlinewidth": 0,
             "ticks": ""
            },
            "colorscale": [
             [
              0,
              "#0d0887"
             ],
             [
              0.1111111111111111,
              "#46039f"
             ],
             [
              0.2222222222222222,
              "#7201a8"
             ],
             [
              0.3333333333333333,
              "#9c179e"
             ],
             [
              0.4444444444444444,
              "#bd3786"
             ],
             [
              0.5555555555555556,
              "#d8576b"
             ],
             [
              0.6666666666666666,
              "#ed7953"
             ],
             [
              0.7777777777777778,
              "#fb9f3a"
             ],
             [
              0.8888888888888888,
              "#fdca26"
             ],
             [
              1,
              "#f0f921"
             ]
            ],
            "type": "histogram2d"
           }
          ],
          "histogram2dcontour": [
           {
            "colorbar": {
             "outlinewidth": 0,
             "ticks": ""
            },
            "colorscale": [
             [
              0,
              "#0d0887"
             ],
             [
              0.1111111111111111,
              "#46039f"
             ],
             [
              0.2222222222222222,
              "#7201a8"
             ],
             [
              0.3333333333333333,
              "#9c179e"
             ],
             [
              0.4444444444444444,
              "#bd3786"
             ],
             [
              0.5555555555555556,
              "#d8576b"
             ],
             [
              0.6666666666666666,
              "#ed7953"
             ],
             [
              0.7777777777777778,
              "#fb9f3a"
             ],
             [
              0.8888888888888888,
              "#fdca26"
             ],
             [
              1,
              "#f0f921"
             ]
            ],
            "type": "histogram2dcontour"
           }
          ],
          "mesh3d": [
           {
            "colorbar": {
             "outlinewidth": 0,
             "ticks": ""
            },
            "type": "mesh3d"
           }
          ],
          "parcoords": [
           {
            "line": {
             "colorbar": {
              "outlinewidth": 0,
              "ticks": ""
             }
            },
            "type": "parcoords"
           }
          ],
          "pie": [
           {
            "automargin": true,
            "type": "pie"
           }
          ],
          "scatter": [
           {
            "marker": {
             "colorbar": {
              "outlinewidth": 0,
              "ticks": ""
             }
            },
            "type": "scatter"
           }
          ],
          "scatter3d": [
           {
            "line": {
             "colorbar": {
              "outlinewidth": 0,
              "ticks": ""
             }
            },
            "marker": {
             "colorbar": {
              "outlinewidth": 0,
              "ticks": ""
             }
            },
            "type": "scatter3d"
           }
          ],
          "scattercarpet": [
           {
            "marker": {
             "colorbar": {
              "outlinewidth": 0,
              "ticks": ""
             }
            },
            "type": "scattercarpet"
           }
          ],
          "scattergeo": [
           {
            "marker": {
             "colorbar": {
              "outlinewidth": 0,
              "ticks": ""
             }
            },
            "type": "scattergeo"
           }
          ],
          "scattergl": [
           {
            "marker": {
             "colorbar": {
              "outlinewidth": 0,
              "ticks": ""
             }
            },
            "type": "scattergl"
           }
          ],
          "scattermapbox": [
           {
            "marker": {
             "colorbar": {
              "outlinewidth": 0,
              "ticks": ""
             }
            },
            "type": "scattermapbox"
           }
          ],
          "scatterpolar": [
           {
            "marker": {
             "colorbar": {
              "outlinewidth": 0,
              "ticks": ""
             }
            },
            "type": "scatterpolar"
           }
          ],
          "scatterpolargl": [
           {
            "marker": {
             "colorbar": {
              "outlinewidth": 0,
              "ticks": ""
             }
            },
            "type": "scatterpolargl"
           }
          ],
          "scatterternary": [
           {
            "marker": {
             "colorbar": {
              "outlinewidth": 0,
              "ticks": ""
             }
            },
            "type": "scatterternary"
           }
          ],
          "surface": [
           {
            "colorbar": {
             "outlinewidth": 0,
             "ticks": ""
            },
            "colorscale": [
             [
              0,
              "#0d0887"
             ],
             [
              0.1111111111111111,
              "#46039f"
             ],
             [
              0.2222222222222222,
              "#7201a8"
             ],
             [
              0.3333333333333333,
              "#9c179e"
             ],
             [
              0.4444444444444444,
              "#bd3786"
             ],
             [
              0.5555555555555556,
              "#d8576b"
             ],
             [
              0.6666666666666666,
              "#ed7953"
             ],
             [
              0.7777777777777778,
              "#fb9f3a"
             ],
             [
              0.8888888888888888,
              "#fdca26"
             ],
             [
              1,
              "#f0f921"
             ]
            ],
            "type": "surface"
           }
          ],
          "table": [
           {
            "cells": {
             "fill": {
              "color": "#EBF0F8"
             },
             "line": {
              "color": "white"
             }
            },
            "header": {
             "fill": {
              "color": "#C8D4E3"
             },
             "line": {
              "color": "white"
             }
            },
            "type": "table"
           }
          ]
         },
         "layout": {
          "annotationdefaults": {
           "arrowcolor": "#2a3f5f",
           "arrowhead": 0,
           "arrowwidth": 1
          },
          "autotypenumbers": "strict",
          "coloraxis": {
           "colorbar": {
            "outlinewidth": 0,
            "ticks": ""
           }
          },
          "colorscale": {
           "diverging": [
            [
             0,
             "#8e0152"
            ],
            [
             0.1,
             "#c51b7d"
            ],
            [
             0.2,
             "#de77ae"
            ],
            [
             0.3,
             "#f1b6da"
            ],
            [
             0.4,
             "#fde0ef"
            ],
            [
             0.5,
             "#f7f7f7"
            ],
            [
             0.6,
             "#e6f5d0"
            ],
            [
             0.7,
             "#b8e186"
            ],
            [
             0.8,
             "#7fbc41"
            ],
            [
             0.9,
             "#4d9221"
            ],
            [
             1,
             "#276419"
            ]
           ],
           "sequential": [
            [
             0,
             "#0d0887"
            ],
            [
             0.1111111111111111,
             "#46039f"
            ],
            [
             0.2222222222222222,
             "#7201a8"
            ],
            [
             0.3333333333333333,
             "#9c179e"
            ],
            [
             0.4444444444444444,
             "#bd3786"
            ],
            [
             0.5555555555555556,
             "#d8576b"
            ],
            [
             0.6666666666666666,
             "#ed7953"
            ],
            [
             0.7777777777777778,
             "#fb9f3a"
            ],
            [
             0.8888888888888888,
             "#fdca26"
            ],
            [
             1,
             "#f0f921"
            ]
           ],
           "sequentialminus": [
            [
             0,
             "#0d0887"
            ],
            [
             0.1111111111111111,
             "#46039f"
            ],
            [
             0.2222222222222222,
             "#7201a8"
            ],
            [
             0.3333333333333333,
             "#9c179e"
            ],
            [
             0.4444444444444444,
             "#bd3786"
            ],
            [
             0.5555555555555556,
             "#d8576b"
            ],
            [
             0.6666666666666666,
             "#ed7953"
            ],
            [
             0.7777777777777778,
             "#fb9f3a"
            ],
            [
             0.8888888888888888,
             "#fdca26"
            ],
            [
             1,
             "#f0f921"
            ]
           ]
          },
          "colorway": [
           "#636efa",
           "#EF553B",
           "#00cc96",
           "#ab63fa",
           "#FFA15A",
           "#19d3f3",
           "#FF6692",
           "#B6E880",
           "#FF97FF",
           "#FECB52"
          ],
          "font": {
           "color": "#2a3f5f"
          },
          "geo": {
           "bgcolor": "white",
           "lakecolor": "white",
           "landcolor": "#E5ECF6",
           "showlakes": true,
           "showland": true,
           "subunitcolor": "white"
          },
          "hoverlabel": {
           "align": "left"
          },
          "hovermode": "closest",
          "mapbox": {
           "style": "light"
          },
          "paper_bgcolor": "white",
          "plot_bgcolor": "#E5ECF6",
          "polar": {
           "angularaxis": {
            "gridcolor": "white",
            "linecolor": "white",
            "ticks": ""
           },
           "bgcolor": "#E5ECF6",
           "radialaxis": {
            "gridcolor": "white",
            "linecolor": "white",
            "ticks": ""
           }
          },
          "scene": {
           "xaxis": {
            "backgroundcolor": "#E5ECF6",
            "gridcolor": "white",
            "gridwidth": 2,
            "linecolor": "white",
            "showbackground": true,
            "ticks": "",
            "zerolinecolor": "white"
           },
           "yaxis": {
            "backgroundcolor": "#E5ECF6",
            "gridcolor": "white",
            "gridwidth": 2,
            "linecolor": "white",
            "showbackground": true,
            "ticks": "",
            "zerolinecolor": "white"
           },
           "zaxis": {
            "backgroundcolor": "#E5ECF6",
            "gridcolor": "white",
            "gridwidth": 2,
            "linecolor": "white",
            "showbackground": true,
            "ticks": "",
            "zerolinecolor": "white"
           }
          },
          "shapedefaults": {
           "line": {
            "color": "#2a3f5f"
           }
          },
          "ternary": {
           "aaxis": {
            "gridcolor": "white",
            "linecolor": "white",
            "ticks": ""
           },
           "baxis": {
            "gridcolor": "white",
            "linecolor": "white",
            "ticks": ""
           },
           "bgcolor": "#E5ECF6",
           "caxis": {
            "gridcolor": "white",
            "linecolor": "white",
            "ticks": ""
           }
          },
          "title": {
           "x": 0.05
          },
          "xaxis": {
           "automargin": true,
           "gridcolor": "white",
           "linecolor": "white",
           "ticks": "",
           "title": {
            "standoff": 15
           },
           "zerolinecolor": "white",
           "zerolinewidth": 2
          },
          "yaxis": {
           "automargin": true,
           "gridcolor": "white",
           "linecolor": "white",
           "ticks": "",
           "title": {
            "standoff": 15
           },
           "zerolinecolor": "white",
           "zerolinewidth": 2
          }
         }
        },
        "title": {
         "text": "Total Number of Arrival Delays Per Year"
        },
        "width": 900
       }
      }
     },
     "metadata": {},
     "output_type": "display_data"
    }
   ],
   "source": [
    "totalNumberOfArrivalDelaysPerYearTrace = go.Pie(\n",
    "    values = totalNumberOfDepartureArrivalDelaysPerYear.toPandas()['AverageArrivalDelay'],\n",
    "    text = totalNumberOfDepartureArrivalDelaysPerYear.toPandas()['Year'])\n",
    "\n",
    "\n",
    "data = [totalNumberOfArrivalDelaysPerYearTrace]\n",
    "\n",
    "layout = dict(title = 'Total Number of Arrival Delays Per Year',\n",
    "              height= 600,\n",
    "              width= 900\n",
    "             )\n",
    "fig = dict(data = data, layout = layout)\n",
    "\n",
    "pyo.iplot(fig)"
   ]
  }
 ],
 "metadata": {
  "kernelspec": {
   "display_name": "Python 3.6.8 64-bit",
   "language": "python",
   "name": "python3"
  },
  "language_info": {
   "codemirror_mode": {
    "name": "ipython",
    "version": 3
   },
   "file_extension": ".py",
   "mimetype": "text/x-python",
   "name": "python",
   "nbconvert_exporter": "python",
   "pygments_lexer": "ipython3",
   "version": "3.6.8"
  },
  "orig_nbformat": 4,
  "vscode": {
   "interpreter": {
    "hash": "bb41c486c9a952ea9ab660fc5492da8d93953408d86caf7fa1d34391fa6c6cf3"
   }
  }
 },
 "nbformat": 4,
 "nbformat_minor": 2
}
