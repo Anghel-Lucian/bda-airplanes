{
 "cells": [
  {
   "cell_type": "code",
   "execution_count": 1,
   "id": "8bfa32cf-9c62-440f-ab3b-057afcec5f50",
   "metadata": {},
   "outputs": [],
   "source": [
    "from pyspark.sql import SparkSession\n",
    "from pyspark.sql.types import StructType, StructField\n",
    "from pyspark.sql.types import StringType, IntegerType, DateType, DoubleType\n",
    "from pyspark.sql import functions"
   ]
  },
  {
   "cell_type": "code",
   "execution_count": 2,
   "id": "7d973fc3-c36d-48b8-9ac5-da54d4606b78",
   "metadata": {},
   "outputs": [
    {
     "name": "stdout",
     "output_type": "stream",
     "text": [
      "22/12/19 13:32:26 WARN Utils: Your hostname, lucian resolves to a loopback address: 127.0.1.1; using 192.168.100.7 instead (on interface eno1)\n",
      "22/12/19 13:32:26 WARN Utils: Set SPARK_LOCAL_IP if you need to bind to another address\n"
     ]
    },
    {
     "name": "stderr",
     "output_type": "stream",
     "text": [
      "Setting default log level to \"WARN\".\n",
      "To adjust logging level use sc.setLogLevel(newLevel). For SparkR, use setLogLevel(newLevel).\n"
     ]
    },
    {
     "name": "stdout",
     "output_type": "stream",
     "text": [
      "22/12/19 13:32:26 WARN NativeCodeLoader: Unable to load native-hadoop library for your platform... using builtin-java classes where applicable\n"
     ]
    }
   ],
   "source": [
    "spark = SparkSession \\\n",
    "    .builder \\\n",
    "    .appName(\"airlinedelay\") \\\n",
    "    .getOrCreate()\n",
    "\n",
    "context = spark.sparkContext"
   ]
  },
  {
   "cell_type": "code",
   "execution_count": 3,
   "id": "838995b9-9890-461b-a42f-19b0df61f3e4",
   "metadata": {},
   "outputs": [
    {
     "name": "stdout",
     "output_type": "stream",
     "text": [
      "22/12/19 13:32:29 WARN package: Truncated the string representation of a plan since it was too large. This behavior can be adjusted by setting 'spark.sql.debug.maxToStringFields'.\n"
     ]
    }
   ],
   "source": [
    "schema = StructType([\n",
    "    StructField(\"FL_DATE\", DateType(), True),\n",
    "    StructField(\"OP_CARRIER\", StringType(), True),\n",
    "    StructField(\"OP_CARRIER_FL_NUM\", IntegerType(), True),\n",
    "    StructField(\"ORIGIN\", StringType(), True),\n",
    "    StructField(\"DEST\", StringType(), True),\n",
    "    StructField(\"CRS_DEP_TIME\", DoubleType(), True),\n",
    "    StructField(\"DEP_TIME\", DoubleType(), True),\n",
    "    StructField(\"DEP_DELAY\", DoubleType(), True),\n",
    "    StructField(\"TAXI_OUT\", DoubleType(), True),\n",
    "    StructField(\"WHEELS_OFF\", DoubleType(), True),\n",
    "    StructField(\"WHEELS_ON\", DoubleType(), True),\n",
    "    StructField(\"TAXI_IN\", DoubleType(), True),\n",
    "    StructField(\"CRS_ARR_TIME\", DoubleType(), True),\n",
    "    StructField(\"ARR_TIME\", DoubleType(), True),\n",
    "    StructField(\"ARR_DELAY\", DoubleType(), True),\n",
    "    StructField(\"CANCELLED\", DoubleType(), True),\n",
    "    StructField(\"CANCELLATION_CODE\", StringType(), True),\n",
    "    StructField(\"DIVERTED\", DoubleType(), True),\n",
    "    StructField(\"CRS_ELAPSED_TIME\", DoubleType(), True),\n",
    "    StructField(\"ACTUAL_ELAPSED_TIME\", DoubleType(), True),\n",
    "    StructField(\"AIR_TIME\", DoubleType(), True),\n",
    "    StructField(\"DISTANCE\", DoubleType(), True),\n",
    "    StructField(\"CARRIER_DELAY\", DoubleType(), True),\n",
    "    StructField(\"WEATHER_DELAY\", DoubleType(), True),\n",
    "    StructField(\"NAS_DELAY\", DoubleType(), True),\n",
    "    StructField(\"SECURITY_DELAY\", DoubleType(), True),\n",
    "    StructField(\"LATE_AIRCRAFT_DELAY\", DoubleType(), True)\n",
    "])\n",
    "\n",
    "df = spark.read.format(\"csv\") \\\n",
    "    .option(\"sep\", \",\") \\\n",
    "    .option(\"header\", True) \\\n",
    "    .schema(schema) \\\n",
    "    .load(\"*.csv\")\n",
    "\n",
    "df.createOrReplaceTempView(\"airlinedelay\")"
   ]
  },
  {
   "cell_type": "code",
   "execution_count": null,
   "id": "d106a710-02eb-4f0d-b8bd-f959282e15f9",
   "metadata": {},
   "outputs": [],
   "source": [
    "df.show()"
   ]
  },
  {
   "cell_type": "markdown",
   "id": "6bd8f540-eaa7-41bd-ab27-318baa408112",
   "metadata": {
    "tags": []
   },
   "source": [
    "GENERAL EVOLUTION OF DELAYS/IMMEDIACIES FOR DEPARTURES AND ARRIVALS"
   ]
  },
  {
   "cell_type": "code",
   "execution_count": 63,
   "id": "83be783c-6bb1-4595-89d2-73ed30f74a9e",
   "metadata": {},
   "outputs": [
    {
     "name": "stderr",
     "output_type": "stream",
     "text": [
      "[Stage 271:=============================================>         (15 + 3) / 18]\r"
     ]
    },
    {
     "name": "stdout",
     "output_type": "stream",
     "text": [
      "+----+----------------------------+--------------------------------+--------------------------+------------------------------+\n",
      "|Year|AverageDepartureDelayPerYear|AverageDepartureImmediacyPerYear|AverageArrivalDelayPerYear|AverageArrivalImmediacyPerYear|\n",
      "+----+----------------------------+--------------------------------+--------------------------+------------------------------+\n",
      "|2012|          29.308491558603826|              -4.775003687415096|         30.01057264950832|           -12.005357641941504|\n",
      "|2013|          31.401555361002433|              -4.904385394290586|        31.827785050297418|           -11.702265936434728|\n",
      "|2014|           32.49641736820618|              -4.833083676692695|        32.533315365395346|           -11.405155103231625|\n",
      "+----+----------------------------+--------------------------------+--------------------------+------------------------------+\n",
      "\n"
     ]
    },
    {
     "name": "stderr",
     "output_type": "stream",
     "text": [
      "                                                                                \r"
     ]
    }
   ],
   "source": [
    "spark.sql(\"SELECT EXTRACT(year from FL_DATE) AS Year, AVG(IF(DEP_DELAY > 0, DEP_DELAY, NULL)) AS AverageDepartureDelayPerYear, AVG(IF(DEP_DELAY < 0, DEP_DELAY, NULL)) AS AverageDepartureImmediacyPerYear, AVG(IF(ARR_DELAY > 0, ARR_DELAY, NULL)) AS AverageArrivalDelayPerYear, AVG(IF(ARR_DELAY < 0, ARR_DELAY, NULL)) AS AverageArrivalImmediacyPerYear \\\n",
    "    FROM airlinedelay \\\n",
    "    GROUP BY Year\") \\\n",
    "    .show()"
   ]
  },
  {
   "cell_type": "markdown",
   "id": "0b866f42-e0a4-4cb6-af10-116aac56421d",
   "metadata": {},
   "source": [
    "AVERAGE DEPARTURE/ARRIVAL DELAYS AND IMMEDIACIES FOR EACH CARRIER"
   ]
  },
  {
   "cell_type": "code",
   "execution_count": 64,
   "id": "704f4ef8-3641-4ded-9240-99a016d7bf53",
   "metadata": {},
   "outputs": [
    {
     "name": "stderr",
     "output_type": "stream",
     "text": [
      "[Stage 274:================================================>      (16 + 2) / 18]\r"
     ]
    },
    {
     "name": "stdout",
     "output_type": "stream",
     "text": [
      "+-------+----------------------------+--------------------------------+--------------------------+------------------------------+\n",
      "|Carrier|AverageDepartureDelayPerYear|AverageDepartureImmediacyPerYear|AverageArrivalDelayPerYear|AverageArrivalImmediacyPerYear|\n",
      "+-------+----------------------------+--------------------------------+--------------------------+------------------------------+\n",
      "|     9E|            41.1994042994043|              -5.564889633425305|         35.87002260292782|           -13.436900873769936|\n",
      "|     AA|           32.54444204760743|              -4.700877399716953|        33.255888586969014|           -12.431163678020225|\n",
      "|     AS|          25.501613592356573|              -6.637907372005587|         21.63877411823345|            -12.85842735530121|\n",
      "|     B6|          38.235298232523434|              -5.639004307460789|         37.05889731902625|           -13.144293274691284|\n",
      "|     DL|          29.328027779297397|              -4.020968669531213|         29.34248583546835|           -12.348174917909663|\n",
      "|     EV|           43.56866417921721|              -5.448998556463123|         41.61820136117948|            -12.27658039461425|\n",
      "|     F9|           30.43687578829355|              -5.644616496506808|        29.569596403127857|            -8.997076131269715|\n",
      "|     FL|          26.881852415566694|              -5.123646181590465|        26.632331391617114|           -11.377479195621511|\n",
      "|     HA|           16.85204686060287|              -5.377219951531812|        13.699081100471867|            -6.832853299111147|\n",
      "|     MQ|           37.70671422605953|              -5.547490971768387|        35.154946836224696|           -11.419539287733183|\n",
      "|     OO|           35.26593509716727|              -5.683508519198818|          30.4951227877527|            -10.70557629378142|\n",
      "|     UA|          29.072918172450425|              -4.317180445216506|        34.694970044467624|           -14.192229972779081|\n",
      "|     US|          25.681472483059192|               -4.93821045794089|        24.695787813815244|           -12.036087642183674|\n",
      "|     VX|           34.97147340601256|              -4.345797309529011|         36.41132309966074|            -12.93895484893928|\n",
      "|     WN|           24.35856657117614|              -3.067454431394141|        27.253741975736382|             -9.77646058522212|\n",
      "|     YV|           37.17987324965438|               -5.92668624921075|        29.824539537460186|            -10.78582938803043|\n",
      "+-------+----------------------------+--------------------------------+--------------------------+------------------------------+\n",
      "\n"
     ]
    },
    {
     "name": "stderr",
     "output_type": "stream",
     "text": [
      "                                                                                \r"
     ]
    }
   ],
   "source": [
    "spark.sql(\"SELECT OP_CARRIER AS Carrier, AVG(IF(DEP_DELAY > 0, DEP_DELAY, NULL)) AS AverageDepartureDelayPerYear, AVG(IF(DEP_DELAY < 0, DEP_DELAY, NULL)) AS AverageDepartureImmediacyPerYear, AVG(IF(ARR_DELAY > 0, ARR_DELAY, NULL)) AS AverageArrivalDelayPerYear, AVG(IF(ARR_DELAY < 0, ARR_DELAY, NULL)) AS AverageArrivalImmediacyPerYear \\\n",
    "    FROM airlinedelay \\\n",
    "    GROUP BY OP_CARRIER \\\n",
    "    ORDER BY OP_CARRIER\") \\\n",
    "    .show(1000)"
   ]
  },
  {
   "cell_type": "markdown",
   "id": "644d6bf2-1e27-4d20-b682-e0b75fd93a09",
   "metadata": {},
   "source": [
    "NUMBER OF DELAYS/IMMEDIACIES ON DELAYS/ARRIVALS PER CARRIER FOR EACH YEAR"
   ]
  },
  {
   "cell_type": "code",
   "execution_count": 65,
   "id": "30c6a43b-ab8d-4a33-b4b7-a9197e9a8941",
   "metadata": {},
   "outputs": [
    {
     "name": "stderr",
     "output_type": "stream",
     "text": [
      "[Stage 277:=======================================>               (13 + 5) / 18]\r"
     ]
    },
    {
     "name": "stdout",
     "output_type": "stream",
     "text": [
      "+-------+-------------------+-----------------+-------------------------+-----------------------+\n",
      "|Carrier|DepartureDelayCount|ArrivalDelayCount|DepartureImmediaciesCount|ArrivalImmediaciesCount|\n",
      "+-------+-------------------+-----------------+-------------------------+-----------------------+\n",
      "|     UA|             754037|           590542|                   667765|                 886818|\n",
      "|     AA|             639732|           652491|                   852861|                 879049|\n",
      "|     EV|             794388|           843827|                  1228926|                1212830|\n",
      "|     B6|             257316|           280607|                   419969|                 413810|\n",
      "|     DL|             694618|           721697|                  1424077|                1492563|\n",
      "|     OO|             566909|           708499|                  1163431|                1050931|\n",
      "|     F9|             107035|           123663|                   120377|                 108418|\n",
      "|     YV|              73057|           101094|                   182135|                 160106|\n",
      "|     US|             347386|           440745|                   812856|                 745075|\n",
      "|     MQ|             428657|           518210|                   768146|                 707600|\n",
      "|     HA|              45582|            72478|                   165882|                 137143|\n",
      "|     AS|             110003|           152478|                   330073|                 294612|\n",
      "|     FL|             152428|           165146|                   292229|                 289963|\n",
      "|     VX|              60540|            59542|                    96117|                 104693|\n",
      "|     WN|            1867550|          1492193|                  1264083|                1821804|\n",
      "|     9E|              77220|            94678|                   202960|                 188608|\n",
      "+-------+-------------------+-----------------+-------------------------+-----------------------+\n",
      "\n"
     ]
    },
    {
     "name": "stderr",
     "output_type": "stream",
     "text": [
      "                                                                                \r"
     ]
    }
   ],
   "source": [
    "spark.sql(\" \\\n",
    "    SELECT OP_CARRIER AS Carrier, \\\n",
    "    SUM( \\\n",
    "          CASE WHEN DEP_DELAY > 0 THEN 1 \\\n",
    "          ELSE 0 END \\\n",
    "    ) AS DepartureDelayCount, \\\n",
    "    SUM( \\\n",
    "          CASE WHEN ARR_DELAY > 0 THEN 1 \\\n",
    "          ELSE 0 END \\\n",
    "    ) AS ArrivalDelayCount, \\\n",
    "    SUM( \\\n",
    "          CASE WHEN DEP_DELAY < 0 THEN 1 \\\n",
    "          ELSE 0 END \\\n",
    "    ) AS DepartureImmediaciesCount, \\\n",
    "    SUM( \\\n",
    "          CASE WHEN ARR_DELAY < 0 THEN 1 \\\n",
    "          ELSE 0 END \\\n",
    "    ) AS ArrivalImmediaciesCount \\\n",
    "    FROM airlinedelay \\\n",
    "    GROUP BY Carrier\") \\\n",
    "    .show(1000)"
   ]
  },
  {
   "cell_type": "markdown",
   "id": "5033a9ef-d8cd-4a81-ad39-b8cc4c2b3a69",
   "metadata": {},
   "source": [
    "EVOLUTION OF DELAYS/IMMEDIACIES FOR DEPARTURES AND ARRIVALS PER CARRIER FOR EACH YEAR"
   ]
  },
  {
   "cell_type": "code",
   "execution_count": 66,
   "id": "bf0d72cd-b926-49de-a500-ee99e9b98b28",
   "metadata": {},
   "outputs": [
    {
     "name": "stderr",
     "output_type": "stream",
     "text": [
      "[Stage 280:=============================================>         (15 + 3) / 18]\r"
     ]
    },
    {
     "name": "stdout",
     "output_type": "stream",
     "text": [
      "+-------+----+----------------------------+--------------------------------+--------------------------+------------------------------+\n",
      "|Carrier|Year|AverageDepartureDelayPerYear|AverageDepartureImmediacyPerYear|AverageArrivalDelayPerYear|AverageArrivalImmediacyPerYear|\n",
      "+-------+----+----------------------------+--------------------------------+--------------------------+------------------------------+\n",
      "|     9E|2013|            41.1994042994043|              -5.564889633425305|         35.87002260292782|           -13.436900873769936|\n",
      "|     AA|2012|            31.9744497812039|              -4.552307015030712|        31.822441532976004|            -12.59330599656538|\n",
      "|     AA|2013|           30.80871770776232|              -4.624880325958691|         33.37034777594022|           -12.778652352657465|\n",
      "|     AA|2014|          35.007743983428355|              -4.912890145205526|        34.518669487146646|           -11.904497881883877|\n",
      "|     AS|2012|          27.879336977186313|              -6.545036549090261|        24.246269888037713|           -13.028705652360387|\n",
      "|     AS|2013|          23.795181743722992|               -6.64855767943075|        19.882907183665825|            -12.73828441874493|\n",
      "|     AS|2014|          25.022183133001075|              -6.715974420836435|        21.340791981365143|           -12.802217945192925|\n",
      "|     B6|2012|           37.77673907421774|              -5.522459584295612|         36.77162532413523|           -13.625548711286857|\n",
      "|     B6|2013|           39.23814312593265|              -5.636668673548804|          38.0538329659564|           -12.861876823975928|\n",
      "|     B6|2014|           37.58069898740543|              -5.752401677558862|         36.25216995949409|           -12.931696867289297|\n",
      "|     DL|2012|          28.185010990751927|              -4.137410065895643|        27.693688722889522|           -13.055169692186267|\n",
      "|     DL|2013|           30.87539669720926|              -4.082958653471191|        30.374229306314596|           -12.229476435072542|\n",
      "|     DL|2014|          28.859070919859914|             -3.8419289610104523|         29.70703169374077|           -11.777005478619662|\n",
      "|     EV|2012|           42.65081145676728|              -5.346213167957328|         41.36854134109287|           -12.691033807837169|\n",
      "|     EV|2013|            43.8381827896493|             -5.5464265723894774|         41.86608018555334|           -12.130974118476383|\n",
      "|     EV|2014|          44.210311092091345|              -5.459799986139765|        41.586408640864086|           -11.927714503927438|\n",
      "|     F9|2012|          23.497100068073518|              -5.149581534196919|         23.49190994988906|            -8.819876801231988|\n",
      "|     F9|2013|           31.13592475445314|              -5.360202437162487|        30.679076712194643|            -8.900127364791402|\n",
      "|     F9|2014|          37.138992646200535|               -6.24752579490419|         34.21748091245492|             -9.23701176529614|\n",
      "|     FL|2012|          28.042007626507267|              -5.330544987276071|        24.489068177619018|           -11.284197329569977|\n",
      "|     FL|2013|          27.188400292595094|              -4.894654343008486|         28.19164486524646|           -10.964598536335828|\n",
      "|     FL|2014|          24.503274942878903|              -4.838947471197032|         27.58211411196566|           -12.480324434210798|\n",
      "|     HA|2012|           16.38968839944938|              -4.999248630124434|         13.53497393117831|            -6.541825920778319|\n",
      "|     HA|2013|          17.216791458679978|              -5.454759514465638|        13.879850582289606|            -6.848321826062335|\n",
      "|     HA|2014|           16.99229045861887|              -5.666920219352556|        13.692131427683703|            -7.113739984949759|\n",
      "|     MQ|2012|          36.102855114756686|             -5.6072560031107175|        32.525780706475366|           -12.135391868318049|\n",
      "|     MQ|2013|          40.280996298387606|              -5.554361798684951|         38.07931932254341|           -11.209629769866464|\n",
      "|     MQ|2014|           36.25411820855296|              -5.450647928194478|         34.35198788169055|           -10.505852198974765|\n",
      "|     OO|2012|          31.932293797231253|              -5.513967224877318|        28.333251159767823|            -10.70558916399427|\n",
      "|     OO|2013|           36.18564134502327|             -5.7823355534030645|        30.974364221611136|           -10.753266570497052|\n",
      "|     OO|2014|           37.56522497742015|              -5.754899520685973|         31.96983722626864|           -10.652929321435474|\n",
      "|     UA|2012|          28.203038149876107|              -4.145415018161686|         34.02179667047542|           -14.425387555570138|\n",
      "|     UA|2013|            29.1156059936218|              -4.444042247443326|         34.79780292979094|            -14.64934353950983|\n",
      "|     UA|2014|          29.960297137239667|              -4.355269326502501|         35.29902186306083|           -13.424135925858623|\n",
      "|     US|2012|          23.297090700526088|              -5.029653766078202|        22.444664622159316|           -12.717672912768387|\n",
      "|     US|2013|           26.18748442820364|              -4.939457939963635|         25.19516970038711|           -11.721731190954648|\n",
      "|     US|2014|            27.1132282363411|              -4.839561148757664|         26.02786089457936|            -11.60515168813548|\n",
      "|     VX|2012|              34.93707264408|              -4.256121794871794|        36.512587038028926|           -13.439487298726966|\n",
      "|     VX|2013|           35.58277182607009|              -4.328941234966904|        37.483202073571924|           -12.933374773960217|\n",
      "|     VX|2014|           34.38782991202346|              -4.447828211863889|        35.287121576165305|           -12.451096145579596|\n",
      "|     WN|2012|          21.144626965146823|             -2.8815203641976788|         25.02297244972479|           -10.076667458556173|\n",
      "|     WN|2013|          22.943475906049997|              -2.888472798341851|        25.580671845090496|            -9.330167506796556|\n",
      "|     WN|2014|           28.55409783682392|             -3.4186154518000604|        30.439219882821906|            -9.855738949300946|\n",
      "|     YV|2012|           33.55842391304348|              -6.015638815796482|        26.301508700481303|           -11.342036122860138|\n",
      "|     YV|2013|          39.836089690354726|              -5.832087100355743|          32.4550952002488|           -10.158290021135466|\n",
      "+-------+----+----------------------------+--------------------------------+--------------------------+------------------------------+\n",
      "\n"
     ]
    },
    {
     "name": "stderr",
     "output_type": "stream",
     "text": [
      "                                                                                \r"
     ]
    }
   ],
   "source": [
    "carrierDelayEvolution = spark.sql(\"SELECT OP_CARRIER AS Carrier, EXTRACT(year from FL_DATE) AS Year, AVG(IF(DEP_DELAY > 0, DEP_DELAY, NULL)) AS AverageDepartureDelayPerYear, AVG(IF(DEP_DELAY < 0, DEP_DELAY, NULL)) AS AverageDepartureImmediacyPerYear, AVG(IF(ARR_DELAY > 0, ARR_DELAY, NULL)) AS AverageArrivalDelayPerYear, AVG(IF(ARR_DELAY < 0, ARR_DELAY, NULL)) AS AverageArrivalImmediacyPerYear \\\n",
    "    FROM airlinedelay \\\n",
    "    GROUP BY OP_CARRIER, Year  \\\n",
    "    ORDER BY OP_CARRIER, Year\")\n",
    "\n",
    "carrierDelayEvolution.show(1000)"
   ]
  },
  {
   "cell_type": "code",
   "execution_count": 67,
   "id": "ffd94168-b732-478c-98da-e372730112d4",
   "metadata": {},
   "outputs": [],
   "source": [
    "carrierDelayEvolution.createOrReplaceTempView(\"carrierDelayEvolution\")"
   ]
  },
  {
   "cell_type": "markdown",
   "id": "39b709fe-6fac-4c7a-b081-5467548c5997",
   "metadata": {},
   "source": [
    "EVOLUTION OF DELAYS/IMMEDIACIES FOR DEPARTURES AND ARRIVALS PER CARRIER FOR EACH YEAR: absolute change YoY of average departure/arrival delays/immediacies \n",
    "\n",
    "*Note: negative => immediacy decreases, plane leaves on time; positive => immediacy increases, plane does not leave on time.*"
   ]
  },
  {
   "cell_type": "code",
   "execution_count": 69,
   "id": "259610ce-8978-4f0b-a603-0c5460a4aa13",
   "metadata": {},
   "outputs": [
    {
     "name": "stdout",
     "output_type": "stream",
     "text": [
      "22/12/19 16:48:36 WARN WindowExec: No Partition Defined for Window operation! Moving all data to a single partition, this can cause serious performance degradation.\n",
      "22/12/19 16:48:36 WARN WindowExec: No Partition Defined for Window operation! Moving all data to a single partition, this can cause serious performance degradation.\n",
      "22/12/19 16:48:36 WARN WindowExec: No Partition Defined for Window operation! Moving all data to a single partition, this can cause serious performance degradation.\n"
     ]
    },
    {
     "name": "stderr",
     "output_type": "stream",
     "text": [
      "[Stage 295:===================================================>   (17 + 1) / 18]\r"
     ]
    },
    {
     "name": "stdout",
     "output_type": "stream",
     "text": [
      "22/12/19 16:48:41 WARN WindowExec: No Partition Defined for Window operation! Moving all data to a single partition, this can cause serious performance degradation.\n",
      "22/12/19 16:48:41 WARN WindowExec: No Partition Defined for Window operation! Moving all data to a single partition, this can cause serious performance degradation.\n",
      "22/12/19 16:48:42 WARN WindowExec: No Partition Defined for Window operation! Moving all data to a single partition, this can cause serious performance degradation.\n",
      "22/12/19 16:48:42 WARN WindowExec: No Partition Defined for Window operation! Moving all data to a single partition, this can cause serious performance degradation.\n",
      "22/12/19 16:48:42 WARN WindowExec: No Partition Defined for Window operation! Moving all data to a single partition, this can cause serious performance degradation.\n",
      "22/12/19 16:48:42 WARN WindowExec: No Partition Defined for Window operation! Moving all data to a single partition, this can cause serious performance degradation.\n",
      "+-------+----+-------------------------------------------+-----------------------------------------------+-----------------------------------------+---------------------------------------------+\n",
      "|Carrier|Year|AverageDepartureDelayYearOverYearDifference|AverageDepartureImmediacyYearOverYearDifference|AverageArrivalDelayYearOverYearDifference|AverageArrivalImmediacyYearOverYearDifference|\n",
      "+-------+----+-------------------------------------------+-----------------------------------------------+-----------------------------------------+---------------------------------------------+\n",
      "|     AA|2013|                         -1.165732073441582|                            0.07257331092797958|                       1.5479062429642134|                          0.18534635609208472|\n",
      "|     AA|2014|                          4.199026275666036|                            0.28800981924683455|                       1.1483217112064281|                           -0.874154470773588|\n",
      "|     AS|2013|                         -4.084155233463321|                            0.10352113034048926|                      -4.3633627043718874|                         -0.29042123361545613|\n",
      "|     AS|2014|                          1.227001389278083|                            0.06741674140568499|                       1.4578847976993181|                          0.06393352644799499|\n",
      "|     B6|2013|                          1.461404051714915|                            0.11420908925319129|                       1.2822076418211736|                          -0.7636718873109292|\n",
      "|     B6|2014|                        -1.6574441385272252|                             0.1157330040100586|                       -1.801663006462313|                          0.06982004331336888|\n",
      "|     DL|2013|                         2.6903857064573344|                           -0.05445141242445217|                        2.680540583425074|                          -0.8256932571137252|\n",
      "|     DL|2014|                        -2.0163257773493477|                           -0.24102969246073824|                      -0.6671976125738261|                          -0.4524709564528795|\n",
      "|     EV|2013|                          1.187371332882023|                            0.20021340443214974|                       0.4975388444604718|                          -0.5600596893607861|\n",
      "|     EV|2014|                          0.372128302442043|                           -0.08662658624971264|                      -0.2796715446892577|                         -0.20325961454894426|\n",
      "|     F9|2013|                          7.638824686379621|                            0.21062090296556768|                       7.1871667623055835|                          0.08025056355941373|\n",
      "|     F9|2014|                          6.003067891747396|                             0.8873233577417032|                        3.538404200260274|                           0.3368844005047382|\n",
      "|     FL|2013|                        -0.8536073339121728|                            -0.4358906442675856|                       3.7025766876274417|                          -0.3195987932341495|\n",
      "|     FL|2014|                        -2.6851253497161913|                           -0.05570687181145395|                      -0.6095307532808008|                           1.5157258978749706|\n",
      "|     HA|2013|                         0.8271030592305983|                             0.4555108843412041|                      0.34487665111129573|                           0.3064959052840166|\n",
      "|     HA|2014|                       -0.22450100006110674|                            0.21216070488691763|                     -0.18771915460590272|                           0.2654181588874236|\n",
      "|     MQ|2013|                           4.17814118363092|                           -0.05289420442576631|                        5.553538616068046|                          -0.9257620984515853|\n",
      "|     MQ|2014|                         -4.026878089834646|                           -0.10371387049047343|                       -3.727331440852865|                          -0.7037775708916989|\n",
      "|     OO|2013|                          4.253347547792018|                            0.26836832852574677|                       2.6411130618433134|                          0.04767740650278185|\n",
      "|     OO|2014|                           1.37958363239688|                           -0.02743603271709...|                       0.9954730046575051|                         -0.10033724906157815|\n",
      "|     UA|2013|                         0.9125678437456912|                            0.29862722928163965|                       0.7760062593155226|                          0.22395598393969252|\n",
      "|     UA|2014|                         0.8446911436178688|                           -0.08877292094082456|                       0.5012189332698895|                          -1.2252076136512073|\n",
      "|     US|2013|                         2.8903937276775515|                           -0.09019582611456745|                       2.7505050782277927|                          -0.9959417218137396|\n",
      "|     US|2014|                         0.9257438081374616|                           -0.09989679120597117|                       0.8326911941922504|                          -0.1165795028191674|\n",
      "|     VX|2013|                         0.6456991819900963|                            0.07281944009510966|                       0.9706150355429983|                          -0.5061125247667491|\n",
      "|     VX|2014|                        -1.1949419140466304|                            0.11888697689698535|                      -2.1960804974066193|                          -0.4822786283806213|\n",
      "|     WN|2013|                         1.7988489409031736|                           0.006952434144172237|                       0.5576993953657059|                          -0.7464999517596169|\n",
      "|     WN|2014|                          5.610621930773924|                             0.5301426534582094|                         4.85854803773141|                           0.5255714425043898|\n",
      "|     YV|2013|                          6.277665777311249|                           -0.18355171544073912|                        6.153586499767496|                          -1.1837461017246724|\n",
      "+-------+----+-------------------------------------------+-----------------------------------------------+-----------------------------------------+---------------------------------------------+\n",
      "\n"
     ]
    },
    {
     "name": "stderr",
     "output_type": "stream",
     "text": [
      "                                                                                \r"
     ]
    }
   ],
   "source": [
    "spark.sql(\" \\\n",
    "    SELECT Carrier, Year, \\\n",
    "    IF(Carrier = LAG(Carrier) OVER (ORDER BY Carrier, Year), AverageDepartureDelayPerYear - LAG(AverageDepartureDelayPerYear) OVER (ORDER BY Carrier, Year), NULL) AS AverageDepartureDelayYearOverYearDifference, \\\n",
    "    IF(Carrier = LAG(Carrier) OVER (ORDER BY Carrier, Year), - AverageDepartureImmediacyPerYear + LAG(AverageDepartureImmediacyPerYear) OVER (ORDER BY Carrier, Year), NULL) AS AverageDepartureImmediacyYearOverYearDifference, \\\n",
    "    IF(Carrier = LAG(Carrier) OVER (ORDER BY Carrier, Year), AverageArrivalDelayPerYear - LAG(AverageArrivalDelayPerYear) OVER (ORDER BY Carrier, Year), NULL) AS AverageArrivalDelayYearOverYearDifference, \\\n",
    "    IF(Carrier = LAG(Carrier) OVER (ORDER BY Carrier, Year), - AverageArrivalImmediacyPerYear + LAG(AverageArrivalImmediacyPerYear) OVER (ORDER BY Carrier, Year), NULL) AS AverageArrivalImmediacyYearOverYearDifference \\\n",
    "    FROM carrierDelayEvolution\") \\\n",
    "    .na.drop('any') \\\n",
    "    .show(1000)"
   ]
  },
  {
   "cell_type": "code",
   "execution_count": null,
   "id": "47c4b162-7667-4cad-9ad6-a1aea37a2615",
   "metadata": {},
   "outputs": [],
   "source": []
  }
 ],
 "metadata": {
  "kernelspec": {
   "display_name": "Python 3 (ipykernel)",
   "language": "python",
   "name": "python3"
  },
  "language_info": {
   "codemirror_mode": {
    "name": "ipython",
    "version": 3
   },
   "file_extension": ".py",
   "mimetype": "text/x-python",
   "name": "python",
   "nbconvert_exporter": "python",
   "pygments_lexer": "ipython3",
   "version": "3.8.10"
  }
 },
 "nbformat": 4,
 "nbformat_minor": 5
}
