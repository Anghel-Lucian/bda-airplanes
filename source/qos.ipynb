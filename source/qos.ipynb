{
 "cells": [
  {
   "cell_type": "code",
   "execution_count": 1,
   "id": "8bfa32cf-9c62-440f-ab3b-057afcec5f50",
   "metadata": {},
   "outputs": [],
   "source": [
    "from pyspark.sql import SparkSession\n",
    "from pyspark.sql.types import StructType, StructField\n",
    "from pyspark.sql.types import StringType, IntegerType, DateType, DoubleType\n",
    "from pyspark.sql import functions"
   ]
  },
  {
   "cell_type": "code",
   "execution_count": 2,
   "id": "7d973fc3-c36d-48b8-9ac5-da54d4606b78",
   "metadata": {},
   "outputs": [
    {
     "name": "stdout",
     "output_type": "stream",
     "text": [
      "22/12/17 10:11:08 WARN Utils: Your hostname, lucian resolves to a loopback address: 127.0.1.1; using 192.168.100.7 instead (on interface eno1)\n",
      "22/12/17 10:11:08 WARN Utils: Set SPARK_LOCAL_IP if you need to bind to another address\n"
     ]
    },
    {
     "name": "stderr",
     "output_type": "stream",
     "text": [
      "Setting default log level to \"WARN\".\n",
      "To adjust logging level use sc.setLogLevel(newLevel). For SparkR, use setLogLevel(newLevel).\n"
     ]
    },
    {
     "name": "stdout",
     "output_type": "stream",
     "text": [
      "22/12/17 10:11:08 WARN NativeCodeLoader: Unable to load native-hadoop library for your platform... using builtin-java classes where applicable\n"
     ]
    }
   ],
   "source": [
    "spark = SparkSession \\\n",
    "    .builder \\\n",
    "    .appName(\"airlinedelay\") \\\n",
    "    .getOrCreate()\n",
    "\n",
    "context = spark.sparkContext"
   ]
  },
  {
   "cell_type": "code",
   "execution_count": 6,
   "id": "838995b9-9890-461b-a42f-19b0df61f3e4",
   "metadata": {},
   "outputs": [],
   "source": [
    "schema = StructType([\n",
    "    StructField(\"FL_DATE\", DateType(), True),\n",
    "    StructField(\"OP_CARRIER\", StringType(), True),\n",
    "    StructField(\"OP_CARRIER_FL_NUM\", IntegerType(), True),\n",
    "    StructField(\"ORIGIN\", StringType(), True),\n",
    "    StructField(\"DEST\", StringType(), True),\n",
    "    StructField(\"CRS_DEP_TIME\", DoubleType(), True),\n",
    "    StructField(\"DEP_TIME\", DoubleType(), True),\n",
    "    StructField(\"DEP_DELAY\", DoubleType(), True),\n",
    "    StructField(\"TAXI_OUT\", DoubleType(), True),\n",
    "    StructField(\"WHEELS_OFF\", DoubleType(), True),\n",
    "    StructField(\"WHEELS_ON\", DoubleType(), True),\n",
    "    StructField(\"TAXI_IN\", DoubleType(), True),\n",
    "    StructField(\"CRS_ARR_TIME\", DoubleType(), True),\n",
    "    StructField(\"ARR_TIME\", DoubleType(), True),\n",
    "    StructField(\"ARR_DELAY\", DoubleType(), True),\n",
    "    StructField(\"CANCELLED\", DoubleType(), True),\n",
    "    StructField(\"CANCELLATION_CODE\", StringType(), True),\n",
    "    StructField(\"DIVERTED\", DoubleType(), True),\n",
    "    StructField(\"CRS_ELAPSED_TIME\", DoubleType(), True),\n",
    "    StructField(\"ACTUAL_ELAPSED_TIME\", DoubleType(), True),\n",
    "    StructField(\"AIR_TIME\", DoubleType(), True),\n",
    "    StructField(\"DISTANCE\", DoubleType(), True),\n",
    "    StructField(\"CARRIER_DELAY\", DoubleType(), True),\n",
    "    StructField(\"WEATHER_DELAY\", DoubleType(), True),\n",
    "    StructField(\"NAS_DELAY\", DoubleType(), True),\n",
    "    StructField(\"SECURITY_DELAY\", DoubleType(), True),\n",
    "    StructField(\"LATE_AIRCRAFT_DELAY\", DoubleType(), True)\n",
    "])\n",
    "\n",
    "df = spark.read.format(\"csv\") \\\n",
    "    .option(\"sep\", \",\") \\\n",
    "    .option(\"header\", True) \\\n",
    "    .schema(schema) \\\n",
    "    .load(\"*.csv\")\n",
    "\n",
    "df.createOrReplaceTempView(\"airlinedelay\")"
   ]
  },
  {
   "cell_type": "code",
   "execution_count": 8,
   "id": "d106a710-02eb-4f0d-b8bd-f959282e15f9",
   "metadata": {},
   "outputs": [
    {
     "name": "stdout",
     "output_type": "stream",
     "text": [
      "22/12/17 10:24:19 WARN CSVHeaderChecker: Number of column in CSV header is not equal to number of fields in the schema:\n",
      " Header length: 28, schema size: 27\n",
      "CSV file: file:///home/lucian/Facultate/BDA/source/2012.csv\n",
      "+----------+----------+-----------------+------+----+------------+--------+---------+--------+----------+---------+-------+------------+--------+---------+---------+-----------------+--------+----------------+-------------------+--------+--------+-------------+-------------+---------+--------------+-------------------+\n",
      "|   FL_DATE|OP_CARRIER|OP_CARRIER_FL_NUM|ORIGIN|DEST|CRS_DEP_TIME|DEP_TIME|DEP_DELAY|TAXI_OUT|WHEELS_OFF|WHEELS_ON|TAXI_IN|CRS_ARR_TIME|ARR_TIME|ARR_DELAY|CANCELLED|CANCELLATION_CODE|DIVERTED|CRS_ELAPSED_TIME|ACTUAL_ELAPSED_TIME|AIR_TIME|DISTANCE|CARRIER_DELAY|WEATHER_DELAY|NAS_DELAY|SECURITY_DELAY|LATE_AIRCRAFT_DELAY|\n",
      "+----------+----------+-----------------+------+----+------------+--------+---------+--------+----------+---------+-------+------------+--------+---------+---------+-----------------+--------+----------------+-------------------+--------+--------+-------------+-------------+---------+--------------+-------------------+\n",
      "|2012-01-01|        MQ|             4041|   BMI| ORD|      1715.0|  1702.0|    -13.0|     9.0|    1711.0|   1748.0|    9.0|      1810.0|  1757.0|    -13.0|      0.0|             null|     0.0|            55.0|               55.0|    37.0|   116.0|         null|         null|     null|          null|               null|\n",
      "|2012-01-01|        MQ|             4041|   ORD| BMI|      1545.0|  1540.0|     -5.0|    11.0|    1551.0|   1614.0|    5.0|      1635.0|  1619.0|    -16.0|      0.0|             null|     0.0|            50.0|               39.0|    23.0|   116.0|         null|         null|     null|          null|               null|\n",
      "|2012-01-01|        MQ|             4042|   SGF| ORD|       715.0|   705.0|    -10.0|    12.0|     717.0|    832.0|   18.0|       910.0|   850.0|    -20.0|      0.0|             null|     0.0|           115.0|              105.0|    75.0|   438.0|         null|         null|     null|          null|               null|\n",
      "|2012-01-01|        MQ|             4045|   ORD| DBQ|      1535.0|  1529.0|     -6.0|    13.0|    1542.0|   1613.0|    2.0|      1630.0|  1615.0|    -15.0|      0.0|             null|     0.0|            55.0|               46.0|    31.0|   147.0|         null|         null|     null|          null|               null|\n",
      "|2012-01-01|        MQ|             4047|   ORD| RIC|      1600.0|  1615.0|     15.0|    12.0|    1627.0|   1853.0|   11.0|      1855.0|  1904.0|      9.0|      0.0|             null|     0.0|           115.0|              109.0|    86.0|   642.0|         null|         null|     null|          null|               null|\n",
      "|2012-01-01|        MQ|             4048|   FWA| ORD|      1710.0|  1713.0|      3.0|     9.0|    1722.0|   1659.0|    9.0|      1710.0|  1708.0|     -2.0|      0.0|             null|     0.0|            60.0|               55.0|    37.0|   157.0|         null|         null|     null|          null|               null|\n",
      "|2012-01-01|        MQ|             4051|   ORD| BUF|      1645.0|  1645.0|      0.0|    42.0|    1727.0|   1941.0|    5.0|      1920.0|  1946.0|     26.0|      0.0|             null|     0.0|            95.0|              121.0|    74.0|   473.0|          0.0|          0.0|     26.0|           0.0|                0.0|\n",
      "|2012-01-01|        MQ|             4052|   CMI| ORD|      1320.0|  1311.0|     -9.0|     8.0|    1319.0|   1400.0|   42.0|      1415.0|  1442.0|     27.0|      0.0|             null|     0.0|            55.0|               91.0|    41.0|   135.0|          0.0|          0.0|     27.0|           0.0|                0.0|\n",
      "|2012-01-01|        MQ|             4057|   SYR| ORD|      1205.0|  1154.0|    -11.0|     9.0|    1203.0|   1248.0|   17.0|      1320.0|  1305.0|    -15.0|      0.0|             null|     0.0|           135.0|              131.0|   105.0|   607.0|         null|         null|     null|          null|               null|\n",
      "|2012-01-01|        MQ|             4058|   CVG| ORD|       830.0|   921.0|     51.0|    17.0|     938.0|    929.0|   27.0|       905.0|   956.0|     51.0|      0.0|             null|     0.0|            95.0|               95.0|    51.0|   265.0|         51.0|          0.0|      0.0|           0.0|                0.0|\n",
      "|2012-01-01|        MQ|             4059|   ORD| CVG|      1945.0|  1945.0|      0.0|    55.0|    2040.0|   2224.0|    4.0|      2200.0|  2228.0|     28.0|      0.0|             null|     0.0|            75.0|              103.0|    44.0|   265.0|          0.0|          0.0|     28.0|           0.0|                0.0|\n",
      "|2012-01-01|        MQ|             4060|   ORD| CMH|      1535.0|  1535.0|      0.0|    78.0|    1653.0|   1841.0|    8.0|      1745.0|  1849.0|     64.0|      0.0|             null|     0.0|            70.0|              134.0|    48.0|   296.0|          0.0|          0.0|     64.0|           0.0|                0.0|\n",
      "|2012-01-01|        MQ|             4061|   ORD| SGF|      1500.0|  1507.0|      7.0|    21.0|    1528.0|   1638.0|    3.0|      1635.0|  1641.0|      6.0|      0.0|             null|     0.0|            95.0|               94.0|    70.0|   438.0|         null|         null|     null|          null|               null|\n",
      "|2012-01-01|        MQ|             4063|   OKC| ORD|      1735.0|  1812.0|     37.0|    17.0|    1829.0|   2015.0|   47.0|      1955.0|  2102.0|     67.0|      0.0|             null|     0.0|           140.0|              170.0|   106.0|   693.0|          0.0|          0.0|     30.0|           0.0|               37.0|\n",
      "|2012-01-01|        MQ|             4064|   ORD| CLE|      1745.0|  1838.0|     53.0|    59.0|    1937.0|   2127.0|    6.0|      2010.0|  2133.0|     83.0|      0.0|             null|     0.0|            85.0|              115.0|    50.0|   315.0|          0.0|         12.0|     30.0|           0.0|               41.0|\n",
      "|2012-01-01|        MQ|             4067|   RIC| ORD|       810.0|   805.0|     -5.0|    13.0|     818.0|    902.0|    7.0|       935.0|   909.0|    -26.0|      0.0|             null|     0.0|           145.0|              124.0|   104.0|   642.0|         null|         null|     null|          null|               null|\n",
      "|2012-01-01|        MQ|             4070|   ORD| BUF|      1335.0|  1330.0|     -5.0|    45.0|    1415.0|   1625.0|    5.0|      1610.0|  1630.0|     20.0|      0.0|             null|     0.0|            95.0|              120.0|    70.0|   473.0|          0.0|          0.0|     20.0|           0.0|                0.0|\n",
      "|2012-01-01|        MQ|             4071|   ORD| XNA|      1210.0|  1207.0|     -3.0|    13.0|    1220.0|   1342.0|    5.0|      1355.0|  1347.0|     -8.0|      0.0|             null|     0.0|           105.0|              100.0|    82.0|   522.0|         null|         null|     null|          null|               null|\n",
      "|2012-01-01|        MQ|             4074|   XNA| ORD|      1435.0|  1424.0|    -11.0|     9.0|    1433.0|   1557.0|    7.0|      1630.0|  1604.0|    -26.0|      0.0|             null|     0.0|           115.0|              100.0|    84.0|   522.0|         null|         null|     null|          null|               null|\n",
      "|2012-01-01|        MQ|             4075|   ORD| TVC|      1115.0|  1110.0|     -5.0|    14.0|    1124.0|   1308.0|    3.0|      1315.0|  1311.0|     -4.0|      0.0|             null|     0.0|            60.0|               61.0|    44.0|   224.0|         null|         null|     null|          null|               null|\n",
      "+----------+----------+-----------------+------+----+------------+--------+---------+--------+----------+---------+-------+------------+--------+---------+---------+-----------------+--------+----------------+-------------------+--------+--------+-------------+-------------+---------+--------------+-------------------+\n",
      "only showing top 20 rows\n",
      "\n"
     ]
    }
   ],
   "source": [
    "df.show()"
   ]
  },
  {
   "cell_type": "code",
   "execution_count": 9,
   "id": "83be783c-6bb1-4595-89d2-73ed30f74a9e",
   "metadata": {},
   "outputs": [
    {
     "name": "stderr",
     "output_type": "stream",
     "text": [
      "[Stage 7:>                                                        (0 + 12) / 12]\r"
     ]
    },
    {
     "name": "stdout",
     "output_type": "stream",
     "text": [
      "+----+-------------------+\n",
      "|Year|AverageDelayPerYear|\n",
      "+----+-------------------+\n",
      "|2012| 25.064444508406826|\n",
      "|2013| 27.491661013175978|\n",
      "+----+-------------------+\n",
      "\n"
     ]
    },
    {
     "name": "stderr",
     "output_type": "stream",
     "text": [
      "                                                                                \r"
     ]
    }
   ],
   "source": [
    "spark.sql(\"SELECT EXTRACT(year from FL_DATE) AS Year, AVG(IF(DEP_DELAY > -1, DEP_DELAY, NULL)) AS AverageDelayPerYear FROM airlinedelay GROUP BY EXTRACT(year FROM FL_DATE)\").show() # positive delays -> planes that departed later than supposed "
   ]
  },
  {
   "cell_type": "code",
   "execution_count": 11,
   "id": "556b502d-6e78-43d6-901f-d1a459c54571",
   "metadata": {},
   "outputs": [
    {
     "name": "stderr",
     "output_type": "stream",
     "text": [
      "[Stage 13:>                                                       (0 + 12) / 12]\r"
     ]
    },
    {
     "name": "stdout",
     "output_type": "stream",
     "text": [
      "+----+-------------------+\n",
      "|Year|AverageDelayPerYear|\n",
      "+----+-------------------+\n",
      "|2012| -4.319753328392286|\n",
      "|2013| -4.447244216159287|\n",
      "+----+-------------------+\n",
      "\n"
     ]
    },
    {
     "name": "stderr",
     "output_type": "stream",
     "text": [
      "                                                                                \r"
     ]
    }
   ],
   "source": [
    "spark.sql(\"SELECT EXTRACT(year from FL_DATE) AS Year, AVG(IF(DEP_DELAY < 1, DEP_DELAY, NULL)) AS AverageDelayPerYear FROM airlinedelay GROUP BY EXTRACT(year FROM FL_DATE)\").show() # negative delays -> planes that departed sooner than supposed "
   ]
  },
  {
   "cell_type": "code",
   "execution_count": null,
   "id": "4b91bf4e-b802-4313-8eec-a786f55cbc92",
   "metadata": {},
   "outputs": [],
   "source": []
  }
 ],
 "metadata": {
  "kernelspec": {
   "display_name": "Python 3 (ipykernel)",
   "language": "python",
   "name": "python3"
  },
  "language_info": {
   "codemirror_mode": {
    "name": "ipython",
    "version": 3
   },
   "file_extension": ".py",
   "mimetype": "text/x-python",
   "name": "python",
   "nbconvert_exporter": "python",
   "pygments_lexer": "ipython3",
   "version": "3.8.10"
  }
 },
 "nbformat": 4,
 "nbformat_minor": 5
}
