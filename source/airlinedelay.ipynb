{
 "cells": [
  {
   "cell_type": "code",
   "execution_count": 102,
   "metadata": {},
   "outputs": [],
   "source": [
    "from pyspark.sql import SparkSession\n",
    "from pyspark.sql.types import StructType, StructField\n",
    "from pyspark.sql.types import StringType, IntegerType, DateType, DoubleType\n",
    "from pyspark.sql import functions\n",
    "import math\n",
    "import plotly.offline as pyo\n",
    "import plotly.graph_objs as go\n",
    "from calendar import month\n",
    "from pandas import to_datetime\n",
    "from pyspark.sql.functions import unix_timestamp\n",
    "from pyspark.sql.functions import col\n",
    "import pandas as pd"
   ]
  },
  {
   "cell_type": "code",
   "execution_count": 88,
   "metadata": {},
   "outputs": [],
   "source": [
    "spark = SparkSession \\\n",
    "    .builder \\\n",
    "    .appName(\"airlinedelay\") \\\n",
    "    .getOrCreate()\n",
    "\n",
    "context = spark.sparkContext"
   ]
  },
  {
   "cell_type": "code",
   "execution_count": 89,
   "metadata": {},
   "outputs": [],
   "source": [
    "schema = StructType([\n",
    "    StructField(\"FL_DATE\", DateType(), True),\n",
    "    StructField(\"OP_CARRIER\", StringType(), True),\n",
    "    StructField(\"OP_CARRIER_FL_NUM\", IntegerType(), True),\n",
    "    StructField(\"ORIGIN\", StringType(), True),\n",
    "    StructField(\"DEST\", StringType(), True),\n",
    "    StructField(\"CRS_DEP_TIME\", DoubleType(), True),\n",
    "    StructField(\"DEP_TIME\", DoubleType(), True),\n",
    "    StructField(\"DEP_DELAY\", DoubleType(), True),\n",
    "    StructField(\"TAXI_OUT\", DoubleType(), True),\n",
    "    StructField(\"WHEELS_OFF\", DoubleType(), True),\n",
    "    StructField(\"WHEELS_ON\", DoubleType(), True),\n",
    "    StructField(\"TAXI_IN\", DoubleType(), True),\n",
    "    StructField(\"CRS_ARR_TIME\", DoubleType(), True),\n",
    "    StructField(\"ARR_TIME\", DoubleType(), True),\n",
    "    StructField(\"ARR_DELAY\", DoubleType(), True),\n",
    "    StructField(\"CANCELLED\", DoubleType(), True),\n",
    "    StructField(\"CANCELLATION_CODE\", StringType(), True),\n",
    "    StructField(\"DIVERTED\", DoubleType(), True),\n",
    "    StructField(\"CRS_ELAPSED_TIME\", DoubleType(), True),\n",
    "    StructField(\"ACTUAL_ELAPSED_TIME\", DoubleType(), True),\n",
    "    StructField(\"AIR_TIME\", DoubleType(), True),\n",
    "    StructField(\"DISTANCE\", DoubleType(), True),\n",
    "    StructField(\"CARRIER_DELAY\", DoubleType(), True),\n",
    "    StructField(\"WEATHER_DELAY\", DoubleType(), True),\n",
    "    StructField(\"NAS_DELAY\", DoubleType(), True),\n",
    "    StructField(\"SECURITY_DELAY\", DoubleType(), True),\n",
    "    StructField(\"LATE_AIRCRAFT_DELAY\", DoubleType(), True)\n",
    "])\n",
    "\n",
    "df = spark.read.format(\"csv\") \\\n",
    "    .option(\"sep\", \",\") \\\n",
    "    .option(\"header\", True) \\\n",
    "    .schema(schema) \\\n",
    "    .load(\"*.csv\")\n",
    "\n",
    "df.createOrReplaceTempView(\"airlinedelay\")"
   ]
  },
  {
   "cell_type": "code",
   "execution_count": 90,
   "metadata": {},
   "outputs": [
    {
     "name": "stdout",
     "output_type": "stream",
     "text": [
      "+----------+----------+-----------------+------+----+------------+--------+---------+--------+----------+---------+-------+------------+--------+---------+---------+-----------------+--------+----------------+-------------------+--------+--------+-------------+-------------+---------+--------------+-------------------+\n",
      "|   FL_DATE|OP_CARRIER|OP_CARRIER_FL_NUM|ORIGIN|DEST|CRS_DEP_TIME|DEP_TIME|DEP_DELAY|TAXI_OUT|WHEELS_OFF|WHEELS_ON|TAXI_IN|CRS_ARR_TIME|ARR_TIME|ARR_DELAY|CANCELLED|CANCELLATION_CODE|DIVERTED|CRS_ELAPSED_TIME|ACTUAL_ELAPSED_TIME|AIR_TIME|DISTANCE|CARRIER_DELAY|WEATHER_DELAY|NAS_DELAY|SECURITY_DELAY|LATE_AIRCRAFT_DELAY|\n",
      "+----------+----------+-----------------+------+----+------------+--------+---------+--------+----------+---------+-------+------------+--------+---------+---------+-----------------+--------+----------------+-------------------+--------+--------+-------------+-------------+---------+--------------+-------------------+\n",
      "|2016-01-01|        DL|             1248|   DTW| LAX|      1935.0|  1935.0|      0.0|    23.0|    1958.0|   2107.0|   13.0|      2144.0|  2120.0|    -24.0|      0.0|             null|     0.0|           309.0|              285.0|   249.0|  1979.0|         null|         null|     null|          null|               null|\n",
      "|2016-01-01|        DL|             1251|   ATL| GRR|      2125.0|  2130.0|      5.0|    13.0|    2143.0|   2315.0|    4.0|      2321.0|  2319.0|     -2.0|      0.0|             null|     0.0|           116.0|              109.0|    92.0|   640.0|         null|         null|     null|          null|               null|\n",
      "|2016-01-01|        DL|             1254|   LAX| ATL|      2255.0|  2256.0|      1.0|    19.0|    2315.0|    542.0|    5.0|       600.0|   547.0|    -13.0|      0.0|             null|     0.0|           245.0|              231.0|   207.0|  1947.0|         null|         null|     null|          null|               null|\n",
      "|2016-01-01|        DL|             1255|   SLC| ATL|      1656.0|  1700.0|      4.0|    12.0|    1712.0|   2205.0|    8.0|      2229.0|  2213.0|    -16.0|      0.0|             null|     0.0|           213.0|              193.0|   173.0|  1590.0|         null|         null|     null|          null|               null|\n",
      "|2016-01-01|        DL|             1256|   BZN| MSP|       900.0|  1012.0|     72.0|    63.0|    1115.0|   1416.0|    4.0|      1216.0|  1420.0|    124.0|      0.0|             null|     0.0|           136.0|              188.0|   121.0|   874.0|         72.0|          0.0|     52.0|           0.0|                0.0|\n",
      "|2016-01-01|        DL|             1257|   ATL| BNA|      1233.0|  1356.0|     83.0|    22.0|    1418.0|   1356.0|    6.0|      1239.0|  1402.0|     83.0|      0.0|             null|     0.0|            66.0|               66.0|    38.0|   214.0|         43.0|          0.0|      0.0|           0.0|               40.0|\n",
      "|2016-01-01|        DL|             1257|   BNA| ATL|      1320.0|  1446.0|     86.0|    15.0|    1501.0|   1638.0|    6.0|      1530.0|  1644.0|     74.0|      0.0|             null|     0.0|            70.0|               58.0|    37.0|   214.0|          3.0|          0.0|      0.0|           0.0|               71.0|\n",
      "|2016-01-01|        DL|             1258|   ATL| JAX|       945.0|   946.0|      1.0|    19.0|    1005.0|   1050.0|    3.0|      1050.0|  1053.0|      3.0|      0.0|             null|     0.0|            65.0|               67.0|    45.0|   270.0|         null|         null|     null|          null|               null|\n",
      "|2016-01-01|        DL|             1258|   JAX| ATL|      1145.0|  1144.0|     -1.0|    12.0|    1156.0|   1239.0|    8.0|      1302.0|  1247.0|    -15.0|      0.0|             null|     0.0|            77.0|               63.0|    43.0|   270.0|         null|         null|     null|          null|               null|\n",
      "|2016-01-01|        DL|             1259|   ATL| OKC|      2110.0|  2107.0|     -3.0|    16.0|    2123.0|   2219.0|    5.0|      2236.0|  2224.0|    -12.0|      0.0|             null|     0.0|           146.0|              137.0|   116.0|   761.0|         null|         null|     null|          null|               null|\n",
      "|2016-01-01|        DL|             1260|   MSP| SMF|      1115.0|  1113.0|     -2.0|    12.0|    1125.0|   1232.0|    4.0|      1309.0|  1236.0|    -33.0|      0.0|             null|     0.0|           234.0|              203.0|   187.0|  1517.0|         null|         null|     null|          null|               null|\n",
      "|2016-01-01|        DL|             1262|   LAX| JFK|      2255.0|  2248.0|     -7.0|    23.0|    2311.0|    650.0|   11.0|       715.0|   701.0|    -14.0|      0.0|             null|     0.0|           320.0|              313.0|   279.0|  2475.0|         null|         null|     null|          null|               null|\n",
      "|2016-01-01|        DL|             1263|   ATL| MDT|      1510.0|  1509.0|     -1.0|    17.0|    1526.0|   1646.0|    5.0|      1702.0|  1651.0|    -11.0|      0.0|             null|     0.0|           112.0|              102.0|    80.0|   620.0|         null|         null|     null|          null|               null|\n",
      "|2016-01-01|        DL|             1263|   MDT| ATL|      1737.0|  1727.0|    -10.0|    11.0|    1738.0|   1923.0|   11.0|      1949.0|  1934.0|    -15.0|      0.0|             null|     0.0|           132.0|              127.0|   105.0|   620.0|         null|         null|     null|          null|               null|\n",
      "|2016-01-01|        DL|             1264|   SLC| JFK|      2345.0|  2341.0|     -4.0|    25.0|       6.0|    602.0|   11.0|       607.0|   613.0|      6.0|      0.0|             null|     0.0|           262.0|              272.0|   236.0|  1990.0|         null|         null|     null|          null|               null|\n",
      "|2016-01-01|        DL|             1265|   SAV| ATL|      1408.0|  1403.0|     -5.0|    15.0|    1418.0|   1459.0|    6.0|      1523.0|  1505.0|    -18.0|      0.0|             null|     0.0|            75.0|               62.0|    41.0|   214.0|         null|         null|     null|          null|               null|\n",
      "|2016-01-01|        DL|             1266|   BUF| ATL|       615.0|   612.0|     -3.0|    38.0|     650.0|    844.0|    5.0|       843.0|   849.0|      6.0|      0.0|             null|     0.0|           148.0|              157.0|   114.0|   712.0|         null|         null|     null|          null|               null|\n",
      "|2016-01-01|        DL|             1269|   LGA| MIA|      1100.0|  1100.0|      0.0|    15.0|    1115.0|   1402.0|    4.0|      1432.0|  1406.0|    -26.0|      0.0|             null|     0.0|           212.0|              186.0|   167.0|  1096.0|         null|         null|     null|          null|               null|\n",
      "|2016-01-01|        DL|             1270|   ATL| PNS|      1340.0|  1337.0|     -3.0|    11.0|    1348.0|   1339.0|    3.0|      1352.0|  1342.0|    -10.0|      0.0|             null|     0.0|            72.0|               65.0|    51.0|   271.0|         null|         null|     null|          null|               null|\n",
      "|2016-01-01|        DL|             1270|   PNS| ATL|      1435.0|  1431.0|     -4.0|    10.0|    1441.0|   1622.0|    6.0|      1648.0|  1628.0|    -20.0|      0.0|             null|     0.0|            73.0|               57.0|    41.0|   271.0|         null|         null|     null|          null|               null|\n",
      "+----------+----------+-----------------+------+----+------------+--------+---------+--------+----------+---------+-------+------------+--------+---------+---------+-----------------+--------+----------------+-------------------+--------+--------+-------------+-------------+---------+--------------+-------------------+\n",
      "only showing top 20 rows\n",
      "\n"
     ]
    }
   ],
   "source": [
    "df.show()"
   ]
  },
  {
   "cell_type": "markdown",
   "metadata": {},
   "source": [
    "TOTAL RECORDS"
   ]
  },
  {
   "cell_type": "code",
   "execution_count": 91,
   "metadata": {},
   "outputs": [
    {
     "name": "stdout",
     "output_type": "stream",
     "text": [
      "+--------+\n",
      "|count(1)|\n",
      "+--------+\n",
      "|18505725|\n",
      "+--------+\n",
      "\n"
     ]
    }
   ],
   "source": [
    "spark.sql(\"SELECT count(*) FROM airlinedelay\").show()"
   ]
  },
  {
   "attachments": {},
   "cell_type": "markdown",
   "metadata": {},
   "source": [
    " AVERAGE DEPARTURE DELAY PER MONTH IN ALL YEARS"
   ]
  },
  {
   "cell_type": "code",
   "execution_count": 106,
   "metadata": {},
   "outputs": [
    {
     "name": "stdout",
     "output_type": "stream",
     "text": [
      "+---------+-----------------------------+---------------------------+\n",
      "|    Month|AverageDepartureDelayPerMonth|AverageArrivalDelayPerMonth|\n",
      "+---------+-----------------------------+---------------------------+\n",
      "| February|           30.735431890196587|          33.71100564562122|\n",
      "|  January|            32.18828878699574|          35.25426456636053|\n",
      "|    March|           28.878667663204894|         30.986196824550824|\n",
      "|      May|            31.56993455797027|          34.25158585502806|\n",
      "|    April|            31.86281084247858|          34.09016641899735|\n",
      "|     July|           37.292714589718095|          40.61094899363225|\n",
      "|     June|            34.88871055929404|          38.14195843797705|\n",
      "|  October|            27.35363224271801|           29.2535701323158|\n",
      "|   August|            36.20854900123184|         38.999591241859285|\n",
      "|September|           28.909569347281945|          31.14594036226316|\n",
      "| November|            27.16239535928725|         30.007738214623405|\n",
      "| December|            31.40340308209513|          34.63536989043135|\n",
      "+---------+-----------------------------+---------------------------+\n",
      "\n"
     ]
    }
   ],
   "source": [
    "\n",
    "averageDepartureDelayPerMonth = spark.sql(\"SELECT CASE EXTRACT(month from FL_DATE) WHEN 1 THEN 'January'  WHEN 2 THEN 'February' WHEN 3 THEN 'March' WHEN 4 THEN 'April' WHEN 5 THEN 'May' \\\n",
    "WHEN 6 THEN 'June' WHEN 7 THEN 'July' WHEN 8 THEN 'August' WHEN 9 THEN 'September' \\\n",
    "WHEN 10 THEN 'October' WHEN 11 THEN 'November' ELSE 'December' END AS Month, \\\n",
    "AVG(IF(DEP_DELAY >= 0 , DEP_DELAY, NULL)) AS AverageDepartureDelayPerMonth, AVG(IF(ARR_DELAY >= 0 , ARR_DELAY, NULL)) AS AverageArrivalDelayPerMonth FROM airlinedelay GROUP BY Month\")\n",
    "averageDepartureDelayPerMonth.show()\n"
   ]
  },
  {
   "cell_type": "code",
   "execution_count": 105,
   "metadata": {},
   "outputs": [
    {
     "data": {
      "application/vnd.plotly.v1+json": {
       "config": {
        "linkText": "Export to plot.ly",
        "plotlyServerURL": "https://plot.ly",
        "showLink": false
       },
       "data": [
        {
         "marker": {
          "color": "red"
         },
         "mode": "lines+markers",
         "name": "Average Departure Delay",
         "text": [
          "January",
          "February",
          "March",
          "April",
          "May",
          "June",
          "July",
          "August",
          "September",
          "October",
          "November",
          "December"
         ],
         "type": "scatter",
         "x": [
          "January",
          "February",
          "March",
          "April",
          "May",
          "June",
          "July",
          "August",
          "September",
          "October",
          "November",
          "December"
         ],
         "y": [
          32.18828878699574,
          30.735431890196587,
          28.878667663204894,
          31.86281084247858,
          31.56993455797027,
          34.88871055929404,
          37.292714589718095,
          36.20854900123184,
          28.909569347281945,
          27.35363224271801,
          27.16239535928725,
          31.40340308209513
         ]
        },
        {
         "marker": {
          "color": "yellow"
         },
         "mode": "lines+markers",
         "name": "Average Arrival Delay",
         "text": [
          "January",
          "February",
          "March",
          "April",
          "May",
          "June",
          "July",
          "August",
          "September",
          "October",
          "November",
          "December"
         ],
         "type": "scatter",
         "x": [
          "January",
          "February",
          "March",
          "April",
          "May",
          "June",
          "July",
          "August",
          "September",
          "October",
          "November",
          "December"
         ],
         "y": [
          35.25426456636053,
          33.71100564562122,
          30.986196824550824,
          34.09016641899735,
          34.25158585502806,
          38.14195843797705,
          40.61094899363225,
          38.999591241859285,
          31.14594036226316,
          29.2535701323158,
          30.007738214623405,
          34.63536989043135
         ]
        }
       ],
       "layout": {
        "height": 600,
        "template": {
         "data": {
          "bar": [
           {
            "error_x": {
             "color": "#2a3f5f"
            },
            "error_y": {
             "color": "#2a3f5f"
            },
            "marker": {
             "line": {
              "color": "#E5ECF6",
              "width": 0.5
             }
            },
            "type": "bar"
           }
          ],
          "barpolar": [
           {
            "marker": {
             "line": {
              "color": "#E5ECF6",
              "width": 0.5
             }
            },
            "type": "barpolar"
           }
          ],
          "carpet": [
           {
            "aaxis": {
             "endlinecolor": "#2a3f5f",
             "gridcolor": "white",
             "linecolor": "white",
             "minorgridcolor": "white",
             "startlinecolor": "#2a3f5f"
            },
            "baxis": {
             "endlinecolor": "#2a3f5f",
             "gridcolor": "white",
             "linecolor": "white",
             "minorgridcolor": "white",
             "startlinecolor": "#2a3f5f"
            },
            "type": "carpet"
           }
          ],
          "choropleth": [
           {
            "colorbar": {
             "outlinewidth": 0,
             "ticks": ""
            },
            "type": "choropleth"
           }
          ],
          "contour": [
           {
            "colorbar": {
             "outlinewidth": 0,
             "ticks": ""
            },
            "colorscale": [
             [
              0,
              "#0d0887"
             ],
             [
              0.1111111111111111,
              "#46039f"
             ],
             [
              0.2222222222222222,
              "#7201a8"
             ],
             [
              0.3333333333333333,
              "#9c179e"
             ],
             [
              0.4444444444444444,
              "#bd3786"
             ],
             [
              0.5555555555555556,
              "#d8576b"
             ],
             [
              0.6666666666666666,
              "#ed7953"
             ],
             [
              0.7777777777777778,
              "#fb9f3a"
             ],
             [
              0.8888888888888888,
              "#fdca26"
             ],
             [
              1,
              "#f0f921"
             ]
            ],
            "type": "contour"
           }
          ],
          "contourcarpet": [
           {
            "colorbar": {
             "outlinewidth": 0,
             "ticks": ""
            },
            "type": "contourcarpet"
           }
          ],
          "heatmap": [
           {
            "colorbar": {
             "outlinewidth": 0,
             "ticks": ""
            },
            "colorscale": [
             [
              0,
              "#0d0887"
             ],
             [
              0.1111111111111111,
              "#46039f"
             ],
             [
              0.2222222222222222,
              "#7201a8"
             ],
             [
              0.3333333333333333,
              "#9c179e"
             ],
             [
              0.4444444444444444,
              "#bd3786"
             ],
             [
              0.5555555555555556,
              "#d8576b"
             ],
             [
              0.6666666666666666,
              "#ed7953"
             ],
             [
              0.7777777777777778,
              "#fb9f3a"
             ],
             [
              0.8888888888888888,
              "#fdca26"
             ],
             [
              1,
              "#f0f921"
             ]
            ],
            "type": "heatmap"
           }
          ],
          "heatmapgl": [
           {
            "colorbar": {
             "outlinewidth": 0,
             "ticks": ""
            },
            "colorscale": [
             [
              0,
              "#0d0887"
             ],
             [
              0.1111111111111111,
              "#46039f"
             ],
             [
              0.2222222222222222,
              "#7201a8"
             ],
             [
              0.3333333333333333,
              "#9c179e"
             ],
             [
              0.4444444444444444,
              "#bd3786"
             ],
             [
              0.5555555555555556,
              "#d8576b"
             ],
             [
              0.6666666666666666,
              "#ed7953"
             ],
             [
              0.7777777777777778,
              "#fb9f3a"
             ],
             [
              0.8888888888888888,
              "#fdca26"
             ],
             [
              1,
              "#f0f921"
             ]
            ],
            "type": "heatmapgl"
           }
          ],
          "histogram": [
           {
            "marker": {
             "colorbar": {
              "outlinewidth": 0,
              "ticks": ""
             }
            },
            "type": "histogram"
           }
          ],
          "histogram2d": [
           {
            "colorbar": {
             "outlinewidth": 0,
             "ticks": ""
            },
            "colorscale": [
             [
              0,
              "#0d0887"
             ],
             [
              0.1111111111111111,
              "#46039f"
             ],
             [
              0.2222222222222222,
              "#7201a8"
             ],
             [
              0.3333333333333333,
              "#9c179e"
             ],
             [
              0.4444444444444444,
              "#bd3786"
             ],
             [
              0.5555555555555556,
              "#d8576b"
             ],
             [
              0.6666666666666666,
              "#ed7953"
             ],
             [
              0.7777777777777778,
              "#fb9f3a"
             ],
             [
              0.8888888888888888,
              "#fdca26"
             ],
             [
              1,
              "#f0f921"
             ]
            ],
            "type": "histogram2d"
           }
          ],
          "histogram2dcontour": [
           {
            "colorbar": {
             "outlinewidth": 0,
             "ticks": ""
            },
            "colorscale": [
             [
              0,
              "#0d0887"
             ],
             [
              0.1111111111111111,
              "#46039f"
             ],
             [
              0.2222222222222222,
              "#7201a8"
             ],
             [
              0.3333333333333333,
              "#9c179e"
             ],
             [
              0.4444444444444444,
              "#bd3786"
             ],
             [
              0.5555555555555556,
              "#d8576b"
             ],
             [
              0.6666666666666666,
              "#ed7953"
             ],
             [
              0.7777777777777778,
              "#fb9f3a"
             ],
             [
              0.8888888888888888,
              "#fdca26"
             ],
             [
              1,
              "#f0f921"
             ]
            ],
            "type": "histogram2dcontour"
           }
          ],
          "mesh3d": [
           {
            "colorbar": {
             "outlinewidth": 0,
             "ticks": ""
            },
            "type": "mesh3d"
           }
          ],
          "parcoords": [
           {
            "line": {
             "colorbar": {
              "outlinewidth": 0,
              "ticks": ""
             }
            },
            "type": "parcoords"
           }
          ],
          "pie": [
           {
            "automargin": true,
            "type": "pie"
           }
          ],
          "scatter": [
           {
            "marker": {
             "colorbar": {
              "outlinewidth": 0,
              "ticks": ""
             }
            },
            "type": "scatter"
           }
          ],
          "scatter3d": [
           {
            "line": {
             "colorbar": {
              "outlinewidth": 0,
              "ticks": ""
             }
            },
            "marker": {
             "colorbar": {
              "outlinewidth": 0,
              "ticks": ""
             }
            },
            "type": "scatter3d"
           }
          ],
          "scattercarpet": [
           {
            "marker": {
             "colorbar": {
              "outlinewidth": 0,
              "ticks": ""
             }
            },
            "type": "scattercarpet"
           }
          ],
          "scattergeo": [
           {
            "marker": {
             "colorbar": {
              "outlinewidth": 0,
              "ticks": ""
             }
            },
            "type": "scattergeo"
           }
          ],
          "scattergl": [
           {
            "marker": {
             "colorbar": {
              "outlinewidth": 0,
              "ticks": ""
             }
            },
            "type": "scattergl"
           }
          ],
          "scattermapbox": [
           {
            "marker": {
             "colorbar": {
              "outlinewidth": 0,
              "ticks": ""
             }
            },
            "type": "scattermapbox"
           }
          ],
          "scatterpolar": [
           {
            "marker": {
             "colorbar": {
              "outlinewidth": 0,
              "ticks": ""
             }
            },
            "type": "scatterpolar"
           }
          ],
          "scatterpolargl": [
           {
            "marker": {
             "colorbar": {
              "outlinewidth": 0,
              "ticks": ""
             }
            },
            "type": "scatterpolargl"
           }
          ],
          "scatterternary": [
           {
            "marker": {
             "colorbar": {
              "outlinewidth": 0,
              "ticks": ""
             }
            },
            "type": "scatterternary"
           }
          ],
          "surface": [
           {
            "colorbar": {
             "outlinewidth": 0,
             "ticks": ""
            },
            "colorscale": [
             [
              0,
              "#0d0887"
             ],
             [
              0.1111111111111111,
              "#46039f"
             ],
             [
              0.2222222222222222,
              "#7201a8"
             ],
             [
              0.3333333333333333,
              "#9c179e"
             ],
             [
              0.4444444444444444,
              "#bd3786"
             ],
             [
              0.5555555555555556,
              "#d8576b"
             ],
             [
              0.6666666666666666,
              "#ed7953"
             ],
             [
              0.7777777777777778,
              "#fb9f3a"
             ],
             [
              0.8888888888888888,
              "#fdca26"
             ],
             [
              1,
              "#f0f921"
             ]
            ],
            "type": "surface"
           }
          ],
          "table": [
           {
            "cells": {
             "fill": {
              "color": "#EBF0F8"
             },
             "line": {
              "color": "white"
             }
            },
            "header": {
             "fill": {
              "color": "#C8D4E3"
             },
             "line": {
              "color": "white"
             }
            },
            "type": "table"
           }
          ]
         },
         "layout": {
          "annotationdefaults": {
           "arrowcolor": "#2a3f5f",
           "arrowhead": 0,
           "arrowwidth": 1
          },
          "autotypenumbers": "strict",
          "coloraxis": {
           "colorbar": {
            "outlinewidth": 0,
            "ticks": ""
           }
          },
          "colorscale": {
           "diverging": [
            [
             0,
             "#8e0152"
            ],
            [
             0.1,
             "#c51b7d"
            ],
            [
             0.2,
             "#de77ae"
            ],
            [
             0.3,
             "#f1b6da"
            ],
            [
             0.4,
             "#fde0ef"
            ],
            [
             0.5,
             "#f7f7f7"
            ],
            [
             0.6,
             "#e6f5d0"
            ],
            [
             0.7,
             "#b8e186"
            ],
            [
             0.8,
             "#7fbc41"
            ],
            [
             0.9,
             "#4d9221"
            ],
            [
             1,
             "#276419"
            ]
           ],
           "sequential": [
            [
             0,
             "#0d0887"
            ],
            [
             0.1111111111111111,
             "#46039f"
            ],
            [
             0.2222222222222222,
             "#7201a8"
            ],
            [
             0.3333333333333333,
             "#9c179e"
            ],
            [
             0.4444444444444444,
             "#bd3786"
            ],
            [
             0.5555555555555556,
             "#d8576b"
            ],
            [
             0.6666666666666666,
             "#ed7953"
            ],
            [
             0.7777777777777778,
             "#fb9f3a"
            ],
            [
             0.8888888888888888,
             "#fdca26"
            ],
            [
             1,
             "#f0f921"
            ]
           ],
           "sequentialminus": [
            [
             0,
             "#0d0887"
            ],
            [
             0.1111111111111111,
             "#46039f"
            ],
            [
             0.2222222222222222,
             "#7201a8"
            ],
            [
             0.3333333333333333,
             "#9c179e"
            ],
            [
             0.4444444444444444,
             "#bd3786"
            ],
            [
             0.5555555555555556,
             "#d8576b"
            ],
            [
             0.6666666666666666,
             "#ed7953"
            ],
            [
             0.7777777777777778,
             "#fb9f3a"
            ],
            [
             0.8888888888888888,
             "#fdca26"
            ],
            [
             1,
             "#f0f921"
            ]
           ]
          },
          "colorway": [
           "#636efa",
           "#EF553B",
           "#00cc96",
           "#ab63fa",
           "#FFA15A",
           "#19d3f3",
           "#FF6692",
           "#B6E880",
           "#FF97FF",
           "#FECB52"
          ],
          "font": {
           "color": "#2a3f5f"
          },
          "geo": {
           "bgcolor": "white",
           "lakecolor": "white",
           "landcolor": "#E5ECF6",
           "showlakes": true,
           "showland": true,
           "subunitcolor": "white"
          },
          "hoverlabel": {
           "align": "left"
          },
          "hovermode": "closest",
          "mapbox": {
           "style": "light"
          },
          "paper_bgcolor": "white",
          "plot_bgcolor": "#E5ECF6",
          "polar": {
           "angularaxis": {
            "gridcolor": "white",
            "linecolor": "white",
            "ticks": ""
           },
           "bgcolor": "#E5ECF6",
           "radialaxis": {
            "gridcolor": "white",
            "linecolor": "white",
            "ticks": ""
           }
          },
          "scene": {
           "xaxis": {
            "backgroundcolor": "#E5ECF6",
            "gridcolor": "white",
            "gridwidth": 2,
            "linecolor": "white",
            "showbackground": true,
            "ticks": "",
            "zerolinecolor": "white"
           },
           "yaxis": {
            "backgroundcolor": "#E5ECF6",
            "gridcolor": "white",
            "gridwidth": 2,
            "linecolor": "white",
            "showbackground": true,
            "ticks": "",
            "zerolinecolor": "white"
           },
           "zaxis": {
            "backgroundcolor": "#E5ECF6",
            "gridcolor": "white",
            "gridwidth": 2,
            "linecolor": "white",
            "showbackground": true,
            "ticks": "",
            "zerolinecolor": "white"
           }
          },
          "shapedefaults": {
           "line": {
            "color": "#2a3f5f"
           }
          },
          "ternary": {
           "aaxis": {
            "gridcolor": "white",
            "linecolor": "white",
            "ticks": ""
           },
           "baxis": {
            "gridcolor": "white",
            "linecolor": "white",
            "ticks": ""
           },
           "bgcolor": "#E5ECF6",
           "caxis": {
            "gridcolor": "white",
            "linecolor": "white",
            "ticks": ""
           }
          },
          "title": {
           "x": 0.05
          },
          "xaxis": {
           "automargin": true,
           "gridcolor": "white",
           "linecolor": "white",
           "ticks": "",
           "title": {
            "standoff": 15
           },
           "zerolinecolor": "white",
           "zerolinewidth": 2
          },
          "yaxis": {
           "automargin": true,
           "gridcolor": "white",
           "linecolor": "white",
           "ticks": "",
           "title": {
            "standoff": 15
           },
           "zerolinecolor": "white",
           "zerolinewidth": 2
          }
         }
        },
        "title": {
         "text": "Evolution Of AVERAGE DEPARTURE/ARRIVAL DELAY PER MONTH IN ALL YEARS"
        },
        "width": 900,
        "xaxis": {
         "tickformat": "d",
         "ticklen": 5,
         "title": {
          "text": "Month"
         },
         "zeroline": false
        },
        "yaxis": {
         "title": {
          "text": "Average Delay (Minutes)"
         }
        }
       }
      }
     },
     "metadata": {},
     "output_type": "display_data"
    }
   ],
   "source": [
    "dfpandas = averageDepartureDelayPerMonth.toPandas()\n",
    "months = [\"January\", \"February\", \"March\", \"April\", \"May\", \"June\", \n",
    "          \"July\", \"August\", \"September\", \"October\", \"November\", \"December\"]\n",
    "dfpandasaverageDepartureDelayPerMonth = dfpandas.sort_values('Month', key = lambda x : pd.Categorical(x, categories=months, ordered=True))\n",
    "\n",
    "averageDepartureDelayPerMonthGraph = go.Scatter(\n",
    "    y = dfpandasaverageDepartureDelayPerMonth['AverageDepartureDelayPerMonth'],\n",
    "    x = dfpandasaverageDepartureDelayPerMonth['Month'],\n",
    "    mode = 'lines+markers',\n",
    "    name = 'Average Departure Delay',\n",
    "    marker = dict(color='red'),\n",
    "    text = dfpandasaverageDepartureDelayPerMonth['Month'])\n",
    "\n",
    "averageArrivalDelayPerMonthGraph = go.Scatter(\n",
    "    y = dfpandasaverageDepartureDelayPerMonth['AverageArrivalDelayPerMonth'],\n",
    "    x = dfpandasaverageDepartureDelayPerMonth['Month'],\n",
    "    mode = 'lines+markers',\n",
    "    name = 'Average Arrival Delay',\n",
    "    marker = dict(color='yellow'),\n",
    "    text = dfpandasaverageDepartureDelayPerMonth['Month'])\n",
    "\n",
    "data = [averageDepartureDelayPerMonthGraph, averageArrivalDelayPerMonthGraph]\n",
    "\n",
    "layout = dict(title = 'Evolution Of AVERAGE DEPARTURE/ARRIVAL DELAY PER MONTH IN ALL YEARS',\n",
    "              xaxis= dict(title= 'Month',ticklen= 5,zeroline= False,tickformat='d'),\n",
    "              yaxis= dict(title= 'Average Delay (Minutes)'),\n",
    "              height= 600,\n",
    "              width= 900\n",
    "             )\n",
    "fig = dict(data = data, layout = layout)\n",
    "\n",
    "pyo.iplot(fig)"
   ]
  },
  {
   "attachments": {},
   "cell_type": "markdown",
   "metadata": {},
   "source": []
  },
  {
   "attachments": {},
   "cell_type": "markdown",
   "metadata": {},
   "source": [
    "AVERAGE DEPARTURE DELAY PER CARRIER FOR EACH YEAR"
   ]
  },
  {
   "cell_type": "code",
   "execution_count": 95,
   "metadata": {},
   "outputs": [
    {
     "name": "stdout",
     "output_type": "stream",
     "text": [
      "+----------+----------------------+----+\n",
      "|OP_CARRIER|AverageDelayPerCarrier|Year|\n",
      "+----------+----------------------+----+\n",
      "|        EV|     56.60643408878703|2018|\n",
      "|        EV|     54.49749016415683|2017|\n",
      "|        9E|     52.29959991640044|2018|\n",
      "|        OO|    49.596884774419706|2017|\n",
      "|        OO|     49.00604120365471|2018|\n",
      "|        F9|     47.33786048460303|2018|\n",
      "|        B6|     45.86273824773883|2017|\n",
      "|        EV|    45.038134348244974|2016|\n",
      "|        YV|     43.88718991345109|2018|\n",
      "|        B6|     43.72999099548286|2018|\n",
      "|        F9|     43.09401987941991|2016|\n",
      "|        NK|    42.209263382238206|2017|\n",
      "|        YX|     41.46272772954086|2018|\n",
      "|        NK|     40.66915626492054|2018|\n",
      "|        UA|    39.863071110562636|2018|\n",
      "|        OO|    39.496158502777874|2016|\n",
      "|        G4|     38.84540625521069|2018|\n",
      "|        F9|     38.60866406760782|2017|\n",
      "|        NK|    37.337342546482176|2016|\n",
      "|        VX|     36.26525064795499|2017|\n",
      "+----------+----------------------+----+\n",
      "only showing top 20 rows\n",
      "\n"
     ]
    }
   ],
   "source": [
    "averageDelayPerCarrier = spark.sql(\"SELECT OP_CARRIER, AVG(IF(DEP_DELAY >= 0 , DEP_DELAY, NULL)) AS AverageDelayPerCarrier, EXTRACT(year from FL_DATE) AS Year FROM airlinedelay GROUP BY OP_CARRIER, YEAR ORDER BY AverageDelayPerCarrier DESC\" )\n",
    "\n",
    "averageDelayPerCarrier.show()"
   ]
  },
  {
   "cell_type": "code",
   "execution_count": 111,
   "metadata": {},
   "outputs": [
    {
     "data": {
      "application/vnd.plotly.v1+json": {
       "config": {
        "linkText": "Export to plot.ly",
        "plotlyServerURL": "https://plot.ly",
        "showLink": false
       },
       "data": [
        {
         "name": "EV",
         "type": "bar",
         "x": [
          2016,
          2017,
          2018
         ],
         "y": [
          56.60643408878703,
          54.49749016415683,
          45.038134348244974
         ]
        },
        {
         "name": "9E",
         "type": "bar",
         "x": [
          2016,
          2017,
          2018
         ],
         "y": [
          52.29959991640044
         ]
        },
        {
         "name": "OO",
         "type": "bar",
         "x": [
          2016,
          2017,
          2018
         ],
         "y": [
          49.596884774419706,
          49.00604120365471,
          39.496158502777874
         ]
        },
        {
         "name": "F9",
         "type": "bar",
         "x": [
          2016,
          2017,
          2018
         ],
         "y": [
          47.33786048460303,
          43.09401987941991,
          38.60866406760782
         ]
        },
        {
         "name": "B6",
         "type": "bar",
         "x": [
          2016,
          2017,
          2018
         ],
         "y": [
          45.86273824773883,
          43.72999099548286,
          35.79490556718489
         ]
        },
        {
         "name": "YV",
         "type": "bar",
         "x": [
          2016,
          2017,
          2018
         ],
         "y": [
          43.88718991345109
         ]
        },
        {
         "name": "NK",
         "type": "bar",
         "x": [
          2016,
          2017,
          2018
         ],
         "y": [
          42.209263382238206,
          40.66915626492054,
          37.337342546482176
         ]
        },
        {
         "name": "YX",
         "type": "bar",
         "x": [
          2016,
          2017,
          2018
         ],
         "y": [
          41.46272772954086
         ]
        },
        {
         "name": "UA",
         "type": "bar",
         "x": [
          2016,
          2017,
          2018
         ],
         "y": [
          39.863071110562636,
          35.697285124125,
          30.965913419594255
         ]
        },
        {
         "name": "G4",
         "type": "bar",
         "x": [
          2016,
          2017,
          2018
         ],
         "y": [
          38.84540625521069
         ]
        },
        {
         "name": "VX",
         "type": "bar",
         "x": [
          2016,
          2017,
          2018
         ],
         "y": [
          36.26525064795499,
          31.77971259509721,
          28.11697428139183
         ]
        },
        {
         "name": "OH",
         "type": "bar",
         "x": [
          2016,
          2017,
          2018
         ],
         "y": [
          34.92862912682075
         ]
        },
        {
         "name": "MQ",
         "type": "bar",
         "x": [
          2016,
          2017,
          2018
         ],
         "y": [
          34.695277302275755
         ]
        },
        {
         "name": "AA",
         "type": "bar",
         "x": [
          2016,
          2017,
          2018
         ],
         "y": [
          33.104038099407575,
          32.083106782345574,
          31.191470074234218
         ]
        },
        {
         "name": "DL",
         "type": "bar",
         "x": [
          2016,
          2017,
          2018
         ],
         "y": [
          29.959391775236142,
          27.67449819095246,
          27.463280200008672
         ]
        },
        {
         "name": "AS",
         "type": "bar",
         "x": [
          2016,
          2017,
          2018
         ],
         "y": [
          25.775519848771268,
          25.650165550996906,
          22.391819772528432
         ]
        },
        {
         "name": "WN",
         "type": "bar",
         "x": [
          2016,
          2017,
          2018
         ],
         "y": [
          21.83388636148171,
          21.6551461723405,
          21.199081530924285
         ]
        },
        {
         "name": "HA",
         "type": "bar",
         "x": [
          2016,
          2017,
          2018
         ],
         "y": [
          16.691242768801118,
          15.612729683652207,
          13.662239770279971
         ]
        }
       ],
       "layout": {
        "height": 650,
        "template": {
         "data": {
          "bar": [
           {
            "error_x": {
             "color": "#2a3f5f"
            },
            "error_y": {
             "color": "#2a3f5f"
            },
            "marker": {
             "line": {
              "color": "#E5ECF6",
              "width": 0.5
             }
            },
            "type": "bar"
           }
          ],
          "barpolar": [
           {
            "marker": {
             "line": {
              "color": "#E5ECF6",
              "width": 0.5
             }
            },
            "type": "barpolar"
           }
          ],
          "carpet": [
           {
            "aaxis": {
             "endlinecolor": "#2a3f5f",
             "gridcolor": "white",
             "linecolor": "white",
             "minorgridcolor": "white",
             "startlinecolor": "#2a3f5f"
            },
            "baxis": {
             "endlinecolor": "#2a3f5f",
             "gridcolor": "white",
             "linecolor": "white",
             "minorgridcolor": "white",
             "startlinecolor": "#2a3f5f"
            },
            "type": "carpet"
           }
          ],
          "choropleth": [
           {
            "colorbar": {
             "outlinewidth": 0,
             "ticks": ""
            },
            "type": "choropleth"
           }
          ],
          "contour": [
           {
            "colorbar": {
             "outlinewidth": 0,
             "ticks": ""
            },
            "colorscale": [
             [
              0,
              "#0d0887"
             ],
             [
              0.1111111111111111,
              "#46039f"
             ],
             [
              0.2222222222222222,
              "#7201a8"
             ],
             [
              0.3333333333333333,
              "#9c179e"
             ],
             [
              0.4444444444444444,
              "#bd3786"
             ],
             [
              0.5555555555555556,
              "#d8576b"
             ],
             [
              0.6666666666666666,
              "#ed7953"
             ],
             [
              0.7777777777777778,
              "#fb9f3a"
             ],
             [
              0.8888888888888888,
              "#fdca26"
             ],
             [
              1,
              "#f0f921"
             ]
            ],
            "type": "contour"
           }
          ],
          "contourcarpet": [
           {
            "colorbar": {
             "outlinewidth": 0,
             "ticks": ""
            },
            "type": "contourcarpet"
           }
          ],
          "heatmap": [
           {
            "colorbar": {
             "outlinewidth": 0,
             "ticks": ""
            },
            "colorscale": [
             [
              0,
              "#0d0887"
             ],
             [
              0.1111111111111111,
              "#46039f"
             ],
             [
              0.2222222222222222,
              "#7201a8"
             ],
             [
              0.3333333333333333,
              "#9c179e"
             ],
             [
              0.4444444444444444,
              "#bd3786"
             ],
             [
              0.5555555555555556,
              "#d8576b"
             ],
             [
              0.6666666666666666,
              "#ed7953"
             ],
             [
              0.7777777777777778,
              "#fb9f3a"
             ],
             [
              0.8888888888888888,
              "#fdca26"
             ],
             [
              1,
              "#f0f921"
             ]
            ],
            "type": "heatmap"
           }
          ],
          "heatmapgl": [
           {
            "colorbar": {
             "outlinewidth": 0,
             "ticks": ""
            },
            "colorscale": [
             [
              0,
              "#0d0887"
             ],
             [
              0.1111111111111111,
              "#46039f"
             ],
             [
              0.2222222222222222,
              "#7201a8"
             ],
             [
              0.3333333333333333,
              "#9c179e"
             ],
             [
              0.4444444444444444,
              "#bd3786"
             ],
             [
              0.5555555555555556,
              "#d8576b"
             ],
             [
              0.6666666666666666,
              "#ed7953"
             ],
             [
              0.7777777777777778,
              "#fb9f3a"
             ],
             [
              0.8888888888888888,
              "#fdca26"
             ],
             [
              1,
              "#f0f921"
             ]
            ],
            "type": "heatmapgl"
           }
          ],
          "histogram": [
           {
            "marker": {
             "colorbar": {
              "outlinewidth": 0,
              "ticks": ""
             }
            },
            "type": "histogram"
           }
          ],
          "histogram2d": [
           {
            "colorbar": {
             "outlinewidth": 0,
             "ticks": ""
            },
            "colorscale": [
             [
              0,
              "#0d0887"
             ],
             [
              0.1111111111111111,
              "#46039f"
             ],
             [
              0.2222222222222222,
              "#7201a8"
             ],
             [
              0.3333333333333333,
              "#9c179e"
             ],
             [
              0.4444444444444444,
              "#bd3786"
             ],
             [
              0.5555555555555556,
              "#d8576b"
             ],
             [
              0.6666666666666666,
              "#ed7953"
             ],
             [
              0.7777777777777778,
              "#fb9f3a"
             ],
             [
              0.8888888888888888,
              "#fdca26"
             ],
             [
              1,
              "#f0f921"
             ]
            ],
            "type": "histogram2d"
           }
          ],
          "histogram2dcontour": [
           {
            "colorbar": {
             "outlinewidth": 0,
             "ticks": ""
            },
            "colorscale": [
             [
              0,
              "#0d0887"
             ],
             [
              0.1111111111111111,
              "#46039f"
             ],
             [
              0.2222222222222222,
              "#7201a8"
             ],
             [
              0.3333333333333333,
              "#9c179e"
             ],
             [
              0.4444444444444444,
              "#bd3786"
             ],
             [
              0.5555555555555556,
              "#d8576b"
             ],
             [
              0.6666666666666666,
              "#ed7953"
             ],
             [
              0.7777777777777778,
              "#fb9f3a"
             ],
             [
              0.8888888888888888,
              "#fdca26"
             ],
             [
              1,
              "#f0f921"
             ]
            ],
            "type": "histogram2dcontour"
           }
          ],
          "mesh3d": [
           {
            "colorbar": {
             "outlinewidth": 0,
             "ticks": ""
            },
            "type": "mesh3d"
           }
          ],
          "parcoords": [
           {
            "line": {
             "colorbar": {
              "outlinewidth": 0,
              "ticks": ""
             }
            },
            "type": "parcoords"
           }
          ],
          "pie": [
           {
            "automargin": true,
            "type": "pie"
           }
          ],
          "scatter": [
           {
            "marker": {
             "colorbar": {
              "outlinewidth": 0,
              "ticks": ""
             }
            },
            "type": "scatter"
           }
          ],
          "scatter3d": [
           {
            "line": {
             "colorbar": {
              "outlinewidth": 0,
              "ticks": ""
             }
            },
            "marker": {
             "colorbar": {
              "outlinewidth": 0,
              "ticks": ""
             }
            },
            "type": "scatter3d"
           }
          ],
          "scattercarpet": [
           {
            "marker": {
             "colorbar": {
              "outlinewidth": 0,
              "ticks": ""
             }
            },
            "type": "scattercarpet"
           }
          ],
          "scattergeo": [
           {
            "marker": {
             "colorbar": {
              "outlinewidth": 0,
              "ticks": ""
             }
            },
            "type": "scattergeo"
           }
          ],
          "scattergl": [
           {
            "marker": {
             "colorbar": {
              "outlinewidth": 0,
              "ticks": ""
             }
            },
            "type": "scattergl"
           }
          ],
          "scattermapbox": [
           {
            "marker": {
             "colorbar": {
              "outlinewidth": 0,
              "ticks": ""
             }
            },
            "type": "scattermapbox"
           }
          ],
          "scatterpolar": [
           {
            "marker": {
             "colorbar": {
              "outlinewidth": 0,
              "ticks": ""
             }
            },
            "type": "scatterpolar"
           }
          ],
          "scatterpolargl": [
           {
            "marker": {
             "colorbar": {
              "outlinewidth": 0,
              "ticks": ""
             }
            },
            "type": "scatterpolargl"
           }
          ],
          "scatterternary": [
           {
            "marker": {
             "colorbar": {
              "outlinewidth": 0,
              "ticks": ""
             }
            },
            "type": "scatterternary"
           }
          ],
          "surface": [
           {
            "colorbar": {
             "outlinewidth": 0,
             "ticks": ""
            },
            "colorscale": [
             [
              0,
              "#0d0887"
             ],
             [
              0.1111111111111111,
              "#46039f"
             ],
             [
              0.2222222222222222,
              "#7201a8"
             ],
             [
              0.3333333333333333,
              "#9c179e"
             ],
             [
              0.4444444444444444,
              "#bd3786"
             ],
             [
              0.5555555555555556,
              "#d8576b"
             ],
             [
              0.6666666666666666,
              "#ed7953"
             ],
             [
              0.7777777777777778,
              "#fb9f3a"
             ],
             [
              0.8888888888888888,
              "#fdca26"
             ],
             [
              1,
              "#f0f921"
             ]
            ],
            "type": "surface"
           }
          ],
          "table": [
           {
            "cells": {
             "fill": {
              "color": "#EBF0F8"
             },
             "line": {
              "color": "white"
             }
            },
            "header": {
             "fill": {
              "color": "#C8D4E3"
             },
             "line": {
              "color": "white"
             }
            },
            "type": "table"
           }
          ]
         },
         "layout": {
          "annotationdefaults": {
           "arrowcolor": "#2a3f5f",
           "arrowhead": 0,
           "arrowwidth": 1
          },
          "autotypenumbers": "strict",
          "coloraxis": {
           "colorbar": {
            "outlinewidth": 0,
            "ticks": ""
           }
          },
          "colorscale": {
           "diverging": [
            [
             0,
             "#8e0152"
            ],
            [
             0.1,
             "#c51b7d"
            ],
            [
             0.2,
             "#de77ae"
            ],
            [
             0.3,
             "#f1b6da"
            ],
            [
             0.4,
             "#fde0ef"
            ],
            [
             0.5,
             "#f7f7f7"
            ],
            [
             0.6,
             "#e6f5d0"
            ],
            [
             0.7,
             "#b8e186"
            ],
            [
             0.8,
             "#7fbc41"
            ],
            [
             0.9,
             "#4d9221"
            ],
            [
             1,
             "#276419"
            ]
           ],
           "sequential": [
            [
             0,
             "#0d0887"
            ],
            [
             0.1111111111111111,
             "#46039f"
            ],
            [
             0.2222222222222222,
             "#7201a8"
            ],
            [
             0.3333333333333333,
             "#9c179e"
            ],
            [
             0.4444444444444444,
             "#bd3786"
            ],
            [
             0.5555555555555556,
             "#d8576b"
            ],
            [
             0.6666666666666666,
             "#ed7953"
            ],
            [
             0.7777777777777778,
             "#fb9f3a"
            ],
            [
             0.8888888888888888,
             "#fdca26"
            ],
            [
             1,
             "#f0f921"
            ]
           ],
           "sequentialminus": [
            [
             0,
             "#0d0887"
            ],
            [
             0.1111111111111111,
             "#46039f"
            ],
            [
             0.2222222222222222,
             "#7201a8"
            ],
            [
             0.3333333333333333,
             "#9c179e"
            ],
            [
             0.4444444444444444,
             "#bd3786"
            ],
            [
             0.5555555555555556,
             "#d8576b"
            ],
            [
             0.6666666666666666,
             "#ed7953"
            ],
            [
             0.7777777777777778,
             "#fb9f3a"
            ],
            [
             0.8888888888888888,
             "#fdca26"
            ],
            [
             1,
             "#f0f921"
            ]
           ]
          },
          "colorway": [
           "#636efa",
           "#EF553B",
           "#00cc96",
           "#ab63fa",
           "#FFA15A",
           "#19d3f3",
           "#FF6692",
           "#B6E880",
           "#FF97FF",
           "#FECB52"
          ],
          "font": {
           "color": "#2a3f5f"
          },
          "geo": {
           "bgcolor": "white",
           "lakecolor": "white",
           "landcolor": "#E5ECF6",
           "showlakes": true,
           "showland": true,
           "subunitcolor": "white"
          },
          "hoverlabel": {
           "align": "left"
          },
          "hovermode": "closest",
          "mapbox": {
           "style": "light"
          },
          "paper_bgcolor": "white",
          "plot_bgcolor": "#E5ECF6",
          "polar": {
           "angularaxis": {
            "gridcolor": "white",
            "linecolor": "white",
            "ticks": ""
           },
           "bgcolor": "#E5ECF6",
           "radialaxis": {
            "gridcolor": "white",
            "linecolor": "white",
            "ticks": ""
           }
          },
          "scene": {
           "xaxis": {
            "backgroundcolor": "#E5ECF6",
            "gridcolor": "white",
            "gridwidth": 2,
            "linecolor": "white",
            "showbackground": true,
            "ticks": "",
            "zerolinecolor": "white"
           },
           "yaxis": {
            "backgroundcolor": "#E5ECF6",
            "gridcolor": "white",
            "gridwidth": 2,
            "linecolor": "white",
            "showbackground": true,
            "ticks": "",
            "zerolinecolor": "white"
           },
           "zaxis": {
            "backgroundcolor": "#E5ECF6",
            "gridcolor": "white",
            "gridwidth": 2,
            "linecolor": "white",
            "showbackground": true,
            "ticks": "",
            "zerolinecolor": "white"
           }
          },
          "shapedefaults": {
           "line": {
            "color": "#2a3f5f"
           }
          },
          "ternary": {
           "aaxis": {
            "gridcolor": "white",
            "linecolor": "white",
            "ticks": ""
           },
           "baxis": {
            "gridcolor": "white",
            "linecolor": "white",
            "ticks": ""
           },
           "bgcolor": "#E5ECF6",
           "caxis": {
            "gridcolor": "white",
            "linecolor": "white",
            "ticks": ""
           }
          },
          "title": {
           "x": 0.05
          },
          "xaxis": {
           "automargin": true,
           "gridcolor": "white",
           "linecolor": "white",
           "ticks": "",
           "title": {
            "standoff": 15
           },
           "zerolinecolor": "white",
           "zerolinewidth": 2
          },
          "yaxis": {
           "automargin": true,
           "gridcolor": "white",
           "linecolor": "white",
           "ticks": "",
           "title": {
            "standoff": 15
           },
           "zerolinecolor": "white",
           "zerolinewidth": 2
          }
         }
        },
        "title": {
         "text": "Evolution of AVERAGE DEPARTURE DELAY PER CARRIER FOR EACH YEAR"
        },
        "width": 900,
        "xaxis": {
         "tickformat": "d",
         "title": {
          "text": "Year"
         },
         "zeroline": false
        },
        "yaxis": {
         "tickformat": "d",
         "title": {
          "text": "Flight Delay (Minutes)"
         }
        }
       }
      }
     },
     "metadata": {},
     "output_type": "display_data"
    }
   ],
   "source": [
    "traces = []\n",
    "changePerCarrierMap = dict()\n",
    "years = []\n",
    "\n",
    "for i in range(len(averageDelayPerCarrier.toPandas()['Year'])):\n",
    "    if not averageDelayPerCarrier.toPandas()['Year'][i] in years:\n",
    "        years.append(averageDelayPerCarrier.toPandas()['Year'][i])\n",
    "\n",
    "years.sort()\n",
    "        \n",
    "for i in range(len(averageDelayPerCarrier.toPandas()['OP_CARRIER'])):\n",
    "    if not averageDelayPerCarrier.toPandas()['OP_CARRIER'][i] in changePerCarrierMap:\n",
    "        changePerCarrierMap[averageDelayPerCarrier.toPandas()['OP_CARRIER'][i]] = []\n",
    "        \n",
    "    changePerCarrierMap[averageDelayPerCarrier.toPandas()['OP_CARRIER'][i]].append(averageDelayPerCarrier.toPandas()['AverageDelayPerCarrier'][i])\n",
    "    \n",
    "for key in changePerCarrierMap:\n",
    "    traces.append(go.Bar(\n",
    "        y = changePerCarrierMap[key],\n",
    "        x = years,\n",
    "        name = key))\n",
    "                  \n",
    "layout = dict(title = 'AVERAGE DEPARTURE DELAY PER CARRIER FOR EACH YEAR',\n",
    "              xaxis= dict(title= 'Year',zeroline= False,tickformat='d'),\n",
    "              yaxis= dict(title= 'Flight Delay (Minutes)',tickformat='d'),\n",
    "              height= 650,\n",
    "              width= 900\n",
    "             )\n",
    "\n",
    "fig = dict(data = traces, layout = layout)\n",
    "\n",
    "pyo.iplot(fig)"
   ]
  },
  {
   "cell_type": "markdown",
   "metadata": {},
   "source": [
    "COMPANY WITH THE LARGEST AVERAGE DELAY"
   ]
  },
  {
   "cell_type": "code",
   "execution_count": 114,
   "metadata": {},
   "outputs": [
    {
     "name": "stdout",
     "output_type": "stream",
     "text": [
      "+----------+----------------------+\n",
      "|OP_CARRIER|AverageDelayPerCarrier|\n",
      "+----------+----------------------+\n",
      "|        9E|     52.29959991640044|\n",
      "+----------+----------------------+\n",
      "\n"
     ]
    }
   ],
   "source": [
    "companyWithLargetstAverageDelayForALLYears = spark.sql(\"SELECT OP_CARRIER, AVG(IF(DEP_DELAY >= 0 , DEP_DELAY, NULL)) AS AverageDelayPerCarrier FROM airlinedelay GROUP BY OP_CARRIER ORDER BY AverageDelayPerCarrier DESC LIMIT 1\")\n",
    "\n",
    "companyWithLargetstAverageDelayForALLYears.show()"
   ]
  },
  {
   "cell_type": "code",
   "execution_count": 115,
   "metadata": {},
   "outputs": [
    {
     "data": {
      "application/vnd.plotly.v1+json": {
       "config": {
        "linkText": "Export to plot.ly",
        "plotlyServerURL": "https://plot.ly",
        "showLink": false
       },
       "data": [
        {
         "text": [
          "9E"
         ],
         "type": "pie",
         "values": [
          52.29959991640044
         ]
        }
       ],
       "layout": {
        "height": 600,
        "template": {
         "data": {
          "bar": [
           {
            "error_x": {
             "color": "#2a3f5f"
            },
            "error_y": {
             "color": "#2a3f5f"
            },
            "marker": {
             "line": {
              "color": "#E5ECF6",
              "width": 0.5
             }
            },
            "type": "bar"
           }
          ],
          "barpolar": [
           {
            "marker": {
             "line": {
              "color": "#E5ECF6",
              "width": 0.5
             }
            },
            "type": "barpolar"
           }
          ],
          "carpet": [
           {
            "aaxis": {
             "endlinecolor": "#2a3f5f",
             "gridcolor": "white",
             "linecolor": "white",
             "minorgridcolor": "white",
             "startlinecolor": "#2a3f5f"
            },
            "baxis": {
             "endlinecolor": "#2a3f5f",
             "gridcolor": "white",
             "linecolor": "white",
             "minorgridcolor": "white",
             "startlinecolor": "#2a3f5f"
            },
            "type": "carpet"
           }
          ],
          "choropleth": [
           {
            "colorbar": {
             "outlinewidth": 0,
             "ticks": ""
            },
            "type": "choropleth"
           }
          ],
          "contour": [
           {
            "colorbar": {
             "outlinewidth": 0,
             "ticks": ""
            },
            "colorscale": [
             [
              0,
              "#0d0887"
             ],
             [
              0.1111111111111111,
              "#46039f"
             ],
             [
              0.2222222222222222,
              "#7201a8"
             ],
             [
              0.3333333333333333,
              "#9c179e"
             ],
             [
              0.4444444444444444,
              "#bd3786"
             ],
             [
              0.5555555555555556,
              "#d8576b"
             ],
             [
              0.6666666666666666,
              "#ed7953"
             ],
             [
              0.7777777777777778,
              "#fb9f3a"
             ],
             [
              0.8888888888888888,
              "#fdca26"
             ],
             [
              1,
              "#f0f921"
             ]
            ],
            "type": "contour"
           }
          ],
          "contourcarpet": [
           {
            "colorbar": {
             "outlinewidth": 0,
             "ticks": ""
            },
            "type": "contourcarpet"
           }
          ],
          "heatmap": [
           {
            "colorbar": {
             "outlinewidth": 0,
             "ticks": ""
            },
            "colorscale": [
             [
              0,
              "#0d0887"
             ],
             [
              0.1111111111111111,
              "#46039f"
             ],
             [
              0.2222222222222222,
              "#7201a8"
             ],
             [
              0.3333333333333333,
              "#9c179e"
             ],
             [
              0.4444444444444444,
              "#bd3786"
             ],
             [
              0.5555555555555556,
              "#d8576b"
             ],
             [
              0.6666666666666666,
              "#ed7953"
             ],
             [
              0.7777777777777778,
              "#fb9f3a"
             ],
             [
              0.8888888888888888,
              "#fdca26"
             ],
             [
              1,
              "#f0f921"
             ]
            ],
            "type": "heatmap"
           }
          ],
          "heatmapgl": [
           {
            "colorbar": {
             "outlinewidth": 0,
             "ticks": ""
            },
            "colorscale": [
             [
              0,
              "#0d0887"
             ],
             [
              0.1111111111111111,
              "#46039f"
             ],
             [
              0.2222222222222222,
              "#7201a8"
             ],
             [
              0.3333333333333333,
              "#9c179e"
             ],
             [
              0.4444444444444444,
              "#bd3786"
             ],
             [
              0.5555555555555556,
              "#d8576b"
             ],
             [
              0.6666666666666666,
              "#ed7953"
             ],
             [
              0.7777777777777778,
              "#fb9f3a"
             ],
             [
              0.8888888888888888,
              "#fdca26"
             ],
             [
              1,
              "#f0f921"
             ]
            ],
            "type": "heatmapgl"
           }
          ],
          "histogram": [
           {
            "marker": {
             "colorbar": {
              "outlinewidth": 0,
              "ticks": ""
             }
            },
            "type": "histogram"
           }
          ],
          "histogram2d": [
           {
            "colorbar": {
             "outlinewidth": 0,
             "ticks": ""
            },
            "colorscale": [
             [
              0,
              "#0d0887"
             ],
             [
              0.1111111111111111,
              "#46039f"
             ],
             [
              0.2222222222222222,
              "#7201a8"
             ],
             [
              0.3333333333333333,
              "#9c179e"
             ],
             [
              0.4444444444444444,
              "#bd3786"
             ],
             [
              0.5555555555555556,
              "#d8576b"
             ],
             [
              0.6666666666666666,
              "#ed7953"
             ],
             [
              0.7777777777777778,
              "#fb9f3a"
             ],
             [
              0.8888888888888888,
              "#fdca26"
             ],
             [
              1,
              "#f0f921"
             ]
            ],
            "type": "histogram2d"
           }
          ],
          "histogram2dcontour": [
           {
            "colorbar": {
             "outlinewidth": 0,
             "ticks": ""
            },
            "colorscale": [
             [
              0,
              "#0d0887"
             ],
             [
              0.1111111111111111,
              "#46039f"
             ],
             [
              0.2222222222222222,
              "#7201a8"
             ],
             [
              0.3333333333333333,
              "#9c179e"
             ],
             [
              0.4444444444444444,
              "#bd3786"
             ],
             [
              0.5555555555555556,
              "#d8576b"
             ],
             [
              0.6666666666666666,
              "#ed7953"
             ],
             [
              0.7777777777777778,
              "#fb9f3a"
             ],
             [
              0.8888888888888888,
              "#fdca26"
             ],
             [
              1,
              "#f0f921"
             ]
            ],
            "type": "histogram2dcontour"
           }
          ],
          "mesh3d": [
           {
            "colorbar": {
             "outlinewidth": 0,
             "ticks": ""
            },
            "type": "mesh3d"
           }
          ],
          "parcoords": [
           {
            "line": {
             "colorbar": {
              "outlinewidth": 0,
              "ticks": ""
             }
            },
            "type": "parcoords"
           }
          ],
          "pie": [
           {
            "automargin": true,
            "type": "pie"
           }
          ],
          "scatter": [
           {
            "marker": {
             "colorbar": {
              "outlinewidth": 0,
              "ticks": ""
             }
            },
            "type": "scatter"
           }
          ],
          "scatter3d": [
           {
            "line": {
             "colorbar": {
              "outlinewidth": 0,
              "ticks": ""
             }
            },
            "marker": {
             "colorbar": {
              "outlinewidth": 0,
              "ticks": ""
             }
            },
            "type": "scatter3d"
           }
          ],
          "scattercarpet": [
           {
            "marker": {
             "colorbar": {
              "outlinewidth": 0,
              "ticks": ""
             }
            },
            "type": "scattercarpet"
           }
          ],
          "scattergeo": [
           {
            "marker": {
             "colorbar": {
              "outlinewidth": 0,
              "ticks": ""
             }
            },
            "type": "scattergeo"
           }
          ],
          "scattergl": [
           {
            "marker": {
             "colorbar": {
              "outlinewidth": 0,
              "ticks": ""
             }
            },
            "type": "scattergl"
           }
          ],
          "scattermapbox": [
           {
            "marker": {
             "colorbar": {
              "outlinewidth": 0,
              "ticks": ""
             }
            },
            "type": "scattermapbox"
           }
          ],
          "scatterpolar": [
           {
            "marker": {
             "colorbar": {
              "outlinewidth": 0,
              "ticks": ""
             }
            },
            "type": "scatterpolar"
           }
          ],
          "scatterpolargl": [
           {
            "marker": {
             "colorbar": {
              "outlinewidth": 0,
              "ticks": ""
             }
            },
            "type": "scatterpolargl"
           }
          ],
          "scatterternary": [
           {
            "marker": {
             "colorbar": {
              "outlinewidth": 0,
              "ticks": ""
             }
            },
            "type": "scatterternary"
           }
          ],
          "surface": [
           {
            "colorbar": {
             "outlinewidth": 0,
             "ticks": ""
            },
            "colorscale": [
             [
              0,
              "#0d0887"
             ],
             [
              0.1111111111111111,
              "#46039f"
             ],
             [
              0.2222222222222222,
              "#7201a8"
             ],
             [
              0.3333333333333333,
              "#9c179e"
             ],
             [
              0.4444444444444444,
              "#bd3786"
             ],
             [
              0.5555555555555556,
              "#d8576b"
             ],
             [
              0.6666666666666666,
              "#ed7953"
             ],
             [
              0.7777777777777778,
              "#fb9f3a"
             ],
             [
              0.8888888888888888,
              "#fdca26"
             ],
             [
              1,
              "#f0f921"
             ]
            ],
            "type": "surface"
           }
          ],
          "table": [
           {
            "cells": {
             "fill": {
              "color": "#EBF0F8"
             },
             "line": {
              "color": "white"
             }
            },
            "header": {
             "fill": {
              "color": "#C8D4E3"
             },
             "line": {
              "color": "white"
             }
            },
            "type": "table"
           }
          ]
         },
         "layout": {
          "annotationdefaults": {
           "arrowcolor": "#2a3f5f",
           "arrowhead": 0,
           "arrowwidth": 1
          },
          "autotypenumbers": "strict",
          "coloraxis": {
           "colorbar": {
            "outlinewidth": 0,
            "ticks": ""
           }
          },
          "colorscale": {
           "diverging": [
            [
             0,
             "#8e0152"
            ],
            [
             0.1,
             "#c51b7d"
            ],
            [
             0.2,
             "#de77ae"
            ],
            [
             0.3,
             "#f1b6da"
            ],
            [
             0.4,
             "#fde0ef"
            ],
            [
             0.5,
             "#f7f7f7"
            ],
            [
             0.6,
             "#e6f5d0"
            ],
            [
             0.7,
             "#b8e186"
            ],
            [
             0.8,
             "#7fbc41"
            ],
            [
             0.9,
             "#4d9221"
            ],
            [
             1,
             "#276419"
            ]
           ],
           "sequential": [
            [
             0,
             "#0d0887"
            ],
            [
             0.1111111111111111,
             "#46039f"
            ],
            [
             0.2222222222222222,
             "#7201a8"
            ],
            [
             0.3333333333333333,
             "#9c179e"
            ],
            [
             0.4444444444444444,
             "#bd3786"
            ],
            [
             0.5555555555555556,
             "#d8576b"
            ],
            [
             0.6666666666666666,
             "#ed7953"
            ],
            [
             0.7777777777777778,
             "#fb9f3a"
            ],
            [
             0.8888888888888888,
             "#fdca26"
            ],
            [
             1,
             "#f0f921"
            ]
           ],
           "sequentialminus": [
            [
             0,
             "#0d0887"
            ],
            [
             0.1111111111111111,
             "#46039f"
            ],
            [
             0.2222222222222222,
             "#7201a8"
            ],
            [
             0.3333333333333333,
             "#9c179e"
            ],
            [
             0.4444444444444444,
             "#bd3786"
            ],
            [
             0.5555555555555556,
             "#d8576b"
            ],
            [
             0.6666666666666666,
             "#ed7953"
            ],
            [
             0.7777777777777778,
             "#fb9f3a"
            ],
            [
             0.8888888888888888,
             "#fdca26"
            ],
            [
             1,
             "#f0f921"
            ]
           ]
          },
          "colorway": [
           "#636efa",
           "#EF553B",
           "#00cc96",
           "#ab63fa",
           "#FFA15A",
           "#19d3f3",
           "#FF6692",
           "#B6E880",
           "#FF97FF",
           "#FECB52"
          ],
          "font": {
           "color": "#2a3f5f"
          },
          "geo": {
           "bgcolor": "white",
           "lakecolor": "white",
           "landcolor": "#E5ECF6",
           "showlakes": true,
           "showland": true,
           "subunitcolor": "white"
          },
          "hoverlabel": {
           "align": "left"
          },
          "hovermode": "closest",
          "mapbox": {
           "style": "light"
          },
          "paper_bgcolor": "white",
          "plot_bgcolor": "#E5ECF6",
          "polar": {
           "angularaxis": {
            "gridcolor": "white",
            "linecolor": "white",
            "ticks": ""
           },
           "bgcolor": "#E5ECF6",
           "radialaxis": {
            "gridcolor": "white",
            "linecolor": "white",
            "ticks": ""
           }
          },
          "scene": {
           "xaxis": {
            "backgroundcolor": "#E5ECF6",
            "gridcolor": "white",
            "gridwidth": 2,
            "linecolor": "white",
            "showbackground": true,
            "ticks": "",
            "zerolinecolor": "white"
           },
           "yaxis": {
            "backgroundcolor": "#E5ECF6",
            "gridcolor": "white",
            "gridwidth": 2,
            "linecolor": "white",
            "showbackground": true,
            "ticks": "",
            "zerolinecolor": "white"
           },
           "zaxis": {
            "backgroundcolor": "#E5ECF6",
            "gridcolor": "white",
            "gridwidth": 2,
            "linecolor": "white",
            "showbackground": true,
            "ticks": "",
            "zerolinecolor": "white"
           }
          },
          "shapedefaults": {
           "line": {
            "color": "#2a3f5f"
           }
          },
          "ternary": {
           "aaxis": {
            "gridcolor": "white",
            "linecolor": "white",
            "ticks": ""
           },
           "baxis": {
            "gridcolor": "white",
            "linecolor": "white",
            "ticks": ""
           },
           "bgcolor": "#E5ECF6",
           "caxis": {
            "gridcolor": "white",
            "linecolor": "white",
            "ticks": ""
           }
          },
          "title": {
           "x": 0.05
          },
          "xaxis": {
           "automargin": true,
           "gridcolor": "white",
           "linecolor": "white",
           "ticks": "",
           "title": {
            "standoff": 15
           },
           "zerolinecolor": "white",
           "zerolinewidth": 2
          },
          "yaxis": {
           "automargin": true,
           "gridcolor": "white",
           "linecolor": "white",
           "ticks": "",
           "title": {
            "standoff": 15
           },
           "zerolinecolor": "white",
           "zerolinewidth": 2
          }
         }
        },
        "title": {
         "text": "Evolution Of Average Delay Year-over-Year"
        },
        "width": 900,
        "xaxis": {
         "tickformat": "d",
         "ticklen": 5,
         "title": {
          "text": "Years"
         },
         "zeroline": false
        },
        "yaxis": {
         "title": {
          "text": "Average Delay (Minutes)"
         }
        }
       }
      }
     },
     "metadata": {},
     "output_type": "display_data"
    }
   ],
   "source": [
    "averageDepartureDelayPerYearTrace = go.Pie(\n",
    "    values = companyWithLargetstAverageDelayForALLYears.toPandas()['AverageDelayPerCarrier'],\n",
    "    text = companyWithLargetstAverageDelayForALLYears.toPandas()['OP_CARRIER'])\n",
    "\n",
    "\n",
    "data = [averageDepartureDelayPerYearTrace]\n",
    "\n",
    "layout = dict(title = 'Evolution Of Average Delay Year-over-Year',\n",
    "              xaxis= dict(title= 'Years',ticklen= 5,zeroline= False,tickformat='d'),\n",
    "              yaxis= dict(title= 'Average Delay (Minutes)'),\n",
    "              height= 600,\n",
    "              width= 900\n",
    "             )\n",
    "fig = dict(data = data, layout = layout)\n",
    "\n",
    "pyo.iplot(fig)"
   ]
  },
  {
   "attachments": {},
   "cell_type": "markdown",
   "metadata": {},
   "source": [
    "AVERAGE DEPARTURE DELAY PER DEPARTURE LOCATION IN ALL YEARS"
   ]
  },
  {
   "cell_type": "code",
   "execution_count": 113,
   "metadata": {},
   "outputs": [
    {
     "name": "stdout",
     "output_type": "stream",
     "text": [
      "+------+---------------------+\n",
      "|ORIGIN|AverageDelayPerOrigin|\n",
      "+------+---------------------+\n",
      "|   ENV|                157.0|\n",
      "|   PPG|              121.875|\n",
      "|   SLN|    88.72018348623853|\n",
      "|   LWB|    87.99009900990099|\n",
      "|   SHD|    82.14367816091954|\n",
      "|   CMX|    75.48494983277592|\n",
      "|   MQT|    74.36679536679537|\n",
      "|   LBL|    74.19811320754717|\n",
      "|   MEI|     73.9291553133515|\n",
      "|   PUB|    72.18181818181819|\n",
      "|   DVL|    71.73023255813953|\n",
      "|   RDD|    68.96987253765933|\n",
      "|   EGE|     68.9584552369807|\n",
      "|   BGM|     68.3667711598746|\n",
      "|   MBS|    68.17650834403081|\n",
      "|   CKB|    67.97377049180328|\n",
      "|   LCH|    67.80292942743009|\n",
      "|   RHI|    67.14951456310679|\n",
      "|   OTH|    66.96222222222222|\n",
      "|   PIB|    66.46075085324232|\n",
      "|   CGI|    66.34939759036145|\n",
      "|   ITH|    66.28314917127072|\n",
      "|   SAF|     65.7936210131332|\n",
      "|   ISN|    65.73929471032746|\n",
      "|   JMS|    64.92836257309942|\n",
      "|   LRD|    64.62005856515373|\n",
      "|   SCE|    64.50854700854701|\n",
      "|   UIN|    64.31189710610933|\n",
      "|   CLL|    64.19959473150962|\n",
      "|   MHK|    63.99396681749623|\n",
      "|   BRO|   63.809034907597535|\n",
      "|   DLH|    63.22632674297606|\n",
      "|   HYS|   63.138728323699425|\n",
      "|   YNG|                 63.0|\n",
      "|   AZO|    62.64597544338336|\n",
      "|   ASE|    62.07561156412157|\n",
      "|   PLN|    61.56993006993007|\n",
      "|   PAH|    61.22709163346614|\n",
      "|   MMH|    60.29054054054054|\n",
      "|   HVN|   60.048327137546465|\n",
      "|   MLU|    59.53842482100239|\n",
      "|   FSM|    59.50939457202505|\n",
      "|   EAU|    59.21383647798742|\n",
      "|   BTM|   59.199413489736074|\n",
      "|   ERI|   59.149377593360995|\n",
      "|   BGR|    59.03768996960486|\n",
      "|   RDM|    58.70456092579986|\n",
      "|   SBA|   58.678375634517764|\n",
      "|   ACK|    58.26502463054187|\n",
      "|   RST|   58.193660227835565|\n",
      "+------+---------------------+\n",
      "only showing top 50 rows\n",
      "\n"
     ]
    }
   ],
   "source": [
    "averageDelayPerDepartureLocationInAllYears = spark.sql(\"SELECT ORIGIN, AVG(IF(DEP_DELAY >= 0 , DEP_DELAY, NULL)) AS AverageDelayPerOrigin FROM airlinedelay  \\\n",
    "GROUP BY ORIGIN ORDER BY AverageDelayPerOrigin DESC\")\n",
    "\n",
    "averageDelayPerDepartureLocationInAllYears.show(50);"
   ]
  },
  {
   "attachments": {},
   "cell_type": "markdown",
   "metadata": {},
   "source": [
    "AVERAGE DEPARTURE DELAY PER DEPARTURE LOCATION EACH YEAR"
   ]
  },
  {
   "cell_type": "code",
   "execution_count": 112,
   "metadata": {},
   "outputs": [
    {
     "name": "stdout",
     "output_type": "stream",
     "text": [
      "+------+----------------------+----+\n",
      "|ORIGIN|AverageDelayPerCarrier|Year|\n",
      "+------+----------------------+----+\n",
      "|   PPG|    201.55555555555554|2016|\n",
      "|   ENV|                 157.0|2016|\n",
      "|   DVL|     122.1344537815126|2018|\n",
      "|   PPG|     99.58064516129032|2018|\n",
      "|   GCK|     99.08108108108108|2016|\n",
      "|   JMS|     97.18536585365854|2018|\n",
      "|   CMX|     96.56744186046511|2018|\n",
      "|   UST|     95.85714285714286|2017|\n",
      "|   GCK|     92.89655172413794|2017|\n",
      "|   RHI|     92.57462686567165|2017|\n",
      "|   SLN|     88.72018348623853|2018|\n",
      "|   LWB|     87.99009900990099|2018|\n",
      "|   LCH|     86.76878612716763|2017|\n",
      "|   MQT|     84.84939759036145|2016|\n",
      "|   SAF|     82.25088339222614|2018|\n",
      "|   SHD|     82.14367816091954|2018|\n",
      "|   MEI|     81.23869346733669|2017|\n",
      "|   RHI|     80.50381679389314|2018|\n",
      "|   FSM|      80.1043956043956|2017|\n",
      "|   HYS|     80.08812260536398|2018|\n",
      "|   ITH|     79.99586776859505|2018|\n",
      "|   MHK|     79.28909952606635|2017|\n",
      "|   BGR|     79.12786885245902|2017|\n",
      "|   EGE|       78.440329218107|2018|\n",
      "|   MBS|     78.38323353293413|2017|\n",
      "|   MMH|                  78.2|2018|\n",
      "|   LCH|     78.13186813186813|2016|\n",
      "|   RDD|     78.07777777777778|2017|\n",
      "|   PIB|     77.61714285714285|2018|\n",
      "|   ERI|     77.15962441314554|2018|\n",
      "|   OTH|     76.14285714285714|2017|\n",
      "|   BTM|     75.61206896551724|2017|\n",
      "|   LAW|             75.515625|2017|\n",
      "|   LAR|     75.33870967741936|2018|\n",
      "|   MQT|      74.9423076923077|2017|\n",
      "|   EGE|      74.6752688172043|2017|\n",
      "|   DLH|     74.46409807355516|2017|\n",
      "|   RDD|     74.42724458204334|2018|\n",
      "|   BGM|     74.33644859813084|2018|\n",
      "|   LBL|     74.19811320754717|2018|\n",
      "|   EAU|     73.74705882352941|2018|\n",
      "|   PUB|     73.49748743718592|2018|\n",
      "|   SUX|     73.46153846153847|2017|\n",
      "|   OTH|     73.36585365853658|2018|\n",
      "|   MEI|     73.16949152542372|2016|\n",
      "|   ELM|     72.66666666666667|2017|\n",
      "|   PPG|     72.33333333333333|2017|\n",
      "|   ACK|     72.23287671232876|2018|\n",
      "|   LWS|     71.48648648648648|2017|\n",
      "|   CLL|     71.29906542056075|2018|\n",
      "+------+----------------------+----+\n",
      "only showing top 50 rows\n",
      "\n"
     ]
    }
   ],
   "source": [
    "averageDelayPerDepartureLocationEachYear = spark.sql(\"SELECT ORIGIN, AVG(IF(DEP_DELAY >= 0 , DEP_DELAY, NULL)) AS AverageDelayPerCarrier, EXTRACT(year from FL_DATE) AS Year FROM airlinedelay GROUP BY ORIGIN, Year ORDER BY AverageDelayPerCarrier DESC\")\n",
    "\n",
    "averageDelayPerDepartureLocationEachYear.show(50)"
   ]
  },
  {
   "cell_type": "markdown",
   "metadata": {},
   "source": [
    "DEPARTURE LOCATION WITH THE LARGEST AVERAGE DELAY"
   ]
  },
  {
   "cell_type": "code",
   "execution_count": null,
   "metadata": {},
   "outputs": [
    {
     "name": "stdout",
     "output_type": "stream",
     "text": [
      "+------+------------------+----+\n",
      "|ORIGIN|      AverageDelay|Year|\n",
      "+------+------------------+----+\n",
      "|   PPG|201.55555555555554|2016|\n",
      "|   ENV|             157.0|2016|\n",
      "|   DVL| 122.1344537815126|2018|\n",
      "|   PPG| 99.58064516129032|2018|\n",
      "|   GCK| 99.08108108108108|2016|\n",
      "|   JMS| 97.18536585365854|2018|\n",
      "|   CMX| 96.56744186046511|2018|\n",
      "|   UST| 95.85714285714286|2017|\n",
      "|   GCK| 92.89655172413794|2017|\n",
      "|   RHI| 92.57462686567165|2017|\n",
      "|   SLN| 88.72018348623853|2018|\n",
      "|   LWB| 87.99009900990099|2018|\n",
      "|   LCH| 86.76878612716763|2017|\n",
      "|   MQT| 84.84939759036145|2016|\n",
      "|   SAF| 82.25088339222614|2018|\n",
      "|   SHD| 82.14367816091954|2018|\n",
      "|   MEI| 81.23869346733669|2017|\n",
      "|   RHI| 80.50381679389314|2018|\n",
      "|   FSM|  80.1043956043956|2017|\n",
      "|   HYS| 80.08812260536398|2018|\n",
      "+------+------------------+----+\n",
      "only showing top 20 rows\n",
      "\n"
     ]
    }
   ],
   "source": [
    "spark.sql(\"SELECT ORIGIN, AVG(IF(DEP_DELAY >= 0 , DEP_DELAY, NULL)) AS AverageDelay,EXTRACT(year from FL_DATE) AS Year FROM airlinedelay GROUP BY ORIGIN, Year ORDER BY AverageDelay DESC\").show()"
   ]
  },
  {
   "cell_type": "code",
   "execution_count": null,
   "metadata": {},
   "outputs": [
    {
     "ename": "ParseException",
     "evalue": "\nSyntax error at or near 'WHERE'(line 1, pos 166)\n\n== SQL ==\nSELECT a1.ORIGIN, AVG(IF(a1.DEP_DELAY >= 0 , a1.DEP_DELAY, NULL)) AS AverageDelay,EXTRACT(year from a1.FL_DATE) AS Year FROM airlinedelay a1 GROUP BY a1.ORIGIN, Year WHERE AverageDelay IN ( SELECT a2.ORIGIN, AVG(IF(a2.DEP_DELAY >= 0 , a2.DEP_DELAY, NULL)) AS AverageDelay1,EXTRACT(year from a2.FL_DATE) AS Year1 FROM airlinedelay a2 WHERE a1.Year=a2.Year1 GROUP BY a2.ORIGIN ORDER BY AverageDelay1 DESC LIMIT 1) \n----------------------------------------------------------------------------------------------------------------------------------------------------------------------^^^\n",
     "output_type": "error",
     "traceback": [
      "\u001b[1;31m---------------------------------------------------------------------------\u001b[0m",
      "\u001b[1;31mParseException\u001b[0m                            Traceback (most recent call last)",
      "\u001b[1;32m<ipython-input-44-3bc863c00e6a>\u001b[0m in \u001b[0;36m<module>\u001b[1;34m\u001b[0m\n\u001b[0;32m      2\u001b[0m \u001b[0mFROM\u001b[0m \u001b[0mairlinedelay\u001b[0m \u001b[0ma1\u001b[0m \u001b[0mGROUP\u001b[0m \u001b[0mBY\u001b[0m \u001b[0ma1\u001b[0m\u001b[1;33m.\u001b[0m\u001b[0mORIGIN\u001b[0m\u001b[1;33m,\u001b[0m \u001b[0mYear\u001b[0m\u001b[0;31m \u001b[0m\u001b[0;31m\\\u001b[0m\u001b[1;33m\u001b[0m\u001b[1;33m\u001b[0m\u001b[0m\n\u001b[0;32m      3\u001b[0m WHERE AverageDelay IN ( SELECT a2.ORIGIN, AVG(IF(a2.DEP_DELAY >= 0 , a2.DEP_DELAY, NULL)) AS AverageDelay1,EXTRACT(year from a2.FL_DATE) AS Year1 \\\n\u001b[1;32m----> 4\u001b[1;33m FROM airlinedelay a2 WHERE a1.Year=a2.Year1 GROUP BY a2.ORIGIN ORDER BY AverageDelay1 DESC LIMIT 1) \")\n\u001b[0m",
      "\u001b[1;32mc:\\Users\\andre\\AppData\\Local\\Programs\\Python\\Python36\\lib\\site-packages\\pyspark\\sql\\session.py\u001b[0m in \u001b[0;36msql\u001b[1;34m(self, sqlQuery)\u001b[0m\n\u001b[0;32m    721\u001b[0m         \u001b[1;33m[\u001b[0m\u001b[0mRow\u001b[0m\u001b[1;33m(\u001b[0m\u001b[0mf1\u001b[0m\u001b[1;33m=\u001b[0m\u001b[1;36m1\u001b[0m\u001b[1;33m,\u001b[0m \u001b[0mf2\u001b[0m\u001b[1;33m=\u001b[0m\u001b[1;34m'row1'\u001b[0m\u001b[1;33m)\u001b[0m\u001b[1;33m,\u001b[0m \u001b[0mRow\u001b[0m\u001b[1;33m(\u001b[0m\u001b[0mf1\u001b[0m\u001b[1;33m=\u001b[0m\u001b[1;36m2\u001b[0m\u001b[1;33m,\u001b[0m \u001b[0mf2\u001b[0m\u001b[1;33m=\u001b[0m\u001b[1;34m'row2'\u001b[0m\u001b[1;33m)\u001b[0m\u001b[1;33m,\u001b[0m \u001b[0mRow\u001b[0m\u001b[1;33m(\u001b[0m\u001b[0mf1\u001b[0m\u001b[1;33m=\u001b[0m\u001b[1;36m3\u001b[0m\u001b[1;33m,\u001b[0m \u001b[0mf2\u001b[0m\u001b[1;33m=\u001b[0m\u001b[1;34m'row3'\u001b[0m\u001b[1;33m)\u001b[0m\u001b[1;33m]\u001b[0m\u001b[1;33m\u001b[0m\u001b[1;33m\u001b[0m\u001b[0m\n\u001b[0;32m    722\u001b[0m         \"\"\"\n\u001b[1;32m--> 723\u001b[1;33m         \u001b[1;32mreturn\u001b[0m \u001b[0mDataFrame\u001b[0m\u001b[1;33m(\u001b[0m\u001b[0mself\u001b[0m\u001b[1;33m.\u001b[0m\u001b[0m_jsparkSession\u001b[0m\u001b[1;33m.\u001b[0m\u001b[0msql\u001b[0m\u001b[1;33m(\u001b[0m\u001b[0msqlQuery\u001b[0m\u001b[1;33m)\u001b[0m\u001b[1;33m,\u001b[0m \u001b[0mself\u001b[0m\u001b[1;33m.\u001b[0m\u001b[0m_wrapped\u001b[0m\u001b[1;33m)\u001b[0m\u001b[1;33m\u001b[0m\u001b[1;33m\u001b[0m\u001b[0m\n\u001b[0m\u001b[0;32m    724\u001b[0m \u001b[1;33m\u001b[0m\u001b[0m\n\u001b[0;32m    725\u001b[0m     \u001b[1;32mdef\u001b[0m \u001b[0mtable\u001b[0m\u001b[1;33m(\u001b[0m\u001b[0mself\u001b[0m\u001b[1;33m,\u001b[0m \u001b[0mtableName\u001b[0m\u001b[1;33m)\u001b[0m\u001b[1;33m:\u001b[0m\u001b[1;33m\u001b[0m\u001b[1;33m\u001b[0m\u001b[0m\n",
      "\u001b[1;32mc:\\Users\\andre\\AppData\\Local\\Programs\\Python\\Python36\\lib\\site-packages\\py4j\\java_gateway.py\u001b[0m in \u001b[0;36m__call__\u001b[1;34m(self, *args)\u001b[0m\n\u001b[0;32m   1320\u001b[0m         \u001b[0manswer\u001b[0m \u001b[1;33m=\u001b[0m \u001b[0mself\u001b[0m\u001b[1;33m.\u001b[0m\u001b[0mgateway_client\u001b[0m\u001b[1;33m.\u001b[0m\u001b[0msend_command\u001b[0m\u001b[1;33m(\u001b[0m\u001b[0mcommand\u001b[0m\u001b[1;33m)\u001b[0m\u001b[1;33m\u001b[0m\u001b[1;33m\u001b[0m\u001b[0m\n\u001b[0;32m   1321\u001b[0m         return_value = get_return_value(\n\u001b[1;32m-> 1322\u001b[1;33m             answer, self.gateway_client, self.target_id, self.name)\n\u001b[0m\u001b[0;32m   1323\u001b[0m \u001b[1;33m\u001b[0m\u001b[0m\n\u001b[0;32m   1324\u001b[0m         \u001b[1;32mfor\u001b[0m \u001b[0mtemp_arg\u001b[0m \u001b[1;32min\u001b[0m \u001b[0mtemp_args\u001b[0m\u001b[1;33m:\u001b[0m\u001b[1;33m\u001b[0m\u001b[1;33m\u001b[0m\u001b[0m\n",
      "\u001b[1;32mc:\\Users\\andre\\AppData\\Local\\Programs\\Python\\Python36\\lib\\site-packages\\pyspark\\sql\\utils.py\u001b[0m in \u001b[0;36mdeco\u001b[1;34m(*a, **kw)\u001b[0m\n\u001b[0;32m    115\u001b[0m                 \u001b[1;31m# Hide where the exception came from that shows a non-Pythonic\u001b[0m\u001b[1;33m\u001b[0m\u001b[1;33m\u001b[0m\u001b[1;33m\u001b[0m\u001b[0m\n\u001b[0;32m    116\u001b[0m                 \u001b[1;31m# JVM exception message.\u001b[0m\u001b[1;33m\u001b[0m\u001b[1;33m\u001b[0m\u001b[1;33m\u001b[0m\u001b[0m\n\u001b[1;32m--> 117\u001b[1;33m                 \u001b[1;32mraise\u001b[0m \u001b[0mconverted\u001b[0m \u001b[1;32mfrom\u001b[0m \u001b[1;32mNone\u001b[0m\u001b[1;33m\u001b[0m\u001b[1;33m\u001b[0m\u001b[0m\n\u001b[0m\u001b[0;32m    118\u001b[0m             \u001b[1;32melse\u001b[0m\u001b[1;33m:\u001b[0m\u001b[1;33m\u001b[0m\u001b[1;33m\u001b[0m\u001b[0m\n\u001b[0;32m    119\u001b[0m                 \u001b[1;32mraise\u001b[0m\u001b[1;33m\u001b[0m\u001b[1;33m\u001b[0m\u001b[0m\n",
      "\u001b[1;31mParseException\u001b[0m: \nSyntax error at or near 'WHERE'(line 1, pos 166)\n\n== SQL ==\nSELECT a1.ORIGIN, AVG(IF(a1.DEP_DELAY >= 0 , a1.DEP_DELAY, NULL)) AS AverageDelay,EXTRACT(year from a1.FL_DATE) AS Year FROM airlinedelay a1 GROUP BY a1.ORIGIN, Year WHERE AverageDelay IN ( SELECT a2.ORIGIN, AVG(IF(a2.DEP_DELAY >= 0 , a2.DEP_DELAY, NULL)) AS AverageDelay1,EXTRACT(year from a2.FL_DATE) AS Year1 FROM airlinedelay a2 WHERE a1.Year=a2.Year1 GROUP BY a2.ORIGIN ORDER BY AverageDelay1 DESC LIMIT 1) \n----------------------------------------------------------------------------------------------------------------------------------------------------------------------^^^\n"
     ]
    }
   ],
   "source": [
    "spark.sql(\"SELECT a1.ORIGIN, AVG(IF(a1.DEP_DELAY >= 0 , a1.DEP_DELAY, NULL)) AS AverageDelay,EXTRACT(year from a1.FL_DATE) AS Year \\\n",
    "FROM airlinedelay a1 WHERE AverageDelay IN ( SELECT a2.ORIGIN, AVG(IF(a2.DEP_DELAY >= 0 , a2.DEP_DELAY, NULL)) AS AverageDelay1,EXTRACT(year from a2.FL_DATE) AS Year1 \\\n",
    "FROM airlinedelay a2 WHERE a1.Year=a2.Year1 GROUP BY a2.ORIGIN ORDER BY AverageDelay1 DESC LIMIT 1) GROUP BY a1.ORIGIN, Year \\\n",
    " \")"
   ]
  }
 ],
 "metadata": {
  "kernelspec": {
   "display_name": "Python 3.6.8 64-bit",
   "language": "python",
   "name": "python3"
  },
  "language_info": {
   "codemirror_mode": {
    "name": "ipython",
    "version": 3
   },
   "file_extension": ".py",
   "mimetype": "text/x-python",
   "name": "python",
   "nbconvert_exporter": "python",
   "pygments_lexer": "ipython3",
   "version": "3.6.8 (tags/v3.6.8:3c6b436a57, Dec 24 2018, 00:16:47) [MSC v.1916 64 bit (AMD64)]"
  },
  "orig_nbformat": 4,
  "vscode": {
   "interpreter": {
    "hash": "bb41c486c9a952ea9ab660fc5492da8d93953408d86caf7fa1d34391fa6c6cf3"
   }
  }
 },
 "nbformat": 4,
 "nbformat_minor": 2
}
