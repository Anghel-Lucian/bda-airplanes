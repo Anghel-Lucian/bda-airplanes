{
 "cells": [
  {
   "cell_type": "code",
   "execution_count": 14,
   "id": "8bfa32cf-9c62-440f-ab3b-057afcec5f50",
   "metadata": {},
   "outputs": [],
   "source": [
    "from pyspark.sql import SparkSession\n",
    "from pyspark.sql.types import StructType, StructField\n",
    "from pyspark.sql.types import StringType, IntegerType, DateType, DoubleType\n",
    "from pyspark.sql import functions\n",
    "import math\n",
    "import plotly.offline as pyo\n",
    "import plotly.graph_objs as go"
   ]
  },
  {
   "cell_type": "code",
   "execution_count": 15,
   "id": "7d973fc3-c36d-48b8-9ac5-da54d4606b78",
   "metadata": {},
   "outputs": [],
   "source": [
    "spark = SparkSession \\\n",
    "    .builder \\\n",
    "    .appName(\"airlinedelay\") \\\n",
    "    .getOrCreate()\n",
    "\n",
    "context = spark.sparkContext"
   ]
  },
  {
   "cell_type": "code",
   "execution_count": 16,
   "id": "838995b9-9890-461b-a42f-19b0df61f3e4",
   "metadata": {},
   "outputs": [],
   "source": [
    "schema = StructType([\n",
    "    StructField(\"FL_DATE\", DateType(), True),\n",
    "    StructField(\"OP_CARRIER\", StringType(), True),\n",
    "    StructField(\"OP_CARRIER_FL_NUM\", IntegerType(), True),\n",
    "    StructField(\"ORIGIN\", StringType(), True),\n",
    "    StructField(\"DEST\", StringType(), True),\n",
    "    StructField(\"CRS_DEP_TIME\", DoubleType(), True),\n",
    "    StructField(\"DEP_TIME\", DoubleType(), True),\n",
    "    StructField(\"DEP_DELAY\", DoubleType(), True),\n",
    "    StructField(\"TAXI_OUT\", DoubleType(), True),\n",
    "    StructField(\"WHEELS_OFF\", DoubleType(), True),\n",
    "    StructField(\"WHEELS_ON\", DoubleType(), True),\n",
    "    StructField(\"TAXI_IN\", DoubleType(), True),\n",
    "    StructField(\"CRS_ARR_TIME\", DoubleType(), True),\n",
    "    StructField(\"ARR_TIME\", DoubleType(), True),\n",
    "    StructField(\"ARR_DELAY\", DoubleType(), True),\n",
    "    StructField(\"CANCELLED\", DoubleType(), True),\n",
    "    StructField(\"CANCELLATION_CODE\", StringType(), True),\n",
    "    StructField(\"DIVERTED\", DoubleType(), True),\n",
    "    StructField(\"CRS_ELAPSED_TIME\", DoubleType(), True),\n",
    "    StructField(\"ACTUAL_ELAPSED_TIME\", DoubleType(), True),\n",
    "    StructField(\"AIR_TIME\", DoubleType(), True),\n",
    "    StructField(\"DISTANCE\", DoubleType(), True),\n",
    "    StructField(\"CARRIER_DELAY\", DoubleType(), True),\n",
    "    StructField(\"WEATHER_DELAY\", DoubleType(), True),\n",
    "    StructField(\"NAS_DELAY\", DoubleType(), True),\n",
    "    StructField(\"SECURITY_DELAY\", DoubleType(), True),\n",
    "    StructField(\"LATE_AIRCRAFT_DELAY\", DoubleType(), True)\n",
    "])\n",
    "\n",
    "df = spark.read.format(\"csv\") \\\n",
    "    .option(\"sep\", \",\") \\\n",
    "    .option(\"header\", True) \\\n",
    "    .schema(schema) \\\n",
    "    .load(\"*.csv\")\n",
    "\n",
    "df.createOrReplaceTempView(\"airlinedelay\")"
   ]
  },
  {
   "cell_type": "markdown",
   "id": "58c625eb-e4e5-4f06-bb51-4dccc564be42",
   "metadata": {},
   "source": [
    "CORRELATION BETWEEN DEPARTURE DELAY AND ARRIVAL DELAY"
   ]
  },
  {
   "cell_type": "code",
   "execution_count": null,
   "id": "fdde7455-fc2c-428c-b960-4846f4c818cc",
   "metadata": {},
   "outputs": [],
   "source": [
    "df.stat.corr('DEP_DELAY', 'ARR_DELAY')"
   ]
  },
  {
   "cell_type": "markdown",
   "id": "6bd8f540-eaa7-41bd-ab27-318baa408112",
   "metadata": {
    "tags": []
   },
   "source": [
    "GENERAL EVOLUTION OF DELAYS/IMMEDIACIES FOR DEPARTURES AND ARRIVALS"
   ]
  },
  {
   "cell_type": "code",
   "execution_count": null,
   "id": "83be783c-6bb1-4595-89d2-73ed30f74a9e",
   "metadata": {},
   "outputs": [],
   "source": [
    "evolutionAverageDelaysPerYear = spark.sql(\"SELECT EXTRACT(year from FL_DATE) AS Year, AVG(IF(DEP_DELAY > 0, DEP_DELAY, NULL)) AS AverageDepartureDelayPerYear, AVG(IF(DEP_DELAY < 0, DEP_DELAY, NULL)) AS AverageDepartureImmediacyPerYear, AVG(IF(ARR_DELAY > 0, ARR_DELAY, NULL)) AS AverageArrivalDelayPerYear, AVG(IF(ARR_DELAY < 0, ARR_DELAY, NULL)) AS AverageArrivalImmediacyPerYear \\\n",
    "    FROM airlinedelay \\\n",
    "    GROUP BY Year\") \\\n",
    "    \n",
    "evolutionAverageDelaysPerYear.show()"
   ]
  },
  {
   "cell_type": "markdown",
   "id": "c605fd7e-1440-4eef-b33a-9dc2c85e51d0",
   "metadata": {},
   "source": [
    "GENERAL EVOLUTION OF DELAYS/IMMEDIACIES FOR DEPARTURES AND ARRIVALS \\[GRAPHS\\]"
   ]
  },
  {
   "cell_type": "code",
   "execution_count": null,
   "id": "475aa372-6fb9-42fe-b90c-516bef8431e9",
   "metadata": {},
   "outputs": [],
   "source": [
    "averageDepartureDelayPerYearTrace = go.Scatter(\n",
    "    y = evolutionAverageDelaysPerYear.toPandas()['AverageDepartureDelayPerYear'],\n",
    "    x = evolutionAverageDelaysPerYear.toPandas()['Year'],\n",
    "    mode = 'lines+markers',\n",
    "    name = 'Average Departure Delay',\n",
    "    marker = dict(color='red'),\n",
    "    text = evolutionAverageDelaysPerYear.toPandas()['Year'])\n",
    "\n",
    "averageArrivalDelayPerYearTrace = go.Scatter(\n",
    "    y = evolutionAverageDelaysPerYear.toPandas()['AverageArrivalDelayPerYear'],\n",
    "    x = evolutionAverageDelaysPerYear.toPandas()['Year'],\n",
    "    mode = 'lines+markers',\n",
    "    name = 'Average Arrival Delay',\n",
    "    marker = dict(color='yellow'),\n",
    "    text = evolutionAverageDelaysPerYear.toPandas()['Year'])\n",
    "\n",
    "data = [averageDepartureDelayPerYearTrace, averageArrivalDelayPerYearTrace]\n",
    "\n",
    "layout = dict(title = 'Evolution Of Average Delay Year-over-Year',\n",
    "              xaxis= dict(title= 'Years',ticklen= 5,zeroline= False,tickformat='d'),\n",
    "              yaxis= dict(title= 'Average Delay (Minutes)')\n",
    "             )\n",
    "fig = dict(data = data, layout = layout)\n",
    "\n",
    "pyo.iplot(fig)"
   ]
  },
  {
   "cell_type": "code",
   "execution_count": null,
   "id": "28d9b851-fe5f-4c03-9874-6aa1a4706dc2",
   "metadata": {},
   "outputs": [],
   "source": [
    "averageDepartureImmediacyPerYearTrace = go.Scatter(\n",
    "    y= evolutionAverageDelaysPerYear.toPandas()['AverageDepartureImmediacyPerYear'],\n",
    "    x = evolutionAverageDelaysPerYear.toPandas()['Year'],\n",
    "    mode = 'lines+markers',\n",
    "    name = 'Average Departure Haste',\n",
    "    marker = dict(color='blue'),\n",
    "    text = evolutionAverageDelaysPerYear.toPandas()['Year'])\n",
    "\n",
    "averageArrivalImmediacyPerYearTrace = go.Scatter(\n",
    "    y = evolutionAverageDelaysPerYear.toPandas()['AverageArrivalImmediacyPerYear'],\n",
    "    x = evolutionAverageDelaysPerYear.toPandas()['Year'],\n",
    "    mode = 'lines+markers',\n",
    "    name = 'Average Arrival Haste',\n",
    "    marker = dict(color='green'),\n",
    "    text = evolutionAverageDelaysPerYear.toPandas()['Year'])\n",
    "\n",
    "data = [averageDepartureImmediacyPerYearTrace, averageArrivalImmediacyPerYearTrace]\n",
    "\n",
    "layout = dict(title = 'Evolution Of Average Haste Year-over-Year',\n",
    "              xaxis= dict(title= 'Year',ticklen= 5,zeroline= False,tickformat='d'),\n",
    "              yaxis= dict(title= 'Average Haste (Minutes)')\n",
    "             )\n",
    "fig = dict(data = data, layout = layout)\n",
    "\n",
    "pyo.iplot(fig)"
   ]
  },
  {
   "cell_type": "markdown",
   "id": "0b866f42-e0a4-4cb6-af10-116aac56421d",
   "metadata": {},
   "source": [
    "AVERAGE DEPARTURE/ARRIVAL DELAYS AND IMMEDIACIES FOR EACH CARRIER"
   ]
  },
  {
   "cell_type": "code",
   "execution_count": null,
   "id": "704f4ef8-3641-4ded-9240-99a016d7bf53",
   "metadata": {},
   "outputs": [],
   "source": [
    "spark.sql(\"SELECT OP_CARRIER AS Carrier, AVG(IF(DEP_DELAY > 0, DEP_DELAY, NULL)) AS AverageDepartureDelayPerYear, AVG(IF(DEP_DELAY < 0, DEP_DELAY, NULL)) AS AverageDepartureImmediacyPerYear, AVG(IF(ARR_DELAY > 0, ARR_DELAY, NULL)) AS AverageArrivalDelayPerYear, AVG(IF(ARR_DELAY < 0, ARR_DELAY, NULL)) AS AverageArrivalImmediacyPerYear \\\n",
    "    FROM airlinedelay \\\n",
    "    GROUP BY OP_CARRIER \\\n",
    "    ORDER BY OP_CARRIER\") \\\n",
    "    .show(1000)"
   ]
  },
  {
   "cell_type": "markdown",
   "id": "5033a9ef-d8cd-4a81-ad39-b8cc4c2b3a69",
   "metadata": {},
   "source": [
    "EVOLUTION OF DELAYS/IMMEDIACIES FOR DEPARTURES AND ARRIVALS PER CARRIER FOR EACH YEAR"
   ]
  },
  {
   "cell_type": "code",
   "execution_count": null,
   "id": "bf0d72cd-b926-49de-a500-ee99e9b98b28",
   "metadata": {},
   "outputs": [],
   "source": [
    "carrierDelayEvolution = spark.sql(\"SELECT OP_CARRIER AS Carrier, EXTRACT(year from FL_DATE) AS Year, AVG(IF(DEP_DELAY > 0, DEP_DELAY, NULL)) AS AverageDepartureDelayPerYear, AVG(IF(DEP_DELAY < 0, DEP_DELAY, NULL)) AS AverageDepartureImmediacyPerYear, AVG(IF(ARR_DELAY > 0, ARR_DELAY, NULL)) AS AverageArrivalDelayPerYear, AVG(IF(ARR_DELAY < 0, ARR_DELAY, NULL)) AS AverageArrivalImmediacyPerYear \\\n",
    "    FROM airlinedelay \\\n",
    "    GROUP BY OP_CARRIER, Year  \\\n",
    "    ORDER BY OP_CARRIER, Year\")\n",
    "\n",
    "carrierDelayEvolution.show(1000)"
   ]
  },
  {
   "cell_type": "code",
   "execution_count": null,
   "id": "ffd94168-b732-478c-98da-e372730112d4",
   "metadata": {},
   "outputs": [],
   "source": [
    "carrierDelayEvolution.createOrReplaceTempView(\"carrierDelayEvolution\")"
   ]
  },
  {
   "cell_type": "markdown",
   "id": "39b709fe-6fac-4c7a-b081-5467548c5997",
   "metadata": {},
   "source": [
    "EVOLUTION OF DELAYS/IMMEDIACIES FOR DEPARTURES AND ARRIVALS PER CARRIER FOR EACH YEAR: absolute change YoY of average departure/arrival delays/immediacies \n",
    "\n",
    "*Note: negative => immediacy decreases, plane leaves on time; positive => immediacy increases, plane does not leave on time.*"
   ]
  },
  {
   "cell_type": "code",
   "execution_count": null,
   "id": "259610ce-8978-4f0b-a603-0c5460a4aa13",
   "metadata": {},
   "outputs": [],
   "source": [
    "spark.sql(\" \\\n",
    "    SELECT Carrier, Year, \\\n",
    "    IF(Carrier = LAG(Carrier) OVER (ORDER BY Carrier, Year), AverageDepartureDelayPerYear - LAG(AverageDepartureDelayPerYear) OVER (ORDER BY Carrier, Year), NULL) AS AverageDepartureDelayYearOverYearDifference, \\\n",
    "    IF(Carrier = LAG(Carrier) OVER (ORDER BY Carrier, Year), - AverageDepartureImmediacyPerYear + LAG(AverageDepartureImmediacyPerYear) OVER (ORDER BY Carrier, Year), NULL) AS AverageDepartureImmediacyYearOverYearDifference, \\\n",
    "    IF(Carrier = LAG(Carrier) OVER (ORDER BY Carrier, Year), AverageArrivalDelayPerYear - LAG(AverageArrivalDelayPerYear) OVER (ORDER BY Carrier, Year), NULL) AS AverageArrivalDelayYearOverYearDifference, \\\n",
    "    IF(Carrier = LAG(Carrier) OVER (ORDER BY Carrier, Year), - AverageArrivalImmediacyPerYear + LAG(AverageArrivalImmediacyPerYear) OVER (ORDER BY Carrier, Year), NULL) AS AverageArrivalImmediacyYearOverYearDifference \\\n",
    "    FROM carrierDelayEvolution\") \\\n",
    "    .na.drop('any') \\\n",
    "    .show(1000)"
   ]
  },
  {
   "cell_type": "markdown",
   "id": "8d76ecc9-0661-4046-b7f7-cb39e1b803ee",
   "metadata": {},
   "source": [
    "# TODO: graphs for the cells above, related to evolution of delay amount and stuff"
   ]
  },
  {
   "cell_type": "markdown",
   "id": "644d6bf2-1e27-4d20-b682-e0b75fd93a09",
   "metadata": {},
   "source": [
    "PERCENTAGE OF DELAYS/IMMEDIACIES ON DELAYS/ARRIVALS PER CARRIER FOR ENTIRE PERIOD RELATIVE TO ALL FLIGHTS FOR CURRENT CARRIER"
   ]
  },
  {
   "cell_type": "code",
   "execution_count": null,
   "id": "30c6a43b-ab8d-4a33-b4b7-a9197e9a8941",
   "metadata": {},
   "outputs": [],
   "source": [
    "numberOfDelaysPerCarrier = spark.sql(\" \\\n",
    "    SELECT OP_CARRIER AS Carrier, \\\n",
    "    SUM( \\\n",
    "          CASE WHEN DEP_DELAY > 0 THEN 1 \\\n",
    "          ELSE 0 END \\\n",
    "    ) / COUNT(*) AS DepartureDelayCount, \\\n",
    "    SUM( \\\n",
    "          CASE WHEN ARR_DELAY > 0 THEN 1 \\\n",
    "          ELSE 0 END \\\n",
    "    ) / COUNT(*) AS ArrivalDelayCount, \\\n",
    "    SUM( \\\n",
    "          CASE WHEN DEP_DELAY < 0 THEN 1 \\\n",
    "          ELSE 0 END \\\n",
    "    ) / COUNT(*) AS DepartureImmediaciesCount, \\\n",
    "    SUM( \\\n",
    "          CASE WHEN ARR_DELAY < 0 THEN 1 \\\n",
    "          ELSE 0 END \\\n",
    "    ) / COUNT(*) AS ArrivalImmediaciesCount \\\n",
    "    FROM airlinedelay \\\n",
    "    GROUP BY Carrier\")\n",
    "\n",
    "numberOfDelaysPerCarrier.show(1000)"
   ]
  },
  {
   "cell_type": "markdown",
   "id": "52cd67ba-ac66-47b0-8082-1fc4ee38ea2d",
   "metadata": {
    "tags": []
   },
   "source": [
    "PERCENTAGE OF DELAYS/IMMEDIACIES ON DELAYS/ARRIVALS PER CARRIER FOR ENTIRE PERIOD RELATIVE TO ALL FLIGHTS FOR CURRENT CARRIER \\[GRAPHS\\]"
   ]
  },
  {
   "cell_type": "code",
   "execution_count": null,
   "id": "3162f407-7210-4f62-ade6-76d596b90931",
   "metadata": {},
   "outputs": [],
   "source": [
    "departureDelayCountBar = go.Bar(\n",
    "    x = numberOfDelaysPerCarrier.toPandas()['Carrier'],\n",
    "    y = numberOfDelaysPerCarrier.toPandas()['DepartureDelayCount'],\n",
    "    name = 'Departure Delay Percentage',\n",
    "    marker = dict(color='red'),\n",
    "    text = round(numberOfDelaysPerCarrier.toPandas()['DepartureDelayCount'] * 100))\n",
    "\n",
    "arrivalDelayCountBar = go.Bar(\n",
    "    x = numberOfDelaysPerCarrier.toPandas()['Carrier'],\n",
    "    y = numberOfDelaysPerCarrier.toPandas()['ArrivalDelayCount'],\n",
    "    name = 'Arrival Delay Percentage',\n",
    "    marker = dict(color='yellow'),\n",
    "    text = round(numberOfDelaysPerCarrier.toPandas()['ArrivalDelayCount'] * 100))\n",
    "\n",
    "departureImmediaciesCountBar = go.Bar(\n",
    "    x = numberOfDelaysPerCarrier.toPandas()['Carrier'],\n",
    "    y = numberOfDelaysPerCarrier.toPandas()['DepartureImmediaciesCount'],\n",
    "    name = 'Departure Haste Percentage',\n",
    "    marker = dict(color='blue'),\n",
    "    text = round(numberOfDelaysPerCarrier.toPandas()['DepartureImmediaciesCount'] * 100))\n",
    "\n",
    "arrivalImmediaciesCountBar = go.Bar(\n",
    "    x = numberOfDelaysPerCarrier.toPandas()['Carrier'],\n",
    "    y = numberOfDelaysPerCarrier.toPandas()['ArrivalImmediaciesCount'],\n",
    "    name = 'Arrival Immediacies Percentage',\n",
    "    marker = dict(color='green'),\n",
    "    text = round(numberOfDelaysPerCarrier.toPandas()['ArrivalImmediaciesCount'] * 100))\n",
    "\n",
    "\n",
    "data = [departureDelayCountBar, arrivalDelayCountBar, departureImmediaciesCountBar, arrivalImmediaciesCountBar]\n",
    "\n",
    "layout = dict(title = 'Departure and Arrival Delay or Haste Percentage Relative to Flight Count per Carrier for Entire Period',\n",
    "              xaxis= dict(title= 'Carrier',ticklen= 5,zeroline= False,tickformat='d'),\n",
    "              yaxis= dict(title= 'Percentage of Flights',tickformat=',.0%')\n",
    "             )\n",
    "fig = dict(data = data, layout = layout)\n",
    "\n",
    "pyo.iplot(fig)"
   ]
  },
  {
   "cell_type": "markdown",
   "id": "e550f292-b6bf-4a16-865f-cc410bb9286b",
   "metadata": {
    "tags": []
   },
   "source": [
    "DELAY CORRECTIONS COUNT PER CARRIER ACROSS THE ENTIRE PERIOD RELATIVE TO DELAYED FLIGHTS COUNT PER CARRIER"
   ]
  },
  {
   "cell_type": "code",
   "execution_count": null,
   "id": "ccde693d-2263-4ea1-97aa-c1b4607036ba",
   "metadata": {},
   "outputs": [],
   "source": [
    "totalDelayCorrectionsCount = spark.sql(\" \\\n",
    "    SELECT OP_CARRIER AS Carrier, \\\n",
    "    SUM( \\\n",
    "          CASE WHEN DEP_DELAY = ARR_DELAY THEN 1 \\\n",
    "          ELSE 0 END \\\n",
    "    ) / COUNT(*) AS NoDelayCorrectionCount, \\\n",
    "    SUM( \\\n",
    "          CASE WHEN ARR_DELAY = (DEP_DELAY * -1) THEN 1 \\\n",
    "          ELSE 0 END \\\n",
    "    ) / COUNT(*) AS FullDelayCorrectionCount, \\\n",
    "    SUM( \\\n",
    "          CASE WHEN (DEP_DELAY > 0 AND ARR_DELAY < DEP_DELAY) OR (DEP_DELAY < 0 AND ARR_DELAY > DEP_DELAY) THEN 1 \\\n",
    "          ELSE 0 END \\\n",
    "    ) / COUNT(*) AS PartialDelayCorrectionCount, \\\n",
    "    SUM( \\\n",
    "          CASE WHEN (DEP_DELAY > 0 AND ARR_DELAY > DEP_DELAY) OR (DEP_DELAY < 0 AND ARR_DELAY < 0 AND ABS(DEP_DELAY) < ABS(ARR_DELAY)) THEN 1 \\\n",
    "          ELSE 0 END \\\n",
    "    ) / COUNT(*) AS DelayAggravationCount \\\n",
    "    FROM airlinedelay \\\n",
    "    WHERE DEP_DELAY != 0 \\\n",
    "    GROUP BY Carrier\")\n",
    "    \n",
    "totalDelayCorrectionsCount.show(1000)"
   ]
  },
  {
   "cell_type": "markdown",
   "id": "98979c40-5f2a-437a-848d-711bd911a5f6",
   "metadata": {},
   "source": [
    "DELAY CORRECTIONS COUNT PER CARRIER ACROSS THE ENTIRE PERIOD RELATIVE TO DELAYED FLIGHTS COUNT PER CARRIER \\[GRAPH\\]"
   ]
  },
  {
   "cell_type": "code",
   "execution_count": null,
   "id": "2c3e323f-2e49-42a7-9bc5-98523eb97df3",
   "metadata": {},
   "outputs": [],
   "source": [
    "noDelayCorrectionCountBar = go.Bar(\n",
    "    x = totalDelayCorrectionsCount.toPandas()['Carrier'],\n",
    "    y = totalDelayCorrectionsCount.toPandas()['NoDelayCorrectionCount'],\n",
    "    name = 'No Delay Correction Count',\n",
    "    marker = dict(color='yellow'),\n",
    "    text = round(totalDelayCorrectionsCount.toPandas()['NoDelayCorrectionCount'] * 100))\n",
    "\n",
    "delayAggravationCountBar = go.Bar(\n",
    "    x = totalDelayCorrectionsCount.toPandas()['Carrier'],\n",
    "    y = totalDelayCorrectionsCount.toPandas()['DelayAggravationCount'],\n",
    "    name = 'Delay Aggravation Count',\n",
    "    marker = dict(color='red'),\n",
    "    text = round(totalDelayCorrectionsCount.toPandas()['DelayAggravationCount'] * 100))\n",
    "\n",
    "fullDelayCorrectionCount = go.Bar(\n",
    "    x = totalDelayCorrectionsCount.toPandas()['Carrier'],\n",
    "    y = totalDelayCorrectionsCount.toPandas()['FullDelayCorrectionCount'],\n",
    "    name = 'Full Delay Correction Count',\n",
    "    marker = dict(color='green'),\n",
    "    text = round(totalDelayCorrectionsCount.toPandas()['FullDelayCorrectionCount'] * 100))\n",
    "\n",
    "partialDelayCorrectionCount = go.Bar(\n",
    "    x = totalDelayCorrectionsCount.toPandas()['Carrier'],\n",
    "    y = totalDelayCorrectionsCount.toPandas()['PartialDelayCorrectionCount'],\n",
    "    name = 'Partial Delay Correction Count',\n",
    "    marker = dict(color='blue'),\n",
    "    text = round(totalDelayCorrectionsCount.toPandas()['PartialDelayCorrectionCount'] * 100))\n",
    "\n",
    "\n",
    "data = [noDelayCorrectionCountBar, delayAggravationCountBar, fullDelayCorrectionCount, partialDelayCorrectionCount]\n",
    "\n",
    "layout = dict(title = 'Delay Correction Relative to Flight Count per Carrier for Entire Period',\n",
    "              xaxis= dict(title= 'Carrier',ticklen= 5,zeroline= False,tickformat='d'),\n",
    "              yaxis= dict(title= 'Percentage of Flights',tickformat=',.0%')\n",
    "             )\n",
    "fig = dict(data = data, layout = layout)\n",
    "\n",
    "pyo.iplot(fig)"
   ]
  },
  {
   "cell_type": "markdown",
   "id": "762cbba4-9a93-4a52-94bc-af8f043c98d4",
   "metadata": {},
   "source": [
    "EVOLUTION OF DELAY CORRECTIONS COUNT RELATIVE TO FLIGHT COUNT PER CARRIER ACROSS INDIVIDUAL YEARS"
   ]
  },
  {
   "cell_type": "code",
   "execution_count": 17,
   "id": "95ab2ebd-a8e9-43a4-bfe2-cbd91b2b1559",
   "metadata": {},
   "outputs": [
    {
     "name": "stderr",
     "output_type": "stream",
     "text": [
      "[Stage 3046:================================================>     (16 + 2) / 18]\r"
     ]
    },
    {
     "name": "stdout",
     "output_type": "stream",
     "text": [
      "+-------+----+--------------------+--------------------+----------------------+-------------------+\n",
      "|Carrier|Year|   NoDelayCorrection| FullDelayCorrection|PartialDelayCorrection|   DelayAggravation|\n",
      "+-------+----+--------------------+--------------------+----------------------+-------------------+\n",
      "|     9E|2013|0.029160670169632055|0.011644719768386356|    0.3494696681170606| 0.5630786549421809|\n",
      "|     AA|2012| 0.03207417843951106|0.016177982559689275|   0.40690567762080654| 0.4874909561707475|\n",
      "|     AA|2013| 0.02739216681446613|0.015062531256332603|   0.43746781411103736|0.46156749229862554|\n",
      "|     AA|2014| 0.03336265591959784|0.015099582106651143|   0.42033152500385906|0.48434341273988885|\n",
      "|     AS|2012| 0.03678279313405932|0.014040889346678503|    0.3843422399013343| 0.5271296817082178|\n",
      "|     AS|2013| 0.03965930607523442|0.017422435909863452|   0.44384560206277507|0.46821504042186074|\n",
      "|     AS|2014| 0.03911217606719207|0.017278496415133193|    0.4485482693423688| 0.4620078998109287|\n",
      "|     B6|2012|0.028316219614417434|0.012686853869796032|     0.395309443978765| 0.5180348910310143|\n",
      "|     B6|2013|0.029432079974521977|0.012627338415151151|   0.42158269810610605|0.49336785550321166|\n",
      "|     B6|2014|0.029263936113547436|0.012687580348668164|    0.4022699875447049|  0.498800527047214|\n",
      "|     DL|2012|0.027283770751390535|0.014549876939628191|   0.35418274568394464| 0.5509816626976429|\n",
      "|     DL|2013|0.029088210741118635|0.015422635059032425|   0.37229650045715346| 0.5309101991598977|\n",
      "|     DL|2014| 0.02945994065281899|0.015931282211463376|    0.3784463532719038| 0.5137154458847415|\n",
      "|     EV|2012| 0.02944570799954107|0.011779632991611043|    0.3780145912492998| 0.5292533626688083|\n",
      "|     EV|2013| 0.03158558346778933|0.011896684368555462|   0.39839667902593306| 0.5034393131524677|\n",
      "|     EV|2014| 0.03246402078070496|0.011983598169735328|    0.3892198635318744| 0.4903333862957548|\n",
      "|     F9|2012| 0.04628099173553719|0.019759005740962714|   0.47766071541227684| 0.4142577755346666|\n",
      "|     F9|2013|0.047175051579114426| 0.01776173094217849|    0.4723853356610062|0.42597735809130827|\n",
      "|     F9|2014|  0.0486814703886562|0.017736387673444556|     0.473067833493226| 0.4350094765659733|\n",
      "|     FL|2012| 0.03802220368350125|0.015433485208239749|    0.3653065153418102| 0.5463692118700783|\n",
      "|     FL|2013| 0.03280790103016924|0.016424071008094187|   0.44476062362030905| 0.4627310982339956|\n",
      "|     FL|2014|0.026794137996100385| 0.01475564500912007|    0.4268570350336499|0.47391659852820933|\n",
      "|     HA|2012|  0.1142641244653146| 0.02604272085711587|    0.4752459215479901|0.36718887044758397|\n",
      "|     HA|2013| 0.11437899454942865|0.022950502171928174|    0.4981462523863542| 0.3489334034252829|\n",
      "|     HA|2014| 0.10003746721618584|0.021945083765990473|    0.5175694481614301| 0.3440962372210031|\n",
      "|     MQ|2012| 0.03799932366741345|0.012970790886418396|   0.35151329416240434| 0.5402291076636936|\n",
      "|     MQ|2013| 0.03776613279074261|0.013651915928750867|   0.38568197060461734|  0.491014288474873|\n",
      "|     MQ|2014| 0.03879541941578962|0.014486848772985044|   0.39028930407612916| 0.4684607373039539|\n",
      "|     OO|2012| 0.04142088462111254| 0.01641586645860178|    0.3995347677723891| 0.4910531018719365|\n",
      "|     OO|2013| 0.04057257898425663|0.015369779950475686|    0.4096149332890563|0.48359487131181955|\n",
      "|     OO|2014| 0.03993605533171297|0.015560413030357404|    0.4174542844558994| 0.4680668156533938|\n",
      "|     UA|2012| 0.02263738952837203|0.014669314534725033|   0.46044103944507714| 0.4399966117328163|\n",
      "|     UA|2013|0.021712225038454085|0.013803929631987474|   0.43994440468329254|0.46957876464517456|\n",
      "|     UA|2014|0.023236776839409314|0.015022450600573828|   0.46867249679856055| 0.4370532168387609|\n",
      "|     US|2012|0.031524032622327544| 0.01573233266462674|    0.3757924915216085| 0.5363216519938753|\n",
      "|     US|2013| 0.03379222209019504|0.016819723890749396|   0.40718233249994545| 0.5025959507533229|\n",
      "|     US|2014|0.033106242388434036|0.015735593792579553|    0.4008971097150712| 0.5034931812426899|\n",
      "|     VX|2012|0.030525008220379235|0.017262796390340143|   0.39392057286909504| 0.5020459610536699|\n",
      "|     VX|2013|0.030892829013004743|0.016277807921866522|   0.39632086534927274| 0.4976983529658866|\n",
      "|     VX|2014| 0.03237697791688402|0.016118935837245697|   0.39142757781255433| 0.5013910624239263|\n",
      "|     WN|2012|0.031127497183339396| 0.01932075736386871|    0.4512417418141486| 0.4139829115283617|\n",
      "|     WN|2013| 0.03505249826656667| 0.01940737805827166|    0.5009763828552831|0.37397320607338436|\n",
      "|     WN|2014|0.036307510516050544|0.016447690470129818|     0.481946275985776|0.40457317306767304|\n",
      "|     YV|2012| 0.03773063832328178|0.014793694393025617|    0.3957126649549173| 0.4983504508270138|\n",
      "|     YV|2013| 0.04045500347710081|0.016228835809880642|    0.4228864194377031| 0.4621279856942138|\n",
      "+-------+----+--------------------+--------------------+----------------------+-------------------+\n",
      "\n"
     ]
    },
    {
     "name": "stderr",
     "output_type": "stream",
     "text": [
      "                                                                                \r"
     ]
    }
   ],
   "source": [
    "carrierDelayCountEvolution = spark.sql(\" \\\n",
    "    SELECT OP_CARRIER AS Carrier, EXTRACT(year from FL_DATE) AS Year, \\\n",
    "    SUM( \\\n",
    "          CASE WHEN DEP_DELAY = ARR_DELAY THEN 1 \\\n",
    "          ELSE 0 END \\\n",
    "    ) / COUNT(*) AS NoDelayCorrection, \\\n",
    "    SUM( \\\n",
    "          CASE WHEN ARR_DELAY = (DEP_DELAY * -1) THEN 1 \\\n",
    "          ELSE 0 END \\\n",
    "    ) / COUNT(*) AS FullDelayCorrection, \\\n",
    "    SUM( \\\n",
    "          CASE WHEN (DEP_DELAY > 0 AND ARR_DELAY < DEP_DELAY) OR (DEP_DELAY < 0 AND ARR_DELAY > DEP_DELAY) THEN 1 \\\n",
    "          ELSE 0 END \\\n",
    "    ) / COUNT(*) AS PartialDelayCorrection, \\\n",
    "    SUM( \\\n",
    "          CASE WHEN (DEP_DELAY > 0 AND ARR_DELAY > DEP_DELAY) OR (DEP_DELAY < 0 AND ARR_DELAY < 0 AND ABS(DEP_DELAY) < ABS(ARR_DELAY)) THEN 1 \\\n",
    "          ELSE 0 END \\\n",
    "    ) / COUNT(*) AS DelayAggravation \\\n",
    "    FROM airlinedelay \\\n",
    "    GROUP BY Carrier, Year \\\n",
    "    ORDER BY Carrier, Year\")\n",
    "    \n",
    "carrierDelayCountEvolution.createOrReplaceTempView(\"carrierDelayCountEvolution\")\n",
    "carrierDelayCountEvolution.show(1000)"
   ]
  },
  {
   "cell_type": "markdown",
   "id": "2592fff6-6cb3-427e-882c-8a8bb53828c6",
   "metadata": {},
   "source": [
    "EVOLUTION OF DELAY CORRECTIONS COUNT RELATIVE TO FLIGHT COUNT PER CARRIER ACROSS INDIVIDUAL YEARS: No Delay Correction"
   ]
  },
  {
   "cell_type": "code",
   "execution_count": 34,
   "id": "6a9ac279-029b-43aa-8142-00f0762866e0",
   "metadata": {},
   "outputs": [
    {
     "data": {
      "application/vnd.plotly.v1+json": {
       "config": {
        "linkText": "Export to plot.ly",
        "plotlyServerURL": "https://plot.ly",
        "showLink": false
       },
       "data": [
        {
         "mode": "lines",
         "name": "9E",
         "type": "scatter",
         "x": [
          2012,
          2013,
          2014
         ],
         "y": [
          0.029160670169632055
         ]
        },
        {
         "mode": "lines",
         "name": "AA",
         "type": "scatter",
         "x": [
          2012,
          2013,
          2014
         ],
         "y": [
          0.03207417843951106,
          0.02739216681446613,
          0.03336265591959784
         ]
        },
        {
         "mode": "lines",
         "name": "AS",
         "type": "scatter",
         "x": [
          2012,
          2013,
          2014
         ],
         "y": [
          0.03678279313405932,
          0.03965930607523442,
          0.03911217606719207
         ]
        },
        {
         "mode": "lines",
         "name": "B6",
         "type": "scatter",
         "x": [
          2012,
          2013,
          2014
         ],
         "y": [
          0.028316219614417434,
          0.029432079974521977,
          0.029263936113547436
         ]
        },
        {
         "mode": "lines",
         "name": "DL",
         "type": "scatter",
         "x": [
          2012,
          2013,
          2014
         ],
         "y": [
          0.027283770751390535,
          0.029088210741118635,
          0.02945994065281899
         ]
        },
        {
         "mode": "lines",
         "name": "EV",
         "type": "scatter",
         "x": [
          2012,
          2013,
          2014
         ],
         "y": [
          0.02944570799954107,
          0.03158558346778933,
          0.03246402078070496
         ]
        },
        {
         "mode": "lines",
         "name": "F9",
         "type": "scatter",
         "x": [
          2012,
          2013,
          2014
         ],
         "y": [
          0.04628099173553719,
          0.047175051579114426,
          0.0486814703886562
         ]
        },
        {
         "mode": "lines",
         "name": "FL",
         "type": "scatter",
         "x": [
          2012,
          2013,
          2014
         ],
         "y": [
          0.03802220368350125,
          0.03280790103016924,
          0.026794137996100385
         ]
        },
        {
         "mode": "lines",
         "name": "HA",
         "type": "scatter",
         "x": [
          2012,
          2013,
          2014
         ],
         "y": [
          0.1142641244653146,
          0.11437899454942865,
          0.10003746721618584
         ]
        },
        {
         "mode": "lines",
         "name": "MQ",
         "type": "scatter",
         "x": [
          2012,
          2013,
          2014
         ],
         "y": [
          0.03799932366741345,
          0.03776613279074261,
          0.03879541941578962
         ]
        },
        {
         "mode": "lines",
         "name": "OO",
         "type": "scatter",
         "x": [
          2012,
          2013,
          2014
         ],
         "y": [
          0.04142088462111254,
          0.04057257898425663,
          0.03993605533171297
         ]
        },
        {
         "mode": "lines",
         "name": "UA",
         "type": "scatter",
         "x": [
          2012,
          2013,
          2014
         ],
         "y": [
          0.02263738952837203,
          0.021712225038454085,
          0.023236776839409314
         ]
        },
        {
         "mode": "lines",
         "name": "US",
         "type": "scatter",
         "x": [
          2012,
          2013,
          2014
         ],
         "y": [
          0.031524032622327544,
          0.03379222209019504,
          0.033106242388434036
         ]
        },
        {
         "mode": "lines",
         "name": "VX",
         "type": "scatter",
         "x": [
          2012,
          2013,
          2014
         ],
         "y": [
          0.030525008220379235,
          0.030892829013004743,
          0.03237697791688402
         ]
        },
        {
         "mode": "lines",
         "name": "WN",
         "type": "scatter",
         "x": [
          2012,
          2013,
          2014
         ],
         "y": [
          0.031127497183339396,
          0.03505249826656667,
          0.036307510516050544
         ]
        },
        {
         "mode": "lines",
         "name": "YV",
         "type": "scatter",
         "x": [
          2012,
          2013,
          2014
         ],
         "y": [
          0.03773063832328178,
          0.04045500347710081
         ]
        }
       ],
       "layout": {
        "autosize": true,
        "template": {
         "data": {
          "bar": [
           {
            "error_x": {
             "color": "#2a3f5f"
            },
            "error_y": {
             "color": "#2a3f5f"
            },
            "marker": {
             "line": {
              "color": "#E5ECF6",
              "width": 0.5
             },
             "pattern": {
              "fillmode": "overlay",
              "size": 10,
              "solidity": 0.2
             }
            },
            "type": "bar"
           }
          ],
          "barpolar": [
           {
            "marker": {
             "line": {
              "color": "#E5ECF6",
              "width": 0.5
             },
             "pattern": {
              "fillmode": "overlay",
              "size": 10,
              "solidity": 0.2
             }
            },
            "type": "barpolar"
           }
          ],
          "carpet": [
           {
            "aaxis": {
             "endlinecolor": "#2a3f5f",
             "gridcolor": "white",
             "linecolor": "white",
             "minorgridcolor": "white",
             "startlinecolor": "#2a3f5f"
            },
            "baxis": {
             "endlinecolor": "#2a3f5f",
             "gridcolor": "white",
             "linecolor": "white",
             "minorgridcolor": "white",
             "startlinecolor": "#2a3f5f"
            },
            "type": "carpet"
           }
          ],
          "choropleth": [
           {
            "colorbar": {
             "outlinewidth": 0,
             "ticks": ""
            },
            "type": "choropleth"
           }
          ],
          "contour": [
           {
            "colorbar": {
             "outlinewidth": 0,
             "ticks": ""
            },
            "colorscale": [
             [
              0,
              "#0d0887"
             ],
             [
              0.1111111111111111,
              "#46039f"
             ],
             [
              0.2222222222222222,
              "#7201a8"
             ],
             [
              0.3333333333333333,
              "#9c179e"
             ],
             [
              0.4444444444444444,
              "#bd3786"
             ],
             [
              0.5555555555555556,
              "#d8576b"
             ],
             [
              0.6666666666666666,
              "#ed7953"
             ],
             [
              0.7777777777777778,
              "#fb9f3a"
             ],
             [
              0.8888888888888888,
              "#fdca26"
             ],
             [
              1,
              "#f0f921"
             ]
            ],
            "type": "contour"
           }
          ],
          "contourcarpet": [
           {
            "colorbar": {
             "outlinewidth": 0,
             "ticks": ""
            },
            "type": "contourcarpet"
           }
          ],
          "heatmap": [
           {
            "colorbar": {
             "outlinewidth": 0,
             "ticks": ""
            },
            "colorscale": [
             [
              0,
              "#0d0887"
             ],
             [
              0.1111111111111111,
              "#46039f"
             ],
             [
              0.2222222222222222,
              "#7201a8"
             ],
             [
              0.3333333333333333,
              "#9c179e"
             ],
             [
              0.4444444444444444,
              "#bd3786"
             ],
             [
              0.5555555555555556,
              "#d8576b"
             ],
             [
              0.6666666666666666,
              "#ed7953"
             ],
             [
              0.7777777777777778,
              "#fb9f3a"
             ],
             [
              0.8888888888888888,
              "#fdca26"
             ],
             [
              1,
              "#f0f921"
             ]
            ],
            "type": "heatmap"
           }
          ],
          "heatmapgl": [
           {
            "colorbar": {
             "outlinewidth": 0,
             "ticks": ""
            },
            "colorscale": [
             [
              0,
              "#0d0887"
             ],
             [
              0.1111111111111111,
              "#46039f"
             ],
             [
              0.2222222222222222,
              "#7201a8"
             ],
             [
              0.3333333333333333,
              "#9c179e"
             ],
             [
              0.4444444444444444,
              "#bd3786"
             ],
             [
              0.5555555555555556,
              "#d8576b"
             ],
             [
              0.6666666666666666,
              "#ed7953"
             ],
             [
              0.7777777777777778,
              "#fb9f3a"
             ],
             [
              0.8888888888888888,
              "#fdca26"
             ],
             [
              1,
              "#f0f921"
             ]
            ],
            "type": "heatmapgl"
           }
          ],
          "histogram": [
           {
            "marker": {
             "pattern": {
              "fillmode": "overlay",
              "size": 10,
              "solidity": 0.2
             }
            },
            "type": "histogram"
           }
          ],
          "histogram2d": [
           {
            "colorbar": {
             "outlinewidth": 0,
             "ticks": ""
            },
            "colorscale": [
             [
              0,
              "#0d0887"
             ],
             [
              0.1111111111111111,
              "#46039f"
             ],
             [
              0.2222222222222222,
              "#7201a8"
             ],
             [
              0.3333333333333333,
              "#9c179e"
             ],
             [
              0.4444444444444444,
              "#bd3786"
             ],
             [
              0.5555555555555556,
              "#d8576b"
             ],
             [
              0.6666666666666666,
              "#ed7953"
             ],
             [
              0.7777777777777778,
              "#fb9f3a"
             ],
             [
              0.8888888888888888,
              "#fdca26"
             ],
             [
              1,
              "#f0f921"
             ]
            ],
            "type": "histogram2d"
           }
          ],
          "histogram2dcontour": [
           {
            "colorbar": {
             "outlinewidth": 0,
             "ticks": ""
            },
            "colorscale": [
             [
              0,
              "#0d0887"
             ],
             [
              0.1111111111111111,
              "#46039f"
             ],
             [
              0.2222222222222222,
              "#7201a8"
             ],
             [
              0.3333333333333333,
              "#9c179e"
             ],
             [
              0.4444444444444444,
              "#bd3786"
             ],
             [
              0.5555555555555556,
              "#d8576b"
             ],
             [
              0.6666666666666666,
              "#ed7953"
             ],
             [
              0.7777777777777778,
              "#fb9f3a"
             ],
             [
              0.8888888888888888,
              "#fdca26"
             ],
             [
              1,
              "#f0f921"
             ]
            ],
            "type": "histogram2dcontour"
           }
          ],
          "mesh3d": [
           {
            "colorbar": {
             "outlinewidth": 0,
             "ticks": ""
            },
            "type": "mesh3d"
           }
          ],
          "parcoords": [
           {
            "line": {
             "colorbar": {
              "outlinewidth": 0,
              "ticks": ""
             }
            },
            "type": "parcoords"
           }
          ],
          "pie": [
           {
            "automargin": true,
            "type": "pie"
           }
          ],
          "scatter": [
           {
            "fillpattern": {
             "fillmode": "overlay",
             "size": 10,
             "solidity": 0.2
            },
            "type": "scatter"
           }
          ],
          "scatter3d": [
           {
            "line": {
             "colorbar": {
              "outlinewidth": 0,
              "ticks": ""
             }
            },
            "marker": {
             "colorbar": {
              "outlinewidth": 0,
              "ticks": ""
             }
            },
            "type": "scatter3d"
           }
          ],
          "scattercarpet": [
           {
            "marker": {
             "colorbar": {
              "outlinewidth": 0,
              "ticks": ""
             }
            },
            "type": "scattercarpet"
           }
          ],
          "scattergeo": [
           {
            "marker": {
             "colorbar": {
              "outlinewidth": 0,
              "ticks": ""
             }
            },
            "type": "scattergeo"
           }
          ],
          "scattergl": [
           {
            "marker": {
             "colorbar": {
              "outlinewidth": 0,
              "ticks": ""
             }
            },
            "type": "scattergl"
           }
          ],
          "scattermapbox": [
           {
            "marker": {
             "colorbar": {
              "outlinewidth": 0,
              "ticks": ""
             }
            },
            "type": "scattermapbox"
           }
          ],
          "scatterpolar": [
           {
            "marker": {
             "colorbar": {
              "outlinewidth": 0,
              "ticks": ""
             }
            },
            "type": "scatterpolar"
           }
          ],
          "scatterpolargl": [
           {
            "marker": {
             "colorbar": {
              "outlinewidth": 0,
              "ticks": ""
             }
            },
            "type": "scatterpolargl"
           }
          ],
          "scatterternary": [
           {
            "marker": {
             "colorbar": {
              "outlinewidth": 0,
              "ticks": ""
             }
            },
            "type": "scatterternary"
           }
          ],
          "surface": [
           {
            "colorbar": {
             "outlinewidth": 0,
             "ticks": ""
            },
            "colorscale": [
             [
              0,
              "#0d0887"
             ],
             [
              0.1111111111111111,
              "#46039f"
             ],
             [
              0.2222222222222222,
              "#7201a8"
             ],
             [
              0.3333333333333333,
              "#9c179e"
             ],
             [
              0.4444444444444444,
              "#bd3786"
             ],
             [
              0.5555555555555556,
              "#d8576b"
             ],
             [
              0.6666666666666666,
              "#ed7953"
             ],
             [
              0.7777777777777778,
              "#fb9f3a"
             ],
             [
              0.8888888888888888,
              "#fdca26"
             ],
             [
              1,
              "#f0f921"
             ]
            ],
            "type": "surface"
           }
          ],
          "table": [
           {
            "cells": {
             "fill": {
              "color": "#EBF0F8"
             },
             "line": {
              "color": "white"
             }
            },
            "header": {
             "fill": {
              "color": "#C8D4E3"
             },
             "line": {
              "color": "white"
             }
            },
            "type": "table"
           }
          ]
         },
         "layout": {
          "annotationdefaults": {
           "arrowcolor": "#2a3f5f",
           "arrowhead": 0,
           "arrowwidth": 1
          },
          "autotypenumbers": "strict",
          "coloraxis": {
           "colorbar": {
            "outlinewidth": 0,
            "ticks": ""
           }
          },
          "colorscale": {
           "diverging": [
            [
             0,
             "#8e0152"
            ],
            [
             0.1,
             "#c51b7d"
            ],
            [
             0.2,
             "#de77ae"
            ],
            [
             0.3,
             "#f1b6da"
            ],
            [
             0.4,
             "#fde0ef"
            ],
            [
             0.5,
             "#f7f7f7"
            ],
            [
             0.6,
             "#e6f5d0"
            ],
            [
             0.7,
             "#b8e186"
            ],
            [
             0.8,
             "#7fbc41"
            ],
            [
             0.9,
             "#4d9221"
            ],
            [
             1,
             "#276419"
            ]
           ],
           "sequential": [
            [
             0,
             "#0d0887"
            ],
            [
             0.1111111111111111,
             "#46039f"
            ],
            [
             0.2222222222222222,
             "#7201a8"
            ],
            [
             0.3333333333333333,
             "#9c179e"
            ],
            [
             0.4444444444444444,
             "#bd3786"
            ],
            [
             0.5555555555555556,
             "#d8576b"
            ],
            [
             0.6666666666666666,
             "#ed7953"
            ],
            [
             0.7777777777777778,
             "#fb9f3a"
            ],
            [
             0.8888888888888888,
             "#fdca26"
            ],
            [
             1,
             "#f0f921"
            ]
           ],
           "sequentialminus": [
            [
             0,
             "#0d0887"
            ],
            [
             0.1111111111111111,
             "#46039f"
            ],
            [
             0.2222222222222222,
             "#7201a8"
            ],
            [
             0.3333333333333333,
             "#9c179e"
            ],
            [
             0.4444444444444444,
             "#bd3786"
            ],
            [
             0.5555555555555556,
             "#d8576b"
            ],
            [
             0.6666666666666666,
             "#ed7953"
            ],
            [
             0.7777777777777778,
             "#fb9f3a"
            ],
            [
             0.8888888888888888,
             "#fdca26"
            ],
            [
             1,
             "#f0f921"
            ]
           ]
          },
          "colorway": [
           "#636efa",
           "#EF553B",
           "#00cc96",
           "#ab63fa",
           "#FFA15A",
           "#19d3f3",
           "#FF6692",
           "#B6E880",
           "#FF97FF",
           "#FECB52"
          ],
          "font": {
           "color": "#2a3f5f"
          },
          "geo": {
           "bgcolor": "white",
           "lakecolor": "white",
           "landcolor": "#E5ECF6",
           "showlakes": true,
           "showland": true,
           "subunitcolor": "white"
          },
          "hoverlabel": {
           "align": "left"
          },
          "hovermode": "closest",
          "mapbox": {
           "style": "light"
          },
          "paper_bgcolor": "white",
          "plot_bgcolor": "#E5ECF6",
          "polar": {
           "angularaxis": {
            "gridcolor": "white",
            "linecolor": "white",
            "ticks": ""
           },
           "bgcolor": "#E5ECF6",
           "radialaxis": {
            "gridcolor": "white",
            "linecolor": "white",
            "ticks": ""
           }
          },
          "scene": {
           "xaxis": {
            "backgroundcolor": "#E5ECF6",
            "gridcolor": "white",
            "gridwidth": 2,
            "linecolor": "white",
            "showbackground": true,
            "ticks": "",
            "zerolinecolor": "white"
           },
           "yaxis": {
            "backgroundcolor": "#E5ECF6",
            "gridcolor": "white",
            "gridwidth": 2,
            "linecolor": "white",
            "showbackground": true,
            "ticks": "",
            "zerolinecolor": "white"
           },
           "zaxis": {
            "backgroundcolor": "#E5ECF6",
            "gridcolor": "white",
            "gridwidth": 2,
            "linecolor": "white",
            "showbackground": true,
            "ticks": "",
            "zerolinecolor": "white"
           }
          },
          "shapedefaults": {
           "line": {
            "color": "#2a3f5f"
           }
          },
          "ternary": {
           "aaxis": {
            "gridcolor": "white",
            "linecolor": "white",
            "ticks": ""
           },
           "baxis": {
            "gridcolor": "white",
            "linecolor": "white",
            "ticks": ""
           },
           "bgcolor": "#E5ECF6",
           "caxis": {
            "gridcolor": "white",
            "linecolor": "white",
            "ticks": ""
           }
          },
          "title": {
           "x": 0.05
          },
          "xaxis": {
           "automargin": true,
           "gridcolor": "white",
           "linecolor": "white",
           "ticks": "",
           "title": {
            "standoff": 15
           },
           "zerolinecolor": "white",
           "zerolinewidth": 2
          },
          "yaxis": {
           "automargin": true,
           "gridcolor": "white",
           "linecolor": "white",
           "ticks": "",
           "title": {
            "standoff": 15
           },
           "zerolinecolor": "white",
           "zerolinewidth": 2
          }
         }
        },
        "title": {
         "text": "Evolution of Flights with No Delay Correction"
        },
        "xaxis": {
         "autorange": true,
         "range": [
          2012,
          2014
         ],
         "tickformat": "d",
         "title": {
          "text": "Year"
         },
         "type": "linear",
         "zeroline": false
        },
        "yaxis": {
         "autorange": true,
         "range": [
          0.016564071176733277,
          0.11952714841114946
         ],
         "tickformat": ",.0%",
         "title": {
          "text": "Flights Relative to Total Carrier Flights"
         },
         "type": "linear"
        }
       }
      },
      "image/png": "[encoded data removed]",
      "text/html": [
       "<div>                            <div id=\"ad5333d1-af70-4293-a08b-b3fe3df1f44f\" class=\"plotly-graph-div\" style=\"height:525px; width:100%;\"></div>            <script type=\"text/javascript\">                require([\"plotly\"], function(Plotly) {                    window.PLOTLYENV=window.PLOTLYENV || {};                                    if (document.getElementById(\"ad5333d1-af70-4293-a08b-b3fe3df1f44f\")) {                    Plotly.newPlot(                        \"ad5333d1-af70-4293-a08b-b3fe3df1f44f\",                        [{\"mode\":\"lines\",\"name\":\"9E\",\"x\":[2012,2013,2014],\"y\":[0.029160670169632055],\"type\":\"scatter\"},{\"mode\":\"lines\",\"name\":\"AA\",\"x\":[2012,2013,2014],\"y\":[0.03207417843951106,0.02739216681446613,0.03336265591959784],\"type\":\"scatter\"},{\"mode\":\"lines\",\"name\":\"AS\",\"x\":[2012,2013,2014],\"y\":[0.03678279313405932,0.03965930607523442,0.03911217606719207],\"type\":\"scatter\"},{\"mode\":\"lines\",\"name\":\"B6\",\"x\":[2012,2013,2014],\"y\":[0.028316219614417434,0.029432079974521977,0.029263936113547436],\"type\":\"scatter\"},{\"mode\":\"lines\",\"name\":\"DL\",\"x\":[2012,2013,2014],\"y\":[0.027283770751390535,0.029088210741118635,0.02945994065281899],\"type\":\"scatter\"},{\"mode\":\"lines\",\"name\":\"EV\",\"x\":[2012,2013,2014],\"y\":[0.02944570799954107,0.03158558346778933,0.03246402078070496],\"type\":\"scatter\"},{\"mode\":\"lines\",\"name\":\"F9\",\"x\":[2012,2013,2014],\"y\":[0.04628099173553719,0.047175051579114426,0.0486814703886562],\"type\":\"scatter\"},{\"mode\":\"lines\",\"name\":\"FL\",\"x\":[2012,2013,2014],\"y\":[0.03802220368350125,0.03280790103016924,0.026794137996100385],\"type\":\"scatter\"},{\"mode\":\"lines\",\"name\":\"HA\",\"x\":[2012,2013,2014],\"y\":[0.1142641244653146,0.11437899454942865,0.10003746721618584],\"type\":\"scatter\"},{\"mode\":\"lines\",\"name\":\"MQ\",\"x\":[2012,2013,2014],\"y\":[0.03799932366741345,0.03776613279074261,0.03879541941578962],\"type\":\"scatter\"},{\"mode\":\"lines\",\"name\":\"OO\",\"x\":[2012,2013,2014],\"y\":[0.04142088462111254,0.04057257898425663,0.03993605533171297],\"type\":\"scatter\"},{\"mode\":\"lines\",\"name\":\"UA\",\"x\":[2012,2013,2014],\"y\":[0.02263738952837203,0.021712225038454085,0.023236776839409314],\"type\":\"scatter\"},{\"mode\":\"lines\",\"name\":\"US\",\"x\":[2012,2013,2014],\"y\":[0.031524032622327544,0.03379222209019504,0.033106242388434036],\"type\":\"scatter\"},{\"mode\":\"lines\",\"name\":\"VX\",\"x\":[2012,2013,2014],\"y\":[0.030525008220379235,0.030892829013004743,0.03237697791688402],\"type\":\"scatter\"},{\"mode\":\"lines\",\"name\":\"WN\",\"x\":[2012,2013,2014],\"y\":[0.031127497183339396,0.03505249826656667,0.036307510516050544],\"type\":\"scatter\"},{\"mode\":\"lines\",\"name\":\"YV\",\"x\":[2012,2013,2014],\"y\":[0.03773063832328178,0.04045500347710081],\"type\":\"scatter\"}],                        {\"template\":{\"data\":{\"barpolar\":[{\"marker\":{\"line\":{\"color\":\"#E5ECF6\",\"width\":0.5},\"pattern\":{\"fillmode\":\"overlay\",\"size\":10,\"solidity\":0.2}},\"type\":\"barpolar\"}],\"bar\":[{\"error_x\":{\"color\":\"#2a3f5f\"},\"error_y\":{\"color\":\"#2a3f5f\"},\"marker\":{\"line\":{\"color\":\"#E5ECF6\",\"width\":0.5},\"pattern\":{\"fillmode\":\"overlay\",\"size\":10,\"solidity\":0.2}},\"type\":\"bar\"}],\"carpet\":[{\"aaxis\":{\"endlinecolor\":\"#2a3f5f\",\"gridcolor\":\"white\",\"linecolor\":\"white\",\"minorgridcolor\":\"white\",\"startlinecolor\":\"#2a3f5f\"},\"baxis\":{\"endlinecolor\":\"#2a3f5f\",\"gridcolor\":\"white\",\"linecolor\":\"white\",\"minorgridcolor\":\"white\",\"startlinecolor\":\"#2a3f5f\"},\"type\":\"carpet\"}],\"choropleth\":[{\"colorbar\":{\"outlinewidth\":0,\"ticks\":\"\"},\"type\":\"choropleth\"}],\"contourcarpet\":[{\"colorbar\":{\"outlinewidth\":0,\"ticks\":\"\"},\"type\":\"contourcarpet\"}],\"contour\":[{\"colorbar\":{\"outlinewidth\":0,\"ticks\":\"\"},\"colorscale\":[[0.0,\"#0d0887\"],[0.1111111111111111,\"#46039f\"],[0.2222222222222222,\"#7201a8\"],[0.3333333333333333,\"#9c179e\"],[0.4444444444444444,\"#bd3786\"],[0.5555555555555556,\"#d8576b\"],[0.6666666666666666,\"#ed7953\"],[0.7777777777777778,\"#fb9f3a\"],[0.8888888888888888,\"#fdca26\"],[1.0,\"#f0f921\"]],\"type\":\"contour\"}],\"heatmapgl\":[{\"colorbar\":{\"outlinewidth\":0,\"ticks\":\"\"},\"colorscale\":[[0.0,\"#0d0887\"],[0.1111111111111111,\"#46039f\"],[0.2222222222222222,\"#7201a8\"],[0.3333333333333333,\"#9c179e\"],[0.4444444444444444,\"#bd3786\"],[0.5555555555555556,\"#d8576b\"],[0.6666666666666666,\"#ed7953\"],[0.7777777777777778,\"#fb9f3a\"],[0.8888888888888888,\"#fdca26\"],[1.0,\"#f0f921\"]],\"type\":\"heatmapgl\"}],\"heatmap\":[{\"colorbar\":{\"outlinewidth\":0,\"ticks\":\"\"},\"colorscale\":[[0.0,\"#0d0887\"],[0.1111111111111111,\"#46039f\"],[0.2222222222222222,\"#7201a8\"],[0.3333333333333333,\"#9c179e\"],[0.4444444444444444,\"#bd3786\"],[0.5555555555555556,\"#d8576b\"],[0.6666666666666666,\"#ed7953\"],[0.7777777777777778,\"#fb9f3a\"],[0.8888888888888888,\"#fdca26\"],[1.0,\"#f0f921\"]],\"type\":\"heatmap\"}],\"histogram2dcontour\":[{\"colorbar\":{\"outlinewidth\":0,\"ticks\":\"\"},\"colorscale\":[[0.0,\"#0d0887\"],[0.1111111111111111,\"#46039f\"],[0.2222222222222222,\"#7201a8\"],[0.3333333333333333,\"#9c179e\"],[0.4444444444444444,\"#bd3786\"],[0.5555555555555556,\"#d8576b\"],[0.6666666666666666,\"#ed7953\"],[0.7777777777777778,\"#fb9f3a\"],[0.8888888888888888,\"#fdca26\"],[1.0,\"#f0f921\"]],\"type\":\"histogram2dcontour\"}],\"histogram2d\":[{\"colorbar\":{\"outlinewidth\":0,\"ticks\":\"\"},\"colorscale\":[[0.0,\"#0d0887\"],[0.1111111111111111,\"#46039f\"],[0.2222222222222222,\"#7201a8\"],[0.3333333333333333,\"#9c179e\"],[0.4444444444444444,\"#bd3786\"],[0.5555555555555556,\"#d8576b\"],[0.6666666666666666,\"#ed7953\"],[0.7777777777777778,\"#fb9f3a\"],[0.8888888888888888,\"#fdca26\"],[1.0,\"#f0f921\"]],\"type\":\"histogram2d\"}],\"histogram\":[{\"marker\":{\"pattern\":{\"fillmode\":\"overlay\",\"size\":10,\"solidity\":0.2}},\"type\":\"histogram\"}],\"mesh3d\":[{\"colorbar\":{\"outlinewidth\":0,\"ticks\":\"\"},\"type\":\"mesh3d\"}],\"parcoords\":[{\"line\":{\"colorbar\":{\"outlinewidth\":0,\"ticks\":\"\"}},\"type\":\"parcoords\"}],\"pie\":[{\"automargin\":true,\"type\":\"pie\"}],\"scatter3d\":[{\"line\":{\"colorbar\":{\"outlinewidth\":0,\"ticks\":\"\"}},\"marker\":{\"colorbar\":{\"outlinewidth\":0,\"ticks\":\"\"}},\"type\":\"scatter3d\"}],\"scattercarpet\":[{\"marker\":{\"colorbar\":{\"outlinewidth\":0,\"ticks\":\"\"}},\"type\":\"scattercarpet\"}],\"scattergeo\":[{\"marker\":{\"colorbar\":{\"outlinewidth\":0,\"ticks\":\"\"}},\"type\":\"scattergeo\"}],\"scattergl\":[{\"marker\":{\"colorbar\":{\"outlinewidth\":0,\"ticks\":\"\"}},\"type\":\"scattergl\"}],\"scattermapbox\":[{\"marker\":{\"colorbar\":{\"outlinewidth\":0,\"ticks\":\"\"}},\"type\":\"scattermapbox\"}],\"scatterpolargl\":[{\"marker\":{\"colorbar\":{\"outlinewidth\":0,\"ticks\":\"\"}},\"type\":\"scatterpolargl\"}],\"scatterpolar\":[{\"marker\":{\"colorbar\":{\"outlinewidth\":0,\"ticks\":\"\"}},\"type\":\"scatterpolar\"}],\"scatter\":[{\"fillpattern\":{\"fillmode\":\"overlay\",\"size\":10,\"solidity\":0.2},\"type\":\"scatter\"}],\"scatterternary\":[{\"marker\":{\"colorbar\":{\"outlinewidth\":0,\"ticks\":\"\"}},\"type\":\"scatterternary\"}],\"surface\":[{\"colorbar\":{\"outlinewidth\":0,\"ticks\":\"\"},\"colorscale\":[[0.0,\"#0d0887\"],[0.1111111111111111,\"#46039f\"],[0.2222222222222222,\"#7201a8\"],[0.3333333333333333,\"#9c179e\"],[0.4444444444444444,\"#bd3786\"],[0.5555555555555556,\"#d8576b\"],[0.6666666666666666,\"#ed7953\"],[0.7777777777777778,\"#fb9f3a\"],[0.8888888888888888,\"#fdca26\"],[1.0,\"#f0f921\"]],\"type\":\"surface\"}],\"table\":[{\"cells\":{\"fill\":{\"color\":\"#EBF0F8\"},\"line\":{\"color\":\"white\"}},\"header\":{\"fill\":{\"color\":\"#C8D4E3\"},\"line\":{\"color\":\"white\"}},\"type\":\"table\"}]},\"layout\":{\"annotationdefaults\":{\"arrowcolor\":\"#2a3f5f\",\"arrowhead\":0,\"arrowwidth\":1},\"autotypenumbers\":\"strict\",\"coloraxis\":{\"colorbar\":{\"outlinewidth\":0,\"ticks\":\"\"}},\"colorscale\":{\"diverging\":[[0,\"#8e0152\"],[0.1,\"#c51b7d\"],[0.2,\"#de77ae\"],[0.3,\"#f1b6da\"],[0.4,\"#fde0ef\"],[0.5,\"#f7f7f7\"],[0.6,\"#e6f5d0\"],[0.7,\"#b8e186\"],[0.8,\"#7fbc41\"],[0.9,\"#4d9221\"],[1,\"#276419\"]],\"sequential\":[[0.0,\"#0d0887\"],[0.1111111111111111,\"#46039f\"],[0.2222222222222222,\"#7201a8\"],[0.3333333333333333,\"#9c179e\"],[0.4444444444444444,\"#bd3786\"],[0.5555555555555556,\"#d8576b\"],[0.6666666666666666,\"#ed7953\"],[0.7777777777777778,\"#fb9f3a\"],[0.8888888888888888,\"#fdca26\"],[1.0,\"#f0f921\"]],\"sequentialminus\":[[0.0,\"#0d0887\"],[0.1111111111111111,\"#46039f\"],[0.2222222222222222,\"#7201a8\"],[0.3333333333333333,\"#9c179e\"],[0.4444444444444444,\"#bd3786\"],[0.5555555555555556,\"#d8576b\"],[0.6666666666666666,\"#ed7953\"],[0.7777777777777778,\"#fb9f3a\"],[0.8888888888888888,\"#fdca26\"],[1.0,\"#f0f921\"]]},\"colorway\":[\"#636efa\",\"#EF553B\",\"#00cc96\",\"#ab63fa\",\"#FFA15A\",\"#19d3f3\",\"#FF6692\",\"#B6E880\",\"#FF97FF\",\"#FECB52\"],\"font\":{\"color\":\"#2a3f5f\"},\"geo\":{\"bgcolor\":\"white\",\"lakecolor\":\"white\",\"landcolor\":\"#E5ECF6\",\"showlakes\":true,\"showland\":true,\"subunitcolor\":\"white\"},\"hoverlabel\":{\"align\":\"left\"},\"hovermode\":\"closest\",\"mapbox\":{\"style\":\"light\"},\"paper_bgcolor\":\"white\",\"plot_bgcolor\":\"#E5ECF6\",\"polar\":{\"angularaxis\":{\"gridcolor\":\"white\",\"linecolor\":\"white\",\"ticks\":\"\"},\"bgcolor\":\"#E5ECF6\",\"radialaxis\":{\"gridcolor\":\"white\",\"linecolor\":\"white\",\"ticks\":\"\"}},\"scene\":{\"xaxis\":{\"backgroundcolor\":\"#E5ECF6\",\"gridcolor\":\"white\",\"gridwidth\":2,\"linecolor\":\"white\",\"showbackground\":true,\"ticks\":\"\",\"zerolinecolor\":\"white\"},\"yaxis\":{\"backgroundcolor\":\"#E5ECF6\",\"gridcolor\":\"white\",\"gridwidth\":2,\"linecolor\":\"white\",\"showbackground\":true,\"ticks\":\"\",\"zerolinecolor\":\"white\"},\"zaxis\":{\"backgroundcolor\":\"#E5ECF6\",\"gridcolor\":\"white\",\"gridwidth\":2,\"linecolor\":\"white\",\"showbackground\":true,\"ticks\":\"\",\"zerolinecolor\":\"white\"}},\"shapedefaults\":{\"line\":{\"color\":\"#2a3f5f\"}},\"ternary\":{\"aaxis\":{\"gridcolor\":\"white\",\"linecolor\":\"white\",\"ticks\":\"\"},\"baxis\":{\"gridcolor\":\"white\",\"linecolor\":\"white\",\"ticks\":\"\"},\"bgcolor\":\"#E5ECF6\",\"caxis\":{\"gridcolor\":\"white\",\"linecolor\":\"white\",\"ticks\":\"\"}},\"title\":{\"x\":0.05},\"xaxis\":{\"automargin\":true,\"gridcolor\":\"white\",\"linecolor\":\"white\",\"ticks\":\"\",\"title\":{\"standoff\":15},\"zerolinecolor\":\"white\",\"zerolinewidth\":2},\"yaxis\":{\"automargin\":true,\"gridcolor\":\"white\",\"linecolor\":\"white\",\"ticks\":\"\",\"title\":{\"standoff\":15},\"zerolinecolor\":\"white\",\"zerolinewidth\":2}}},\"title\":{\"text\":\"Evolution of Flights with No Delay Correction\"},\"xaxis\":{\"tickformat\":\"d\",\"title\":{\"text\":\"Year\"},\"zeroline\":false},\"yaxis\":{\"tickformat\":\",.0%\",\"title\":{\"text\":\"Flights Relative to Total Carrier Flights\"}}},                        {\"responsive\": true}                    ).then(function(){\n",
       "                            \n",
       "var gd = document.getElementById('ad5333d1-af70-4293-a08b-b3fe3df1f44f');\n",
       "var x = new MutationObserver(function (mutations, observer) {{\n",
       "        var display = window.getComputedStyle(gd).display;\n",
       "        if (!display || display === 'none') {{\n",
       "            console.log([gd, 'removed!']);\n",
       "            Plotly.purge(gd);\n",
       "            observer.disconnect();\n",
       "        }}\n",
       "}});\n",
       "\n",
       "// Listen for the removal of the full notebook cells\n",
       "var notebookContainer = gd.closest('#notebook-container');\n",
       "if (notebookContainer) {{\n",
       "    x.observe(notebookContainer, {childList: true});\n",
       "}}\n",
       "\n",
       "// Listen for the clearing of the current output cell\n",
       "var outputEl = gd.closest('.output');\n",
       "if (outputEl) {{\n",
       "    x.observe(outputEl, {childList: true});\n",
       "}}\n",
       "\n",
       "                        })                };                });            </script>        </div>"
      ]
     },
     "metadata": {},
     "output_type": "display_data"
    }
   ],
   "source": [
    "traces = []\n",
    "changePerCarrierMap = dict()\n",
    "years = []\n",
    "\n",
    "for i in range(len(carrierDelayCountEvolution.toPandas()['Year'])):\n",
    "    if not carrierDelayCountEvolution.toPandas()['Year'][i] in years:\n",
    "        years.append(carrierDelayCountEvolution.toPandas()['Year'][i])\n",
    "\n",
    "years.sort()\n",
    "        \n",
    "for i in range(len(carrierDelayCountEvolution.toPandas()['Carrier'])):\n",
    "    if not carrierDelayCountEvolution.toPandas()['Carrier'][i] in changePerCarrierMap:\n",
    "        changePerCarrierMap[carrierDelayCountEvolution.toPandas()['Carrier'][i]] = []\n",
    "        \n",
    "    changePerCarrierMap[carrierDelayCountEvolution.toPandas()['Carrier'][i]].append(carrierDelayCountEvolution.toPandas()['NoDelayCorrection'][i])\n",
    "    \n",
    "for key in changePerCarrierMap:\n",
    "    traces.append(go.Scatter(\n",
    "        y = changePerCarrierMap[key],\n",
    "        x = years,\n",
    "        mode = 'lines',\n",
    "        name = key))\n",
    "                  \n",
    "layout = dict(title = 'Evolution of Flights with No Delay Correction',\n",
    "              xaxis= dict(title= 'Year',zeroline= False,tickformat='d'),\n",
    "              yaxis= dict(title= 'Flights Relative to Total Carrier Flights',tickformat=',.0%')\n",
    "             )\n",
    "\n",
    "fig = dict(data = traces, layout = layout)\n",
    "\n",
    "pyo.iplot(fig)"
   ]
  },
  {
   "cell_type": "markdown",
   "id": "00ba2642-3229-4463-b72c-9573b7967daf",
   "metadata": {},
   "source": [
    "EVOLUTION OF DELAY CORRECTIONS COUNT RELATIVE TO FLIGHT COUNT PER CARRIER ACROSS INDIVIDUAL YEARS: Full Delay Correction"
   ]
  },
  {
   "cell_type": "code",
   "execution_count": 39,
   "id": "f068febc-189a-4afd-a9c1-d7342e8a855e",
   "metadata": {},
   "outputs": [
    {
     "data": {
      "application/vnd.plotly.v1+json": {
       "config": {
        "linkText": "Export to plot.ly",
        "plotlyServerURL": "https://plot.ly",
        "showLink": false
       },
       "data": [
        {
         "mode": "lines",
         "name": "9E",
         "type": "scatter",
         "x": [
          2012,
          2013,
          2014
         ],
         "y": [
          0.011644719768386356
         ]
        },
        {
         "mode": "lines",
         "name": "AA",
         "type": "scatter",
         "x": [
          2012,
          2013,
          2014
         ],
         "y": [
          0.016177982559689275,
          0.015062531256332603,
          0.015099582106651143
         ]
        },
        {
         "mode": "lines",
         "name": "AS",
         "type": "scatter",
         "x": [
          2012,
          2013,
          2014
         ],
         "y": [
          0.014040889346678503,
          0.017422435909863452,
          0.017278496415133193
         ]
        },
        {
         "mode": "lines",
         "name": "B6",
         "type": "scatter",
         "x": [
          2012,
          2013,
          2014
         ],
         "y": [
          0.012686853869796032,
          0.012627338415151151,
          0.012687580348668164
         ]
        },
        {
         "mode": "lines",
         "name": "DL",
         "type": "scatter",
         "x": [
          2012,
          2013,
          2014
         ],
         "y": [
          0.014549876939628191,
          0.015422635059032425,
          0.015931282211463376
         ]
        },
        {
         "mode": "lines",
         "name": "EV",
         "type": "scatter",
         "x": [
          2012,
          2013,
          2014
         ],
         "y": [
          0.011779632991611043,
          0.011896684368555462,
          0.011983598169735328
         ]
        },
        {
         "mode": "lines",
         "name": "F9",
         "type": "scatter",
         "x": [
          2012,
          2013,
          2014
         ],
         "y": [
          0.019759005740962714,
          0.01776173094217849,
          0.017736387673444556
         ]
        },
        {
         "mode": "lines",
         "name": "FL",
         "type": "scatter",
         "x": [
          2012,
          2013,
          2014
         ],
         "y": [
          0.015433485208239749,
          0.016424071008094187,
          0.01475564500912007
         ]
        },
        {
         "mode": "lines",
         "name": "HA",
         "type": "scatter",
         "x": [
          2012,
          2013,
          2014
         ],
         "y": [
          0.02604272085711587,
          0.022950502171928174,
          0.021945083765990473
         ]
        },
        {
         "mode": "lines",
         "name": "MQ",
         "type": "scatter",
         "x": [
          2012,
          2013,
          2014
         ],
         "y": [
          0.012970790886418396,
          0.013651915928750867,
          0.014486848772985044
         ]
        },
        {
         "mode": "lines",
         "name": "OO",
         "type": "scatter",
         "x": [
          2012,
          2013,
          2014
         ],
         "y": [
          0.01641586645860178,
          0.015369779950475686,
          0.015560413030357404
         ]
        },
        {
         "mode": "lines",
         "name": "UA",
         "type": "scatter",
         "x": [
          2012,
          2013,
          2014
         ],
         "y": [
          0.014669314534725033,
          0.013803929631987474,
          0.015022450600573828
         ]
        },
        {
         "mode": "lines",
         "name": "US",
         "type": "scatter",
         "x": [
          2012,
          2013,
          2014
         ],
         "y": [
          0.01573233266462674,
          0.016819723890749396,
          0.015735593792579553
         ]
        },
        {
         "mode": "lines",
         "name": "VX",
         "type": "scatter",
         "x": [
          2012,
          2013,
          2014
         ],
         "y": [
          0.017262796390340143,
          0.016277807921866522,
          0.016118935837245697
         ]
        },
        {
         "mode": "lines",
         "name": "WN",
         "type": "scatter",
         "x": [
          2012,
          2013,
          2014
         ],
         "y": [
          0.01932075736386871,
          0.01940737805827166,
          0.016447690470129818
         ]
        },
        {
         "mode": "lines",
         "name": "YV",
         "type": "scatter",
         "x": [
          2012,
          2013,
          2014
         ],
         "y": [
          0.014793694393025617,
          0.016228835809880642
         ]
        }
       ],
       "layout": {
        "autosize": true,
        "template": {
         "data": {
          "bar": [
           {
            "error_x": {
             "color": "#2a3f5f"
            },
            "error_y": {
             "color": "#2a3f5f"
            },
            "marker": {
             "line": {
              "color": "#E5ECF6",
              "width": 0.5
             },
             "pattern": {
              "fillmode": "overlay",
              "size": 10,
              "solidity": 0.2
             }
            },
            "type": "bar"
           }
          ],
          "barpolar": [
           {
            "marker": {
             "line": {
              "color": "#E5ECF6",
              "width": 0.5
             },
             "pattern": {
              "fillmode": "overlay",
              "size": 10,
              "solidity": 0.2
             }
            },
            "type": "barpolar"
           }
          ],
          "carpet": [
           {
            "aaxis": {
             "endlinecolor": "#2a3f5f",
             "gridcolor": "white",
             "linecolor": "white",
             "minorgridcolor": "white",
             "startlinecolor": "#2a3f5f"
            },
            "baxis": {
             "endlinecolor": "#2a3f5f",
             "gridcolor": "white",
             "linecolor": "white",
             "minorgridcolor": "white",
             "startlinecolor": "#2a3f5f"
            },
            "type": "carpet"
           }
          ],
          "choropleth": [
           {
            "colorbar": {
             "outlinewidth": 0,
             "ticks": ""
            },
            "type": "choropleth"
           }
          ],
          "contour": [
           {
            "colorbar": {
             "outlinewidth": 0,
             "ticks": ""
            },
            "colorscale": [
             [
              0,
              "#0d0887"
             ],
             [
              0.1111111111111111,
              "#46039f"
             ],
             [
              0.2222222222222222,
              "#7201a8"
             ],
             [
              0.3333333333333333,
              "#9c179e"
             ],
             [
              0.4444444444444444,
              "#bd3786"
             ],
             [
              0.5555555555555556,
              "#d8576b"
             ],
             [
              0.6666666666666666,
              "#ed7953"
             ],
             [
              0.7777777777777778,
              "#fb9f3a"
             ],
             [
              0.8888888888888888,
              "#fdca26"
             ],
             [
              1,
              "#f0f921"
             ]
            ],
            "type": "contour"
           }
          ],
          "contourcarpet": [
           {
            "colorbar": {
             "outlinewidth": 0,
             "ticks": ""
            },
            "type": "contourcarpet"
           }
          ],
          "heatmap": [
           {
            "colorbar": {
             "outlinewidth": 0,
             "ticks": ""
            },
            "colorscale": [
             [
              0,
              "#0d0887"
             ],
             [
              0.1111111111111111,
              "#46039f"
             ],
             [
              0.2222222222222222,
              "#7201a8"
             ],
             [
              0.3333333333333333,
              "#9c179e"
             ],
             [
              0.4444444444444444,
              "#bd3786"
             ],
             [
              0.5555555555555556,
              "#d8576b"
             ],
             [
              0.6666666666666666,
              "#ed7953"
             ],
             [
              0.7777777777777778,
              "#fb9f3a"
             ],
             [
              0.8888888888888888,
              "#fdca26"
             ],
             [
              1,
              "#f0f921"
             ]
            ],
            "type": "heatmap"
           }
          ],
          "heatmapgl": [
           {
            "colorbar": {
             "outlinewidth": 0,
             "ticks": ""
            },
            "colorscale": [
             [
              0,
              "#0d0887"
             ],
             [
              0.1111111111111111,
              "#46039f"
             ],
             [
              0.2222222222222222,
              "#7201a8"
             ],
             [
              0.3333333333333333,
              "#9c179e"
             ],
             [
              0.4444444444444444,
              "#bd3786"
             ],
             [
              0.5555555555555556,
              "#d8576b"
             ],
             [
              0.6666666666666666,
              "#ed7953"
             ],
             [
              0.7777777777777778,
              "#fb9f3a"
             ],
             [
              0.8888888888888888,
              "#fdca26"
             ],
             [
              1,
              "#f0f921"
             ]
            ],
            "type": "heatmapgl"
           }
          ],
          "histogram": [
           {
            "marker": {
             "pattern": {
              "fillmode": "overlay",
              "size": 10,
              "solidity": 0.2
             }
            },
            "type": "histogram"
           }
          ],
          "histogram2d": [
           {
            "colorbar": {
             "outlinewidth": 0,
             "ticks": ""
            },
            "colorscale": [
             [
              0,
              "#0d0887"
             ],
             [
              0.1111111111111111,
              "#46039f"
             ],
             [
              0.2222222222222222,
              "#7201a8"
             ],
             [
              0.3333333333333333,
              "#9c179e"
             ],
             [
              0.4444444444444444,
              "#bd3786"
             ],
             [
              0.5555555555555556,
              "#d8576b"
             ],
             [
              0.6666666666666666,
              "#ed7953"
             ],
             [
              0.7777777777777778,
              "#fb9f3a"
             ],
             [
              0.8888888888888888,
              "#fdca26"
             ],
             [
              1,
              "#f0f921"
             ]
            ],
            "type": "histogram2d"
           }
          ],
          "histogram2dcontour": [
           {
            "colorbar": {
             "outlinewidth": 0,
             "ticks": ""
            },
            "colorscale": [
             [
              0,
              "#0d0887"
             ],
             [
              0.1111111111111111,
              "#46039f"
             ],
             [
              0.2222222222222222,
              "#7201a8"
             ],
             [
              0.3333333333333333,
              "#9c179e"
             ],
             [
              0.4444444444444444,
              "#bd3786"
             ],
             [
              0.5555555555555556,
              "#d8576b"
             ],
             [
              0.6666666666666666,
              "#ed7953"
             ],
             [
              0.7777777777777778,
              "#fb9f3a"
             ],
             [
              0.8888888888888888,
              "#fdca26"
             ],
             [
              1,
              "#f0f921"
             ]
            ],
            "type": "histogram2dcontour"
           }
          ],
          "mesh3d": [
           {
            "colorbar": {
             "outlinewidth": 0,
             "ticks": ""
            },
            "type": "mesh3d"
           }
          ],
          "parcoords": [
           {
            "line": {
             "colorbar": {
              "outlinewidth": 0,
              "ticks": ""
             }
            },
            "type": "parcoords"
           }
          ],
          "pie": [
           {
            "automargin": true,
            "type": "pie"
           }
          ],
          "scatter": [
           {
            "fillpattern": {
             "fillmode": "overlay",
             "size": 10,
             "solidity": 0.2
            },
            "type": "scatter"
           }
          ],
          "scatter3d": [
           {
            "line": {
             "colorbar": {
              "outlinewidth": 0,
              "ticks": ""
             }
            },
            "marker": {
             "colorbar": {
              "outlinewidth": 0,
              "ticks": ""
             }
            },
            "type": "scatter3d"
           }
          ],
          "scattercarpet": [
           {
            "marker": {
             "colorbar": {
              "outlinewidth": 0,
              "ticks": ""
             }
            },
            "type": "scattercarpet"
           }
          ],
          "scattergeo": [
           {
            "marker": {
             "colorbar": {
              "outlinewidth": 0,
              "ticks": ""
             }
            },
            "type": "scattergeo"
           }
          ],
          "scattergl": [
           {
            "marker": {
             "colorbar": {
              "outlinewidth": 0,
              "ticks": ""
             }
            },
            "type": "scattergl"
           }
          ],
          "scattermapbox": [
           {
            "marker": {
             "colorbar": {
              "outlinewidth": 0,
              "ticks": ""
             }
            },
            "type": "scattermapbox"
           }
          ],
          "scatterpolar": [
           {
            "marker": {
             "colorbar": {
              "outlinewidth": 0,
              "ticks": ""
             }
            },
            "type": "scatterpolar"
           }
          ],
          "scatterpolargl": [
           {
            "marker": {
             "colorbar": {
              "outlinewidth": 0,
              "ticks": ""
             }
            },
            "type": "scatterpolargl"
           }
          ],
          "scatterternary": [
           {
            "marker": {
             "colorbar": {
              "outlinewidth": 0,
              "ticks": ""
             }
            },
            "type": "scatterternary"
           }
          ],
          "surface": [
           {
            "colorbar": {
             "outlinewidth": 0,
             "ticks": ""
            },
            "colorscale": [
             [
              0,
              "#0d0887"
             ],
             [
              0.1111111111111111,
              "#46039f"
             ],
             [
              0.2222222222222222,
              "#7201a8"
             ],
             [
              0.3333333333333333,
              "#9c179e"
             ],
             [
              0.4444444444444444,
              "#bd3786"
             ],
             [
              0.5555555555555556,
              "#d8576b"
             ],
             [
              0.6666666666666666,
              "#ed7953"
             ],
             [
              0.7777777777777778,
              "#fb9f3a"
             ],
             [
              0.8888888888888888,
              "#fdca26"
             ],
             [
              1,
              "#f0f921"
             ]
            ],
            "type": "surface"
           }
          ],
          "table": [
           {
            "cells": {
             "fill": {
              "color": "#EBF0F8"
             },
             "line": {
              "color": "white"
             }
            },
            "header": {
             "fill": {
              "color": "#C8D4E3"
             },
             "line": {
              "color": "white"
             }
            },
            "type": "table"
           }
          ]
         },
         "layout": {
          "annotationdefaults": {
           "arrowcolor": "#2a3f5f",
           "arrowhead": 0,
           "arrowwidth": 1
          },
          "autotypenumbers": "strict",
          "coloraxis": {
           "colorbar": {
            "outlinewidth": 0,
            "ticks": ""
           }
          },
          "colorscale": {
           "diverging": [
            [
             0,
             "#8e0152"
            ],
            [
             0.1,
             "#c51b7d"
            ],
            [
             0.2,
             "#de77ae"
            ],
            [
             0.3,
             "#f1b6da"
            ],
            [
             0.4,
             "#fde0ef"
            ],
            [
             0.5,
             "#f7f7f7"
            ],
            [
             0.6,
             "#e6f5d0"
            ],
            [
             0.7,
             "#b8e186"
            ],
            [
             0.8,
             "#7fbc41"
            ],
            [
             0.9,
             "#4d9221"
            ],
            [
             1,
             "#276419"
            ]
           ],
           "sequential": [
            [
             0,
             "#0d0887"
            ],
            [
             0.1111111111111111,
             "#46039f"
            ],
            [
             0.2222222222222222,
             "#7201a8"
            ],
            [
             0.3333333333333333,
             "#9c179e"
            ],
            [
             0.4444444444444444,
             "#bd3786"
            ],
            [
             0.5555555555555556,
             "#d8576b"
            ],
            [
             0.6666666666666666,
             "#ed7953"
            ],
            [
             0.7777777777777778,
             "#fb9f3a"
            ],
            [
             0.8888888888888888,
             "#fdca26"
            ],
            [
             1,
             "#f0f921"
            ]
           ],
           "sequentialminus": [
            [
             0,
             "#0d0887"
            ],
            [
             0.1111111111111111,
             "#46039f"
            ],
            [
             0.2222222222222222,
             "#7201a8"
            ],
            [
             0.3333333333333333,
             "#9c179e"
            ],
            [
             0.4444444444444444,
             "#bd3786"
            ],
            [
             0.5555555555555556,
             "#d8576b"
            ],
            [
             0.6666666666666666,
             "#ed7953"
            ],
            [
             0.7777777777777778,
             "#fb9f3a"
            ],
            [
             0.8888888888888888,
             "#fdca26"
            ],
            [
             1,
             "#f0f921"
            ]
           ]
          },
          "colorway": [
           "#636efa",
           "#EF553B",
           "#00cc96",
           "#ab63fa",
           "#FFA15A",
           "#19d3f3",
           "#FF6692",
           "#B6E880",
           "#FF97FF",
           "#FECB52"
          ],
          "font": {
           "color": "#2a3f5f"
          },
          "geo": {
           "bgcolor": "white",
           "lakecolor": "white",
           "landcolor": "#E5ECF6",
           "showlakes": true,
           "showland": true,
           "subunitcolor": "white"
          },
          "hoverlabel": {
           "align": "left"
          },
          "hovermode": "closest",
          "mapbox": {
           "style": "light"
          },
          "paper_bgcolor": "white",
          "plot_bgcolor": "#E5ECF6",
          "polar": {
           "angularaxis": {
            "gridcolor": "white",
            "linecolor": "white",
            "ticks": ""
           },
           "bgcolor": "#E5ECF6",
           "radialaxis": {
            "gridcolor": "white",
            "linecolor": "white",
            "ticks": ""
           }
          },
          "scene": {
           "xaxis": {
            "backgroundcolor": "#E5ECF6",
            "gridcolor": "white",
            "gridwidth": 2,
            "linecolor": "white",
            "showbackground": true,
            "ticks": "",
            "zerolinecolor": "white"
           },
           "yaxis": {
            "backgroundcolor": "#E5ECF6",
            "gridcolor": "white",
            "gridwidth": 2,
            "linecolor": "white",
            "showbackground": true,
            "ticks": "",
            "zerolinecolor": "white"
           },
           "zaxis": {
            "backgroundcolor": "#E5ECF6",
            "gridcolor": "white",
            "gridwidth": 2,
            "linecolor": "white",
            "showbackground": true,
            "ticks": "",
            "zerolinecolor": "white"
           }
          },
          "shapedefaults": {
           "line": {
            "color": "#2a3f5f"
           }
          },
          "ternary": {
           "aaxis": {
            "gridcolor": "white",
            "linecolor": "white",
            "ticks": ""
           },
           "baxis": {
            "gridcolor": "white",
            "linecolor": "white",
            "ticks": ""
           },
           "bgcolor": "#E5ECF6",
           "caxis": {
            "gridcolor": "white",
            "linecolor": "white",
            "ticks": ""
           }
          },
          "title": {
           "x": 0.05
          },
          "xaxis": {
           "automargin": true,
           "gridcolor": "white",
           "linecolor": "white",
           "ticks": "",
           "title": {
            "standoff": 15
           },
           "zerolinecolor": "white",
           "zerolinewidth": 2
          },
          "yaxis": {
           "automargin": true,
           "gridcolor": "white",
           "linecolor": "white",
           "ticks": "",
           "title": {
            "standoff": 15
           },
           "zerolinecolor": "white",
           "zerolinewidth": 2
          }
         }
        },
        "title": {
         "text": "Evolution of Flights with Full Delay Correction"
        },
        "xaxis": {
         "autorange": true,
         "range": [
          2012,
          2014
         ],
         "tickformat": "d",
         "title": {
          "text": "Year"
         },
         "type": "linear",
         "zeroline": false
        },
        "yaxis": {
         "autorange": true,
         "range": [
          0.010844830819012495,
          0.026842609806489733
         ],
         "tickformat": ",.0%",
         "title": {
          "text": "Flights Relative to Total Carrier Flights"
         },
         "type": "linear"
        }
       }
      },
      "image/png": "[encoded data removed]",
      "text/html": [
       "<div>                            <div id=\"f9984847-dedc-42d5-b418-a7b31884bc90\" class=\"plotly-graph-div\" style=\"height:525px; width:100%;\"></div>            <script type=\"text/javascript\">                require([\"plotly\"], function(Plotly) {                    window.PLOTLYENV=window.PLOTLYENV || {};                                    if (document.getElementById(\"f9984847-dedc-42d5-b418-a7b31884bc90\")) {                    Plotly.newPlot(                        \"f9984847-dedc-42d5-b418-a7b31884bc90\",                        [{\"mode\":\"lines\",\"name\":\"9E\",\"x\":[2012,2013,2014],\"y\":[0.011644719768386356],\"type\":\"scatter\"},{\"mode\":\"lines\",\"name\":\"AA\",\"x\":[2012,2013,2014],\"y\":[0.016177982559689275,0.015062531256332603,0.015099582106651143],\"type\":\"scatter\"},{\"mode\":\"lines\",\"name\":\"AS\",\"x\":[2012,2013,2014],\"y\":[0.014040889346678503,0.017422435909863452,0.017278496415133193],\"type\":\"scatter\"},{\"mode\":\"lines\",\"name\":\"B6\",\"x\":[2012,2013,2014],\"y\":[0.012686853869796032,0.012627338415151151,0.012687580348668164],\"type\":\"scatter\"},{\"mode\":\"lines\",\"name\":\"DL\",\"x\":[2012,2013,2014],\"y\":[0.014549876939628191,0.015422635059032425,0.015931282211463376],\"type\":\"scatter\"},{\"mode\":\"lines\",\"name\":\"EV\",\"x\":[2012,2013,2014],\"y\":[0.011779632991611043,0.011896684368555462,0.011983598169735328],\"type\":\"scatter\"},{\"mode\":\"lines\",\"name\":\"F9\",\"x\":[2012,2013,2014],\"y\":[0.019759005740962714,0.01776173094217849,0.017736387673444556],\"type\":\"scatter\"},{\"mode\":\"lines\",\"name\":\"FL\",\"x\":[2012,2013,2014],\"y\":[0.015433485208239749,0.016424071008094187,0.01475564500912007],\"type\":\"scatter\"},{\"mode\":\"lines\",\"name\":\"HA\",\"x\":[2012,2013,2014],\"y\":[0.02604272085711587,0.022950502171928174,0.021945083765990473],\"type\":\"scatter\"},{\"mode\":\"lines\",\"name\":\"MQ\",\"x\":[2012,2013,2014],\"y\":[0.012970790886418396,0.013651915928750867,0.014486848772985044],\"type\":\"scatter\"},{\"mode\":\"lines\",\"name\":\"OO\",\"x\":[2012,2013,2014],\"y\":[0.01641586645860178,0.015369779950475686,0.015560413030357404],\"type\":\"scatter\"},{\"mode\":\"lines\",\"name\":\"UA\",\"x\":[2012,2013,2014],\"y\":[0.014669314534725033,0.013803929631987474,0.015022450600573828],\"type\":\"scatter\"},{\"mode\":\"lines\",\"name\":\"US\",\"x\":[2012,2013,2014],\"y\":[0.01573233266462674,0.016819723890749396,0.015735593792579553],\"type\":\"scatter\"},{\"mode\":\"lines\",\"name\":\"VX\",\"x\":[2012,2013,2014],\"y\":[0.017262796390340143,0.016277807921866522,0.016118935837245697],\"type\":\"scatter\"},{\"mode\":\"lines\",\"name\":\"WN\",\"x\":[2012,2013,2014],\"y\":[0.01932075736386871,0.01940737805827166,0.016447690470129818],\"type\":\"scatter\"},{\"mode\":\"lines\",\"name\":\"YV\",\"x\":[2012,2013,2014],\"y\":[0.014793694393025617,0.016228835809880642],\"type\":\"scatter\"}],                        {\"template\":{\"data\":{\"barpolar\":[{\"marker\":{\"line\":{\"color\":\"#E5ECF6\",\"width\":0.5},\"pattern\":{\"fillmode\":\"overlay\",\"size\":10,\"solidity\":0.2}},\"type\":\"barpolar\"}],\"bar\":[{\"error_x\":{\"color\":\"#2a3f5f\"},\"error_y\":{\"color\":\"#2a3f5f\"},\"marker\":{\"line\":{\"color\":\"#E5ECF6\",\"width\":0.5},\"pattern\":{\"fillmode\":\"overlay\",\"size\":10,\"solidity\":0.2}},\"type\":\"bar\"}],\"carpet\":[{\"aaxis\":{\"endlinecolor\":\"#2a3f5f\",\"gridcolor\":\"white\",\"linecolor\":\"white\",\"minorgridcolor\":\"white\",\"startlinecolor\":\"#2a3f5f\"},\"baxis\":{\"endlinecolor\":\"#2a3f5f\",\"gridcolor\":\"white\",\"linecolor\":\"white\",\"minorgridcolor\":\"white\",\"startlinecolor\":\"#2a3f5f\"},\"type\":\"carpet\"}],\"choropleth\":[{\"colorbar\":{\"outlinewidth\":0,\"ticks\":\"\"},\"type\":\"choropleth\"}],\"contourcarpet\":[{\"colorbar\":{\"outlinewidth\":0,\"ticks\":\"\"},\"type\":\"contourcarpet\"}],\"contour\":[{\"colorbar\":{\"outlinewidth\":0,\"ticks\":\"\"},\"colorscale\":[[0.0,\"#0d0887\"],[0.1111111111111111,\"#46039f\"],[0.2222222222222222,\"#7201a8\"],[0.3333333333333333,\"#9c179e\"],[0.4444444444444444,\"#bd3786\"],[0.5555555555555556,\"#d8576b\"],[0.6666666666666666,\"#ed7953\"],[0.7777777777777778,\"#fb9f3a\"],[0.8888888888888888,\"#fdca26\"],[1.0,\"#f0f921\"]],\"type\":\"contour\"}],\"heatmapgl\":[{\"colorbar\":{\"outlinewidth\":0,\"ticks\":\"\"},\"colorscale\":[[0.0,\"#0d0887\"],[0.1111111111111111,\"#46039f\"],[0.2222222222222222,\"#7201a8\"],[0.3333333333333333,\"#9c179e\"],[0.4444444444444444,\"#bd3786\"],[0.5555555555555556,\"#d8576b\"],[0.6666666666666666,\"#ed7953\"],[0.7777777777777778,\"#fb9f3a\"],[0.8888888888888888,\"#fdca26\"],[1.0,\"#f0f921\"]],\"type\":\"heatmapgl\"}],\"heatmap\":[{\"colorbar\":{\"outlinewidth\":0,\"ticks\":\"\"},\"colorscale\":[[0.0,\"#0d0887\"],[0.1111111111111111,\"#46039f\"],[0.2222222222222222,\"#7201a8\"],[0.3333333333333333,\"#9c179e\"],[0.4444444444444444,\"#bd3786\"],[0.5555555555555556,\"#d8576b\"],[0.6666666666666666,\"#ed7953\"],[0.7777777777777778,\"#fb9f3a\"],[0.8888888888888888,\"#fdca26\"],[1.0,\"#f0f921\"]],\"type\":\"heatmap\"}],\"histogram2dcontour\":[{\"colorbar\":{\"outlinewidth\":0,\"ticks\":\"\"},\"colorscale\":[[0.0,\"#0d0887\"],[0.1111111111111111,\"#46039f\"],[0.2222222222222222,\"#7201a8\"],[0.3333333333333333,\"#9c179e\"],[0.4444444444444444,\"#bd3786\"],[0.5555555555555556,\"#d8576b\"],[0.6666666666666666,\"#ed7953\"],[0.7777777777777778,\"#fb9f3a\"],[0.8888888888888888,\"#fdca26\"],[1.0,\"#f0f921\"]],\"type\":\"histogram2dcontour\"}],\"histogram2d\":[{\"colorbar\":{\"outlinewidth\":0,\"ticks\":\"\"},\"colorscale\":[[0.0,\"#0d0887\"],[0.1111111111111111,\"#46039f\"],[0.2222222222222222,\"#7201a8\"],[0.3333333333333333,\"#9c179e\"],[0.4444444444444444,\"#bd3786\"],[0.5555555555555556,\"#d8576b\"],[0.6666666666666666,\"#ed7953\"],[0.7777777777777778,\"#fb9f3a\"],[0.8888888888888888,\"#fdca26\"],[1.0,\"#f0f921\"]],\"type\":\"histogram2d\"}],\"histogram\":[{\"marker\":{\"pattern\":{\"fillmode\":\"overlay\",\"size\":10,\"solidity\":0.2}},\"type\":\"histogram\"}],\"mesh3d\":[{\"colorbar\":{\"outlinewidth\":0,\"ticks\":\"\"},\"type\":\"mesh3d\"}],\"parcoords\":[{\"line\":{\"colorbar\":{\"outlinewidth\":0,\"ticks\":\"\"}},\"type\":\"parcoords\"}],\"pie\":[{\"automargin\":true,\"type\":\"pie\"}],\"scatter3d\":[{\"line\":{\"colorbar\":{\"outlinewidth\":0,\"ticks\":\"\"}},\"marker\":{\"colorbar\":{\"outlinewidth\":0,\"ticks\":\"\"}},\"type\":\"scatter3d\"}],\"scattercarpet\":[{\"marker\":{\"colorbar\":{\"outlinewidth\":0,\"ticks\":\"\"}},\"type\":\"scattercarpet\"}],\"scattergeo\":[{\"marker\":{\"colorbar\":{\"outlinewidth\":0,\"ticks\":\"\"}},\"type\":\"scattergeo\"}],\"scattergl\":[{\"marker\":{\"colorbar\":{\"outlinewidth\":0,\"ticks\":\"\"}},\"type\":\"scattergl\"}],\"scattermapbox\":[{\"marker\":{\"colorbar\":{\"outlinewidth\":0,\"ticks\":\"\"}},\"type\":\"scattermapbox\"}],\"scatterpolargl\":[{\"marker\":{\"colorbar\":{\"outlinewidth\":0,\"ticks\":\"\"}},\"type\":\"scatterpolargl\"}],\"scatterpolar\":[{\"marker\":{\"colorbar\":{\"outlinewidth\":0,\"ticks\":\"\"}},\"type\":\"scatterpolar\"}],\"scatter\":[{\"fillpattern\":{\"fillmode\":\"overlay\",\"size\":10,\"solidity\":0.2},\"type\":\"scatter\"}],\"scatterternary\":[{\"marker\":{\"colorbar\":{\"outlinewidth\":0,\"ticks\":\"\"}},\"type\":\"scatterternary\"}],\"surface\":[{\"colorbar\":{\"outlinewidth\":0,\"ticks\":\"\"},\"colorscale\":[[0.0,\"#0d0887\"],[0.1111111111111111,\"#46039f\"],[0.2222222222222222,\"#7201a8\"],[0.3333333333333333,\"#9c179e\"],[0.4444444444444444,\"#bd3786\"],[0.5555555555555556,\"#d8576b\"],[0.6666666666666666,\"#ed7953\"],[0.7777777777777778,\"#fb9f3a\"],[0.8888888888888888,\"#fdca26\"],[1.0,\"#f0f921\"]],\"type\":\"surface\"}],\"table\":[{\"cells\":{\"fill\":{\"color\":\"#EBF0F8\"},\"line\":{\"color\":\"white\"}},\"header\":{\"fill\":{\"color\":\"#C8D4E3\"},\"line\":{\"color\":\"white\"}},\"type\":\"table\"}]},\"layout\":{\"annotationdefaults\":{\"arrowcolor\":\"#2a3f5f\",\"arrowhead\":0,\"arrowwidth\":1},\"autotypenumbers\":\"strict\",\"coloraxis\":{\"colorbar\":{\"outlinewidth\":0,\"ticks\":\"\"}},\"colorscale\":{\"diverging\":[[0,\"#8e0152\"],[0.1,\"#c51b7d\"],[0.2,\"#de77ae\"],[0.3,\"#f1b6da\"],[0.4,\"#fde0ef\"],[0.5,\"#f7f7f7\"],[0.6,\"#e6f5d0\"],[0.7,\"#b8e186\"],[0.8,\"#7fbc41\"],[0.9,\"#4d9221\"],[1,\"#276419\"]],\"sequential\":[[0.0,\"#0d0887\"],[0.1111111111111111,\"#46039f\"],[0.2222222222222222,\"#7201a8\"],[0.3333333333333333,\"#9c179e\"],[0.4444444444444444,\"#bd3786\"],[0.5555555555555556,\"#d8576b\"],[0.6666666666666666,\"#ed7953\"],[0.7777777777777778,\"#fb9f3a\"],[0.8888888888888888,\"#fdca26\"],[1.0,\"#f0f921\"]],\"sequentialminus\":[[0.0,\"#0d0887\"],[0.1111111111111111,\"#46039f\"],[0.2222222222222222,\"#7201a8\"],[0.3333333333333333,\"#9c179e\"],[0.4444444444444444,\"#bd3786\"],[0.5555555555555556,\"#d8576b\"],[0.6666666666666666,\"#ed7953\"],[0.7777777777777778,\"#fb9f3a\"],[0.8888888888888888,\"#fdca26\"],[1.0,\"#f0f921\"]]},\"colorway\":[\"#636efa\",\"#EF553B\",\"#00cc96\",\"#ab63fa\",\"#FFA15A\",\"#19d3f3\",\"#FF6692\",\"#B6E880\",\"#FF97FF\",\"#FECB52\"],\"font\":{\"color\":\"#2a3f5f\"},\"geo\":{\"bgcolor\":\"white\",\"lakecolor\":\"white\",\"landcolor\":\"#E5ECF6\",\"showlakes\":true,\"showland\":true,\"subunitcolor\":\"white\"},\"hoverlabel\":{\"align\":\"left\"},\"hovermode\":\"closest\",\"mapbox\":{\"style\":\"light\"},\"paper_bgcolor\":\"white\",\"plot_bgcolor\":\"#E5ECF6\",\"polar\":{\"angularaxis\":{\"gridcolor\":\"white\",\"linecolor\":\"white\",\"ticks\":\"\"},\"bgcolor\":\"#E5ECF6\",\"radialaxis\":{\"gridcolor\":\"white\",\"linecolor\":\"white\",\"ticks\":\"\"}},\"scene\":{\"xaxis\":{\"backgroundcolor\":\"#E5ECF6\",\"gridcolor\":\"white\",\"gridwidth\":2,\"linecolor\":\"white\",\"showbackground\":true,\"ticks\":\"\",\"zerolinecolor\":\"white\"},\"yaxis\":{\"backgroundcolor\":\"#E5ECF6\",\"gridcolor\":\"white\",\"gridwidth\":2,\"linecolor\":\"white\",\"showbackground\":true,\"ticks\":\"\",\"zerolinecolor\":\"white\"},\"zaxis\":{\"backgroundcolor\":\"#E5ECF6\",\"gridcolor\":\"white\",\"gridwidth\":2,\"linecolor\":\"white\",\"showbackground\":true,\"ticks\":\"\",\"zerolinecolor\":\"white\"}},\"shapedefaults\":{\"line\":{\"color\":\"#2a3f5f\"}},\"ternary\":{\"aaxis\":{\"gridcolor\":\"white\",\"linecolor\":\"white\",\"ticks\":\"\"},\"baxis\":{\"gridcolor\":\"white\",\"linecolor\":\"white\",\"ticks\":\"\"},\"bgcolor\":\"#E5ECF6\",\"caxis\":{\"gridcolor\":\"white\",\"linecolor\":\"white\",\"ticks\":\"\"}},\"title\":{\"x\":0.05},\"xaxis\":{\"automargin\":true,\"gridcolor\":\"white\",\"linecolor\":\"white\",\"ticks\":\"\",\"title\":{\"standoff\":15},\"zerolinecolor\":\"white\",\"zerolinewidth\":2},\"yaxis\":{\"automargin\":true,\"gridcolor\":\"white\",\"linecolor\":\"white\",\"ticks\":\"\",\"title\":{\"standoff\":15},\"zerolinecolor\":\"white\",\"zerolinewidth\":2}}},\"title\":{\"text\":\"Evolution of Flights with Full Delay Correction\"},\"xaxis\":{\"tickformat\":\"d\",\"title\":{\"text\":\"Year\"},\"zeroline\":false},\"yaxis\":{\"tickformat\":\",.0%\",\"title\":{\"text\":\"Flights Relative to Total Carrier Flights\"}}},                        {\"responsive\": true}                    ).then(function(){\n",
       "                            \n",
       "var gd = document.getElementById('f9984847-dedc-42d5-b418-a7b31884bc90');\n",
       "var x = new MutationObserver(function (mutations, observer) {{\n",
       "        var display = window.getComputedStyle(gd).display;\n",
       "        if (!display || display === 'none') {{\n",
       "            console.log([gd, 'removed!']);\n",
       "            Plotly.purge(gd);\n",
       "            observer.disconnect();\n",
       "        }}\n",
       "}});\n",
       "\n",
       "// Listen for the removal of the full notebook cells\n",
       "var notebookContainer = gd.closest('#notebook-container');\n",
       "if (notebookContainer) {{\n",
       "    x.observe(notebookContainer, {childList: true});\n",
       "}}\n",
       "\n",
       "// Listen for the clearing of the current output cell\n",
       "var outputEl = gd.closest('.output');\n",
       "if (outputEl) {{\n",
       "    x.observe(outputEl, {childList: true});\n",
       "}}\n",
       "\n",
       "                        })                };                });            </script>        </div>"
      ]
     },
     "metadata": {},
     "output_type": "display_data"
    }
   ],
   "source": [
    "traces = []\n",
    "changePerCarrierMap = dict()\n",
    "years = []\n",
    "\n",
    "for i in range(len(carrierDelayCountEvolution.toPandas()['Year'])):\n",
    "    if not carrierDelayCountEvolution.toPandas()['Year'][i] in years:\n",
    "        years.append(carrierDelayCountEvolution.toPandas()['Year'][i])\n",
    "\n",
    "years.sort()\n",
    "        \n",
    "for i in range(len(carrierDelayCountEvolution.toPandas()['Carrier'])):\n",
    "    if not carrierDelayCountEvolution.toPandas()['Carrier'][i] in changePerCarrierMap:\n",
    "        changePerCarrierMap[carrierDelayCountEvolution.toPandas()['Carrier'][i]] = []\n",
    "        \n",
    "    changePerCarrierMap[carrierDelayCountEvolution.toPandas()['Carrier'][i]].append(carrierDelayCountEvolution.toPandas()['FullDelayCorrection'][i])\n",
    "    \n",
    "for key in changePerCarrierMap:\n",
    "    traces.append(go.Scatter(\n",
    "        y = changePerCarrierMap[key],\n",
    "        x = years,\n",
    "        mode = 'lines',\n",
    "        name = key))\n",
    "                \n",
    "layout = dict(title = 'Evolution of Flights with Full Delay Correction',\n",
    "              xaxis= dict(title= 'Year',zeroline= False,tickformat='d'),\n",
    "              yaxis= dict(title= 'Flights Relative to Total Carrier Flights',tickformat=',.0%')\n",
    "             )\n",
    "\n",
    "fig = dict(data = traces, layout = layout)\n",
    "\n",
    "pyo.iplot(fig)"
   ]
  },
  {
   "cell_type": "markdown",
   "id": "6a6c096f-b1d9-467a-a1ac-afb71de7c856",
   "metadata": {},
   "source": [
    "EVOLUTION OF DELAY CORRECTIONS COUNT RELATIVE TO FLIGHT COUNT PER CARRIER ACROSS INDIVIDUAL YEARS: Partial Delay Correction"
   ]
  },
  {
   "cell_type": "code",
   "execution_count": 38,
   "id": "42b74409-b93c-4398-bf31-3a1e4aa7527b",
   "metadata": {},
   "outputs": [
    {
     "data": {
      "application/vnd.plotly.v1+json": {
       "config": {
        "linkText": "Export to plot.ly",
        "plotlyServerURL": "https://plot.ly",
        "showLink": false
       },
       "data": [
        {
         "mode": "lines",
         "name": "9E",
         "type": "scatter",
         "x": [
          2012,
          2013,
          2014
         ],
         "y": [
          0.3494696681170606
         ]
        },
        {
         "mode": "lines",
         "name": "AA",
         "type": "scatter",
         "x": [
          2012,
          2013,
          2014
         ],
         "y": [
          0.40690567762080654,
          0.43746781411103736,
          0.42033152500385906
         ]
        },
        {
         "mode": "lines",
         "name": "AS",
         "type": "scatter",
         "x": [
          2012,
          2013,
          2014
         ],
         "y": [
          0.3843422399013343,
          0.44384560206277507,
          0.4485482693423688
         ]
        },
        {
         "mode": "lines",
         "name": "B6",
         "type": "scatter",
         "x": [
          2012,
          2013,
          2014
         ],
         "y": [
          0.395309443978765,
          0.42158269810610605,
          0.4022699875447049
         ]
        },
        {
         "mode": "lines",
         "name": "DL",
         "type": "scatter",
         "x": [
          2012,
          2013,
          2014
         ],
         "y": [
          0.35418274568394464,
          0.37229650045715346,
          0.3784463532719038
         ]
        },
        {
         "mode": "lines",
         "name": "EV",
         "type": "scatter",
         "x": [
          2012,
          2013,
          2014
         ],
         "y": [
          0.3780145912492998,
          0.39839667902593306,
          0.3892198635318744
         ]
        },
        {
         "mode": "lines",
         "name": "F9",
         "type": "scatter",
         "x": [
          2012,
          2013,
          2014
         ],
         "y": [
          0.47766071541227684,
          0.4723853356610062,
          0.473067833493226
         ]
        },
        {
         "mode": "lines",
         "name": "FL",
         "type": "scatter",
         "x": [
          2012,
          2013,
          2014
         ],
         "y": [
          0.3653065153418102,
          0.44476062362030905,
          0.4268570350336499
         ]
        },
        {
         "mode": "lines",
         "name": "HA",
         "type": "scatter",
         "x": [
          2012,
          2013,
          2014
         ],
         "y": [
          0.4752459215479901,
          0.4981462523863542,
          0.5175694481614301
         ]
        },
        {
         "mode": "lines",
         "name": "MQ",
         "type": "scatter",
         "x": [
          2012,
          2013,
          2014
         ],
         "y": [
          0.35151329416240434,
          0.38568197060461734,
          0.39028930407612916
         ]
        },
        {
         "mode": "lines",
         "name": "OO",
         "type": "scatter",
         "x": [
          2012,
          2013,
          2014
         ],
         "y": [
          0.3995347677723891,
          0.4096149332890563,
          0.4174542844558994
         ]
        },
        {
         "mode": "lines",
         "name": "UA",
         "type": "scatter",
         "x": [
          2012,
          2013,
          2014
         ],
         "y": [
          0.46044103944507714,
          0.43994440468329254,
          0.46867249679856055
         ]
        },
        {
         "mode": "lines",
         "name": "US",
         "type": "scatter",
         "x": [
          2012,
          2013,
          2014
         ],
         "y": [
          0.3757924915216085,
          0.40718233249994545,
          0.4008971097150712
         ]
        },
        {
         "mode": "lines",
         "name": "VX",
         "type": "scatter",
         "x": [
          2012,
          2013,
          2014
         ],
         "y": [
          0.39392057286909504,
          0.39632086534927274,
          0.39142757781255433
         ]
        },
        {
         "mode": "lines",
         "name": "WN",
         "type": "scatter",
         "x": [
          2012,
          2013,
          2014
         ],
         "y": [
          0.4512417418141486,
          0.5009763828552831,
          0.481946275985776
         ]
        },
        {
         "mode": "lines",
         "name": "YV",
         "type": "scatter",
         "x": [
          2012,
          2013,
          2014
         ],
         "y": [
          0.3957126649549173,
          0.4228864194377031
         ]
        }
       ],
       "layout": {
        "autosize": true,
        "template": {
         "data": {
          "bar": [
           {
            "error_x": {
             "color": "#2a3f5f"
            },
            "error_y": {
             "color": "#2a3f5f"
            },
            "marker": {
             "line": {
              "color": "#E5ECF6",
              "width": 0.5
             },
             "pattern": {
              "fillmode": "overlay",
              "size": 10,
              "solidity": 0.2
             }
            },
            "type": "bar"
           }
          ],
          "barpolar": [
           {
            "marker": {
             "line": {
              "color": "#E5ECF6",
              "width": 0.5
             },
             "pattern": {
              "fillmode": "overlay",
              "size": 10,
              "solidity": 0.2
             }
            },
            "type": "barpolar"
           }
          ],
          "carpet": [
           {
            "aaxis": {
             "endlinecolor": "#2a3f5f",
             "gridcolor": "white",
             "linecolor": "white",
             "minorgridcolor": "white",
             "startlinecolor": "#2a3f5f"
            },
            "baxis": {
             "endlinecolor": "#2a3f5f",
             "gridcolor": "white",
             "linecolor": "white",
             "minorgridcolor": "white",
             "startlinecolor": "#2a3f5f"
            },
            "type": "carpet"
           }
          ],
          "choropleth": [
           {
            "colorbar": {
             "outlinewidth": 0,
             "ticks": ""
            },
            "type": "choropleth"
           }
          ],
          "contour": [
           {
            "colorbar": {
             "outlinewidth": 0,
             "ticks": ""
            },
            "colorscale": [
             [
              0,
              "#0d0887"
             ],
             [
              0.1111111111111111,
              "#46039f"
             ],
             [
              0.2222222222222222,
              "#7201a8"
             ],
             [
              0.3333333333333333,
              "#9c179e"
             ],
             [
              0.4444444444444444,
              "#bd3786"
             ],
             [
              0.5555555555555556,
              "#d8576b"
             ],
             [
              0.6666666666666666,
              "#ed7953"
             ],
             [
              0.7777777777777778,
              "#fb9f3a"
             ],
             [
              0.8888888888888888,
              "#fdca26"
             ],
             [
              1,
              "#f0f921"
             ]
            ],
            "type": "contour"
           }
          ],
          "contourcarpet": [
           {
            "colorbar": {
             "outlinewidth": 0,
             "ticks": ""
            },
            "type": "contourcarpet"
           }
          ],
          "heatmap": [
           {
            "colorbar": {
             "outlinewidth": 0,
             "ticks": ""
            },
            "colorscale": [
             [
              0,
              "#0d0887"
             ],
             [
              0.1111111111111111,
              "#46039f"
             ],
             [
              0.2222222222222222,
              "#7201a8"
             ],
             [
              0.3333333333333333,
              "#9c179e"
             ],
             [
              0.4444444444444444,
              "#bd3786"
             ],
             [
              0.5555555555555556,
              "#d8576b"
             ],
             [
              0.6666666666666666,
              "#ed7953"
             ],
             [
              0.7777777777777778,
              "#fb9f3a"
             ],
             [
              0.8888888888888888,
              "#fdca26"
             ],
             [
              1,
              "#f0f921"
             ]
            ],
            "type": "heatmap"
           }
          ],
          "heatmapgl": [
           {
            "colorbar": {
             "outlinewidth": 0,
             "ticks": ""
            },
            "colorscale": [
             [
              0,
              "#0d0887"
             ],
             [
              0.1111111111111111,
              "#46039f"
             ],
             [
              0.2222222222222222,
              "#7201a8"
             ],
             [
              0.3333333333333333,
              "#9c179e"
             ],
             [
              0.4444444444444444,
              "#bd3786"
             ],
             [
              0.5555555555555556,
              "#d8576b"
             ],
             [
              0.6666666666666666,
              "#ed7953"
             ],
             [
              0.7777777777777778,
              "#fb9f3a"
             ],
             [
              0.8888888888888888,
              "#fdca26"
             ],
             [
              1,
              "#f0f921"
             ]
            ],
            "type": "heatmapgl"
           }
          ],
          "histogram": [
           {
            "marker": {
             "pattern": {
              "fillmode": "overlay",
              "size": 10,
              "solidity": 0.2
             }
            },
            "type": "histogram"
           }
          ],
          "histogram2d": [
           {
            "colorbar": {
             "outlinewidth": 0,
             "ticks": ""
            },
            "colorscale": [
             [
              0,
              "#0d0887"
             ],
             [
              0.1111111111111111,
              "#46039f"
             ],
             [
              0.2222222222222222,
              "#7201a8"
             ],
             [
              0.3333333333333333,
              "#9c179e"
             ],
             [
              0.4444444444444444,
              "#bd3786"
             ],
             [
              0.5555555555555556,
              "#d8576b"
             ],
             [
              0.6666666666666666,
              "#ed7953"
             ],
             [
              0.7777777777777778,
              "#fb9f3a"
             ],
             [
              0.8888888888888888,
              "#fdca26"
             ],
             [
              1,
              "#f0f921"
             ]
            ],
            "type": "histogram2d"
           }
          ],
          "histogram2dcontour": [
           {
            "colorbar": {
             "outlinewidth": 0,
             "ticks": ""
            },
            "colorscale": [
             [
              0,
              "#0d0887"
             ],
             [
              0.1111111111111111,
              "#46039f"
             ],
             [
              0.2222222222222222,
              "#7201a8"
             ],
             [
              0.3333333333333333,
              "#9c179e"
             ],
             [
              0.4444444444444444,
              "#bd3786"
             ],
             [
              0.5555555555555556,
              "#d8576b"
             ],
             [
              0.6666666666666666,
              "#ed7953"
             ],
             [
              0.7777777777777778,
              "#fb9f3a"
             ],
             [
              0.8888888888888888,
              "#fdca26"
             ],
             [
              1,
              "#f0f921"
             ]
            ],
            "type": "histogram2dcontour"
           }
          ],
          "mesh3d": [
           {
            "colorbar": {
             "outlinewidth": 0,
             "ticks": ""
            },
            "type": "mesh3d"
           }
          ],
          "parcoords": [
           {
            "line": {
             "colorbar": {
              "outlinewidth": 0,
              "ticks": ""
             }
            },
            "type": "parcoords"
           }
          ],
          "pie": [
           {
            "automargin": true,
            "type": "pie"
           }
          ],
          "scatter": [
           {
            "fillpattern": {
             "fillmode": "overlay",
             "size": 10,
             "solidity": 0.2
            },
            "type": "scatter"
           }
          ],
          "scatter3d": [
           {
            "line": {
             "colorbar": {
              "outlinewidth": 0,
              "ticks": ""
             }
            },
            "marker": {
             "colorbar": {
              "outlinewidth": 0,
              "ticks": ""
             }
            },
            "type": "scatter3d"
           }
          ],
          "scattercarpet": [
           {
            "marker": {
             "colorbar": {
              "outlinewidth": 0,
              "ticks": ""
             }
            },
            "type": "scattercarpet"
           }
          ],
          "scattergeo": [
           {
            "marker": {
             "colorbar": {
              "outlinewidth": 0,
              "ticks": ""
             }
            },
            "type": "scattergeo"
           }
          ],
          "scattergl": [
           {
            "marker": {
             "colorbar": {
              "outlinewidth": 0,
              "ticks": ""
             }
            },
            "type": "scattergl"
           }
          ],
          "scattermapbox": [
           {
            "marker": {
             "colorbar": {
              "outlinewidth": 0,
              "ticks": ""
             }
            },
            "type": "scattermapbox"
           }
          ],
          "scatterpolar": [
           {
            "marker": {
             "colorbar": {
              "outlinewidth": 0,
              "ticks": ""
             }
            },
            "type": "scatterpolar"
           }
          ],
          "scatterpolargl": [
           {
            "marker": {
             "colorbar": {
              "outlinewidth": 0,
              "ticks": ""
             }
            },
            "type": "scatterpolargl"
           }
          ],
          "scatterternary": [
           {
            "marker": {
             "colorbar": {
              "outlinewidth": 0,
              "ticks": ""
             }
            },
            "type": "scatterternary"
           }
          ],
          "surface": [
           {
            "colorbar": {
             "outlinewidth": 0,
             "ticks": ""
            },
            "colorscale": [
             [
              0,
              "#0d0887"
             ],
             [
              0.1111111111111111,
              "#46039f"
             ],
             [
              0.2222222222222222,
              "#7201a8"
             ],
             [
              0.3333333333333333,
              "#9c179e"
             ],
             [
              0.4444444444444444,
              "#bd3786"
             ],
             [
              0.5555555555555556,
              "#d8576b"
             ],
             [
              0.6666666666666666,
              "#ed7953"
             ],
             [
              0.7777777777777778,
              "#fb9f3a"
             ],
             [
              0.8888888888888888,
              "#fdca26"
             ],
             [
              1,
              "#f0f921"
             ]
            ],
            "type": "surface"
           }
          ],
          "table": [
           {
            "cells": {
             "fill": {
              "color": "#EBF0F8"
             },
             "line": {
              "color": "white"
             }
            },
            "header": {
             "fill": {
              "color": "#C8D4E3"
             },
             "line": {
              "color": "white"
             }
            },
            "type": "table"
           }
          ]
         },
         "layout": {
          "annotationdefaults": {
           "arrowcolor": "#2a3f5f",
           "arrowhead": 0,
           "arrowwidth": 1
          },
          "autotypenumbers": "strict",
          "coloraxis": {
           "colorbar": {
            "outlinewidth": 0,
            "ticks": ""
           }
          },
          "colorscale": {
           "diverging": [
            [
             0,
             "#8e0152"
            ],
            [
             0.1,
             "#c51b7d"
            ],
            [
             0.2,
             "#de77ae"
            ],
            [
             0.3,
             "#f1b6da"
            ],
            [
             0.4,
             "#fde0ef"
            ],
            [
             0.5,
             "#f7f7f7"
            ],
            [
             0.6,
             "#e6f5d0"
            ],
            [
             0.7,
             "#b8e186"
            ],
            [
             0.8,
             "#7fbc41"
            ],
            [
             0.9,
             "#4d9221"
            ],
            [
             1,
             "#276419"
            ]
           ],
           "sequential": [
            [
             0,
             "#0d0887"
            ],
            [
             0.1111111111111111,
             "#46039f"
            ],
            [
             0.2222222222222222,
             "#7201a8"
            ],
            [
             0.3333333333333333,
             "#9c179e"
            ],
            [
             0.4444444444444444,
             "#bd3786"
            ],
            [
             0.5555555555555556,
             "#d8576b"
            ],
            [
             0.6666666666666666,
             "#ed7953"
            ],
            [
             0.7777777777777778,
             "#fb9f3a"
            ],
            [
             0.8888888888888888,
             "#fdca26"
            ],
            [
             1,
             "#f0f921"
            ]
           ],
           "sequentialminus": [
            [
             0,
             "#0d0887"
            ],
            [
             0.1111111111111111,
             "#46039f"
            ],
            [
             0.2222222222222222,
             "#7201a8"
            ],
            [
             0.3333333333333333,
             "#9c179e"
            ],
            [
             0.4444444444444444,
             "#bd3786"
            ],
            [
             0.5555555555555556,
             "#d8576b"
            ],
            [
             0.6666666666666666,
             "#ed7953"
            ],
            [
             0.7777777777777778,
             "#fb9f3a"
            ],
            [
             0.8888888888888888,
             "#fdca26"
            ],
            [
             1,
             "#f0f921"
            ]
           ]
          },
          "colorway": [
           "#636efa",
           "#EF553B",
           "#00cc96",
           "#ab63fa",
           "#FFA15A",
           "#19d3f3",
           "#FF6692",
           "#B6E880",
           "#FF97FF",
           "#FECB52"
          ],
          "font": {
           "color": "#2a3f5f"
          },
          "geo": {
           "bgcolor": "white",
           "lakecolor": "white",
           "landcolor": "#E5ECF6",
           "showlakes": true,
           "showland": true,
           "subunitcolor": "white"
          },
          "hoverlabel": {
           "align": "left"
          },
          "hovermode": "closest",
          "mapbox": {
           "style": "light"
          },
          "paper_bgcolor": "white",
          "plot_bgcolor": "#E5ECF6",
          "polar": {
           "angularaxis": {
            "gridcolor": "white",
            "linecolor": "white",
            "ticks": ""
           },
           "bgcolor": "#E5ECF6",
           "radialaxis": {
            "gridcolor": "white",
            "linecolor": "white",
            "ticks": ""
           }
          },
          "scene": {
           "xaxis": {
            "backgroundcolor": "#E5ECF6",
            "gridcolor": "white",
            "gridwidth": 2,
            "linecolor": "white",
            "showbackground": true,
            "ticks": "",
            "zerolinecolor": "white"
           },
           "yaxis": {
            "backgroundcolor": "#E5ECF6",
            "gridcolor": "white",
            "gridwidth": 2,
            "linecolor": "white",
            "showbackground": true,
            "ticks": "",
            "zerolinecolor": "white"
           },
           "zaxis": {
            "backgroundcolor": "#E5ECF6",
            "gridcolor": "white",
            "gridwidth": 2,
            "linecolor": "white",
            "showbackground": true,
            "ticks": "",
            "zerolinecolor": "white"
           }
          },
          "shapedefaults": {
           "line": {
            "color": "#2a3f5f"
           }
          },
          "ternary": {
           "aaxis": {
            "gridcolor": "white",
            "linecolor": "white",
            "ticks": ""
           },
           "baxis": {
            "gridcolor": "white",
            "linecolor": "white",
            "ticks": ""
           },
           "bgcolor": "#E5ECF6",
           "caxis": {
            "gridcolor": "white",
            "linecolor": "white",
            "ticks": ""
           }
          },
          "title": {
           "x": 0.05
          },
          "xaxis": {
           "automargin": true,
           "gridcolor": "white",
           "linecolor": "white",
           "ticks": "",
           "title": {
            "standoff": 15
           },
           "zerolinecolor": "white",
           "zerolinewidth": 2
          },
          "yaxis": {
           "automargin": true,
           "gridcolor": "white",
           "linecolor": "white",
           "ticks": "",
           "title": {
            "standoff": 15
           },
           "zerolinecolor": "white",
           "zerolinewidth": 2
          }
         }
        },
        "title": {
         "text": "Evolution of Flights with Partial Delay Correction"
        },
        "xaxis": {
         "autorange": true,
         "range": [
          2012,
          2014
         ],
         "tickformat": "d",
         "title": {
          "text": "Year"
         },
         "type": "linear",
         "zeroline": false
        },
        "yaxis": {
         "autorange": true,
         "range": [
          0.34013079144792896,
          0.5269083248305618
         ],
         "tickformat": ",.0%",
         "title": {
          "text": "Flights Relative to Total Carrier Flights"
         },
         "type": "linear"
        }
       }
      },
      "image/png": "[encoded data removed]",
      "text/html": [
       "<div>                            <div id=\"4aa8b55b-92ba-40aa-8468-66ef80cd5fb8\" class=\"plotly-graph-div\" style=\"height:525px; width:100%;\"></div>            <script type=\"text/javascript\">                require([\"plotly\"], function(Plotly) {                    window.PLOTLYENV=window.PLOTLYENV || {};                                    if (document.getElementById(\"4aa8b55b-92ba-40aa-8468-66ef80cd5fb8\")) {                    Plotly.newPlot(                        \"4aa8b55b-92ba-40aa-8468-66ef80cd5fb8\",                        [{\"mode\":\"lines\",\"name\":\"9E\",\"x\":[2012,2013,2014],\"y\":[0.3494696681170606],\"type\":\"scatter\"},{\"mode\":\"lines\",\"name\":\"AA\",\"x\":[2012,2013,2014],\"y\":[0.40690567762080654,0.43746781411103736,0.42033152500385906],\"type\":\"scatter\"},{\"mode\":\"lines\",\"name\":\"AS\",\"x\":[2012,2013,2014],\"y\":[0.3843422399013343,0.44384560206277507,0.4485482693423688],\"type\":\"scatter\"},{\"mode\":\"lines\",\"name\":\"B6\",\"x\":[2012,2013,2014],\"y\":[0.395309443978765,0.42158269810610605,0.4022699875447049],\"type\":\"scatter\"},{\"mode\":\"lines\",\"name\":\"DL\",\"x\":[2012,2013,2014],\"y\":[0.35418274568394464,0.37229650045715346,0.3784463532719038],\"type\":\"scatter\"},{\"mode\":\"lines\",\"name\":\"EV\",\"x\":[2012,2013,2014],\"y\":[0.3780145912492998,0.39839667902593306,0.3892198635318744],\"type\":\"scatter\"},{\"mode\":\"lines\",\"name\":\"F9\",\"x\":[2012,2013,2014],\"y\":[0.47766071541227684,0.4723853356610062,0.473067833493226],\"type\":\"scatter\"},{\"mode\":\"lines\",\"name\":\"FL\",\"x\":[2012,2013,2014],\"y\":[0.3653065153418102,0.44476062362030905,0.4268570350336499],\"type\":\"scatter\"},{\"mode\":\"lines\",\"name\":\"HA\",\"x\":[2012,2013,2014],\"y\":[0.4752459215479901,0.4981462523863542,0.5175694481614301],\"type\":\"scatter\"},{\"mode\":\"lines\",\"name\":\"MQ\",\"x\":[2012,2013,2014],\"y\":[0.35151329416240434,0.38568197060461734,0.39028930407612916],\"type\":\"scatter\"},{\"mode\":\"lines\",\"name\":\"OO\",\"x\":[2012,2013,2014],\"y\":[0.3995347677723891,0.4096149332890563,0.4174542844558994],\"type\":\"scatter\"},{\"mode\":\"lines\",\"name\":\"UA\",\"x\":[2012,2013,2014],\"y\":[0.46044103944507714,0.43994440468329254,0.46867249679856055],\"type\":\"scatter\"},{\"mode\":\"lines\",\"name\":\"US\",\"x\":[2012,2013,2014],\"y\":[0.3757924915216085,0.40718233249994545,0.4008971097150712],\"type\":\"scatter\"},{\"mode\":\"lines\",\"name\":\"VX\",\"x\":[2012,2013,2014],\"y\":[0.39392057286909504,0.39632086534927274,0.39142757781255433],\"type\":\"scatter\"},{\"mode\":\"lines\",\"name\":\"WN\",\"x\":[2012,2013,2014],\"y\":[0.4512417418141486,0.5009763828552831,0.481946275985776],\"type\":\"scatter\"},{\"mode\":\"lines\",\"name\":\"YV\",\"x\":[2012,2013,2014],\"y\":[0.3957126649549173,0.4228864194377031],\"type\":\"scatter\"}],                        {\"template\":{\"data\":{\"barpolar\":[{\"marker\":{\"line\":{\"color\":\"#E5ECF6\",\"width\":0.5},\"pattern\":{\"fillmode\":\"overlay\",\"size\":10,\"solidity\":0.2}},\"type\":\"barpolar\"}],\"bar\":[{\"error_x\":{\"color\":\"#2a3f5f\"},\"error_y\":{\"color\":\"#2a3f5f\"},\"marker\":{\"line\":{\"color\":\"#E5ECF6\",\"width\":0.5},\"pattern\":{\"fillmode\":\"overlay\",\"size\":10,\"solidity\":0.2}},\"type\":\"bar\"}],\"carpet\":[{\"aaxis\":{\"endlinecolor\":\"#2a3f5f\",\"gridcolor\":\"white\",\"linecolor\":\"white\",\"minorgridcolor\":\"white\",\"startlinecolor\":\"#2a3f5f\"},\"baxis\":{\"endlinecolor\":\"#2a3f5f\",\"gridcolor\":\"white\",\"linecolor\":\"white\",\"minorgridcolor\":\"white\",\"startlinecolor\":\"#2a3f5f\"},\"type\":\"carpet\"}],\"choropleth\":[{\"colorbar\":{\"outlinewidth\":0,\"ticks\":\"\"},\"type\":\"choropleth\"}],\"contourcarpet\":[{\"colorbar\":{\"outlinewidth\":0,\"ticks\":\"\"},\"type\":\"contourcarpet\"}],\"contour\":[{\"colorbar\":{\"outlinewidth\":0,\"ticks\":\"\"},\"colorscale\":[[0.0,\"#0d0887\"],[0.1111111111111111,\"#46039f\"],[0.2222222222222222,\"#7201a8\"],[0.3333333333333333,\"#9c179e\"],[0.4444444444444444,\"#bd3786\"],[0.5555555555555556,\"#d8576b\"],[0.6666666666666666,\"#ed7953\"],[0.7777777777777778,\"#fb9f3a\"],[0.8888888888888888,\"#fdca26\"],[1.0,\"#f0f921\"]],\"type\":\"contour\"}],\"heatmapgl\":[{\"colorbar\":{\"outlinewidth\":0,\"ticks\":\"\"},\"colorscale\":[[0.0,\"#0d0887\"],[0.1111111111111111,\"#46039f\"],[0.2222222222222222,\"#7201a8\"],[0.3333333333333333,\"#9c179e\"],[0.4444444444444444,\"#bd3786\"],[0.5555555555555556,\"#d8576b\"],[0.6666666666666666,\"#ed7953\"],[0.7777777777777778,\"#fb9f3a\"],[0.8888888888888888,\"#fdca26\"],[1.0,\"#f0f921\"]],\"type\":\"heatmapgl\"}],\"heatmap\":[{\"colorbar\":{\"outlinewidth\":0,\"ticks\":\"\"},\"colorscale\":[[0.0,\"#0d0887\"],[0.1111111111111111,\"#46039f\"],[0.2222222222222222,\"#7201a8\"],[0.3333333333333333,\"#9c179e\"],[0.4444444444444444,\"#bd3786\"],[0.5555555555555556,\"#d8576b\"],[0.6666666666666666,\"#ed7953\"],[0.7777777777777778,\"#fb9f3a\"],[0.8888888888888888,\"#fdca26\"],[1.0,\"#f0f921\"]],\"type\":\"heatmap\"}],\"histogram2dcontour\":[{\"colorbar\":{\"outlinewidth\":0,\"ticks\":\"\"},\"colorscale\":[[0.0,\"#0d0887\"],[0.1111111111111111,\"#46039f\"],[0.2222222222222222,\"#7201a8\"],[0.3333333333333333,\"#9c179e\"],[0.4444444444444444,\"#bd3786\"],[0.5555555555555556,\"#d8576b\"],[0.6666666666666666,\"#ed7953\"],[0.7777777777777778,\"#fb9f3a\"],[0.8888888888888888,\"#fdca26\"],[1.0,\"#f0f921\"]],\"type\":\"histogram2dcontour\"}],\"histogram2d\":[{\"colorbar\":{\"outlinewidth\":0,\"ticks\":\"\"},\"colorscale\":[[0.0,\"#0d0887\"],[0.1111111111111111,\"#46039f\"],[0.2222222222222222,\"#7201a8\"],[0.3333333333333333,\"#9c179e\"],[0.4444444444444444,\"#bd3786\"],[0.5555555555555556,\"#d8576b\"],[0.6666666666666666,\"#ed7953\"],[0.7777777777777778,\"#fb9f3a\"],[0.8888888888888888,\"#fdca26\"],[1.0,\"#f0f921\"]],\"type\":\"histogram2d\"}],\"histogram\":[{\"marker\":{\"pattern\":{\"fillmode\":\"overlay\",\"size\":10,\"solidity\":0.2}},\"type\":\"histogram\"}],\"mesh3d\":[{\"colorbar\":{\"outlinewidth\":0,\"ticks\":\"\"},\"type\":\"mesh3d\"}],\"parcoords\":[{\"line\":{\"colorbar\":{\"outlinewidth\":0,\"ticks\":\"\"}},\"type\":\"parcoords\"}],\"pie\":[{\"automargin\":true,\"type\":\"pie\"}],\"scatter3d\":[{\"line\":{\"colorbar\":{\"outlinewidth\":0,\"ticks\":\"\"}},\"marker\":{\"colorbar\":{\"outlinewidth\":0,\"ticks\":\"\"}},\"type\":\"scatter3d\"}],\"scattercarpet\":[{\"marker\":{\"colorbar\":{\"outlinewidth\":0,\"ticks\":\"\"}},\"type\":\"scattercarpet\"}],\"scattergeo\":[{\"marker\":{\"colorbar\":{\"outlinewidth\":0,\"ticks\":\"\"}},\"type\":\"scattergeo\"}],\"scattergl\":[{\"marker\":{\"colorbar\":{\"outlinewidth\":0,\"ticks\":\"\"}},\"type\":\"scattergl\"}],\"scattermapbox\":[{\"marker\":{\"colorbar\":{\"outlinewidth\":0,\"ticks\":\"\"}},\"type\":\"scattermapbox\"}],\"scatterpolargl\":[{\"marker\":{\"colorbar\":{\"outlinewidth\":0,\"ticks\":\"\"}},\"type\":\"scatterpolargl\"}],\"scatterpolar\":[{\"marker\":{\"colorbar\":{\"outlinewidth\":0,\"ticks\":\"\"}},\"type\":\"scatterpolar\"}],\"scatter\":[{\"fillpattern\":{\"fillmode\":\"overlay\",\"size\":10,\"solidity\":0.2},\"type\":\"scatter\"}],\"scatterternary\":[{\"marker\":{\"colorbar\":{\"outlinewidth\":0,\"ticks\":\"\"}},\"type\":\"scatterternary\"}],\"surface\":[{\"colorbar\":{\"outlinewidth\":0,\"ticks\":\"\"},\"colorscale\":[[0.0,\"#0d0887\"],[0.1111111111111111,\"#46039f\"],[0.2222222222222222,\"#7201a8\"],[0.3333333333333333,\"#9c179e\"],[0.4444444444444444,\"#bd3786\"],[0.5555555555555556,\"#d8576b\"],[0.6666666666666666,\"#ed7953\"],[0.7777777777777778,\"#fb9f3a\"],[0.8888888888888888,\"#fdca26\"],[1.0,\"#f0f921\"]],\"type\":\"surface\"}],\"table\":[{\"cells\":{\"fill\":{\"color\":\"#EBF0F8\"},\"line\":{\"color\":\"white\"}},\"header\":{\"fill\":{\"color\":\"#C8D4E3\"},\"line\":{\"color\":\"white\"}},\"type\":\"table\"}]},\"layout\":{\"annotationdefaults\":{\"arrowcolor\":\"#2a3f5f\",\"arrowhead\":0,\"arrowwidth\":1},\"autotypenumbers\":\"strict\",\"coloraxis\":{\"colorbar\":{\"outlinewidth\":0,\"ticks\":\"\"}},\"colorscale\":{\"diverging\":[[0,\"#8e0152\"],[0.1,\"#c51b7d\"],[0.2,\"#de77ae\"],[0.3,\"#f1b6da\"],[0.4,\"#fde0ef\"],[0.5,\"#f7f7f7\"],[0.6,\"#e6f5d0\"],[0.7,\"#b8e186\"],[0.8,\"#7fbc41\"],[0.9,\"#4d9221\"],[1,\"#276419\"]],\"sequential\":[[0.0,\"#0d0887\"],[0.1111111111111111,\"#46039f\"],[0.2222222222222222,\"#7201a8\"],[0.3333333333333333,\"#9c179e\"],[0.4444444444444444,\"#bd3786\"],[0.5555555555555556,\"#d8576b\"],[0.6666666666666666,\"#ed7953\"],[0.7777777777777778,\"#fb9f3a\"],[0.8888888888888888,\"#fdca26\"],[1.0,\"#f0f921\"]],\"sequentialminus\":[[0.0,\"#0d0887\"],[0.1111111111111111,\"#46039f\"],[0.2222222222222222,\"#7201a8\"],[0.3333333333333333,\"#9c179e\"],[0.4444444444444444,\"#bd3786\"],[0.5555555555555556,\"#d8576b\"],[0.6666666666666666,\"#ed7953\"],[0.7777777777777778,\"#fb9f3a\"],[0.8888888888888888,\"#fdca26\"],[1.0,\"#f0f921\"]]},\"colorway\":[\"#636efa\",\"#EF553B\",\"#00cc96\",\"#ab63fa\",\"#FFA15A\",\"#19d3f3\",\"#FF6692\",\"#B6E880\",\"#FF97FF\",\"#FECB52\"],\"font\":{\"color\":\"#2a3f5f\"},\"geo\":{\"bgcolor\":\"white\",\"lakecolor\":\"white\",\"landcolor\":\"#E5ECF6\",\"showlakes\":true,\"showland\":true,\"subunitcolor\":\"white\"},\"hoverlabel\":{\"align\":\"left\"},\"hovermode\":\"closest\",\"mapbox\":{\"style\":\"light\"},\"paper_bgcolor\":\"white\",\"plot_bgcolor\":\"#E5ECF6\",\"polar\":{\"angularaxis\":{\"gridcolor\":\"white\",\"linecolor\":\"white\",\"ticks\":\"\"},\"bgcolor\":\"#E5ECF6\",\"radialaxis\":{\"gridcolor\":\"white\",\"linecolor\":\"white\",\"ticks\":\"\"}},\"scene\":{\"xaxis\":{\"backgroundcolor\":\"#E5ECF6\",\"gridcolor\":\"white\",\"gridwidth\":2,\"linecolor\":\"white\",\"showbackground\":true,\"ticks\":\"\",\"zerolinecolor\":\"white\"},\"yaxis\":{\"backgroundcolor\":\"#E5ECF6\",\"gridcolor\":\"white\",\"gridwidth\":2,\"linecolor\":\"white\",\"showbackground\":true,\"ticks\":\"\",\"zerolinecolor\":\"white\"},\"zaxis\":{\"backgroundcolor\":\"#E5ECF6\",\"gridcolor\":\"white\",\"gridwidth\":2,\"linecolor\":\"white\",\"showbackground\":true,\"ticks\":\"\",\"zerolinecolor\":\"white\"}},\"shapedefaults\":{\"line\":{\"color\":\"#2a3f5f\"}},\"ternary\":{\"aaxis\":{\"gridcolor\":\"white\",\"linecolor\":\"white\",\"ticks\":\"\"},\"baxis\":{\"gridcolor\":\"white\",\"linecolor\":\"white\",\"ticks\":\"\"},\"bgcolor\":\"#E5ECF6\",\"caxis\":{\"gridcolor\":\"white\",\"linecolor\":\"white\",\"ticks\":\"\"}},\"title\":{\"x\":0.05},\"xaxis\":{\"automargin\":true,\"gridcolor\":\"white\",\"linecolor\":\"white\",\"ticks\":\"\",\"title\":{\"standoff\":15},\"zerolinecolor\":\"white\",\"zerolinewidth\":2},\"yaxis\":{\"automargin\":true,\"gridcolor\":\"white\",\"linecolor\":\"white\",\"ticks\":\"\",\"title\":{\"standoff\":15},\"zerolinecolor\":\"white\",\"zerolinewidth\":2}}},\"title\":{\"text\":\"Evolution of Flights with Partial Delay Correction\"},\"xaxis\":{\"tickformat\":\"d\",\"title\":{\"text\":\"Year\"},\"zeroline\":false},\"yaxis\":{\"tickformat\":\",.0%\",\"title\":{\"text\":\"Flights Relative to Total Carrier Flights\"}}},                        {\"responsive\": true}                    ).then(function(){\n",
       "                            \n",
       "var gd = document.getElementById('4aa8b55b-92ba-40aa-8468-66ef80cd5fb8');\n",
       "var x = new MutationObserver(function (mutations, observer) {{\n",
       "        var display = window.getComputedStyle(gd).display;\n",
       "        if (!display || display === 'none') {{\n",
       "            console.log([gd, 'removed!']);\n",
       "            Plotly.purge(gd);\n",
       "            observer.disconnect();\n",
       "        }}\n",
       "}});\n",
       "\n",
       "// Listen for the removal of the full notebook cells\n",
       "var notebookContainer = gd.closest('#notebook-container');\n",
       "if (notebookContainer) {{\n",
       "    x.observe(notebookContainer, {childList: true});\n",
       "}}\n",
       "\n",
       "// Listen for the clearing of the current output cell\n",
       "var outputEl = gd.closest('.output');\n",
       "if (outputEl) {{\n",
       "    x.observe(outputEl, {childList: true});\n",
       "}}\n",
       "\n",
       "                        })                };                });            </script>        </div>"
      ]
     },
     "metadata": {},
     "output_type": "display_data"
    }
   ],
   "source": [
    "traces = []\n",
    "changePerCarrierMap = dict()\n",
    "years = []\n",
    "\n",
    "for i in range(len(carrierDelayCountEvolution.toPandas()['Year'])):\n",
    "    if not carrierDelayCountEvolution.toPandas()['Year'][i] in years:\n",
    "        years.append(carrierDelayCountEvolution.toPandas()['Year'][i])\n",
    "\n",
    "years.sort()\n",
    "        \n",
    "for i in range(len(carrierDelayCountEvolution.toPandas()['Carrier'])):\n",
    "    if not carrierDelayCountEvolution.toPandas()['Carrier'][i] in changePerCarrierMap:\n",
    "        changePerCarrierMap[carrierDelayCountEvolution.toPandas()['Carrier'][i]] = []\n",
    "        \n",
    "    changePerCarrierMap[carrierDelayCountEvolution.toPandas()['Carrier'][i]].append(carrierDelayCountEvolution.toPandas()['PartialDelayCorrection'][i])\n",
    "    \n",
    "for key in changePerCarrierMap:\n",
    "    traces.append(go.Scatter(\n",
    "        y = changePerCarrierMap[key],\n",
    "        x = years,\n",
    "        mode = 'lines',\n",
    "        name = key))\n",
    "       \n",
    "layout = dict(title = 'Evolution of Flights with Partial Delay Correction',\n",
    "              xaxis= dict(title= 'Year',zeroline= False,tickformat='d'),\n",
    "              yaxis= dict(title= 'Flights Relative to Total Carrier Flights',tickformat=',.0%')\n",
    "             )\n",
    "\n",
    "fig = dict(data = traces, layout = layout)\n",
    "\n",
    "pyo.iplot(fig)"
   ]
  },
  {
   "cell_type": "markdown",
   "id": "7af3fd71-49ea-4cb0-8901-84f893c40634",
   "metadata": {},
   "source": [
    "EVOLUTION OF DELAY CORRECTIONS COUNT RELATIVE TO FLIGHT COUNT PER CARRIER ACROSS INDIVIDUAL YEARS: Delay Aggravation"
   ]
  },
  {
   "cell_type": "code",
   "execution_count": 40,
   "id": "bf1e6aad-ed53-441e-ba62-f69c9fa714b1",
   "metadata": {},
   "outputs": [
    {
     "data": {
      "application/vnd.plotly.v1+json": {
       "config": {
        "linkText": "Export to plot.ly",
        "plotlyServerURL": "https://plot.ly",
        "showLink": false
       },
       "data": [
        {
         "mode": "lines",
         "name": "9E",
         "type": "scatter",
         "x": [
          2012,
          2013,
          2014
         ],
         "y": [
          0.5630786549421809
         ]
        },
        {
         "mode": "lines",
         "name": "AA",
         "type": "scatter",
         "x": [
          2012,
          2013,
          2014
         ],
         "y": [
          0.4874909561707475,
          0.46156749229862554,
          0.48434341273988885
         ]
        },
        {
         "mode": "lines",
         "name": "AS",
         "type": "scatter",
         "x": [
          2012,
          2013,
          2014
         ],
         "y": [
          0.5271296817082178,
          0.46821504042186074,
          0.4620078998109287
         ]
        },
        {
         "mode": "lines",
         "name": "B6",
         "type": "scatter",
         "x": [
          2012,
          2013,
          2014
         ],
         "y": [
          0.5180348910310143,
          0.49336785550321166,
          0.498800527047214
         ]
        },
        {
         "mode": "lines",
         "name": "DL",
         "type": "scatter",
         "x": [
          2012,
          2013,
          2014
         ],
         "y": [
          0.5509816626976429,
          0.5309101991598977,
          0.5137154458847415
         ]
        },
        {
         "mode": "lines",
         "name": "EV",
         "type": "scatter",
         "x": [
          2012,
          2013,
          2014
         ],
         "y": [
          0.5292533626688083,
          0.5034393131524677,
          0.4903333862957548
         ]
        },
        {
         "mode": "lines",
         "name": "F9",
         "type": "scatter",
         "x": [
          2012,
          2013,
          2014
         ],
         "y": [
          0.4142577755346666,
          0.42597735809130827,
          0.4350094765659733
         ]
        },
        {
         "mode": "lines",
         "name": "FL",
         "type": "scatter",
         "x": [
          2012,
          2013,
          2014
         ],
         "y": [
          0.5463692118700783,
          0.4627310982339956,
          0.47391659852820933
         ]
        },
        {
         "mode": "lines",
         "name": "HA",
         "type": "scatter",
         "x": [
          2012,
          2013,
          2014
         ],
         "y": [
          0.36718887044758397,
          0.3489334034252829,
          0.3440962372210031
         ]
        },
        {
         "mode": "lines",
         "name": "MQ",
         "type": "scatter",
         "x": [
          2012,
          2013,
          2014
         ],
         "y": [
          0.5402291076636936,
          0.491014288474873,
          0.4684607373039539
         ]
        },
        {
         "mode": "lines",
         "name": "OO",
         "type": "scatter",
         "x": [
          2012,
          2013,
          2014
         ],
         "y": [
          0.4910531018719365,
          0.48359487131181955,
          0.4680668156533938
         ]
        },
        {
         "mode": "lines",
         "name": "UA",
         "type": "scatter",
         "x": [
          2012,
          2013,
          2014
         ],
         "y": [
          0.4399966117328163,
          0.46957876464517456,
          0.4370532168387609
         ]
        },
        {
         "mode": "lines",
         "name": "US",
         "type": "scatter",
         "x": [
          2012,
          2013,
          2014
         ],
         "y": [
          0.5363216519938753,
          0.5025959507533229,
          0.5034931812426899
         ]
        },
        {
         "mode": "lines",
         "name": "VX",
         "type": "scatter",
         "x": [
          2012,
          2013,
          2014
         ],
         "y": [
          0.5020459610536699,
          0.4976983529658866,
          0.5013910624239263
         ]
        },
        {
         "mode": "lines",
         "name": "WN",
         "type": "scatter",
         "x": [
          2012,
          2013,
          2014
         ],
         "y": [
          0.4139829115283617,
          0.37397320607338436,
          0.40457317306767304
         ]
        },
        {
         "mode": "lines",
         "name": "YV",
         "type": "scatter",
         "x": [
          2012,
          2013,
          2014
         ],
         "y": [
          0.4983504508270138,
          0.4621279856942138
         ]
        }
       ],
       "layout": {
        "autosize": true,
        "template": {
         "data": {
          "bar": [
           {
            "error_x": {
             "color": "#2a3f5f"
            },
            "error_y": {
             "color": "#2a3f5f"
            },
            "marker": {
             "line": {
              "color": "#E5ECF6",
              "width": 0.5
             },
             "pattern": {
              "fillmode": "overlay",
              "size": 10,
              "solidity": 0.2
             }
            },
            "type": "bar"
           }
          ],
          "barpolar": [
           {
            "marker": {
             "line": {
              "color": "#E5ECF6",
              "width": 0.5
             },
             "pattern": {
              "fillmode": "overlay",
              "size": 10,
              "solidity": 0.2
             }
            },
            "type": "barpolar"
           }
          ],
          "carpet": [
           {
            "aaxis": {
             "endlinecolor": "#2a3f5f",
             "gridcolor": "white",
             "linecolor": "white",
             "minorgridcolor": "white",
             "startlinecolor": "#2a3f5f"
            },
            "baxis": {
             "endlinecolor": "#2a3f5f",
             "gridcolor": "white",
             "linecolor": "white",
             "minorgridcolor": "white",
             "startlinecolor": "#2a3f5f"
            },
            "type": "carpet"
           }
          ],
          "choropleth": [
           {
            "colorbar": {
             "outlinewidth": 0,
             "ticks": ""
            },
            "type": "choropleth"
           }
          ],
          "contour": [
           {
            "colorbar": {
             "outlinewidth": 0,
             "ticks": ""
            },
            "colorscale": [
             [
              0,
              "#0d0887"
             ],
             [
              0.1111111111111111,
              "#46039f"
             ],
             [
              0.2222222222222222,
              "#7201a8"
             ],
             [
              0.3333333333333333,
              "#9c179e"
             ],
             [
              0.4444444444444444,
              "#bd3786"
             ],
             [
              0.5555555555555556,
              "#d8576b"
             ],
             [
              0.6666666666666666,
              "#ed7953"
             ],
             [
              0.7777777777777778,
              "#fb9f3a"
             ],
             [
              0.8888888888888888,
              "#fdca26"
             ],
             [
              1,
              "#f0f921"
             ]
            ],
            "type": "contour"
           }
          ],
          "contourcarpet": [
           {
            "colorbar": {
             "outlinewidth": 0,
             "ticks": ""
            },
            "type": "contourcarpet"
           }
          ],
          "heatmap": [
           {
            "colorbar": {
             "outlinewidth": 0,
             "ticks": ""
            },
            "colorscale": [
             [
              0,
              "#0d0887"
             ],
             [
              0.1111111111111111,
              "#46039f"
             ],
             [
              0.2222222222222222,
              "#7201a8"
             ],
             [
              0.3333333333333333,
              "#9c179e"
             ],
             [
              0.4444444444444444,
              "#bd3786"
             ],
             [
              0.5555555555555556,
              "#d8576b"
             ],
             [
              0.6666666666666666,
              "#ed7953"
             ],
             [
              0.7777777777777778,
              "#fb9f3a"
             ],
             [
              0.8888888888888888,
              "#fdca26"
             ],
             [
              1,
              "#f0f921"
             ]
            ],
            "type": "heatmap"
           }
          ],
          "heatmapgl": [
           {
            "colorbar": {
             "outlinewidth": 0,
             "ticks": ""
            },
            "colorscale": [
             [
              0,
              "#0d0887"
             ],
             [
              0.1111111111111111,
              "#46039f"
             ],
             [
              0.2222222222222222,
              "#7201a8"
             ],
             [
              0.3333333333333333,
              "#9c179e"
             ],
             [
              0.4444444444444444,
              "#bd3786"
             ],
             [
              0.5555555555555556,
              "#d8576b"
             ],
             [
              0.6666666666666666,
              "#ed7953"
             ],
             [
              0.7777777777777778,
              "#fb9f3a"
             ],
             [
              0.8888888888888888,
              "#fdca26"
             ],
             [
              1,
              "#f0f921"
             ]
            ],
            "type": "heatmapgl"
           }
          ],
          "histogram": [
           {
            "marker": {
             "pattern": {
              "fillmode": "overlay",
              "size": 10,
              "solidity": 0.2
             }
            },
            "type": "histogram"
           }
          ],
          "histogram2d": [
           {
            "colorbar": {
             "outlinewidth": 0,
             "ticks": ""
            },
            "colorscale": [
             [
              0,
              "#0d0887"
             ],
             [
              0.1111111111111111,
              "#46039f"
             ],
             [
              0.2222222222222222,
              "#7201a8"
             ],
             [
              0.3333333333333333,
              "#9c179e"
             ],
             [
              0.4444444444444444,
              "#bd3786"
             ],
             [
              0.5555555555555556,
              "#d8576b"
             ],
             [
              0.6666666666666666,
              "#ed7953"
             ],
             [
              0.7777777777777778,
              "#fb9f3a"
             ],
             [
              0.8888888888888888,
              "#fdca26"
             ],
             [
              1,
              "#f0f921"
             ]
            ],
            "type": "histogram2d"
           }
          ],
          "histogram2dcontour": [
           {
            "colorbar": {
             "outlinewidth": 0,
             "ticks": ""
            },
            "colorscale": [
             [
              0,
              "#0d0887"
             ],
             [
              0.1111111111111111,
              "#46039f"
             ],
             [
              0.2222222222222222,
              "#7201a8"
             ],
             [
              0.3333333333333333,
              "#9c179e"
             ],
             [
              0.4444444444444444,
              "#bd3786"
             ],
             [
              0.5555555555555556,
              "#d8576b"
             ],
             [
              0.6666666666666666,
              "#ed7953"
             ],
             [
              0.7777777777777778,
              "#fb9f3a"
             ],
             [
              0.8888888888888888,
              "#fdca26"
             ],
             [
              1,
              "#f0f921"
             ]
            ],
            "type": "histogram2dcontour"
           }
          ],
          "mesh3d": [
           {
            "colorbar": {
             "outlinewidth": 0,
             "ticks": ""
            },
            "type": "mesh3d"
           }
          ],
          "parcoords": [
           {
            "line": {
             "colorbar": {
              "outlinewidth": 0,
              "ticks": ""
             }
            },
            "type": "parcoords"
           }
          ],
          "pie": [
           {
            "automargin": true,
            "type": "pie"
           }
          ],
          "scatter": [
           {
            "fillpattern": {
             "fillmode": "overlay",
             "size": 10,
             "solidity": 0.2
            },
            "type": "scatter"
           }
          ],
          "scatter3d": [
           {
            "line": {
             "colorbar": {
              "outlinewidth": 0,
              "ticks": ""
             }
            },
            "marker": {
             "colorbar": {
              "outlinewidth": 0,
              "ticks": ""
             }
            },
            "type": "scatter3d"
           }
          ],
          "scattercarpet": [
           {
            "marker": {
             "colorbar": {
              "outlinewidth": 0,
              "ticks": ""
             }
            },
            "type": "scattercarpet"
           }
          ],
          "scattergeo": [
           {
            "marker": {
             "colorbar": {
              "outlinewidth": 0,
              "ticks": ""
             }
            },
            "type": "scattergeo"
           }
          ],
          "scattergl": [
           {
            "marker": {
             "colorbar": {
              "outlinewidth": 0,
              "ticks": ""
             }
            },
            "type": "scattergl"
           }
          ],
          "scattermapbox": [
           {
            "marker": {
             "colorbar": {
              "outlinewidth": 0,
              "ticks": ""
             }
            },
            "type": "scattermapbox"
           }
          ],
          "scatterpolar": [
           {
            "marker": {
             "colorbar": {
              "outlinewidth": 0,
              "ticks": ""
             }
            },
            "type": "scatterpolar"
           }
          ],
          "scatterpolargl": [
           {
            "marker": {
             "colorbar": {
              "outlinewidth": 0,
              "ticks": ""
             }
            },
            "type": "scatterpolargl"
           }
          ],
          "scatterternary": [
           {
            "marker": {
             "colorbar": {
              "outlinewidth": 0,
              "ticks": ""
             }
            },
            "type": "scatterternary"
           }
          ],
          "surface": [
           {
            "colorbar": {
             "outlinewidth": 0,
             "ticks": ""
            },
            "colorscale": [
             [
              0,
              "#0d0887"
             ],
             [
              0.1111111111111111,
              "#46039f"
             ],
             [
              0.2222222222222222,
              "#7201a8"
             ],
             [
              0.3333333333333333,
              "#9c179e"
             ],
             [
              0.4444444444444444,
              "#bd3786"
             ],
             [
              0.5555555555555556,
              "#d8576b"
             ],
             [
              0.6666666666666666,
              "#ed7953"
             ],
             [
              0.7777777777777778,
              "#fb9f3a"
             ],
             [
              0.8888888888888888,
              "#fdca26"
             ],
             [
              1,
              "#f0f921"
             ]
            ],
            "type": "surface"
           }
          ],
          "table": [
           {
            "cells": {
             "fill": {
              "color": "#EBF0F8"
             },
             "line": {
              "color": "white"
             }
            },
            "header": {
             "fill": {
              "color": "#C8D4E3"
             },
             "line": {
              "color": "white"
             }
            },
            "type": "table"
           }
          ]
         },
         "layout": {
          "annotationdefaults": {
           "arrowcolor": "#2a3f5f",
           "arrowhead": 0,
           "arrowwidth": 1
          },
          "autotypenumbers": "strict",
          "coloraxis": {
           "colorbar": {
            "outlinewidth": 0,
            "ticks": ""
           }
          },
          "colorscale": {
           "diverging": [
            [
             0,
             "#8e0152"
            ],
            [
             0.1,
             "#c51b7d"
            ],
            [
             0.2,
             "#de77ae"
            ],
            [
             0.3,
             "#f1b6da"
            ],
            [
             0.4,
             "#fde0ef"
            ],
            [
             0.5,
             "#f7f7f7"
            ],
            [
             0.6,
             "#e6f5d0"
            ],
            [
             0.7,
             "#b8e186"
            ],
            [
             0.8,
             "#7fbc41"
            ],
            [
             0.9,
             "#4d9221"
            ],
            [
             1,
             "#276419"
            ]
           ],
           "sequential": [
            [
             0,
             "#0d0887"
            ],
            [
             0.1111111111111111,
             "#46039f"
            ],
            [
             0.2222222222222222,
             "#7201a8"
            ],
            [
             0.3333333333333333,
             "#9c179e"
            ],
            [
             0.4444444444444444,
             "#bd3786"
            ],
            [
             0.5555555555555556,
             "#d8576b"
            ],
            [
             0.6666666666666666,
             "#ed7953"
            ],
            [
             0.7777777777777778,
             "#fb9f3a"
            ],
            [
             0.8888888888888888,
             "#fdca26"
            ],
            [
             1,
             "#f0f921"
            ]
           ],
           "sequentialminus": [
            [
             0,
             "#0d0887"
            ],
            [
             0.1111111111111111,
             "#46039f"
            ],
            [
             0.2222222222222222,
             "#7201a8"
            ],
            [
             0.3333333333333333,
             "#9c179e"
            ],
            [
             0.4444444444444444,
             "#bd3786"
            ],
            [
             0.5555555555555556,
             "#d8576b"
            ],
            [
             0.6666666666666666,
             "#ed7953"
            ],
            [
             0.7777777777777778,
             "#fb9f3a"
            ],
            [
             0.8888888888888888,
             "#fdca26"
            ],
            [
             1,
             "#f0f921"
            ]
           ]
          },
          "colorway": [
           "#636efa",
           "#EF553B",
           "#00cc96",
           "#ab63fa",
           "#FFA15A",
           "#19d3f3",
           "#FF6692",
           "#B6E880",
           "#FF97FF",
           "#FECB52"
          ],
          "font": {
           "color": "#2a3f5f"
          },
          "geo": {
           "bgcolor": "white",
           "lakecolor": "white",
           "landcolor": "#E5ECF6",
           "showlakes": true,
           "showland": true,
           "subunitcolor": "white"
          },
          "hoverlabel": {
           "align": "left"
          },
          "hovermode": "closest",
          "mapbox": {
           "style": "light"
          },
          "paper_bgcolor": "white",
          "plot_bgcolor": "#E5ECF6",
          "polar": {
           "angularaxis": {
            "gridcolor": "white",
            "linecolor": "white",
            "ticks": ""
           },
           "bgcolor": "#E5ECF6",
           "radialaxis": {
            "gridcolor": "white",
            "linecolor": "white",
            "ticks": ""
           }
          },
          "scene": {
           "xaxis": {
            "backgroundcolor": "#E5ECF6",
            "gridcolor": "white",
            "gridwidth": 2,
            "linecolor": "white",
            "showbackground": true,
            "ticks": "",
            "zerolinecolor": "white"
           },
           "yaxis": {
            "backgroundcolor": "#E5ECF6",
            "gridcolor": "white",
            "gridwidth": 2,
            "linecolor": "white",
            "showbackground": true,
            "ticks": "",
            "zerolinecolor": "white"
           },
           "zaxis": {
            "backgroundcolor": "#E5ECF6",
            "gridcolor": "white",
            "gridwidth": 2,
            "linecolor": "white",
            "showbackground": true,
            "ticks": "",
            "zerolinecolor": "white"
           }
          },
          "shapedefaults": {
           "line": {
            "color": "#2a3f5f"
           }
          },
          "ternary": {
           "aaxis": {
            "gridcolor": "white",
            "linecolor": "white",
            "ticks": ""
           },
           "baxis": {
            "gridcolor": "white",
            "linecolor": "white",
            "ticks": ""
           },
           "bgcolor": "#E5ECF6",
           "caxis": {
            "gridcolor": "white",
            "linecolor": "white",
            "ticks": ""
           }
          },
          "title": {
           "x": 0.05
          },
          "xaxis": {
           "automargin": true,
           "gridcolor": "white",
           "linecolor": "white",
           "ticks": "",
           "title": {
            "standoff": 15
           },
           "zerolinecolor": "white",
           "zerolinewidth": 2
          },
          "yaxis": {
           "automargin": true,
           "gridcolor": "white",
           "linecolor": "white",
           "ticks": "",
           "title": {
            "standoff": 15
           },
           "zerolinecolor": "white",
           "zerolinewidth": 2
          }
         }
        },
        "title": {
         "text": "Evolution of Flights with Delay Aggravation"
        },
        "xaxis": {
         "autorange": true,
         "range": [
          2012,
          2014
         ],
         "tickformat": "d",
         "title": {
          "text": "Year"
         },
         "type": "linear",
         "zeroline": false
        },
        "yaxis": {
         "autorange": true,
         "range": [
          0.3319305473476043,
          0.5752443448155796
         ],
         "tickformat": ",.0%",
         "title": {
          "text": "Flights Relative to Total Carrier Flights"
         },
         "type": "linear"
        }
       }
      },
      "image/png": "[encoded data removed]",
      "text/html": [
       "<div>                            <div id=\"c5a66b49-3fc5-4df6-8485-824e57cd3083\" class=\"plotly-graph-div\" style=\"height:525px; width:100%;\"></div>            <script type=\"text/javascript\">                require([\"plotly\"], function(Plotly) {                    window.PLOTLYENV=window.PLOTLYENV || {};                                    if (document.getElementById(\"c5a66b49-3fc5-4df6-8485-824e57cd3083\")) {                    Plotly.newPlot(                        \"c5a66b49-3fc5-4df6-8485-824e57cd3083\",                        [{\"mode\":\"lines\",\"name\":\"9E\",\"x\":[2012,2013,2014],\"y\":[0.5630786549421809],\"type\":\"scatter\"},{\"mode\":\"lines\",\"name\":\"AA\",\"x\":[2012,2013,2014],\"y\":[0.4874909561707475,0.46156749229862554,0.48434341273988885],\"type\":\"scatter\"},{\"mode\":\"lines\",\"name\":\"AS\",\"x\":[2012,2013,2014],\"y\":[0.5271296817082178,0.46821504042186074,0.4620078998109287],\"type\":\"scatter\"},{\"mode\":\"lines\",\"name\":\"B6\",\"x\":[2012,2013,2014],\"y\":[0.5180348910310143,0.49336785550321166,0.498800527047214],\"type\":\"scatter\"},{\"mode\":\"lines\",\"name\":\"DL\",\"x\":[2012,2013,2014],\"y\":[0.5509816626976429,0.5309101991598977,0.5137154458847415],\"type\":\"scatter\"},{\"mode\":\"lines\",\"name\":\"EV\",\"x\":[2012,2013,2014],\"y\":[0.5292533626688083,0.5034393131524677,0.4903333862957548],\"type\":\"scatter\"},{\"mode\":\"lines\",\"name\":\"F9\",\"x\":[2012,2013,2014],\"y\":[0.4142577755346666,0.42597735809130827,0.4350094765659733],\"type\":\"scatter\"},{\"mode\":\"lines\",\"name\":\"FL\",\"x\":[2012,2013,2014],\"y\":[0.5463692118700783,0.4627310982339956,0.47391659852820933],\"type\":\"scatter\"},{\"mode\":\"lines\",\"name\":\"HA\",\"x\":[2012,2013,2014],\"y\":[0.36718887044758397,0.3489334034252829,0.3440962372210031],\"type\":\"scatter\"},{\"mode\":\"lines\",\"name\":\"MQ\",\"x\":[2012,2013,2014],\"y\":[0.5402291076636936,0.491014288474873,0.4684607373039539],\"type\":\"scatter\"},{\"mode\":\"lines\",\"name\":\"OO\",\"x\":[2012,2013,2014],\"y\":[0.4910531018719365,0.48359487131181955,0.4680668156533938],\"type\":\"scatter\"},{\"mode\":\"lines\",\"name\":\"UA\",\"x\":[2012,2013,2014],\"y\":[0.4399966117328163,0.46957876464517456,0.4370532168387609],\"type\":\"scatter\"},{\"mode\":\"lines\",\"name\":\"US\",\"x\":[2012,2013,2014],\"y\":[0.5363216519938753,0.5025959507533229,0.5034931812426899],\"type\":\"scatter\"},{\"mode\":\"lines\",\"name\":\"VX\",\"x\":[2012,2013,2014],\"y\":[0.5020459610536699,0.4976983529658866,0.5013910624239263],\"type\":\"scatter\"},{\"mode\":\"lines\",\"name\":\"WN\",\"x\":[2012,2013,2014],\"y\":[0.4139829115283617,0.37397320607338436,0.40457317306767304],\"type\":\"scatter\"},{\"mode\":\"lines\",\"name\":\"YV\",\"x\":[2012,2013,2014],\"y\":[0.4983504508270138,0.4621279856942138],\"type\":\"scatter\"}],                        {\"template\":{\"data\":{\"barpolar\":[{\"marker\":{\"line\":{\"color\":\"#E5ECF6\",\"width\":0.5},\"pattern\":{\"fillmode\":\"overlay\",\"size\":10,\"solidity\":0.2}},\"type\":\"barpolar\"}],\"bar\":[{\"error_x\":{\"color\":\"#2a3f5f\"},\"error_y\":{\"color\":\"#2a3f5f\"},\"marker\":{\"line\":{\"color\":\"#E5ECF6\",\"width\":0.5},\"pattern\":{\"fillmode\":\"overlay\",\"size\":10,\"solidity\":0.2}},\"type\":\"bar\"}],\"carpet\":[{\"aaxis\":{\"endlinecolor\":\"#2a3f5f\",\"gridcolor\":\"white\",\"linecolor\":\"white\",\"minorgridcolor\":\"white\",\"startlinecolor\":\"#2a3f5f\"},\"baxis\":{\"endlinecolor\":\"#2a3f5f\",\"gridcolor\":\"white\",\"linecolor\":\"white\",\"minorgridcolor\":\"white\",\"startlinecolor\":\"#2a3f5f\"},\"type\":\"carpet\"}],\"choropleth\":[{\"colorbar\":{\"outlinewidth\":0,\"ticks\":\"\"},\"type\":\"choropleth\"}],\"contourcarpet\":[{\"colorbar\":{\"outlinewidth\":0,\"ticks\":\"\"},\"type\":\"contourcarpet\"}],\"contour\":[{\"colorbar\":{\"outlinewidth\":0,\"ticks\":\"\"},\"colorscale\":[[0.0,\"#0d0887\"],[0.1111111111111111,\"#46039f\"],[0.2222222222222222,\"#7201a8\"],[0.3333333333333333,\"#9c179e\"],[0.4444444444444444,\"#bd3786\"],[0.5555555555555556,\"#d8576b\"],[0.6666666666666666,\"#ed7953\"],[0.7777777777777778,\"#fb9f3a\"],[0.8888888888888888,\"#fdca26\"],[1.0,\"#f0f921\"]],\"type\":\"contour\"}],\"heatmapgl\":[{\"colorbar\":{\"outlinewidth\":0,\"ticks\":\"\"},\"colorscale\":[[0.0,\"#0d0887\"],[0.1111111111111111,\"#46039f\"],[0.2222222222222222,\"#7201a8\"],[0.3333333333333333,\"#9c179e\"],[0.4444444444444444,\"#bd3786\"],[0.5555555555555556,\"#d8576b\"],[0.6666666666666666,\"#ed7953\"],[0.7777777777777778,\"#fb9f3a\"],[0.8888888888888888,\"#fdca26\"],[1.0,\"#f0f921\"]],\"type\":\"heatmapgl\"}],\"heatmap\":[{\"colorbar\":{\"outlinewidth\":0,\"ticks\":\"\"},\"colorscale\":[[0.0,\"#0d0887\"],[0.1111111111111111,\"#46039f\"],[0.2222222222222222,\"#7201a8\"],[0.3333333333333333,\"#9c179e\"],[0.4444444444444444,\"#bd3786\"],[0.5555555555555556,\"#d8576b\"],[0.6666666666666666,\"#ed7953\"],[0.7777777777777778,\"#fb9f3a\"],[0.8888888888888888,\"#fdca26\"],[1.0,\"#f0f921\"]],\"type\":\"heatmap\"}],\"histogram2dcontour\":[{\"colorbar\":{\"outlinewidth\":0,\"ticks\":\"\"},\"colorscale\":[[0.0,\"#0d0887\"],[0.1111111111111111,\"#46039f\"],[0.2222222222222222,\"#7201a8\"],[0.3333333333333333,\"#9c179e\"],[0.4444444444444444,\"#bd3786\"],[0.5555555555555556,\"#d8576b\"],[0.6666666666666666,\"#ed7953\"],[0.7777777777777778,\"#fb9f3a\"],[0.8888888888888888,\"#fdca26\"],[1.0,\"#f0f921\"]],\"type\":\"histogram2dcontour\"}],\"histogram2d\":[{\"colorbar\":{\"outlinewidth\":0,\"ticks\":\"\"},\"colorscale\":[[0.0,\"#0d0887\"],[0.1111111111111111,\"#46039f\"],[0.2222222222222222,\"#7201a8\"],[0.3333333333333333,\"#9c179e\"],[0.4444444444444444,\"#bd3786\"],[0.5555555555555556,\"#d8576b\"],[0.6666666666666666,\"#ed7953\"],[0.7777777777777778,\"#fb9f3a\"],[0.8888888888888888,\"#fdca26\"],[1.0,\"#f0f921\"]],\"type\":\"histogram2d\"}],\"histogram\":[{\"marker\":{\"pattern\":{\"fillmode\":\"overlay\",\"size\":10,\"solidity\":0.2}},\"type\":\"histogram\"}],\"mesh3d\":[{\"colorbar\":{\"outlinewidth\":0,\"ticks\":\"\"},\"type\":\"mesh3d\"}],\"parcoords\":[{\"line\":{\"colorbar\":{\"outlinewidth\":0,\"ticks\":\"\"}},\"type\":\"parcoords\"}],\"pie\":[{\"automargin\":true,\"type\":\"pie\"}],\"scatter3d\":[{\"line\":{\"colorbar\":{\"outlinewidth\":0,\"ticks\":\"\"}},\"marker\":{\"colorbar\":{\"outlinewidth\":0,\"ticks\":\"\"}},\"type\":\"scatter3d\"}],\"scattercarpet\":[{\"marker\":{\"colorbar\":{\"outlinewidth\":0,\"ticks\":\"\"}},\"type\":\"scattercarpet\"}],\"scattergeo\":[{\"marker\":{\"colorbar\":{\"outlinewidth\":0,\"ticks\":\"\"}},\"type\":\"scattergeo\"}],\"scattergl\":[{\"marker\":{\"colorbar\":{\"outlinewidth\":0,\"ticks\":\"\"}},\"type\":\"scattergl\"}],\"scattermapbox\":[{\"marker\":{\"colorbar\":{\"outlinewidth\":0,\"ticks\":\"\"}},\"type\":\"scattermapbox\"}],\"scatterpolargl\":[{\"marker\":{\"colorbar\":{\"outlinewidth\":0,\"ticks\":\"\"}},\"type\":\"scatterpolargl\"}],\"scatterpolar\":[{\"marker\":{\"colorbar\":{\"outlinewidth\":0,\"ticks\":\"\"}},\"type\":\"scatterpolar\"}],\"scatter\":[{\"fillpattern\":{\"fillmode\":\"overlay\",\"size\":10,\"solidity\":0.2},\"type\":\"scatter\"}],\"scatterternary\":[{\"marker\":{\"colorbar\":{\"outlinewidth\":0,\"ticks\":\"\"}},\"type\":\"scatterternary\"}],\"surface\":[{\"colorbar\":{\"outlinewidth\":0,\"ticks\":\"\"},\"colorscale\":[[0.0,\"#0d0887\"],[0.1111111111111111,\"#46039f\"],[0.2222222222222222,\"#7201a8\"],[0.3333333333333333,\"#9c179e\"],[0.4444444444444444,\"#bd3786\"],[0.5555555555555556,\"#d8576b\"],[0.6666666666666666,\"#ed7953\"],[0.7777777777777778,\"#fb9f3a\"],[0.8888888888888888,\"#fdca26\"],[1.0,\"#f0f921\"]],\"type\":\"surface\"}],\"table\":[{\"cells\":{\"fill\":{\"color\":\"#EBF0F8\"},\"line\":{\"color\":\"white\"}},\"header\":{\"fill\":{\"color\":\"#C8D4E3\"},\"line\":{\"color\":\"white\"}},\"type\":\"table\"}]},\"layout\":{\"annotationdefaults\":{\"arrowcolor\":\"#2a3f5f\",\"arrowhead\":0,\"arrowwidth\":1},\"autotypenumbers\":\"strict\",\"coloraxis\":{\"colorbar\":{\"outlinewidth\":0,\"ticks\":\"\"}},\"colorscale\":{\"diverging\":[[0,\"#8e0152\"],[0.1,\"#c51b7d\"],[0.2,\"#de77ae\"],[0.3,\"#f1b6da\"],[0.4,\"#fde0ef\"],[0.5,\"#f7f7f7\"],[0.6,\"#e6f5d0\"],[0.7,\"#b8e186\"],[0.8,\"#7fbc41\"],[0.9,\"#4d9221\"],[1,\"#276419\"]],\"sequential\":[[0.0,\"#0d0887\"],[0.1111111111111111,\"#46039f\"],[0.2222222222222222,\"#7201a8\"],[0.3333333333333333,\"#9c179e\"],[0.4444444444444444,\"#bd3786\"],[0.5555555555555556,\"#d8576b\"],[0.6666666666666666,\"#ed7953\"],[0.7777777777777778,\"#fb9f3a\"],[0.8888888888888888,\"#fdca26\"],[1.0,\"#f0f921\"]],\"sequentialminus\":[[0.0,\"#0d0887\"],[0.1111111111111111,\"#46039f\"],[0.2222222222222222,\"#7201a8\"],[0.3333333333333333,\"#9c179e\"],[0.4444444444444444,\"#bd3786\"],[0.5555555555555556,\"#d8576b\"],[0.6666666666666666,\"#ed7953\"],[0.7777777777777778,\"#fb9f3a\"],[0.8888888888888888,\"#fdca26\"],[1.0,\"#f0f921\"]]},\"colorway\":[\"#636efa\",\"#EF553B\",\"#00cc96\",\"#ab63fa\",\"#FFA15A\",\"#19d3f3\",\"#FF6692\",\"#B6E880\",\"#FF97FF\",\"#FECB52\"],\"font\":{\"color\":\"#2a3f5f\"},\"geo\":{\"bgcolor\":\"white\",\"lakecolor\":\"white\",\"landcolor\":\"#E5ECF6\",\"showlakes\":true,\"showland\":true,\"subunitcolor\":\"white\"},\"hoverlabel\":{\"align\":\"left\"},\"hovermode\":\"closest\",\"mapbox\":{\"style\":\"light\"},\"paper_bgcolor\":\"white\",\"plot_bgcolor\":\"#E5ECF6\",\"polar\":{\"angularaxis\":{\"gridcolor\":\"white\",\"linecolor\":\"white\",\"ticks\":\"\"},\"bgcolor\":\"#E5ECF6\",\"radialaxis\":{\"gridcolor\":\"white\",\"linecolor\":\"white\",\"ticks\":\"\"}},\"scene\":{\"xaxis\":{\"backgroundcolor\":\"#E5ECF6\",\"gridcolor\":\"white\",\"gridwidth\":2,\"linecolor\":\"white\",\"showbackground\":true,\"ticks\":\"\",\"zerolinecolor\":\"white\"},\"yaxis\":{\"backgroundcolor\":\"#E5ECF6\",\"gridcolor\":\"white\",\"gridwidth\":2,\"linecolor\":\"white\",\"showbackground\":true,\"ticks\":\"\",\"zerolinecolor\":\"white\"},\"zaxis\":{\"backgroundcolor\":\"#E5ECF6\",\"gridcolor\":\"white\",\"gridwidth\":2,\"linecolor\":\"white\",\"showbackground\":true,\"ticks\":\"\",\"zerolinecolor\":\"white\"}},\"shapedefaults\":{\"line\":{\"color\":\"#2a3f5f\"}},\"ternary\":{\"aaxis\":{\"gridcolor\":\"white\",\"linecolor\":\"white\",\"ticks\":\"\"},\"baxis\":{\"gridcolor\":\"white\",\"linecolor\":\"white\",\"ticks\":\"\"},\"bgcolor\":\"#E5ECF6\",\"caxis\":{\"gridcolor\":\"white\",\"linecolor\":\"white\",\"ticks\":\"\"}},\"title\":{\"x\":0.05},\"xaxis\":{\"automargin\":true,\"gridcolor\":\"white\",\"linecolor\":\"white\",\"ticks\":\"\",\"title\":{\"standoff\":15},\"zerolinecolor\":\"white\",\"zerolinewidth\":2},\"yaxis\":{\"automargin\":true,\"gridcolor\":\"white\",\"linecolor\":\"white\",\"ticks\":\"\",\"title\":{\"standoff\":15},\"zerolinecolor\":\"white\",\"zerolinewidth\":2}}},\"title\":{\"text\":\"Evolution of Flights with Delay Aggravation\"},\"xaxis\":{\"tickformat\":\"d\",\"title\":{\"text\":\"Year\"},\"zeroline\":false},\"yaxis\":{\"tickformat\":\",.0%\",\"title\":{\"text\":\"Flights Relative to Total Carrier Flights\"}}},                        {\"responsive\": true}                    ).then(function(){\n",
       "                            \n",
       "var gd = document.getElementById('c5a66b49-3fc5-4df6-8485-824e57cd3083');\n",
       "var x = new MutationObserver(function (mutations, observer) {{\n",
       "        var display = window.getComputedStyle(gd).display;\n",
       "        if (!display || display === 'none') {{\n",
       "            console.log([gd, 'removed!']);\n",
       "            Plotly.purge(gd);\n",
       "            observer.disconnect();\n",
       "        }}\n",
       "}});\n",
       "\n",
       "// Listen for the removal of the full notebook cells\n",
       "var notebookContainer = gd.closest('#notebook-container');\n",
       "if (notebookContainer) {{\n",
       "    x.observe(notebookContainer, {childList: true});\n",
       "}}\n",
       "\n",
       "// Listen for the clearing of the current output cell\n",
       "var outputEl = gd.closest('.output');\n",
       "if (outputEl) {{\n",
       "    x.observe(outputEl, {childList: true});\n",
       "}}\n",
       "\n",
       "                        })                };                });            </script>        </div>"
      ]
     },
     "metadata": {},
     "output_type": "display_data"
    }
   ],
   "source": [
    "traces = []\n",
    "changePerCarrierMap = dict()\n",
    "years = []\n",
    "\n",
    "for i in range(len(carrierDelayCountEvolution.toPandas()['Year'])):\n",
    "    if not carrierDelayCountEvolution.toPandas()['Year'][i] in years:\n",
    "        years.append(carrierDelayCountEvolution.toPandas()['Year'][i])\n",
    "\n",
    "years.sort()\n",
    "        \n",
    "for i in range(len(carrierDelayCountEvolution.toPandas()['Carrier'])):\n",
    "    if not carrierDelayCountEvolution.toPandas()['Carrier'][i] in changePerCarrierMap:\n",
    "        changePerCarrierMap[carrierDelayCountEvolution.toPandas()['Carrier'][i]] = []\n",
    "        \n",
    "    changePerCarrierMap[carrierDelayCountEvolution.toPandas()['Carrier'][i]].append(carrierDelayCountEvolution.toPandas()['DelayAggravation'][i])\n",
    "    \n",
    "for key in changePerCarrierMap:\n",
    "    traces.append(go.Scatter(\n",
    "        y = changePerCarrierMap[key],\n",
    "        x = years,\n",
    "        mode = 'lines',\n",
    "        name = key))\n",
    "       \n",
    "layout = dict(title = 'Evolution of Flights with Delay Aggravation',\n",
    "              xaxis= dict(title= 'Year',zeroline= False,tickformat='d'),\n",
    "              yaxis= dict(title= 'Flights Relative to Total Carrier Flights',tickformat=',.0%')\n",
    "             )\n",
    "\n",
    "fig = dict(data = traces, layout = layout)\n",
    "\n",
    "pyo.iplot(fig)"
   ]
  },
  {
   "cell_type": "code",
   "execution_count": null,
   "id": "8e292d31-6be0-4ee1-89e6-404753c7f4d1",
   "metadata": {},
   "outputs": [],
   "source": []
  }
 ],
 "metadata": {
  "kernelspec": {
   "display_name": "Python 3 (ipykernel)",
   "language": "python",
   "name": "python3"
  },
  "language_info": {
   "codemirror_mode": {
    "name": "ipython",
    "version": 3
   },
   "file_extension": ".py",
   "mimetype": "text/x-python",
   "name": "python",
   "nbconvert_exporter": "python",
   "pygments_lexer": "ipython3",
   "version": "3.8.10"
  }
 },
 "nbformat": 4,
 "nbformat_minor": 5
}
