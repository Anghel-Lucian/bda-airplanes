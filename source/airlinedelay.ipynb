{
 "cells": [
  {
   "cell_type": "code",
   "execution_count": 74,
   "metadata": {},
   "outputs": [],
   "source": [
    "from pyspark.sql import SparkSession\n",
    "from pyspark.sql.types import StructType, StructField\n",
    "from pyspark.sql.types import StringType, IntegerType, DateType, DoubleType\n",
    "from pyspark.sql import functions\n",
    "import math\n",
    "import plotly.offline as pyo\n",
    "import plotly.graph_objs as go\n",
    "from calendar import month\n",
    "from pandas import to_datetime\n",
    "from pyspark.sql.functions import unix_timestamp\n",
    "from pyspark.sql.functions import col\n",
    "import pandas as pd"
   ]
  },
  {
   "cell_type": "code",
   "execution_count": 75,
   "metadata": {},
   "outputs": [],
   "source": [
    "spark = SparkSession \\\n",
    "    .builder \\\n",
    "    .appName(\"airlinedelay\") \\\n",
    "    .getOrCreate()\n",
    "\n",
    "context = spark.sparkContext"
   ]
  },
  {
   "cell_type": "code",
   "execution_count": 76,
   "metadata": {},
   "outputs": [],
   "source": [
    "schema = StructType([\n",
    "    StructField(\"FL_DATE\", DateType(), True),\n",
    "    StructField(\"OP_CARRIER\", StringType(), True),\n",
    "    StructField(\"OP_CARRIER_FL_NUM\", IntegerType(), True),\n",
    "    StructField(\"ORIGIN\", StringType(), True),\n",
    "    StructField(\"DEST\", StringType(), True),\n",
    "    StructField(\"CRS_DEP_TIME\", DoubleType(), True),\n",
    "    StructField(\"DEP_TIME\", DoubleType(), True),\n",
    "    StructField(\"DEP_DELAY\", DoubleType(), True),\n",
    "    StructField(\"TAXI_OUT\", DoubleType(), True),\n",
    "    StructField(\"WHEELS_OFF\", DoubleType(), True),\n",
    "    StructField(\"WHEELS_ON\", DoubleType(), True),\n",
    "    StructField(\"TAXI_IN\", DoubleType(), True),\n",
    "    StructField(\"CRS_ARR_TIME\", DoubleType(), True),\n",
    "    StructField(\"ARR_TIME\", DoubleType(), True),\n",
    "    StructField(\"ARR_DELAY\", DoubleType(), True),\n",
    "    StructField(\"CANCELLED\", DoubleType(), True),\n",
    "    StructField(\"CANCELLATION_CODE\", StringType(), True),\n",
    "    StructField(\"DIVERTED\", DoubleType(), True),\n",
    "    StructField(\"CRS_ELAPSED_TIME\", DoubleType(), True),\n",
    "    StructField(\"ACTUAL_ELAPSED_TIME\", DoubleType(), True),\n",
    "    StructField(\"AIR_TIME\", DoubleType(), True),\n",
    "    StructField(\"DISTANCE\", DoubleType(), True),\n",
    "    StructField(\"CARRIER_DELAY\", DoubleType(), True),\n",
    "    StructField(\"WEATHER_DELAY\", DoubleType(), True),\n",
    "    StructField(\"NAS_DELAY\", DoubleType(), True),\n",
    "    StructField(\"SECURITY_DELAY\", DoubleType(), True),\n",
    "    StructField(\"LATE_AIRCRAFT_DELAY\", DoubleType(), True)\n",
    "])\n",
    "\n",
    "df = spark.read.format(\"csv\") \\\n",
    "    .option(\"sep\", \",\") \\\n",
    "    .option(\"header\", True) \\\n",
    "    .schema(schema) \\\n",
    "    .load(\"*.csv\")\n",
    "\n",
    "df.createOrReplaceTempView(\"airlinedelay\")"
   ]
  },
  {
   "cell_type": "code",
   "execution_count": 77,
   "metadata": {},
   "outputs": [
    {
     "name": "stdout",
     "output_type": "stream",
     "text": [
      "+----------+----------+-----------------+------+----+------------+--------+---------+--------+----------+---------+-------+------------+--------+---------+---------+-----------------+--------+----------------+-------------------+--------+--------+-------------+-------------+---------+--------------+-------------------+\n",
      "|   FL_DATE|OP_CARRIER|OP_CARRIER_FL_NUM|ORIGIN|DEST|CRS_DEP_TIME|DEP_TIME|DEP_DELAY|TAXI_OUT|WHEELS_OFF|WHEELS_ON|TAXI_IN|CRS_ARR_TIME|ARR_TIME|ARR_DELAY|CANCELLED|CANCELLATION_CODE|DIVERTED|CRS_ELAPSED_TIME|ACTUAL_ELAPSED_TIME|AIR_TIME|DISTANCE|CARRIER_DELAY|WEATHER_DELAY|NAS_DELAY|SECURITY_DELAY|LATE_AIRCRAFT_DELAY|\n",
      "+----------+----------+-----------------+------+----+------------+--------+---------+--------+----------+---------+-------+------------+--------+---------+---------+-----------------+--------+----------------+-------------------+--------+--------+-------------+-------------+---------+--------------+-------------------+\n",
      "|2016-01-01|        DL|             1248|   DTW| LAX|      1935.0|  1935.0|      0.0|    23.0|    1958.0|   2107.0|   13.0|      2144.0|  2120.0|    -24.0|      0.0|             null|     0.0|           309.0|              285.0|   249.0|  1979.0|         null|         null|     null|          null|               null|\n",
      "|2016-01-01|        DL|             1251|   ATL| GRR|      2125.0|  2130.0|      5.0|    13.0|    2143.0|   2315.0|    4.0|      2321.0|  2319.0|     -2.0|      0.0|             null|     0.0|           116.0|              109.0|    92.0|   640.0|         null|         null|     null|          null|               null|\n",
      "|2016-01-01|        DL|             1254|   LAX| ATL|      2255.0|  2256.0|      1.0|    19.0|    2315.0|    542.0|    5.0|       600.0|   547.0|    -13.0|      0.0|             null|     0.0|           245.0|              231.0|   207.0|  1947.0|         null|         null|     null|          null|               null|\n",
      "|2016-01-01|        DL|             1255|   SLC| ATL|      1656.0|  1700.0|      4.0|    12.0|    1712.0|   2205.0|    8.0|      2229.0|  2213.0|    -16.0|      0.0|             null|     0.0|           213.0|              193.0|   173.0|  1590.0|         null|         null|     null|          null|               null|\n",
      "|2016-01-01|        DL|             1256|   BZN| MSP|       900.0|  1012.0|     72.0|    63.0|    1115.0|   1416.0|    4.0|      1216.0|  1420.0|    124.0|      0.0|             null|     0.0|           136.0|              188.0|   121.0|   874.0|         72.0|          0.0|     52.0|           0.0|                0.0|\n",
      "|2016-01-01|        DL|             1257|   ATL| BNA|      1233.0|  1356.0|     83.0|    22.0|    1418.0|   1356.0|    6.0|      1239.0|  1402.0|     83.0|      0.0|             null|     0.0|            66.0|               66.0|    38.0|   214.0|         43.0|          0.0|      0.0|           0.0|               40.0|\n",
      "|2016-01-01|        DL|             1257|   BNA| ATL|      1320.0|  1446.0|     86.0|    15.0|    1501.0|   1638.0|    6.0|      1530.0|  1644.0|     74.0|      0.0|             null|     0.0|            70.0|               58.0|    37.0|   214.0|          3.0|          0.0|      0.0|           0.0|               71.0|\n",
      "|2016-01-01|        DL|             1258|   ATL| JAX|       945.0|   946.0|      1.0|    19.0|    1005.0|   1050.0|    3.0|      1050.0|  1053.0|      3.0|      0.0|             null|     0.0|            65.0|               67.0|    45.0|   270.0|         null|         null|     null|          null|               null|\n",
      "|2016-01-01|        DL|             1258|   JAX| ATL|      1145.0|  1144.0|     -1.0|    12.0|    1156.0|   1239.0|    8.0|      1302.0|  1247.0|    -15.0|      0.0|             null|     0.0|            77.0|               63.0|    43.0|   270.0|         null|         null|     null|          null|               null|\n",
      "|2016-01-01|        DL|             1259|   ATL| OKC|      2110.0|  2107.0|     -3.0|    16.0|    2123.0|   2219.0|    5.0|      2236.0|  2224.0|    -12.0|      0.0|             null|     0.0|           146.0|              137.0|   116.0|   761.0|         null|         null|     null|          null|               null|\n",
      "|2016-01-01|        DL|             1260|   MSP| SMF|      1115.0|  1113.0|     -2.0|    12.0|    1125.0|   1232.0|    4.0|      1309.0|  1236.0|    -33.0|      0.0|             null|     0.0|           234.0|              203.0|   187.0|  1517.0|         null|         null|     null|          null|               null|\n",
      "|2016-01-01|        DL|             1262|   LAX| JFK|      2255.0|  2248.0|     -7.0|    23.0|    2311.0|    650.0|   11.0|       715.0|   701.0|    -14.0|      0.0|             null|     0.0|           320.0|              313.0|   279.0|  2475.0|         null|         null|     null|          null|               null|\n",
      "|2016-01-01|        DL|             1263|   ATL| MDT|      1510.0|  1509.0|     -1.0|    17.0|    1526.0|   1646.0|    5.0|      1702.0|  1651.0|    -11.0|      0.0|             null|     0.0|           112.0|              102.0|    80.0|   620.0|         null|         null|     null|          null|               null|\n",
      "|2016-01-01|        DL|             1263|   MDT| ATL|      1737.0|  1727.0|    -10.0|    11.0|    1738.0|   1923.0|   11.0|      1949.0|  1934.0|    -15.0|      0.0|             null|     0.0|           132.0|              127.0|   105.0|   620.0|         null|         null|     null|          null|               null|\n",
      "|2016-01-01|        DL|             1264|   SLC| JFK|      2345.0|  2341.0|     -4.0|    25.0|       6.0|    602.0|   11.0|       607.0|   613.0|      6.0|      0.0|             null|     0.0|           262.0|              272.0|   236.0|  1990.0|         null|         null|     null|          null|               null|\n",
      "|2016-01-01|        DL|             1265|   SAV| ATL|      1408.0|  1403.0|     -5.0|    15.0|    1418.0|   1459.0|    6.0|      1523.0|  1505.0|    -18.0|      0.0|             null|     0.0|            75.0|               62.0|    41.0|   214.0|         null|         null|     null|          null|               null|\n",
      "|2016-01-01|        DL|             1266|   BUF| ATL|       615.0|   612.0|     -3.0|    38.0|     650.0|    844.0|    5.0|       843.0|   849.0|      6.0|      0.0|             null|     0.0|           148.0|              157.0|   114.0|   712.0|         null|         null|     null|          null|               null|\n",
      "|2016-01-01|        DL|             1269|   LGA| MIA|      1100.0|  1100.0|      0.0|    15.0|    1115.0|   1402.0|    4.0|      1432.0|  1406.0|    -26.0|      0.0|             null|     0.0|           212.0|              186.0|   167.0|  1096.0|         null|         null|     null|          null|               null|\n",
      "|2016-01-01|        DL|             1270|   ATL| PNS|      1340.0|  1337.0|     -3.0|    11.0|    1348.0|   1339.0|    3.0|      1352.0|  1342.0|    -10.0|      0.0|             null|     0.0|            72.0|               65.0|    51.0|   271.0|         null|         null|     null|          null|               null|\n",
      "|2016-01-01|        DL|             1270|   PNS| ATL|      1435.0|  1431.0|     -4.0|    10.0|    1441.0|   1622.0|    6.0|      1648.0|  1628.0|    -20.0|      0.0|             null|     0.0|            73.0|               57.0|    41.0|   271.0|         null|         null|     null|          null|               null|\n",
      "+----------+----------+-----------------+------+----+------------+--------+---------+--------+----------+---------+-------+------------+--------+---------+---------+-----------------+--------+----------------+-------------------+--------+--------+-------------+-------------+---------+--------------+-------------------+\n",
      "only showing top 20 rows\n",
      "\n"
     ]
    }
   ],
   "source": [
    "df.show()"
   ]
  },
  {
   "cell_type": "markdown",
   "metadata": {},
   "source": [
    "TOTAL RECORDS"
   ]
  },
  {
   "cell_type": "code",
   "execution_count": 78,
   "metadata": {},
   "outputs": [
    {
     "name": "stdout",
     "output_type": "stream",
     "text": [
      "+--------+\n",
      "|count(1)|\n",
      "+--------+\n",
      "|18505725|\n",
      "+--------+\n",
      "\n"
     ]
    }
   ],
   "source": [
    "spark.sql(\"SELECT count(*) FROM airlinedelay\").show()"
   ]
  },
  {
   "attachments": {},
   "cell_type": "markdown",
   "metadata": {},
   "source": [
    " AVERAGE DEPARTURE DELAY PER MONTH IN ALL YEARS"
   ]
  },
  {
   "cell_type": "code",
   "execution_count": 79,
   "metadata": {},
   "outputs": [
    {
     "name": "stdout",
     "output_type": "stream",
     "text": [
      "+---------+-----------------------------+---------------------------+\n",
      "|    Month|AverageDepartureDelayPerMonth|AverageArrivalDelayPerMonth|\n",
      "+---------+-----------------------------+---------------------------+\n",
      "| February|           30.735431890196587|          33.71100564562122|\n",
      "|  January|            32.18828878699574|          35.25426456636053|\n",
      "|    March|           28.878667663204894|         30.986196824550824|\n",
      "|      May|            31.56993455797027|          34.25158585502806|\n",
      "|    April|            31.86281084247858|          34.09016641899735|\n",
      "|     July|           37.292714589718095|          40.61094899363225|\n",
      "|     June|            34.88871055929404|          38.14195843797705|\n",
      "|  October|            27.35363224271801|           29.2535701323158|\n",
      "|   August|            36.20854900123184|         38.999591241859285|\n",
      "|September|           28.909569347281945|          31.14594036226316|\n",
      "| November|            27.16239535928725|         30.007738214623405|\n",
      "| December|            31.40340308209513|          34.63536989043135|\n",
      "+---------+-----------------------------+---------------------------+\n",
      "\n"
     ]
    }
   ],
   "source": [
    "\n",
    "averageDepartureDelayPerMonth = spark.sql(\"SELECT CASE EXTRACT(month from FL_DATE) WHEN 1 THEN 'January'  WHEN 2 THEN 'February' WHEN 3 THEN 'March' WHEN 4 THEN 'April' WHEN 5 THEN 'May' \\\n",
    "WHEN 6 THEN 'June' WHEN 7 THEN 'July' WHEN 8 THEN 'August' WHEN 9 THEN 'September' \\\n",
    "WHEN 10 THEN 'October' WHEN 11 THEN 'November' ELSE 'December' END AS Month, \\\n",
    "AVG(IF(DEP_DELAY >= 0 , DEP_DELAY, NULL)) AS AverageDepartureDelayPerMonth, AVG(IF(ARR_DELAY >= 0 , ARR_DELAY, NULL)) AS AverageArrivalDelayPerMonth \\\n",
    "FROM airlinedelay GROUP BY Month\")\n",
    "averageDepartureDelayPerMonth.show()\n"
   ]
  },
  {
   "cell_type": "code",
   "execution_count": 101,
   "metadata": {},
   "outputs": [
    {
     "data": {
      "application/vnd.plotly.v1+json": {
       "config": {
        "linkText": "Export to plot.ly",
        "plotlyServerURL": "https://plot.ly",
        "showLink": false
       },
       "data": [
        {
         "marker": {
          "color": "red"
         },
         "mode": "lines+markers",
         "name": "Average Departure Delay",
         "text": [
          "January",
          "February",
          "March",
          "April",
          "May",
          "June",
          "July",
          "August",
          "September",
          "October",
          "November",
          "December"
         ],
         "type": "scatter",
         "x": [
          "January",
          "February",
          "March",
          "April",
          "May",
          "June",
          "July",
          "August",
          "September",
          "October",
          "November",
          "December"
         ],
         "y": [
          32.18828878699574,
          30.735431890196587,
          28.878667663204894,
          31.86281084247858,
          31.56993455797027,
          34.88871055929404,
          37.292714589718095,
          36.20854900123184,
          28.909569347281945,
          27.35363224271801,
          27.16239535928725,
          31.40340308209513
         ]
        },
        {
         "marker": {
          "color": "yellow"
         },
         "mode": "lines+markers",
         "name": "Average Arrival Delay",
         "text": [
          "January",
          "February",
          "March",
          "April",
          "May",
          "June",
          "July",
          "August",
          "September",
          "October",
          "November",
          "December"
         ],
         "type": "scatter",
         "x": [
          "January",
          "February",
          "March",
          "April",
          "May",
          "June",
          "July",
          "August",
          "September",
          "October",
          "November",
          "December"
         ],
         "y": [
          35.25426456636053,
          33.71100564562122,
          30.986196824550824,
          34.09016641899735,
          34.25158585502806,
          38.14195843797705,
          40.61094899363225,
          38.999591241859285,
          31.14594036226316,
          29.2535701323158,
          30.007738214623405,
          34.63536989043135
         ]
        }
       ],
       "layout": {
        "height": 600,
        "template": {
         "data": {
          "bar": [
           {
            "error_x": {
             "color": "#2a3f5f"
            },
            "error_y": {
             "color": "#2a3f5f"
            },
            "marker": {
             "line": {
              "color": "#E5ECF6",
              "width": 0.5
             }
            },
            "type": "bar"
           }
          ],
          "barpolar": [
           {
            "marker": {
             "line": {
              "color": "#E5ECF6",
              "width": 0.5
             }
            },
            "type": "barpolar"
           }
          ],
          "carpet": [
           {
            "aaxis": {
             "endlinecolor": "#2a3f5f",
             "gridcolor": "white",
             "linecolor": "white",
             "minorgridcolor": "white",
             "startlinecolor": "#2a3f5f"
            },
            "baxis": {
             "endlinecolor": "#2a3f5f",
             "gridcolor": "white",
             "linecolor": "white",
             "minorgridcolor": "white",
             "startlinecolor": "#2a3f5f"
            },
            "type": "carpet"
           }
          ],
          "choropleth": [
           {
            "colorbar": {
             "outlinewidth": 0,
             "ticks": ""
            },
            "type": "choropleth"
           }
          ],
          "contour": [
           {
            "colorbar": {
             "outlinewidth": 0,
             "ticks": ""
            },
            "colorscale": [
             [
              0,
              "#0d0887"
             ],
             [
              0.1111111111111111,
              "#46039f"
             ],
             [
              0.2222222222222222,
              "#7201a8"
             ],
             [
              0.3333333333333333,
              "#9c179e"
             ],
             [
              0.4444444444444444,
              "#bd3786"
             ],
             [
              0.5555555555555556,
              "#d8576b"
             ],
             [
              0.6666666666666666,
              "#ed7953"
             ],
             [
              0.7777777777777778,
              "#fb9f3a"
             ],
             [
              0.8888888888888888,
              "#fdca26"
             ],
             [
              1,
              "#f0f921"
             ]
            ],
            "type": "contour"
           }
          ],
          "contourcarpet": [
           {
            "colorbar": {
             "outlinewidth": 0,
             "ticks": ""
            },
            "type": "contourcarpet"
           }
          ],
          "heatmap": [
           {
            "colorbar": {
             "outlinewidth": 0,
             "ticks": ""
            },
            "colorscale": [
             [
              0,
              "#0d0887"
             ],
             [
              0.1111111111111111,
              "#46039f"
             ],
             [
              0.2222222222222222,
              "#7201a8"
             ],
             [
              0.3333333333333333,
              "#9c179e"
             ],
             [
              0.4444444444444444,
              "#bd3786"
             ],
             [
              0.5555555555555556,
              "#d8576b"
             ],
             [
              0.6666666666666666,
              "#ed7953"
             ],
             [
              0.7777777777777778,
              "#fb9f3a"
             ],
             [
              0.8888888888888888,
              "#fdca26"
             ],
             [
              1,
              "#f0f921"
             ]
            ],
            "type": "heatmap"
           }
          ],
          "heatmapgl": [
           {
            "colorbar": {
             "outlinewidth": 0,
             "ticks": ""
            },
            "colorscale": [
             [
              0,
              "#0d0887"
             ],
             [
              0.1111111111111111,
              "#46039f"
             ],
             [
              0.2222222222222222,
              "#7201a8"
             ],
             [
              0.3333333333333333,
              "#9c179e"
             ],
             [
              0.4444444444444444,
              "#bd3786"
             ],
             [
              0.5555555555555556,
              "#d8576b"
             ],
             [
              0.6666666666666666,
              "#ed7953"
             ],
             [
              0.7777777777777778,
              "#fb9f3a"
             ],
             [
              0.8888888888888888,
              "#fdca26"
             ],
             [
              1,
              "#f0f921"
             ]
            ],
            "type": "heatmapgl"
           }
          ],
          "histogram": [
           {
            "marker": {
             "colorbar": {
              "outlinewidth": 0,
              "ticks": ""
             }
            },
            "type": "histogram"
           }
          ],
          "histogram2d": [
           {
            "colorbar": {
             "outlinewidth": 0,
             "ticks": ""
            },
            "colorscale": [
             [
              0,
              "#0d0887"
             ],
             [
              0.1111111111111111,
              "#46039f"
             ],
             [
              0.2222222222222222,
              "#7201a8"
             ],
             [
              0.3333333333333333,
              "#9c179e"
             ],
             [
              0.4444444444444444,
              "#bd3786"
             ],
             [
              0.5555555555555556,
              "#d8576b"
             ],
             [
              0.6666666666666666,
              "#ed7953"
             ],
             [
              0.7777777777777778,
              "#fb9f3a"
             ],
             [
              0.8888888888888888,
              "#fdca26"
             ],
             [
              1,
              "#f0f921"
             ]
            ],
            "type": "histogram2d"
           }
          ],
          "histogram2dcontour": [
           {
            "colorbar": {
             "outlinewidth": 0,
             "ticks": ""
            },
            "colorscale": [
             [
              0,
              "#0d0887"
             ],
             [
              0.1111111111111111,
              "#46039f"
             ],
             [
              0.2222222222222222,
              "#7201a8"
             ],
             [
              0.3333333333333333,
              "#9c179e"
             ],
             [
              0.4444444444444444,
              "#bd3786"
             ],
             [
              0.5555555555555556,
              "#d8576b"
             ],
             [
              0.6666666666666666,
              "#ed7953"
             ],
             [
              0.7777777777777778,
              "#fb9f3a"
             ],
             [
              0.8888888888888888,
              "#fdca26"
             ],
             [
              1,
              "#f0f921"
             ]
            ],
            "type": "histogram2dcontour"
           }
          ],
          "mesh3d": [
           {
            "colorbar": {
             "outlinewidth": 0,
             "ticks": ""
            },
            "type": "mesh3d"
           }
          ],
          "parcoords": [
           {
            "line": {
             "colorbar": {
              "outlinewidth": 0,
              "ticks": ""
             }
            },
            "type": "parcoords"
           }
          ],
          "pie": [
           {
            "automargin": true,
            "type": "pie"
           }
          ],
          "scatter": [
           {
            "marker": {
             "colorbar": {
              "outlinewidth": 0,
              "ticks": ""
             }
            },
            "type": "scatter"
           }
          ],
          "scatter3d": [
           {
            "line": {
             "colorbar": {
              "outlinewidth": 0,
              "ticks": ""
             }
            },
            "marker": {
             "colorbar": {
              "outlinewidth": 0,
              "ticks": ""
             }
            },
            "type": "scatter3d"
           }
          ],
          "scattercarpet": [
           {
            "marker": {
             "colorbar": {
              "outlinewidth": 0,
              "ticks": ""
             }
            },
            "type": "scattercarpet"
           }
          ],
          "scattergeo": [
           {
            "marker": {
             "colorbar": {
              "outlinewidth": 0,
              "ticks": ""
             }
            },
            "type": "scattergeo"
           }
          ],
          "scattergl": [
           {
            "marker": {
             "colorbar": {
              "outlinewidth": 0,
              "ticks": ""
             }
            },
            "type": "scattergl"
           }
          ],
          "scattermapbox": [
           {
            "marker": {
             "colorbar": {
              "outlinewidth": 0,
              "ticks": ""
             }
            },
            "type": "scattermapbox"
           }
          ],
          "scatterpolar": [
           {
            "marker": {
             "colorbar": {
              "outlinewidth": 0,
              "ticks": ""
             }
            },
            "type": "scatterpolar"
           }
          ],
          "scatterpolargl": [
           {
            "marker": {
             "colorbar": {
              "outlinewidth": 0,
              "ticks": ""
             }
            },
            "type": "scatterpolargl"
           }
          ],
          "scatterternary": [
           {
            "marker": {
             "colorbar": {
              "outlinewidth": 0,
              "ticks": ""
             }
            },
            "type": "scatterternary"
           }
          ],
          "surface": [
           {
            "colorbar": {
             "outlinewidth": 0,
             "ticks": ""
            },
            "colorscale": [
             [
              0,
              "#0d0887"
             ],
             [
              0.1111111111111111,
              "#46039f"
             ],
             [
              0.2222222222222222,
              "#7201a8"
             ],
             [
              0.3333333333333333,
              "#9c179e"
             ],
             [
              0.4444444444444444,
              "#bd3786"
             ],
             [
              0.5555555555555556,
              "#d8576b"
             ],
             [
              0.6666666666666666,
              "#ed7953"
             ],
             [
              0.7777777777777778,
              "#fb9f3a"
             ],
             [
              0.8888888888888888,
              "#fdca26"
             ],
             [
              1,
              "#f0f921"
             ]
            ],
            "type": "surface"
           }
          ],
          "table": [
           {
            "cells": {
             "fill": {
              "color": "#EBF0F8"
             },
             "line": {
              "color": "white"
             }
            },
            "header": {
             "fill": {
              "color": "#C8D4E3"
             },
             "line": {
              "color": "white"
             }
            },
            "type": "table"
           }
          ]
         },
         "layout": {
          "annotationdefaults": {
           "arrowcolor": "#2a3f5f",
           "arrowhead": 0,
           "arrowwidth": 1
          },
          "autotypenumbers": "strict",
          "coloraxis": {
           "colorbar": {
            "outlinewidth": 0,
            "ticks": ""
           }
          },
          "colorscale": {
           "diverging": [
            [
             0,
             "#8e0152"
            ],
            [
             0.1,
             "#c51b7d"
            ],
            [
             0.2,
             "#de77ae"
            ],
            [
             0.3,
             "#f1b6da"
            ],
            [
             0.4,
             "#fde0ef"
            ],
            [
             0.5,
             "#f7f7f7"
            ],
            [
             0.6,
             "#e6f5d0"
            ],
            [
             0.7,
             "#b8e186"
            ],
            [
             0.8,
             "#7fbc41"
            ],
            [
             0.9,
             "#4d9221"
            ],
            [
             1,
             "#276419"
            ]
           ],
           "sequential": [
            [
             0,
             "#0d0887"
            ],
            [
             0.1111111111111111,
             "#46039f"
            ],
            [
             0.2222222222222222,
             "#7201a8"
            ],
            [
             0.3333333333333333,
             "#9c179e"
            ],
            [
             0.4444444444444444,
             "#bd3786"
            ],
            [
             0.5555555555555556,
             "#d8576b"
            ],
            [
             0.6666666666666666,
             "#ed7953"
            ],
            [
             0.7777777777777778,
             "#fb9f3a"
            ],
            [
             0.8888888888888888,
             "#fdca26"
            ],
            [
             1,
             "#f0f921"
            ]
           ],
           "sequentialminus": [
            [
             0,
             "#0d0887"
            ],
            [
             0.1111111111111111,
             "#46039f"
            ],
            [
             0.2222222222222222,
             "#7201a8"
            ],
            [
             0.3333333333333333,
             "#9c179e"
            ],
            [
             0.4444444444444444,
             "#bd3786"
            ],
            [
             0.5555555555555556,
             "#d8576b"
            ],
            [
             0.6666666666666666,
             "#ed7953"
            ],
            [
             0.7777777777777778,
             "#fb9f3a"
            ],
            [
             0.8888888888888888,
             "#fdca26"
            ],
            [
             1,
             "#f0f921"
            ]
           ]
          },
          "colorway": [
           "#636efa",
           "#EF553B",
           "#00cc96",
           "#ab63fa",
           "#FFA15A",
           "#19d3f3",
           "#FF6692",
           "#B6E880",
           "#FF97FF",
           "#FECB52"
          ],
          "font": {
           "color": "#2a3f5f"
          },
          "geo": {
           "bgcolor": "white",
           "lakecolor": "white",
           "landcolor": "#E5ECF6",
           "showlakes": true,
           "showland": true,
           "subunitcolor": "white"
          },
          "hoverlabel": {
           "align": "left"
          },
          "hovermode": "closest",
          "mapbox": {
           "style": "light"
          },
          "paper_bgcolor": "white",
          "plot_bgcolor": "#E5ECF6",
          "polar": {
           "angularaxis": {
            "gridcolor": "white",
            "linecolor": "white",
            "ticks": ""
           },
           "bgcolor": "#E5ECF6",
           "radialaxis": {
            "gridcolor": "white",
            "linecolor": "white",
            "ticks": ""
           }
          },
          "scene": {
           "xaxis": {
            "backgroundcolor": "#E5ECF6",
            "gridcolor": "white",
            "gridwidth": 2,
            "linecolor": "white",
            "showbackground": true,
            "ticks": "",
            "zerolinecolor": "white"
           },
           "yaxis": {
            "backgroundcolor": "#E5ECF6",
            "gridcolor": "white",
            "gridwidth": 2,
            "linecolor": "white",
            "showbackground": true,
            "ticks": "",
            "zerolinecolor": "white"
           },
           "zaxis": {
            "backgroundcolor": "#E5ECF6",
            "gridcolor": "white",
            "gridwidth": 2,
            "linecolor": "white",
            "showbackground": true,
            "ticks": "",
            "zerolinecolor": "white"
           }
          },
          "shapedefaults": {
           "line": {
            "color": "#2a3f5f"
           }
          },
          "ternary": {
           "aaxis": {
            "gridcolor": "white",
            "linecolor": "white",
            "ticks": ""
           },
           "baxis": {
            "gridcolor": "white",
            "linecolor": "white",
            "ticks": ""
           },
           "bgcolor": "#E5ECF6",
           "caxis": {
            "gridcolor": "white",
            "linecolor": "white",
            "ticks": ""
           }
          },
          "title": {
           "x": 0.05
          },
          "xaxis": {
           "automargin": true,
           "gridcolor": "white",
           "linecolor": "white",
           "ticks": "",
           "title": {
            "standoff": 15
           },
           "zerolinecolor": "white",
           "zerolinewidth": 2
          },
          "yaxis": {
           "automargin": true,
           "gridcolor": "white",
           "linecolor": "white",
           "ticks": "",
           "title": {
            "standoff": 15
           },
           "zerolinecolor": "white",
           "zerolinewidth": 2
          }
         }
        },
        "title": {
         "text": "Evolution Of Average Departure/Arrival Delay Month-Over-Month Over All Years"
        },
        "width": 900,
        "xaxis": {
         "tickformat": "d",
         "ticklen": 5,
         "title": {
          "text": "Month"
         },
         "zeroline": false
        },
        "yaxis": {
         "title": {
          "text": "Average Delay (Minutes)"
         }
        }
       }
      }
     },
     "metadata": {},
     "output_type": "display_data"
    }
   ],
   "source": [
    "dfpandas = averageDepartureDelayPerMonth.toPandas()\n",
    "months = [\"January\", \"February\", \"March\", \"April\", \"May\", \"June\", \n",
    "          \"July\", \"August\", \"September\", \"October\", \"November\", \"December\"]\n",
    "dfpandasaverageDepartureDelayPerMonth = dfpandas.sort_values('Month', key = lambda x : pd.Categorical(x, categories=months, ordered=True))\n",
    "\n",
    "averageDepartureDelayPerMonthGraph = go.Scatter(\n",
    "    y = dfpandasaverageDepartureDelayPerMonth['AverageDepartureDelayPerMonth'],\n",
    "    x = dfpandasaverageDepartureDelayPerMonth['Month'],\n",
    "    mode = 'lines+markers',\n",
    "    name = 'Average Departure Delay',\n",
    "    marker = dict(color='red'),\n",
    "    text = dfpandasaverageDepartureDelayPerMonth['Month'])\n",
    "\n",
    "averageArrivalDelayPerMonthGraph = go.Scatter(\n",
    "    y = dfpandasaverageDepartureDelayPerMonth['AverageArrivalDelayPerMonth'],\n",
    "    x = dfpandasaverageDepartureDelayPerMonth['Month'],\n",
    "    mode = 'lines+markers',\n",
    "    name = 'Average Arrival Delay',\n",
    "    marker = dict(color='yellow'),\n",
    "    text = dfpandasaverageDepartureDelayPerMonth['Month'])\n",
    "\n",
    "data = [averageDepartureDelayPerMonthGraph, averageArrivalDelayPerMonthGraph]\n",
    "\n",
    "layout = dict(title = 'Evolution Of Average Departure/Arrival Delay Month-Over-Month Over All Years',\n",
    "              xaxis= dict(title= 'Month',ticklen= 5,zeroline= False,tickformat='d'),\n",
    "              yaxis= dict(title= 'Average Delay (Minutes)'),\n",
    "              height= 600,\n",
    "              width= 900\n",
    "             )\n",
    "fig = dict(data = data, layout = layout)\n",
    "\n",
    "pyo.iplot(fig)"
   ]
  },
  {
   "attachments": {},
   "cell_type": "markdown",
   "metadata": {},
   "source": []
  },
  {
   "attachments": {},
   "cell_type": "markdown",
   "metadata": {},
   "source": [
    " AVERAGE DEPARTURE DELAY PER MONTH AND PER CARRIER IN ALL YEARS"
   ]
  },
  {
   "cell_type": "code",
   "execution_count": 81,
   "metadata": {},
   "outputs": [
    {
     "name": "stdout",
     "output_type": "stream",
     "text": [
      "+----------+-----+-----------------------------+---------------------------+\n",
      "|OP_CARRIER|Month|AverageDepartureDelayPerMonth|AverageArrivalDelayPerMonth|\n",
      "+----------+-----+-----------------------------+---------------------------+\n",
      "|        9E|    1|            58.31797235023041|           57.1671469740634|\n",
      "|        9E|    2|            61.01737492149885|          57.75359424920128|\n",
      "|        9E|    3|            42.15660542432196|          37.37869643934822|\n",
      "|        9E|    4|           54.845143449706185|         49.817087845968715|\n",
      "|        9E|    5|            51.54504504504504|          45.63453608247423|\n",
      "|        9E|    6|            49.84719136781974|          47.91642824875772|\n",
      "|        9E|    7|           60.290930910337735|         55.701403722917306|\n",
      "|        9E|    8|            65.23912040596647|          60.75072744907857|\n",
      "|        9E|    9|            49.55501321944275|          44.64089818306479|\n",
      "|        9E|   10|            39.08286674132139|           34.0815987933635|\n",
      "|        9E|   11|             45.6314669286182|          43.18227665706052|\n",
      "|        9E|   12|            49.96624763216807|          49.45004329004329|\n",
      "|        AA|    1|            28.89082669246633|         30.011294679314027|\n",
      "|        AA|    2|             29.3121567553588|         29.930492011488447|\n",
      "|        AA|    3|           28.654509180833145|         29.312678187001804|\n",
      "|        AA|    4|            31.36914417703203|          32.08464422321858|\n",
      "|        AA|    5|             33.0630384027051|          34.51742113101954|\n",
      "|        AA|    6|            37.47761151353412|           39.4064602706585|\n",
      "|        AA|    7|           40.049587076867226|          42.08340010197392|\n",
      "|        AA|    8|             37.3220237560961|          38.51693583922447|\n",
      "+----------+-----+-----------------------------+---------------------------+\n",
      "only showing top 20 rows\n",
      "\n"
     ]
    }
   ],
   "source": [
    "averageDepartureArrivalDelayPerMonthPerCarier = spark.sql(\"SELECT OP_CARRIER,  EXTRACT(Month from FL_DATE) AS Month, \\\n",
    "AVG(IF(DEP_DELAY >= 0 , DEP_DELAY, NULL)) AS AverageDepartureDelayPerMonth, AVG(IF(ARR_DELAY >= 0 , ARR_DELAY, NULL)) \\\n",
    "AS AverageArrivalDelayPerMonth FROM airlinedelay GROUP BY OP_CARRIER, Month ORDER BY OP_CARRIER, Month\")\n",
    "averageDepartureArrivalDelayPerMonthPerCarier.show()"
   ]
  },
  {
   "cell_type": "code",
   "execution_count": 102,
   "metadata": {},
   "outputs": [
    {
     "data": {
      "application/vnd.plotly.v1+json": {
       "config": {
        "linkText": "Export to plot.ly",
        "plotlyServerURL": "https://plot.ly",
        "showLink": false
       },
       "data": [
        {
         "mode": "lines+markers",
         "name": "9E",
         "type": "scatter",
         "x": [
          "January",
          "February",
          "March",
          "April",
          "May",
          "June",
          "July",
          "August",
          "September",
          "October",
          "November",
          "December"
         ],
         "y": [
          58.31797235023041,
          61.01737492149885,
          42.15660542432196,
          54.845143449706185,
          51.54504504504504,
          49.84719136781974,
          60.290930910337735,
          65.23912040596647,
          49.55501321944275,
          39.08286674132139,
          45.6314669286182,
          49.96624763216807
         ]
        },
        {
         "mode": "lines+markers",
         "name": "AA",
         "type": "scatter",
         "x": [
          "January",
          "February",
          "March",
          "April",
          "May",
          "June",
          "July",
          "August",
          "September",
          "October",
          "November",
          "December"
         ],
         "y": [
          28.89082669246633,
          29.3121567553588,
          28.654509180833145,
          31.36914417703203,
          33.0630384027051,
          37.47761151353412,
          40.049587076867226,
          37.3220237560961,
          30.776217495437955,
          28.148400203148807,
          25.461991588695426,
          28.475577677498357
         ]
        },
        {
         "mode": "lines+markers",
         "name": "AS",
         "type": "scatter",
         "x": [
          "January",
          "February",
          "March",
          "April",
          "May",
          "June",
          "July",
          "August",
          "September",
          "October",
          "November",
          "December"
         ],
         "y": [
          26.659244998744455,
          27.048022061620387,
          22.793762733113933,
          24.209948230026583,
          23.051150895140665,
          23.03462595777037,
          23.601559688062387,
          26.364108962362238,
          21.83993815607454,
          25.36136523574947,
          28.127620396600566,
          26.316943756632472
         ]
        },
        {
         "mode": "lines+markers",
         "name": "B6",
         "type": "scatter",
         "x": [
          "January",
          "February",
          "March",
          "April",
          "May",
          "June",
          "July",
          "August",
          "September",
          "October",
          "November",
          "December"
         ],
         "y": [
          41.56401696291618,
          39.38072563879015,
          38.35097262966022,
          44.36380239247557,
          41.46490510701898,
          44.56316074817023,
          49.48639626524773,
          46.733521631677576,
          38.52377770790756,
          34.377734331771734,
          35.139641599746824,
          42.06008766589553
         ]
        },
        {
         "mode": "lines+markers",
         "name": "DL",
         "type": "scatter",
         "x": [
          "January",
          "February",
          "March",
          "April",
          "May",
          "June",
          "July",
          "August",
          "September",
          "October",
          "November",
          "December"
         ],
         "y": [
          31.906853748068006,
          26.088871660134096,
          24.331884256406745,
          34.392066442936816,
          26.138921251348435,
          32.02875997337218,
          34.34320275282999,
          34.89047801301291,
          22.761274642182016,
          20.094770003006495,
          20.947962265657225,
          26.633418935113852
         ]
        },
        {
         "mode": "lines+markers",
         "name": "EV",
         "type": "scatter",
         "x": [
          "January",
          "February",
          "March",
          "April",
          "May",
          "June",
          "July",
          "August",
          "September",
          "October",
          "November",
          "December"
         ],
         "y": [
          48.9762098480164,
          47.456407625212144,
          47.250753298929794,
          49.586374896779525,
          48.7764648753642,
          52.83158412018674,
          56.48747963153869,
          53.363702522872195,
          48.273474749440496,
          49.330978667664674,
          49.23180057096248,
          51.35329247823881
         ]
        },
        {
         "mode": "lines+markers",
         "name": "F9",
         "type": "scatter",
         "x": [
          "January",
          "February",
          "March",
          "April",
          "May",
          "June",
          "July",
          "August",
          "September",
          "October",
          "November",
          "December"
         ],
         "y": [
          44.37617787188989,
          41.50186591172307,
          40.55991140642303,
          42.814510529969915,
          43.91501235019669,
          46.5897077228889,
          47.53230829116388,
          45.78983719782931,
          45.39355692850838,
          39.45992601726264,
          35.017489008304835,
          44.76223555415219
         ]
        },
        {
         "mode": "lines+markers",
         "name": "G4",
         "type": "scatter",
         "x": [
          "January",
          "February",
          "March",
          "April",
          "May",
          "June",
          "July",
          "August",
          "September",
          "October",
          "November",
          "December"
         ],
         "y": [
          33.424694708276796,
          37.85173718610251,
          35.06236297198539,
          36.45763195435093,
          42.95300950369588,
          46.45931758530184,
          46.40689785148888,
          36.89771080846131,
          34.70155232849274,
          35.05631339629241,
          35.01206732295967,
          34.622303352140726
         ]
        },
        {
         "mode": "lines+markers",
         "name": "HA",
         "type": "scatter",
         "x": [
          "January",
          "February",
          "March",
          "April",
          "May",
          "June",
          "July",
          "August",
          "September",
          "October",
          "November",
          "December"
         ],
         "y": [
          15.577391885122726,
          18.742378269036266,
          14.32497520895311,
          14.729508196721312,
          14.04953408533595,
          14.543619895121564,
          14.183813443072703,
          16.669411132987292,
          14.83588346258646,
          14.65063334474495,
          13.082508250825082,
          18.083898747390396
         ]
        },
        {
         "mode": "lines+markers",
         "name": "MQ",
         "type": "scatter",
         "x": [
          "January",
          "February",
          "March",
          "April",
          "May",
          "June",
          "July",
          "August",
          "September",
          "October",
          "November",
          "December"
         ],
         "y": [
          32.64770186335404,
          36.31460981276479,
          25.837829409012944,
          30.518750912009338,
          39.4862808680469,
          39.591148682247635,
          35.62741969793661,
          38.22150096799909,
          36.055613538094526,
          32.068582887700536,
          34.970100123439856,
          31.44352834876892
         ]
        },
        {
         "mode": "lines+markers",
         "name": "NK",
         "type": "scatter",
         "x": [
          "January",
          "February",
          "March",
          "April",
          "May",
          "June",
          "July",
          "August",
          "September",
          "October",
          "November",
          "December"
         ],
         "y": [
          38.176219114556915,
          42.96837882482498,
          38.100615085788284,
          40.11651710600112,
          39.86336986999745,
          40.99496899496899,
          44.316490269716624,
          46.12597394873015,
          40.309865900383144,
          34.90087463556851,
          33.26621986409755,
          36.05733913753231
         ]
        },
        {
         "mode": "lines+markers",
         "name": "OH",
         "type": "scatter",
         "x": [
          "January",
          "February",
          "March",
          "April",
          "May",
          "June",
          "July",
          "August",
          "September",
          "October",
          "November",
          "December"
         ],
         "y": [
          34.62032839730029,
          38.86642599277978,
          27.77777777777778,
          29.69697288206853,
          37.26438200113917,
          47.35587929240375,
          37.60334645669291,
          39.78193791157103,
          34.87779960707269,
          28.567025808068152,
          30.484815851819945,
          28.082696629213483
         ]
        },
        {
         "mode": "lines+markers",
         "name": "OO",
         "type": "scatter",
         "x": [
          "January",
          "February",
          "March",
          "April",
          "May",
          "June",
          "July",
          "August",
          "September",
          "October",
          "November",
          "December"
         ],
         "y": [
          50.3240914473085,
          48.09709642117028,
          43.91605575430571,
          43.4752432579555,
          46.78866853123146,
          46.75695542942216,
          46.035447825339524,
          49.80903843989646,
          40.039182536920094,
          43.56824524224176,
          44.58465254144253,
          50.316391441238835
         ]
        },
        {
         "mode": "lines+markers",
         "name": "UA",
         "type": "scatter",
         "x": [
          "January",
          "February",
          "March",
          "April",
          "May",
          "June",
          "July",
          "August",
          "September",
          "October",
          "November",
          "December"
         ],
         "y": [
          30.764697882261512,
          32.8061503896651,
          32.55353941832815,
          32.998712066328586,
          35.91216744913928,
          38.15148433705682,
          43.02319690118856,
          41.197301657134474,
          32.962257994344135,
          31.78877400295421,
          32.68841560750874,
          32.99474041398032
         ]
        },
        {
         "mode": "lines+markers",
         "name": "VX",
         "type": "scatter",
         "x": [
          "January",
          "February",
          "March",
          "April",
          "May",
          "June",
          "July",
          "August",
          "September",
          "October",
          "November",
          "December"
         ],
         "y": [
          33.9658203125,
          31.849872773536894,
          35.517703799553,
          33.96038034865293,
          34.653894472361806,
          30.076234617228703,
          27.040592247546165,
          30.321612074502248,
          25.68189310101248,
          37.44475580464371,
          26.80183486238532,
          33.79031269160024
         ]
        },
        {
         "mode": "lines+markers",
         "name": "WN",
         "type": "scatter",
         "x": [
          "January",
          "February",
          "March",
          "April",
          "May",
          "June",
          "July",
          "August",
          "September",
          "October",
          "November",
          "December"
         ],
         "y": [
          20.989531033690806,
          19.084565290751524,
          19.847733288033798,
          21.767345143582492,
          22.253654552878725,
          25.029145845326266,
          27.285087719298247,
          23.511306324927656,
          18.32181453048285,
          17.257614966406305,
          17.71107835153273,
          22.45680007069599
         ]
        },
        {
         "mode": "lines+markers",
         "name": "YV",
         "type": "scatter",
         "x": [
          "January",
          "February",
          "March",
          "April",
          "May",
          "June",
          "July",
          "August",
          "September",
          "October",
          "November",
          "December"
         ],
         "y": [
          40.38212382123821,
          45.054011119936455,
          30.70690945372911,
          35.197844311377246,
          42.64777407334771,
          41.37090791807773,
          44.76236689580806,
          48.79553264604811,
          53.01384752829065,
          50.67987848980182,
          39.63137967590489,
          44.08419193405946
         ]
        },
        {
         "mode": "lines+markers",
         "name": "YX",
         "type": "scatter",
         "x": [
          "January",
          "February",
          "March",
          "April",
          "May",
          "June",
          "July",
          "August",
          "September",
          "October",
          "November",
          "December"
         ],
         "y": [
          38.793522839768066,
          38.21378062818615,
          33.402077604644056,
          43.629285821230724,
          43.5516062884484,
          42.44898407468424,
          47.263917778049674,
          49.12778730703259,
          44.822799664710814,
          37.271359075706904,
          39.91177296993538,
          35.748525073746315
         ]
        }
       ],
       "layout": {
        "height": 650,
        "template": {
         "data": {
          "bar": [
           {
            "error_x": {
             "color": "#2a3f5f"
            },
            "error_y": {
             "color": "#2a3f5f"
            },
            "marker": {
             "line": {
              "color": "#E5ECF6",
              "width": 0.5
             }
            },
            "type": "bar"
           }
          ],
          "barpolar": [
           {
            "marker": {
             "line": {
              "color": "#E5ECF6",
              "width": 0.5
             }
            },
            "type": "barpolar"
           }
          ],
          "carpet": [
           {
            "aaxis": {
             "endlinecolor": "#2a3f5f",
             "gridcolor": "white",
             "linecolor": "white",
             "minorgridcolor": "white",
             "startlinecolor": "#2a3f5f"
            },
            "baxis": {
             "endlinecolor": "#2a3f5f",
             "gridcolor": "white",
             "linecolor": "white",
             "minorgridcolor": "white",
             "startlinecolor": "#2a3f5f"
            },
            "type": "carpet"
           }
          ],
          "choropleth": [
           {
            "colorbar": {
             "outlinewidth": 0,
             "ticks": ""
            },
            "type": "choropleth"
           }
          ],
          "contour": [
           {
            "colorbar": {
             "outlinewidth": 0,
             "ticks": ""
            },
            "colorscale": [
             [
              0,
              "#0d0887"
             ],
             [
              0.1111111111111111,
              "#46039f"
             ],
             [
              0.2222222222222222,
              "#7201a8"
             ],
             [
              0.3333333333333333,
              "#9c179e"
             ],
             [
              0.4444444444444444,
              "#bd3786"
             ],
             [
              0.5555555555555556,
              "#d8576b"
             ],
             [
              0.6666666666666666,
              "#ed7953"
             ],
             [
              0.7777777777777778,
              "#fb9f3a"
             ],
             [
              0.8888888888888888,
              "#fdca26"
             ],
             [
              1,
              "#f0f921"
             ]
            ],
            "type": "contour"
           }
          ],
          "contourcarpet": [
           {
            "colorbar": {
             "outlinewidth": 0,
             "ticks": ""
            },
            "type": "contourcarpet"
           }
          ],
          "heatmap": [
           {
            "colorbar": {
             "outlinewidth": 0,
             "ticks": ""
            },
            "colorscale": [
             [
              0,
              "#0d0887"
             ],
             [
              0.1111111111111111,
              "#46039f"
             ],
             [
              0.2222222222222222,
              "#7201a8"
             ],
             [
              0.3333333333333333,
              "#9c179e"
             ],
             [
              0.4444444444444444,
              "#bd3786"
             ],
             [
              0.5555555555555556,
              "#d8576b"
             ],
             [
              0.6666666666666666,
              "#ed7953"
             ],
             [
              0.7777777777777778,
              "#fb9f3a"
             ],
             [
              0.8888888888888888,
              "#fdca26"
             ],
             [
              1,
              "#f0f921"
             ]
            ],
            "type": "heatmap"
           }
          ],
          "heatmapgl": [
           {
            "colorbar": {
             "outlinewidth": 0,
             "ticks": ""
            },
            "colorscale": [
             [
              0,
              "#0d0887"
             ],
             [
              0.1111111111111111,
              "#46039f"
             ],
             [
              0.2222222222222222,
              "#7201a8"
             ],
             [
              0.3333333333333333,
              "#9c179e"
             ],
             [
              0.4444444444444444,
              "#bd3786"
             ],
             [
              0.5555555555555556,
              "#d8576b"
             ],
             [
              0.6666666666666666,
              "#ed7953"
             ],
             [
              0.7777777777777778,
              "#fb9f3a"
             ],
             [
              0.8888888888888888,
              "#fdca26"
             ],
             [
              1,
              "#f0f921"
             ]
            ],
            "type": "heatmapgl"
           }
          ],
          "histogram": [
           {
            "marker": {
             "colorbar": {
              "outlinewidth": 0,
              "ticks": ""
             }
            },
            "type": "histogram"
           }
          ],
          "histogram2d": [
           {
            "colorbar": {
             "outlinewidth": 0,
             "ticks": ""
            },
            "colorscale": [
             [
              0,
              "#0d0887"
             ],
             [
              0.1111111111111111,
              "#46039f"
             ],
             [
              0.2222222222222222,
              "#7201a8"
             ],
             [
              0.3333333333333333,
              "#9c179e"
             ],
             [
              0.4444444444444444,
              "#bd3786"
             ],
             [
              0.5555555555555556,
              "#d8576b"
             ],
             [
              0.6666666666666666,
              "#ed7953"
             ],
             [
              0.7777777777777778,
              "#fb9f3a"
             ],
             [
              0.8888888888888888,
              "#fdca26"
             ],
             [
              1,
              "#f0f921"
             ]
            ],
            "type": "histogram2d"
           }
          ],
          "histogram2dcontour": [
           {
            "colorbar": {
             "outlinewidth": 0,
             "ticks": ""
            },
            "colorscale": [
             [
              0,
              "#0d0887"
             ],
             [
              0.1111111111111111,
              "#46039f"
             ],
             [
              0.2222222222222222,
              "#7201a8"
             ],
             [
              0.3333333333333333,
              "#9c179e"
             ],
             [
              0.4444444444444444,
              "#bd3786"
             ],
             [
              0.5555555555555556,
              "#d8576b"
             ],
             [
              0.6666666666666666,
              "#ed7953"
             ],
             [
              0.7777777777777778,
              "#fb9f3a"
             ],
             [
              0.8888888888888888,
              "#fdca26"
             ],
             [
              1,
              "#f0f921"
             ]
            ],
            "type": "histogram2dcontour"
           }
          ],
          "mesh3d": [
           {
            "colorbar": {
             "outlinewidth": 0,
             "ticks": ""
            },
            "type": "mesh3d"
           }
          ],
          "parcoords": [
           {
            "line": {
             "colorbar": {
              "outlinewidth": 0,
              "ticks": ""
             }
            },
            "type": "parcoords"
           }
          ],
          "pie": [
           {
            "automargin": true,
            "type": "pie"
           }
          ],
          "scatter": [
           {
            "marker": {
             "colorbar": {
              "outlinewidth": 0,
              "ticks": ""
             }
            },
            "type": "scatter"
           }
          ],
          "scatter3d": [
           {
            "line": {
             "colorbar": {
              "outlinewidth": 0,
              "ticks": ""
             }
            },
            "marker": {
             "colorbar": {
              "outlinewidth": 0,
              "ticks": ""
             }
            },
            "type": "scatter3d"
           }
          ],
          "scattercarpet": [
           {
            "marker": {
             "colorbar": {
              "outlinewidth": 0,
              "ticks": ""
             }
            },
            "type": "scattercarpet"
           }
          ],
          "scattergeo": [
           {
            "marker": {
             "colorbar": {
              "outlinewidth": 0,
              "ticks": ""
             }
            },
            "type": "scattergeo"
           }
          ],
          "scattergl": [
           {
            "marker": {
             "colorbar": {
              "outlinewidth": 0,
              "ticks": ""
             }
            },
            "type": "scattergl"
           }
          ],
          "scattermapbox": [
           {
            "marker": {
             "colorbar": {
              "outlinewidth": 0,
              "ticks": ""
             }
            },
            "type": "scattermapbox"
           }
          ],
          "scatterpolar": [
           {
            "marker": {
             "colorbar": {
              "outlinewidth": 0,
              "ticks": ""
             }
            },
            "type": "scatterpolar"
           }
          ],
          "scatterpolargl": [
           {
            "marker": {
             "colorbar": {
              "outlinewidth": 0,
              "ticks": ""
             }
            },
            "type": "scatterpolargl"
           }
          ],
          "scatterternary": [
           {
            "marker": {
             "colorbar": {
              "outlinewidth": 0,
              "ticks": ""
             }
            },
            "type": "scatterternary"
           }
          ],
          "surface": [
           {
            "colorbar": {
             "outlinewidth": 0,
             "ticks": ""
            },
            "colorscale": [
             [
              0,
              "#0d0887"
             ],
             [
              0.1111111111111111,
              "#46039f"
             ],
             [
              0.2222222222222222,
              "#7201a8"
             ],
             [
              0.3333333333333333,
              "#9c179e"
             ],
             [
              0.4444444444444444,
              "#bd3786"
             ],
             [
              0.5555555555555556,
              "#d8576b"
             ],
             [
              0.6666666666666666,
              "#ed7953"
             ],
             [
              0.7777777777777778,
              "#fb9f3a"
             ],
             [
              0.8888888888888888,
              "#fdca26"
             ],
             [
              1,
              "#f0f921"
             ]
            ],
            "type": "surface"
           }
          ],
          "table": [
           {
            "cells": {
             "fill": {
              "color": "#EBF0F8"
             },
             "line": {
              "color": "white"
             }
            },
            "header": {
             "fill": {
              "color": "#C8D4E3"
             },
             "line": {
              "color": "white"
             }
            },
            "type": "table"
           }
          ]
         },
         "layout": {
          "annotationdefaults": {
           "arrowcolor": "#2a3f5f",
           "arrowhead": 0,
           "arrowwidth": 1
          },
          "autotypenumbers": "strict",
          "coloraxis": {
           "colorbar": {
            "outlinewidth": 0,
            "ticks": ""
           }
          },
          "colorscale": {
           "diverging": [
            [
             0,
             "#8e0152"
            ],
            [
             0.1,
             "#c51b7d"
            ],
            [
             0.2,
             "#de77ae"
            ],
            [
             0.3,
             "#f1b6da"
            ],
            [
             0.4,
             "#fde0ef"
            ],
            [
             0.5,
             "#f7f7f7"
            ],
            [
             0.6,
             "#e6f5d0"
            ],
            [
             0.7,
             "#b8e186"
            ],
            [
             0.8,
             "#7fbc41"
            ],
            [
             0.9,
             "#4d9221"
            ],
            [
             1,
             "#276419"
            ]
           ],
           "sequential": [
            [
             0,
             "#0d0887"
            ],
            [
             0.1111111111111111,
             "#46039f"
            ],
            [
             0.2222222222222222,
             "#7201a8"
            ],
            [
             0.3333333333333333,
             "#9c179e"
            ],
            [
             0.4444444444444444,
             "#bd3786"
            ],
            [
             0.5555555555555556,
             "#d8576b"
            ],
            [
             0.6666666666666666,
             "#ed7953"
            ],
            [
             0.7777777777777778,
             "#fb9f3a"
            ],
            [
             0.8888888888888888,
             "#fdca26"
            ],
            [
             1,
             "#f0f921"
            ]
           ],
           "sequentialminus": [
            [
             0,
             "#0d0887"
            ],
            [
             0.1111111111111111,
             "#46039f"
            ],
            [
             0.2222222222222222,
             "#7201a8"
            ],
            [
             0.3333333333333333,
             "#9c179e"
            ],
            [
             0.4444444444444444,
             "#bd3786"
            ],
            [
             0.5555555555555556,
             "#d8576b"
            ],
            [
             0.6666666666666666,
             "#ed7953"
            ],
            [
             0.7777777777777778,
             "#fb9f3a"
            ],
            [
             0.8888888888888888,
             "#fdca26"
            ],
            [
             1,
             "#f0f921"
            ]
           ]
          },
          "colorway": [
           "#636efa",
           "#EF553B",
           "#00cc96",
           "#ab63fa",
           "#FFA15A",
           "#19d3f3",
           "#FF6692",
           "#B6E880",
           "#FF97FF",
           "#FECB52"
          ],
          "font": {
           "color": "#2a3f5f"
          },
          "geo": {
           "bgcolor": "white",
           "lakecolor": "white",
           "landcolor": "#E5ECF6",
           "showlakes": true,
           "showland": true,
           "subunitcolor": "white"
          },
          "hoverlabel": {
           "align": "left"
          },
          "hovermode": "closest",
          "mapbox": {
           "style": "light"
          },
          "paper_bgcolor": "white",
          "plot_bgcolor": "#E5ECF6",
          "polar": {
           "angularaxis": {
            "gridcolor": "white",
            "linecolor": "white",
            "ticks": ""
           },
           "bgcolor": "#E5ECF6",
           "radialaxis": {
            "gridcolor": "white",
            "linecolor": "white",
            "ticks": ""
           }
          },
          "scene": {
           "xaxis": {
            "backgroundcolor": "#E5ECF6",
            "gridcolor": "white",
            "gridwidth": 2,
            "linecolor": "white",
            "showbackground": true,
            "ticks": "",
            "zerolinecolor": "white"
           },
           "yaxis": {
            "backgroundcolor": "#E5ECF6",
            "gridcolor": "white",
            "gridwidth": 2,
            "linecolor": "white",
            "showbackground": true,
            "ticks": "",
            "zerolinecolor": "white"
           },
           "zaxis": {
            "backgroundcolor": "#E5ECF6",
            "gridcolor": "white",
            "gridwidth": 2,
            "linecolor": "white",
            "showbackground": true,
            "ticks": "",
            "zerolinecolor": "white"
           }
          },
          "shapedefaults": {
           "line": {
            "color": "#2a3f5f"
           }
          },
          "ternary": {
           "aaxis": {
            "gridcolor": "white",
            "linecolor": "white",
            "ticks": ""
           },
           "baxis": {
            "gridcolor": "white",
            "linecolor": "white",
            "ticks": ""
           },
           "bgcolor": "#E5ECF6",
           "caxis": {
            "gridcolor": "white",
            "linecolor": "white",
            "ticks": ""
           }
          },
          "title": {
           "x": 0.05
          },
          "xaxis": {
           "automargin": true,
           "gridcolor": "white",
           "linecolor": "white",
           "ticks": "",
           "title": {
            "standoff": 15
           },
           "zerolinecolor": "white",
           "zerolinewidth": 2
          },
          "yaxis": {
           "automargin": true,
           "gridcolor": "white",
           "linecolor": "white",
           "ticks": "",
           "title": {
            "standoff": 15
           },
           "zerolinecolor": "white",
           "zerolinewidth": 2
          }
         }
        },
        "title": {
         "text": "Evolution of Average Departure Delay For Each Carrier Month-Over-Month Over All Years"
        },
        "width": 900,
        "xaxis": {
         "tickformat": "d",
         "title": {
          "text": "Month"
         },
         "zeroline": false
        },
        "yaxis": {
         "tickformat": "d",
         "title": {
          "text": "Flight Delay (Minutes)"
         }
        }
       }
      }
     },
     "metadata": {},
     "output_type": "display_data"
    }
   ],
   "source": [
    "dfpandasaverageDepartureArrivalDelayPerMonthPerCarier = averageDepartureArrivalDelayPerMonthPerCarier.toPandas()\n",
    "months = [\"January\", \"February\", \"March\", \"April\", \"May\", \"June\", \n",
    "          \"July\", \"August\", \"September\", \"October\", \"November\", \"December\"]\n",
    "\n",
    "traces = []\n",
    "changePerCarrierMap = dict()\n",
    "        \n",
    "for i in range(len(dfpandasaverageDepartureArrivalDelayPerMonthPerCarier['OP_CARRIER'])):\n",
    "    if not dfpandasaverageDepartureArrivalDelayPerMonthPerCarier['OP_CARRIER'][i] in changePerCarrierMap:\n",
    "        changePerCarrierMap[dfpandasaverageDepartureArrivalDelayPerMonthPerCarier['OP_CARRIER'][i]] = []\n",
    "        \n",
    "    changePerCarrierMap[dfpandasaverageDepartureArrivalDelayPerMonthPerCarier['OP_CARRIER'][i]].append(dfpandasaverageDepartureArrivalDelayPerMonthPerCarier['AverageDepartureDelayPerMonth'][i])\n",
    "    \n",
    "for key in changePerCarrierMap:\n",
    "    traces.append(go.Scatter(\n",
    "        y = changePerCarrierMap[key],\n",
    "        x = months,\n",
    "        mode = 'lines+markers',\n",
    "        name = key))\n",
    "                  \n",
    "layout = dict(title = 'Evolution of Average Departure Delay For Each Carrier Month-Over-Month Over All Years',\n",
    "              xaxis= dict(title= 'Month',zeroline= False,tickformat='d'),\n",
    "              yaxis= dict(title= 'Flight Delay (Minutes)',tickformat='d'),\n",
    "              height= 650,\n",
    "              width= 900\n",
    "             )\n",
    "\n",
    "fig = dict(data = traces, layout = layout)\n",
    "\n",
    "pyo.iplot(fig)"
   ]
  },
  {
   "cell_type": "code",
   "execution_count": 103,
   "metadata": {},
   "outputs": [
    {
     "data": {
      "application/vnd.plotly.v1+json": {
       "config": {
        "linkText": "Export to plot.ly",
        "plotlyServerURL": "https://plot.ly",
        "showLink": false
       },
       "data": [
        {
         "mode": "lines+markers",
         "name": "9E",
         "type": "scatter",
         "x": [
          "January",
          "February",
          "March",
          "April",
          "May",
          "June",
          "July",
          "August",
          "September",
          "October",
          "November",
          "December"
         ],
         "y": [
          57.1671469740634,
          57.75359424920128,
          37.37869643934822,
          49.817087845968715,
          45.63453608247423,
          47.91642824875772,
          55.701403722917306,
          60.75072744907857,
          44.64089818306479,
          34.0815987933635,
          43.18227665706052,
          49.45004329004329
         ]
        },
        {
         "mode": "lines+markers",
         "name": "AA",
         "type": "scatter",
         "x": [
          "January",
          "February",
          "March",
          "April",
          "May",
          "June",
          "July",
          "August",
          "September",
          "October",
          "November",
          "December"
         ],
         "y": [
          30.011294679314027,
          29.930492011488447,
          29.312678187001804,
          32.08464422321858,
          34.51742113101954,
          39.4064602706585,
          42.08340010197392,
          38.51693583922447,
          31.28576527037923,
          28.57100133447717,
          26.606553629775046,
          30.63023226787396
         ]
        },
        {
         "mode": "lines+markers",
         "name": "AS",
         "type": "scatter",
         "x": [
          "January",
          "February",
          "March",
          "April",
          "May",
          "June",
          "July",
          "August",
          "September",
          "October",
          "November",
          "December"
         ],
         "y": [
          24.88440468760835,
          25.123311932698694,
          20.87837837837838,
          21.731345589371234,
          21.476255685430626,
          21.824339024736318,
          22.363939393939393,
          25.32109691764398,
          19.792640327631897,
          23.35468844193566,
          26.501372102528173,
          26.682136648580308
         ]
        },
        {
         "mode": "lines+markers",
         "name": "B6",
         "type": "scatter",
         "x": [
          "January",
          "February",
          "March",
          "April",
          "May",
          "June",
          "July",
          "August",
          "September",
          "October",
          "November",
          "December"
         ],
         "y": [
          43.670566364306545,
          41.648711193392195,
          40.21894136906566,
          46.77019115696866,
          44.21826392373307,
          48.3498504784689,
          53.821975079243636,
          50.30560911481157,
          40.92237776425238,
          35.647994440798364,
          36.04919156485626,
          42.86361129832731
         ]
        },
        {
         "mode": "lines+markers",
         "name": "DL",
         "type": "scatter",
         "x": [
          "January",
          "February",
          "March",
          "April",
          "May",
          "June",
          "July",
          "August",
          "September",
          "October",
          "November",
          "December"
         ],
         "y": [
          40.85303142177373,
          34.05695010028566,
          30.451927201421654,
          41.357973522803185,
          30.52053248219221,
          39.23269005487391,
          42.28154431485062,
          42.285287713030215,
          28.008646943658906,
          24.39661091848528,
          26.496929566935442,
          34.24281368349165
         ]
        },
        {
         "mode": "lines+markers",
         "name": "EV",
         "type": "scatter",
         "x": [
          "January",
          "February",
          "March",
          "April",
          "May",
          "June",
          "July",
          "August",
          "September",
          "October",
          "November",
          "December"
         ],
         "y": [
          45.0325428934235,
          42.41454772822009,
          41.72607762475407,
          44.26613622578228,
          43.13920110669203,
          48.039081522576666,
          52.583457187054506,
          48.84424554013875,
          41.66507602717567,
          42.35537970946026,
          43.06232294617564,
          47.694928269747635
         ]
        },
        {
         "mode": "lines+markers",
         "name": "F9",
         "type": "scatter",
         "x": [
          "January",
          "February",
          "March",
          "April",
          "May",
          "June",
          "July",
          "August",
          "September",
          "October",
          "November",
          "December"
         ],
         "y": [
          45.23048081164534,
          43.280377784042855,
          41.54506842850401,
          42.46144914073386,
          44.44175338428953,
          48.89572609577289,
          50.154561101549056,
          46.711753731343286,
          45.32695099818512,
          39.806126802628214,
          36.27721934186859,
          47.109956929313405
         ]
        },
        {
         "mode": "lines+markers",
         "name": "G4",
         "type": "scatter",
         "x": [
          "January",
          "February",
          "March",
          "April",
          "May",
          "June",
          "July",
          "August",
          "September",
          "October",
          "November",
          "December"
         ],
         "y": [
          37.48524962178517,
          42.20066273932253,
          37.65473411154345,
          40.212798530312305,
          47.84023668639053,
          49.2844481958219,
          49.22100075815011,
          39.088122605363985,
          38.15,
          38.23647058823529,
          36.80360531309298,
          37.01547258661285
         ]
        },
        {
         "mode": "lines+markers",
         "name": "HA",
         "type": "scatter",
         "x": [
          "January",
          "February",
          "March",
          "April",
          "May",
          "June",
          "July",
          "August",
          "September",
          "October",
          "November",
          "December"
         ],
         "y": [
          15.517309988062078,
          18.704566635601118,
          14.744275674450238,
          14.040763813651138,
          13.541792415693479,
          13.68286951144094,
          13.202388131709082,
          14.283852767329392,
          14.077487085485753,
          14.217601822842495,
          13.225341867908059,
          18.123314484558502
         ]
        },
        {
         "mode": "lines+markers",
         "name": "MQ",
         "type": "scatter",
         "x": [
          "January",
          "February",
          "March",
          "April",
          "May",
          "June",
          "July",
          "August",
          "September",
          "October",
          "November",
          "December"
         ],
         "y": [
          32.55644118914261,
          36.76935866983373,
          24.114571015635264,
          28.91319857312723,
          38.86021259572522,
          39.426869682042096,
          34.568627450980394,
          36.69651162790698,
          33.41622532498796,
          29.996125282531484,
          32.71046770601336,
          30.622315093789485
         ]
        },
        {
         "mode": "lines+markers",
         "name": "NK",
         "type": "scatter",
         "x": [
          "January",
          "February",
          "March",
          "April",
          "May",
          "June",
          "July",
          "August",
          "September",
          "October",
          "November",
          "December"
         ],
         "y": [
          37.27163817472069,
          41.88218689644926,
          38.6986731619768,
          40.3161830280579,
          41.29524908636276,
          42.86421499292786,
          45.95794258097923,
          46.664818637570036,
          40.74421556184711,
          34.526552655265526,
          32.40559747324092,
          36.92664630908126
         ]
        },
        {
         "mode": "lines+markers",
         "name": "OH",
         "type": "scatter",
         "x": [
          "January",
          "February",
          "March",
          "April",
          "May",
          "June",
          "July",
          "August",
          "September",
          "October",
          "November",
          "December"
         ],
         "y": [
          34.861477572559366,
          37.42579650565262,
          27.649691519397678,
          28.601021225470564,
          37.92666091458153,
          48.03345292349462,
          38.84733749883428,
          42.02526479448061,
          35.741657696447795,
          29.35735176814677,
          31.620589223703373,
          29.416676679082062
         ]
        },
        {
         "mode": "lines+markers",
         "name": "OO",
         "type": "scatter",
         "x": [
          "January",
          "February",
          "March",
          "April",
          "May",
          "June",
          "July",
          "August",
          "September",
          "October",
          "November",
          "December"
         ],
         "y": [
          45.57670776198264,
          42.57507542353214,
          37.01990582191781,
          36.51942039229546,
          38.89302890615899,
          40.932386988795734,
          40.5268904871444,
          43.72892136960346,
          33.069257540603246,
          35.65596337643563,
          38.705177501564876,
          46.967207736634904
         ]
        },
        {
         "mode": "lines+markers",
         "name": "UA",
         "type": "scatter",
         "x": [
          "January",
          "February",
          "March",
          "April",
          "May",
          "June",
          "July",
          "August",
          "September",
          "October",
          "November",
          "December"
         ],
         "y": [
          38.22346546466923,
          39.65701652176511,
          38.37816917728853,
          38.31787648970747,
          41.73160754368667,
          44.005585804655425,
          48.185932286638554,
          45.30854145211123,
          35.57089947089947,
          33.947941961508356,
          35.40530679933665,
          36.73736215431072
         ]
        },
        {
         "mode": "lines+markers",
         "name": "VX",
         "type": "scatter",
         "x": [
          "January",
          "February",
          "March",
          "April",
          "May",
          "June",
          "July",
          "August",
          "September",
          "October",
          "November",
          "December"
         ],
         "y": [
          35.75819444444444,
          33.06469262954619,
          36.617299529654694,
          36.61672288301083,
          36.825460368294635,
          32.918743056657675,
          30.32293291731669,
          32.80508474576271,
          27.166457549142617,
          37.179431072210065,
          26.98526703499079,
          34.47436384352449
         ]
        },
        {
         "mode": "lines+markers",
         "name": "WN",
         "type": "scatter",
         "x": [
          "January",
          "February",
          "March",
          "April",
          "May",
          "June",
          "July",
          "August",
          "September",
          "October",
          "November",
          "December"
         ],
         "y": [
          25.177977453305047,
          23.318642497249087,
          23.4128140720904,
          25.97279640292333,
          27.216431101389013,
          30.047128606765234,
          32.661295841429286,
          28.391869215238994,
          22.92041978402683,
          21.20842789521463,
          22.409033644909215,
          26.73086814485299
         ]
        },
        {
         "mode": "lines+markers",
         "name": "YV",
         "type": "scatter",
         "x": [
          "January",
          "February",
          "March",
          "April",
          "May",
          "June",
          "July",
          "August",
          "September",
          "October",
          "November",
          "December"
         ],
         "y": [
          36.62038216560509,
          42.53782692645252,
          27.450558375634518,
          31.849529780564264,
          40.66623758734829,
          38.21915654038599,
          40.82825612139327,
          44.53527625986642,
          46.103042793065825,
          43.287600135394335,
          34.63575537034863,
          39.59617771159097
         ]
        },
        {
         "mode": "lines+markers",
         "name": "YX",
         "type": "scatter",
         "x": [
          "January",
          "February",
          "March",
          "April",
          "May",
          "June",
          "July",
          "August",
          "September",
          "October",
          "November",
          "December"
         ],
         "y": [
          36.2636048319579,
          34.54344682529249,
          29.530474040632054,
          38.63280204404429,
          40.153689506468616,
          40.59113007242782,
          44.78139085640696,
          45.18606314498825,
          37.21569103716298,
          30.434263797144684,
          34.84779834077856,
          31.371269951422622
         ]
        }
       ],
       "layout": {
        "height": 650,
        "template": {
         "data": {
          "bar": [
           {
            "error_x": {
             "color": "#2a3f5f"
            },
            "error_y": {
             "color": "#2a3f5f"
            },
            "marker": {
             "line": {
              "color": "#E5ECF6",
              "width": 0.5
             }
            },
            "type": "bar"
           }
          ],
          "barpolar": [
           {
            "marker": {
             "line": {
              "color": "#E5ECF6",
              "width": 0.5
             }
            },
            "type": "barpolar"
           }
          ],
          "carpet": [
           {
            "aaxis": {
             "endlinecolor": "#2a3f5f",
             "gridcolor": "white",
             "linecolor": "white",
             "minorgridcolor": "white",
             "startlinecolor": "#2a3f5f"
            },
            "baxis": {
             "endlinecolor": "#2a3f5f",
             "gridcolor": "white",
             "linecolor": "white",
             "minorgridcolor": "white",
             "startlinecolor": "#2a3f5f"
            },
            "type": "carpet"
           }
          ],
          "choropleth": [
           {
            "colorbar": {
             "outlinewidth": 0,
             "ticks": ""
            },
            "type": "choropleth"
           }
          ],
          "contour": [
           {
            "colorbar": {
             "outlinewidth": 0,
             "ticks": ""
            },
            "colorscale": [
             [
              0,
              "#0d0887"
             ],
             [
              0.1111111111111111,
              "#46039f"
             ],
             [
              0.2222222222222222,
              "#7201a8"
             ],
             [
              0.3333333333333333,
              "#9c179e"
             ],
             [
              0.4444444444444444,
              "#bd3786"
             ],
             [
              0.5555555555555556,
              "#d8576b"
             ],
             [
              0.6666666666666666,
              "#ed7953"
             ],
             [
              0.7777777777777778,
              "#fb9f3a"
             ],
             [
              0.8888888888888888,
              "#fdca26"
             ],
             [
              1,
              "#f0f921"
             ]
            ],
            "type": "contour"
           }
          ],
          "contourcarpet": [
           {
            "colorbar": {
             "outlinewidth": 0,
             "ticks": ""
            },
            "type": "contourcarpet"
           }
          ],
          "heatmap": [
           {
            "colorbar": {
             "outlinewidth": 0,
             "ticks": ""
            },
            "colorscale": [
             [
              0,
              "#0d0887"
             ],
             [
              0.1111111111111111,
              "#46039f"
             ],
             [
              0.2222222222222222,
              "#7201a8"
             ],
             [
              0.3333333333333333,
              "#9c179e"
             ],
             [
              0.4444444444444444,
              "#bd3786"
             ],
             [
              0.5555555555555556,
              "#d8576b"
             ],
             [
              0.6666666666666666,
              "#ed7953"
             ],
             [
              0.7777777777777778,
              "#fb9f3a"
             ],
             [
              0.8888888888888888,
              "#fdca26"
             ],
             [
              1,
              "#f0f921"
             ]
            ],
            "type": "heatmap"
           }
          ],
          "heatmapgl": [
           {
            "colorbar": {
             "outlinewidth": 0,
             "ticks": ""
            },
            "colorscale": [
             [
              0,
              "#0d0887"
             ],
             [
              0.1111111111111111,
              "#46039f"
             ],
             [
              0.2222222222222222,
              "#7201a8"
             ],
             [
              0.3333333333333333,
              "#9c179e"
             ],
             [
              0.4444444444444444,
              "#bd3786"
             ],
             [
              0.5555555555555556,
              "#d8576b"
             ],
             [
              0.6666666666666666,
              "#ed7953"
             ],
             [
              0.7777777777777778,
              "#fb9f3a"
             ],
             [
              0.8888888888888888,
              "#fdca26"
             ],
             [
              1,
              "#f0f921"
             ]
            ],
            "type": "heatmapgl"
           }
          ],
          "histogram": [
           {
            "marker": {
             "colorbar": {
              "outlinewidth": 0,
              "ticks": ""
             }
            },
            "type": "histogram"
           }
          ],
          "histogram2d": [
           {
            "colorbar": {
             "outlinewidth": 0,
             "ticks": ""
            },
            "colorscale": [
             [
              0,
              "#0d0887"
             ],
             [
              0.1111111111111111,
              "#46039f"
             ],
             [
              0.2222222222222222,
              "#7201a8"
             ],
             [
              0.3333333333333333,
              "#9c179e"
             ],
             [
              0.4444444444444444,
              "#bd3786"
             ],
             [
              0.5555555555555556,
              "#d8576b"
             ],
             [
              0.6666666666666666,
              "#ed7953"
             ],
             [
              0.7777777777777778,
              "#fb9f3a"
             ],
             [
              0.8888888888888888,
              "#fdca26"
             ],
             [
              1,
              "#f0f921"
             ]
            ],
            "type": "histogram2d"
           }
          ],
          "histogram2dcontour": [
           {
            "colorbar": {
             "outlinewidth": 0,
             "ticks": ""
            },
            "colorscale": [
             [
              0,
              "#0d0887"
             ],
             [
              0.1111111111111111,
              "#46039f"
             ],
             [
              0.2222222222222222,
              "#7201a8"
             ],
             [
              0.3333333333333333,
              "#9c179e"
             ],
             [
              0.4444444444444444,
              "#bd3786"
             ],
             [
              0.5555555555555556,
              "#d8576b"
             ],
             [
              0.6666666666666666,
              "#ed7953"
             ],
             [
              0.7777777777777778,
              "#fb9f3a"
             ],
             [
              0.8888888888888888,
              "#fdca26"
             ],
             [
              1,
              "#f0f921"
             ]
            ],
            "type": "histogram2dcontour"
           }
          ],
          "mesh3d": [
           {
            "colorbar": {
             "outlinewidth": 0,
             "ticks": ""
            },
            "type": "mesh3d"
           }
          ],
          "parcoords": [
           {
            "line": {
             "colorbar": {
              "outlinewidth": 0,
              "ticks": ""
             }
            },
            "type": "parcoords"
           }
          ],
          "pie": [
           {
            "automargin": true,
            "type": "pie"
           }
          ],
          "scatter": [
           {
            "marker": {
             "colorbar": {
              "outlinewidth": 0,
              "ticks": ""
             }
            },
            "type": "scatter"
           }
          ],
          "scatter3d": [
           {
            "line": {
             "colorbar": {
              "outlinewidth": 0,
              "ticks": ""
             }
            },
            "marker": {
             "colorbar": {
              "outlinewidth": 0,
              "ticks": ""
             }
            },
            "type": "scatter3d"
           }
          ],
          "scattercarpet": [
           {
            "marker": {
             "colorbar": {
              "outlinewidth": 0,
              "ticks": ""
             }
            },
            "type": "scattercarpet"
           }
          ],
          "scattergeo": [
           {
            "marker": {
             "colorbar": {
              "outlinewidth": 0,
              "ticks": ""
             }
            },
            "type": "scattergeo"
           }
          ],
          "scattergl": [
           {
            "marker": {
             "colorbar": {
              "outlinewidth": 0,
              "ticks": ""
             }
            },
            "type": "scattergl"
           }
          ],
          "scattermapbox": [
           {
            "marker": {
             "colorbar": {
              "outlinewidth": 0,
              "ticks": ""
             }
            },
            "type": "scattermapbox"
           }
          ],
          "scatterpolar": [
           {
            "marker": {
             "colorbar": {
              "outlinewidth": 0,
              "ticks": ""
             }
            },
            "type": "scatterpolar"
           }
          ],
          "scatterpolargl": [
           {
            "marker": {
             "colorbar": {
              "outlinewidth": 0,
              "ticks": ""
             }
            },
            "type": "scatterpolargl"
           }
          ],
          "scatterternary": [
           {
            "marker": {
             "colorbar": {
              "outlinewidth": 0,
              "ticks": ""
             }
            },
            "type": "scatterternary"
           }
          ],
          "surface": [
           {
            "colorbar": {
             "outlinewidth": 0,
             "ticks": ""
            },
            "colorscale": [
             [
              0,
              "#0d0887"
             ],
             [
              0.1111111111111111,
              "#46039f"
             ],
             [
              0.2222222222222222,
              "#7201a8"
             ],
             [
              0.3333333333333333,
              "#9c179e"
             ],
             [
              0.4444444444444444,
              "#bd3786"
             ],
             [
              0.5555555555555556,
              "#d8576b"
             ],
             [
              0.6666666666666666,
              "#ed7953"
             ],
             [
              0.7777777777777778,
              "#fb9f3a"
             ],
             [
              0.8888888888888888,
              "#fdca26"
             ],
             [
              1,
              "#f0f921"
             ]
            ],
            "type": "surface"
           }
          ],
          "table": [
           {
            "cells": {
             "fill": {
              "color": "#EBF0F8"
             },
             "line": {
              "color": "white"
             }
            },
            "header": {
             "fill": {
              "color": "#C8D4E3"
             },
             "line": {
              "color": "white"
             }
            },
            "type": "table"
           }
          ]
         },
         "layout": {
          "annotationdefaults": {
           "arrowcolor": "#2a3f5f",
           "arrowhead": 0,
           "arrowwidth": 1
          },
          "autotypenumbers": "strict",
          "coloraxis": {
           "colorbar": {
            "outlinewidth": 0,
            "ticks": ""
           }
          },
          "colorscale": {
           "diverging": [
            [
             0,
             "#8e0152"
            ],
            [
             0.1,
             "#c51b7d"
            ],
            [
             0.2,
             "#de77ae"
            ],
            [
             0.3,
             "#f1b6da"
            ],
            [
             0.4,
             "#fde0ef"
            ],
            [
             0.5,
             "#f7f7f7"
            ],
            [
             0.6,
             "#e6f5d0"
            ],
            [
             0.7,
             "#b8e186"
            ],
            [
             0.8,
             "#7fbc41"
            ],
            [
             0.9,
             "#4d9221"
            ],
            [
             1,
             "#276419"
            ]
           ],
           "sequential": [
            [
             0,
             "#0d0887"
            ],
            [
             0.1111111111111111,
             "#46039f"
            ],
            [
             0.2222222222222222,
             "#7201a8"
            ],
            [
             0.3333333333333333,
             "#9c179e"
            ],
            [
             0.4444444444444444,
             "#bd3786"
            ],
            [
             0.5555555555555556,
             "#d8576b"
            ],
            [
             0.6666666666666666,
             "#ed7953"
            ],
            [
             0.7777777777777778,
             "#fb9f3a"
            ],
            [
             0.8888888888888888,
             "#fdca26"
            ],
            [
             1,
             "#f0f921"
            ]
           ],
           "sequentialminus": [
            [
             0,
             "#0d0887"
            ],
            [
             0.1111111111111111,
             "#46039f"
            ],
            [
             0.2222222222222222,
             "#7201a8"
            ],
            [
             0.3333333333333333,
             "#9c179e"
            ],
            [
             0.4444444444444444,
             "#bd3786"
            ],
            [
             0.5555555555555556,
             "#d8576b"
            ],
            [
             0.6666666666666666,
             "#ed7953"
            ],
            [
             0.7777777777777778,
             "#fb9f3a"
            ],
            [
             0.8888888888888888,
             "#fdca26"
            ],
            [
             1,
             "#f0f921"
            ]
           ]
          },
          "colorway": [
           "#636efa",
           "#EF553B",
           "#00cc96",
           "#ab63fa",
           "#FFA15A",
           "#19d3f3",
           "#FF6692",
           "#B6E880",
           "#FF97FF",
           "#FECB52"
          ],
          "font": {
           "color": "#2a3f5f"
          },
          "geo": {
           "bgcolor": "white",
           "lakecolor": "white",
           "landcolor": "#E5ECF6",
           "showlakes": true,
           "showland": true,
           "subunitcolor": "white"
          },
          "hoverlabel": {
           "align": "left"
          },
          "hovermode": "closest",
          "mapbox": {
           "style": "light"
          },
          "paper_bgcolor": "white",
          "plot_bgcolor": "#E5ECF6",
          "polar": {
           "angularaxis": {
            "gridcolor": "white",
            "linecolor": "white",
            "ticks": ""
           },
           "bgcolor": "#E5ECF6",
           "radialaxis": {
            "gridcolor": "white",
            "linecolor": "white",
            "ticks": ""
           }
          },
          "scene": {
           "xaxis": {
            "backgroundcolor": "#E5ECF6",
            "gridcolor": "white",
            "gridwidth": 2,
            "linecolor": "white",
            "showbackground": true,
            "ticks": "",
            "zerolinecolor": "white"
           },
           "yaxis": {
            "backgroundcolor": "#E5ECF6",
            "gridcolor": "white",
            "gridwidth": 2,
            "linecolor": "white",
            "showbackground": true,
            "ticks": "",
            "zerolinecolor": "white"
           },
           "zaxis": {
            "backgroundcolor": "#E5ECF6",
            "gridcolor": "white",
            "gridwidth": 2,
            "linecolor": "white",
            "showbackground": true,
            "ticks": "",
            "zerolinecolor": "white"
           }
          },
          "shapedefaults": {
           "line": {
            "color": "#2a3f5f"
           }
          },
          "ternary": {
           "aaxis": {
            "gridcolor": "white",
            "linecolor": "white",
            "ticks": ""
           },
           "baxis": {
            "gridcolor": "white",
            "linecolor": "white",
            "ticks": ""
           },
           "bgcolor": "#E5ECF6",
           "caxis": {
            "gridcolor": "white",
            "linecolor": "white",
            "ticks": ""
           }
          },
          "title": {
           "x": 0.05
          },
          "xaxis": {
           "automargin": true,
           "gridcolor": "white",
           "linecolor": "white",
           "ticks": "",
           "title": {
            "standoff": 15
           },
           "zerolinecolor": "white",
           "zerolinewidth": 2
          },
          "yaxis": {
           "automargin": true,
           "gridcolor": "white",
           "linecolor": "white",
           "ticks": "",
           "title": {
            "standoff": 15
           },
           "zerolinecolor": "white",
           "zerolinewidth": 2
          }
         }
        },
        "title": {
         "text": "Evolution of Average Arrival Delay For Each Carrier Month-over-Month Over All Years"
        },
        "width": 900,
        "xaxis": {
         "tickformat": "d",
         "title": {
          "text": "Month"
         },
         "zeroline": false
        },
        "yaxis": {
         "tickformat": "d",
         "title": {
          "text": "Flight Delay (Minutes)"
         }
        }
       }
      }
     },
     "metadata": {},
     "output_type": "display_data"
    }
   ],
   "source": [
    "dfpandasaverageDepartureArrivalDelayPerMonthPerCarier = averageDepartureArrivalDelayPerMonthPerCarier.toPandas()\n",
    "months = [\"January\", \"February\", \"March\", \"April\", \"May\", \"June\", \n",
    "          \"July\", \"August\", \"September\", \"October\", \"November\", \"December\"]\n",
    "\n",
    "traces = []\n",
    "changePerCarrierMap = dict()\n",
    "        \n",
    "for i in range(len(dfpandasaverageDepartureArrivalDelayPerMonthPerCarier['OP_CARRIER'])):\n",
    "    if not dfpandasaverageDepartureArrivalDelayPerMonthPerCarier['OP_CARRIER'][i] in changePerCarrierMap:\n",
    "        changePerCarrierMap[dfpandasaverageDepartureArrivalDelayPerMonthPerCarier['OP_CARRIER'][i]] = []\n",
    "        \n",
    "    changePerCarrierMap[dfpandasaverageDepartureArrivalDelayPerMonthPerCarier['OP_CARRIER'][i]].append(dfpandasaverageDepartureArrivalDelayPerMonthPerCarier['AverageArrivalDelayPerMonth'][i])\n",
    "    \n",
    "for key in changePerCarrierMap:\n",
    "    traces.append(go.Scatter(\n",
    "        y = changePerCarrierMap[key],\n",
    "        x = months,\n",
    "        mode = 'lines+markers',\n",
    "        name = key))\n",
    "                  \n",
    "layout = dict(title = 'Evolution of Average Arrival Delay For Each Carrier Month-over-Month Over All Years',\n",
    "              xaxis= dict(title= 'Month',zeroline= False,tickformat='d'),\n",
    "              yaxis= dict(title= 'Flight Delay (Minutes)',tickformat='d'),\n",
    "              height= 650,\n",
    "              width= 900\n",
    "             )\n",
    "\n",
    "fig = dict(data = traces, layout = layout)\n",
    "\n",
    "pyo.iplot(fig)"
   ]
  },
  {
   "cell_type": "code",
   "execution_count": 84,
   "metadata": {},
   "outputs": [
    {
     "name": "stdout",
     "output_type": "stream",
     "text": [
      "+-----+---------------------------------+-------------------------------+\n",
      "|Month|DepartureImmediaciesCountPerMonth|ArrivalImmediaciesCountPerMonth|\n",
      "+-----+---------------------------------+-------------------------------+\n",
      "|    1|               58.266653569464964|              61.64927876711674|\n",
      "|    2|                61.87064481303366|              64.71877013172838|\n",
      "|    3|                 59.2748903909968|               61.7452234782928|\n",
      "|    4|               61.248947414982254|              63.16224389828342|\n",
      "|    5|               59.112596927393724|              61.89778623204434|\n",
      "|    6|               54.689272282251814|              57.94759765586134|\n",
      "|    7|               54.390322218506945|              57.75193049843496|\n",
      "|    8|                 56.1293787432619|              58.35270168028348|\n",
      "|    9|                  65.109040293353|              66.62749424085305|\n",
      "|   10|                63.72628024818236|              65.49667075543633|\n",
      "|   11|                63.16401100264337|              66.46735216371461|\n",
      "|   12|                56.30133324906714|              59.99311387258426|\n",
      "+-----+---------------------------------+-------------------------------+\n",
      "\n"
     ]
    }
   ],
   "source": [
    "numberOfDelaysPerMonth = spark.sql(\"SELECT EXTRACT(month from FL_DATE) AS Month, \\\n",
    "SUM(CASE WHEN DEP_DELAY<0 THEN 1 ELSE 0 END) / COUNT(*)*100 AS DepartureImmediaciesCountPerMonth, \\\n",
    "SUM(CASE WHEN ARR_DELAY<0 THEN 1 ELSE 0 END) / COUNT(*)*100 AS ArrivalImmediaciesCountPerMonth \\\n",
    "FROM airlinedelay GROUP BY Month ORDER BY Month\")\n",
    "numberOfDelaysPerMonth.show()"
   ]
  },
  {
   "cell_type": "code",
   "execution_count": 85,
   "metadata": {},
   "outputs": [
    {
     "data": {
      "application/vnd.plotly.v1+json": {
       "config": {
        "linkText": "Export to plot.ly",
        "plotlyServerURL": "https://plot.ly",
        "showLink": false
       },
       "data": [
        {
         "marker": {
          "color": "orange"
         },
         "name": "Departure Delay Percentage",
         "text": [
          58,
          62,
          59,
          61,
          59,
          55,
          54,
          56,
          65,
          64,
          63,
          56
         ],
         "type": "bar",
         "x": [
          "January",
          "February",
          "March",
          "April",
          "May",
          "June",
          "July",
          "August",
          "September",
          "October",
          "November",
          "December"
         ],
         "y": [
          58.266653569464964,
          61.87064481303366,
          59.2748903909968,
          61.248947414982254,
          59.112596927393724,
          54.689272282251814,
          54.390322218506945,
          56.1293787432619,
          65.109040293353,
          63.72628024818236,
          63.16401100264337,
          56.30133324906714
         ]
        }
       ],
       "layout": {
        "height": 450,
        "template": {
         "data": {
          "bar": [
           {
            "error_x": {
             "color": "#2a3f5f"
            },
            "error_y": {
             "color": "#2a3f5f"
            },
            "marker": {
             "line": {
              "color": "#E5ECF6",
              "width": 0.5
             }
            },
            "type": "bar"
           }
          ],
          "barpolar": [
           {
            "marker": {
             "line": {
              "color": "#E5ECF6",
              "width": 0.5
             }
            },
            "type": "barpolar"
           }
          ],
          "carpet": [
           {
            "aaxis": {
             "endlinecolor": "#2a3f5f",
             "gridcolor": "white",
             "linecolor": "white",
             "minorgridcolor": "white",
             "startlinecolor": "#2a3f5f"
            },
            "baxis": {
             "endlinecolor": "#2a3f5f",
             "gridcolor": "white",
             "linecolor": "white",
             "minorgridcolor": "white",
             "startlinecolor": "#2a3f5f"
            },
            "type": "carpet"
           }
          ],
          "choropleth": [
           {
            "colorbar": {
             "outlinewidth": 0,
             "ticks": ""
            },
            "type": "choropleth"
           }
          ],
          "contour": [
           {
            "colorbar": {
             "outlinewidth": 0,
             "ticks": ""
            },
            "colorscale": [
             [
              0,
              "#0d0887"
             ],
             [
              0.1111111111111111,
              "#46039f"
             ],
             [
              0.2222222222222222,
              "#7201a8"
             ],
             [
              0.3333333333333333,
              "#9c179e"
             ],
             [
              0.4444444444444444,
              "#bd3786"
             ],
             [
              0.5555555555555556,
              "#d8576b"
             ],
             [
              0.6666666666666666,
              "#ed7953"
             ],
             [
              0.7777777777777778,
              "#fb9f3a"
             ],
             [
              0.8888888888888888,
              "#fdca26"
             ],
             [
              1,
              "#f0f921"
             ]
            ],
            "type": "contour"
           }
          ],
          "contourcarpet": [
           {
            "colorbar": {
             "outlinewidth": 0,
             "ticks": ""
            },
            "type": "contourcarpet"
           }
          ],
          "heatmap": [
           {
            "colorbar": {
             "outlinewidth": 0,
             "ticks": ""
            },
            "colorscale": [
             [
              0,
              "#0d0887"
             ],
             [
              0.1111111111111111,
              "#46039f"
             ],
             [
              0.2222222222222222,
              "#7201a8"
             ],
             [
              0.3333333333333333,
              "#9c179e"
             ],
             [
              0.4444444444444444,
              "#bd3786"
             ],
             [
              0.5555555555555556,
              "#d8576b"
             ],
             [
              0.6666666666666666,
              "#ed7953"
             ],
             [
              0.7777777777777778,
              "#fb9f3a"
             ],
             [
              0.8888888888888888,
              "#fdca26"
             ],
             [
              1,
              "#f0f921"
             ]
            ],
            "type": "heatmap"
           }
          ],
          "heatmapgl": [
           {
            "colorbar": {
             "outlinewidth": 0,
             "ticks": ""
            },
            "colorscale": [
             [
              0,
              "#0d0887"
             ],
             [
              0.1111111111111111,
              "#46039f"
             ],
             [
              0.2222222222222222,
              "#7201a8"
             ],
             [
              0.3333333333333333,
              "#9c179e"
             ],
             [
              0.4444444444444444,
              "#bd3786"
             ],
             [
              0.5555555555555556,
              "#d8576b"
             ],
             [
              0.6666666666666666,
              "#ed7953"
             ],
             [
              0.7777777777777778,
              "#fb9f3a"
             ],
             [
              0.8888888888888888,
              "#fdca26"
             ],
             [
              1,
              "#f0f921"
             ]
            ],
            "type": "heatmapgl"
           }
          ],
          "histogram": [
           {
            "marker": {
             "colorbar": {
              "outlinewidth": 0,
              "ticks": ""
             }
            },
            "type": "histogram"
           }
          ],
          "histogram2d": [
           {
            "colorbar": {
             "outlinewidth": 0,
             "ticks": ""
            },
            "colorscale": [
             [
              0,
              "#0d0887"
             ],
             [
              0.1111111111111111,
              "#46039f"
             ],
             [
              0.2222222222222222,
              "#7201a8"
             ],
             [
              0.3333333333333333,
              "#9c179e"
             ],
             [
              0.4444444444444444,
              "#bd3786"
             ],
             [
              0.5555555555555556,
              "#d8576b"
             ],
             [
              0.6666666666666666,
              "#ed7953"
             ],
             [
              0.7777777777777778,
              "#fb9f3a"
             ],
             [
              0.8888888888888888,
              "#fdca26"
             ],
             [
              1,
              "#f0f921"
             ]
            ],
            "type": "histogram2d"
           }
          ],
          "histogram2dcontour": [
           {
            "colorbar": {
             "outlinewidth": 0,
             "ticks": ""
            },
            "colorscale": [
             [
              0,
              "#0d0887"
             ],
             [
              0.1111111111111111,
              "#46039f"
             ],
             [
              0.2222222222222222,
              "#7201a8"
             ],
             [
              0.3333333333333333,
              "#9c179e"
             ],
             [
              0.4444444444444444,
              "#bd3786"
             ],
             [
              0.5555555555555556,
              "#d8576b"
             ],
             [
              0.6666666666666666,
              "#ed7953"
             ],
             [
              0.7777777777777778,
              "#fb9f3a"
             ],
             [
              0.8888888888888888,
              "#fdca26"
             ],
             [
              1,
              "#f0f921"
             ]
            ],
            "type": "histogram2dcontour"
           }
          ],
          "mesh3d": [
           {
            "colorbar": {
             "outlinewidth": 0,
             "ticks": ""
            },
            "type": "mesh3d"
           }
          ],
          "parcoords": [
           {
            "line": {
             "colorbar": {
              "outlinewidth": 0,
              "ticks": ""
             }
            },
            "type": "parcoords"
           }
          ],
          "pie": [
           {
            "automargin": true,
            "type": "pie"
           }
          ],
          "scatter": [
           {
            "marker": {
             "colorbar": {
              "outlinewidth": 0,
              "ticks": ""
             }
            },
            "type": "scatter"
           }
          ],
          "scatter3d": [
           {
            "line": {
             "colorbar": {
              "outlinewidth": 0,
              "ticks": ""
             }
            },
            "marker": {
             "colorbar": {
              "outlinewidth": 0,
              "ticks": ""
             }
            },
            "type": "scatter3d"
           }
          ],
          "scattercarpet": [
           {
            "marker": {
             "colorbar": {
              "outlinewidth": 0,
              "ticks": ""
             }
            },
            "type": "scattercarpet"
           }
          ],
          "scattergeo": [
           {
            "marker": {
             "colorbar": {
              "outlinewidth": 0,
              "ticks": ""
             }
            },
            "type": "scattergeo"
           }
          ],
          "scattergl": [
           {
            "marker": {
             "colorbar": {
              "outlinewidth": 0,
              "ticks": ""
             }
            },
            "type": "scattergl"
           }
          ],
          "scattermapbox": [
           {
            "marker": {
             "colorbar": {
              "outlinewidth": 0,
              "ticks": ""
             }
            },
            "type": "scattermapbox"
           }
          ],
          "scatterpolar": [
           {
            "marker": {
             "colorbar": {
              "outlinewidth": 0,
              "ticks": ""
             }
            },
            "type": "scatterpolar"
           }
          ],
          "scatterpolargl": [
           {
            "marker": {
             "colorbar": {
              "outlinewidth": 0,
              "ticks": ""
             }
            },
            "type": "scatterpolargl"
           }
          ],
          "scatterternary": [
           {
            "marker": {
             "colorbar": {
              "outlinewidth": 0,
              "ticks": ""
             }
            },
            "type": "scatterternary"
           }
          ],
          "surface": [
           {
            "colorbar": {
             "outlinewidth": 0,
             "ticks": ""
            },
            "colorscale": [
             [
              0,
              "#0d0887"
             ],
             [
              0.1111111111111111,
              "#46039f"
             ],
             [
              0.2222222222222222,
              "#7201a8"
             ],
             [
              0.3333333333333333,
              "#9c179e"
             ],
             [
              0.4444444444444444,
              "#bd3786"
             ],
             [
              0.5555555555555556,
              "#d8576b"
             ],
             [
              0.6666666666666666,
              "#ed7953"
             ],
             [
              0.7777777777777778,
              "#fb9f3a"
             ],
             [
              0.8888888888888888,
              "#fdca26"
             ],
             [
              1,
              "#f0f921"
             ]
            ],
            "type": "surface"
           }
          ],
          "table": [
           {
            "cells": {
             "fill": {
              "color": "#EBF0F8"
             },
             "line": {
              "color": "white"
             }
            },
            "header": {
             "fill": {
              "color": "#C8D4E3"
             },
             "line": {
              "color": "white"
             }
            },
            "type": "table"
           }
          ]
         },
         "layout": {
          "annotationdefaults": {
           "arrowcolor": "#2a3f5f",
           "arrowhead": 0,
           "arrowwidth": 1
          },
          "autotypenumbers": "strict",
          "coloraxis": {
           "colorbar": {
            "outlinewidth": 0,
            "ticks": ""
           }
          },
          "colorscale": {
           "diverging": [
            [
             0,
             "#8e0152"
            ],
            [
             0.1,
             "#c51b7d"
            ],
            [
             0.2,
             "#de77ae"
            ],
            [
             0.3,
             "#f1b6da"
            ],
            [
             0.4,
             "#fde0ef"
            ],
            [
             0.5,
             "#f7f7f7"
            ],
            [
             0.6,
             "#e6f5d0"
            ],
            [
             0.7,
             "#b8e186"
            ],
            [
             0.8,
             "#7fbc41"
            ],
            [
             0.9,
             "#4d9221"
            ],
            [
             1,
             "#276419"
            ]
           ],
           "sequential": [
            [
             0,
             "#0d0887"
            ],
            [
             0.1111111111111111,
             "#46039f"
            ],
            [
             0.2222222222222222,
             "#7201a8"
            ],
            [
             0.3333333333333333,
             "#9c179e"
            ],
            [
             0.4444444444444444,
             "#bd3786"
            ],
            [
             0.5555555555555556,
             "#d8576b"
            ],
            [
             0.6666666666666666,
             "#ed7953"
            ],
            [
             0.7777777777777778,
             "#fb9f3a"
            ],
            [
             0.8888888888888888,
             "#fdca26"
            ],
            [
             1,
             "#f0f921"
            ]
           ],
           "sequentialminus": [
            [
             0,
             "#0d0887"
            ],
            [
             0.1111111111111111,
             "#46039f"
            ],
            [
             0.2222222222222222,
             "#7201a8"
            ],
            [
             0.3333333333333333,
             "#9c179e"
            ],
            [
             0.4444444444444444,
             "#bd3786"
            ],
            [
             0.5555555555555556,
             "#d8576b"
            ],
            [
             0.6666666666666666,
             "#ed7953"
            ],
            [
             0.7777777777777778,
             "#fb9f3a"
            ],
            [
             0.8888888888888888,
             "#fdca26"
            ],
            [
             1,
             "#f0f921"
            ]
           ]
          },
          "colorway": [
           "#636efa",
           "#EF553B",
           "#00cc96",
           "#ab63fa",
           "#FFA15A",
           "#19d3f3",
           "#FF6692",
           "#B6E880",
           "#FF97FF",
           "#FECB52"
          ],
          "font": {
           "color": "#2a3f5f"
          },
          "geo": {
           "bgcolor": "white",
           "lakecolor": "white",
           "landcolor": "#E5ECF6",
           "showlakes": true,
           "showland": true,
           "subunitcolor": "white"
          },
          "hoverlabel": {
           "align": "left"
          },
          "hovermode": "closest",
          "mapbox": {
           "style": "light"
          },
          "paper_bgcolor": "white",
          "plot_bgcolor": "#E5ECF6",
          "polar": {
           "angularaxis": {
            "gridcolor": "white",
            "linecolor": "white",
            "ticks": ""
           },
           "bgcolor": "#E5ECF6",
           "radialaxis": {
            "gridcolor": "white",
            "linecolor": "white",
            "ticks": ""
           }
          },
          "scene": {
           "xaxis": {
            "backgroundcolor": "#E5ECF6",
            "gridcolor": "white",
            "gridwidth": 2,
            "linecolor": "white",
            "showbackground": true,
            "ticks": "",
            "zerolinecolor": "white"
           },
           "yaxis": {
            "backgroundcolor": "#E5ECF6",
            "gridcolor": "white",
            "gridwidth": 2,
            "linecolor": "white",
            "showbackground": true,
            "ticks": "",
            "zerolinecolor": "white"
           },
           "zaxis": {
            "backgroundcolor": "#E5ECF6",
            "gridcolor": "white",
            "gridwidth": 2,
            "linecolor": "white",
            "showbackground": true,
            "ticks": "",
            "zerolinecolor": "white"
           }
          },
          "shapedefaults": {
           "line": {
            "color": "#2a3f5f"
           }
          },
          "ternary": {
           "aaxis": {
            "gridcolor": "white",
            "linecolor": "white",
            "ticks": ""
           },
           "baxis": {
            "gridcolor": "white",
            "linecolor": "white",
            "ticks": ""
           },
           "bgcolor": "#E5ECF6",
           "caxis": {
            "gridcolor": "white",
            "linecolor": "white",
            "ticks": ""
           }
          },
          "title": {
           "x": 0.05
          },
          "xaxis": {
           "automargin": true,
           "gridcolor": "white",
           "linecolor": "white",
           "ticks": "",
           "title": {
            "standoff": 15
           },
           "zerolinecolor": "white",
           "zerolinewidth": 2
          },
          "yaxis": {
           "automargin": true,
           "gridcolor": "white",
           "linecolor": "white",
           "ticks": "",
           "title": {
            "standoff": 15
           },
           "zerolinecolor": "white",
           "zerolinewidth": 2
          }
         }
        },
        "title": {
         "text": "Departure Haste Percentage Relative to Total Departures Month-Over-Month"
        },
        "width": 900,
        "xaxis": {
         "tickformat": "d",
         "ticklen": 5,
         "title": {
          "text": "Month"
         },
         "zeroline": false
        },
        "yaxis": {
         "title": {
          "text": "Percentage of Flights"
         }
        }
       }
      }
     },
     "metadata": {},
     "output_type": "display_data"
    }
   ],
   "source": [
    "months = [\"January\", \"February\", \"March\", \"April\", \"May\", \"June\", \n",
    "          \"July\", \"August\", \"September\", \"October\", \"November\", \"December\"]\n",
    "numberOfDelaysPerMonthBar = go.Bar(\n",
    "    x = months,\n",
    "    y = numberOfDelaysPerMonth.toPandas()['DepartureImmediaciesCountPerMonth'],\n",
    "    name = 'Departure Delay Percentage',\n",
    "    marker = dict(color='orange'),\n",
    "    text = round(numberOfDelaysPerMonth.toPandas()['DepartureImmediaciesCountPerMonth']))\n",
    "\n",
    "data = [numberOfDelaysPerMonthBar]\n",
    "\n",
    "layout = dict(title = 'Departure Haste Percentage Relative to Total Departures Month-Over-Month',\n",
    "              xaxis= dict(title= 'Month',ticklen= 5,zeroline= False,tickformat='d'),\n",
    "              yaxis= dict(title= 'Percentage of Flights'),\n",
    "              height= 450,\n",
    "              width= 900\n",
    "             )\n",
    "fig = dict(data = data, layout = layout)\n",
    "\n",
    "pyo.iplot(fig)"
   ]
  },
  {
   "cell_type": "code",
   "execution_count": 86,
   "metadata": {},
   "outputs": [
    {
     "data": {
      "application/vnd.plotly.v1+json": {
       "config": {
        "linkText": "Export to plot.ly",
        "plotlyServerURL": "https://plot.ly",
        "showLink": false
       },
       "data": [
        {
         "marker": {
          "color": "brown"
         },
         "name": "Departure Delay Percentage",
         "text": [
          62,
          65,
          62,
          63,
          62,
          58,
          58,
          58,
          67,
          65,
          66,
          60
         ],
         "type": "bar",
         "x": [
          "January",
          "February",
          "March",
          "April",
          "May",
          "June",
          "July",
          "August",
          "September",
          "October",
          "November",
          "December"
         ],
         "y": [
          61.64927876711674,
          64.71877013172838,
          61.7452234782928,
          63.16224389828342,
          61.89778623204434,
          57.94759765586134,
          57.75193049843496,
          58.35270168028348,
          66.62749424085305,
          65.49667075543633,
          66.46735216371461,
          59.99311387258426
         ]
        }
       ],
       "layout": {
        "height": 450,
        "template": {
         "data": {
          "bar": [
           {
            "error_x": {
             "color": "#2a3f5f"
            },
            "error_y": {
             "color": "#2a3f5f"
            },
            "marker": {
             "line": {
              "color": "#E5ECF6",
              "width": 0.5
             }
            },
            "type": "bar"
           }
          ],
          "barpolar": [
           {
            "marker": {
             "line": {
              "color": "#E5ECF6",
              "width": 0.5
             }
            },
            "type": "barpolar"
           }
          ],
          "carpet": [
           {
            "aaxis": {
             "endlinecolor": "#2a3f5f",
             "gridcolor": "white",
             "linecolor": "white",
             "minorgridcolor": "white",
             "startlinecolor": "#2a3f5f"
            },
            "baxis": {
             "endlinecolor": "#2a3f5f",
             "gridcolor": "white",
             "linecolor": "white",
             "minorgridcolor": "white",
             "startlinecolor": "#2a3f5f"
            },
            "type": "carpet"
           }
          ],
          "choropleth": [
           {
            "colorbar": {
             "outlinewidth": 0,
             "ticks": ""
            },
            "type": "choropleth"
           }
          ],
          "contour": [
           {
            "colorbar": {
             "outlinewidth": 0,
             "ticks": ""
            },
            "colorscale": [
             [
              0,
              "#0d0887"
             ],
             [
              0.1111111111111111,
              "#46039f"
             ],
             [
              0.2222222222222222,
              "#7201a8"
             ],
             [
              0.3333333333333333,
              "#9c179e"
             ],
             [
              0.4444444444444444,
              "#bd3786"
             ],
             [
              0.5555555555555556,
              "#d8576b"
             ],
             [
              0.6666666666666666,
              "#ed7953"
             ],
             [
              0.7777777777777778,
              "#fb9f3a"
             ],
             [
              0.8888888888888888,
              "#fdca26"
             ],
             [
              1,
              "#f0f921"
             ]
            ],
            "type": "contour"
           }
          ],
          "contourcarpet": [
           {
            "colorbar": {
             "outlinewidth": 0,
             "ticks": ""
            },
            "type": "contourcarpet"
           }
          ],
          "heatmap": [
           {
            "colorbar": {
             "outlinewidth": 0,
             "ticks": ""
            },
            "colorscale": [
             [
              0,
              "#0d0887"
             ],
             [
              0.1111111111111111,
              "#46039f"
             ],
             [
              0.2222222222222222,
              "#7201a8"
             ],
             [
              0.3333333333333333,
              "#9c179e"
             ],
             [
              0.4444444444444444,
              "#bd3786"
             ],
             [
              0.5555555555555556,
              "#d8576b"
             ],
             [
              0.6666666666666666,
              "#ed7953"
             ],
             [
              0.7777777777777778,
              "#fb9f3a"
             ],
             [
              0.8888888888888888,
              "#fdca26"
             ],
             [
              1,
              "#f0f921"
             ]
            ],
            "type": "heatmap"
           }
          ],
          "heatmapgl": [
           {
            "colorbar": {
             "outlinewidth": 0,
             "ticks": ""
            },
            "colorscale": [
             [
              0,
              "#0d0887"
             ],
             [
              0.1111111111111111,
              "#46039f"
             ],
             [
              0.2222222222222222,
              "#7201a8"
             ],
             [
              0.3333333333333333,
              "#9c179e"
             ],
             [
              0.4444444444444444,
              "#bd3786"
             ],
             [
              0.5555555555555556,
              "#d8576b"
             ],
             [
              0.6666666666666666,
              "#ed7953"
             ],
             [
              0.7777777777777778,
              "#fb9f3a"
             ],
             [
              0.8888888888888888,
              "#fdca26"
             ],
             [
              1,
              "#f0f921"
             ]
            ],
            "type": "heatmapgl"
           }
          ],
          "histogram": [
           {
            "marker": {
             "colorbar": {
              "outlinewidth": 0,
              "ticks": ""
             }
            },
            "type": "histogram"
           }
          ],
          "histogram2d": [
           {
            "colorbar": {
             "outlinewidth": 0,
             "ticks": ""
            },
            "colorscale": [
             [
              0,
              "#0d0887"
             ],
             [
              0.1111111111111111,
              "#46039f"
             ],
             [
              0.2222222222222222,
              "#7201a8"
             ],
             [
              0.3333333333333333,
              "#9c179e"
             ],
             [
              0.4444444444444444,
              "#bd3786"
             ],
             [
              0.5555555555555556,
              "#d8576b"
             ],
             [
              0.6666666666666666,
              "#ed7953"
             ],
             [
              0.7777777777777778,
              "#fb9f3a"
             ],
             [
              0.8888888888888888,
              "#fdca26"
             ],
             [
              1,
              "#f0f921"
             ]
            ],
            "type": "histogram2d"
           }
          ],
          "histogram2dcontour": [
           {
            "colorbar": {
             "outlinewidth": 0,
             "ticks": ""
            },
            "colorscale": [
             [
              0,
              "#0d0887"
             ],
             [
              0.1111111111111111,
              "#46039f"
             ],
             [
              0.2222222222222222,
              "#7201a8"
             ],
             [
              0.3333333333333333,
              "#9c179e"
             ],
             [
              0.4444444444444444,
              "#bd3786"
             ],
             [
              0.5555555555555556,
              "#d8576b"
             ],
             [
              0.6666666666666666,
              "#ed7953"
             ],
             [
              0.7777777777777778,
              "#fb9f3a"
             ],
             [
              0.8888888888888888,
              "#fdca26"
             ],
             [
              1,
              "#f0f921"
             ]
            ],
            "type": "histogram2dcontour"
           }
          ],
          "mesh3d": [
           {
            "colorbar": {
             "outlinewidth": 0,
             "ticks": ""
            },
            "type": "mesh3d"
           }
          ],
          "parcoords": [
           {
            "line": {
             "colorbar": {
              "outlinewidth": 0,
              "ticks": ""
             }
            },
            "type": "parcoords"
           }
          ],
          "pie": [
           {
            "automargin": true,
            "type": "pie"
           }
          ],
          "scatter": [
           {
            "marker": {
             "colorbar": {
              "outlinewidth": 0,
              "ticks": ""
             }
            },
            "type": "scatter"
           }
          ],
          "scatter3d": [
           {
            "line": {
             "colorbar": {
              "outlinewidth": 0,
              "ticks": ""
             }
            },
            "marker": {
             "colorbar": {
              "outlinewidth": 0,
              "ticks": ""
             }
            },
            "type": "scatter3d"
           }
          ],
          "scattercarpet": [
           {
            "marker": {
             "colorbar": {
              "outlinewidth": 0,
              "ticks": ""
             }
            },
            "type": "scattercarpet"
           }
          ],
          "scattergeo": [
           {
            "marker": {
             "colorbar": {
              "outlinewidth": 0,
              "ticks": ""
             }
            },
            "type": "scattergeo"
           }
          ],
          "scattergl": [
           {
            "marker": {
             "colorbar": {
              "outlinewidth": 0,
              "ticks": ""
             }
            },
            "type": "scattergl"
           }
          ],
          "scattermapbox": [
           {
            "marker": {
             "colorbar": {
              "outlinewidth": 0,
              "ticks": ""
             }
            },
            "type": "scattermapbox"
           }
          ],
          "scatterpolar": [
           {
            "marker": {
             "colorbar": {
              "outlinewidth": 0,
              "ticks": ""
             }
            },
            "type": "scatterpolar"
           }
          ],
          "scatterpolargl": [
           {
            "marker": {
             "colorbar": {
              "outlinewidth": 0,
              "ticks": ""
             }
            },
            "type": "scatterpolargl"
           }
          ],
          "scatterternary": [
           {
            "marker": {
             "colorbar": {
              "outlinewidth": 0,
              "ticks": ""
             }
            },
            "type": "scatterternary"
           }
          ],
          "surface": [
           {
            "colorbar": {
             "outlinewidth": 0,
             "ticks": ""
            },
            "colorscale": [
             [
              0,
              "#0d0887"
             ],
             [
              0.1111111111111111,
              "#46039f"
             ],
             [
              0.2222222222222222,
              "#7201a8"
             ],
             [
              0.3333333333333333,
              "#9c179e"
             ],
             [
              0.4444444444444444,
              "#bd3786"
             ],
             [
              0.5555555555555556,
              "#d8576b"
             ],
             [
              0.6666666666666666,
              "#ed7953"
             ],
             [
              0.7777777777777778,
              "#fb9f3a"
             ],
             [
              0.8888888888888888,
              "#fdca26"
             ],
             [
              1,
              "#f0f921"
             ]
            ],
            "type": "surface"
           }
          ],
          "table": [
           {
            "cells": {
             "fill": {
              "color": "#EBF0F8"
             },
             "line": {
              "color": "white"
             }
            },
            "header": {
             "fill": {
              "color": "#C8D4E3"
             },
             "line": {
              "color": "white"
             }
            },
            "type": "table"
           }
          ]
         },
         "layout": {
          "annotationdefaults": {
           "arrowcolor": "#2a3f5f",
           "arrowhead": 0,
           "arrowwidth": 1
          },
          "autotypenumbers": "strict",
          "coloraxis": {
           "colorbar": {
            "outlinewidth": 0,
            "ticks": ""
           }
          },
          "colorscale": {
           "diverging": [
            [
             0,
             "#8e0152"
            ],
            [
             0.1,
             "#c51b7d"
            ],
            [
             0.2,
             "#de77ae"
            ],
            [
             0.3,
             "#f1b6da"
            ],
            [
             0.4,
             "#fde0ef"
            ],
            [
             0.5,
             "#f7f7f7"
            ],
            [
             0.6,
             "#e6f5d0"
            ],
            [
             0.7,
             "#b8e186"
            ],
            [
             0.8,
             "#7fbc41"
            ],
            [
             0.9,
             "#4d9221"
            ],
            [
             1,
             "#276419"
            ]
           ],
           "sequential": [
            [
             0,
             "#0d0887"
            ],
            [
             0.1111111111111111,
             "#46039f"
            ],
            [
             0.2222222222222222,
             "#7201a8"
            ],
            [
             0.3333333333333333,
             "#9c179e"
            ],
            [
             0.4444444444444444,
             "#bd3786"
            ],
            [
             0.5555555555555556,
             "#d8576b"
            ],
            [
             0.6666666666666666,
             "#ed7953"
            ],
            [
             0.7777777777777778,
             "#fb9f3a"
            ],
            [
             0.8888888888888888,
             "#fdca26"
            ],
            [
             1,
             "#f0f921"
            ]
           ],
           "sequentialminus": [
            [
             0,
             "#0d0887"
            ],
            [
             0.1111111111111111,
             "#46039f"
            ],
            [
             0.2222222222222222,
             "#7201a8"
            ],
            [
             0.3333333333333333,
             "#9c179e"
            ],
            [
             0.4444444444444444,
             "#bd3786"
            ],
            [
             0.5555555555555556,
             "#d8576b"
            ],
            [
             0.6666666666666666,
             "#ed7953"
            ],
            [
             0.7777777777777778,
             "#fb9f3a"
            ],
            [
             0.8888888888888888,
             "#fdca26"
            ],
            [
             1,
             "#f0f921"
            ]
           ]
          },
          "colorway": [
           "#636efa",
           "#EF553B",
           "#00cc96",
           "#ab63fa",
           "#FFA15A",
           "#19d3f3",
           "#FF6692",
           "#B6E880",
           "#FF97FF",
           "#FECB52"
          ],
          "font": {
           "color": "#2a3f5f"
          },
          "geo": {
           "bgcolor": "white",
           "lakecolor": "white",
           "landcolor": "#E5ECF6",
           "showlakes": true,
           "showland": true,
           "subunitcolor": "white"
          },
          "hoverlabel": {
           "align": "left"
          },
          "hovermode": "closest",
          "mapbox": {
           "style": "light"
          },
          "paper_bgcolor": "white",
          "plot_bgcolor": "#E5ECF6",
          "polar": {
           "angularaxis": {
            "gridcolor": "white",
            "linecolor": "white",
            "ticks": ""
           },
           "bgcolor": "#E5ECF6",
           "radialaxis": {
            "gridcolor": "white",
            "linecolor": "white",
            "ticks": ""
           }
          },
          "scene": {
           "xaxis": {
            "backgroundcolor": "#E5ECF6",
            "gridcolor": "white",
            "gridwidth": 2,
            "linecolor": "white",
            "showbackground": true,
            "ticks": "",
            "zerolinecolor": "white"
           },
           "yaxis": {
            "backgroundcolor": "#E5ECF6",
            "gridcolor": "white",
            "gridwidth": 2,
            "linecolor": "white",
            "showbackground": true,
            "ticks": "",
            "zerolinecolor": "white"
           },
           "zaxis": {
            "backgroundcolor": "#E5ECF6",
            "gridcolor": "white",
            "gridwidth": 2,
            "linecolor": "white",
            "showbackground": true,
            "ticks": "",
            "zerolinecolor": "white"
           }
          },
          "shapedefaults": {
           "line": {
            "color": "#2a3f5f"
           }
          },
          "ternary": {
           "aaxis": {
            "gridcolor": "white",
            "linecolor": "white",
            "ticks": ""
           },
           "baxis": {
            "gridcolor": "white",
            "linecolor": "white",
            "ticks": ""
           },
           "bgcolor": "#E5ECF6",
           "caxis": {
            "gridcolor": "white",
            "linecolor": "white",
            "ticks": ""
           }
          },
          "title": {
           "x": 0.05
          },
          "xaxis": {
           "automargin": true,
           "gridcolor": "white",
           "linecolor": "white",
           "ticks": "",
           "title": {
            "standoff": 15
           },
           "zerolinecolor": "white",
           "zerolinewidth": 2
          },
          "yaxis": {
           "automargin": true,
           "gridcolor": "white",
           "linecolor": "white",
           "ticks": "",
           "title": {
            "standoff": 15
           },
           "zerolinecolor": "white",
           "zerolinewidth": 2
          }
         }
        },
        "title": {
         "text": "Arrival Haste Percentage Relative to Total Arrivals Month-Over-Month"
        },
        "width": 900,
        "xaxis": {
         "tickformat": "d",
         "ticklen": 5,
         "title": {
          "text": "Month"
         },
         "zeroline": false
        },
        "yaxis": {
         "title": {
          "text": "Percentage of Flights"
         }
        }
       }
      }
     },
     "metadata": {},
     "output_type": "display_data"
    }
   ],
   "source": [
    "months = [\"January\", \"February\", \"March\", \"April\", \"May\", \"June\", \n",
    "          \"July\", \"August\", \"September\", \"October\", \"November\", \"December\"]\n",
    "numberOfDelaysPerMonthBar = go.Bar(\n",
    "    x = months,\n",
    "    y = numberOfDelaysPerMonth.toPandas()['ArrivalImmediaciesCountPerMonth'],\n",
    "    name = 'Departure Delay Percentage',\n",
    "    marker = dict(color='brown'),\n",
    "    text = round(numberOfDelaysPerMonth.toPandas()['ArrivalImmediaciesCountPerMonth']))\n",
    "\n",
    "data = [numberOfDelaysPerMonthBar]\n",
    "\n",
    "layout = dict(title = 'Arrival Haste Percentage Relative to Total Arrivals Month-Over-Month',\n",
    "              xaxis= dict(title= 'Month',ticklen= 5,zeroline= False,tickformat='d'),\n",
    "              yaxis= dict(title= 'Percentage of Flights'),\n",
    "              height= 450,\n",
    "              width= 900\n",
    "             )\n",
    "fig = dict(data = data, layout = layout)\n",
    "\n",
    "pyo.iplot(fig)"
   ]
  },
  {
   "attachments": {},
   "cell_type": "markdown",
   "metadata": {},
   "source": [
    "AVERAGE DEPARTURE DELAY PER CARRIER FOR EACH YEAR"
   ]
  },
  {
   "cell_type": "code",
   "execution_count": 87,
   "metadata": {},
   "outputs": [
    {
     "name": "stdout",
     "output_type": "stream",
     "text": [
      "+----------+----------------------+----+\n",
      "|OP_CARRIER|AverageDelayPerCarrier|Year|\n",
      "+----------+----------------------+----+\n",
      "|        9E|     52.29959991640044|2018|\n",
      "|        AA|    32.083106782345574|2016|\n",
      "|        AA|    31.191470074234218|2017|\n",
      "|        AA|    33.104038099407575|2018|\n",
      "|        AS|    22.391819772528432|2016|\n",
      "|        AS|    25.650165550996906|2017|\n",
      "|        AS|    25.775519848771268|2018|\n",
      "|        B6|     35.79490556718489|2016|\n",
      "|        B6|     45.86273824773883|2017|\n",
      "|        B6|     43.72999099548286|2018|\n",
      "|        DL|    27.463280200008672|2016|\n",
      "|        DL|    29.959391775236142|2017|\n",
      "|        DL|     27.67449819095246|2018|\n",
      "|        EV|    45.038134348244974|2016|\n",
      "|        EV|     54.49749016415683|2017|\n",
      "|        EV|     56.60643408878703|2018|\n",
      "|        F9|     43.09401987941991|2016|\n",
      "|        F9|     38.60866406760782|2017|\n",
      "|        F9|     47.33786048460303|2018|\n",
      "|        G4|     38.84540625521069|2018|\n",
      "+----------+----------------------+----+\n",
      "only showing top 20 rows\n",
      "\n"
     ]
    }
   ],
   "source": [
    "averageDelayPerCarrier = spark.sql(\"SELECT OP_CARRIER, AVG(IF(DEP_DELAY >= 0 , DEP_DELAY, NULL)) AS AverageDelayPerCarrier, EXTRACT(year from FL_DATE) AS Year FROM airlinedelay GROUP BY OP_CARRIER, YEAR ORDER BY OP_CARRIER, YEAR\" )\n",
    "\n",
    "averageDelayPerCarrier.show()"
   ]
  },
  {
   "cell_type": "code",
   "execution_count": 88,
   "metadata": {},
   "outputs": [
    {
     "data": {
      "application/vnd.plotly.v1+json": {
       "config": {
        "linkText": "Export to plot.ly",
        "plotlyServerURL": "https://plot.ly",
        "showLink": false
       },
       "data": [
        {
         "mode": "lines+markers",
         "name": "9E",
         "type": "scatter",
         "x": [
          2016,
          2017,
          2018
         ],
         "y": [
          52.29959991640044
         ]
        },
        {
         "mode": "lines+markers",
         "name": "AA",
         "type": "scatter",
         "x": [
          2016,
          2017,
          2018
         ],
         "y": [
          32.083106782345574,
          31.191470074234218,
          33.104038099407575
         ]
        },
        {
         "mode": "lines+markers",
         "name": "AS",
         "type": "scatter",
         "x": [
          2016,
          2017,
          2018
         ],
         "y": [
          22.391819772528432,
          25.650165550996906,
          25.775519848771268
         ]
        },
        {
         "mode": "lines+markers",
         "name": "B6",
         "type": "scatter",
         "x": [
          2016,
          2017,
          2018
         ],
         "y": [
          35.79490556718489,
          45.86273824773883,
          43.72999099548286
         ]
        },
        {
         "mode": "lines+markers",
         "name": "DL",
         "type": "scatter",
         "x": [
          2016,
          2017,
          2018
         ],
         "y": [
          27.463280200008672,
          29.959391775236142,
          27.67449819095246
         ]
        },
        {
         "mode": "lines+markers",
         "name": "EV",
         "type": "scatter",
         "x": [
          2016,
          2017,
          2018
         ],
         "y": [
          45.038134348244974,
          54.49749016415683,
          56.60643408878703
         ]
        },
        {
         "mode": "lines+markers",
         "name": "F9",
         "type": "scatter",
         "x": [
          2016,
          2017,
          2018
         ],
         "y": [
          43.09401987941991,
          38.60866406760782,
          47.33786048460303
         ]
        },
        {
         "mode": "lines+markers",
         "name": "G4",
         "type": "scatter",
         "x": [
          2016,
          2017,
          2018
         ],
         "y": [
          38.84540625521069
         ]
        },
        {
         "mode": "lines+markers",
         "name": "HA",
         "type": "scatter",
         "x": [
          2016,
          2017,
          2018
         ],
         "y": [
          13.662239770279971,
          15.612729683652207,
          16.691242768801118
         ]
        },
        {
         "mode": "lines+markers",
         "name": "MQ",
         "type": "scatter",
         "x": [
          2016,
          2017,
          2018
         ],
         "y": [
          34.695277302275755
         ]
        },
        {
         "mode": "lines+markers",
         "name": "NK",
         "type": "scatter",
         "x": [
          2016,
          2017,
          2018
         ],
         "y": [
          37.337342546482176,
          42.209263382238206,
          40.66915626492054
         ]
        },
        {
         "mode": "lines+markers",
         "name": "OH",
         "type": "scatter",
         "x": [
          2016,
          2017,
          2018
         ],
         "y": [
          34.92862912682075
         ]
        },
        {
         "mode": "lines+markers",
         "name": "OO",
         "type": "scatter",
         "x": [
          2016,
          2017,
          2018
         ],
         "y": [
          39.496158502777874,
          49.596884774419706,
          49.00604120365471
         ]
        },
        {
         "mode": "lines+markers",
         "name": "UA",
         "type": "scatter",
         "x": [
          2016,
          2017,
          2018
         ],
         "y": [
          30.965913419594255,
          35.697285124125,
          39.863071110562636
         ]
        },
        {
         "mode": "lines+markers",
         "name": "VX",
         "type": "scatter",
         "x": [
          2016,
          2017,
          2018
         ],
         "y": [
          28.11697428139183,
          36.26525064795499,
          31.77971259509721
         ]
        },
        {
         "mode": "lines+markers",
         "name": "WN",
         "type": "scatter",
         "x": [
          2016,
          2017,
          2018
         ],
         "y": [
          21.199081530924285,
          21.6551461723405,
          21.83388636148171
         ]
        },
        {
         "mode": "lines+markers",
         "name": "YV",
         "type": "scatter",
         "x": [
          2016,
          2017,
          2018
         ],
         "y": [
          43.88718991345109
         ]
        },
        {
         "mode": "lines+markers",
         "name": "YX",
         "type": "scatter",
         "x": [
          2016,
          2017,
          2018
         ],
         "y": [
          41.46272772954086
         ]
        }
       ],
       "layout": {
        "height": 650,
        "template": {
         "data": {
          "bar": [
           {
            "error_x": {
             "color": "#2a3f5f"
            },
            "error_y": {
             "color": "#2a3f5f"
            },
            "marker": {
             "line": {
              "color": "#E5ECF6",
              "width": 0.5
             }
            },
            "type": "bar"
           }
          ],
          "barpolar": [
           {
            "marker": {
             "line": {
              "color": "#E5ECF6",
              "width": 0.5
             }
            },
            "type": "barpolar"
           }
          ],
          "carpet": [
           {
            "aaxis": {
             "endlinecolor": "#2a3f5f",
             "gridcolor": "white",
             "linecolor": "white",
             "minorgridcolor": "white",
             "startlinecolor": "#2a3f5f"
            },
            "baxis": {
             "endlinecolor": "#2a3f5f",
             "gridcolor": "white",
             "linecolor": "white",
             "minorgridcolor": "white",
             "startlinecolor": "#2a3f5f"
            },
            "type": "carpet"
           }
          ],
          "choropleth": [
           {
            "colorbar": {
             "outlinewidth": 0,
             "ticks": ""
            },
            "type": "choropleth"
           }
          ],
          "contour": [
           {
            "colorbar": {
             "outlinewidth": 0,
             "ticks": ""
            },
            "colorscale": [
             [
              0,
              "#0d0887"
             ],
             [
              0.1111111111111111,
              "#46039f"
             ],
             [
              0.2222222222222222,
              "#7201a8"
             ],
             [
              0.3333333333333333,
              "#9c179e"
             ],
             [
              0.4444444444444444,
              "#bd3786"
             ],
             [
              0.5555555555555556,
              "#d8576b"
             ],
             [
              0.6666666666666666,
              "#ed7953"
             ],
             [
              0.7777777777777778,
              "#fb9f3a"
             ],
             [
              0.8888888888888888,
              "#fdca26"
             ],
             [
              1,
              "#f0f921"
             ]
            ],
            "type": "contour"
           }
          ],
          "contourcarpet": [
           {
            "colorbar": {
             "outlinewidth": 0,
             "ticks": ""
            },
            "type": "contourcarpet"
           }
          ],
          "heatmap": [
           {
            "colorbar": {
             "outlinewidth": 0,
             "ticks": ""
            },
            "colorscale": [
             [
              0,
              "#0d0887"
             ],
             [
              0.1111111111111111,
              "#46039f"
             ],
             [
              0.2222222222222222,
              "#7201a8"
             ],
             [
              0.3333333333333333,
              "#9c179e"
             ],
             [
              0.4444444444444444,
              "#bd3786"
             ],
             [
              0.5555555555555556,
              "#d8576b"
             ],
             [
              0.6666666666666666,
              "#ed7953"
             ],
             [
              0.7777777777777778,
              "#fb9f3a"
             ],
             [
              0.8888888888888888,
              "#fdca26"
             ],
             [
              1,
              "#f0f921"
             ]
            ],
            "type": "heatmap"
           }
          ],
          "heatmapgl": [
           {
            "colorbar": {
             "outlinewidth": 0,
             "ticks": ""
            },
            "colorscale": [
             [
              0,
              "#0d0887"
             ],
             [
              0.1111111111111111,
              "#46039f"
             ],
             [
              0.2222222222222222,
              "#7201a8"
             ],
             [
              0.3333333333333333,
              "#9c179e"
             ],
             [
              0.4444444444444444,
              "#bd3786"
             ],
             [
              0.5555555555555556,
              "#d8576b"
             ],
             [
              0.6666666666666666,
              "#ed7953"
             ],
             [
              0.7777777777777778,
              "#fb9f3a"
             ],
             [
              0.8888888888888888,
              "#fdca26"
             ],
             [
              1,
              "#f0f921"
             ]
            ],
            "type": "heatmapgl"
           }
          ],
          "histogram": [
           {
            "marker": {
             "colorbar": {
              "outlinewidth": 0,
              "ticks": ""
             }
            },
            "type": "histogram"
           }
          ],
          "histogram2d": [
           {
            "colorbar": {
             "outlinewidth": 0,
             "ticks": ""
            },
            "colorscale": [
             [
              0,
              "#0d0887"
             ],
             [
              0.1111111111111111,
              "#46039f"
             ],
             [
              0.2222222222222222,
              "#7201a8"
             ],
             [
              0.3333333333333333,
              "#9c179e"
             ],
             [
              0.4444444444444444,
              "#bd3786"
             ],
             [
              0.5555555555555556,
              "#d8576b"
             ],
             [
              0.6666666666666666,
              "#ed7953"
             ],
             [
              0.7777777777777778,
              "#fb9f3a"
             ],
             [
              0.8888888888888888,
              "#fdca26"
             ],
             [
              1,
              "#f0f921"
             ]
            ],
            "type": "histogram2d"
           }
          ],
          "histogram2dcontour": [
           {
            "colorbar": {
             "outlinewidth": 0,
             "ticks": ""
            },
            "colorscale": [
             [
              0,
              "#0d0887"
             ],
             [
              0.1111111111111111,
              "#46039f"
             ],
             [
              0.2222222222222222,
              "#7201a8"
             ],
             [
              0.3333333333333333,
              "#9c179e"
             ],
             [
              0.4444444444444444,
              "#bd3786"
             ],
             [
              0.5555555555555556,
              "#d8576b"
             ],
             [
              0.6666666666666666,
              "#ed7953"
             ],
             [
              0.7777777777777778,
              "#fb9f3a"
             ],
             [
              0.8888888888888888,
              "#fdca26"
             ],
             [
              1,
              "#f0f921"
             ]
            ],
            "type": "histogram2dcontour"
           }
          ],
          "mesh3d": [
           {
            "colorbar": {
             "outlinewidth": 0,
             "ticks": ""
            },
            "type": "mesh3d"
           }
          ],
          "parcoords": [
           {
            "line": {
             "colorbar": {
              "outlinewidth": 0,
              "ticks": ""
             }
            },
            "type": "parcoords"
           }
          ],
          "pie": [
           {
            "automargin": true,
            "type": "pie"
           }
          ],
          "scatter": [
           {
            "marker": {
             "colorbar": {
              "outlinewidth": 0,
              "ticks": ""
             }
            },
            "type": "scatter"
           }
          ],
          "scatter3d": [
           {
            "line": {
             "colorbar": {
              "outlinewidth": 0,
              "ticks": ""
             }
            },
            "marker": {
             "colorbar": {
              "outlinewidth": 0,
              "ticks": ""
             }
            },
            "type": "scatter3d"
           }
          ],
          "scattercarpet": [
           {
            "marker": {
             "colorbar": {
              "outlinewidth": 0,
              "ticks": ""
             }
            },
            "type": "scattercarpet"
           }
          ],
          "scattergeo": [
           {
            "marker": {
             "colorbar": {
              "outlinewidth": 0,
              "ticks": ""
             }
            },
            "type": "scattergeo"
           }
          ],
          "scattergl": [
           {
            "marker": {
             "colorbar": {
              "outlinewidth": 0,
              "ticks": ""
             }
            },
            "type": "scattergl"
           }
          ],
          "scattermapbox": [
           {
            "marker": {
             "colorbar": {
              "outlinewidth": 0,
              "ticks": ""
             }
            },
            "type": "scattermapbox"
           }
          ],
          "scatterpolar": [
           {
            "marker": {
             "colorbar": {
              "outlinewidth": 0,
              "ticks": ""
             }
            },
            "type": "scatterpolar"
           }
          ],
          "scatterpolargl": [
           {
            "marker": {
             "colorbar": {
              "outlinewidth": 0,
              "ticks": ""
             }
            },
            "type": "scatterpolargl"
           }
          ],
          "scatterternary": [
           {
            "marker": {
             "colorbar": {
              "outlinewidth": 0,
              "ticks": ""
             }
            },
            "type": "scatterternary"
           }
          ],
          "surface": [
           {
            "colorbar": {
             "outlinewidth": 0,
             "ticks": ""
            },
            "colorscale": [
             [
              0,
              "#0d0887"
             ],
             [
              0.1111111111111111,
              "#46039f"
             ],
             [
              0.2222222222222222,
              "#7201a8"
             ],
             [
              0.3333333333333333,
              "#9c179e"
             ],
             [
              0.4444444444444444,
              "#bd3786"
             ],
             [
              0.5555555555555556,
              "#d8576b"
             ],
             [
              0.6666666666666666,
              "#ed7953"
             ],
             [
              0.7777777777777778,
              "#fb9f3a"
             ],
             [
              0.8888888888888888,
              "#fdca26"
             ],
             [
              1,
              "#f0f921"
             ]
            ],
            "type": "surface"
           }
          ],
          "table": [
           {
            "cells": {
             "fill": {
              "color": "#EBF0F8"
             },
             "line": {
              "color": "white"
             }
            },
            "header": {
             "fill": {
              "color": "#C8D4E3"
             },
             "line": {
              "color": "white"
             }
            },
            "type": "table"
           }
          ]
         },
         "layout": {
          "annotationdefaults": {
           "arrowcolor": "#2a3f5f",
           "arrowhead": 0,
           "arrowwidth": 1
          },
          "autotypenumbers": "strict",
          "coloraxis": {
           "colorbar": {
            "outlinewidth": 0,
            "ticks": ""
           }
          },
          "colorscale": {
           "diverging": [
            [
             0,
             "#8e0152"
            ],
            [
             0.1,
             "#c51b7d"
            ],
            [
             0.2,
             "#de77ae"
            ],
            [
             0.3,
             "#f1b6da"
            ],
            [
             0.4,
             "#fde0ef"
            ],
            [
             0.5,
             "#f7f7f7"
            ],
            [
             0.6,
             "#e6f5d0"
            ],
            [
             0.7,
             "#b8e186"
            ],
            [
             0.8,
             "#7fbc41"
            ],
            [
             0.9,
             "#4d9221"
            ],
            [
             1,
             "#276419"
            ]
           ],
           "sequential": [
            [
             0,
             "#0d0887"
            ],
            [
             0.1111111111111111,
             "#46039f"
            ],
            [
             0.2222222222222222,
             "#7201a8"
            ],
            [
             0.3333333333333333,
             "#9c179e"
            ],
            [
             0.4444444444444444,
             "#bd3786"
            ],
            [
             0.5555555555555556,
             "#d8576b"
            ],
            [
             0.6666666666666666,
             "#ed7953"
            ],
            [
             0.7777777777777778,
             "#fb9f3a"
            ],
            [
             0.8888888888888888,
             "#fdca26"
            ],
            [
             1,
             "#f0f921"
            ]
           ],
           "sequentialminus": [
            [
             0,
             "#0d0887"
            ],
            [
             0.1111111111111111,
             "#46039f"
            ],
            [
             0.2222222222222222,
             "#7201a8"
            ],
            [
             0.3333333333333333,
             "#9c179e"
            ],
            [
             0.4444444444444444,
             "#bd3786"
            ],
            [
             0.5555555555555556,
             "#d8576b"
            ],
            [
             0.6666666666666666,
             "#ed7953"
            ],
            [
             0.7777777777777778,
             "#fb9f3a"
            ],
            [
             0.8888888888888888,
             "#fdca26"
            ],
            [
             1,
             "#f0f921"
            ]
           ]
          },
          "colorway": [
           "#636efa",
           "#EF553B",
           "#00cc96",
           "#ab63fa",
           "#FFA15A",
           "#19d3f3",
           "#FF6692",
           "#B6E880",
           "#FF97FF",
           "#FECB52"
          ],
          "font": {
           "color": "#2a3f5f"
          },
          "geo": {
           "bgcolor": "white",
           "lakecolor": "white",
           "landcolor": "#E5ECF6",
           "showlakes": true,
           "showland": true,
           "subunitcolor": "white"
          },
          "hoverlabel": {
           "align": "left"
          },
          "hovermode": "closest",
          "mapbox": {
           "style": "light"
          },
          "paper_bgcolor": "white",
          "plot_bgcolor": "#E5ECF6",
          "polar": {
           "angularaxis": {
            "gridcolor": "white",
            "linecolor": "white",
            "ticks": ""
           },
           "bgcolor": "#E5ECF6",
           "radialaxis": {
            "gridcolor": "white",
            "linecolor": "white",
            "ticks": ""
           }
          },
          "scene": {
           "xaxis": {
            "backgroundcolor": "#E5ECF6",
            "gridcolor": "white",
            "gridwidth": 2,
            "linecolor": "white",
            "showbackground": true,
            "ticks": "",
            "zerolinecolor": "white"
           },
           "yaxis": {
            "backgroundcolor": "#E5ECF6",
            "gridcolor": "white",
            "gridwidth": 2,
            "linecolor": "white",
            "showbackground": true,
            "ticks": "",
            "zerolinecolor": "white"
           },
           "zaxis": {
            "backgroundcolor": "#E5ECF6",
            "gridcolor": "white",
            "gridwidth": 2,
            "linecolor": "white",
            "showbackground": true,
            "ticks": "",
            "zerolinecolor": "white"
           }
          },
          "shapedefaults": {
           "line": {
            "color": "#2a3f5f"
           }
          },
          "ternary": {
           "aaxis": {
            "gridcolor": "white",
            "linecolor": "white",
            "ticks": ""
           },
           "baxis": {
            "gridcolor": "white",
            "linecolor": "white",
            "ticks": ""
           },
           "bgcolor": "#E5ECF6",
           "caxis": {
            "gridcolor": "white",
            "linecolor": "white",
            "ticks": ""
           }
          },
          "title": {
           "x": 0.05
          },
          "xaxis": {
           "automargin": true,
           "gridcolor": "white",
           "linecolor": "white",
           "ticks": "",
           "title": {
            "standoff": 15
           },
           "zerolinecolor": "white",
           "zerolinewidth": 2
          },
          "yaxis": {
           "automargin": true,
           "gridcolor": "white",
           "linecolor": "white",
           "ticks": "",
           "title": {
            "standoff": 15
           },
           "zerolinecolor": "white",
           "zerolinewidth": 2
          }
         }
        },
        "title": {
         "text": "Evolution Of Average Departure Delay For Each Carrier Year-over-Year"
        },
        "width": 900,
        "xaxis": {
         "tickformat": "d",
         "title": {
          "text": "Year"
         },
         "zeroline": false
        },
        "yaxis": {
         "tickformat": "d",
         "title": {
          "text": "Flight Delay (Minutes)"
         }
        }
       }
      }
     },
     "metadata": {},
     "output_type": "display_data"
    }
   ],
   "source": [
    "traces = []\n",
    "changePerCarrierMap = dict()\n",
    "years = []\n",
    "\n",
    "for i in range(len(averageDelayPerCarrier.toPandas()['Year'])):\n",
    "    if not averageDelayPerCarrier.toPandas()['Year'][i] in years:\n",
    "        years.append(averageDelayPerCarrier.toPandas()['Year'][i])\n",
    "\n",
    "years.sort()\n",
    "        \n",
    "for i in range(len(averageDelayPerCarrier.toPandas()['OP_CARRIER'])):\n",
    "    if not averageDelayPerCarrier.toPandas()['OP_CARRIER'][i] in changePerCarrierMap:\n",
    "        changePerCarrierMap[averageDelayPerCarrier.toPandas()['OP_CARRIER'][i]] = []\n",
    "        \n",
    "    changePerCarrierMap[averageDelayPerCarrier.toPandas()['OP_CARRIER'][i]].append(averageDelayPerCarrier.toPandas()['AverageDelayPerCarrier'][i])\n",
    "    \n",
    "for key in changePerCarrierMap:\n",
    "    traces.append(go.Scatter(\n",
    "        y = changePerCarrierMap[key],\n",
    "        x = years,\n",
    "        mode = 'lines+markers',\n",
    "        name = key))\n",
    "                  \n",
    "layout = dict(title = 'Evolution Of Average Departure Delay For Each Carrier Year-over-Year',\n",
    "              xaxis= dict(title= 'Year',zeroline= False,tickformat='d'),\n",
    "              yaxis= dict(title= 'Flight Delay (Minutes)',tickformat='d'),\n",
    "              height= 650,\n",
    "              width= 900\n",
    "             )\n",
    "\n",
    "fig = dict(data = traces, layout = layout)\n",
    "\n",
    "pyo.iplot(fig)"
   ]
  },
  {
   "attachments": {},
   "cell_type": "markdown",
   "metadata": {},
   "source": [
    "AVERAGE DEPARTURE/ARRIVAL DELAY PER YEAR"
   ]
  },
  {
   "cell_type": "code",
   "execution_count": 89,
   "metadata": {},
   "outputs": [
    {
     "name": "stdout",
     "output_type": "stream",
     "text": [
      "+---------------------+-------------------+----+\n",
      "|AverageDepartureDelay|AverageArrivalDelay|Year|\n",
      "+---------------------+-------------------+----+\n",
      "|   29.574317477001113|  32.79529582415297|2016|\n",
      "|   32.134094929311296| 34.828257366891144|2017|\n",
      "|    33.44112500620334|  35.75265236979934|2018|\n",
      "+---------------------+-------------------+----+\n",
      "\n"
     ]
    }
   ],
   "source": [
    "averageDepartureArrivalDelayPerYear = spark.sql(\"SELECT AVG(IF(DEP_DELAY >= 0 , DEP_DELAY, NULL)) AS AverageDepartureDelay, \\\n",
    "AVG(IF(ARR_DELAY >= 0 , ARR_DELAY, NULL)) AS AverageArrivalDelay, \\\n",
    "EXTRACT(year from FL_DATE) AS Year FROM airlinedelay \\\n",
    "GROUP BY Year ORDER BY Year ASC\")\n",
    "\n",
    "averageDepartureArrivalDelayPerYear.show()"
   ]
  },
  {
   "cell_type": "code",
   "execution_count": 90,
   "metadata": {},
   "outputs": [
    {
     "data": {
      "application/vnd.plotly.v1+json": {
       "config": {
        "linkText": "Export to plot.ly",
        "plotlyServerURL": "https://plot.ly",
        "showLink": false
       },
       "data": [
        {
         "marker": {
          "color": "green"
         },
         "name": "Departure Delay Percentage",
         "text": [
          30,
          32,
          33
         ],
         "type": "bar",
         "x": [
          2016,
          2017,
          2018
         ],
         "y": [
          29.574317477001113,
          32.134094929311296,
          33.44112500620334
         ]
        }
       ],
       "layout": {
        "height": 450,
        "template": {
         "data": {
          "bar": [
           {
            "error_x": {
             "color": "#2a3f5f"
            },
            "error_y": {
             "color": "#2a3f5f"
            },
            "marker": {
             "line": {
              "color": "#E5ECF6",
              "width": 0.5
             }
            },
            "type": "bar"
           }
          ],
          "barpolar": [
           {
            "marker": {
             "line": {
              "color": "#E5ECF6",
              "width": 0.5
             }
            },
            "type": "barpolar"
           }
          ],
          "carpet": [
           {
            "aaxis": {
             "endlinecolor": "#2a3f5f",
             "gridcolor": "white",
             "linecolor": "white",
             "minorgridcolor": "white",
             "startlinecolor": "#2a3f5f"
            },
            "baxis": {
             "endlinecolor": "#2a3f5f",
             "gridcolor": "white",
             "linecolor": "white",
             "minorgridcolor": "white",
             "startlinecolor": "#2a3f5f"
            },
            "type": "carpet"
           }
          ],
          "choropleth": [
           {
            "colorbar": {
             "outlinewidth": 0,
             "ticks": ""
            },
            "type": "choropleth"
           }
          ],
          "contour": [
           {
            "colorbar": {
             "outlinewidth": 0,
             "ticks": ""
            },
            "colorscale": [
             [
              0,
              "#0d0887"
             ],
             [
              0.1111111111111111,
              "#46039f"
             ],
             [
              0.2222222222222222,
              "#7201a8"
             ],
             [
              0.3333333333333333,
              "#9c179e"
             ],
             [
              0.4444444444444444,
              "#bd3786"
             ],
             [
              0.5555555555555556,
              "#d8576b"
             ],
             [
              0.6666666666666666,
              "#ed7953"
             ],
             [
              0.7777777777777778,
              "#fb9f3a"
             ],
             [
              0.8888888888888888,
              "#fdca26"
             ],
             [
              1,
              "#f0f921"
             ]
            ],
            "type": "contour"
           }
          ],
          "contourcarpet": [
           {
            "colorbar": {
             "outlinewidth": 0,
             "ticks": ""
            },
            "type": "contourcarpet"
           }
          ],
          "heatmap": [
           {
            "colorbar": {
             "outlinewidth": 0,
             "ticks": ""
            },
            "colorscale": [
             [
              0,
              "#0d0887"
             ],
             [
              0.1111111111111111,
              "#46039f"
             ],
             [
              0.2222222222222222,
              "#7201a8"
             ],
             [
              0.3333333333333333,
              "#9c179e"
             ],
             [
              0.4444444444444444,
              "#bd3786"
             ],
             [
              0.5555555555555556,
              "#d8576b"
             ],
             [
              0.6666666666666666,
              "#ed7953"
             ],
             [
              0.7777777777777778,
              "#fb9f3a"
             ],
             [
              0.8888888888888888,
              "#fdca26"
             ],
             [
              1,
              "#f0f921"
             ]
            ],
            "type": "heatmap"
           }
          ],
          "heatmapgl": [
           {
            "colorbar": {
             "outlinewidth": 0,
             "ticks": ""
            },
            "colorscale": [
             [
              0,
              "#0d0887"
             ],
             [
              0.1111111111111111,
              "#46039f"
             ],
             [
              0.2222222222222222,
              "#7201a8"
             ],
             [
              0.3333333333333333,
              "#9c179e"
             ],
             [
              0.4444444444444444,
              "#bd3786"
             ],
             [
              0.5555555555555556,
              "#d8576b"
             ],
             [
              0.6666666666666666,
              "#ed7953"
             ],
             [
              0.7777777777777778,
              "#fb9f3a"
             ],
             [
              0.8888888888888888,
              "#fdca26"
             ],
             [
              1,
              "#f0f921"
             ]
            ],
            "type": "heatmapgl"
           }
          ],
          "histogram": [
           {
            "marker": {
             "colorbar": {
              "outlinewidth": 0,
              "ticks": ""
             }
            },
            "type": "histogram"
           }
          ],
          "histogram2d": [
           {
            "colorbar": {
             "outlinewidth": 0,
             "ticks": ""
            },
            "colorscale": [
             [
              0,
              "#0d0887"
             ],
             [
              0.1111111111111111,
              "#46039f"
             ],
             [
              0.2222222222222222,
              "#7201a8"
             ],
             [
              0.3333333333333333,
              "#9c179e"
             ],
             [
              0.4444444444444444,
              "#bd3786"
             ],
             [
              0.5555555555555556,
              "#d8576b"
             ],
             [
              0.6666666666666666,
              "#ed7953"
             ],
             [
              0.7777777777777778,
              "#fb9f3a"
             ],
             [
              0.8888888888888888,
              "#fdca26"
             ],
             [
              1,
              "#f0f921"
             ]
            ],
            "type": "histogram2d"
           }
          ],
          "histogram2dcontour": [
           {
            "colorbar": {
             "outlinewidth": 0,
             "ticks": ""
            },
            "colorscale": [
             [
              0,
              "#0d0887"
             ],
             [
              0.1111111111111111,
              "#46039f"
             ],
             [
              0.2222222222222222,
              "#7201a8"
             ],
             [
              0.3333333333333333,
              "#9c179e"
             ],
             [
              0.4444444444444444,
              "#bd3786"
             ],
             [
              0.5555555555555556,
              "#d8576b"
             ],
             [
              0.6666666666666666,
              "#ed7953"
             ],
             [
              0.7777777777777778,
              "#fb9f3a"
             ],
             [
              0.8888888888888888,
              "#fdca26"
             ],
             [
              1,
              "#f0f921"
             ]
            ],
            "type": "histogram2dcontour"
           }
          ],
          "mesh3d": [
           {
            "colorbar": {
             "outlinewidth": 0,
             "ticks": ""
            },
            "type": "mesh3d"
           }
          ],
          "parcoords": [
           {
            "line": {
             "colorbar": {
              "outlinewidth": 0,
              "ticks": ""
             }
            },
            "type": "parcoords"
           }
          ],
          "pie": [
           {
            "automargin": true,
            "type": "pie"
           }
          ],
          "scatter": [
           {
            "marker": {
             "colorbar": {
              "outlinewidth": 0,
              "ticks": ""
             }
            },
            "type": "scatter"
           }
          ],
          "scatter3d": [
           {
            "line": {
             "colorbar": {
              "outlinewidth": 0,
              "ticks": ""
             }
            },
            "marker": {
             "colorbar": {
              "outlinewidth": 0,
              "ticks": ""
             }
            },
            "type": "scatter3d"
           }
          ],
          "scattercarpet": [
           {
            "marker": {
             "colorbar": {
              "outlinewidth": 0,
              "ticks": ""
             }
            },
            "type": "scattercarpet"
           }
          ],
          "scattergeo": [
           {
            "marker": {
             "colorbar": {
              "outlinewidth": 0,
              "ticks": ""
             }
            },
            "type": "scattergeo"
           }
          ],
          "scattergl": [
           {
            "marker": {
             "colorbar": {
              "outlinewidth": 0,
              "ticks": ""
             }
            },
            "type": "scattergl"
           }
          ],
          "scattermapbox": [
           {
            "marker": {
             "colorbar": {
              "outlinewidth": 0,
              "ticks": ""
             }
            },
            "type": "scattermapbox"
           }
          ],
          "scatterpolar": [
           {
            "marker": {
             "colorbar": {
              "outlinewidth": 0,
              "ticks": ""
             }
            },
            "type": "scatterpolar"
           }
          ],
          "scatterpolargl": [
           {
            "marker": {
             "colorbar": {
              "outlinewidth": 0,
              "ticks": ""
             }
            },
            "type": "scatterpolargl"
           }
          ],
          "scatterternary": [
           {
            "marker": {
             "colorbar": {
              "outlinewidth": 0,
              "ticks": ""
             }
            },
            "type": "scatterternary"
           }
          ],
          "surface": [
           {
            "colorbar": {
             "outlinewidth": 0,
             "ticks": ""
            },
            "colorscale": [
             [
              0,
              "#0d0887"
             ],
             [
              0.1111111111111111,
              "#46039f"
             ],
             [
              0.2222222222222222,
              "#7201a8"
             ],
             [
              0.3333333333333333,
              "#9c179e"
             ],
             [
              0.4444444444444444,
              "#bd3786"
             ],
             [
              0.5555555555555556,
              "#d8576b"
             ],
             [
              0.6666666666666666,
              "#ed7953"
             ],
             [
              0.7777777777777778,
              "#fb9f3a"
             ],
             [
              0.8888888888888888,
              "#fdca26"
             ],
             [
              1,
              "#f0f921"
             ]
            ],
            "type": "surface"
           }
          ],
          "table": [
           {
            "cells": {
             "fill": {
              "color": "#EBF0F8"
             },
             "line": {
              "color": "white"
             }
            },
            "header": {
             "fill": {
              "color": "#C8D4E3"
             },
             "line": {
              "color": "white"
             }
            },
            "type": "table"
           }
          ]
         },
         "layout": {
          "annotationdefaults": {
           "arrowcolor": "#2a3f5f",
           "arrowhead": 0,
           "arrowwidth": 1
          },
          "autotypenumbers": "strict",
          "coloraxis": {
           "colorbar": {
            "outlinewidth": 0,
            "ticks": ""
           }
          },
          "colorscale": {
           "diverging": [
            [
             0,
             "#8e0152"
            ],
            [
             0.1,
             "#c51b7d"
            ],
            [
             0.2,
             "#de77ae"
            ],
            [
             0.3,
             "#f1b6da"
            ],
            [
             0.4,
             "#fde0ef"
            ],
            [
             0.5,
             "#f7f7f7"
            ],
            [
             0.6,
             "#e6f5d0"
            ],
            [
             0.7,
             "#b8e186"
            ],
            [
             0.8,
             "#7fbc41"
            ],
            [
             0.9,
             "#4d9221"
            ],
            [
             1,
             "#276419"
            ]
           ],
           "sequential": [
            [
             0,
             "#0d0887"
            ],
            [
             0.1111111111111111,
             "#46039f"
            ],
            [
             0.2222222222222222,
             "#7201a8"
            ],
            [
             0.3333333333333333,
             "#9c179e"
            ],
            [
             0.4444444444444444,
             "#bd3786"
            ],
            [
             0.5555555555555556,
             "#d8576b"
            ],
            [
             0.6666666666666666,
             "#ed7953"
            ],
            [
             0.7777777777777778,
             "#fb9f3a"
            ],
            [
             0.8888888888888888,
             "#fdca26"
            ],
            [
             1,
             "#f0f921"
            ]
           ],
           "sequentialminus": [
            [
             0,
             "#0d0887"
            ],
            [
             0.1111111111111111,
             "#46039f"
            ],
            [
             0.2222222222222222,
             "#7201a8"
            ],
            [
             0.3333333333333333,
             "#9c179e"
            ],
            [
             0.4444444444444444,
             "#bd3786"
            ],
            [
             0.5555555555555556,
             "#d8576b"
            ],
            [
             0.6666666666666666,
             "#ed7953"
            ],
            [
             0.7777777777777778,
             "#fb9f3a"
            ],
            [
             0.8888888888888888,
             "#fdca26"
            ],
            [
             1,
             "#f0f921"
            ]
           ]
          },
          "colorway": [
           "#636efa",
           "#EF553B",
           "#00cc96",
           "#ab63fa",
           "#FFA15A",
           "#19d3f3",
           "#FF6692",
           "#B6E880",
           "#FF97FF",
           "#FECB52"
          ],
          "font": {
           "color": "#2a3f5f"
          },
          "geo": {
           "bgcolor": "white",
           "lakecolor": "white",
           "landcolor": "#E5ECF6",
           "showlakes": true,
           "showland": true,
           "subunitcolor": "white"
          },
          "hoverlabel": {
           "align": "left"
          },
          "hovermode": "closest",
          "mapbox": {
           "style": "light"
          },
          "paper_bgcolor": "white",
          "plot_bgcolor": "#E5ECF6",
          "polar": {
           "angularaxis": {
            "gridcolor": "white",
            "linecolor": "white",
            "ticks": ""
           },
           "bgcolor": "#E5ECF6",
           "radialaxis": {
            "gridcolor": "white",
            "linecolor": "white",
            "ticks": ""
           }
          },
          "scene": {
           "xaxis": {
            "backgroundcolor": "#E5ECF6",
            "gridcolor": "white",
            "gridwidth": 2,
            "linecolor": "white",
            "showbackground": true,
            "ticks": "",
            "zerolinecolor": "white"
           },
           "yaxis": {
            "backgroundcolor": "#E5ECF6",
            "gridcolor": "white",
            "gridwidth": 2,
            "linecolor": "white",
            "showbackground": true,
            "ticks": "",
            "zerolinecolor": "white"
           },
           "zaxis": {
            "backgroundcolor": "#E5ECF6",
            "gridcolor": "white",
            "gridwidth": 2,
            "linecolor": "white",
            "showbackground": true,
            "ticks": "",
            "zerolinecolor": "white"
           }
          },
          "shapedefaults": {
           "line": {
            "color": "#2a3f5f"
           }
          },
          "ternary": {
           "aaxis": {
            "gridcolor": "white",
            "linecolor": "white",
            "ticks": ""
           },
           "baxis": {
            "gridcolor": "white",
            "linecolor": "white",
            "ticks": ""
           },
           "bgcolor": "#E5ECF6",
           "caxis": {
            "gridcolor": "white",
            "linecolor": "white",
            "ticks": ""
           }
          },
          "title": {
           "x": 0.05
          },
          "xaxis": {
           "automargin": true,
           "gridcolor": "white",
           "linecolor": "white",
           "ticks": "",
           "title": {
            "standoff": 15
           },
           "zerolinecolor": "white",
           "zerolinewidth": 2
          },
          "yaxis": {
           "automargin": true,
           "gridcolor": "white",
           "linecolor": "white",
           "ticks": "",
           "title": {
            "standoff": 15
           },
           "zerolinecolor": "white",
           "zerolinewidth": 2
          }
         }
        },
        "title": {
         "text": "Evolution Of Average Departure Delay Year-over-Year"
        },
        "width": 900,
        "xaxis": {
         "tickformat": "d",
         "ticklen": 5,
         "title": {
          "text": "Carrier"
         },
         "zeroline": false
        },
        "yaxis": {
         "title": {
          "text": "Average Departure Delay(Minutes)"
         }
        }
       }
      }
     },
     "metadata": {},
     "output_type": "display_data"
    }
   ],
   "source": [
    "averageDepartureDelayPerYearBar = go.Bar(\n",
    "    x = averageDepartureArrivalDelayPerYear.toPandas()['Year'],\n",
    "    y = averageDepartureArrivalDelayPerYear.toPandas()['AverageDepartureDelay'],\n",
    "    name = 'Departure Delay Percentage',\n",
    "    marker = dict(color='green'),\n",
    "    text = round(averageDepartureArrivalDelayPerYear.toPandas()['AverageDepartureDelay']))\n",
    "\n",
    "data = [averageDepartureDelayPerYearBar]\n",
    "\n",
    "layout = dict(title = 'Evolution Of Average Departure Delay Year-over-Year',\n",
    "              xaxis= dict(title= 'Carrier',ticklen= 5,zeroline= False,tickformat='d'),\n",
    "              yaxis= dict(title= 'Average Departure Delay(Minutes)'),\n",
    "              height= 450,\n",
    "              width= 900\n",
    "             )\n",
    "fig = dict(data = data, layout = layout)\n",
    "\n",
    "pyo.iplot(fig)"
   ]
  },
  {
   "cell_type": "code",
   "execution_count": 91,
   "metadata": {},
   "outputs": [
    {
     "data": {
      "application/vnd.plotly.v1+json": {
       "config": {
        "linkText": "Export to plot.ly",
        "plotlyServerURL": "https://plot.ly",
        "showLink": false
       },
       "data": [
        {
         "marker": {
          "color": "purple"
         },
         "name": "Departure Delay Percentage",
         "text": [
          33,
          35,
          36
         ],
         "type": "bar",
         "x": [
          2016,
          2017,
          2018
         ],
         "y": [
          29.574317477001113,
          32.134094929311296,
          33.44112500620334
         ]
        }
       ],
       "layout": {
        "height": 450,
        "template": {
         "data": {
          "bar": [
           {
            "error_x": {
             "color": "#2a3f5f"
            },
            "error_y": {
             "color": "#2a3f5f"
            },
            "marker": {
             "line": {
              "color": "#E5ECF6",
              "width": 0.5
             }
            },
            "type": "bar"
           }
          ],
          "barpolar": [
           {
            "marker": {
             "line": {
              "color": "#E5ECF6",
              "width": 0.5
             }
            },
            "type": "barpolar"
           }
          ],
          "carpet": [
           {
            "aaxis": {
             "endlinecolor": "#2a3f5f",
             "gridcolor": "white",
             "linecolor": "white",
             "minorgridcolor": "white",
             "startlinecolor": "#2a3f5f"
            },
            "baxis": {
             "endlinecolor": "#2a3f5f",
             "gridcolor": "white",
             "linecolor": "white",
             "minorgridcolor": "white",
             "startlinecolor": "#2a3f5f"
            },
            "type": "carpet"
           }
          ],
          "choropleth": [
           {
            "colorbar": {
             "outlinewidth": 0,
             "ticks": ""
            },
            "type": "choropleth"
           }
          ],
          "contour": [
           {
            "colorbar": {
             "outlinewidth": 0,
             "ticks": ""
            },
            "colorscale": [
             [
              0,
              "#0d0887"
             ],
             [
              0.1111111111111111,
              "#46039f"
             ],
             [
              0.2222222222222222,
              "#7201a8"
             ],
             [
              0.3333333333333333,
              "#9c179e"
             ],
             [
              0.4444444444444444,
              "#bd3786"
             ],
             [
              0.5555555555555556,
              "#d8576b"
             ],
             [
              0.6666666666666666,
              "#ed7953"
             ],
             [
              0.7777777777777778,
              "#fb9f3a"
             ],
             [
              0.8888888888888888,
              "#fdca26"
             ],
             [
              1,
              "#f0f921"
             ]
            ],
            "type": "contour"
           }
          ],
          "contourcarpet": [
           {
            "colorbar": {
             "outlinewidth": 0,
             "ticks": ""
            },
            "type": "contourcarpet"
           }
          ],
          "heatmap": [
           {
            "colorbar": {
             "outlinewidth": 0,
             "ticks": ""
            },
            "colorscale": [
             [
              0,
              "#0d0887"
             ],
             [
              0.1111111111111111,
              "#46039f"
             ],
             [
              0.2222222222222222,
              "#7201a8"
             ],
             [
              0.3333333333333333,
              "#9c179e"
             ],
             [
              0.4444444444444444,
              "#bd3786"
             ],
             [
              0.5555555555555556,
              "#d8576b"
             ],
             [
              0.6666666666666666,
              "#ed7953"
             ],
             [
              0.7777777777777778,
              "#fb9f3a"
             ],
             [
              0.8888888888888888,
              "#fdca26"
             ],
             [
              1,
              "#f0f921"
             ]
            ],
            "type": "heatmap"
           }
          ],
          "heatmapgl": [
           {
            "colorbar": {
             "outlinewidth": 0,
             "ticks": ""
            },
            "colorscale": [
             [
              0,
              "#0d0887"
             ],
             [
              0.1111111111111111,
              "#46039f"
             ],
             [
              0.2222222222222222,
              "#7201a8"
             ],
             [
              0.3333333333333333,
              "#9c179e"
             ],
             [
              0.4444444444444444,
              "#bd3786"
             ],
             [
              0.5555555555555556,
              "#d8576b"
             ],
             [
              0.6666666666666666,
              "#ed7953"
             ],
             [
              0.7777777777777778,
              "#fb9f3a"
             ],
             [
              0.8888888888888888,
              "#fdca26"
             ],
             [
              1,
              "#f0f921"
             ]
            ],
            "type": "heatmapgl"
           }
          ],
          "histogram": [
           {
            "marker": {
             "colorbar": {
              "outlinewidth": 0,
              "ticks": ""
             }
            },
            "type": "histogram"
           }
          ],
          "histogram2d": [
           {
            "colorbar": {
             "outlinewidth": 0,
             "ticks": ""
            },
            "colorscale": [
             [
              0,
              "#0d0887"
             ],
             [
              0.1111111111111111,
              "#46039f"
             ],
             [
              0.2222222222222222,
              "#7201a8"
             ],
             [
              0.3333333333333333,
              "#9c179e"
             ],
             [
              0.4444444444444444,
              "#bd3786"
             ],
             [
              0.5555555555555556,
              "#d8576b"
             ],
             [
              0.6666666666666666,
              "#ed7953"
             ],
             [
              0.7777777777777778,
              "#fb9f3a"
             ],
             [
              0.8888888888888888,
              "#fdca26"
             ],
             [
              1,
              "#f0f921"
             ]
            ],
            "type": "histogram2d"
           }
          ],
          "histogram2dcontour": [
           {
            "colorbar": {
             "outlinewidth": 0,
             "ticks": ""
            },
            "colorscale": [
             [
              0,
              "#0d0887"
             ],
             [
              0.1111111111111111,
              "#46039f"
             ],
             [
              0.2222222222222222,
              "#7201a8"
             ],
             [
              0.3333333333333333,
              "#9c179e"
             ],
             [
              0.4444444444444444,
              "#bd3786"
             ],
             [
              0.5555555555555556,
              "#d8576b"
             ],
             [
              0.6666666666666666,
              "#ed7953"
             ],
             [
              0.7777777777777778,
              "#fb9f3a"
             ],
             [
              0.8888888888888888,
              "#fdca26"
             ],
             [
              1,
              "#f0f921"
             ]
            ],
            "type": "histogram2dcontour"
           }
          ],
          "mesh3d": [
           {
            "colorbar": {
             "outlinewidth": 0,
             "ticks": ""
            },
            "type": "mesh3d"
           }
          ],
          "parcoords": [
           {
            "line": {
             "colorbar": {
              "outlinewidth": 0,
              "ticks": ""
             }
            },
            "type": "parcoords"
           }
          ],
          "pie": [
           {
            "automargin": true,
            "type": "pie"
           }
          ],
          "scatter": [
           {
            "marker": {
             "colorbar": {
              "outlinewidth": 0,
              "ticks": ""
             }
            },
            "type": "scatter"
           }
          ],
          "scatter3d": [
           {
            "line": {
             "colorbar": {
              "outlinewidth": 0,
              "ticks": ""
             }
            },
            "marker": {
             "colorbar": {
              "outlinewidth": 0,
              "ticks": ""
             }
            },
            "type": "scatter3d"
           }
          ],
          "scattercarpet": [
           {
            "marker": {
             "colorbar": {
              "outlinewidth": 0,
              "ticks": ""
             }
            },
            "type": "scattercarpet"
           }
          ],
          "scattergeo": [
           {
            "marker": {
             "colorbar": {
              "outlinewidth": 0,
              "ticks": ""
             }
            },
            "type": "scattergeo"
           }
          ],
          "scattergl": [
           {
            "marker": {
             "colorbar": {
              "outlinewidth": 0,
              "ticks": ""
             }
            },
            "type": "scattergl"
           }
          ],
          "scattermapbox": [
           {
            "marker": {
             "colorbar": {
              "outlinewidth": 0,
              "ticks": ""
             }
            },
            "type": "scattermapbox"
           }
          ],
          "scatterpolar": [
           {
            "marker": {
             "colorbar": {
              "outlinewidth": 0,
              "ticks": ""
             }
            },
            "type": "scatterpolar"
           }
          ],
          "scatterpolargl": [
           {
            "marker": {
             "colorbar": {
              "outlinewidth": 0,
              "ticks": ""
             }
            },
            "type": "scatterpolargl"
           }
          ],
          "scatterternary": [
           {
            "marker": {
             "colorbar": {
              "outlinewidth": 0,
              "ticks": ""
             }
            },
            "type": "scatterternary"
           }
          ],
          "surface": [
           {
            "colorbar": {
             "outlinewidth": 0,
             "ticks": ""
            },
            "colorscale": [
             [
              0,
              "#0d0887"
             ],
             [
              0.1111111111111111,
              "#46039f"
             ],
             [
              0.2222222222222222,
              "#7201a8"
             ],
             [
              0.3333333333333333,
              "#9c179e"
             ],
             [
              0.4444444444444444,
              "#bd3786"
             ],
             [
              0.5555555555555556,
              "#d8576b"
             ],
             [
              0.6666666666666666,
              "#ed7953"
             ],
             [
              0.7777777777777778,
              "#fb9f3a"
             ],
             [
              0.8888888888888888,
              "#fdca26"
             ],
             [
              1,
              "#f0f921"
             ]
            ],
            "type": "surface"
           }
          ],
          "table": [
           {
            "cells": {
             "fill": {
              "color": "#EBF0F8"
             },
             "line": {
              "color": "white"
             }
            },
            "header": {
             "fill": {
              "color": "#C8D4E3"
             },
             "line": {
              "color": "white"
             }
            },
            "type": "table"
           }
          ]
         },
         "layout": {
          "annotationdefaults": {
           "arrowcolor": "#2a3f5f",
           "arrowhead": 0,
           "arrowwidth": 1
          },
          "autotypenumbers": "strict",
          "coloraxis": {
           "colorbar": {
            "outlinewidth": 0,
            "ticks": ""
           }
          },
          "colorscale": {
           "diverging": [
            [
             0,
             "#8e0152"
            ],
            [
             0.1,
             "#c51b7d"
            ],
            [
             0.2,
             "#de77ae"
            ],
            [
             0.3,
             "#f1b6da"
            ],
            [
             0.4,
             "#fde0ef"
            ],
            [
             0.5,
             "#f7f7f7"
            ],
            [
             0.6,
             "#e6f5d0"
            ],
            [
             0.7,
             "#b8e186"
            ],
            [
             0.8,
             "#7fbc41"
            ],
            [
             0.9,
             "#4d9221"
            ],
            [
             1,
             "#276419"
            ]
           ],
           "sequential": [
            [
             0,
             "#0d0887"
            ],
            [
             0.1111111111111111,
             "#46039f"
            ],
            [
             0.2222222222222222,
             "#7201a8"
            ],
            [
             0.3333333333333333,
             "#9c179e"
            ],
            [
             0.4444444444444444,
             "#bd3786"
            ],
            [
             0.5555555555555556,
             "#d8576b"
            ],
            [
             0.6666666666666666,
             "#ed7953"
            ],
            [
             0.7777777777777778,
             "#fb9f3a"
            ],
            [
             0.8888888888888888,
             "#fdca26"
            ],
            [
             1,
             "#f0f921"
            ]
           ],
           "sequentialminus": [
            [
             0,
             "#0d0887"
            ],
            [
             0.1111111111111111,
             "#46039f"
            ],
            [
             0.2222222222222222,
             "#7201a8"
            ],
            [
             0.3333333333333333,
             "#9c179e"
            ],
            [
             0.4444444444444444,
             "#bd3786"
            ],
            [
             0.5555555555555556,
             "#d8576b"
            ],
            [
             0.6666666666666666,
             "#ed7953"
            ],
            [
             0.7777777777777778,
             "#fb9f3a"
            ],
            [
             0.8888888888888888,
             "#fdca26"
            ],
            [
             1,
             "#f0f921"
            ]
           ]
          },
          "colorway": [
           "#636efa",
           "#EF553B",
           "#00cc96",
           "#ab63fa",
           "#FFA15A",
           "#19d3f3",
           "#FF6692",
           "#B6E880",
           "#FF97FF",
           "#FECB52"
          ],
          "font": {
           "color": "#2a3f5f"
          },
          "geo": {
           "bgcolor": "white",
           "lakecolor": "white",
           "landcolor": "#E5ECF6",
           "showlakes": true,
           "showland": true,
           "subunitcolor": "white"
          },
          "hoverlabel": {
           "align": "left"
          },
          "hovermode": "closest",
          "mapbox": {
           "style": "light"
          },
          "paper_bgcolor": "white",
          "plot_bgcolor": "#E5ECF6",
          "polar": {
           "angularaxis": {
            "gridcolor": "white",
            "linecolor": "white",
            "ticks": ""
           },
           "bgcolor": "#E5ECF6",
           "radialaxis": {
            "gridcolor": "white",
            "linecolor": "white",
            "ticks": ""
           }
          },
          "scene": {
           "xaxis": {
            "backgroundcolor": "#E5ECF6",
            "gridcolor": "white",
            "gridwidth": 2,
            "linecolor": "white",
            "showbackground": true,
            "ticks": "",
            "zerolinecolor": "white"
           },
           "yaxis": {
            "backgroundcolor": "#E5ECF6",
            "gridcolor": "white",
            "gridwidth": 2,
            "linecolor": "white",
            "showbackground": true,
            "ticks": "",
            "zerolinecolor": "white"
           },
           "zaxis": {
            "backgroundcolor": "#E5ECF6",
            "gridcolor": "white",
            "gridwidth": 2,
            "linecolor": "white",
            "showbackground": true,
            "ticks": "",
            "zerolinecolor": "white"
           }
          },
          "shapedefaults": {
           "line": {
            "color": "#2a3f5f"
           }
          },
          "ternary": {
           "aaxis": {
            "gridcolor": "white",
            "linecolor": "white",
            "ticks": ""
           },
           "baxis": {
            "gridcolor": "white",
            "linecolor": "white",
            "ticks": ""
           },
           "bgcolor": "#E5ECF6",
           "caxis": {
            "gridcolor": "white",
            "linecolor": "white",
            "ticks": ""
           }
          },
          "title": {
           "x": 0.05
          },
          "xaxis": {
           "automargin": true,
           "gridcolor": "white",
           "linecolor": "white",
           "ticks": "",
           "title": {
            "standoff": 15
           },
           "zerolinecolor": "white",
           "zerolinewidth": 2
          },
          "yaxis": {
           "automargin": true,
           "gridcolor": "white",
           "linecolor": "white",
           "ticks": "",
           "title": {
            "standoff": 15
           },
           "zerolinecolor": "white",
           "zerolinewidth": 2
          }
         }
        },
        "title": {
         "text": "Evolution Of Average Departure Delay Year-over-Year"
        },
        "width": 900,
        "xaxis": {
         "tickformat": "d",
         "ticklen": 5,
         "title": {
          "text": "Carrier"
         },
         "zeroline": false
        },
        "yaxis": {
         "title": {
          "text": "Average Departure Delay(Minutes)"
         }
        }
       }
      }
     },
     "metadata": {},
     "output_type": "display_data"
    }
   ],
   "source": [
    "averageDepartureDelayPerYearBar = go.Bar(\n",
    "    x = averageDepartureArrivalDelayPerYear.toPandas()['Year'],\n",
    "    y = averageDepartureArrivalDelayPerYear.toPandas()['AverageDepartureDelay'],\n",
    "    name = 'Departure Delay Percentage',\n",
    "    marker = dict(color='purple'),\n",
    "    text = round(averageDepartureArrivalDelayPerYear.toPandas()['AverageArrivalDelay']))\n",
    "\n",
    "data = [averageDepartureDelayPerYearBar]\n",
    "\n",
    "layout = dict(title = 'Evolution Of Average Departure Delay Year-over-Year',\n",
    "              xaxis= dict(title= 'Carrier',ticklen= 5,zeroline= False,tickformat='d'),\n",
    "              yaxis= dict(title= 'Average Departure Delay(Minutes)'),\n",
    "              height= 450,\n",
    "              width= 900\n",
    "             )\n",
    "fig = dict(data = data, layout = layout)\n",
    "\n",
    "pyo.iplot(fig)"
   ]
  },
  {
   "attachments": {},
   "cell_type": "markdown",
   "metadata": {},
   "source": [
    "AVERAGE DEPARTURE DELAY PER DEPARTURE LOCATION IN ALL YEARS"
   ]
  },
  {
   "cell_type": "code",
   "execution_count": 92,
   "metadata": {},
   "outputs": [
    {
     "name": "stdout",
     "output_type": "stream",
     "text": [
      "+------+---------------------+\n",
      "|ORIGIN|AverageDelayPerOrigin|\n",
      "+------+---------------------+\n",
      "|   ENV|                157.0|\n",
      "|   PPG|              121.875|\n",
      "|   SLN|    88.72018348623853|\n",
      "|   LWB|    87.99009900990099|\n",
      "|   SHD|    82.14367816091954|\n",
      "|   CMX|    75.48494983277592|\n",
      "|   MQT|    74.36679536679537|\n",
      "|   LBL|    74.19811320754717|\n",
      "|   MEI|     73.9291553133515|\n",
      "|   PUB|    72.18181818181819|\n",
      "|   DVL|    71.73023255813953|\n",
      "|   RDD|    68.96987253765933|\n",
      "|   EGE|     68.9584552369807|\n",
      "|   BGM|     68.3667711598746|\n",
      "|   MBS|    68.17650834403081|\n",
      "|   CKB|    67.97377049180328|\n",
      "|   LCH|    67.80292942743009|\n",
      "|   RHI|    67.14951456310679|\n",
      "|   OTH|    66.96222222222222|\n",
      "|   PIB|    66.46075085324232|\n",
      "|   CGI|    66.34939759036145|\n",
      "|   ITH|    66.28314917127072|\n",
      "|   SAF|     65.7936210131332|\n",
      "|   ISN|    65.73929471032746|\n",
      "|   JMS|    64.92836257309942|\n",
      "|   LRD|    64.62005856515373|\n",
      "|   SCE|    64.50854700854701|\n",
      "|   UIN|    64.31189710610933|\n",
      "|   CLL|    64.19959473150962|\n",
      "|   MHK|    63.99396681749623|\n",
      "|   BRO|   63.809034907597535|\n",
      "|   DLH|    63.22632674297606|\n",
      "|   HYS|   63.138728323699425|\n",
      "|   YNG|                 63.0|\n",
      "|   AZO|    62.64597544338336|\n",
      "|   ASE|    62.07561156412157|\n",
      "|   PLN|    61.56993006993007|\n",
      "|   PAH|    61.22709163346614|\n",
      "|   MMH|    60.29054054054054|\n",
      "|   HVN|   60.048327137546465|\n",
      "|   MLU|    59.53842482100239|\n",
      "|   FSM|    59.50939457202505|\n",
      "|   EAU|    59.21383647798742|\n",
      "|   BTM|   59.199413489736074|\n",
      "|   ERI|   59.149377593360995|\n",
      "|   BGR|    59.03768996960486|\n",
      "|   RDM|    58.70456092579986|\n",
      "|   SBA|   58.678375634517764|\n",
      "|   ACK|    58.26502463054187|\n",
      "|   RST|   58.193660227835565|\n",
      "+------+---------------------+\n",
      "only showing top 50 rows\n",
      "\n"
     ]
    }
   ],
   "source": [
    "averageDelayPerDepartureLocationInAllYears = spark.sql(\"SELECT ORIGIN, AVG(IF(DEP_DELAY >= 0 , DEP_DELAY, NULL)) AS AverageDelayPerOrigin FROM airlinedelay  \\\n",
    "GROUP BY ORIGIN ORDER BY AverageDelayPerOrigin DESC\")\n",
    "\n",
    "averageDelayPerDepartureLocationInAllYears.show(50);"
   ]
  },
  {
   "cell_type": "code",
   "execution_count": 93,
   "metadata": {},
   "outputs": [],
   "source": [
    "# averageDelayPerDepartureLocationInAllYearsGraph = go.Pie(\n",
    "#     values = averageDelayPerDepartureLocationInAllYears.toPandas()['AverageDelayPerOrigin'],\n",
    "#     text = averageDelayPerDepartureLocationInAllYears.toPandas()['ORIGIN'])\n",
    "\n",
    "\n",
    "# data = [averageDelayPerDepartureLocationInAllYearsGraph]\n",
    "\n",
    "# layout = dict(title = 'AVERAGE DEPARTURE DELAY PER DEPARTURE LOCATION IN ALL YEARS',\n",
    "#               height= 600,\n",
    "#               width= 900\n",
    "#              )\n",
    "# fig = dict(data = data, layout = layout)\n",
    "\n",
    "# pyo.iplot(fig)"
   ]
  },
  {
   "attachments": {},
   "cell_type": "markdown",
   "metadata": {},
   "source": [
    "AVERAGE DEPARTURE DELAY PER DEPARTURE LOCATION EACH YEAR"
   ]
  },
  {
   "cell_type": "code",
   "execution_count": 94,
   "metadata": {},
   "outputs": [
    {
     "name": "stdout",
     "output_type": "stream",
     "text": [
      "+------+---------------------+----+\n",
      "|ORIGIN|AverageDelayPerOrigin|Year|\n",
      "+------+---------------------+----+\n",
      "|   PPG|   201.55555555555554|2016|\n",
      "|   ENV|                157.0|2016|\n",
      "|   DVL|    122.1344537815126|2018|\n",
      "|   PPG|    99.58064516129032|2018|\n",
      "|   GCK|    99.08108108108108|2016|\n",
      "|   JMS|    97.18536585365854|2018|\n",
      "|   CMX|    96.56744186046511|2018|\n",
      "|   UST|    95.85714285714286|2017|\n",
      "|   GCK|    92.89655172413794|2017|\n",
      "|   RHI|    92.57462686567165|2017|\n",
      "|   SLN|    88.72018348623853|2018|\n",
      "|   LWB|    87.99009900990099|2018|\n",
      "|   LCH|    86.76878612716763|2017|\n",
      "|   MQT|    84.84939759036145|2016|\n",
      "|   SAF|    82.25088339222614|2018|\n",
      "|   SHD|    82.14367816091954|2018|\n",
      "|   MEI|    81.23869346733669|2017|\n",
      "|   RHI|    80.50381679389314|2018|\n",
      "|   FSM|     80.1043956043956|2017|\n",
      "|   HYS|    80.08812260536398|2018|\n",
      "|   ITH|    79.99586776859505|2018|\n",
      "|   MHK|    79.28909952606635|2017|\n",
      "|   BGR|    79.12786885245902|2017|\n",
      "|   EGE|      78.440329218107|2018|\n",
      "|   MBS|    78.38323353293413|2017|\n",
      "|   MMH|                 78.2|2018|\n",
      "|   LCH|    78.13186813186813|2016|\n",
      "|   RDD|    78.07777777777778|2017|\n",
      "|   PIB|    77.61714285714285|2018|\n",
      "|   ERI|    77.15962441314554|2018|\n",
      "|   OTH|    76.14285714285714|2017|\n",
      "|   BTM|    75.61206896551724|2017|\n",
      "|   LAW|            75.515625|2017|\n",
      "|   LAR|    75.33870967741936|2018|\n",
      "|   MQT|     74.9423076923077|2017|\n",
      "|   EGE|     74.6752688172043|2017|\n",
      "|   DLH|    74.46409807355516|2017|\n",
      "|   RDD|    74.42724458204334|2018|\n",
      "|   BGM|    74.33644859813084|2018|\n",
      "|   LBL|    74.19811320754717|2018|\n",
      "|   EAU|    73.74705882352941|2018|\n",
      "|   PUB|    73.49748743718592|2018|\n",
      "|   SUX|    73.46153846153847|2017|\n",
      "|   OTH|    73.36585365853658|2018|\n",
      "|   MEI|    73.16949152542372|2016|\n",
      "|   ELM|    72.66666666666667|2017|\n",
      "|   PPG|    72.33333333333333|2017|\n",
      "|   ACK|    72.23287671232876|2018|\n",
      "|   LWS|    71.48648648648648|2017|\n",
      "|   CLL|    71.29906542056075|2018|\n",
      "+------+---------------------+----+\n",
      "only showing top 50 rows\n",
      "\n"
     ]
    }
   ],
   "source": [
    "averageDelayPerDepartureLocationEachYear = spark.sql(\"SELECT ORIGIN, AVG(IF(DEP_DELAY >= 0 , DEP_DELAY, NULL)) AS AverageDelayPerOrigin,\\\n",
    " EXTRACT(year from FL_DATE) AS Year FROM airlinedelay GROUP BY ORIGIN, Year \\\n",
    " ORDER BY AverageDelayPerOrigin DESC\")\n",
    "\n",
    "averageDelayPerDepartureLocationEachYear.show(50)"
   ]
  },
  {
   "cell_type": "code",
   "execution_count": 95,
   "metadata": {},
   "outputs": [
    {
     "data": {
      "application/vnd.plotly.v1+json": {
       "config": {
        "linkText": "Export to plot.ly",
        "plotlyServerURL": "https://plot.ly",
        "showLink": false
       },
       "data": [
        {
         "mode": "lines+markers",
         "name": "PPG",
         "type": "scatter",
         "x": [
          2016,
          2017,
          2018
         ],
         "y": [
          201.55555555555554,
          99.58064516129032,
          72.33333333333333
         ]
        },
        {
         "mode": "lines+markers",
         "name": "ENV",
         "type": "scatter",
         "x": [
          2016,
          2017,
          2018
         ],
         "y": [
          157
         ]
        },
        {
         "mode": "lines+markers",
         "name": "DVL",
         "type": "scatter",
         "x": [
          2016,
          2017,
          2018
         ],
         "y": [
          122.1344537815126,
          58.19867549668874,
          47.0125
         ]
        },
        {
         "mode": "lines+markers",
         "name": "GCK",
         "type": "scatter",
         "x": [
          2016,
          2017,
          2018
         ],
         "y": [
          99.08108108108108,
          92.89655172413794,
          33.1991341991342
         ]
        },
        {
         "mode": "lines+markers",
         "name": "JMS",
         "type": "scatter",
         "x": [
          2016,
          2017,
          2018
         ],
         "y": [
          97.18536585365854,
          52.19028340080972,
          49.98706896551724
         ]
        },
        {
         "mode": "lines+markers",
         "name": "CMX",
         "type": "scatter",
         "x": [
          2016,
          2017,
          2018
         ],
         "y": [
          96.56744186046511,
          65.17647058823529,
          62.63478260869565
         ]
        },
        {
         "mode": "lines+markers",
         "name": "UST",
         "type": "scatter",
         "x": [
          2016,
          2017,
          2018
         ],
         "y": [
          95.85714285714286,
          39.023809523809526
         ]
        },
        {
         "mode": "lines+markers",
         "name": "RHI",
         "type": "scatter",
         "x": [
          2016,
          2017,
          2018
         ],
         "y": [
          92.57462686567165,
          80.50381679389314,
          46.524
         ]
        },
        {
         "mode": "lines+markers",
         "name": "SLN",
         "type": "scatter",
         "x": [
          2016,
          2017,
          2018
         ],
         "y": [
          88.72018348623853
         ]
        },
        {
         "mode": "lines+markers",
         "name": "LWB",
         "type": "scatter",
         "x": [
          2016,
          2017,
          2018
         ],
         "y": [
          87.99009900990099
         ]
        },
        {
         "mode": "lines+markers",
         "name": "LCH",
         "type": "scatter",
         "x": [
          2016,
          2017,
          2018
         ],
         "y": [
          86.76878612716763,
          78.13186813186813,
          54.77020202020202
         ]
        },
        {
         "mode": "lines+markers",
         "name": "MQT",
         "type": "scatter",
         "x": [
          2016,
          2017,
          2018
         ],
         "y": [
          84.84939759036145,
          74.9423076923077,
          69.75186104218362
         ]
        },
        {
         "mode": "lines+markers",
         "name": "SAF",
         "type": "scatter",
         "x": [
          2016,
          2017,
          2018
         ],
         "y": [
          82.25088339222614,
          60.674351585014406,
          59.18577981651376
         ]
        },
        {
         "mode": "lines+markers",
         "name": "SHD",
         "type": "scatter",
         "x": [
          2016,
          2017,
          2018
         ],
         "y": [
          82.14367816091954
         ]
        },
        {
         "mode": "lines+markers",
         "name": "MEI",
         "type": "scatter",
         "x": [
          2016,
          2017,
          2018
         ],
         "y": [
          81.23869346733669,
          73.16949152542372,
          67.34803921568627
         ]
        },
        {
         "mode": "lines+markers",
         "name": "FSM",
         "type": "scatter",
         "x": [
          2016,
          2017,
          2018
         ],
         "y": [
          80.1043956043956,
          56.065843621399175,
          54.046904315197
         ]
        },
        {
         "mode": "lines+markers",
         "name": "HYS",
         "type": "scatter",
         "x": [
          2016,
          2017,
          2018
         ],
         "y": [
          80.08812260536398,
          51.77235772357724,
          40.72592592592593
         ]
        },
        {
         "mode": "lines+markers",
         "name": "ITH",
         "type": "scatter",
         "x": [
          2016,
          2017,
          2018
         ],
         "y": [
          79.99586776859505,
          65.52654867256638,
          53.98828125
         ]
        },
        {
         "mode": "lines+markers",
         "name": "MHK",
         "type": "scatter",
         "x": [
          2016,
          2017,
          2018
         ],
         "y": [
          79.28909952606635,
          56.85398230088496,
          null
         ]
        },
        {
         "mode": "lines+markers",
         "name": "BGR",
         "type": "scatter",
         "x": [
          2016,
          2017,
          2018
         ],
         "y": [
          79.12786885245902,
          55.12575366063738,
          50.17877094972067
         ]
        },
        {
         "mode": "lines+markers",
         "name": "EGE",
         "type": "scatter",
         "x": [
          2016,
          2017,
          2018
         ],
         "y": [
          78.440329218107,
          74.6752688172043,
          50.3747572815534
         ]
        },
        {
         "mode": "lines+markers",
         "name": "MBS",
         "type": "scatter",
         "x": [
          2016,
          2017,
          2018
         ],
         "y": [
          78.38323353293413,
          70.93178036605657,
          53.33114035087719
         ]
        },
        {
         "mode": "lines+markers",
         "name": "MMH",
         "type": "scatter",
         "x": [
          2016,
          2017,
          2018
         ],
         "y": [
          78.2,
          48.53061224489796,
          43
         ]
        },
        {
         "mode": "lines+markers",
         "name": "RDD",
         "type": "scatter",
         "x": [
          2016,
          2017,
          2018
         ],
         "y": [
          78.07777777777778,
          74.42724458204334,
          53.333333333333336
         ]
        },
        {
         "mode": "lines+markers",
         "name": "PIB",
         "type": "scatter",
         "x": [
          2016,
          2017,
          2018
         ],
         "y": [
          77.61714285714285,
          66.18614718614718,
          55.96666666666667
         ]
        },
        {
         "mode": "lines+markers",
         "name": "ERI",
         "type": "scatter",
         "x": [
          2016,
          2017,
          2018
         ],
         "y": [
          77.15962441314554,
          57.543010752688176,
          48.23148148148148
         ]
        },
        {
         "mode": "lines+markers",
         "name": "OTH",
         "type": "scatter",
         "x": [
          2016,
          2017,
          2018
         ],
         "y": [
          76.14285714285714,
          73.36585365853658,
          49.697841726618705
         ]
        },
        {
         "mode": "lines+markers",
         "name": "BTM",
         "type": "scatter",
         "x": [
          2016,
          2017,
          2018
         ],
         "y": [
          75.61206896551724,
          50.91596638655462,
          50.5377358490566
         ]
        },
        {
         "mode": "lines+markers",
         "name": "LAW",
         "type": "scatter",
         "x": [
          2016,
          2017,
          2018
         ],
         "y": [
          75.515625,
          55.407534246575345,
          47.67700258397933
         ]
        },
        {
         "mode": "lines+markers",
         "name": "LAR",
         "type": "scatter",
         "x": [
          2016,
          2017,
          2018
         ],
         "y": [
          75.33870967741936,
          66.72321428571429,
          36.61538461538461
         ]
        },
        {
         "mode": "lines+markers",
         "name": "DLH",
         "type": "scatter",
         "x": [
          2016,
          2017,
          2018
         ],
         "y": [
          74.46409807355516,
          63.6066763425254,
          53.137462235649544
         ]
        },
        {
         "mode": "lines+markers",
         "name": "BGM",
         "type": "scatter",
         "x": [
          2016,
          2017,
          2018
         ],
         "y": [
          74.33644859813084,
          70.45370370370371,
          60.05769230769231
         ]
        },
        {
         "mode": "lines+markers",
         "name": "LBL",
         "type": "scatter",
         "x": [
          2016,
          2017,
          2018
         ],
         "y": [
          74.19811320754717
         ]
        },
        {
         "mode": "lines+markers",
         "name": "EAU",
         "type": "scatter",
         "x": [
          2016,
          2017,
          2018
         ],
         "y": [
          73.74705882352941,
          53.45,
          49.25149700598802
         ]
        },
        {
         "mode": "lines+markers",
         "name": "PUB",
         "type": "scatter",
         "x": [
          2016,
          2017,
          2018
         ],
         "y": [
          73.49748743718592,
          46
         ]
        },
        {
         "mode": "lines+markers",
         "name": "SUX",
         "type": "scatter",
         "x": [
          2016,
          2017,
          2018
         ],
         "y": [
          73.46153846153847,
          34.548327137546465
         ]
        },
        {
         "mode": "lines+markers",
         "name": "ELM",
         "type": "scatter",
         "x": [
          2016,
          2017,
          2018
         ],
         "y": [
          72.66666666666667,
          49.65428571428571,
          46.25
         ]
        },
        {
         "mode": "lines+markers",
         "name": "ACK",
         "type": "scatter",
         "x": [
          2016,
          2017,
          2018
         ],
         "y": [
          72.23287671232876,
          56.54111405835544,
          41.97069597069597
         ]
        },
        {
         "mode": "lines+markers",
         "name": "LWS",
         "type": "scatter",
         "x": [
          2016,
          2017,
          2018
         ],
         "y": [
          71.48648648648648,
          44.278481012658226,
          38.277227722772274
         ]
        },
        {
         "mode": "lines+markers",
         "name": "CLL",
         "type": "scatter",
         "x": [
          2016,
          2017,
          2018
         ],
         "y": [
          71.29906542056075,
          64.11382113821138,
          45.86407766990291
         ]
        },
        {
         "mode": "lines+markers",
         "name": "CKB",
         "type": "scatter",
         "x": [
          2016,
          2017,
          2018
         ],
         "y": [
          71.19557195571956,
          42.294117647058826
         ]
        },
        {
         "mode": "lines+markers",
         "name": "LRD",
         "type": "scatter",
         "x": [
          2016,
          2017,
          2018
         ],
         "y": [
          70.99168975069252,
          64.16707021791767,
          61.05067567567568
         ]
        },
        {
         "mode": "lines+markers",
         "name": "CGI",
         "type": "scatter",
         "x": [
          2016,
          2017,
          2018
         ],
         "y": [
          70.8972602739726,
          33.15
         ]
        },
        {
         "mode": "lines+markers",
         "name": "SCE",
         "type": "scatter",
         "x": [
          2016,
          2017,
          2018
         ],
         "y": [
          70.4820143884892,
          67.4968944099379,
          46.97969543147208
         ]
        },
        {
         "mode": "lines+markers",
         "name": "MGM",
         "type": "scatter",
         "x": [
          2016,
          2017,
          2018
         ],
         "y": [
          70.47013487475915,
          48.97010869565217,
          41.116358658453116
         ]
        },
        {
         "mode": "lines+markers",
         "name": "MOT",
         "type": "scatter",
         "x": [
          2016,
          2017,
          2018
         ],
         "y": [
          70.3698224852071,
          54.2183734939759,
          53.93817204301075
         ]
        },
        {
         "mode": "lines+markers",
         "name": "ASE",
         "type": "scatter",
         "x": [
          2016,
          2017,
          2018
         ],
         "y": [
          69.60698027314112,
          66.1317747077577,
          47.42160052049447
         ]
        },
        {
         "mode": "lines+markers",
         "name": "MLU",
         "type": "scatter",
         "x": [
          2016,
          2017,
          2018
         ],
         "y": [
          69.37614678899082,
          56.38461538461539,
          55.72562674094708
         ]
        },
        {
         "mode": "lines+markers",
         "name": "CWA",
         "type": "scatter",
         "x": [
          2016,
          2017,
          2018
         ],
         "y": [
          69.11379310344827,
          51.6517571884984,
          49.01796407185629
         ]
        },
        {
         "mode": "lines+markers",
         "name": "TRI",
         "type": "scatter",
         "x": [
          2016,
          2017,
          2018
         ],
         "y": [
          68.79069767441861,
          56.12022900763359,
          48.63045793397231
         ]
        },
        {
         "mode": "lines+markers",
         "name": "BRO",
         "type": "scatter",
         "x": [
          2016,
          2017,
          2018
         ],
         "y": [
          68.78625954198473,
          64.04008016032064,
          61.57848837209303
         ]
        },
        {
         "mode": "lines+markers",
         "name": "ISN",
         "type": "scatter",
         "x": [
          2016,
          2017,
          2018
         ],
         "y": [
          68.30496453900709,
          64.74204946996467,
          63.81222707423581
         ]
        },
        {
         "mode": "lines+markers",
         "name": "SPI",
         "type": "scatter",
         "x": [
          2016,
          2017,
          2018
         ],
         "y": [
          67.8875968992248,
          53.57678571428571,
          46.34406438631791
         ]
        },
        {
         "mode": "lines+markers",
         "name": "TXK",
         "type": "scatter",
         "x": [
          2016,
          2017,
          2018
         ],
         "y": [
          67.76923076923077,
          61.1359649122807,
          41.59327217125382
         ]
        },
        {
         "mode": "lines+markers",
         "name": "PLN",
         "type": "scatter",
         "x": [
          2016,
          2017,
          2018
         ],
         "y": [
          67.6328125,
          59.09219858156028,
          58.903125
         ]
        },
        {
         "mode": "lines+markers",
         "name": "TOL",
         "type": "scatter",
         "x": [
          2016,
          2017,
          2018
         ],
         "y": [
          67.62162162162163,
          40.3743093922652
         ]
        },
        {
         "mode": "lines+markers",
         "name": "XNA",
         "type": "scatter",
         "x": [
          2016,
          2017,
          2018
         ],
         "y": [
          67.5969517358171,
          56.75438596491228,
          46.65649236927696
         ]
        },
        {
         "mode": "lines+markers",
         "name": "TYR",
         "type": "scatter",
         "x": [
          2016,
          2017,
          2018
         ],
         "y": [
          67.36842105263158,
          35.96610169491525,
          35.92
         ]
        },
        {
         "mode": "lines+markers",
         "name": "AZO",
         "type": "scatter",
         "x": [
          2016,
          2017,
          2018
         ],
         "y": [
          67.33590733590734,
          66.75561797752809,
          56.070945945945944
         ]
        },
        {
         "mode": "lines+markers",
         "name": "AEX",
         "type": "scatter",
         "x": [
          2016,
          2017,
          2018
         ],
         "y": [
          67.10880829015544,
          55.219548872180454,
          54.87765293383271
         ]
        },
        {
         "mode": "lines+markers",
         "name": "PIA",
         "type": "scatter",
         "x": [
          2016,
          2017,
          2018
         ],
         "y": [
          66.85394736842105,
          52.756979695431475,
          47.87322274881517
         ]
        },
        {
         "mode": "lines+markers",
         "name": "PAH",
         "type": "scatter",
         "x": [
          2016,
          2017,
          2018
         ],
         "y": [
          66.71337579617834,
          62.04216867469879,
          55.659217877094974
         ]
        },
        {
         "mode": "lines+markers",
         "name": "CIU",
         "type": "scatter",
         "x": [
          2016,
          2017,
          2018
         ],
         "y": [
          66.5952380952381,
          58.24844720496895,
          45.175182481751825
         ]
        },
        {
         "mode": "lines+markers",
         "name": "GUC",
         "type": "scatter",
         "x": [
          2016,
          2017,
          2018
         ],
         "y": [
          65.82894736842105,
          54.940298507462686,
          48.17857142857143
         ]
        },
        {
         "mode": "lines+markers",
         "name": "ABI",
         "type": "scatter",
         "x": [
          2016,
          2017,
          2018
         ],
         "y": [
          65.75,
          37.72366412213741,
          35.015625
         ]
        },
        {
         "mode": "lines+markers",
         "name": "FWA",
         "type": "scatter",
         "x": [
          2016,
          2017,
          2018
         ],
         "y": [
          65.60076287349014,
          52.58615948670944,
          45.795716639209225
         ]
        },
        {
         "mode": "lines+markers",
         "name": "SPS",
         "type": "scatter",
         "x": [
          2016,
          2017,
          2018
         ],
         "y": [
          65.18571428571428,
          56.453658536585365,
          31.694444444444443
         ]
        },
        {
         "mode": "lines+markers",
         "name": "UIN",
         "type": "scatter",
         "x": [
          2016,
          2017,
          2018
         ],
         "y": [
          65.13074204946996,
          56.035714285714285
         ]
        },
        {
         "mode": "lines+markers",
         "name": "EVV",
         "type": "scatter",
         "x": [
          2016,
          2017,
          2018
         ],
         "y": [
          65.00217391304348,
          54.53286713286713,
          49.72644376899696
         ]
        },
        {
         "mode": "lines+markers",
         "name": "STS",
         "type": "scatter",
         "x": [
          2016,
          2017,
          2018
         ],
         "y": [
          64.34541062801932,
          42.787321063394685
         ]
        },
        {
         "mode": "lines+markers",
         "name": "AVP",
         "type": "scatter",
         "x": [
          2016,
          2017,
          2018
         ],
         "y": [
          64.2294776119403,
          49.83316378433367,
          41.123873873873876
         ]
        },
        {
         "mode": "lines+markers",
         "name": "MKG",
         "type": "scatter",
         "x": [
          2016,
          2017,
          2018
         ],
         "y": [
          63.958333333333336,
          63.43046357615894,
          49.700980392156865
         ]
        },
        {
         "mode": "lines+markers",
         "name": "ESC",
         "type": "scatter",
         "x": [
          2016,
          2017,
          2018
         ],
         "y": [
          63.91219512195122,
          57.354285714285716,
          41.5260663507109
         ]
        },
        {
         "mode": "lines+markers",
         "name": "GRK",
         "type": "scatter",
         "x": [
          2016,
          2017,
          2018
         ],
         "y": [
          63.315649867374006,
          45.456344586728754,
          38.75813953488372
         ]
        },
        {
         "mode": "lines+markers",
         "name": "ABY",
         "type": "scatter",
         "x": [
          2016,
          2017,
          2018
         ],
         "y": [
          63.24595469255664,
          57.130208333333336,
          43.63197026022305
         ]
        },
        {
         "mode": "lines+markers",
         "name": "SBP",
         "type": "scatter",
         "x": [
          2016,
          2017,
          2018
         ],
         "y": [
          63.22012578616352,
          56.821144098479365,
          47.444831591173056
         ]
        },
        {
         "mode": "lines+markers",
         "name": "CHO",
         "type": "scatter",
         "x": [
          2016,
          2017,
          2018
         ],
         "y": [
          63.212239583333336,
          52.83944374209861,
          50.933681462140996
         ]
        },
        {
         "mode": "lines+markers",
         "name": "RST",
         "type": "scatter",
         "x": [
          2016,
          2017,
          2018
         ],
         "y": [
          63.04381443298969,
          57.927536231884055,
          54.377456049638056
         ]
        },
        {
         "mode": "lines+markers",
         "name": "YNG",
         "type": "scatter",
         "x": [
          2016,
          2017,
          2018
         ],
         "y": [
          63
         ]
        },
        {
         "mode": "lines+markers",
         "name": "GCC",
         "type": "scatter",
         "x": [
          2016,
          2017,
          2018
         ],
         "y": [
          62.70984455958549,
          59.125,
          51.083333333333336
         ]
        },
        {
         "mode": "lines+markers",
         "name": "CHA",
         "type": "scatter",
         "x": [
          2016,
          2017,
          2018
         ],
         "y": [
          62.47852298417483,
          47.49719887955182,
          46.97534976682212
         ]
        },
        {
         "mode": "lines+markers",
         "name": "ORH",
         "type": "scatter",
         "x": [
          2016,
          2017,
          2018
         ],
         "y": [
          62.38805970149254,
          47.939516129032256,
          42.44097222222222
         ]
        },
        {
         "mode": "lines+markers",
         "name": "ROW",
         "type": "scatter",
         "x": [
          2016,
          2017,
          2018
         ],
         "y": [
          62.371517027863774,
          57.95348837209303,
          28.891304347826086
         ]
        },
        {
         "mode": "lines+markers",
         "name": "HDN",
         "type": "scatter",
         "x": [
          2016,
          2017,
          2018
         ],
         "y": [
          62.19230769230769,
          61.530249110320284,
          48.20912547528517
         ]
        },
        {
         "mode": "lines+markers",
         "name": "LEX",
         "type": "scatter",
         "x": [
          2016,
          2017,
          2018
         ],
         "y": [
          62.07387508394896,
          45.748455730954014,
          44.03231821006837
         ]
        },
        {
         "mode": "lines+markers",
         "name": "BTR",
         "type": "scatter",
         "x": [
          2016,
          2017,
          2018
         ],
         "y": [
          61.65662337662338,
          57.949782713664895,
          51.26899766899767
         ]
        },
        {
         "mode": "lines+markers",
         "name": "BMI",
         "type": "scatter",
         "x": [
          2016,
          2017,
          2018
         ],
         "y": [
          61.501157407407405,
          54.53024193548387,
          34.568888888888885
         ]
        },
        {
         "mode": "lines+markers",
         "name": "HLN",
         "type": "scatter",
         "x": [
          2016,
          2017,
          2018
         ],
         "y": [
          61.3014705882353,
          40.0472972972973,
          30.813492063492063
         ]
        },
        {
         "mode": "lines+markers",
         "name": "RDM",
         "type": "scatter",
         "x": [
          2016,
          2017,
          2018
         ],
         "y": [
          61.01891891891892,
          59.43632958801498,
          54.296052631578945
         ]
        },
        {
         "mode": "lines+markers",
         "name": "SWO",
         "type": "scatter",
         "x": [
          2016,
          2017,
          2018
         ],
         "y": [
          61,
          44.388535031847134
         ]
        },
        {
         "mode": "lines+markers",
         "name": "AVL",
         "type": "scatter",
         "x": [
          2016,
          2017,
          2018
         ],
         "y": [
          60.95887281035796,
          50.36748688987495,
          46.01687388987567
         ]
        },
        {
         "mode": "lines+markers",
         "name": "EWN",
         "type": "scatter",
         "x": [
          2016,
          2017,
          2018
         ],
         "y": [
          60.81372549019608,
          55.68674698795181,
          43.22882615156018
         ]
        },
        {
         "mode": "lines+markers",
         "name": "APN",
         "type": "scatter",
         "x": [
          2016,
          2017,
          2018
         ],
         "y": [
          60.67027027027027,
          49.334600760456276,
          41.67578125
         ]
        },
        {
         "mode": "lines+markers",
         "name": "ACV",
         "type": "scatter",
         "x": [
          2016,
          2017,
          2018
         ],
         "y": [
          60.62210796915167,
          59.778021978021975,
          47.16766467065868
         ]
        },
        {
         "mode": "lines+markers",
         "name": "SBA",
         "type": "scatter",
         "x": [
          2016,
          2017,
          2018
         ],
         "y": [
          60.58410138248848,
          60.4218009478673,
          55.24182242990654
         ]
        },
        {
         "mode": "lines+markers",
         "name": "CPR",
         "type": "scatter",
         "x": [
          2016,
          2017,
          2018
         ],
         "y": [
          60.32520325203252,
          52.874439461883405,
          42.74107142857143
         ]
        },
        {
         "mode": "lines+markers",
         "name": "BIS",
         "type": "scatter",
         "x": [
          2016,
          2017,
          2018
         ],
         "y": [
          60.26470588235294,
          57.35787321063395,
          54.66737739872068
         ]
        },
        {
         "mode": "lines+markers",
         "name": "HVN",
         "type": "scatter",
         "x": [
          2016,
          2017,
          2018
         ],
         "y": [
          60.048327137546465
         ]
        },
        {
         "mode": "lines+markers",
         "name": "OAJ",
         "type": "scatter",
         "x": [
          2016,
          2017,
          2018
         ],
         "y": [
          59.93617021276596,
          46.721354166666664,
          44.83739045764362
         ]
        },
        {
         "mode": "lines+markers",
         "name": "SMX",
         "type": "scatter",
         "x": [
          2016,
          2017,
          2018
         ],
         "y": [
          59.81437125748503,
          37.82666666666667
         ]
        },
        {
         "mode": "lines+markers",
         "name": "MRY",
         "type": "scatter",
         "x": [
          2016,
          2017,
          2018
         ],
         "y": [
          59.7574931880109,
          59.754502369668245,
          44.43788819875776
         ]
        },
        {
         "mode": "lines+markers",
         "name": "SJT",
         "type": "scatter",
         "x": [
          2016,
          2017,
          2018
         ],
         "y": [
          59.34193548387097,
          50.579268292682926,
          38.223350253807105
         ]
        },
        {
         "mode": "lines+markers",
         "name": "MFE",
         "type": "scatter",
         "x": [
          2016,
          2017,
          2018
         ],
         "y": [
          59.27232142857143,
          56.69718309859155,
          51.913924050632914
         ]
        },
        {
         "mode": "lines+markers",
         "name": "INL",
         "type": "scatter",
         "x": [
          2016,
          2017,
          2018
         ],
         "y": [
          59.02439024390244,
          57.16326530612245,
          51.33649289099526
         ]
        },
        {
         "mode": "lines+markers",
         "name": "BRD",
         "type": "scatter",
         "x": [
          2016,
          2017,
          2018
         ],
         "y": [
          59,
          42.98639455782313,
          37.32203389830509
         ]
        },
        {
         "mode": "lines+markers",
         "name": "MTJ",
         "type": "scatter",
         "x": [
          2016,
          2017,
          2018
         ],
         "y": [
          58.94202898550725,
          53.95636363636363,
          51.15801354401806
         ]
        },
        {
         "mode": "lines+markers",
         "name": "GGG",
         "type": "scatter",
         "x": [
          2016,
          2017,
          2018
         ],
         "y": [
          58.833333333333336,
          45.74496644295302,
          33.301310043668124
         ]
        },
        {
         "mode": "lines+markers",
         "name": "DHN",
         "type": "scatter",
         "x": [
          2016,
          2017,
          2018
         ],
         "y": [
          58.44871794871795,
          56.22751322751323,
          50.27840909090909
         ]
        },
        {
         "mode": "lines+markers",
         "name": "SWF",
         "type": "scatter",
         "x": [
          2016,
          2017,
          2018
         ],
         "y": [
          58.19672131147541,
          57.5131926121372,
          40.30882352941177
         ]
        },
        {
         "mode": "lines+markers",
         "name": "GFK",
         "type": "scatter",
         "x": [
          2016,
          2017,
          2018
         ],
         "y": [
          57.87188612099644,
          56.66228070175438,
          51.91818181818182
         ]
        },
        {
         "mode": "lines+markers",
         "name": "RKS",
         "type": "scatter",
         "x": [
          2016,
          2017,
          2018
         ],
         "y": [
          57.772413793103446,
          51.72839506172839,
          47.08461538461538
         ]
        },
        {
         "mode": "lines+markers",
         "name": "TTN",
         "type": "scatter",
         "x": [
          2016,
          2017,
          2018
         ],
         "y": [
          57.615627466456196,
          49.32108626198083,
          45.40760157273919
         ]
        },
        {
         "mode": "lines+markers",
         "name": "BTV",
         "type": "scatter",
         "x": [
          2016,
          2017,
          2018
         ],
         "y": [
          57.499139414802066,
          50.624588002636784,
          48.36601307189542
         ]
        },
        {
         "mode": "lines+markers",
         "name": "COS",
         "type": "scatter",
         "x": [
          2016,
          2017,
          2018
         ],
         "y": [
          57.41571568307793,
          50.39962264150943,
          43.57074148296593
         ]
        },
        {
         "mode": "lines+markers",
         "name": "ILM",
         "type": "scatter",
         "x": [
          2016,
          2017,
          2018
         ],
         "y": [
          57.40787119856887,
          49.78350515463917,
          37.63089509143407
         ]
        },
        {
         "mode": "lines+markers",
         "name": "PSC",
         "type": "scatter",
         "x": [
          2016,
          2017,
          2018
         ],
         "y": [
          57.3957783641161,
          48.6353591160221,
          47.232451093210585
         ]
        },
        {
         "mode": "lines+markers",
         "name": "LAN",
         "type": "scatter",
         "x": [
          2016,
          2017,
          2018
         ],
         "y": [
          57.34375,
          54.394213381555154,
          48.00110741971207
         ]
        },
        {
         "mode": "lines+markers",
         "name": "LFT",
         "type": "scatter",
         "x": [
          2016,
          2017,
          2018
         ],
         "y": [
          57.16556291390729,
          46.40230832646331,
          46.3006993006993
         ]
        },
        {
         "mode": "lines+markers",
         "name": "BFF",
         "type": "scatter",
         "x": [
          2016,
          2017,
          2018
         ],
         "y": [
          57.1123595505618,
          40
         ]
        },
        {
         "mode": "lines+markers",
         "name": "TVC",
         "type": "scatter",
         "x": [
          2016,
          2017,
          2018
         ],
         "y": [
          57.099530516431926,
          51.251736111111114,
          40.10150891632373
         ]
        },
        {
         "mode": "lines+markers",
         "name": "HIB",
         "type": "scatter",
         "x": [
          2016,
          2017,
          2018
         ],
         "y": [
          56.95744680851064,
          55.2695652173913,
          53.796551724137935
         ]
        },
        {
         "mode": "lines+markers",
         "name": "COD",
         "type": "scatter",
         "x": [
          2016,
          2017,
          2018
         ],
         "y": [
          56.94387755102041,
          43.57303370786517,
          41.35146443514645
         ]
        },
        {
         "mode": "lines+markers",
         "name": "VEL",
         "type": "scatter",
         "x": [
          2016,
          2017,
          2018
         ],
         "y": [
          56.903225806451616
         ]
        },
        {
         "mode": "lines+markers",
         "name": "MOB",
         "type": "scatter",
         "x": [
          2016,
          2017,
          2018
         ],
         "y": [
          56.85885167464115,
          45.30198739699467,
          44.914556962025316
         ]
        },
        {
         "mode": "lines+markers",
         "name": "SUN",
         "type": "scatter",
         "x": [
          2016,
          2017,
          2018
         ],
         "y": [
          56.85664335664335,
          56.59136212624585,
          51.55944055944056
         ]
        },
        {
         "mode": "lines+markers",
         "name": "GTR",
         "type": "scatter",
         "x": [
          2016,
          2017,
          2018
         ],
         "y": [
          56.756198347107436,
          52.16438356164384,
          48.02232142857143
         ]
        },
        {
         "mode": "lines+markers",
         "name": "GNV",
         "type": "scatter",
         "x": [
          2016,
          2017,
          2018
         ],
         "y": [
          56.74034334763949,
          46.14349112426036,
          41.0989010989011
         ]
        },
        {
         "mode": "lines+markers",
         "name": "LSE",
         "type": "scatter",
         "x": [
          2016,
          2017,
          2018
         ],
         "y": [
          56.44989775051125,
          51.61721611721612,
          36.73026315789474
         ]
        },
        {
         "mode": "lines+markers",
         "name": "HOB",
         "type": "scatter",
         "x": [
          2016,
          2017,
          2018
         ],
         "y": [
          56.3728813559322,
          49.97520661157025,
          46.59550561797753
         ]
        },
        {
         "mode": "lines+markers",
         "name": "DRO",
         "type": "scatter",
         "x": [
          2016,
          2017,
          2018
         ],
         "y": [
          56.21097046413502,
          51.23329425556858,
          38.66302367941712
         ]
        },
        {
         "mode": "lines+markers",
         "name": "FAR",
         "type": "scatter",
         "x": [
          2016,
          2017,
          2018
         ],
         "y": [
          56.088235294117645,
          47.110127826941984,
          45.8830099941211
         ]
        },
        {
         "mode": "lines+markers",
         "name": "JLN",
         "type": "scatter",
         "x": [
          2016,
          2017,
          2018
         ],
         "y": [
          55.892116182572614,
          52.23809523809524,
          43.84615384615385
         ]
        },
        {
         "mode": "lines+markers",
         "name": "ACY",
         "type": "scatter",
         "x": [
          2016,
          2017,
          2018
         ],
         "y": [
          55.830555555555556,
          44.21232876712329,
          39.77059659090909
         ]
        },
        {
         "mode": "lines+markers",
         "name": "IMT",
         "type": "scatter",
         "x": [
          2016,
          2017,
          2018
         ],
         "y": [
          55.67727272727273,
          50.09659090909091,
          45.53807106598985
         ]
        },
        {
         "mode": "lines+markers",
         "name": "SBN",
         "type": "scatter",
         "x": [
          2016,
          2017,
          2018
         ],
         "y": [
          55.59208731241473,
          49.77831219938784,
          41.553357314148684
         ]
        },
        {
         "mode": "lines+markers",
         "name": "LNK",
         "type": "scatter",
         "x": [
          2016,
          2017,
          2018
         ],
         "y": [
          55.53648068669528,
          53.100628930817614,
          48.1203007518797
         ]
        },
        {
         "mode": "lines+markers",
         "name": "MLI",
         "type": "scatter",
         "x": [
          2016,
          2017,
          2018
         ],
         "y": [
          55.489291598023065,
          53.32763157894737,
          45.57787666878576
         ]
        },
        {
         "mode": "lines+markers",
         "name": "BPT",
         "type": "scatter",
         "x": [
          2016,
          2017,
          2018
         ],
         "y": [
          55.333333333333336,
          52.32258064516129,
          46.666666666666664
         ]
        },
        {
         "mode": "lines+markers",
         "name": "GTF",
         "type": "scatter",
         "x": [
          2016,
          2017,
          2018
         ],
         "y": [
          54.66490765171504,
          48.79228486646884,
          44.94642857142857
         ]
        },
        {
         "mode": "lines+markers",
         "name": "TYS",
         "type": "scatter",
         "x": [
          2016,
          2017,
          2018
         ],
         "y": [
          54.61766207248596,
          50.70745896530231,
          42.334278959810874
         ]
        },
        {
         "mode": "lines+markers",
         "name": "JAC",
         "type": "scatter",
         "x": [
          2016,
          2017,
          2018
         ],
         "y": [
          54.41077738515901,
          49.84580838323353,
          49.12639109697933
         ]
        },
        {
         "mode": "lines+markers",
         "name": "HYA",
         "type": "scatter",
         "x": [
          2016,
          2017,
          2018
         ],
         "y": [
          54,
          35.07843137254902,
          28.080645161290324
         ]
        },
        {
         "mode": "lines+markers",
         "name": "CAK",
         "type": "scatter",
         "x": [
          2016,
          2017,
          2018
         ],
         "y": [
          53.99638118214717,
          53.720180528691166,
          42.07645875251509
         ]
        },
        {
         "mode": "lines+markers",
         "name": "BFL",
         "type": "scatter",
         "x": [
          2016,
          2017,
          2018
         ],
         "y": [
          53.862144420131294,
          52.27238805970149,
          50.66358595194085
         ]
        },
        {
         "mode": "lines+markers",
         "name": "FAT",
         "type": "scatter",
         "x": [
          2016,
          2017,
          2018
         ],
         "y": [
          53.85978358881876,
          50.514050091631034,
          46.398477157360404
         ]
        },
        {
         "mode": "lines+markers",
         "name": "BQK",
         "type": "scatter",
         "x": [
          2016,
          2017,
          2018
         ],
         "y": [
          53.78109452736319,
          51.19047619047619,
          43.0547263681592
         ]
        },
        {
         "mode": "lines+markers",
         "name": "PBG",
         "type": "scatter",
         "x": [
          2016,
          2017,
          2018
         ],
         "y": [
          53.712574850299404,
          47.63129973474801,
          23.18285714285714
         ]
        },
        {
         "mode": "lines+markers",
         "name": "LBF",
         "type": "scatter",
         "x": [
          2016,
          2017,
          2018
         ],
         "y": [
          53.69642857142857
         ]
        },
        {
         "mode": "lines+markers",
         "name": "COU",
         "type": "scatter",
         "x": [
          2016,
          2017,
          2018
         ],
         "y": [
          53.57039187227866,
          50.868852459016395
         ]
        },
        {
         "mode": "lines+markers",
         "name": "OWB",
         "type": "scatter",
         "x": [
          2016,
          2017,
          2018
         ],
         "y": [
          53.564516129032256
         ]
        },
        {
         "mode": "lines+markers",
         "name": "LBE",
         "type": "scatter",
         "x": [
          2016,
          2017,
          2018
         ],
         "y": [
          53.53526970954357,
          50.52719665271967,
          45.79381443298969
         ]
        },
        {
         "mode": "lines+markers",
         "name": "GRI",
         "type": "scatter",
         "x": [
          2016,
          2017,
          2018
         ],
         "y": [
          53.52127659574468,
          43.565320665083135,
          32.52777777777778
         ]
        },
        {
         "mode": "lines+markers",
         "name": "MYR",
         "type": "scatter",
         "x": [
          2016,
          2017,
          2018
         ],
         "y": [
          53.40746934225195,
          45.42419948994049,
          40.65
         ]
        },
        {
         "mode": "lines+markers",
         "name": "ABE",
         "type": "scatter",
         "x": [
          2016,
          2017,
          2018
         ],
         "y": [
          53.40506329113924,
          44.977397260273975,
          41.85941644562334
         ]
        },
        {
         "mode": "lines+markers",
         "name": "FSD",
         "type": "scatter",
         "x": [
          2016,
          2017,
          2018
         ],
         "y": [
          53.288428324697755,
          49.46622889305816,
          44.318059299191376
         ]
        },
        {
         "mode": "lines+markers",
         "name": "GRB",
         "type": "scatter",
         "x": [
          2016,
          2017,
          2018
         ],
         "y": [
          53.02813852813853,
          50.89820359281437,
          47.75
         ]
        },
        {
         "mode": "lines+markers",
         "name": "BIL",
         "type": "scatter",
         "x": [
          2016,
          2017,
          2018
         ],
         "y": [
          52.76642335766423,
          44.75974025974026,
          36.21378091872791
         ]
        },
        {
         "mode": "lines+markers",
         "name": "HHH",
         "type": "scatter",
         "x": [
          2016,
          2017,
          2018
         ],
         "y": [
          52.18888888888889
         ]
        },
        {
         "mode": "lines+markers",
         "name": "IAG",
         "type": "scatter",
         "x": [
          2016,
          2017,
          2018
         ],
         "y": [
          52.14903846153846,
          41.37845303867403,
          27.05142857142857
         ]
        },
        {
         "mode": "lines+markers",
         "name": "AGS",
         "type": "scatter",
         "x": [
          2016,
          2017,
          2018
         ],
         "y": [
          52.02059202059202,
          43.51015531660693,
          42.6819830713422
         ]
        },
        {
         "mode": "lines+markers",
         "name": "BJI",
         "type": "scatter",
         "x": [
          2016,
          2017,
          2018
         ],
         "y": [
          51.98136645962733,
          43.69230769230769,
          34.73972602739726
         ]
        },
        {
         "mode": "lines+markers",
         "name": "CID",
         "type": "scatter",
         "x": [
          2016,
          2017,
          2018
         ],
         "y": [
          51.97349709114415,
          41.102906520031425,
          40.603158933859824
         ]
        },
        {
         "mode": "lines+markers",
         "name": "PGV",
         "type": "scatter",
         "x": [
          2016,
          2017,
          2018
         ],
         "y": [
          51.925925925925924
         ]
        },
        {
         "mode": "lines+markers",
         "name": "EUG",
         "type": "scatter",
         "x": [
          2016,
          2017,
          2018
         ],
         "y": [
          51.892822966507175,
          51.62521150592217,
          44.13498622589532
         ]
        },
        {
         "mode": "lines+markers",
         "name": "ABR",
         "type": "scatter",
         "x": [
          2016,
          2017,
          2018
         ],
         "y": [
          51.84293193717277,
          40.1,
          30.008333333333333
         ]
        },
        {
         "mode": "lines+markers",
         "name": "ALO",
         "type": "scatter",
         "x": [
          2016,
          2017,
          2018
         ],
         "y": [
          51.77707006369427,
          38.33009708737864
         ]
        },
        {
         "mode": "lines+markers",
         "name": "MVY",
         "type": "scatter",
         "x": [
          2016,
          2017,
          2018
         ],
         "y": [
          51.7289156626506,
          44.857142857142854,
          39.09271523178808
         ]
        },
        {
         "mode": "lines+markers",
         "name": "PWM",
         "type": "scatter",
         "x": [
          2016,
          2017,
          2018
         ],
         "y": [
          51.68353265869365,
          49.40250587314017,
          42.88682018618324
         ]
        },
        {
         "mode": "lines+markers",
         "name": "MSN",
         "type": "scatter",
         "x": [
          2016,
          2017,
          2018
         ],
         "y": [
          51.62240135765804,
          46.5559265442404,
          44.47263095938788
         ]
        },
        {
         "mode": "lines+markers",
         "name": "SHV",
         "type": "scatter",
         "x": [
          2016,
          2017,
          2018
         ],
         "y": [
          51.39244410177332,
          49.73724983860555,
          41.54666666666667
         ]
        },
        {
         "mode": "lines+markers",
         "name": "ATW",
         "type": "scatter",
         "x": [
          2016,
          2017,
          2018
         ],
         "y": [
          51.155145929339476,
          48.026761819803745,
          40.49331550802139
         ]
        },
        {
         "mode": "lines+markers",
         "name": "CSG",
         "type": "scatter",
         "x": [
          2016,
          2017,
          2018
         ],
         "y": [
          50.89620253164557,
          45.80898876404494,
          35.3485254691689
         ]
        },
        {
         "mode": "lines+markers",
         "name": "CRW",
         "type": "scatter",
         "x": [
          2016,
          2017,
          2018
         ],
         "y": [
          50.61057692307692,
          48.07016434892541,
          43.00325027085591
         ]
        },
        {
         "mode": "lines+markers",
         "name": "RAP",
         "type": "scatter",
         "x": [
          2016,
          2017,
          2018
         ],
         "y": [
          50.516417910447764,
          44.32432432432432,
          42.48428093645485
         ]
        },
        {
         "mode": "lines+markers",
         "name": "VLD",
         "type": "scatter",
         "x": [
          2016,
          2017,
          2018
         ],
         "y": [
          50.27683615819209,
          46.256410256410255,
          43.24908424908425
         ]
        },
        {
         "mode": "lines+markers",
         "name": "SYR",
         "type": "scatter",
         "x": [
          2016,
          2017,
          2018
         ],
         "y": [
          50.24129290904535,
          50.138843868179364,
          46.6131207847946
         ]
        },
        {
         "mode": "lines+markers",
         "name": "HPN",
         "type": "scatter",
         "x": [
          2016,
          2017,
          2018
         ],
         "y": [
          50.03885804916733,
          48.039520958083834,
          38.4196065128901
         ]
        },
        {
         "mode": "lines+markers",
         "name": "STC",
         "type": "scatter",
         "x": [
          2016,
          2017,
          2018
         ],
         "y": [
          49.6551724137931
         ]
        },
        {
         "mode": "lines+markers",
         "name": "PGD",
         "type": "scatter",
         "x": [
          2016,
          2017,
          2018
         ],
         "y": [
          49.4390243902439,
          44.42307692307692,
          38.495769039323044
         ]
        },
        {
         "mode": "lines+markers",
         "name": "LYH",
         "type": "scatter",
         "x": [
          2016,
          2017,
          2018
         ],
         "y": [
          49.43872549019608
         ]
        },
        {
         "mode": "lines+markers",
         "name": "PSP",
         "type": "scatter",
         "x": [
          2016,
          2017,
          2018
         ],
         "y": [
          49.23177175061642,
          48.14243997404283,
          42.820909970958375
         ]
        },
        {
         "mode": "lines+markers",
         "name": "FCA",
         "type": "scatter",
         "x": [
          2016,
          2017,
          2018
         ],
         "y": [
          49.208771929824564,
          48.74731182795699,
          38.75983436853002
         ]
        },
        {
         "mode": "lines+markers",
         "name": "EAR",
         "type": "scatter",
         "x": [
          2016,
          2017,
          2018
         ],
         "y": [
          49
         ]
        },
        {
         "mode": "lines+markers",
         "name": "EKO",
         "type": "scatter",
         "x": [
          2016,
          2017,
          2018
         ],
         "y": [
          48.794520547945204,
          41.265957446808514,
          38.28
         ]
        },
        {
         "mode": "lines+markers",
         "name": "LCK",
         "type": "scatter",
         "x": [
          2016,
          2017,
          2018
         ],
         "y": [
          48.57627118644068
         ]
        },
        {
         "mode": "lines+markers",
         "name": "MFR",
         "type": "scatter",
         "x": [
          2016,
          2017,
          2018
         ],
         "y": [
          48.24027657735523,
          46.670411985018724,
          45.64360587002096
         ]
        },
        {
         "mode": "lines+markers",
         "name": "FAY",
         "type": "scatter",
         "x": [
          2016,
          2017,
          2018
         ],
         "y": [
          47.97862232779097,
          42.41290322580645,
          35.095238095238095
         ]
        },
        {
         "mode": "lines+markers",
         "name": "DAY",
         "type": "scatter",
         "x": [
          2016,
          2017,
          2018
         ],
         "y": [
          47.73012367491166,
          47.641629535327816,
          38.95243128964059
         ]
        },
        {
         "mode": "lines+markers",
         "name": "GSO",
         "type": "scatter",
         "x": [
          2016,
          2017,
          2018
         ],
         "y": [
          47.60365135453475,
          46.27125808055694,
          45.1093567251462
         ]
        },
        {
         "mode": "lines+markers",
         "name": "FNT",
         "type": "scatter",
         "x": [
          2016,
          2017,
          2018
         ],
         "y": [
          47.602739726027394,
          44.98298217179903,
          30.05
         ]
        },
        {
         "mode": "lines+markers",
         "name": "FLG",
         "type": "scatter",
         "x": [
          2016,
          2017,
          2018
         ],
         "y": [
          47.56976744186046,
          30.352941176470587,
          29.401174168297455
         ]
        },
        {
         "mode": "lines+markers",
         "name": "PSM",
         "type": "scatter",
         "x": [
          2016,
          2017,
          2018
         ],
         "y": [
          47.5632183908046
         ]
        },
        {
         "mode": "lines+markers",
         "name": "CAE",
         "type": "scatter",
         "x": [
          2016,
          2017,
          2018
         ],
         "y": [
          47.42367833209233,
          46.79896907216495,
          41.13638651233015
         ]
        },
        {
         "mode": "lines+markers",
         "name": "ACT",
         "type": "scatter",
         "x": [
          2016,
          2017,
          2018
         ],
         "y": [
          47.16711590296496,
          46.03370786516854,
          35.839080459770116
         ]
        },
        {
         "mode": "lines+markers",
         "name": "MDT",
         "type": "scatter",
         "x": [
          2016,
          2017,
          2018
         ],
         "y": [
          47.03286978508218,
          44.74004914004914,
          33.669205658324266
         ]
        },
        {
         "mode": "lines+markers",
         "name": "ROA",
         "type": "scatter",
         "x": [
          2016,
          2017,
          2018
         ],
         "y": [
          46.789568345323744,
          43.15604186489058,
          33.740226986128626
         ]
        },
        {
         "mode": "lines+markers",
         "name": "TWF",
         "type": "scatter",
         "x": [
          2016,
          2017,
          2018
         ],
         "y": [
          46.65338645418327,
          38.534188034188034,
          31.93065693430657
         ]
        },
        {
         "mode": "lines+markers",
         "name": "BLI",
         "type": "scatter",
         "x": [
          2016,
          2017,
          2018
         ],
         "y": [
          46.59708737864078,
          34.59310344827586,
          33.0092936802974
         ]
        },
        {
         "mode": "lines+markers",
         "name": "EWR",
         "type": "scatter",
         "x": [
          2016,
          2017,
          2018
         ],
         "y": [
          46.56077665650833,
          44.497087419327805,
          34.67553231510044
         ]
        },
        {
         "mode": "lines+markers",
         "name": "GJT",
         "type": "scatter",
         "x": [
          2016,
          2017,
          2018
         ],
         "y": [
          46.514367816091955,
          43.09579100145138,
          39.70068027210884
         ]
        },
        {
         "mode": "lines+markers",
         "name": "USA",
         "type": "scatter",
         "x": [
          2016,
          2017,
          2018
         ],
         "y": [
          46.36784140969163
         ]
        },
        {
         "mode": "lines+markers",
         "name": "EYW",
         "type": "scatter",
         "x": [
          2016,
          2017,
          2018
         ],
         "y": [
          46.20084566596194,
          43.73305954825462,
          42.53183791606367
         ]
        },
        {
         "mode": "lines+markers",
         "name": "BZN",
         "type": "scatter",
         "x": [
          2016,
          2017,
          2018
         ],
         "y": [
          46.014043300175544,
          43.54109090909091,
          34.88695652173913
         ]
        },
        {
         "mode": "lines+markers",
         "name": "VPS",
         "type": "scatter",
         "x": [
          2016,
          2017,
          2018
         ],
         "y": [
          45.78073089700997,
          38.04694048616932,
          34.16795069337442
         ]
        },
        {
         "mode": "lines+markers",
         "name": "PSE",
         "type": "scatter",
         "x": [
          2016,
          2017,
          2018
         ],
         "y": [
          45.73359073359073,
          41.39928057553957,
          39.22935779816514
         ]
        },
        {
         "mode": "lines+markers",
         "name": "BKG",
         "type": "scatter",
         "x": [
          2016,
          2017,
          2018
         ],
         "y": [
          45.60606060606061
         ]
        },
        {
         "mode": "lines+markers",
         "name": "STT",
         "type": "scatter",
         "x": [
          2016,
          2017,
          2018
         ],
         "y": [
          45.45753205128205,
          42.85838343353373,
          40.2747641509434
         ]
        },
        {
         "mode": "lines+markers",
         "name": "PVU",
         "type": "scatter",
         "x": [
          2016,
          2017,
          2018
         ],
         "y": [
          45.210762331838566
         ]
        },
        {
         "mode": "lines+markers",
         "name": "ORF",
         "type": "scatter",
         "x": [
          2016,
          2017,
          2018
         ],
         "y": [
          45.103017295795986,
          37.91547091051396,
          35.410894749815135
         ]
        },
        {
         "mode": "lines+markers",
         "name": "TKI",
         "type": "scatter",
         "x": [
          2016,
          2017,
          2018
         ],
         "y": [
          45
         ]
        },
        {
         "mode": "lines+markers",
         "name": "IAD",
         "type": "scatter",
         "x": [
          2016,
          2017,
          2018
         ],
         "y": [
          44.997440355452525,
          39.11334277856488,
          32.19715989329986
         ]
        },
        {
         "mode": "lines+markers",
         "name": "JAN",
         "type": "scatter",
         "x": [
          2016,
          2017,
          2018
         ],
         "y": [
          44.90087929656275,
          41.41160220994475,
          40.50019630938359
         ]
        },
        {
         "mode": "lines+markers",
         "name": "ICT",
         "type": "scatter",
         "x": [
          2016,
          2017,
          2018
         ],
         "y": [
          44.81992717643165,
          42.63604593110335,
          41.317546233649075
         ]
        },
        {
         "mode": "lines+markers",
         "name": "CNY",
         "type": "scatter",
         "x": [
          2016,
          2017,
          2018
         ],
         "y": [
          44.79
         ]
        },
        {
         "mode": "lines+markers",
         "name": "LGA",
         "type": "scatter",
         "x": [
          2016,
          2017,
          2018
         ],
         "y": [
          44.689709326353494,
          43.505819775745735,
          40.53306723017923
         ]
        },
        {
         "mode": "lines+markers",
         "name": "ROC",
         "type": "scatter",
         "x": [
          2016,
          2017,
          2018
         ],
         "y": [
          44.686121919584956,
          43.127288578901485,
          35.18869565217391
         ]
        },
        {
         "mode": "lines+markers",
         "name": "GRR",
         "type": "scatter",
         "x": [
          2016,
          2017,
          2018
         ],
         "y": [
          44.58627387504047,
          40.12410133515919,
          37.253427340383865
         ]
        },
        {
         "mode": "lines+markers",
         "name": "MSO",
         "type": "scatter",
         "x": [
          2016,
          2017,
          2018
         ],
         "y": [
          44.5046875,
          37.1606463878327,
          35.9150521609538
         ]
        },
        {
         "mode": "lines+markers",
         "name": "PIE",
         "type": "scatter",
         "x": [
          2016,
          2017,
          2018
         ],
         "y": [
          44.4331355545413
         ]
        },
        {
         "mode": "lines+markers",
         "name": "BLV",
         "type": "scatter",
         "x": [
          2016,
          2017,
          2018
         ],
         "y": [
          44.153982300884955
         ]
        },
        {
         "mode": "lines+markers",
         "name": "GPT",
         "type": "scatter",
         "x": [
          2016,
          2017,
          2018
         ],
         "y": [
          44.14867256637168,
          43.71900826446281,
          43.015132408575035
         ]
        },
        {
         "mode": "lines+markers",
         "name": "GSP",
         "type": "scatter",
         "x": [
          2016,
          2017,
          2018
         ],
         "y": [
          44.1407960199005,
          42.76797088262057,
          36.842450765864335
         ]
        },
        {
         "mode": "lines+markers",
         "name": "SAV",
         "type": "scatter",
         "x": [
          2016,
          2017,
          2018
         ],
         "y": [
          44.09659613615455,
          41.770718232044196,
          34.918966737438076
         ]
        },
        {
         "mode": "lines+markers",
         "name": "DSM",
         "type": "scatter",
         "x": [
          2016,
          2017,
          2018
         ],
         "y": [
          44.05128205128205,
          40.6589558573854,
          36.72764730119489
         ]
        },
        {
         "mode": "lines+markers",
         "name": "PRC",
         "type": "scatter",
         "x": [
          2016,
          2017,
          2018
         ],
         "y": [
          43.822784810126585
         ]
        },
        {
         "mode": "lines+markers",
         "name": "PHF",
         "type": "scatter",
         "x": [
          2016,
          2017,
          2018
         ],
         "y": [
          43.79654120040692,
          38.25830258302583,
          33.63858695652174
         ]
        },
        {
         "mode": "lines+markers",
         "name": "RIC",
         "type": "scatter",
         "x": [
          2016,
          2017,
          2018
         ],
         "y": [
          43.77333103329308,
          43.69645848289064,
          40.95133952979771
         ]
        },
        {
         "mode": "lines+markers",
         "name": "IDA",
         "type": "scatter",
         "x": [
          2016,
          2017,
          2018
         ],
         "y": [
          43.74193548387097,
          40.47304347826087,
          40.22820037105751
         ]
        },
        {
         "mode": "lines+markers",
         "name": "RFD",
         "type": "scatter",
         "x": [
          2016,
          2017,
          2018
         ],
         "y": [
          43.509803921568626
         ]
        },
        {
         "mode": "lines+markers",
         "name": "HSV",
         "type": "scatter",
         "x": [
          2016,
          2017,
          2018
         ],
         "y": [
          43.450450450450454,
          41.72395184723952,
          37.861139896373054
         ]
        },
        {
         "mode": "lines+markers",
         "name": "JFK",
         "type": "scatter",
         "x": [
          2016,
          2017,
          2018
         ],
         "y": [
          43.29630680352814,
          40.86391797085807,
          35.50718183090053
         ]
        },
        {
         "mode": "lines+markers",
         "name": "GST",
         "type": "scatter",
         "x": [
          2016,
          2017,
          2018
         ],
         "y": [
          43.266666666666666,
          23.178571428571427,
          16
         ]
        },
        {
         "mode": "lines+markers",
         "name": "PBI",
         "type": "scatter",
         "x": [
          2016,
          2017,
          2018
         ],
         "y": [
          42.835305818001,
          41.66796037176999,
          36.50788580555001
         ]
        },
        {
         "mode": "lines+markers",
         "name": "SIT",
         "type": "scatter",
         "x": [
          2016,
          2017,
          2018
         ],
         "y": [
          42.71814671814672,
          37.45967741935484,
          37.42164179104478
         ]
        },
        {
         "mode": "lines+markers",
         "name": "CHS",
         "type": "scatter",
         "x": [
          2016,
          2017,
          2018
         ],
         "y": [
          42.70261508536849,
          38.86436987704918,
          36.5788822437616
         ]
        },
        {
         "mode": "lines+markers",
         "name": "SRQ",
         "type": "scatter",
         "x": [
          2016,
          2017,
          2018
         ],
         "y": [
          42.630434782608695,
          40.31981981981982,
          37.370892018779344
         ]
        },
        {
         "mode": "lines+markers",
         "name": "CMI",
         "type": "scatter",
         "x": [
          2016,
          2017,
          2018
         ],
         "y": [
          42.46422893481717
         ]
        },
        {
         "mode": "lines+markers",
         "name": "SGF",
         "type": "scatter",
         "x": [
          2016,
          2017,
          2018
         ],
         "y": [
          41.926412614980286,
          38.97317073170732,
          35.67270531400966
         ]
        },
        {
         "mode": "lines+markers",
         "name": "ART",
         "type": "scatter",
         "x": [
          2016,
          2017,
          2018
         ],
         "y": [
          41.857142857142854
         ]
        },
        {
         "mode": "lines+markers",
         "name": "BQN",
         "type": "scatter",
         "x": [
          2016,
          2017,
          2018
         ],
         "y": [
          41.75217391304348,
          39.94129763130793,
          33.12094763092269
         ]
        },
        {
         "mode": "lines+markers",
         "name": "STX",
         "type": "scatter",
         "x": [
          2016,
          2017,
          2018
         ],
         "y": [
          41.56842105263158,
          36.68358208955224,
          35.770348837209305
         ]
        },
        {
         "mode": "lines+markers",
         "name": "OGS",
         "type": "scatter",
         "x": [
          2016,
          2017,
          2018
         ],
         "y": [
          41.24561403508772
         ]
        },
        {
         "mode": "lines+markers",
         "name": "HGR",
         "type": "scatter",
         "x": [
          2016,
          2017,
          2018
         ],
         "y": [
          41.197916666666664
         ]
        },
        {
         "mode": "lines+markers",
         "name": "PIH",
         "type": "scatter",
         "x": [
          2016,
          2017,
          2018
         ],
         "y": [
          41.07692307692308,
          37.006410256410255,
          26.897435897435898
         ]
        },
        {
         "mode": "lines+markers",
         "name": "PSG",
         "type": "scatter",
         "x": [
          2016,
          2017,
          2018
         ],
         "y": [
          40.73376623376623,
          29.50657894736842,
          28.863636363636363
         ]
        },
        {
         "mode": "lines+markers",
         "name": "BUF",
         "type": "scatter",
         "x": [
          2016,
          2017,
          2018
         ],
         "y": [
          40.68781902552204,
          35.77106227106227,
          32.75690419365837
         ]
        },
        {
         "mode": "lines+markers",
         "name": "DAB",
         "type": "scatter",
         "x": [
          2016,
          2017,
          2018
         ],
         "y": [
          40.00164744645799,
          38.21516754850088,
          36.4240614334471
         ]
        },
        {
         "mode": "lines+markers",
         "name": "ECP",
         "type": "scatter",
         "x": [
          2016,
          2017,
          2018
         ],
         "y": [
          39.78517316017316,
          33.1769340974212,
          31.502533783783782
         ]
        },
        {
         "mode": "lines+markers",
         "name": "JAX",
         "type": "scatter",
         "x": [
          2016,
          2017,
          2018
         ],
         "y": [
          39.549293254607264,
          38.34637982464069,
          33.521093486331424
         ]
        },
        {
         "mode": "lines+markers",
         "name": "TLH",
         "type": "scatter",
         "x": [
          2016,
          2017,
          2018
         ],
         "y": [
          39.54612546125461,
          36.73071528751753,
          34.645345813832556
         ]
        },
        {
         "mode": "lines+markers",
         "name": "CRP",
         "type": "scatter",
         "x": [
          2016,
          2017,
          2018
         ],
         "y": [
          39.3765903307888,
          35.783892617449666,
          31.32331902718169
         ]
        },
        {
         "mode": "lines+markers",
         "name": "CVG",
         "type": "scatter",
         "x": [
          2016,
          2017,
          2018
         ],
         "y": [
          39.14096734187681,
          37.61518003273322,
          37.173427672955974
         ]
        },
        {
         "mode": "lines+markers",
         "name": "WRG",
         "type": "scatter",
         "x": [
          2016,
          2017,
          2018
         ],
         "y": [
          39.052287581699346,
          39.01315789473684,
          28.479166666666668
         ]
        },
        {
         "mode": "lines+markers",
         "name": "ORD",
         "type": "scatter",
         "x": [
          2016,
          2017,
          2018
         ],
         "y": [
          38.92224728993562,
          37.45406781878756,
          34.5931868719955
         ]
        },
        {
         "mode": "lines+markers",
         "name": "YAK",
         "type": "scatter",
         "x": [
          2016,
          2017,
          2018
         ],
         "y": [
          38.72027972027972,
          27.37864077669903,
          25.17241379310345
         ]
        },
        {
         "mode": "lines+markers",
         "name": "CLE",
         "type": "scatter",
         "x": [
          2016,
          2017,
          2018
         ],
         "y": [
          38.711197388158475,
          37.953277458093574,
          35.174343776460624
         ]
        },
        {
         "mode": "lines+markers",
         "name": "RSW",
         "type": "scatter",
         "x": [
          2016,
          2017,
          2018
         ],
         "y": [
          38.58842905405405,
          37.55885758394442,
          36.06220762416642
         ]
        },
        {
         "mode": "lines+markers",
         "name": "SFO",
         "type": "scatter",
         "x": [
          2016,
          2017,
          2018
         ],
         "y": [
          37.97253673493768,
          35.805024862601414,
          32.910578100920695
         ]
        },
        {
         "mode": "lines+markers",
         "name": "DCA",
         "type": "scatter",
         "x": [
          2016,
          2017,
          2018
         ],
         "y": [
          37.936653504861376,
          34.68681770160817,
          31.178631849944832
         ]
        },
        {
         "mode": "lines+markers",
         "name": "YUM",
         "type": "scatter",
         "x": [
          2016,
          2017,
          2018
         ],
         "y": [
          37.92675159235669,
          30.746305418719214,
          24.88013698630137
         ]
        },
        {
         "mode": "lines+markers",
         "name": "MLB",
         "type": "scatter",
         "x": [
          2016,
          2017,
          2018
         ],
         "y": [
          37.90816326530612,
          35.64354838709677,
          32.50222222222222
         ]
        },
        {
         "mode": "lines+markers",
         "name": "DBQ",
         "type": "scatter",
         "x": [
          2016,
          2017,
          2018
         ],
         "y": [
          37.89655172413793
         ]
        },
        {
         "mode": "lines+markers",
         "name": "BOS",
         "type": "scatter",
         "x": [
          2016,
          2017,
          2018
         ],
         "y": [
          37.88333268323127,
          37.645495884227294,
          29.40593660638769
         ]
        },
        {
         "mode": "lines+markers",
         "name": "SDF",
         "type": "scatter",
         "x": [
          2016,
          2017,
          2018
         ],
         "y": [
          37.86349509921109,
          34.79994364609749,
          31.07550744248985
         ]
        },
        {
         "mode": "lines+markers",
         "name": "RDU",
         "type": "scatter",
         "x": [
          2016,
          2017,
          2018
         ],
         "y": [
          37.85504093659772,
          30.77379146606872,
          27.467146348085798
         ]
        },
        {
         "mode": "lines+markers",
         "name": "LBB",
         "type": "scatter",
         "x": [
          2016,
          2017,
          2018
         ],
         "y": [
          37.725890736342045,
          34.51365187713311,
          32.678676470588236
         ]
        },
        {
         "mode": "lines+markers",
         "name": "CYS",
         "type": "scatter",
         "x": [
          2016,
          2017,
          2018
         ],
         "y": [
          37.705882352941174
         ]
        },
        {
         "mode": "lines+markers",
         "name": "SJU",
         "type": "scatter",
         "x": [
          2016,
          2017,
          2018
         ],
         "y": [
          37.33400537634409,
          35.41141171684296,
          30.698549323017406
         ]
        },
        {
         "mode": "lines+markers",
         "name": "PNS",
         "type": "scatter",
         "x": [
          2016,
          2017,
          2018
         ],
         "y": [
          37.30748258103605,
          34.76499690785405,
          33.78687415426252
         ]
        },
        {
         "mode": "lines+markers",
         "name": "ADK",
         "type": "scatter",
         "x": [
          2016,
          2017,
          2018
         ],
         "y": [
          37.20454545454545,
          21.65909090909091,
          18.627906976744185
         ]
        },
        {
         "mode": "lines+markers",
         "name": "AMA",
         "type": "scatter",
         "x": [
          2016,
          2017,
          2018
         ],
         "y": [
          37.1181592039801,
          31.337871287128714,
          28.26606683804627
         ]
        },
        {
         "mode": "lines+markers",
         "name": "MAF",
         "type": "scatter",
         "x": [
          2016,
          2017,
          2018
         ],
         "y": [
          37.10960713106636,
          36.4340859431901,
          31.70984455958549
         ]
        },
        {
         "mode": "lines+markers",
         "name": "LGB",
         "type": "scatter",
         "x": [
          2016,
          2017,
          2018
         ],
         "y": [
          37.022036609205614,
          34.098471561012275,
          31.18336483931947
         ]
        },
        {
         "mode": "lines+markers",
         "name": "BOI",
         "type": "scatter",
         "x": [
          2016,
          2017,
          2018
         ],
         "y": [
          36.789625360230545,
          36.45491509208323,
          34.05513341579785
         ]
        },
        {
         "mode": "lines+markers",
         "name": "SCC",
         "type": "scatter",
         "x": [
          2016,
          2017,
          2018
         ],
         "y": [
          36.778625954198475,
          36.065693430656935,
          24.677685950413224
         ]
        },
        {
         "mode": "lines+markers",
         "name": "PHL",
         "type": "scatter",
         "x": [
          2016,
          2017,
          2018
         ],
         "y": [
          36.573087923844454,
          32.49182816195418,
          31.082630754308738
         ]
        },
        {
         "mode": "lines+markers",
         "name": "MIA",
         "type": "scatter",
         "x": [
          2016,
          2017,
          2018
         ],
         "y": [
          36.53792617390538,
          35.697647358277884,
          34.39741029440186
         ]
        },
        {
         "mode": "lines+markers",
         "name": "FLL",
         "type": "scatter",
         "x": [
          2016,
          2017,
          2018
         ],
         "y": [
          36.53322616545072,
          34.669553380741156,
          32.294486862484035
         ]
        },
        {
         "mode": "lines+markers",
         "name": "IAH",
         "type": "scatter",
         "x": [
          2016,
          2017,
          2018
         ],
         "y": [
          36.515665892587265,
          33.74603596635406,
          30.62960815016722
         ]
        },
        {
         "mode": "lines+markers",
         "name": "DTW",
         "type": "scatter",
         "x": [
          2016,
          2017,
          2018
         ],
         "y": [
          36.50134682500644,
          35.73258958755916,
          34.19820798918031
         ]
        },
        {
         "mode": "lines+markers",
         "name": "BHM",
         "type": "scatter",
         "x": [
          2016,
          2017,
          2018
         ],
         "y": [
          36.12688729601952,
          34.37629779691061,
          32.7430724355858
         ]
        },
        {
         "mode": "lines+markers",
         "name": "DFW",
         "type": "scatter",
         "x": [
          2016,
          2017,
          2018
         ],
         "y": [
          36.06211340665609,
          33.69339998734417,
          32.31613985936395
         ]
        },
        {
         "mode": "lines+markers",
         "name": "MCO",
         "type": "scatter",
         "x": [
          2016,
          2017,
          2018
         ],
         "y": [
          35.982470784641066,
          33.85761451310211,
          31.379034577987458
         ]
        },
        {
         "mode": "lines+markers",
         "name": "DRT",
         "type": "scatter",
         "x": [
          2016,
          2017,
          2018
         ],
         "y": [
          35.94444444444444
         ]
        },
        {
         "mode": "lines+markers",
         "name": "CMH",
         "type": "scatter",
         "x": [
          2016,
          2017,
          2018
         ],
         "y": [
          35.8811377245509,
          31.46984270680095,
          28.36859182349124
         ]
        },
        {
         "mode": "lines+markers",
         "name": "IND",
         "type": "scatter",
         "x": [
          2016,
          2017,
          2018
         ],
         "y": [
          35.54084101382489,
          29.51935941617677,
          29.304592901878916
         ]
        },
        {
         "mode": "lines+markers",
         "name": "MEM",
         "type": "scatter",
         "x": [
          2016,
          2017,
          2018
         ],
         "y": [
          35.51968503937008,
          34.41915195780077,
          31.665221162185603
         ]
        },
        {
         "mode": "lines+markers",
         "name": "SPN",
         "type": "scatter",
         "x": [
          2016,
          2017,
          2018
         ],
         "y": [
          35.33695652173913,
          24
         ]
        },
        {
         "mode": "lines+markers",
         "name": "PIT",
         "type": "scatter",
         "x": [
          2016,
          2017,
          2018
         ],
         "y": [
          35.13589088870897,
          28.575830625720574,
          26.614831076960606
         ]
        },
        {
         "mode": "lines+markers",
         "name": "ISP",
         "type": "scatter",
         "x": [
          2016,
          2017,
          2018
         ],
         "y": [
          35.07890961262554,
          29.71762013729977,
          23.6635202665186
         ]
        },
        {
         "mode": "lines+markers",
         "name": "OKC",
         "type": "scatter",
         "x": [
          2016,
          2017,
          2018
         ],
         "y": [
          34.91787130612767,
          29.701747257212514,
          28.879186602870814
         ]
        },
        {
         "mode": "lines+markers",
         "name": "CDV",
         "type": "scatter",
         "x": [
          2016,
          2017,
          2018
         ],
         "y": [
          34.57232704402516,
          27.574626865671643,
          23.658959537572255
         ]
        },
        {
         "mode": "lines+markers",
         "name": "OMA",
         "type": "scatter",
         "x": [
          2016,
          2017,
          2018
         ],
         "y": [
          34.46911032892341,
          33.72289984538739,
          32.822571893651656
         ]
        },
        {
         "mode": "lines+markers",
         "name": "HTS",
         "type": "scatter",
         "x": [
          2016,
          2017,
          2018
         ],
         "y": [
          34.39685658153242
         ]
        },
        {
         "mode": "lines+markers",
         "name": "SCK",
         "type": "scatter",
         "x": [
          2016,
          2017,
          2018
         ],
         "y": [
          34.26086956521739
         ]
        },
        {
         "mode": "lines+markers",
         "name": "PVD",
         "type": "scatter",
         "x": [
          2016,
          2017,
          2018
         ],
         "y": [
          34.21448087431694,
          28.046200840015274,
          25.123398516520567
         ]
        },
        {
         "mode": "lines+markers",
         "name": "MHT",
         "type": "scatter",
         "x": [
          2016,
          2017,
          2018
         ],
         "y": [
          34.20191246781905,
          32.44408774745853,
          31.461068702290078
         ]
        },
        {
         "mode": "lines+markers",
         "name": "FAI",
         "type": "scatter",
         "x": [
          2016,
          2017,
          2018
         ],
         "y": [
          34.07295597484277,
          34.030959752321984,
          28.979130434782608
         ]
        },
        {
         "mode": "lines+markers",
         "name": "HRL",
         "type": "scatter",
         "x": [
          2016,
          2017,
          2018
         ],
         "y": [
          33.922716627634664,
          30.458117890382628,
          27.564912280701755
         ]
        },
        {
         "mode": "lines+markers",
         "name": "MKE",
         "type": "scatter",
         "x": [
          2016,
          2017,
          2018
         ],
         "y": [
          33.820881133712525,
          32.88721618953603,
          31.852283494409704
         ]
        },
        {
         "mode": "lines+markers",
         "name": "BDL",
         "type": "scatter",
         "x": [
          2016,
          2017,
          2018
         ],
         "y": [
          33.78166649710042,
          28.87763769077638,
          26.410653156237164
         ]
        },
        {
         "mode": "lines+markers",
         "name": "ALB",
         "type": "scatter",
         "x": [
          2016,
          2017,
          2018
         ],
         "y": [
          33.51567944250871,
          30.58784893267652,
          26.1492231017297
         ]
        },
        {
         "mode": "lines+markers",
         "name": "TUS",
         "type": "scatter",
         "x": [
          2016,
          2017,
          2018
         ],
         "y": [
          33.41928680981595,
          33.010179967278674,
          32.74288652725403
         ]
        },
        {
         "mode": "lines+markers",
         "name": "TUL",
         "type": "scatter",
         "x": [
          2016,
          2017,
          2018
         ],
         "y": [
          33.406390328151986,
          30.23868215216876,
          30.23387703889586
         ]
        },
        {
         "mode": "lines+markers",
         "name": "KTN",
         "type": "scatter",
         "x": [
          2016,
          2017,
          2018
         ],
         "y": [
          33.36380255941499,
          29.303482587064675,
          28.805135951661633
         ]
        },
        {
         "mode": "lines+markers",
         "name": "JNU",
         "type": "scatter",
         "x": [
          2016,
          2017,
          2018
         ],
         "y": [
          32.8727948003714,
          28.644736842105264,
          28.637476459510356
         ]
        },
        {
         "mode": "lines+markers",
         "name": "ADQ",
         "type": "scatter",
         "x": [
          2016,
          2017,
          2018
         ],
         "y": [
          32.86029411764706,
          24.864077669902912,
          24.664596273291924
         ]
        },
        {
         "mode": "lines+markers",
         "name": "WYS",
         "type": "scatter",
         "x": [
          2016,
          2017,
          2018
         ],
         "y": [
          32.660714285714285,
          15.876106194690266,
          12.186666666666667
         ]
        },
        {
         "mode": "lines+markers",
         "name": "MSP",
         "type": "scatter",
         "x": [
          2016,
          2017,
          2018
         ],
         "y": [
          32.38405441963498,
          31.665074598633343,
          30.962899490504864
         ]
        },
        {
         "mode": "lines+markers",
         "name": "TPA",
         "type": "scatter",
         "x": [
          2016,
          2017,
          2018
         ],
         "y": [
          32.33321762181267,
          31.03683927611539,
          29.891070467993544
         ]
        },
        {
         "mode": "lines+markers",
         "name": "ELP",
         "type": "scatter",
         "x": [
          2016,
          2017,
          2018
         ],
         "y": [
          32.18329938900204,
          27.617946345975948,
          26.368685764268534
         ]
        },
        {
         "mode": "lines+markers",
         "name": "LIT",
         "type": "scatter",
         "x": [
          2016,
          2017,
          2018
         ],
         "y": [
          31.326390478370335,
          30.751223184042153,
          29.51414906337186
         ]
        },
        {
         "mode": "lines+markers",
         "name": "SFB",
         "type": "scatter",
         "x": [
          2016,
          2017,
          2018
         ],
         "y": [
          31.266604521090656
         ]
        },
        {
         "mode": "lines+markers",
         "name": "IFP",
         "type": "scatter",
         "x": [
          2016,
          2017,
          2018
         ],
         "y": [
          31.03875968992248,
          12.1875
         ]
        },
        {
         "mode": "lines+markers",
         "name": "LAX",
         "type": "scatter",
         "x": [
          2016,
          2017,
          2018
         ],
         "y": [
          31.00778440163571,
          28.203415658298717,
          27.84112787223841
         ]
        },
        {
         "mode": "lines+markers",
         "name": "SGU",
         "type": "scatter",
         "x": [
          2016,
          2017,
          2018
         ],
         "y": [
          30.988636363636363,
          27.9428208386277,
          24.419291338582678
         ]
        },
        {
         "mode": "lines+markers",
         "name": "BRW",
         "type": "scatter",
         "x": [
          2016,
          2017,
          2018
         ],
         "y": [
          30.884615384615383,
          27.30327868852459,
          24.524590163934427
         ]
        },
        {
         "mode": "lines+markers",
         "name": "GUM",
         "type": "scatter",
         "x": [
          2016,
          2017,
          2018
         ],
         "y": [
          30.856410256410257,
          27.899159663865547,
          20.894736842105264
         ]
        },
        {
         "mode": "lines+markers",
         "name": "MSY",
         "type": "scatter",
         "x": [
          2016,
          2017,
          2018
         ],
         "y": [
          30.230075250488504,
          30.022986177915044,
          27.45178752007614
         ]
        },
        {
         "mode": "lines+markers",
         "name": "DEN",
         "type": "scatter",
         "x": [
          2016,
          2017,
          2018
         ],
         "y": [
          30.055630896226415,
          27.373932242264452,
          27.332204684580525
         ]
        },
        {
         "mode": "lines+markers",
         "name": "SAT",
         "type": "scatter",
         "x": [
          2016,
          2017,
          2018
         ],
         "y": [
          29.821596244131456,
          26.652657503773735,
          26.555818644216433
         ]
        },
        {
         "mode": "lines+markers",
         "name": "CLT",
         "type": "scatter",
         "x": [
          2016,
          2017,
          2018
         ],
         "y": [
          29.762357717105786,
          27.71525359486414,
          27.311374776673233
         ]
        },
        {
         "mode": "lines+markers",
         "name": "SLC",
         "type": "scatter",
         "x": [
          2016,
          2017,
          2018
         ],
         "y": [
          29.743352917065174,
          26.435980551053486,
          26.12004299700764
         ]
        },
        {
         "mode": "lines+markers",
         "name": "RNO",
         "type": "scatter",
         "x": [
          2016,
          2017,
          2018
         ],
         "y": [
          29.711672942442174,
          28.41093238010128,
          27.296850800206506
         ]
        },
        {
         "mode": "lines+markers",
         "name": "FLO",
         "type": "scatter",
         "x": [
          2016,
          2017,
          2018
         ],
         "y": [
          29.476744186046513
         ]
        },
        {
         "mode": "lines+markers",
         "name": "AUS",
         "type": "scatter",
         "x": [
          2016,
          2017,
          2018
         ],
         "y": [
          29.402776724072528,
          27.31667264895908,
          25.54658003785747
         ]
        },
        {
         "mode": "lines+markers",
         "name": "BNA",
         "type": "scatter",
         "x": [
          2016,
          2017,
          2018
         ],
         "y": [
          29.3034774684735,
          27.403464127401083,
          26.882162811100336
         ]
        },
        {
         "mode": "lines+markers",
         "name": "OGD",
         "type": "scatter",
         "x": [
          2016,
          2017,
          2018
         ],
         "y": [
          28.820224719101123
         ]
        },
        {
         "mode": "lines+markers",
         "name": "GEG",
         "type": "scatter",
         "x": [
          2016,
          2017,
          2018
         ],
         "y": [
          28.810367627611743,
          27.469760900140646,
          27.205330432417732
         ]
        },
        {
         "mode": "lines+markers",
         "name": "ATL",
         "type": "scatter",
         "x": [
          2016,
          2017,
          2018
         ],
         "y": [
          28.36187959529132,
          27.00750498144635,
          25.335904676630623
         ]
        },
        {
         "mode": "lines+markers",
         "name": "MCI",
         "type": "scatter",
         "x": [
          2016,
          2017,
          2018
         ],
         "y": [
          28.046013601504846,
          26.946310872208358,
          26.626503913094265
         ]
        },
        {
         "mode": "lines+markers",
         "name": "ONT",
         "type": "scatter",
         "x": [
          2016,
          2017,
          2018
         ],
         "y": [
          27.94785407725322,
          25.425014889815365,
          24.40349354453727
         ]
        },
        {
         "mode": "lines+markers",
         "name": "CDC",
         "type": "scatter",
         "x": [
          2016,
          2017,
          2018
         ],
         "y": [
          27.86,
          25.639423076923077,
          24.950310559006212
         ]
        },
        {
         "mode": "lines+markers",
         "name": "ABQ",
         "type": "scatter",
         "x": [
          2016,
          2017,
          2018
         ],
         "y": [
          27.760127401214294,
          25.91356771163853,
          25.18471819442693
         ]
        },
        {
         "mode": "lines+markers",
         "name": "ANC",
         "type": "scatter",
         "x": [
          2016,
          2017,
          2018
         ],
         "y": [
          27.363659210856998,
          25.997506234413965,
          23.09206586826347
         ]
        },
        {
         "mode": "lines+markers",
         "name": "LAS",
         "type": "scatter",
         "x": [
          2016,
          2017,
          2018
         ],
         "y": [
          27.17937835647671,
          26.812431555197847,
          26.234628806884277
         ]
        },
        {
         "mode": "lines+markers",
         "name": "BWI",
         "type": "scatter",
         "x": [
          2016,
          2017,
          2018
         ],
         "y": [
          27.175572224686167,
          25.07532343492229,
          23.917806979847555
         ]
        },
        {
         "mode": "lines+markers",
         "name": "SAN",
         "type": "scatter",
         "x": [
          2016,
          2017,
          2018
         ],
         "y": [
          27.06318024953544,
          26.262485175912506,
          24.467731329262566
         ]
        },
        {
         "mode": "lines+markers",
         "name": "PDX",
         "type": "scatter",
         "x": [
          2016,
          2017,
          2018
         ],
         "y": [
          26.81361568078404,
          24.380614104781046,
          24.218151658767773
         ]
        },
        {
         "mode": "lines+markers",
         "name": "BUR",
         "type": "scatter",
         "x": [
          2016,
          2017,
          2018
         ],
         "y": [
          26.014129995962858,
          25.93287647162186,
          25.584367389539604
         ]
        },
        {
         "mode": "lines+markers",
         "name": "PHX",
         "type": "scatter",
         "x": [
          2016,
          2017,
          2018
         ],
         "y": [
          25.966855483686988,
          23.902916615872243,
          23.121433466234738
         ]
        },
        {
         "mode": "lines+markers",
         "name": "LIH",
         "type": "scatter",
         "x": [
          2016,
          2017,
          2018
         ],
         "y": [
          25.81690914081801,
          24.986432561851558,
          20.0140476968311
         ]
        },
        {
         "mode": "lines+markers",
         "name": "SEA",
         "type": "scatter",
         "x": [
          2016,
          2017,
          2018
         ],
         "y": [
          25.61968492179042,
          24.918554136343385,
          22.754631551891176
         ]
        },
        {
         "mode": "lines+markers",
         "name": "SNA",
         "type": "scatter",
         "x": [
          2016,
          2017,
          2018
         ],
         "y": [
          25.541799963783426,
          25.504203142211143,
          21.826101249178173
         ]
        },
        {
         "mode": "lines+markers",
         "name": "OTZ",
         "type": "scatter",
         "x": [
          2016,
          2017,
          2018
         ],
         "y": [
          25.505102040816325,
          21.95212765957447,
          20.416666666666668
         ]
        },
        {
         "mode": "lines+markers",
         "name": "AKN",
         "type": "scatter",
         "x": [
          2016,
          2017,
          2018
         ],
         "y": [
          25.38888888888889,
          15.689655172413794,
          10
         ]
        },
        {
         "mode": "lines+markers",
         "name": "STL",
         "type": "scatter",
         "x": [
          2016,
          2017,
          2018
         ],
         "y": [
          25.157951002227172,
          25.138163403644484,
          24.934072565437127
         ]
        },
        {
         "mode": "lines+markers",
         "name": "AZA",
         "type": "scatter",
         "x": [
          2016,
          2017,
          2018
         ],
         "y": [
          24.811498973305955
         ]
        },
        {
         "mode": "lines+markers",
         "name": "KOA",
         "type": "scatter",
         "x": [
          2016,
          2017,
          2018
         ],
         "y": [
          24.689379310344826,
          24.26331288343558,
          20.276387096774194
         ]
        },
        {
         "mode": "lines+markers",
         "name": "BET",
         "type": "scatter",
         "x": [
          2016,
          2017,
          2018
         ],
         "y": [
          24.547486033519554,
          21.698979591836736,
          17.433823529411764
         ]
        },
        {
         "mode": "lines+markers",
         "name": "SMF",
         "type": "scatter",
         "x": [
          2016,
          2017,
          2018
         ],
         "y": [
          24.522745411013567,
          23.007613408057523,
          22.35852812085332
         ]
        },
        {
         "mode": "lines+markers",
         "name": "SJC",
         "type": "scatter",
         "x": [
          2016,
          2017,
          2018
         ],
         "y": [
          24.51992110453649,
          23.943160878809355,
          22.635361481243645
         ]
        },
        {
         "mode": "lines+markers",
         "name": "DAL",
         "type": "scatter",
         "x": [
          2016,
          2017,
          2018
         ],
         "y": [
          23.7510584435424,
          21.49907083383613,
          21.279844211516846
         ]
        },
        {
         "mode": "lines+markers",
         "name": "MDW",
         "type": "scatter",
         "x": [
          2016,
          2017,
          2018
         ],
         "y": [
          23.707029889221765,
          22.670938741375707,
          20.50650205039363
         ]
        },
        {
         "mode": "lines+markers",
         "name": "DLG",
         "type": "scatter",
         "x": [
          2016,
          2017,
          2018
         ],
         "y": [
          23.565217391304348,
          19.1875,
          15.714285714285714
         ]
        },
        {
         "mode": "lines+markers",
         "name": "OGG",
         "type": "scatter",
         "x": [
          2016,
          2017,
          2018
         ],
         "y": [
          22.630266343825667,
          20.9343518739556,
          20.85773428678961
         ]
        },
        {
         "mode": "lines+markers",
         "name": "HOU",
         "type": "scatter",
         "x": [
          2016,
          2017,
          2018
         ],
         "y": [
          22.476722326661505,
          21.421410971339643,
          21.069323968393327
         ]
        },
        {
         "mode": "lines+markers",
         "name": "OME",
         "type": "scatter",
         "x": [
          2016,
          2017,
          2018
         ],
         "y": [
          22.11891891891892,
          20.036082474226806,
          19.313253012048193
         ]
        },
        {
         "mode": "lines+markers",
         "name": "OAK",
         "type": "scatter",
         "x": [
          2016,
          2017,
          2018
         ],
         "y": [
          20.938353906450313,
          20.572761542193856,
          19.70533888976254
         ]
        },
        {
         "mode": "lines+markers",
         "name": "HNL",
         "type": "scatter",
         "x": [
          2016,
          2017,
          2018
         ],
         "y": [
          19.950304584802822,
          19.924059718633362,
          17.194619616261907
         ]
        },
        {
         "mode": "lines+markers",
         "name": "ITO",
         "type": "scatter",
         "x": [
          2016,
          2017,
          2018
         ],
         "y": [
          15.237196765498652,
          14.058174523570711,
          13.372489348752282
         ]
        },
        {
         "mode": "lines+markers",
         "name": "EFD",
         "type": "scatter",
         "x": [
          2016,
          2017,
          2018
         ],
         "y": [
          7
         ]
        }
       ],
       "layout": {
        "height": 650,
        "template": {
         "data": {
          "bar": [
           {
            "error_x": {
             "color": "#2a3f5f"
            },
            "error_y": {
             "color": "#2a3f5f"
            },
            "marker": {
             "line": {
              "color": "#E5ECF6",
              "width": 0.5
             }
            },
            "type": "bar"
           }
          ],
          "barpolar": [
           {
            "marker": {
             "line": {
              "color": "#E5ECF6",
              "width": 0.5
             }
            },
            "type": "barpolar"
           }
          ],
          "carpet": [
           {
            "aaxis": {
             "endlinecolor": "#2a3f5f",
             "gridcolor": "white",
             "linecolor": "white",
             "minorgridcolor": "white",
             "startlinecolor": "#2a3f5f"
            },
            "baxis": {
             "endlinecolor": "#2a3f5f",
             "gridcolor": "white",
             "linecolor": "white",
             "minorgridcolor": "white",
             "startlinecolor": "#2a3f5f"
            },
            "type": "carpet"
           }
          ],
          "choropleth": [
           {
            "colorbar": {
             "outlinewidth": 0,
             "ticks": ""
            },
            "type": "choropleth"
           }
          ],
          "contour": [
           {
            "colorbar": {
             "outlinewidth": 0,
             "ticks": ""
            },
            "colorscale": [
             [
              0,
              "#0d0887"
             ],
             [
              0.1111111111111111,
              "#46039f"
             ],
             [
              0.2222222222222222,
              "#7201a8"
             ],
             [
              0.3333333333333333,
              "#9c179e"
             ],
             [
              0.4444444444444444,
              "#bd3786"
             ],
             [
              0.5555555555555556,
              "#d8576b"
             ],
             [
              0.6666666666666666,
              "#ed7953"
             ],
             [
              0.7777777777777778,
              "#fb9f3a"
             ],
             [
              0.8888888888888888,
              "#fdca26"
             ],
             [
              1,
              "#f0f921"
             ]
            ],
            "type": "contour"
           }
          ],
          "contourcarpet": [
           {
            "colorbar": {
             "outlinewidth": 0,
             "ticks": ""
            },
            "type": "contourcarpet"
           }
          ],
          "heatmap": [
           {
            "colorbar": {
             "outlinewidth": 0,
             "ticks": ""
            },
            "colorscale": [
             [
              0,
              "#0d0887"
             ],
             [
              0.1111111111111111,
              "#46039f"
             ],
             [
              0.2222222222222222,
              "#7201a8"
             ],
             [
              0.3333333333333333,
              "#9c179e"
             ],
             [
              0.4444444444444444,
              "#bd3786"
             ],
             [
              0.5555555555555556,
              "#d8576b"
             ],
             [
              0.6666666666666666,
              "#ed7953"
             ],
             [
              0.7777777777777778,
              "#fb9f3a"
             ],
             [
              0.8888888888888888,
              "#fdca26"
             ],
             [
              1,
              "#f0f921"
             ]
            ],
            "type": "heatmap"
           }
          ],
          "heatmapgl": [
           {
            "colorbar": {
             "outlinewidth": 0,
             "ticks": ""
            },
            "colorscale": [
             [
              0,
              "#0d0887"
             ],
             [
              0.1111111111111111,
              "#46039f"
             ],
             [
              0.2222222222222222,
              "#7201a8"
             ],
             [
              0.3333333333333333,
              "#9c179e"
             ],
             [
              0.4444444444444444,
              "#bd3786"
             ],
             [
              0.5555555555555556,
              "#d8576b"
             ],
             [
              0.6666666666666666,
              "#ed7953"
             ],
             [
              0.7777777777777778,
              "#fb9f3a"
             ],
             [
              0.8888888888888888,
              "#fdca26"
             ],
             [
              1,
              "#f0f921"
             ]
            ],
            "type": "heatmapgl"
           }
          ],
          "histogram": [
           {
            "marker": {
             "colorbar": {
              "outlinewidth": 0,
              "ticks": ""
             }
            },
            "type": "histogram"
           }
          ],
          "histogram2d": [
           {
            "colorbar": {
             "outlinewidth": 0,
             "ticks": ""
            },
            "colorscale": [
             [
              0,
              "#0d0887"
             ],
             [
              0.1111111111111111,
              "#46039f"
             ],
             [
              0.2222222222222222,
              "#7201a8"
             ],
             [
              0.3333333333333333,
              "#9c179e"
             ],
             [
              0.4444444444444444,
              "#bd3786"
             ],
             [
              0.5555555555555556,
              "#d8576b"
             ],
             [
              0.6666666666666666,
              "#ed7953"
             ],
             [
              0.7777777777777778,
              "#fb9f3a"
             ],
             [
              0.8888888888888888,
              "#fdca26"
             ],
             [
              1,
              "#f0f921"
             ]
            ],
            "type": "histogram2d"
           }
          ],
          "histogram2dcontour": [
           {
            "colorbar": {
             "outlinewidth": 0,
             "ticks": ""
            },
            "colorscale": [
             [
              0,
              "#0d0887"
             ],
             [
              0.1111111111111111,
              "#46039f"
             ],
             [
              0.2222222222222222,
              "#7201a8"
             ],
             [
              0.3333333333333333,
              "#9c179e"
             ],
             [
              0.4444444444444444,
              "#bd3786"
             ],
             [
              0.5555555555555556,
              "#d8576b"
             ],
             [
              0.6666666666666666,
              "#ed7953"
             ],
             [
              0.7777777777777778,
              "#fb9f3a"
             ],
             [
              0.8888888888888888,
              "#fdca26"
             ],
             [
              1,
              "#f0f921"
             ]
            ],
            "type": "histogram2dcontour"
           }
          ],
          "mesh3d": [
           {
            "colorbar": {
             "outlinewidth": 0,
             "ticks": ""
            },
            "type": "mesh3d"
           }
          ],
          "parcoords": [
           {
            "line": {
             "colorbar": {
              "outlinewidth": 0,
              "ticks": ""
             }
            },
            "type": "parcoords"
           }
          ],
          "pie": [
           {
            "automargin": true,
            "type": "pie"
           }
          ],
          "scatter": [
           {
            "marker": {
             "colorbar": {
              "outlinewidth": 0,
              "ticks": ""
             }
            },
            "type": "scatter"
           }
          ],
          "scatter3d": [
           {
            "line": {
             "colorbar": {
              "outlinewidth": 0,
              "ticks": ""
             }
            },
            "marker": {
             "colorbar": {
              "outlinewidth": 0,
              "ticks": ""
             }
            },
            "type": "scatter3d"
           }
          ],
          "scattercarpet": [
           {
            "marker": {
             "colorbar": {
              "outlinewidth": 0,
              "ticks": ""
             }
            },
            "type": "scattercarpet"
           }
          ],
          "scattergeo": [
           {
            "marker": {
             "colorbar": {
              "outlinewidth": 0,
              "ticks": ""
             }
            },
            "type": "scattergeo"
           }
          ],
          "scattergl": [
           {
            "marker": {
             "colorbar": {
              "outlinewidth": 0,
              "ticks": ""
             }
            },
            "type": "scattergl"
           }
          ],
          "scattermapbox": [
           {
            "marker": {
             "colorbar": {
              "outlinewidth": 0,
              "ticks": ""
             }
            },
            "type": "scattermapbox"
           }
          ],
          "scatterpolar": [
           {
            "marker": {
             "colorbar": {
              "outlinewidth": 0,
              "ticks": ""
             }
            },
            "type": "scatterpolar"
           }
          ],
          "scatterpolargl": [
           {
            "marker": {
             "colorbar": {
              "outlinewidth": 0,
              "ticks": ""
             }
            },
            "type": "scatterpolargl"
           }
          ],
          "scatterternary": [
           {
            "marker": {
             "colorbar": {
              "outlinewidth": 0,
              "ticks": ""
             }
            },
            "type": "scatterternary"
           }
          ],
          "surface": [
           {
            "colorbar": {
             "outlinewidth": 0,
             "ticks": ""
            },
            "colorscale": [
             [
              0,
              "#0d0887"
             ],
             [
              0.1111111111111111,
              "#46039f"
             ],
             [
              0.2222222222222222,
              "#7201a8"
             ],
             [
              0.3333333333333333,
              "#9c179e"
             ],
             [
              0.4444444444444444,
              "#bd3786"
             ],
             [
              0.5555555555555556,
              "#d8576b"
             ],
             [
              0.6666666666666666,
              "#ed7953"
             ],
             [
              0.7777777777777778,
              "#fb9f3a"
             ],
             [
              0.8888888888888888,
              "#fdca26"
             ],
             [
              1,
              "#f0f921"
             ]
            ],
            "type": "surface"
           }
          ],
          "table": [
           {
            "cells": {
             "fill": {
              "color": "#EBF0F8"
             },
             "line": {
              "color": "white"
             }
            },
            "header": {
             "fill": {
              "color": "#C8D4E3"
             },
             "line": {
              "color": "white"
             }
            },
            "type": "table"
           }
          ]
         },
         "layout": {
          "annotationdefaults": {
           "arrowcolor": "#2a3f5f",
           "arrowhead": 0,
           "arrowwidth": 1
          },
          "autotypenumbers": "strict",
          "coloraxis": {
           "colorbar": {
            "outlinewidth": 0,
            "ticks": ""
           }
          },
          "colorscale": {
           "diverging": [
            [
             0,
             "#8e0152"
            ],
            [
             0.1,
             "#c51b7d"
            ],
            [
             0.2,
             "#de77ae"
            ],
            [
             0.3,
             "#f1b6da"
            ],
            [
             0.4,
             "#fde0ef"
            ],
            [
             0.5,
             "#f7f7f7"
            ],
            [
             0.6,
             "#e6f5d0"
            ],
            [
             0.7,
             "#b8e186"
            ],
            [
             0.8,
             "#7fbc41"
            ],
            [
             0.9,
             "#4d9221"
            ],
            [
             1,
             "#276419"
            ]
           ],
           "sequential": [
            [
             0,
             "#0d0887"
            ],
            [
             0.1111111111111111,
             "#46039f"
            ],
            [
             0.2222222222222222,
             "#7201a8"
            ],
            [
             0.3333333333333333,
             "#9c179e"
            ],
            [
             0.4444444444444444,
             "#bd3786"
            ],
            [
             0.5555555555555556,
             "#d8576b"
            ],
            [
             0.6666666666666666,
             "#ed7953"
            ],
            [
             0.7777777777777778,
             "#fb9f3a"
            ],
            [
             0.8888888888888888,
             "#fdca26"
            ],
            [
             1,
             "#f0f921"
            ]
           ],
           "sequentialminus": [
            [
             0,
             "#0d0887"
            ],
            [
             0.1111111111111111,
             "#46039f"
            ],
            [
             0.2222222222222222,
             "#7201a8"
            ],
            [
             0.3333333333333333,
             "#9c179e"
            ],
            [
             0.4444444444444444,
             "#bd3786"
            ],
            [
             0.5555555555555556,
             "#d8576b"
            ],
            [
             0.6666666666666666,
             "#ed7953"
            ],
            [
             0.7777777777777778,
             "#fb9f3a"
            ],
            [
             0.8888888888888888,
             "#fdca26"
            ],
            [
             1,
             "#f0f921"
            ]
           ]
          },
          "colorway": [
           "#636efa",
           "#EF553B",
           "#00cc96",
           "#ab63fa",
           "#FFA15A",
           "#19d3f3",
           "#FF6692",
           "#B6E880",
           "#FF97FF",
           "#FECB52"
          ],
          "font": {
           "color": "#2a3f5f"
          },
          "geo": {
           "bgcolor": "white",
           "lakecolor": "white",
           "landcolor": "#E5ECF6",
           "showlakes": true,
           "showland": true,
           "subunitcolor": "white"
          },
          "hoverlabel": {
           "align": "left"
          },
          "hovermode": "closest",
          "mapbox": {
           "style": "light"
          },
          "paper_bgcolor": "white",
          "plot_bgcolor": "#E5ECF6",
          "polar": {
           "angularaxis": {
            "gridcolor": "white",
            "linecolor": "white",
            "ticks": ""
           },
           "bgcolor": "#E5ECF6",
           "radialaxis": {
            "gridcolor": "white",
            "linecolor": "white",
            "ticks": ""
           }
          },
          "scene": {
           "xaxis": {
            "backgroundcolor": "#E5ECF6",
            "gridcolor": "white",
            "gridwidth": 2,
            "linecolor": "white",
            "showbackground": true,
            "ticks": "",
            "zerolinecolor": "white"
           },
           "yaxis": {
            "backgroundcolor": "#E5ECF6",
            "gridcolor": "white",
            "gridwidth": 2,
            "linecolor": "white",
            "showbackground": true,
            "ticks": "",
            "zerolinecolor": "white"
           },
           "zaxis": {
            "backgroundcolor": "#E5ECF6",
            "gridcolor": "white",
            "gridwidth": 2,
            "linecolor": "white",
            "showbackground": true,
            "ticks": "",
            "zerolinecolor": "white"
           }
          },
          "shapedefaults": {
           "line": {
            "color": "#2a3f5f"
           }
          },
          "ternary": {
           "aaxis": {
            "gridcolor": "white",
            "linecolor": "white",
            "ticks": ""
           },
           "baxis": {
            "gridcolor": "white",
            "linecolor": "white",
            "ticks": ""
           },
           "bgcolor": "#E5ECF6",
           "caxis": {
            "gridcolor": "white",
            "linecolor": "white",
            "ticks": ""
           }
          },
          "title": {
           "x": 0.05
          },
          "xaxis": {
           "automargin": true,
           "gridcolor": "white",
           "linecolor": "white",
           "ticks": "",
           "title": {
            "standoff": 15
           },
           "zerolinecolor": "white",
           "zerolinewidth": 2
          },
          "yaxis": {
           "automargin": true,
           "gridcolor": "white",
           "linecolor": "white",
           "ticks": "",
           "title": {
            "standoff": 15
           },
           "zerolinecolor": "white",
           "zerolinewidth": 2
          }
         }
        },
        "title": {
         "text": "Evolution of AVERAGE DELAY PER DEPARTURE LOCATION IN EACH YEAR"
        },
        "width": 900,
        "xaxis": {
         "tickformat": "d",
         "title": {
          "text": "Year"
         },
         "zeroline": false
        },
        "yaxis": {
         "tickformat": "d",
         "title": {
          "text": "Flight Delay (Minutes)"
         }
        }
       }
      }
     },
     "metadata": {},
     "output_type": "display_data"
    }
   ],
   "source": [
    "traces = []\n",
    "changePerCarrierMap = dict()\n",
    "years = []\n",
    "\n",
    "for i in range(len(averageDelayPerDepartureLocationEachYear.toPandas()['Year'])):\n",
    "    if not averageDelayPerDepartureLocationEachYear.toPandas()['Year'][i] in years:\n",
    "        years.append(averageDelayPerDepartureLocationEachYear.toPandas()['Year'][i])\n",
    "\n",
    "years.sort()\n",
    "        \n",
    "for i in range(len(averageDelayPerDepartureLocationEachYear.toPandas()['ORIGIN'])):\n",
    "    if not averageDelayPerDepartureLocationEachYear.toPandas()['ORIGIN'][i] in changePerCarrierMap:\n",
    "        changePerCarrierMap[averageDelayPerDepartureLocationEachYear.toPandas()['ORIGIN'][i]] = []\n",
    "        \n",
    "    changePerCarrierMap[averageDelayPerDepartureLocationEachYear.toPandas()['ORIGIN'][i]].append(averageDelayPerDepartureLocationEachYear.toPandas()['AverageDelayPerOrigin'][i])\n",
    "    \n",
    "for key in changePerCarrierMap:\n",
    "    traces.append(go.Scatter(\n",
    "        y = changePerCarrierMap[key],\n",
    "        x = years,\n",
    "        mode = 'lines+markers',\n",
    "        name = key))\n",
    "                  \n",
    "layout = dict(title = 'Evolution of AVERAGE DELAY PER DEPARTURE LOCATION IN EACH YEAR',\n",
    "              xaxis= dict(title= 'Year',zeroline= False,tickformat='d'),\n",
    "              yaxis= dict(title= 'Flight Delay (Minutes)',tickformat='d'),\n",
    "              height= 650,\n",
    "              width= 900\n",
    "             )\n",
    "\n",
    "fig = dict(data = traces, layout = layout)\n",
    "\n",
    "pyo.iplot(fig)"
   ]
  },
  {
   "cell_type": "markdown",
   "metadata": {},
   "source": [
    "DEPARTURE LOCATION WITH THE LARGEST AVERAGE DELAY"
   ]
  },
  {
   "cell_type": "code",
   "execution_count": 96,
   "metadata": {},
   "outputs": [
    {
     "name": "stdout",
     "output_type": "stream",
     "text": [
      "+------+------------------+----+\n",
      "|ORIGIN|      AverageDelay|Year|\n",
      "+------+------------------+----+\n",
      "|   PPG|201.55555555555554|2016|\n",
      "|   ENV|             157.0|2016|\n",
      "|   DVL| 122.1344537815126|2018|\n",
      "|   PPG| 99.58064516129032|2018|\n",
      "|   GCK| 99.08108108108108|2016|\n",
      "|   JMS| 97.18536585365854|2018|\n",
      "|   CMX| 96.56744186046511|2018|\n",
      "|   UST| 95.85714285714286|2017|\n",
      "|   GCK| 92.89655172413794|2017|\n",
      "|   RHI| 92.57462686567165|2017|\n",
      "|   SLN| 88.72018348623853|2018|\n",
      "|   LWB| 87.99009900990099|2018|\n",
      "|   LCH| 86.76878612716763|2017|\n",
      "|   MQT| 84.84939759036145|2016|\n",
      "|   SAF| 82.25088339222614|2018|\n",
      "|   SHD| 82.14367816091954|2018|\n",
      "|   MEI| 81.23869346733669|2017|\n",
      "|   RHI| 80.50381679389314|2018|\n",
      "|   FSM|  80.1043956043956|2017|\n",
      "|   HYS| 80.08812260536398|2018|\n",
      "+------+------------------+----+\n",
      "only showing top 20 rows\n",
      "\n"
     ]
    }
   ],
   "source": [
    "spark.sql(\"SELECT ORIGIN, AVG(IF(DEP_DELAY >= 0 , DEP_DELAY, NULL)) AS AverageDelay,EXTRACT(year from FL_DATE) AS Year \\\n",
    "FROM airlinedelay GROUP BY ORIGIN, Year ORDER BY AverageDelay DESC\").show()"
   ]
  },
  {
   "attachments": {},
   "cell_type": "markdown",
   "metadata": {},
   "source": [
    "TOTAL NUMBER OF DEPARTURE/ARRIVAL DELAYS PER YEAR"
   ]
  },
  {
   "cell_type": "code",
   "execution_count": 97,
   "metadata": {},
   "outputs": [
    {
     "name": "stdout",
     "output_type": "stream",
     "text": [
      "+---------------------+-------------------+----+\n",
      "|AverageDepartureDelay|AverageArrivalDelay|Year|\n",
      "+---------------------+-------------------+----+\n",
      "|              2800909|            2655267|2018|\n",
      "|              2233030|            2056193|2017|\n",
      "|              2230108|            2000648|2016|\n",
      "+---------------------+-------------------+----+\n",
      "\n"
     ]
    }
   ],
   "source": [
    "totalNumberOfDepartureArrivalDelaysPerYear = spark.sql(\"SELECT SUM(IF(DEP_DELAY >= 0 , 1, 0)) AS AverageDepartureDelay, SUM(IF(ARR_DELAY >= 0 , 1, 0)) \\\n",
    "AS AverageArrivalDelay, \\\n",
    "EXTRACT(year from FL_DATE) AS Year \\\n",
    "FROM airlinedelay GROUP BY Year ORDER BY AverageDepartureDelay DESC\")\n",
    "\n",
    "totalNumberOfDepartureArrivalDelaysPerYear.show()"
   ]
  },
  {
   "cell_type": "code",
   "execution_count": 98,
   "metadata": {},
   "outputs": [
    {
     "data": {
      "application/vnd.plotly.v1+json": {
       "config": {
        "linkText": "Export to plot.ly",
        "plotlyServerURL": "https://plot.ly",
        "showLink": false
       },
       "data": [
        {
         "text": [
          2018,
          2017,
          2016
         ],
         "type": "pie",
         "values": [
          2800909,
          2233030,
          2230108
         ]
        }
       ],
       "layout": {
        "height": 600,
        "template": {
         "data": {
          "bar": [
           {
            "error_x": {
             "color": "#2a3f5f"
            },
            "error_y": {
             "color": "#2a3f5f"
            },
            "marker": {
             "line": {
              "color": "#E5ECF6",
              "width": 0.5
             }
            },
            "type": "bar"
           }
          ],
          "barpolar": [
           {
            "marker": {
             "line": {
              "color": "#E5ECF6",
              "width": 0.5
             }
            },
            "type": "barpolar"
           }
          ],
          "carpet": [
           {
            "aaxis": {
             "endlinecolor": "#2a3f5f",
             "gridcolor": "white",
             "linecolor": "white",
             "minorgridcolor": "white",
             "startlinecolor": "#2a3f5f"
            },
            "baxis": {
             "endlinecolor": "#2a3f5f",
             "gridcolor": "white",
             "linecolor": "white",
             "minorgridcolor": "white",
             "startlinecolor": "#2a3f5f"
            },
            "type": "carpet"
           }
          ],
          "choropleth": [
           {
            "colorbar": {
             "outlinewidth": 0,
             "ticks": ""
            },
            "type": "choropleth"
           }
          ],
          "contour": [
           {
            "colorbar": {
             "outlinewidth": 0,
             "ticks": ""
            },
            "colorscale": [
             [
              0,
              "#0d0887"
             ],
             [
              0.1111111111111111,
              "#46039f"
             ],
             [
              0.2222222222222222,
              "#7201a8"
             ],
             [
              0.3333333333333333,
              "#9c179e"
             ],
             [
              0.4444444444444444,
              "#bd3786"
             ],
             [
              0.5555555555555556,
              "#d8576b"
             ],
             [
              0.6666666666666666,
              "#ed7953"
             ],
             [
              0.7777777777777778,
              "#fb9f3a"
             ],
             [
              0.8888888888888888,
              "#fdca26"
             ],
             [
              1,
              "#f0f921"
             ]
            ],
            "type": "contour"
           }
          ],
          "contourcarpet": [
           {
            "colorbar": {
             "outlinewidth": 0,
             "ticks": ""
            },
            "type": "contourcarpet"
           }
          ],
          "heatmap": [
           {
            "colorbar": {
             "outlinewidth": 0,
             "ticks": ""
            },
            "colorscale": [
             [
              0,
              "#0d0887"
             ],
             [
              0.1111111111111111,
              "#46039f"
             ],
             [
              0.2222222222222222,
              "#7201a8"
             ],
             [
              0.3333333333333333,
              "#9c179e"
             ],
             [
              0.4444444444444444,
              "#bd3786"
             ],
             [
              0.5555555555555556,
              "#d8576b"
             ],
             [
              0.6666666666666666,
              "#ed7953"
             ],
             [
              0.7777777777777778,
              "#fb9f3a"
             ],
             [
              0.8888888888888888,
              "#fdca26"
             ],
             [
              1,
              "#f0f921"
             ]
            ],
            "type": "heatmap"
           }
          ],
          "heatmapgl": [
           {
            "colorbar": {
             "outlinewidth": 0,
             "ticks": ""
            },
            "colorscale": [
             [
              0,
              "#0d0887"
             ],
             [
              0.1111111111111111,
              "#46039f"
             ],
             [
              0.2222222222222222,
              "#7201a8"
             ],
             [
              0.3333333333333333,
              "#9c179e"
             ],
             [
              0.4444444444444444,
              "#bd3786"
             ],
             [
              0.5555555555555556,
              "#d8576b"
             ],
             [
              0.6666666666666666,
              "#ed7953"
             ],
             [
              0.7777777777777778,
              "#fb9f3a"
             ],
             [
              0.8888888888888888,
              "#fdca26"
             ],
             [
              1,
              "#f0f921"
             ]
            ],
            "type": "heatmapgl"
           }
          ],
          "histogram": [
           {
            "marker": {
             "colorbar": {
              "outlinewidth": 0,
              "ticks": ""
             }
            },
            "type": "histogram"
           }
          ],
          "histogram2d": [
           {
            "colorbar": {
             "outlinewidth": 0,
             "ticks": ""
            },
            "colorscale": [
             [
              0,
              "#0d0887"
             ],
             [
              0.1111111111111111,
              "#46039f"
             ],
             [
              0.2222222222222222,
              "#7201a8"
             ],
             [
              0.3333333333333333,
              "#9c179e"
             ],
             [
              0.4444444444444444,
              "#bd3786"
             ],
             [
              0.5555555555555556,
              "#d8576b"
             ],
             [
              0.6666666666666666,
              "#ed7953"
             ],
             [
              0.7777777777777778,
              "#fb9f3a"
             ],
             [
              0.8888888888888888,
              "#fdca26"
             ],
             [
              1,
              "#f0f921"
             ]
            ],
            "type": "histogram2d"
           }
          ],
          "histogram2dcontour": [
           {
            "colorbar": {
             "outlinewidth": 0,
             "ticks": ""
            },
            "colorscale": [
             [
              0,
              "#0d0887"
             ],
             [
              0.1111111111111111,
              "#46039f"
             ],
             [
              0.2222222222222222,
              "#7201a8"
             ],
             [
              0.3333333333333333,
              "#9c179e"
             ],
             [
              0.4444444444444444,
              "#bd3786"
             ],
             [
              0.5555555555555556,
              "#d8576b"
             ],
             [
              0.6666666666666666,
              "#ed7953"
             ],
             [
              0.7777777777777778,
              "#fb9f3a"
             ],
             [
              0.8888888888888888,
              "#fdca26"
             ],
             [
              1,
              "#f0f921"
             ]
            ],
            "type": "histogram2dcontour"
           }
          ],
          "mesh3d": [
           {
            "colorbar": {
             "outlinewidth": 0,
             "ticks": ""
            },
            "type": "mesh3d"
           }
          ],
          "parcoords": [
           {
            "line": {
             "colorbar": {
              "outlinewidth": 0,
              "ticks": ""
             }
            },
            "type": "parcoords"
           }
          ],
          "pie": [
           {
            "automargin": true,
            "type": "pie"
           }
          ],
          "scatter": [
           {
            "marker": {
             "colorbar": {
              "outlinewidth": 0,
              "ticks": ""
             }
            },
            "type": "scatter"
           }
          ],
          "scatter3d": [
           {
            "line": {
             "colorbar": {
              "outlinewidth": 0,
              "ticks": ""
             }
            },
            "marker": {
             "colorbar": {
              "outlinewidth": 0,
              "ticks": ""
             }
            },
            "type": "scatter3d"
           }
          ],
          "scattercarpet": [
           {
            "marker": {
             "colorbar": {
              "outlinewidth": 0,
              "ticks": ""
             }
            },
            "type": "scattercarpet"
           }
          ],
          "scattergeo": [
           {
            "marker": {
             "colorbar": {
              "outlinewidth": 0,
              "ticks": ""
             }
            },
            "type": "scattergeo"
           }
          ],
          "scattergl": [
           {
            "marker": {
             "colorbar": {
              "outlinewidth": 0,
              "ticks": ""
             }
            },
            "type": "scattergl"
           }
          ],
          "scattermapbox": [
           {
            "marker": {
             "colorbar": {
              "outlinewidth": 0,
              "ticks": ""
             }
            },
            "type": "scattermapbox"
           }
          ],
          "scatterpolar": [
           {
            "marker": {
             "colorbar": {
              "outlinewidth": 0,
              "ticks": ""
             }
            },
            "type": "scatterpolar"
           }
          ],
          "scatterpolargl": [
           {
            "marker": {
             "colorbar": {
              "outlinewidth": 0,
              "ticks": ""
             }
            },
            "type": "scatterpolargl"
           }
          ],
          "scatterternary": [
           {
            "marker": {
             "colorbar": {
              "outlinewidth": 0,
              "ticks": ""
             }
            },
            "type": "scatterternary"
           }
          ],
          "surface": [
           {
            "colorbar": {
             "outlinewidth": 0,
             "ticks": ""
            },
            "colorscale": [
             [
              0,
              "#0d0887"
             ],
             [
              0.1111111111111111,
              "#46039f"
             ],
             [
              0.2222222222222222,
              "#7201a8"
             ],
             [
              0.3333333333333333,
              "#9c179e"
             ],
             [
              0.4444444444444444,
              "#bd3786"
             ],
             [
              0.5555555555555556,
              "#d8576b"
             ],
             [
              0.6666666666666666,
              "#ed7953"
             ],
             [
              0.7777777777777778,
              "#fb9f3a"
             ],
             [
              0.8888888888888888,
              "#fdca26"
             ],
             [
              1,
              "#f0f921"
             ]
            ],
            "type": "surface"
           }
          ],
          "table": [
           {
            "cells": {
             "fill": {
              "color": "#EBF0F8"
             },
             "line": {
              "color": "white"
             }
            },
            "header": {
             "fill": {
              "color": "#C8D4E3"
             },
             "line": {
              "color": "white"
             }
            },
            "type": "table"
           }
          ]
         },
         "layout": {
          "annotationdefaults": {
           "arrowcolor": "#2a3f5f",
           "arrowhead": 0,
           "arrowwidth": 1
          },
          "autotypenumbers": "strict",
          "coloraxis": {
           "colorbar": {
            "outlinewidth": 0,
            "ticks": ""
           }
          },
          "colorscale": {
           "diverging": [
            [
             0,
             "#8e0152"
            ],
            [
             0.1,
             "#c51b7d"
            ],
            [
             0.2,
             "#de77ae"
            ],
            [
             0.3,
             "#f1b6da"
            ],
            [
             0.4,
             "#fde0ef"
            ],
            [
             0.5,
             "#f7f7f7"
            ],
            [
             0.6,
             "#e6f5d0"
            ],
            [
             0.7,
             "#b8e186"
            ],
            [
             0.8,
             "#7fbc41"
            ],
            [
             0.9,
             "#4d9221"
            ],
            [
             1,
             "#276419"
            ]
           ],
           "sequential": [
            [
             0,
             "#0d0887"
            ],
            [
             0.1111111111111111,
             "#46039f"
            ],
            [
             0.2222222222222222,
             "#7201a8"
            ],
            [
             0.3333333333333333,
             "#9c179e"
            ],
            [
             0.4444444444444444,
             "#bd3786"
            ],
            [
             0.5555555555555556,
             "#d8576b"
            ],
            [
             0.6666666666666666,
             "#ed7953"
            ],
            [
             0.7777777777777778,
             "#fb9f3a"
            ],
            [
             0.8888888888888888,
             "#fdca26"
            ],
            [
             1,
             "#f0f921"
            ]
           ],
           "sequentialminus": [
            [
             0,
             "#0d0887"
            ],
            [
             0.1111111111111111,
             "#46039f"
            ],
            [
             0.2222222222222222,
             "#7201a8"
            ],
            [
             0.3333333333333333,
             "#9c179e"
            ],
            [
             0.4444444444444444,
             "#bd3786"
            ],
            [
             0.5555555555555556,
             "#d8576b"
            ],
            [
             0.6666666666666666,
             "#ed7953"
            ],
            [
             0.7777777777777778,
             "#fb9f3a"
            ],
            [
             0.8888888888888888,
             "#fdca26"
            ],
            [
             1,
             "#f0f921"
            ]
           ]
          },
          "colorway": [
           "#636efa",
           "#EF553B",
           "#00cc96",
           "#ab63fa",
           "#FFA15A",
           "#19d3f3",
           "#FF6692",
           "#B6E880",
           "#FF97FF",
           "#FECB52"
          ],
          "font": {
           "color": "#2a3f5f"
          },
          "geo": {
           "bgcolor": "white",
           "lakecolor": "white",
           "landcolor": "#E5ECF6",
           "showlakes": true,
           "showland": true,
           "subunitcolor": "white"
          },
          "hoverlabel": {
           "align": "left"
          },
          "hovermode": "closest",
          "mapbox": {
           "style": "light"
          },
          "paper_bgcolor": "white",
          "plot_bgcolor": "#E5ECF6",
          "polar": {
           "angularaxis": {
            "gridcolor": "white",
            "linecolor": "white",
            "ticks": ""
           },
           "bgcolor": "#E5ECF6",
           "radialaxis": {
            "gridcolor": "white",
            "linecolor": "white",
            "ticks": ""
           }
          },
          "scene": {
           "xaxis": {
            "backgroundcolor": "#E5ECF6",
            "gridcolor": "white",
            "gridwidth": 2,
            "linecolor": "white",
            "showbackground": true,
            "ticks": "",
            "zerolinecolor": "white"
           },
           "yaxis": {
            "backgroundcolor": "#E5ECF6",
            "gridcolor": "white",
            "gridwidth": 2,
            "linecolor": "white",
            "showbackground": true,
            "ticks": "",
            "zerolinecolor": "white"
           },
           "zaxis": {
            "backgroundcolor": "#E5ECF6",
            "gridcolor": "white",
            "gridwidth": 2,
            "linecolor": "white",
            "showbackground": true,
            "ticks": "",
            "zerolinecolor": "white"
           }
          },
          "shapedefaults": {
           "line": {
            "color": "#2a3f5f"
           }
          },
          "ternary": {
           "aaxis": {
            "gridcolor": "white",
            "linecolor": "white",
            "ticks": ""
           },
           "baxis": {
            "gridcolor": "white",
            "linecolor": "white",
            "ticks": ""
           },
           "bgcolor": "#E5ECF6",
           "caxis": {
            "gridcolor": "white",
            "linecolor": "white",
            "ticks": ""
           }
          },
          "title": {
           "x": 0.05
          },
          "xaxis": {
           "automargin": true,
           "gridcolor": "white",
           "linecolor": "white",
           "ticks": "",
           "title": {
            "standoff": 15
           },
           "zerolinecolor": "white",
           "zerolinewidth": 2
          },
          "yaxis": {
           "automargin": true,
           "gridcolor": "white",
           "linecolor": "white",
           "ticks": "",
           "title": {
            "standoff": 15
           },
           "zerolinecolor": "white",
           "zerolinewidth": 2
          }
         }
        },
        "title": {
         "text": "Total Number of Departure Delays Year-Over-Year"
        },
        "width": 900
       }
      }
     },
     "metadata": {},
     "output_type": "display_data"
    }
   ],
   "source": [
    "totalNumberOfDeparturelDelaysPerYearTrace = go.Pie(\n",
    "    values = totalNumberOfDepartureArrivalDelaysPerYear.toPandas()['AverageDepartureDelay'],\n",
    "    text = totalNumberOfDepartureArrivalDelaysPerYear.toPandas()['Year'])\n",
    "\n",
    "\n",
    "data = [totalNumberOfDeparturelDelaysPerYearTrace]\n",
    "\n",
    "layout = dict(title = 'Total Number of Departure Delays Year-Over-Year',\n",
    "              height= 600,\n",
    "              width= 900\n",
    "             )\n",
    "fig = dict(data = data, layout = layout)\n",
    "\n",
    "pyo.iplot(fig)"
   ]
  },
  {
   "cell_type": "code",
   "execution_count": 99,
   "metadata": {},
   "outputs": [
    {
     "data": {
      "application/vnd.plotly.v1+json": {
       "config": {
        "linkText": "Export to plot.ly",
        "plotlyServerURL": "https://plot.ly",
        "showLink": false
       },
       "data": [
        {
         "text": [
          2018,
          2017,
          2016
         ],
         "type": "pie",
         "values": [
          2655267,
          2056193,
          2000648
         ]
        }
       ],
       "layout": {
        "height": 600,
        "template": {
         "data": {
          "bar": [
           {
            "error_x": {
             "color": "#2a3f5f"
            },
            "error_y": {
             "color": "#2a3f5f"
            },
            "marker": {
             "line": {
              "color": "#E5ECF6",
              "width": 0.5
             }
            },
            "type": "bar"
           }
          ],
          "barpolar": [
           {
            "marker": {
             "line": {
              "color": "#E5ECF6",
              "width": 0.5
             }
            },
            "type": "barpolar"
           }
          ],
          "carpet": [
           {
            "aaxis": {
             "endlinecolor": "#2a3f5f",
             "gridcolor": "white",
             "linecolor": "white",
             "minorgridcolor": "white",
             "startlinecolor": "#2a3f5f"
            },
            "baxis": {
             "endlinecolor": "#2a3f5f",
             "gridcolor": "white",
             "linecolor": "white",
             "minorgridcolor": "white",
             "startlinecolor": "#2a3f5f"
            },
            "type": "carpet"
           }
          ],
          "choropleth": [
           {
            "colorbar": {
             "outlinewidth": 0,
             "ticks": ""
            },
            "type": "choropleth"
           }
          ],
          "contour": [
           {
            "colorbar": {
             "outlinewidth": 0,
             "ticks": ""
            },
            "colorscale": [
             [
              0,
              "#0d0887"
             ],
             [
              0.1111111111111111,
              "#46039f"
             ],
             [
              0.2222222222222222,
              "#7201a8"
             ],
             [
              0.3333333333333333,
              "#9c179e"
             ],
             [
              0.4444444444444444,
              "#bd3786"
             ],
             [
              0.5555555555555556,
              "#d8576b"
             ],
             [
              0.6666666666666666,
              "#ed7953"
             ],
             [
              0.7777777777777778,
              "#fb9f3a"
             ],
             [
              0.8888888888888888,
              "#fdca26"
             ],
             [
              1,
              "#f0f921"
             ]
            ],
            "type": "contour"
           }
          ],
          "contourcarpet": [
           {
            "colorbar": {
             "outlinewidth": 0,
             "ticks": ""
            },
            "type": "contourcarpet"
           }
          ],
          "heatmap": [
           {
            "colorbar": {
             "outlinewidth": 0,
             "ticks": ""
            },
            "colorscale": [
             [
              0,
              "#0d0887"
             ],
             [
              0.1111111111111111,
              "#46039f"
             ],
             [
              0.2222222222222222,
              "#7201a8"
             ],
             [
              0.3333333333333333,
              "#9c179e"
             ],
             [
              0.4444444444444444,
              "#bd3786"
             ],
             [
              0.5555555555555556,
              "#d8576b"
             ],
             [
              0.6666666666666666,
              "#ed7953"
             ],
             [
              0.7777777777777778,
              "#fb9f3a"
             ],
             [
              0.8888888888888888,
              "#fdca26"
             ],
             [
              1,
              "#f0f921"
             ]
            ],
            "type": "heatmap"
           }
          ],
          "heatmapgl": [
           {
            "colorbar": {
             "outlinewidth": 0,
             "ticks": ""
            },
            "colorscale": [
             [
              0,
              "#0d0887"
             ],
             [
              0.1111111111111111,
              "#46039f"
             ],
             [
              0.2222222222222222,
              "#7201a8"
             ],
             [
              0.3333333333333333,
              "#9c179e"
             ],
             [
              0.4444444444444444,
              "#bd3786"
             ],
             [
              0.5555555555555556,
              "#d8576b"
             ],
             [
              0.6666666666666666,
              "#ed7953"
             ],
             [
              0.7777777777777778,
              "#fb9f3a"
             ],
             [
              0.8888888888888888,
              "#fdca26"
             ],
             [
              1,
              "#f0f921"
             ]
            ],
            "type": "heatmapgl"
           }
          ],
          "histogram": [
           {
            "marker": {
             "colorbar": {
              "outlinewidth": 0,
              "ticks": ""
             }
            },
            "type": "histogram"
           }
          ],
          "histogram2d": [
           {
            "colorbar": {
             "outlinewidth": 0,
             "ticks": ""
            },
            "colorscale": [
             [
              0,
              "#0d0887"
             ],
             [
              0.1111111111111111,
              "#46039f"
             ],
             [
              0.2222222222222222,
              "#7201a8"
             ],
             [
              0.3333333333333333,
              "#9c179e"
             ],
             [
              0.4444444444444444,
              "#bd3786"
             ],
             [
              0.5555555555555556,
              "#d8576b"
             ],
             [
              0.6666666666666666,
              "#ed7953"
             ],
             [
              0.7777777777777778,
              "#fb9f3a"
             ],
             [
              0.8888888888888888,
              "#fdca26"
             ],
             [
              1,
              "#f0f921"
             ]
            ],
            "type": "histogram2d"
           }
          ],
          "histogram2dcontour": [
           {
            "colorbar": {
             "outlinewidth": 0,
             "ticks": ""
            },
            "colorscale": [
             [
              0,
              "#0d0887"
             ],
             [
              0.1111111111111111,
              "#46039f"
             ],
             [
              0.2222222222222222,
              "#7201a8"
             ],
             [
              0.3333333333333333,
              "#9c179e"
             ],
             [
              0.4444444444444444,
              "#bd3786"
             ],
             [
              0.5555555555555556,
              "#d8576b"
             ],
             [
              0.6666666666666666,
              "#ed7953"
             ],
             [
              0.7777777777777778,
              "#fb9f3a"
             ],
             [
              0.8888888888888888,
              "#fdca26"
             ],
             [
              1,
              "#f0f921"
             ]
            ],
            "type": "histogram2dcontour"
           }
          ],
          "mesh3d": [
           {
            "colorbar": {
             "outlinewidth": 0,
             "ticks": ""
            },
            "type": "mesh3d"
           }
          ],
          "parcoords": [
           {
            "line": {
             "colorbar": {
              "outlinewidth": 0,
              "ticks": ""
             }
            },
            "type": "parcoords"
           }
          ],
          "pie": [
           {
            "automargin": true,
            "type": "pie"
           }
          ],
          "scatter": [
           {
            "marker": {
             "colorbar": {
              "outlinewidth": 0,
              "ticks": ""
             }
            },
            "type": "scatter"
           }
          ],
          "scatter3d": [
           {
            "line": {
             "colorbar": {
              "outlinewidth": 0,
              "ticks": ""
             }
            },
            "marker": {
             "colorbar": {
              "outlinewidth": 0,
              "ticks": ""
             }
            },
            "type": "scatter3d"
           }
          ],
          "scattercarpet": [
           {
            "marker": {
             "colorbar": {
              "outlinewidth": 0,
              "ticks": ""
             }
            },
            "type": "scattercarpet"
           }
          ],
          "scattergeo": [
           {
            "marker": {
             "colorbar": {
              "outlinewidth": 0,
              "ticks": ""
             }
            },
            "type": "scattergeo"
           }
          ],
          "scattergl": [
           {
            "marker": {
             "colorbar": {
              "outlinewidth": 0,
              "ticks": ""
             }
            },
            "type": "scattergl"
           }
          ],
          "scattermapbox": [
           {
            "marker": {
             "colorbar": {
              "outlinewidth": 0,
              "ticks": ""
             }
            },
            "type": "scattermapbox"
           }
          ],
          "scatterpolar": [
           {
            "marker": {
             "colorbar": {
              "outlinewidth": 0,
              "ticks": ""
             }
            },
            "type": "scatterpolar"
           }
          ],
          "scatterpolargl": [
           {
            "marker": {
             "colorbar": {
              "outlinewidth": 0,
              "ticks": ""
             }
            },
            "type": "scatterpolargl"
           }
          ],
          "scatterternary": [
           {
            "marker": {
             "colorbar": {
              "outlinewidth": 0,
              "ticks": ""
             }
            },
            "type": "scatterternary"
           }
          ],
          "surface": [
           {
            "colorbar": {
             "outlinewidth": 0,
             "ticks": ""
            },
            "colorscale": [
             [
              0,
              "#0d0887"
             ],
             [
              0.1111111111111111,
              "#46039f"
             ],
             [
              0.2222222222222222,
              "#7201a8"
             ],
             [
              0.3333333333333333,
              "#9c179e"
             ],
             [
              0.4444444444444444,
              "#bd3786"
             ],
             [
              0.5555555555555556,
              "#d8576b"
             ],
             [
              0.6666666666666666,
              "#ed7953"
             ],
             [
              0.7777777777777778,
              "#fb9f3a"
             ],
             [
              0.8888888888888888,
              "#fdca26"
             ],
             [
              1,
              "#f0f921"
             ]
            ],
            "type": "surface"
           }
          ],
          "table": [
           {
            "cells": {
             "fill": {
              "color": "#EBF0F8"
             },
             "line": {
              "color": "white"
             }
            },
            "header": {
             "fill": {
              "color": "#C8D4E3"
             },
             "line": {
              "color": "white"
             }
            },
            "type": "table"
           }
          ]
         },
         "layout": {
          "annotationdefaults": {
           "arrowcolor": "#2a3f5f",
           "arrowhead": 0,
           "arrowwidth": 1
          },
          "autotypenumbers": "strict",
          "coloraxis": {
           "colorbar": {
            "outlinewidth": 0,
            "ticks": ""
           }
          },
          "colorscale": {
           "diverging": [
            [
             0,
             "#8e0152"
            ],
            [
             0.1,
             "#c51b7d"
            ],
            [
             0.2,
             "#de77ae"
            ],
            [
             0.3,
             "#f1b6da"
            ],
            [
             0.4,
             "#fde0ef"
            ],
            [
             0.5,
             "#f7f7f7"
            ],
            [
             0.6,
             "#e6f5d0"
            ],
            [
             0.7,
             "#b8e186"
            ],
            [
             0.8,
             "#7fbc41"
            ],
            [
             0.9,
             "#4d9221"
            ],
            [
             1,
             "#276419"
            ]
           ],
           "sequential": [
            [
             0,
             "#0d0887"
            ],
            [
             0.1111111111111111,
             "#46039f"
            ],
            [
             0.2222222222222222,
             "#7201a8"
            ],
            [
             0.3333333333333333,
             "#9c179e"
            ],
            [
             0.4444444444444444,
             "#bd3786"
            ],
            [
             0.5555555555555556,
             "#d8576b"
            ],
            [
             0.6666666666666666,
             "#ed7953"
            ],
            [
             0.7777777777777778,
             "#fb9f3a"
            ],
            [
             0.8888888888888888,
             "#fdca26"
            ],
            [
             1,
             "#f0f921"
            ]
           ],
           "sequentialminus": [
            [
             0,
             "#0d0887"
            ],
            [
             0.1111111111111111,
             "#46039f"
            ],
            [
             0.2222222222222222,
             "#7201a8"
            ],
            [
             0.3333333333333333,
             "#9c179e"
            ],
            [
             0.4444444444444444,
             "#bd3786"
            ],
            [
             0.5555555555555556,
             "#d8576b"
            ],
            [
             0.6666666666666666,
             "#ed7953"
            ],
            [
             0.7777777777777778,
             "#fb9f3a"
            ],
            [
             0.8888888888888888,
             "#fdca26"
            ],
            [
             1,
             "#f0f921"
            ]
           ]
          },
          "colorway": [
           "#636efa",
           "#EF553B",
           "#00cc96",
           "#ab63fa",
           "#FFA15A",
           "#19d3f3",
           "#FF6692",
           "#B6E880",
           "#FF97FF",
           "#FECB52"
          ],
          "font": {
           "color": "#2a3f5f"
          },
          "geo": {
           "bgcolor": "white",
           "lakecolor": "white",
           "landcolor": "#E5ECF6",
           "showlakes": true,
           "showland": true,
           "subunitcolor": "white"
          },
          "hoverlabel": {
           "align": "left"
          },
          "hovermode": "closest",
          "mapbox": {
           "style": "light"
          },
          "paper_bgcolor": "white",
          "plot_bgcolor": "#E5ECF6",
          "polar": {
           "angularaxis": {
            "gridcolor": "white",
            "linecolor": "white",
            "ticks": ""
           },
           "bgcolor": "#E5ECF6",
           "radialaxis": {
            "gridcolor": "white",
            "linecolor": "white",
            "ticks": ""
           }
          },
          "scene": {
           "xaxis": {
            "backgroundcolor": "#E5ECF6",
            "gridcolor": "white",
            "gridwidth": 2,
            "linecolor": "white",
            "showbackground": true,
            "ticks": "",
            "zerolinecolor": "white"
           },
           "yaxis": {
            "backgroundcolor": "#E5ECF6",
            "gridcolor": "white",
            "gridwidth": 2,
            "linecolor": "white",
            "showbackground": true,
            "ticks": "",
            "zerolinecolor": "white"
           },
           "zaxis": {
            "backgroundcolor": "#E5ECF6",
            "gridcolor": "white",
            "gridwidth": 2,
            "linecolor": "white",
            "showbackground": true,
            "ticks": "",
            "zerolinecolor": "white"
           }
          },
          "shapedefaults": {
           "line": {
            "color": "#2a3f5f"
           }
          },
          "ternary": {
           "aaxis": {
            "gridcolor": "white",
            "linecolor": "white",
            "ticks": ""
           },
           "baxis": {
            "gridcolor": "white",
            "linecolor": "white",
            "ticks": ""
           },
           "bgcolor": "#E5ECF6",
           "caxis": {
            "gridcolor": "white",
            "linecolor": "white",
            "ticks": ""
           }
          },
          "title": {
           "x": 0.05
          },
          "xaxis": {
           "automargin": true,
           "gridcolor": "white",
           "linecolor": "white",
           "ticks": "",
           "title": {
            "standoff": 15
           },
           "zerolinecolor": "white",
           "zerolinewidth": 2
          },
          "yaxis": {
           "automargin": true,
           "gridcolor": "white",
           "linecolor": "white",
           "ticks": "",
           "title": {
            "standoff": 15
           },
           "zerolinecolor": "white",
           "zerolinewidth": 2
          }
         }
        },
        "title": {
         "text": "Total Number of Arrival Delays Year-Over-Year"
        },
        "width": 900
       }
      }
     },
     "metadata": {},
     "output_type": "display_data"
    }
   ],
   "source": [
    "totalNumberOfArrivalDelaysPerYearTrace = go.Pie(\n",
    "    values = totalNumberOfDepartureArrivalDelaysPerYear.toPandas()['AverageArrivalDelay'],\n",
    "    text = totalNumberOfDepartureArrivalDelaysPerYear.toPandas()['Year'])\n",
    "\n",
    "\n",
    "data = [totalNumberOfArrivalDelaysPerYearTrace]\n",
    "\n",
    "layout = dict(title = 'Total Number of Arrival Delays Year-Over-Year',\n",
    "              height= 600,\n",
    "              width= 900\n",
    "             )\n",
    "fig = dict(data = data, layout = layout)\n",
    "\n",
    "pyo.iplot(fig)"
   ]
  }
 ],
 "metadata": {
  "kernelspec": {
   "display_name": "Python 3.6.8 64-bit",
   "language": "python",
   "name": "python3"
  },
  "language_info": {
   "codemirror_mode": {
    "name": "ipython",
    "version": 3
   },
   "file_extension": ".py",
   "mimetype": "text/x-python",
   "name": "python",
   "nbconvert_exporter": "python",
   "pygments_lexer": "ipython3",
   "version": "3.6.8"
  },
  "orig_nbformat": 4,
  "vscode": {
   "interpreter": {
    "hash": "bb41c486c9a952ea9ab660fc5492da8d93953408d86caf7fa1d34391fa6c6cf3"
   }
  }
 },
 "nbformat": 4,
 "nbformat_minor": 2
}
