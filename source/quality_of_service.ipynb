{
 "cells": [
  {
   "cell_type": "code",
   "execution_count": 1,
   "id": "8bfa32cf-9c62-440f-ab3b-057afcec5f50",
   "metadata": {},
   "outputs": [],
   "source": [
    "from pyspark.sql import SparkSession\n",
    "from pyspark.sql.types import StructType, StructField\n",
    "from pyspark.sql.types import StringType, IntegerType, DateType, DoubleType\n",
    "from pyspark.sql import functions"
   ]
  },
  {
   "cell_type": "code",
   "execution_count": 2,
   "id": "7d973fc3-c36d-48b8-9ac5-da54d4606b78",
   "metadata": {},
   "outputs": [
    {
     "name": "stdout",
     "output_type": "stream",
     "text": [
      "22/12/18 14:03:59 WARN Utils: Your hostname, lucian resolves to a loopback address: 127.0.1.1; using 192.168.100.7 instead (on interface eno1)\n",
      "22/12/18 14:03:59 WARN Utils: Set SPARK_LOCAL_IP if you need to bind to another address\n"
     ]
    },
    {
     "name": "stderr",
     "output_type": "stream",
     "text": [
      "Setting default log level to \"WARN\".\n",
      "To adjust logging level use sc.setLogLevel(newLevel). For SparkR, use setLogLevel(newLevel).\n"
     ]
    },
    {
     "name": "stdout",
     "output_type": "stream",
     "text": [
      "22/12/18 14:04:00 WARN NativeCodeLoader: Unable to load native-hadoop library for your platform... using builtin-java classes where applicable\n"
     ]
    }
   ],
   "source": [
    "spark = SparkSession \\\n",
    "    .builder \\\n",
    "    .appName(\"airlinedelay\") \\\n",
    "    .getOrCreate()\n",
    "\n",
    "context = spark.sparkContext"
   ]
  },
  {
   "cell_type": "code",
   "execution_count": 3,
   "id": "838995b9-9890-461b-a42f-19b0df61f3e4",
   "metadata": {},
   "outputs": [
    {
     "name": "stdout",
     "output_type": "stream",
     "text": [
      "22/12/18 14:04:08 WARN package: Truncated the string representation of a plan since it was too large. This behavior can be adjusted by setting 'spark.sql.debug.maxToStringFields'.\n"
     ]
    }
   ],
   "source": [
    "schema = StructType([\n",
    "    StructField(\"FL_DATE\", DateType(), True),\n",
    "    StructField(\"OP_CARRIER\", StringType(), True),\n",
    "    StructField(\"OP_CARRIER_FL_NUM\", IntegerType(), True),\n",
    "    StructField(\"ORIGIN\", StringType(), True),\n",
    "    StructField(\"DEST\", StringType(), True),\n",
    "    StructField(\"CRS_DEP_TIME\", DoubleType(), True),\n",
    "    StructField(\"DEP_TIME\", DoubleType(), True),\n",
    "    StructField(\"DEP_DELAY\", DoubleType(), True),\n",
    "    StructField(\"TAXI_OUT\", DoubleType(), True),\n",
    "    StructField(\"WHEELS_OFF\", DoubleType(), True),\n",
    "    StructField(\"WHEELS_ON\", DoubleType(), True),\n",
    "    StructField(\"TAXI_IN\", DoubleType(), True),\n",
    "    StructField(\"CRS_ARR_TIME\", DoubleType(), True),\n",
    "    StructField(\"ARR_TIME\", DoubleType(), True),\n",
    "    StructField(\"ARR_DELAY\", DoubleType(), True),\n",
    "    StructField(\"CANCELLED\", DoubleType(), True),\n",
    "    StructField(\"CANCELLATION_CODE\", StringType(), True),\n",
    "    StructField(\"DIVERTED\", DoubleType(), True),\n",
    "    StructField(\"CRS_ELAPSED_TIME\", DoubleType(), True),\n",
    "    StructField(\"ACTUAL_ELAPSED_TIME\", DoubleType(), True),\n",
    "    StructField(\"AIR_TIME\", DoubleType(), True),\n",
    "    StructField(\"DISTANCE\", DoubleType(), True),\n",
    "    StructField(\"CARRIER_DELAY\", DoubleType(), True),\n",
    "    StructField(\"WEATHER_DELAY\", DoubleType(), True),\n",
    "    StructField(\"NAS_DELAY\", DoubleType(), True),\n",
    "    StructField(\"SECURITY_DELAY\", DoubleType(), True),\n",
    "    StructField(\"LATE_AIRCRAFT_DELAY\", DoubleType(), True)\n",
    "])\n",
    "\n",
    "df = spark.read.format(\"csv\") \\\n",
    "    .option(\"sep\", \",\") \\\n",
    "    .option(\"header\", True) \\\n",
    "    .schema(schema) \\\n",
    "    .load(\"*.csv\")\n",
    "\n",
    "df.createOrReplaceTempView(\"airlinedelay\")"
   ]
  },
  {
   "cell_type": "code",
   "execution_count": 34,
   "id": "d106a710-02eb-4f0d-b8bd-f959282e15f9",
   "metadata": {},
   "outputs": [
    {
     "name": "stdout",
     "output_type": "stream",
     "text": [
      "22/12/18 16:29:47 WARN CSVHeaderChecker: Number of column in CSV header is not equal to number of fields in the schema:\n",
      " Header length: 28, schema size: 27\n",
      "CSV file: file:///home/lucian/Facultate/BDA/source/2012.csv\n",
      "+----------+----------+-----------------+------+----+------------+--------+---------+--------+----------+---------+-------+------------+--------+---------+---------+-----------------+--------+----------------+-------------------+--------+--------+-------------+-------------+---------+--------------+-------------------+\n",
      "|   FL_DATE|OP_CARRIER|OP_CARRIER_FL_NUM|ORIGIN|DEST|CRS_DEP_TIME|DEP_TIME|DEP_DELAY|TAXI_OUT|WHEELS_OFF|WHEELS_ON|TAXI_IN|CRS_ARR_TIME|ARR_TIME|ARR_DELAY|CANCELLED|CANCELLATION_CODE|DIVERTED|CRS_ELAPSED_TIME|ACTUAL_ELAPSED_TIME|AIR_TIME|DISTANCE|CARRIER_DELAY|WEATHER_DELAY|NAS_DELAY|SECURITY_DELAY|LATE_AIRCRAFT_DELAY|\n",
      "+----------+----------+-----------------+------+----+------------+--------+---------+--------+----------+---------+-------+------------+--------+---------+---------+-----------------+--------+----------------+-------------------+--------+--------+-------------+-------------+---------+--------------+-------------------+\n",
      "|2012-01-01|        MQ|             4041|   BMI| ORD|      1715.0|  1702.0|    -13.0|     9.0|    1711.0|   1748.0|    9.0|      1810.0|  1757.0|    -13.0|      0.0|             null|     0.0|            55.0|               55.0|    37.0|   116.0|         null|         null|     null|          null|               null|\n",
      "|2012-01-01|        MQ|             4041|   ORD| BMI|      1545.0|  1540.0|     -5.0|    11.0|    1551.0|   1614.0|    5.0|      1635.0|  1619.0|    -16.0|      0.0|             null|     0.0|            50.0|               39.0|    23.0|   116.0|         null|         null|     null|          null|               null|\n",
      "|2012-01-01|        MQ|             4042|   SGF| ORD|       715.0|   705.0|    -10.0|    12.0|     717.0|    832.0|   18.0|       910.0|   850.0|    -20.0|      0.0|             null|     0.0|           115.0|              105.0|    75.0|   438.0|         null|         null|     null|          null|               null|\n",
      "|2012-01-01|        MQ|             4045|   ORD| DBQ|      1535.0|  1529.0|     -6.0|    13.0|    1542.0|   1613.0|    2.0|      1630.0|  1615.0|    -15.0|      0.0|             null|     0.0|            55.0|               46.0|    31.0|   147.0|         null|         null|     null|          null|               null|\n",
      "|2012-01-01|        MQ|             4047|   ORD| RIC|      1600.0|  1615.0|     15.0|    12.0|    1627.0|   1853.0|   11.0|      1855.0|  1904.0|      9.0|      0.0|             null|     0.0|           115.0|              109.0|    86.0|   642.0|         null|         null|     null|          null|               null|\n",
      "|2012-01-01|        MQ|             4048|   FWA| ORD|      1710.0|  1713.0|      3.0|     9.0|    1722.0|   1659.0|    9.0|      1710.0|  1708.0|     -2.0|      0.0|             null|     0.0|            60.0|               55.0|    37.0|   157.0|         null|         null|     null|          null|               null|\n",
      "|2012-01-01|        MQ|             4051|   ORD| BUF|      1645.0|  1645.0|      0.0|    42.0|    1727.0|   1941.0|    5.0|      1920.0|  1946.0|     26.0|      0.0|             null|     0.0|            95.0|              121.0|    74.0|   473.0|          0.0|          0.0|     26.0|           0.0|                0.0|\n",
      "|2012-01-01|        MQ|             4052|   CMI| ORD|      1320.0|  1311.0|     -9.0|     8.0|    1319.0|   1400.0|   42.0|      1415.0|  1442.0|     27.0|      0.0|             null|     0.0|            55.0|               91.0|    41.0|   135.0|          0.0|          0.0|     27.0|           0.0|                0.0|\n",
      "|2012-01-01|        MQ|             4057|   SYR| ORD|      1205.0|  1154.0|    -11.0|     9.0|    1203.0|   1248.0|   17.0|      1320.0|  1305.0|    -15.0|      0.0|             null|     0.0|           135.0|              131.0|   105.0|   607.0|         null|         null|     null|          null|               null|\n",
      "|2012-01-01|        MQ|             4058|   CVG| ORD|       830.0|   921.0|     51.0|    17.0|     938.0|    929.0|   27.0|       905.0|   956.0|     51.0|      0.0|             null|     0.0|            95.0|               95.0|    51.0|   265.0|         51.0|          0.0|      0.0|           0.0|                0.0|\n",
      "|2012-01-01|        MQ|             4059|   ORD| CVG|      1945.0|  1945.0|      0.0|    55.0|    2040.0|   2224.0|    4.0|      2200.0|  2228.0|     28.0|      0.0|             null|     0.0|            75.0|              103.0|    44.0|   265.0|          0.0|          0.0|     28.0|           0.0|                0.0|\n",
      "|2012-01-01|        MQ|             4060|   ORD| CMH|      1535.0|  1535.0|      0.0|    78.0|    1653.0|   1841.0|    8.0|      1745.0|  1849.0|     64.0|      0.0|             null|     0.0|            70.0|              134.0|    48.0|   296.0|          0.0|          0.0|     64.0|           0.0|                0.0|\n",
      "|2012-01-01|        MQ|             4061|   ORD| SGF|      1500.0|  1507.0|      7.0|    21.0|    1528.0|   1638.0|    3.0|      1635.0|  1641.0|      6.0|      0.0|             null|     0.0|            95.0|               94.0|    70.0|   438.0|         null|         null|     null|          null|               null|\n",
      "|2012-01-01|        MQ|             4063|   OKC| ORD|      1735.0|  1812.0|     37.0|    17.0|    1829.0|   2015.0|   47.0|      1955.0|  2102.0|     67.0|      0.0|             null|     0.0|           140.0|              170.0|   106.0|   693.0|          0.0|          0.0|     30.0|           0.0|               37.0|\n",
      "|2012-01-01|        MQ|             4064|   ORD| CLE|      1745.0|  1838.0|     53.0|    59.0|    1937.0|   2127.0|    6.0|      2010.0|  2133.0|     83.0|      0.0|             null|     0.0|            85.0|              115.0|    50.0|   315.0|          0.0|         12.0|     30.0|           0.0|               41.0|\n",
      "|2012-01-01|        MQ|             4067|   RIC| ORD|       810.0|   805.0|     -5.0|    13.0|     818.0|    902.0|    7.0|       935.0|   909.0|    -26.0|      0.0|             null|     0.0|           145.0|              124.0|   104.0|   642.0|         null|         null|     null|          null|               null|\n",
      "|2012-01-01|        MQ|             4070|   ORD| BUF|      1335.0|  1330.0|     -5.0|    45.0|    1415.0|   1625.0|    5.0|      1610.0|  1630.0|     20.0|      0.0|             null|     0.0|            95.0|              120.0|    70.0|   473.0|          0.0|          0.0|     20.0|           0.0|                0.0|\n",
      "|2012-01-01|        MQ|             4071|   ORD| XNA|      1210.0|  1207.0|     -3.0|    13.0|    1220.0|   1342.0|    5.0|      1355.0|  1347.0|     -8.0|      0.0|             null|     0.0|           105.0|              100.0|    82.0|   522.0|         null|         null|     null|          null|               null|\n",
      "|2012-01-01|        MQ|             4074|   XNA| ORD|      1435.0|  1424.0|    -11.0|     9.0|    1433.0|   1557.0|    7.0|      1630.0|  1604.0|    -26.0|      0.0|             null|     0.0|           115.0|              100.0|    84.0|   522.0|         null|         null|     null|          null|               null|\n",
      "|2012-01-01|        MQ|             4075|   ORD| TVC|      1115.0|  1110.0|     -5.0|    14.0|    1124.0|   1308.0|    3.0|      1315.0|  1311.0|     -4.0|      0.0|             null|     0.0|            60.0|               61.0|    44.0|   224.0|         null|         null|     null|          null|               null|\n",
      "+----------+----------+-----------------+------+----+------------+--------+---------+--------+----------+---------+-------+------------+--------+---------+---------+-----------------+--------+----------------+-------------------+--------+--------+-------------+-------------+---------+--------------+-------------------+\n",
      "only showing top 20 rows\n",
      "\n"
     ]
    }
   ],
   "source": [
    "df.show()"
   ]
  },
  {
   "cell_type": "markdown",
   "id": "6bd8f540-eaa7-41bd-ab27-318baa408112",
   "metadata": {
    "tags": []
   },
   "source": [
    "GENERAL EVOLUTION OF DELAYS/IMMEDIACIES FOR DEPARTURES AND ARRIVALS"
   ]
  },
  {
   "cell_type": "code",
   "execution_count": 30,
   "id": "83be783c-6bb1-4595-89d2-73ed30f74a9e",
   "metadata": {},
   "outputs": [
    {
     "name": "stderr",
     "output_type": "stream",
     "text": [
      "[Stage 70:>                                                       (0 + 12) / 12]\r"
     ]
    },
    {
     "name": "stdout",
     "output_type": "stream",
     "text": [
      "+----+----------------------------+--------------------------------+--------------------------+------------------------------+\n",
      "|Year|AverageDepartureDelayPerYear|AverageDepartureImmediacyPerYear|AverageArrivalDelayPerYear|AverageArrivalImmediacyPerYear|\n",
      "+----+----------------------------+--------------------------------+--------------------------+------------------------------+\n",
      "|2012|          25.064444508406826|              -4.319753328392286|        28.104134902282805|           -11.559131542244033|\n",
      "|2013|          27.491661013175978|              -4.447244216159287|        30.017653221108908|           -11.230981537304695|\n",
      "+----+----------------------------+--------------------------------+--------------------------+------------------------------+\n",
      "\n"
     ]
    },
    {
     "name": "stderr",
     "output_type": "stream",
     "text": [
      "                                                                                \r"
     ]
    }
   ],
   "source": [
    "spark.sql(\"SELECT EXTRACT(year from FL_DATE) AS Year, AVG(IF(DEP_DELAY > -1, DEP_DELAY, NULL)) AS AverageDepartureDelayPerYear, AVG(IF(DEP_DELAY < 1, DEP_DELAY, NULL)) AS AverageDepartureImmediacyPerYear, AVG(IF(ARR_DELAY > -1, ARR_DELAY, NULL)) AS AverageArrivalDelayPerYear, AVG(IF(ARR_DELAY < 1, ARR_DELAY, NULL)) AS AverageArrivalImmediacyPerYear \\\n",
    "    FROM airlinedelay \\\n",
    "    GROUP BY Year\") \\\n",
    "    .show()"
   ]
  },
  {
   "cell_type": "markdown",
   "id": "0b866f42-e0a4-4cb6-af10-116aac56421d",
   "metadata": {},
   "source": [
    "AVERAGE DEPARTURE/ARRIVAL DELAYS AND IMMEDIACIES FOR EACH CARRIER"
   ]
  },
  {
   "cell_type": "code",
   "execution_count": 33,
   "id": "704f4ef8-3641-4ded-9240-99a016d7bf53",
   "metadata": {},
   "outputs": [
    {
     "name": "stderr",
     "output_type": "stream",
     "text": [
      "[Stage 79:>                                                       (0 + 12) / 12]\r"
     ]
    },
    {
     "name": "stdout",
     "output_type": "stream",
     "text": [
      "+-------+----------------------------+--------------------------------+--------------------------+------------------------------+\n",
      "|Carrier|AverageDepartureDelayPerYear|AverageDepartureImmediacyPerYear|AverageArrivalDelayPerYear|AverageArrivalImmediacyPerYear|\n",
      "+-------+----------------------------+--------------------------------+--------------------------+------------------------------+\n",
      "|     9E|           36.53694558651262|              -5.307216630484836|        33.862480182668435|           -13.048573532213304|\n",
      "|     AA|          27.668853203873958|              -4.157916455312187|        30.842636470073337|           -12.191846663345155|\n",
      "|     AS|            21.7290827904253|              -6.230512677614042|        20.253859198604584|           -12.419562507973582|\n",
      "|     B6|           34.15038997330664|              -5.165645598285414|         35.70338399042472|           -12.823157498410488|\n",
      "|     DL|          24.294510015871627|             -3.7388303717402374|        27.184041598694943|           -12.236330897338531|\n",
      "|     EV|           39.05116105592317|             -5.0948211512133526|          39.6189007272226|            -12.01802095686637|\n",
      "|     F9|          24.363127600299457|              -4.690959669611892|         25.66687318806696|            -8.302978095003692|\n",
      "|     FL|           23.84167698310999|              -4.815042978349587|         24.70585230291389|            -10.73044685514701|\n",
      "|     HA|          13.822222824173146|              -4.933697556597015|        11.812156428703192|            -6.191259138584688|\n",
      "|     MQ|           33.24296246142313|              -5.169871539269242|         33.57052030368462|           -11.299689048576546|\n",
      "|     OO|          29.426027794870603|              -5.259423231515991|        27.657411214839122|           -10.254231947645138|\n",
      "|     UA|          25.456448537178424|              -3.786641419014845|         32.71282423522018|           -14.078050664855512|\n",
      "|     US|          21.198827146479708|              -4.660269213625367|        22.456935463191567|           -11.793741686682424|\n",
      "|     VX|           29.47636424296766|              -3.818513528685304|         34.65752894819542|           -12.703284414562424|\n",
      "|     WN|           18.91828597868232|             -2.3128823704726806|        23.745544383115643|             -9.27937893195116|\n",
      "|     YV|          31.052084047831357|              -5.491966502503154|         27.68848318992038|           -10.284839641463924|\n",
      "+-------+----------------------------+--------------------------------+--------------------------+------------------------------+\n",
      "\n"
     ]
    },
    {
     "name": "stderr",
     "output_type": "stream",
     "text": [
      "                                                                                \r"
     ]
    }
   ],
   "source": [
    "spark.sql(\"SELECT OP_CARRIER AS Carrier, AVG(IF(DEP_DELAY > -1, DEP_DELAY, NULL)) AS AverageDepartureDelayPerYear, AVG(IF(DEP_DELAY < 1, DEP_DELAY, NULL)) AS AverageDepartureImmediacyPerYear, AVG(IF(ARR_DELAY > -1, ARR_DELAY, NULL)) AS AverageArrivalDelayPerYear, AVG(IF(ARR_DELAY < 1, ARR_DELAY, NULL)) AS AverageArrivalImmediacyPerYear \\\n",
    "    FROM airlinedelay \\\n",
    "    GROUP BY OP_CARRIER \\\n",
    "    ORDER BY OP_CARRIER\") \\\n",
    "    .show(1000)"
   ]
  },
  {
   "cell_type": "markdown",
   "id": "5033a9ef-d8cd-4a81-ad39-b8cc4c2b3a69",
   "metadata": {},
   "source": [
    "EVOLUTION OF DELAYS/IMMEDIACIES FOR DEPARTURES AND ARRIVALS PER CARRIER FOR EACH YEAR"
   ]
  },
  {
   "cell_type": "code",
   "execution_count": 31,
   "id": "bf0d72cd-b926-49de-a500-ee99e9b98b28",
   "metadata": {},
   "outputs": [
    {
     "name": "stderr",
     "output_type": "stream",
     "text": [
      "[Stage 73:>                                                       (0 + 12) / 12]\r"
     ]
    },
    {
     "name": "stdout",
     "output_type": "stream",
     "text": [
      "+-------+----+----------------------------+--------------------------------+--------------------------+------------------------------+\n",
      "|Carrier|Year|AverageDepartureDelayPerYear|AverageDepartureImmediacyPerYear|AverageArrivalDelayPerYear|AverageArrivalImmediacyPerYear|\n",
      "+-------+----+----------------------------+--------------------------------+--------------------------+------------------------------+\n",
      "|     9E|2013|           36.53694558651262|              -5.307216630484836|        33.862480182668435|           -13.048573532213304|\n",
      "|     AA|2012|          28.027254955743352|               -4.14197884082297|        30.108259241108932|           -12.072422818092937|\n",
      "|     AA|2013|           27.35091324112733|              -4.174709671368422|        31.600118245454095|            -12.30414137999665|\n",
      "|     AS|2012|           23.53503184713376|              -6.184424957662059|         22.52250832019618|           -12.619993043881514|\n",
      "|     AS|2013|          20.017962364569474|              -6.274307427878134|        18.452601568068424|            -12.21270889004108|\n",
      "|     B6|2012|          33.138091781412335|              -5.122247064651306|        34.909089853456884|           -13.214130953946686|\n",
      "|     B6|2013|           35.01153007468015|              -5.209640205751822|        36.343388317630215|           -12.411096520026264|\n",
      "|     DL|2012|          23.005782729399783|             -3.7765570786590126|        25.781552929193595|           -12.652471183096436|\n",
      "|     DL|2013|           25.44164673297243|              -3.701244527841844|         28.40043179602778|           -11.816465941337809|\n",
      "|     EV|2012|           38.09566226396904|              -4.990900169697801|        39.293661404870754|           -12.305584876586872|\n",
      "|     EV|2013|           39.94591257020887|              -5.203667007035537|        39.904694378999096|            -11.70594820826287|\n",
      "|     F9|2012|          20.793017035734078|              -4.568071121199225|         22.15835390946502|            -8.270823662901645|\n",
      "|     F9|2013|          28.069059529764882|              -4.823186709746356|         29.13510309398173|            -8.339271160787053|\n",
      "|     FL|2012|          23.482894328028447|              -5.031996432287795|         22.63499743837878|            -10.88739432476915|\n",
      "|     FL|2013|           24.10086663757092|              -4.455969767350313|        26.606863846575916|           -10.493216105505045|\n",
      "|     HA|2012|          13.447992607043844|              -4.698241565196424|        11.608392358875296|            -6.021508385471845|\n",
      "|     HA|2013|          14.240208727564655|               -5.17022491349481|        12.029098110907983|            -6.363115716193791|\n",
      "|     MQ|2012|          30.613687434793075|              -5.228415277810798|        30.418700434579783|           -11.721188953892625|\n",
      "|     MQ|2013|            35.4113033550458|               -5.09564896310586|         36.19020555178589|            -10.74941841564177|\n",
      "|     OO|2012|          27.343121168825185|              -5.105971045306668|        26.316668123779667|           -10.226784111927042|\n",
      "|     OO|2013|          31.540955144254394|              -5.410881453983348|         28.94026075421943|           -10.282116156877962|\n",
      "|     UA|2012|          25.116775841674702|              -3.608927185949733|          32.4116598766311|            -13.95366535596749|\n",
      "|     UA|2013|          25.847071554585185|             -3.9557711886213367|         33.05287778365539|           -14.201868946300964|\n",
      "|     US|2012|          19.617254960738762|              -4.711069111405703|        20.941832482244525|           -12.291910769377505|\n",
      "|     US|2013|           22.55758802741333|              -4.607502956855917|        23.686944194607086|           -11.250344126638604|\n",
      "|     VX|2012|          29.214608142384247|              -3.792944872893459|        34.123742303649195|            -12.94763811497214|\n",
      "|     VX|2013|          29.722910592808553|              -3.843210285272858|         35.15605423094904|           -12.465631808278868|\n",
      "|     WN|2012|          17.664246007997402|             -2.3224636981794253|        23.272676715070098|            -9.647771701517708|\n",
      "|     WN|2013|          20.040853531772896|             -2.3011882273823443|        24.119244340932795|            -8.834239134988747|\n",
      "|     YV|2012|          27.078702132658123|             -5.5762249916062645|         24.17058648407264|           -10.854781422305411|\n",
      "|     YV|2013|          34.148113495372726|              -5.402420082698403|        30.362487271081513|            -9.646772198237775|\n",
      "+-------+----+----------------------------+--------------------------------+--------------------------+------------------------------+\n",
      "\n"
     ]
    },
    {
     "name": "stderr",
     "output_type": "stream",
     "text": [
      "                                                                                \r"
     ]
    }
   ],
   "source": [
    "spark.sql(\"SELECT OP_CARRIER AS Carrier, EXTRACT(year from FL_DATE) AS Year, AVG(IF(DEP_DELAY > -1, DEP_DELAY, NULL)) AS AverageDepartureDelayPerYear, AVG(IF(DEP_DELAY < 1, DEP_DELAY, NULL)) AS AverageDepartureImmediacyPerYear, AVG(IF(ARR_DELAY > -1, ARR_DELAY, NULL)) AS AverageArrivalDelayPerYear, AVG(IF(ARR_DELAY < 1, ARR_DELAY, NULL)) AS AverageArrivalImmediacyPerYear \\\n",
    "    FROM airlinedelay \\\n",
    "    GROUP BY OP_CARRIER, Year  \\\n",
    "    ORDER BY OP_CARRIER, Year\") \\\n",
    "    .show(1000)"
   ]
  },
  {
   "cell_type": "code",
   "execution_count": null,
   "id": "9cabbe31-c90a-428e-a8e9-5274d492aab2",
   "metadata": {},
   "outputs": [],
   "source": []
  }
 ],
 "metadata": {
  "kernelspec": {
   "display_name": "Python 3 (ipykernel)",
   "language": "python",
   "name": "python3"
  },
  "language_info": {
   "codemirror_mode": {
    "name": "ipython",
    "version": 3
   },
   "file_extension": ".py",
   "mimetype": "text/x-python",
   "name": "python",
   "nbconvert_exporter": "python",
   "pygments_lexer": "ipython3",
   "version": "3.8.10"
  }
 },
 "nbformat": 4,
 "nbformat_minor": 5
}
